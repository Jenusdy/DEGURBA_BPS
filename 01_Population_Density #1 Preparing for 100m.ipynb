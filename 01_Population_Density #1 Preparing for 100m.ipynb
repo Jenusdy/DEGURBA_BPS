{
 "cells": [
  {
   "cell_type": "code",
   "execution_count": 1,
   "id": "f6300764",
   "metadata": {},
   "outputs": [
    {
     "name": "stderr",
     "output_type": "stream",
     "text": [
      "/home/jupyter-peta_admin/.local/lib/python3.8/site-packages/geopandas/_compat.py:112: UserWarning: The Shapely GEOS version (3.10.2-CAPI-1.16.0) is incompatible with the GEOS version PyGEOS was compiled with (3.10.1-CAPI-1.16.0). Conversions between both will be slow.\n",
      "  warnings.warn(\n"
     ]
    }
   ],
   "source": [
    "import pandas as pd\n",
    "\n",
    "import geopandas as gpd\n",
    "from glob import glob"
   ]
  },
  {
   "cell_type": "code",
   "execution_count": 3,
   "id": "f0432d92",
   "metadata": {},
   "outputs": [],
   "source": [
    "kdprov = '21'"
   ]
  },
  {
   "cell_type": "code",
   "execution_count": 4,
   "id": "f8fc1325",
   "metadata": {},
   "outputs": [],
   "source": [
    "# open data sp\n",
    "data_peta_w_ruta = gpd.read_file(\"data/output/0_raster_data_desa/desa_pend_rasterize_\"+kdprov+\".gpkg\").to_crs('ESRI:54009')#.area\n",
    "\n",
    "#open built-up\n",
    "data_builtup=gpd.read_file(\"data/input/GHSL Data/2020/gpkg/ghs_built_\"+kdprov+\"_nonzero.shp\")#.to_crs(('ESRI:54009'))\n",
    "data_builtup['DN']=data_builtup.value\n",
    "#open grid\n",
    "#grid=gpd.read_file('data/input/grid_'+kdprov+'.gpkg').reset_index()#.to_crs(('ESRI:54009'))"
   ]
  },
  {
   "cell_type": "code",
   "execution_count": 5,
   "id": "63141b9e",
   "metadata": {},
   "outputs": [
    {
     "data": {
      "text/plain": [
       "2059387"
      ]
     },
     "execution_count": 5,
     "metadata": {},
     "output_type": "execute_result"
    }
   ],
   "source": [
    "data_peta_w_ruta.pop2020.sum()"
   ]
  },
  {
   "cell_type": "code",
   "execution_count": 6,
   "id": "5252ad3f",
   "metadata": {
    "scrolled": true
   },
   "outputs": [
    {
     "name": "stderr",
     "output_type": "stream",
     "text": [
      "/home/jupyter-peta_admin/.local/lib/python3.8/site-packages/geopandas/geodataframe.py:2072: UserWarning: CRS mismatch between the CRS of left geometries and the CRS of right geometries.\n",
      "Use `to_crs()` to reproject one of the input geometries to match the CRS of the other.\n",
      "\n",
      "Left CRS: None\n",
      "Right CRS: ESRI:54009\n",
      "\n",
      "  return geopandas.sjoin(left_df=self, right_df=df, *args, **kwargs)\n"
     ]
    },
    {
     "data": {
      "text/plain": [
       "(833755, 9)"
      ]
     },
     "execution_count": 6,
     "metadata": {},
     "output_type": "execute_result"
    }
   ],
   "source": [
    "data_builtup['centroid'] = data_builtup.centroid\n",
    "data_builtup['polygon'] = data_builtup['geometry']\n",
    "data_builtup.crs='ESRI:54009'\n",
    "data_peta_w_ruta.crs='ESRI:54009'\n",
    "data_builtup = data_builtup.loc[:,['DN','centroid','polygon']].set_geometry(\"centroid\").sjoin(data_peta_w_ruta)\n",
    "data_builtup['TOTAL_PEND']=data_builtup['pop2020']\n",
    "# data_builtup = data_builtup.loc[:,['DN','geometry']].sjoin(data_peta_w_ruta)\n",
    "data_builtup.shape"
   ]
  },
  {
   "cell_type": "code",
   "execution_count": 7,
   "id": "fc5a81a3",
   "metadata": {},
   "outputs": [],
   "source": [
    "data_builtup['p_area'] = data_builtup['DN_left'] / data_builtup.groupby('iddesa').DN_left.transform('sum')\n",
    "data_builtup['j_pend'] = list(data_builtup['p_area']*data_builtup['TOTAL_PEND'])\n",
    "\n",
    "# data_builtup[['DN_left', 'geometry', 'iddesa','TOTAL_PEND', 'p_area','j_pend']].to_file(\"data/input/grid_pop_\"+kdprov+\"_100m.gpkg\", driver=\"GPKG\")\n",
    "data_builtup[['DN_left', 'centroid', 'iddesa','TOTAL_PEND', 'p_area','j_pend']].to_file(\"data/temp/grid_pop_\"+kdprov+\"_100m.gpkg\", driver=\"GPKG\")"
   ]
  },
  {
   "cell_type": "code",
   "execution_count": 8,
   "id": "5800231f",
   "metadata": {},
   "outputs": [],
   "source": [
    "data_=data_builtup[['DN_left', 'polygon', 'iddesa','TOTAL_PEND', 'p_area','j_pend']].set_geometry(\"polygon\")\n",
    "data_.crs='ESRI:54009'\n",
    "data_.to_file(\"data/output/1_population_density/grid_pop_\"+kdprov+\"_100m.gpkg\", driver=\"GPKG\")"
   ]
  },
  {
   "cell_type": "code",
   "execution_count": 9,
   "id": "1a9b14bc",
   "metadata": {},
   "outputs": [
    {
     "data": {
      "text/plain": [
       "2058442.9999999998"
      ]
     },
     "execution_count": 9,
     "metadata": {},
     "output_type": "execute_result"
    }
   ],
   "source": [
    "#data_builtup.index_right.nunique()\n",
    "data_builtup.j_pend.sum()"
   ]
  },
  {
   "cell_type": "code",
   "execution_count": 10,
   "id": "9a3cc93e",
   "metadata": {},
   "outputs": [
    {
     "data": {
      "text/html": [
       "<div>\n",
       "<style scoped>\n",
       "    .dataframe tbody tr th:only-of-type {\n",
       "        vertical-align: middle;\n",
       "    }\n",
       "\n",
       "    .dataframe tbody tr th {\n",
       "        vertical-align: top;\n",
       "    }\n",
       "\n",
       "    .dataframe thead th {\n",
       "        text-align: right;\n",
       "    }\n",
       "</style>\n",
       "<table border=\"1\" class=\"dataframe\">\n",
       "  <thead>\n",
       "    <tr style=\"text-align: right;\">\n",
       "      <th></th>\n",
       "      <th>DN_left</th>\n",
       "      <th>centroid</th>\n",
       "      <th>polygon</th>\n",
       "      <th>index_right</th>\n",
       "      <th>iddesa</th>\n",
       "      <th>DN_right</th>\n",
       "      <th>id</th>\n",
       "      <th>pop2020</th>\n",
       "      <th>TOTAL_PEND</th>\n",
       "      <th>p_area</th>\n",
       "      <th>j_pend</th>\n",
       "    </tr>\n",
       "  </thead>\n",
       "  <tbody>\n",
       "    <tr>\n",
       "      <th>0</th>\n",
       "      <td>0</td>\n",
       "      <td>POINT (10350350.000 134750.000)</td>\n",
       "      <td>POLYGON ((10350400.000 134700.000, 10350300.00...</td>\n",
       "      <td>67</td>\n",
       "      <td>2101034004</td>\n",
       "      <td>67.0</td>\n",
       "      <td>67.0</td>\n",
       "      <td>3134</td>\n",
       "      <td>3134</td>\n",
       "      <td>0.0</td>\n",
       "      <td>0.0</td>\n",
       "    </tr>\n",
       "    <tr>\n",
       "      <th>1</th>\n",
       "      <td>0</td>\n",
       "      <td>POINT (10350350.000 134650.000)</td>\n",
       "      <td>POLYGON ((10350400.000 134600.000, 10350300.00...</td>\n",
       "      <td>67</td>\n",
       "      <td>2101034004</td>\n",
       "      <td>67.0</td>\n",
       "      <td>67.0</td>\n",
       "      <td>3134</td>\n",
       "      <td>3134</td>\n",
       "      <td>0.0</td>\n",
       "      <td>0.0</td>\n",
       "    </tr>\n",
       "    <tr>\n",
       "      <th>2</th>\n",
       "      <td>0</td>\n",
       "      <td>POINT (10350350.000 134550.000)</td>\n",
       "      <td>POLYGON ((10350400.000 134500.000, 10350300.00...</td>\n",
       "      <td>67</td>\n",
       "      <td>2101034004</td>\n",
       "      <td>67.0</td>\n",
       "      <td>67.0</td>\n",
       "      <td>3134</td>\n",
       "      <td>3134</td>\n",
       "      <td>0.0</td>\n",
       "      <td>0.0</td>\n",
       "    </tr>\n",
       "    <tr>\n",
       "      <th>3</th>\n",
       "      <td>0</td>\n",
       "      <td>POINT (10350450.000 135250.000)</td>\n",
       "      <td>POLYGON ((10350500.000 135200.000, 10350400.00...</td>\n",
       "      <td>67</td>\n",
       "      <td>2101034004</td>\n",
       "      <td>67.0</td>\n",
       "      <td>67.0</td>\n",
       "      <td>3134</td>\n",
       "      <td>3134</td>\n",
       "      <td>0.0</td>\n",
       "      <td>0.0</td>\n",
       "    </tr>\n",
       "    <tr>\n",
       "      <th>4</th>\n",
       "      <td>0</td>\n",
       "      <td>POINT (10350450.000 135150.000)</td>\n",
       "      <td>POLYGON ((10350500.000 135100.000, 10350400.00...</td>\n",
       "      <td>67</td>\n",
       "      <td>2101034004</td>\n",
       "      <td>67.0</td>\n",
       "      <td>67.0</td>\n",
       "      <td>3134</td>\n",
       "      <td>3134</td>\n",
       "      <td>0.0</td>\n",
       "      <td>0.0</td>\n",
       "    </tr>\n",
       "    <tr>\n",
       "      <th>...</th>\n",
       "      <td>...</td>\n",
       "      <td>...</td>\n",
       "      <td>...</td>\n",
       "      <td>...</td>\n",
       "      <td>...</td>\n",
       "      <td>...</td>\n",
       "      <td>...</td>\n",
       "      <td>...</td>\n",
       "      <td>...</td>\n",
       "      <td>...</td>\n",
       "      <td>...</td>\n",
       "    </tr>\n",
       "    <tr>\n",
       "      <th>839586</th>\n",
       "      <td>0</td>\n",
       "      <td>POINT (10933750.000 320150.000)</td>\n",
       "      <td>POLYGON ((10933800.000 320100.000, 10933700.00...</td>\n",
       "      <td>195</td>\n",
       "      <td>2103062002</td>\n",
       "      <td>196.0</td>\n",
       "      <td>196.0</td>\n",
       "      <td>696</td>\n",
       "      <td>696</td>\n",
       "      <td>0.0</td>\n",
       "      <td>0.0</td>\n",
       "    </tr>\n",
       "    <tr>\n",
       "      <th>839587</th>\n",
       "      <td>0</td>\n",
       "      <td>POINT (10933750.000 320050.000)</td>\n",
       "      <td>POLYGON ((10933800.000 320000.000, 10933700.00...</td>\n",
       "      <td>195</td>\n",
       "      <td>2103062002</td>\n",
       "      <td>196.0</td>\n",
       "      <td>196.0</td>\n",
       "      <td>696</td>\n",
       "      <td>696</td>\n",
       "      <td>0.0</td>\n",
       "      <td>0.0</td>\n",
       "    </tr>\n",
       "    <tr>\n",
       "      <th>839588</th>\n",
       "      <td>0</td>\n",
       "      <td>POINT (10933750.000 319950.000)</td>\n",
       "      <td>POLYGON ((10933800.000 319900.000, 10933700.00...</td>\n",
       "      <td>195</td>\n",
       "      <td>2103062002</td>\n",
       "      <td>196.0</td>\n",
       "      <td>196.0</td>\n",
       "      <td>696</td>\n",
       "      <td>696</td>\n",
       "      <td>0.0</td>\n",
       "      <td>0.0</td>\n",
       "    </tr>\n",
       "    <tr>\n",
       "      <th>839589</th>\n",
       "      <td>0</td>\n",
       "      <td>POINT (10933750.000 319850.000)</td>\n",
       "      <td>POLYGON ((10933800.000 319800.000, 10933700.00...</td>\n",
       "      <td>195</td>\n",
       "      <td>2103062002</td>\n",
       "      <td>196.0</td>\n",
       "      <td>196.0</td>\n",
       "      <td>696</td>\n",
       "      <td>696</td>\n",
       "      <td>0.0</td>\n",
       "      <td>0.0</td>\n",
       "    </tr>\n",
       "    <tr>\n",
       "      <th>839590</th>\n",
       "      <td>0</td>\n",
       "      <td>POINT (10933850.000 327050.000)</td>\n",
       "      <td>POLYGON ((10933900.000 327000.000, 10933800.00...</td>\n",
       "      <td>195</td>\n",
       "      <td>2103062002</td>\n",
       "      <td>196.0</td>\n",
       "      <td>196.0</td>\n",
       "      <td>696</td>\n",
       "      <td>696</td>\n",
       "      <td>0.0</td>\n",
       "      <td>0.0</td>\n",
       "    </tr>\n",
       "  </tbody>\n",
       "</table>\n",
       "<p>833755 rows × 11 columns</p>\n",
       "</div>"
      ],
      "text/plain": [
       "        DN_left                         centroid  \\\n",
       "0             0  POINT (10350350.000 134750.000)   \n",
       "1             0  POINT (10350350.000 134650.000)   \n",
       "2             0  POINT (10350350.000 134550.000)   \n",
       "3             0  POINT (10350450.000 135250.000)   \n",
       "4             0  POINT (10350450.000 135150.000)   \n",
       "...         ...                              ...   \n",
       "839586        0  POINT (10933750.000 320150.000)   \n",
       "839587        0  POINT (10933750.000 320050.000)   \n",
       "839588        0  POINT (10933750.000 319950.000)   \n",
       "839589        0  POINT (10933750.000 319850.000)   \n",
       "839590        0  POINT (10933850.000 327050.000)   \n",
       "\n",
       "                                                  polygon  index_right  \\\n",
       "0       POLYGON ((10350400.000 134700.000, 10350300.00...           67   \n",
       "1       POLYGON ((10350400.000 134600.000, 10350300.00...           67   \n",
       "2       POLYGON ((10350400.000 134500.000, 10350300.00...           67   \n",
       "3       POLYGON ((10350500.000 135200.000, 10350400.00...           67   \n",
       "4       POLYGON ((10350500.000 135100.000, 10350400.00...           67   \n",
       "...                                                   ...          ...   \n",
       "839586  POLYGON ((10933800.000 320100.000, 10933700.00...          195   \n",
       "839587  POLYGON ((10933800.000 320000.000, 10933700.00...          195   \n",
       "839588  POLYGON ((10933800.000 319900.000, 10933700.00...          195   \n",
       "839589  POLYGON ((10933800.000 319800.000, 10933700.00...          195   \n",
       "839590  POLYGON ((10933900.000 327000.000, 10933800.00...          195   \n",
       "\n",
       "            iddesa  DN_right     id  pop2020  TOTAL_PEND  p_area  j_pend  \n",
       "0       2101034004      67.0   67.0     3134        3134     0.0     0.0  \n",
       "1       2101034004      67.0   67.0     3134        3134     0.0     0.0  \n",
       "2       2101034004      67.0   67.0     3134        3134     0.0     0.0  \n",
       "3       2101034004      67.0   67.0     3134        3134     0.0     0.0  \n",
       "4       2101034004      67.0   67.0     3134        3134     0.0     0.0  \n",
       "...            ...       ...    ...      ...         ...     ...     ...  \n",
       "839586  2103062002     196.0  196.0      696         696     0.0     0.0  \n",
       "839587  2103062002     196.0  196.0      696         696     0.0     0.0  \n",
       "839588  2103062002     196.0  196.0      696         696     0.0     0.0  \n",
       "839589  2103062002     196.0  196.0      696         696     0.0     0.0  \n",
       "839590  2103062002     196.0  196.0      696         696     0.0     0.0  \n",
       "\n",
       "[833755 rows x 11 columns]"
      ]
     },
     "execution_count": 10,
     "metadata": {},
     "output_type": "execute_result"
    }
   ],
   "source": [
    "data_builtup"
   ]
  }
 ],
 "metadata": {
  "kernelspec": {
   "display_name": "Python 3 (ipykernel)",
   "language": "python",
   "name": "python3"
  },
  "language_info": {
   "codemirror_mode": {
    "name": "ipython",
    "version": 3
   },
   "file_extension": ".py",
   "mimetype": "text/x-python",
   "name": "python",
   "nbconvert_exporter": "python",
   "pygments_lexer": "ipython3",
   "version": "3.8.12"
  }
 },
 "nbformat": 4,
 "nbformat_minor": 5
}
