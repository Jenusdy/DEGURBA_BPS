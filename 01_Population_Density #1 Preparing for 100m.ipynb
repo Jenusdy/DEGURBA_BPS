{
 "cells": [
  {
   "cell_type": "code",
   "execution_count": 1,
   "id": "f6300764",
   "metadata": {},
   "outputs": [
    {
     "name": "stderr",
     "output_type": "stream",
     "text": [
      "/home/jupyter-peta_admin/.local/lib/python3.8/site-packages/geopandas/_compat.py:112: UserWarning: The Shapely GEOS version (3.10.2-CAPI-1.16.0) is incompatible with the GEOS version PyGEOS was compiled with (3.10.1-CAPI-1.16.0). Conversions between both will be slow.\n",
      "  warnings.warn(\n"
     ]
    }
   ],
   "source": [
    "import pandas as pd\n",
    "\n",
    "import geopandas as gpd\n",
    "from glob import glob"
   ]
  },
  {
   "cell_type": "code",
   "execution_count": 2,
   "id": "f0432d92",
   "metadata": {},
   "outputs": [],
   "source": [
    "kdprov = '19'"
   ]
  },
  {
   "cell_type": "code",
   "execution_count": 3,
   "id": "f8fc1325",
   "metadata": {},
   "outputs": [],
   "source": [
    "# open data sp\n",
    "data_peta_w_ruta = gpd.read_file(\"data/output/0_raster_data_desa/desa_pend_rasterize_\"+kdprov+\".gpkg\").to_crs('ESRI:54009')#.area\n",
    "\n",
    "#open built-up\n",
    "data_builtup=gpd.read_file(\"data/input/GHSL Data/2020/gpkg/ghs_built_\"+kdprov+\"_nonzero.shp\")#.to_crs(('ESRI:54009'))\n",
    "data_builtup['DN']=data_builtup.value\n",
    "#open grid\n",
    "#grid=gpd.read_file('data/input/grid_'+kdprov+'.gpkg').reset_index()#.to_crs(('ESRI:54009'))"
   ]
  },
  {
   "cell_type": "code",
   "execution_count": 5,
   "id": "63141b9e",
   "metadata": {},
   "outputs": [
    {
     "data": {
      "text/plain": [
       "1447772"
      ]
     },
     "execution_count": 5,
     "metadata": {},
     "output_type": "execute_result"
    }
   ],
   "source": [
    "data_peta_w_ruta.pop2020.sum()"
   ]
  },
  {
   "cell_type": "code",
   "execution_count": 6,
   "id": "5252ad3f",
   "metadata": {
    "scrolled": true
   },
   "outputs": [
    {
     "name": "stderr",
     "output_type": "stream",
     "text": [
      "/home/jupyter-peta_admin/.local/lib/python3.8/site-packages/geopandas/geodataframe.py:2072: UserWarning: CRS mismatch between the CRS of left geometries and the CRS of right geometries.\n",
      "Use `to_crs()` to reproject one of the input geometries to match the CRS of the other.\n",
      "\n",
      "Left CRS: None\n",
      "Right CRS: ESRI:54009\n",
      "\n",
      "  return geopandas.sjoin(left_df=self, right_df=df, *args, **kwargs)\n"
     ]
    },
    {
     "data": {
      "text/plain": [
       "(1676437, 9)"
      ]
     },
     "execution_count": 6,
     "metadata": {},
     "output_type": "execute_result"
    }
   ],
   "source": [
    "data_builtup['centroid'] = data_builtup.centroid\n",
    "data_builtup['polygon'] = data_builtup['geometry']\n",
    "data_builtup.crs='ESRI:54009'\n",
    "data_peta_w_ruta.crs='ESRI:54009'\n",
    "data_builtup = data_builtup.loc[:,['DN','centroid','polygon']].set_geometry(\"centroid\").sjoin(data_peta_w_ruta)\n",
    "data_builtup['TOTAL_PEND']=data_builtup['pop2020']\n",
    "# data_builtup = data_builtup.loc[:,['DN','geometry']].sjoin(data_peta_w_ruta)\n",
    "data_builtup.shape"
   ]
  },
  {
   "cell_type": "code",
   "execution_count": null,
   "id": "fc5a81a3",
   "metadata": {},
   "outputs": [],
   "source": [
    "data_builtup['p_area'] = data_builtup['DN_left'] / data_builtup.groupby('iddesa').DN_left.transform('sum')\n",
    "data_builtup['j_pend'] = list(data_builtup['p_area']*data_builtup['TOTAL_PEND'])\n",
    "\n",
    "# data_builtup[['DN_left', 'geometry', 'iddesa','TOTAL_PEND', 'p_area','j_pend']].to_file(\"data/input/grid_pop_\"+kdprov+\"_100m.gpkg\", driver=\"GPKG\")\n",
    "data_builtup[['DN_left', 'centroid', 'iddesa','TOTAL_PEND', 'p_area','j_pend']].to_file(\"data/temp/grid_pop_\"+kdprov+\"_100m.gpkg\", driver=\"GPKG\")"
   ]
  },
  {
   "cell_type": "code",
   "execution_count": null,
   "id": "5800231f",
   "metadata": {},
   "outputs": [],
   "source": [
    "data_=data_builtup[['DN_left', 'polygon', 'iddesa','TOTAL_PEND', 'p_area','j_pend']].set_geometry(\"polygon\")\n",
    "data_.crs='ESRI:54009'\n",
    "data_.to_file(\"data/output/1_population_density/grid_pop_\"+kdprov+\"_100m.gpkg\", driver=\"GPKG\")"
   ]
  },
  {
   "cell_type": "code",
   "execution_count": null,
   "id": "1a9b14bc",
   "metadata": {},
   "outputs": [],
   "source": [
    "#data_builtup.index_right.nunique()\n",
    "data_builtup.j_pend.sum()"
   ]
  },
  {
   "cell_type": "code",
   "execution_count": null,
   "id": "9a3cc93e",
   "metadata": {},
   "outputs": [],
   "source": [
    "data_builtup"
   ]
  }
 ],
 "metadata": {
  "kernelspec": {
   "display_name": "Python 3 (ipykernel)",
   "language": "python",
   "name": "python3"
  },
  "language_info": {
   "codemirror_mode": {
    "name": "ipython",
    "version": 3
   },
   "file_extension": ".py",
   "mimetype": "text/x-python",
   "name": "python",
   "nbconvert_exporter": "python",
   "pygments_lexer": "ipython3",
   "version": "3.8.12"
  }
 },
 "nbformat": 4,
 "nbformat_minor": 5
}
