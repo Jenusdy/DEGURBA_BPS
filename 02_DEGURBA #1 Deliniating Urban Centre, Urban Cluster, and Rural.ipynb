{
 "cells": [
  {
   "cell_type": "code",
   "execution_count": 1,
   "id": "a1f90264",
   "metadata": {},
   "outputs": [
    {
     "name": "stderr",
     "output_type": "stream",
     "text": [
      "/home/jupyter-peta_admin/.local/lib/python3.8/site-packages/geopandas/_compat.py:112: UserWarning: The Shapely GEOS version (3.10.2-CAPI-1.16.0) is incompatible with the GEOS version PyGEOS was compiled with (3.10.1-CAPI-1.16.0). Conversions between both will be slow.\n",
      "  warnings.warn(\n"
     ]
    }
   ],
   "source": [
    "import geopandas as gpd"
   ]
  },
  {
   "cell_type": "code",
   "execution_count": 2,
   "id": "43ef069e",
   "metadata": {},
   "outputs": [],
   "source": [
    "kdprov='51'"
   ]
  },
  {
   "cell_type": "code",
   "execution_count": 3,
   "id": "9a106f5a",
   "metadata": {},
   "outputs": [],
   "source": [
    "data_gpd=gpd.read_file(\"data/output/1_population_density/grid_pop_\"+kdprov+\"_1km_w_bu.gpkg\"\n",
    "                      ).query('(pop>0) or (p_builtup>0)').reset_index()"
   ]
  },
  {
   "cell_type": "code",
   "execution_count": 4,
   "id": "4a9b77c1",
   "metadata": {},
   "outputs": [],
   "source": [
    "data_gpd['Name']=data_gpd.index.astype(str).str.zfill(7)"
   ]
  },
  {
   "cell_type": "code",
   "execution_count": 5,
   "id": "bad3427b",
   "metadata": {},
   "outputs": [],
   "source": [
    "##Check cluster centre\n",
    "data_cl_centre=data_gpd.query('pop>=1500')"
   ]
  },
  {
   "cell_type": "code",
   "execution_count": 6,
   "id": "15100251",
   "metadata": {},
   "outputs": [],
   "source": [
    "from pysal.lib import weights"
   ]
  },
  {
   "cell_type": "code",
   "execution_count": 7,
   "id": "6705061a",
   "metadata": {},
   "outputs": [
    {
     "name": "stderr",
     "output_type": "stream",
     "text": [
      "/home/jupyter-peta_admin/.local/lib/python3.8/site-packages/libpysal/weights/weights.py:172: UserWarning: The weights matrix is not fully connected: \n",
      " There are 154 disconnected components.\n",
      " There are 98 islands with ids: 2, 3, 18, 19, 25, 31, 36, 47, 48, 49, 50, 52, 60, 67, 85, 89, 90, 91, 92, 93, 94, 95, 97, 99, 101, 109, 110, 115, 128, 144, 157, 191, 221, 253, 288, 290, 327, 376, 377, 378, 379, 402, 409, 435, 455, 456, 457, 482, 501, 502, 551, 565, 574, 576, 586, 594, 597, 598, 599, 617, 624, 625, 634, 641, 646, 655, 656, 662, 669, 682, 691, 697, 700, 703, 704, 706, 708, 710, 714, 715, 722, 725, 728, 735, 737, 739, 740, 741, 748, 754, 755, 760, 765, 766, 767, 773, 774, 775.\n",
      "  warnings.warn(message)\n",
      "/home/jupyter-peta_admin/.local/lib/python3.8/site-packages/geopandas/geodataframe.py:1456: SettingWithCopyWarning: \n",
      "A value is trying to be set on a copy of a slice from a DataFrame.\n",
      "Try using .loc[row_indexer,col_indexer] = value instead\n",
      "\n",
      "See the caveats in the documentation: https://pandas.pydata.org/pandas-docs/stable/user_guide/indexing.html#returning-a-view-versus-a-copy\n",
      "  super().__setitem__(key, value)\n"
     ]
    }
   ],
   "source": [
    "wr = weights.contiguity.Rook.from_dataframe(data_cl_centre)\n",
    "data_cl_centre['cluster_label']=wr.component_labels"
   ]
  },
  {
   "cell_type": "code",
   "execution_count": 8,
   "id": "86c43451",
   "metadata": {},
   "outputs": [],
   "source": [
    "import pandas as pd"
   ]
  },
  {
   "cell_type": "code",
   "execution_count": 9,
   "id": "7fddfb84",
   "metadata": {},
   "outputs": [],
   "source": [
    "tab_pop_u_centre_cand=pd.pivot_table(data_cl_centre,\n",
    "                                     index='cluster_label',values='pop',aggfunc='sum')"
   ]
  },
  {
   "cell_type": "code",
   "execution_count": 10,
   "id": "b678b19b",
   "metadata": {},
   "outputs": [],
   "source": [
    "list_u_centre=tab_pop_u_centre_cand.query('pop>50000').reset_index().cluster_label.tolist()"
   ]
  },
  {
   "cell_type": "code",
   "execution_count": 11,
   "id": "7b46de57",
   "metadata": {},
   "outputs": [],
   "source": [
    "u_centre=data_cl_centre.query('cluster_label in @list_u_centre')"
   ]
  },
  {
   "cell_type": "code",
   "execution_count": 12,
   "id": "e6bfcd86",
   "metadata": {},
   "outputs": [],
   "source": [
    "data_gpd['is_U_CENTRE']=data_gpd.Name.apply(lambda y: 1 if y in u_centre.Name.tolist() else 0)"
   ]
  },
  {
   "cell_type": "code",
   "execution_count": 13,
   "id": "73021115",
   "metadata": {},
   "outputs": [
    {
     "name": "stdout",
     "output_type": "stream",
     "text": [
      "N GRID WITH URBAN CENTRE: 497\n"
     ]
    },
    {
     "name": "stderr",
     "output_type": "stream",
     "text": [
      "/home/jupyter-peta_admin/.local/lib/python3.8/site-packages/libpysal/weights/weights.py:172: UserWarning: The weights matrix is not fully connected: \n",
      " There are 7 disconnected components.\n",
      " There is 1 island with id: 115.\n",
      "  warnings.warn(message)\n"
     ]
    },
    {
     "name": "stdout",
     "output_type": "stream",
     "text": [
      "=====================\n",
      "N GRID AFTER GAP FILLING: 560\n"
     ]
    },
    {
     "name": "stderr",
     "output_type": "stream",
     "text": [
      "/home/jupyter-peta_admin/.local/lib/python3.8/site-packages/libpysal/weights/weights.py:172: UserWarning: The weights matrix is not fully connected: \n",
      " There are 7 disconnected components.\n",
      " There is 1 island with id: 115.\n",
      "  warnings.warn(message)\n"
     ]
    },
    {
     "name": "stdout",
     "output_type": "stream",
     "text": [
      "=====================\n",
      "N GRID AFTER GAP FILLING: 585\n"
     ]
    },
    {
     "name": "stderr",
     "output_type": "stream",
     "text": [
      "/home/jupyter-peta_admin/.local/lib/python3.8/site-packages/libpysal/weights/weights.py:172: UserWarning: The weights matrix is not fully connected: \n",
      " There are 7 disconnected components.\n",
      " There is 1 island with id: 115.\n",
      "  warnings.warn(message)\n"
     ]
    },
    {
     "name": "stdout",
     "output_type": "stream",
     "text": [
      "=====================\n",
      "N GRID AFTER GAP FILLING: 596\n"
     ]
    },
    {
     "name": "stderr",
     "output_type": "stream",
     "text": [
      "/home/jupyter-peta_admin/.local/lib/python3.8/site-packages/libpysal/weights/weights.py:172: UserWarning: The weights matrix is not fully connected: \n",
      " There are 7 disconnected components.\n",
      " There is 1 island with id: 115.\n",
      "  warnings.warn(message)\n"
     ]
    },
    {
     "name": "stdout",
     "output_type": "stream",
     "text": [
      "=====================\n",
      "N GRID AFTER GAP FILLING: 603\n"
     ]
    },
    {
     "name": "stderr",
     "output_type": "stream",
     "text": [
      "/home/jupyter-peta_admin/.local/lib/python3.8/site-packages/libpysal/weights/weights.py:172: UserWarning: The weights matrix is not fully connected: \n",
      " There are 7 disconnected components.\n",
      " There is 1 island with id: 115.\n",
      "  warnings.warn(message)\n"
     ]
    },
    {
     "name": "stdout",
     "output_type": "stream",
     "text": [
      "=====================\n",
      "N GRID AFTER GAP FILLING: 611\n"
     ]
    },
    {
     "name": "stderr",
     "output_type": "stream",
     "text": [
      "/home/jupyter-peta_admin/.local/lib/python3.8/site-packages/libpysal/weights/weights.py:172: UserWarning: The weights matrix is not fully connected: \n",
      " There are 7 disconnected components.\n",
      " There is 1 island with id: 115.\n",
      "  warnings.warn(message)\n"
     ]
    },
    {
     "name": "stdout",
     "output_type": "stream",
     "text": [
      "=====================\n",
      "N GRID AFTER GAP FILLING: 612\n"
     ]
    },
    {
     "name": "stderr",
     "output_type": "stream",
     "text": [
      "/home/jupyter-peta_admin/.local/lib/python3.8/site-packages/libpysal/weights/weights.py:172: UserWarning: The weights matrix is not fully connected: \n",
      " There are 7 disconnected components.\n",
      " There is 1 island with id: 115.\n",
      "  warnings.warn(message)\n"
     ]
    },
    {
     "name": "stdout",
     "output_type": "stream",
     "text": [
      "=====================\n",
      "N GRID AFTER GAP FILLING: 612\n",
      "==================\n",
      "N GRID COMPLETED AFTER GAP FILLING 612\n"
     ]
    }
   ],
   "source": [
    "#Filling gap of urbancentre => check 8 contiguity (queen)\n",
    "init_u_centre=data_gpd.is_U_CENTRE.sum()\n",
    "u_centre_up=0\n",
    "print('N GRID WITH URBAN CENTRE:',init_u_centre)\n",
    "while u_centre_up!=init_u_centre:\n",
    "    init_u_centre=data_gpd.is_U_CENTRE.sum()\n",
    "    wr = weights.contiguity.Queen.from_dataframe(data_gpd)\n",
    "    data_gpd['neighbors']=wr.neighbors.values()\n",
    "    temp=data_gpd.copy()\n",
    "    for index, row in data_gpd.iterrows():\n",
    "        if row['is_U_CENTRE']!=1:\n",
    "            y_urbancentre=0\n",
    "            if len(row['neighbors'])>4:\n",
    "                for y in row['neighbors']:\n",
    "                    if temp.loc[y,'is_U_CENTRE']==1:\n",
    "                        y_urbancentre+=1\n",
    "                if y_urbancentre>4:\n",
    "                    data_gpd.at[index,'is_U_CENTRE']=1\n",
    "    u_centre_up=data_gpd.is_U_CENTRE.sum()\n",
    "    print('=====================')\n",
    "    print('N GRID AFTER GAP FILLING:', u_centre_up)\n",
    "print('==================')\n",
    "u_centre=data_gpd.is_U_CENTRE.sum()\n",
    "print('N GRID COMPLETED AFTER GAP FILLING',u_centre)"
   ]
  },
  {
   "cell_type": "code",
   "execution_count": 14,
   "id": "7708fa75",
   "metadata": {},
   "outputs": [],
   "source": [
    "data_gpd['is_U_CENTRE_w_BU']=data_gpd.apply(lambda y:1 if (y.p_builtup>0.5)or(y.is_U_CENTRE==1) else 0,axis=1)"
   ]
  },
  {
   "cell_type": "code",
   "execution_count": 15,
   "id": "3618694e",
   "metadata": {},
   "outputs": [],
   "source": [
    "data_gpd=data_gpd[['Name','pop','geometry','p_builtup','is_U_CENTRE_w_BU']]"
   ]
  },
  {
   "cell_type": "code",
   "execution_count": 16,
   "id": "e4153436",
   "metadata": {},
   "outputs": [
    {
     "data": {
      "text/html": [
       "<div>\n",
       "<style scoped>\n",
       "    .dataframe tbody tr th:only-of-type {\n",
       "        vertical-align: middle;\n",
       "    }\n",
       "\n",
       "    .dataframe tbody tr th {\n",
       "        vertical-align: top;\n",
       "    }\n",
       "\n",
       "    .dataframe thead th {\n",
       "        text-align: right;\n",
       "    }\n",
       "</style>\n",
       "<table border=\"1\" class=\"dataframe\">\n",
       "  <thead>\n",
       "    <tr style=\"text-align: right;\">\n",
       "      <th></th>\n",
       "      <th>Name</th>\n",
       "      <th>pop</th>\n",
       "      <th>geometry</th>\n",
       "      <th>p_builtup</th>\n",
       "      <th>is_U_CENTRE_w_BU</th>\n",
       "    </tr>\n",
       "  </thead>\n",
       "  <tbody>\n",
       "    <tr>\n",
       "      <th>0</th>\n",
       "      <td>0000000</td>\n",
       "      <td>0</td>\n",
       "      <td>POLYGON ((11397600.000 -1008400.000, 11397600....</td>\n",
       "      <td>0.059174</td>\n",
       "      <td>0</td>\n",
       "    </tr>\n",
       "    <tr>\n",
       "      <th>1</th>\n",
       "      <td>0000001</td>\n",
       "      <td>0</td>\n",
       "      <td>POLYGON ((11397600.000 -1009400.000, 11397600....</td>\n",
       "      <td>0.307061</td>\n",
       "      <td>0</td>\n",
       "    </tr>\n",
       "    <tr>\n",
       "      <th>2</th>\n",
       "      <td>0000002</td>\n",
       "      <td>0</td>\n",
       "      <td>POLYGON ((11397600.000 -1010400.000, 11397600....</td>\n",
       "      <td>0.157641</td>\n",
       "      <td>0</td>\n",
       "    </tr>\n",
       "    <tr>\n",
       "      <th>3</th>\n",
       "      <td>0000003</td>\n",
       "      <td>0</td>\n",
       "      <td>POLYGON ((11397600.000 -1011400.000, 11397600....</td>\n",
       "      <td>0.009950</td>\n",
       "      <td>0</td>\n",
       "    </tr>\n",
       "    <tr>\n",
       "      <th>4</th>\n",
       "      <td>0000004</td>\n",
       "      <td>0</td>\n",
       "      <td>POLYGON ((11397600.000 -1012400.000, 11397600....</td>\n",
       "      <td>0.002261</td>\n",
       "      <td>0</td>\n",
       "    </tr>\n",
       "    <tr>\n",
       "      <th>...</th>\n",
       "      <td>...</td>\n",
       "      <td>...</td>\n",
       "      <td>...</td>\n",
       "      <td>...</td>\n",
       "      <td>...</td>\n",
       "    </tr>\n",
       "    <tr>\n",
       "      <th>5051</th>\n",
       "      <td>0005051</td>\n",
       "      <td>0</td>\n",
       "      <td>POLYGON ((11520600.000 -1034400.000, 11520600....</td>\n",
       "      <td>0.033995</td>\n",
       "      <td>0</td>\n",
       "    </tr>\n",
       "    <tr>\n",
       "      <th>5052</th>\n",
       "      <td>0005052</td>\n",
       "      <td>0</td>\n",
       "      <td>POLYGON ((11520600.000 -1035400.000, 11520600....</td>\n",
       "      <td>0.024955</td>\n",
       "      <td>0</td>\n",
       "    </tr>\n",
       "    <tr>\n",
       "      <th>5053</th>\n",
       "      <td>0005053</td>\n",
       "      <td>0</td>\n",
       "      <td>POLYGON ((11520600.000 -1036400.000, 11520600....</td>\n",
       "      <td>0.033803</td>\n",
       "      <td>0</td>\n",
       "    </tr>\n",
       "    <tr>\n",
       "      <th>5054</th>\n",
       "      <td>0005054</td>\n",
       "      <td>0</td>\n",
       "      <td>POLYGON ((11520600.000 -1037400.000, 11519600....</td>\n",
       "      <td>0.012341</td>\n",
       "      <td>0</td>\n",
       "    </tr>\n",
       "    <tr>\n",
       "      <th>5055</th>\n",
       "      <td>0005055</td>\n",
       "      <td>0</td>\n",
       "      <td>POLYGON ((11520600.000 -1038400.000, 11520600....</td>\n",
       "      <td>0.006118</td>\n",
       "      <td>0</td>\n",
       "    </tr>\n",
       "  </tbody>\n",
       "</table>\n",
       "<p>5056 rows × 5 columns</p>\n",
       "</div>"
      ],
      "text/plain": [
       "         Name  pop                                           geometry  \\\n",
       "0     0000000    0  POLYGON ((11397600.000 -1008400.000, 11397600....   \n",
       "1     0000001    0  POLYGON ((11397600.000 -1009400.000, 11397600....   \n",
       "2     0000002    0  POLYGON ((11397600.000 -1010400.000, 11397600....   \n",
       "3     0000003    0  POLYGON ((11397600.000 -1011400.000, 11397600....   \n",
       "4     0000004    0  POLYGON ((11397600.000 -1012400.000, 11397600....   \n",
       "...       ...  ...                                                ...   \n",
       "5051  0005051    0  POLYGON ((11520600.000 -1034400.000, 11520600....   \n",
       "5052  0005052    0  POLYGON ((11520600.000 -1035400.000, 11520600....   \n",
       "5053  0005053    0  POLYGON ((11520600.000 -1036400.000, 11520600....   \n",
       "5054  0005054    0  POLYGON ((11520600.000 -1037400.000, 11519600....   \n",
       "5055  0005055    0  POLYGON ((11520600.000 -1038400.000, 11520600....   \n",
       "\n",
       "      p_builtup  is_U_CENTRE_w_BU  \n",
       "0      0.059174                 0  \n",
       "1      0.307061                 0  \n",
       "2      0.157641                 0  \n",
       "3      0.009950                 0  \n",
       "4      0.002261                 0  \n",
       "...         ...               ...  \n",
       "5051   0.033995                 0  \n",
       "5052   0.024955                 0  \n",
       "5053   0.033803                 0  \n",
       "5054   0.012341                 0  \n",
       "5055   0.006118                 0  \n",
       "\n",
       "[5056 rows x 5 columns]"
      ]
     },
     "execution_count": 16,
     "metadata": {},
     "output_type": "execute_result"
    }
   ],
   "source": [
    "data_gpd"
   ]
  },
  {
   "cell_type": "code",
   "execution_count": 17,
   "id": "9961db7b",
   "metadata": {},
   "outputs": [],
   "source": [
    "data_u_cluster=data_gpd.query('is_U_CENTRE_w_BU!=1').query('pop>=300')"
   ]
  },
  {
   "cell_type": "code",
   "execution_count": 18,
   "id": "41e2def7",
   "metadata": {},
   "outputs": [
    {
     "name": "stderr",
     "output_type": "stream",
     "text": [
      "/home/jupyter-peta_admin/.local/lib/python3.8/site-packages/libpysal/weights/weights.py:172: UserWarning: The weights matrix is not fully connected: \n",
      " There are 64 disconnected components.\n",
      " There are 30 islands with ids: 0, 310, 344, 351, 389, 401, 412, 422, 436, 565, 673, 674, 784, 844, 958, 1125, 1166, 1276, 1306, 1439, 1706, 1819, 2053, 2088, 2101, 2125, 2164, 2180, 2376, 2398.\n",
      "  warnings.warn(message)\n"
     ]
    }
   ],
   "source": [
    "wr = weights.contiguity.Queen.from_dataframe(data_u_cluster)\n",
    "data_u_cluster['cluster_label']=wr.component_labels"
   ]
  },
  {
   "cell_type": "code",
   "execution_count": 19,
   "id": "c50e2246",
   "metadata": {},
   "outputs": [],
   "source": [
    "tab_pop_u_cluster_cand=pd.pivot_table(data_u_cluster,\n",
    "                                     index='cluster_label',values='pop',aggfunc='sum')\n",
    "list_u_cluster=tab_pop_u_cluster_cand.query('pop>=5000').reset_index().cluster_label.tolist()"
   ]
  },
  {
   "cell_type": "code",
   "execution_count": 20,
   "id": "915c615f",
   "metadata": {},
   "outputs": [],
   "source": [
    "u_cluster=data_u_cluster.query('cluster_label in @list_u_cluster')"
   ]
  },
  {
   "cell_type": "code",
   "execution_count": 21,
   "id": "d153b17c",
   "metadata": {},
   "outputs": [],
   "source": [
    "data_gpd['is_U_CLUSTER']=data_gpd.Name.apply(lambda y: 1 if y in u_cluster.Name.tolist() else 0)"
   ]
  },
  {
   "cell_type": "code",
   "execution_count": 22,
   "id": "c571bb92",
   "metadata": {},
   "outputs": [],
   "source": [
    "data_gpd['classification']=data_gpd.apply(lambda y: 'CENTRE' \n",
    "                                          if y.is_U_CENTRE_w_BU==1 else ('CLUSTER' if y.is_U_CLUSTER==1 else 'RURAL'),axis=1)"
   ]
  },
  {
   "cell_type": "code",
   "execution_count": 23,
   "id": "947e0092",
   "metadata": {},
   "outputs": [
    {
     "data": {
      "text/plain": [
       "array(['RURAL', 'CLUSTER', 'CENTRE'], dtype=object)"
      ]
     },
     "execution_count": 23,
     "metadata": {},
     "output_type": "execute_result"
    }
   ],
   "source": [
    "data_gpd.classification.unique()"
   ]
  },
  {
   "cell_type": "code",
   "execution_count": 24,
   "id": "494fa824",
   "metadata": {},
   "outputs": [],
   "source": [
    "data_gpd.to_file('data/output/2_grid_degurba/degurba_'+kdprov+'00.gpkg',driver='GPKG')"
   ]
  }
 ],
 "metadata": {
  "kernelspec": {
   "display_name": "Python 3 (ipykernel)",
   "language": "python",
   "name": "python3"
  },
  "language_info": {
   "codemirror_mode": {
    "name": "ipython",
    "version": 3
   },
   "file_extension": ".py",
   "mimetype": "text/x-python",
   "name": "python",
   "nbconvert_exporter": "python",
   "pygments_lexer": "ipython3",
   "version": "3.8.12"
  }
 },
 "nbformat": 4,
 "nbformat_minor": 5
}
