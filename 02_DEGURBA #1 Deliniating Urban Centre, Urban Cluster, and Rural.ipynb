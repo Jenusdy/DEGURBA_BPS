{
 "cells": [
  {
   "cell_type": "code",
   "execution_count": 1,
   "id": "a1f90264",
   "metadata": {},
   "outputs": [
    {
     "name": "stderr",
     "output_type": "stream",
     "text": [
      "/home/jupyter-peta_admin/.local/lib/python3.8/site-packages/geopandas/_compat.py:112: UserWarning: The Shapely GEOS version (3.10.2-CAPI-1.16.0) is incompatible with the GEOS version PyGEOS was compiled with (3.10.1-CAPI-1.16.0). Conversions between both will be slow.\n",
      "  warnings.warn(\n"
     ]
    }
   ],
   "source": [
    "import geopandas as gpd"
   ]
  },
  {
   "cell_type": "code",
   "execution_count": 2,
   "id": "43ef069e",
   "metadata": {},
   "outputs": [],
   "source": [
    "kdprov='19'"
   ]
  },
  {
   "cell_type": "code",
   "execution_count": 3,
   "id": "9a106f5a",
   "metadata": {},
   "outputs": [],
   "source": [
    "data_gpd=gpd.read_file(\"data/output/1_population_density/grid_pop_\"+kdprov+\"_1km_w_bu.gpkg\"\n",
    "                      ).reset_index()"
   ]
  },
  {
   "cell_type": "code",
   "execution_count": 4,
   "id": "4a9b77c1",
   "metadata": {},
   "outputs": [],
   "source": [
    "data_gpd['Name']=data_gpd.index.astype(str).str.zfill(7)"
   ]
  },
  {
   "cell_type": "code",
   "execution_count": 5,
   "id": "bad3427b",
   "metadata": {},
   "outputs": [],
   "source": [
    "##Check cluster centre\n",
    "data_cl_centre=data_gpd.query('pop>=1500')"
   ]
  },
  {
   "cell_type": "code",
   "execution_count": 6,
   "id": "15100251",
   "metadata": {},
   "outputs": [],
   "source": [
    "from pysal.lib import weights"
   ]
  },
  {
   "cell_type": "code",
   "execution_count": 7,
   "id": "6705061a",
   "metadata": {},
   "outputs": [
    {
     "name": "stderr",
     "output_type": "stream",
     "text": [
      "/home/jupyter-peta_admin/.local/lib/python3.8/site-packages/libpysal/weights/weights.py:172: UserWarning: The weights matrix is not fully connected: \n",
      " There are 71 disconnected components.\n",
      " There are 50 islands with ids: 7, 8, 9, 10, 13, 16, 17, 18, 19, 22, 23, 24, 25, 26, 27, 28, 29, 31, 34, 36, 37, 38, 39, 40, 43, 44, 45, 46, 48, 51, 56, 66, 109, 113, 117, 118, 121, 122, 123, 124, 127, 128, 132, 133, 138, 147, 149, 150, 151, 174.\n",
      "  warnings.warn(message)\n",
      "/home/jupyter-peta_admin/.local/lib/python3.8/site-packages/geopandas/geodataframe.py:1456: SettingWithCopyWarning: \n",
      "A value is trying to be set on a copy of a slice from a DataFrame.\n",
      "Try using .loc[row_indexer,col_indexer] = value instead\n",
      "\n",
      "See the caveats in the documentation: https://pandas.pydata.org/pandas-docs/stable/user_guide/indexing.html#returning-a-view-versus-a-copy\n",
      "  super().__setitem__(key, value)\n"
     ]
    }
   ],
   "source": [
    "wr = weights.contiguity.Rook.from_dataframe(data_cl_centre)\n",
    "data_cl_centre['cluster_label']=wr.component_labels"
   ]
  },
  {
   "cell_type": "code",
   "execution_count": 8,
   "id": "86c43451",
   "metadata": {},
   "outputs": [],
   "source": [
    "import pandas as pd"
   ]
  },
  {
   "cell_type": "code",
   "execution_count": 9,
   "id": "7fddfb84",
   "metadata": {},
   "outputs": [],
   "source": [
    "tab_pop_u_centre_cand=pd.pivot_table(data_cl_centre,\n",
    "                                     index='cluster_label',values='pop',aggfunc='sum')"
   ]
  },
  {
   "cell_type": "code",
   "execution_count": 10,
   "id": "b678b19b",
   "metadata": {},
   "outputs": [],
   "source": [
    "list_u_centre=tab_pop_u_centre_cand.query('pop>50000').reset_index().cluster_label.tolist()"
   ]
  },
  {
   "cell_type": "code",
   "execution_count": 11,
   "id": "7b46de57",
   "metadata": {},
   "outputs": [],
   "source": [
    "u_centre=data_cl_centre.query('cluster_label in @list_u_centre')"
   ]
  },
  {
   "cell_type": "code",
   "execution_count": 12,
   "id": "e6bfcd86",
   "metadata": {},
   "outputs": [],
   "source": [
    "data_gpd['is_U_CENTRE']=data_gpd.Name.apply(lambda y: 1 if y in u_centre.Name.tolist() else 0)"
   ]
  },
  {
   "cell_type": "code",
   "execution_count": 13,
   "id": "73021115",
   "metadata": {},
   "outputs": [
    {
     "name": "stdout",
     "output_type": "stream",
     "text": [
      "N GRID WITH URBAN CENTRE: 66\n"
     ]
    },
    {
     "name": "stderr",
     "output_type": "stream",
     "text": [
      "/home/jupyter-peta_admin/.local/lib/python3.8/site-packages/libpysal/weights/weights.py:172: UserWarning: The weights matrix is not fully connected: \n",
      " There are 80 disconnected components.\n",
      " There are 24 islands with ids: 514, 7668, 10501, 12586, 12660, 12685, 12686, 12698, 12893, 12894, 13093, 14029, 14033, 15413, 16727, 17891, 18089, 18128, 18146, 18154, 18173, 18197, 18201, 18226.\n",
      "  warnings.warn(message)\n"
     ]
    },
    {
     "name": "stdout",
     "output_type": "stream",
     "text": [
      "=====================\n",
      "N GRID AFTER GAP FILLING: 70\n"
     ]
    },
    {
     "name": "stderr",
     "output_type": "stream",
     "text": [
      "/home/jupyter-peta_admin/.local/lib/python3.8/site-packages/libpysal/weights/weights.py:172: UserWarning: The weights matrix is not fully connected: \n",
      " There are 80 disconnected components.\n",
      " There are 24 islands with ids: 514, 7668, 10501, 12586, 12660, 12685, 12686, 12698, 12893, 12894, 13093, 14029, 14033, 15413, 16727, 17891, 18089, 18128, 18146, 18154, 18173, 18197, 18201, 18226.\n",
      "  warnings.warn(message)\n"
     ]
    },
    {
     "name": "stdout",
     "output_type": "stream",
     "text": [
      "=====================\n",
      "N GRID AFTER GAP FILLING: 71\n"
     ]
    },
    {
     "name": "stderr",
     "output_type": "stream",
     "text": [
      "/home/jupyter-peta_admin/.local/lib/python3.8/site-packages/libpysal/weights/weights.py:172: UserWarning: The weights matrix is not fully connected: \n",
      " There are 80 disconnected components.\n",
      " There are 24 islands with ids: 514, 7668, 10501, 12586, 12660, 12685, 12686, 12698, 12893, 12894, 13093, 14029, 14033, 15413, 16727, 17891, 18089, 18128, 18146, 18154, 18173, 18197, 18201, 18226.\n",
      "  warnings.warn(message)\n"
     ]
    },
    {
     "name": "stdout",
     "output_type": "stream",
     "text": [
      "=====================\n",
      "N GRID AFTER GAP FILLING: 72\n"
     ]
    },
    {
     "name": "stderr",
     "output_type": "stream",
     "text": [
      "/home/jupyter-peta_admin/.local/lib/python3.8/site-packages/libpysal/weights/weights.py:172: UserWarning: The weights matrix is not fully connected: \n",
      " There are 80 disconnected components.\n",
      " There are 24 islands with ids: 514, 7668, 10501, 12586, 12660, 12685, 12686, 12698, 12893, 12894, 13093, 14029, 14033, 15413, 16727, 17891, 18089, 18128, 18146, 18154, 18173, 18197, 18201, 18226.\n",
      "  warnings.warn(message)\n"
     ]
    },
    {
     "name": "stdout",
     "output_type": "stream",
     "text": [
      "=====================\n",
      "N GRID AFTER GAP FILLING: 72\n",
      "==================\n",
      "N GRID COMPLETED AFTER GAP FILLING 72\n"
     ]
    }
   ],
   "source": [
    "#Filling gap of urbancentre => check 8 contiguity (queen)\n",
    "init_u_centre=data_gpd.is_U_CENTRE.sum()\n",
    "u_centre_up=0\n",
    "print('N GRID WITH URBAN CENTRE:',init_u_centre)\n",
    "while u_centre_up!=init_u_centre:\n",
    "    init_u_centre=data_gpd.is_U_CENTRE.sum()\n",
    "    wr = weights.contiguity.Queen.from_dataframe(data_gpd)\n",
    "    data_gpd['neighbors']=wr.neighbors.values()\n",
    "    temp=data_gpd.copy()\n",
    "    for index, row in data_gpd.iterrows():\n",
    "        if row['is_U_CENTRE']!=1:\n",
    "            y_urbancentre=0\n",
    "            if len(row['neighbors'])>4:\n",
    "                for y in row['neighbors']:\n",
    "                    if temp.loc[y,'is_U_CENTRE']==1:\n",
    "                        y_urbancentre+=1\n",
    "                if y_urbancentre>4:\n",
    "                    data_gpd.at[index,'is_U_CENTRE']=1\n",
    "    u_centre_up=data_gpd.is_U_CENTRE.sum()\n",
    "    print('=====================')\n",
    "    print('N GRID AFTER GAP FILLING:', u_centre_up)\n",
    "print('==================')\n",
    "u_centre=data_gpd.is_U_CENTRE.sum()\n",
    "print('N GRID COMPLETED AFTER GAP FILLING',u_centre)"
   ]
  },
  {
   "cell_type": "code",
   "execution_count": 14,
   "id": "7708fa75",
   "metadata": {},
   "outputs": [],
   "source": [
    "data_gpd['is_U_CENTRE_w_BU']=data_gpd.apply(lambda y:1 if (y.p_builtup>0.5)or(y.is_U_CENTRE==1) else 0,axis=1)"
   ]
  },
  {
   "cell_type": "code",
   "execution_count": 15,
   "id": "3618694e",
   "metadata": {},
   "outputs": [],
   "source": [
    "data_gpd=data_gpd[['Name','pop','geometry','p_builtup','is_U_CENTRE_w_BU']]"
   ]
  },
  {
   "cell_type": "code",
   "execution_count": 16,
   "id": "e4153436",
   "metadata": {},
   "outputs": [
    {
     "data": {
      "text/html": [
       "<div>\n",
       "<style scoped>\n",
       "    .dataframe tbody tr th:only-of-type {\n",
       "        vertical-align: middle;\n",
       "    }\n",
       "\n",
       "    .dataframe tbody tr th {\n",
       "        vertical-align: top;\n",
       "    }\n",
       "\n",
       "    .dataframe thead th {\n",
       "        text-align: right;\n",
       "    }\n",
       "</style>\n",
       "<table border=\"1\" class=\"dataframe\">\n",
       "  <thead>\n",
       "    <tr style=\"text-align: right;\">\n",
       "      <th></th>\n",
       "      <th>Name</th>\n",
       "      <th>pop</th>\n",
       "      <th>geometry</th>\n",
       "      <th>p_builtup</th>\n",
       "      <th>is_U_CENTRE_w_BU</th>\n",
       "    </tr>\n",
       "  </thead>\n",
       "  <tbody>\n",
       "    <tr>\n",
       "      <th>0</th>\n",
       "      <td>0000000</td>\n",
       "      <td>0</td>\n",
       "      <td>POLYGON ((10531200.000 -248400.000, 10531200.0...</td>\n",
       "      <td>0.000000</td>\n",
       "      <td>0</td>\n",
       "    </tr>\n",
       "    <tr>\n",
       "      <th>1</th>\n",
       "      <td>0000001</td>\n",
       "      <td>0</td>\n",
       "      <td>POLYGON ((10531200.000 -249400.000, 10531200.0...</td>\n",
       "      <td>0.000000</td>\n",
       "      <td>0</td>\n",
       "    </tr>\n",
       "    <tr>\n",
       "      <th>2</th>\n",
       "      <td>0000002</td>\n",
       "      <td>0</td>\n",
       "      <td>POLYGON ((10531200.000 -250400.000, 10531200.0...</td>\n",
       "      <td>0.000000</td>\n",
       "      <td>0</td>\n",
       "    </tr>\n",
       "    <tr>\n",
       "      <th>3</th>\n",
       "      <td>0000003</td>\n",
       "      <td>0</td>\n",
       "      <td>POLYGON ((10531200.000 -251400.000, 10531200.0...</td>\n",
       "      <td>0.000000</td>\n",
       "      <td>0</td>\n",
       "    </tr>\n",
       "    <tr>\n",
       "      <th>4</th>\n",
       "      <td>0000004</td>\n",
       "      <td>0</td>\n",
       "      <td>POLYGON ((10531200.000 -252400.000, 10531200.0...</td>\n",
       "      <td>0.000000</td>\n",
       "      <td>0</td>\n",
       "    </tr>\n",
       "    <tr>\n",
       "      <th>...</th>\n",
       "      <td>...</td>\n",
       "      <td>...</td>\n",
       "      <td>...</td>\n",
       "      <td>...</td>\n",
       "      <td>...</td>\n",
       "    </tr>\n",
       "    <tr>\n",
       "      <th>18242</th>\n",
       "      <td>0018242</td>\n",
       "      <td>0</td>\n",
       "      <td>POLYGON ((10895200.000 -319400.000, 10895200.0...</td>\n",
       "      <td>0.000003</td>\n",
       "      <td>0</td>\n",
       "    </tr>\n",
       "    <tr>\n",
       "      <th>18243</th>\n",
       "      <td>0018243</td>\n",
       "      <td>0</td>\n",
       "      <td>POLYGON ((10901200.000 -311400.000, 10901200.0...</td>\n",
       "      <td>0.000000</td>\n",
       "      <td>0</td>\n",
       "    </tr>\n",
       "    <tr>\n",
       "      <th>18244</th>\n",
       "      <td>0018244</td>\n",
       "      <td>0</td>\n",
       "      <td>POLYGON ((10901200.000 -312400.000, 10901200.0...</td>\n",
       "      <td>0.000000</td>\n",
       "      <td>0</td>\n",
       "    </tr>\n",
       "    <tr>\n",
       "      <th>18245</th>\n",
       "      <td>0018245</td>\n",
       "      <td>0</td>\n",
       "      <td>POLYGON ((10903200.000 -308400.000, 10903200.0...</td>\n",
       "      <td>0.000000</td>\n",
       "      <td>0</td>\n",
       "    </tr>\n",
       "    <tr>\n",
       "      <th>18246</th>\n",
       "      <td>0018246</td>\n",
       "      <td>0</td>\n",
       "      <td>POLYGON ((10903200.000 -309400.000, 10903200.0...</td>\n",
       "      <td>0.000000</td>\n",
       "      <td>0</td>\n",
       "    </tr>\n",
       "  </tbody>\n",
       "</table>\n",
       "<p>18247 rows × 5 columns</p>\n",
       "</div>"
      ],
      "text/plain": [
       "          Name  pop                                           geometry  \\\n",
       "0      0000000    0  POLYGON ((10531200.000 -248400.000, 10531200.0...   \n",
       "1      0000001    0  POLYGON ((10531200.000 -249400.000, 10531200.0...   \n",
       "2      0000002    0  POLYGON ((10531200.000 -250400.000, 10531200.0...   \n",
       "3      0000003    0  POLYGON ((10531200.000 -251400.000, 10531200.0...   \n",
       "4      0000004    0  POLYGON ((10531200.000 -252400.000, 10531200.0...   \n",
       "...        ...  ...                                                ...   \n",
       "18242  0018242    0  POLYGON ((10895200.000 -319400.000, 10895200.0...   \n",
       "18243  0018243    0  POLYGON ((10901200.000 -311400.000, 10901200.0...   \n",
       "18244  0018244    0  POLYGON ((10901200.000 -312400.000, 10901200.0...   \n",
       "18245  0018245    0  POLYGON ((10903200.000 -308400.000, 10903200.0...   \n",
       "18246  0018246    0  POLYGON ((10903200.000 -309400.000, 10903200.0...   \n",
       "\n",
       "       p_builtup  is_U_CENTRE_w_BU  \n",
       "0       0.000000                 0  \n",
       "1       0.000000                 0  \n",
       "2       0.000000                 0  \n",
       "3       0.000000                 0  \n",
       "4       0.000000                 0  \n",
       "...          ...               ...  \n",
       "18242   0.000003                 0  \n",
       "18243   0.000000                 0  \n",
       "18244   0.000000                 0  \n",
       "18245   0.000000                 0  \n",
       "18246   0.000000                 0  \n",
       "\n",
       "[18247 rows x 5 columns]"
      ]
     },
     "execution_count": 16,
     "metadata": {},
     "output_type": "execute_result"
    }
   ],
   "source": [
    "data_gpd"
   ]
  },
  {
   "cell_type": "code",
   "execution_count": 17,
   "id": "9961db7b",
   "metadata": {},
   "outputs": [],
   "source": [
    "data_u_cluster=data_gpd.query('is_U_CENTRE_w_BU!=1').query('pop>=300')"
   ]
  },
  {
   "cell_type": "code",
   "execution_count": 18,
   "id": "41e2def7",
   "metadata": {},
   "outputs": [
    {
     "name": "stderr",
     "output_type": "stream",
     "text": [
      "/home/jupyter-peta_admin/.local/lib/python3.8/site-packages/libpysal/weights/weights.py:172: UserWarning: The weights matrix is not fully connected: \n",
      " There are 285 disconnected components.\n",
      " There are 115 islands with ids: 0, 26, 30, 38, 54, 57, 59, 62, 66, 72, 84, 104, 105, 114, 115, 118, 131, 132, 153, 154, 162, 175, 180, 188, 191, 201, 202, 212, 213, 228, 231, 237, 240, 248, 251, 252, 253, 254, 257, 261, 271, 279, 289, 297, 301, 304, 308, 320, 326, 330, 335, 351, 353, 359, 360, 368, 371, 373, 479, 480, 510, 591, 601, 611, 612, 639, 651, 658, 660, 661, 671, 672, 716, 750, 766, 770, 774, 778, 781, 782, 783, 797, 804, 807, 815, 816, 817, 825, 826, 830, 834, 843, 881, 884, 885, 890, 891, 892, 894, 896, 899, 901, 905, 911, 926, 928, 929, 931, 938, 939, 941, 944, 974, 1001, 1019.\n",
      "  warnings.warn(message)\n"
     ]
    }
   ],
   "source": [
    "wr = weights.contiguity.Queen.from_dataframe(data_u_cluster)\n",
    "data_u_cluster['cluster_label']=wr.component_labels"
   ]
  },
  {
   "cell_type": "code",
   "execution_count": 19,
   "id": "c50e2246",
   "metadata": {},
   "outputs": [],
   "source": [
    "tab_pop_u_cluster_cand=pd.pivot_table(data_u_cluster,\n",
    "                                     index='cluster_label',values='pop',aggfunc='sum')\n",
    "list_u_cluster=tab_pop_u_cluster_cand.query('pop>=5000').reset_index().cluster_label.tolist()"
   ]
  },
  {
   "cell_type": "code",
   "execution_count": 20,
   "id": "915c615f",
   "metadata": {},
   "outputs": [],
   "source": [
    "u_cluster=data_u_cluster.query('cluster_label in @list_u_cluster')"
   ]
  },
  {
   "cell_type": "code",
   "execution_count": 21,
   "id": "d153b17c",
   "metadata": {},
   "outputs": [],
   "source": [
    "data_gpd['is_U_CLUSTER']=data_gpd.Name.apply(lambda y: 1 if y in u_cluster.Name.tolist() else 0)"
   ]
  },
  {
   "cell_type": "code",
   "execution_count": 22,
   "id": "c571bb92",
   "metadata": {},
   "outputs": [],
   "source": [
    "data_gpd['classification']=data_gpd.apply(lambda y: 'CENTRE' \n",
    "                                          if y.is_U_CENTRE_w_BU==1 else ('CLUSTER' if y.is_U_CLUSTER==1 else 'RURAL'),axis=1)"
   ]
  },
  {
   "cell_type": "code",
   "execution_count": 23,
   "id": "947e0092",
   "metadata": {},
   "outputs": [
    {
     "data": {
      "text/plain": [
       "array(['RURAL', 'CLUSTER', 'CENTRE'], dtype=object)"
      ]
     },
     "execution_count": 23,
     "metadata": {},
     "output_type": "execute_result"
    }
   ],
   "source": [
    "data_gpd.classification.unique()"
   ]
  },
  {
   "cell_type": "code",
   "execution_count": 25,
   "id": "494fa824",
   "metadata": {},
   "outputs": [],
   "source": [
    "data_gpd.to_file('data/output/2_grid_degurba/degurba_'+kdprov+'00.gpkg',driver='GPKG')"
   ]
  }
 ],
 "metadata": {
  "kernelspec": {
   "display_name": "Python 3 (ipykernel)",
   "language": "python",
   "name": "python3"
  },
  "language_info": {
   "codemirror_mode": {
    "name": "ipython",
    "version": 3
   },
   "file_extension": ".py",
   "mimetype": "text/x-python",
   "name": "python",
   "nbconvert_exporter": "python",
   "pygments_lexer": "ipython3",
   "version": "3.8.12"
  }
 },
 "nbformat": 4,
 "nbformat_minor": 5
}
