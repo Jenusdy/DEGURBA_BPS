{
 "cells": [
  {
   "cell_type": "code",
   "execution_count": 3,
   "id": "7223b41c",
   "metadata": {},
   "outputs": [
    {
     "name": "stdout",
     "output_type": "stream",
     "text": [
      "<Blob: bps-gcp-bucket, Degree of Urbanisation/OSM/all-seasoned-road/, 1660286625811861>\n",
      "<Blob: bps-gcp-bucket, Degree of Urbanisation/OSM/all-seasoned-road/11_allseasonedroad_OSM.gpkg, 1660291141983507>\n",
      "<Blob: bps-gcp-bucket, Degree of Urbanisation/OSM/all-seasoned-road/12_allseasonedroad_OSM.gpkg, 1660291147130940>\n",
      "<Blob: bps-gcp-bucket, Degree of Urbanisation/OSM/all-seasoned-road/13_allseasonedroad_OSM.gpkg, 1660291142989351>\n",
      "<Blob: bps-gcp-bucket, Degree of Urbanisation/OSM/all-seasoned-road/14_allseasonedroad_OSM.gpkg, 1660291146539929>\n",
      "<Blob: bps-gcp-bucket, Degree of Urbanisation/OSM/all-seasoned-road/15_allseasonedroad_OSM.gpkg, 1660291134128941>\n",
      "<Blob: bps-gcp-bucket, Degree of Urbanisation/OSM/all-seasoned-road/16_allseasonedroad_OSM.gpkg, 1660291134480700>\n",
      "<Blob: bps-gcp-bucket, Degree of Urbanisation/OSM/all-seasoned-road/17_allseasonedroad_OSM.gpkg, 1660291128670522>\n",
      "<Blob: bps-gcp-bucket, Degree of Urbanisation/OSM/all-seasoned-road/18_allseasonedroad_OSM.gpkg, 1660291135071208>\n",
      "<Blob: bps-gcp-bucket, Degree of Urbanisation/OSM/all-seasoned-road/19_allseasonedroad_OSM.gpkg, 1660291135769830>\n",
      "<Blob: bps-gcp-bucket, Degree of Urbanisation/OSM/all-seasoned-road/31_allseasonedroad_OSM.gpkg, 1661229339585158>\n",
      "<Blob: bps-gcp-bucket, Degree of Urbanisation/OSM/all-seasoned-road/32_allseasonedroad_OSM.gpkg, 1661229416106832>\n",
      "<Blob: bps-gcp-bucket, Degree of Urbanisation/OSM/all-seasoned-road/33_allseasonedroad_OSM.gpkg, 1661229404369412>\n",
      "<Blob: bps-gcp-bucket, Degree of Urbanisation/OSM/all-seasoned-road/34_allseasonedroad_OSM.gpkg, 1661229305070552>\n",
      "<Blob: bps-gcp-bucket, Degree of Urbanisation/OSM/all-seasoned-road/35_allseasonedroad_OSM.gpkg, 1661229416844535>\n",
      "<Blob: bps-gcp-bucket, Degree of Urbanisation/OSM/all-seasoned-road/36_allseasonedroad_OSM.gpkg, 1661229323532217>\n",
      "<Blob: bps-gcp-bucket, Degree of Urbanisation/OSM/all-seasoned-road/51_allseasonedroad_OSM.gpkg, 1660290858207843>\n",
      "<Blob: bps-gcp-bucket, Degree of Urbanisation/OSM/all-seasoned-road/52_allseasonedroad_OSM.gpkg, 1660290859761576>\n",
      "<Blob: bps-gcp-bucket, Degree of Urbanisation/OSM/all-seasoned-road/53_allseasonedroad_OSM.gpkg, 1660290862679446>\n",
      "<Blob: bps-gcp-bucket, Degree of Urbanisation/OSM/all-seasoned-road/61_allseasonedroad_OSM.gpkg, 1660289961831846>\n",
      "<Blob: bps-gcp-bucket, Degree of Urbanisation/OSM/all-seasoned-road/62_allseasonedroad_OSM.gpkg, 1660289962232602>\n",
      "<Blob: bps-gcp-bucket, Degree of Urbanisation/OSM/all-seasoned-road/63_allseasonedroad_OSM.gpkg, 1660289958404851>\n",
      "<Blob: bps-gcp-bucket, Degree of Urbanisation/OSM/all-seasoned-road/64_allseasonedroad_OSM.gpkg, 1660289959821596>\n",
      "<Blob: bps-gcp-bucket, Degree of Urbanisation/OSM/all-seasoned-road/65_allseasonedroad_OSM.gpkg, 1660289955544145>\n",
      "<Blob: bps-gcp-bucket, Degree of Urbanisation/OSM/all-seasoned-road/71_allseasonedroad_OSM.gpkg, 1660289174988983>\n",
      "<Blob: bps-gcp-bucket, Degree of Urbanisation/OSM/all-seasoned-road/72_allseasonedroad_OSM.gpkg, 1660289177831256>\n",
      "<Blob: bps-gcp-bucket, Degree of Urbanisation/OSM/all-seasoned-road/73_allseasonedroad_OSM.gpkg, 1660289180736192>\n",
      "<Blob: bps-gcp-bucket, Degree of Urbanisation/OSM/all-seasoned-road/74_allseasonedroad_OSM.gpkg, 1660289181290215>\n",
      "<Blob: bps-gcp-bucket, Degree of Urbanisation/OSM/all-seasoned-road/75_allseasonedroad_OSM.gpkg, 1660289180906084>\n",
      "<Blob: bps-gcp-bucket, Degree of Urbanisation/OSM/all-seasoned-road/76_allseasonedroad_OSM.gpkg, 1660289182782443>\n",
      "<Blob: bps-gcp-bucket, Degree of Urbanisation/OSM/all-seasoned-road/81_allseasonedroad_OSM.gpkg, 1660286688284278>\n",
      "<Blob: bps-gcp-bucket, Degree of Urbanisation/OSM/all-seasoned-road/82_allseasonedroad_OSM.gpkg, 1660286688036500>\n",
      "<Blob: bps-gcp-bucket, Degree of Urbanisation/OSM/all-seasoned-road/91_allseasonedroad_OSM.gpkg, 1660286686751425>\n",
      "<Blob: bps-gcp-bucket, Degree of Urbanisation/OSM/all-seasoned-road/94_allseasonedroad_OSM.gpkg, 1660286689487911>\n"
     ]
    }
   ],
   "source": [
    "from google.cloud import storage\n",
    "from os.path import exists\n",
    "client = storage.Client()\n",
    "ls_=list(client.list_blobs('bps-gcp-bucket', prefix='Degree of Urbanisation/OSM/all-seasoned-road'))\n",
    "storage_client = storage.Client()\n",
    "for i in ls_:\n",
    "    if len(str(i).split('/'))==4:\n",
    "        data_=str(i).split('/')[3].split(',')[0]\n",
    "        if (data_!='')and(exists('data/input/OSM/'+data_)==False) :\n",
    "            bucket = storage_client.get_bucket('bps-gcp-bucket')\n",
    "            source_blob_name='Degree of Urbanisation/OSM/all-seasoned-road/'+data_\n",
    "            blob = bucket.blob(source_blob_name)\n",
    "            blob.download_to_filename('data/input/OSM/'+data_)"
   ]
  }
 ],
 "metadata": {
  "kernelspec": {
   "display_name": "Python 3 (ipykernel)",
   "language": "python",
   "name": "python3"
  },
  "language_info": {
   "codemirror_mode": {
    "name": "ipython",
    "version": 3
   },
   "file_extension": ".py",
   "mimetype": "text/x-python",
   "name": "python",
   "nbconvert_exporter": "python",
   "pygments_lexer": "ipython3",
   "version": "3.8.12"
  }
 },
 "nbformat": 4,
 "nbformat_minor": 5
}
