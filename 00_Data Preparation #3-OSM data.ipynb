{
 "cells": [
  {
   "cell_type": "code",
   "execution_count": 1,
   "id": "ebd9e730",
   "metadata": {},
   "outputs": [
    {
     "name": "stderr",
     "output_type": "stream",
     "text": [
      "/home/jupyter-peta_admin/.local/lib/python3.8/site-packages/geopandas/_compat.py:112: UserWarning: The Shapely GEOS version (3.10.2-CAPI-1.16.0) is incompatible with the GEOS version PyGEOS was compiled with (3.10.1-CAPI-1.16.0). Conversions between both will be slow.\n",
      "  warnings.warn(\n"
     ]
    }
   ],
   "source": [
    "from pyrosm import OSM\n",
    "from pyrosm import get_data\n",
    "import geopandas as gpd"
   ]
  },
  {
   "cell_type": "code",
   "execution_count": 2,
   "id": "aacdcaaf",
   "metadata": {},
   "outputs": [],
   "source": [
    "osmdata_transfer='java-latest-internal.osm.pbf'"
   ]
  },
  {
   "cell_type": "code",
   "execution_count": 3,
   "id": "214b8812",
   "metadata": {},
   "outputs": [
    {
     "name": "stdout",
     "output_type": "stream",
     "text": [
      "Blob Degree of Urbanisation/OSM/java-latest-internal.osm.pbf downloaded to data/input/OSM/java-latest-internal.osm.pbf.\n"
     ]
    }
   ],
   "source": [
    "from google.cloud import storage\n",
    "\n",
    "bucket_name = 'bps-gcp-bucket'\n",
    "source_blob_name = 'Degree of Urbanisation/OSM/'+osmdata_transfer\n",
    "destination_file_name ='data/input/OSM/'+osmdata_transfer\n",
    "#DOWNLOAD\n",
    "storage_client = storage.Client()\n",
    "bucket = storage_client.get_bucket(bucket_name)\n",
    "blob = bucket.blob(source_blob_name)\n",
    "blob.download_to_filename(destination_file_name)\n",
    "print('Blob {} downloaded to {}.'.format(source_blob_name, destination_file_name))"
   ]
  },
  {
   "cell_type": "code",
   "execution_count": null,
   "id": "d49130d4",
   "metadata": {},
   "outputs": [],
   "source": [
    "osm = OSM('data/input/OSM/'+osmdata_transfer)\n",
    "drive_net = osm.get_network(network_type=\"driving\")"
   ]
  },
  {
   "cell_type": "markdown",
   "id": "4c0cb510",
   "metadata": {},
   "source": [
    "The reference document used is \"Rural Access Index (RAI) Supplemental Guidelines (ReCAP, 2019)\"\n",
    "\n",
    "Here, we'll filter network data which only associated with all-seasoned road. Using the OSM data, we can get the all-seasoned road based on two variable: \"surface\" and \"highway\"\n",
    "\n",
    "Based on this link: https://wiki.openstreetmap.org/wiki/Key:highway ; the preferable highway data is only: ['secondary', 'tertiary', 'primary','trunk','motorway' ]\n",
    "\n",
    "For the surface data, we have to check manually! Based on this link: https://wiki.openstreetmap.org/wiki/Key:surface ; we will select \"PAVED\" road only. But, sometimes, the volunteer, put Indonesian names, therefore we have to do manual checking"
   ]
  },
  {
   "cell_type": "code",
   "execution_count": null,
   "id": "28fe13ac",
   "metadata": {},
   "outputs": [],
   "source": [
    "drive_net.surface.unique()"
   ]
  },
  {
   "cell_type": "code",
   "execution_count": null,
   "id": "4fff35a2",
   "metadata": {},
   "outputs": [],
   "source": [
    "drive_net.highway.unique()"
   ]
  },
  {
   "cell_type": "code",
   "execution_count": null,
   "id": "66d2de66",
   "metadata": {},
   "outputs": [],
   "source": [
    "highway_l=['secondary', 'tertiary', 'primary',\n",
    "       'trunk','motorway' ]"
   ]
  },
  {
   "cell_type": "code",
   "execution_count": 10,
   "id": "3bf574d5",
   "metadata": {},
   "outputs": [],
   "source": [
    "surface_l=['paved', 'asphalt', 'cobblestone', None,\n",
    "        'paving_stones', 'gravel;asphalt', 'concrete',\n",
    "        'asphalt_ruts', 'Hotmix', 'dirt;asphalt', 'metal',\n",
    "        'sett', 'concrete:plates', 'Aspal dan Tanah',\n",
    "        'permukaan tanah dan Beton', 'Tanah dan Aspal',\n",
    "        'Aspal dan Beton', 'Tanah dan Beton', 'concrete:lanes',\n",
    "       'wood', 'Trotoar', 'PAVING BLOK', 'Hotmix dan Tanah',\n",
    "       'paving_stones:30', 'driveway', 'unhewn_cobblestone']"
   ]
  },
  {
   "cell_type": "code",
   "execution_count": 11,
   "id": "2aa450d2",
   "metadata": {},
   "outputs": [],
   "source": [
    "gf=gpd.read_file('data/input/Master_Data/Prov_20201_ByIndo(1).shp')"
   ]
  },
  {
   "cell_type": "code",
   "execution_count": 12,
   "id": "3f95cad1",
   "metadata": {},
   "outputs": [],
   "source": [
    "highway_=drive_net.query('highway in @highway_l').query('surface in @surface_l')"
   ]
  },
  {
   "cell_type": "code",
   "execution_count": 13,
   "id": "31e00ec4",
   "metadata": {},
   "outputs": [
    {
     "name": "stderr",
     "output_type": "stream",
     "text": [
      "/opt/tljh/user/lib/python3.8/site-packages/IPython/core/interactiveshell.py:3338: FutureWarning: The `op` parameter is deprecated and will be removed in a future release. Please use the `predicate` parameter instead.\n",
      "  if await self.run_code(code, result, async_=asy):\n"
     ]
    }
   ],
   "source": [
    "data_highway=gpd.sjoin(highway_,gf,how='inner',op='intersects')"
   ]
  },
  {
   "cell_type": "code",
   "execution_count": 14,
   "id": "023e2b47",
   "metadata": {},
   "outputs": [],
   "source": [
    "data_h=data_highway[['kdprov','geometry']].dissolve(by='kdprov').reset_index()"
   ]
  },
  {
   "cell_type": "code",
   "execution_count": 15,
   "id": "8d115357",
   "metadata": {},
   "outputs": [],
   "source": [
    "for i in data_h.kdprov:\n",
    "    data_h.query('kdprov==@i').to_file('data/input/OSM/'+i+'_allseasonedroad_OSM.gpkg',driver='GPKG')"
   ]
  }
 ],
 "metadata": {
  "kernelspec": {
   "display_name": "Python 3 (ipykernel)",
   "language": "python",
   "name": "python3"
  },
  "language_info": {
   "codemirror_mode": {
    "name": "ipython",
    "version": 3
   },
   "file_extension": ".py",
   "mimetype": "text/x-python",
   "name": "python",
   "nbconvert_exporter": "python",
   "pygments_lexer": "ipython3",
   "version": "3.8.12"
  }
 },
 "nbformat": 4,
 "nbformat_minor": 5
}
