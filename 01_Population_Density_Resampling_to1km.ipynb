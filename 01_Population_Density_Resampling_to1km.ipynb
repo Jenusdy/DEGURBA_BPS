{
 "cells": [
  {
   "cell_type": "code",
   "execution_count": 1,
   "id": "b77d269d",
   "metadata": {},
   "outputs": [
    {
     "name": "stderr",
     "output_type": "stream",
     "text": [
      "/home/jupyter-peta_admin/.local/lib/python3.8/site-packages/geopandas/_compat.py:112: UserWarning: The Shapely GEOS version (3.10.2-CAPI-1.16.0) is incompatible with the GEOS version PyGEOS was compiled with (3.10.1-CAPI-1.16.0). Conversions between both will be slow.\n",
      "  warnings.warn(\n"
     ]
    }
   ],
   "source": [
    "import pandas as pd\n",
    "import geopandas as gpd\n",
    "import rasterio\n",
    "import rasterio.features as features\n",
    "import numpy as np\n",
    "from rasterio.enums import Resampling\n",
    "from rasterio.crs import CRS\n",
    "import itertools\n",
    "\n",
    "from shapely.geometry import box"
   ]
  },
  {
   "cell_type": "code",
   "execution_count": 2,
   "id": "1ab282b0",
   "metadata": {},
   "outputs": [],
   "source": [
    "kdprov = '33'"
   ]
  },
  {
   "cell_type": "code",
   "execution_count": 3,
   "id": "1f6ead36",
   "metadata": {},
   "outputs": [],
   "source": [
    "popdens_100m=gpd.read_file(\"data/output/1_population_density/grid_pop_\"+kdprov+\"_100m.gpkg\")"
   ]
  },
  {
   "cell_type": "code",
   "execution_count": 4,
   "id": "efe1848d",
   "metadata": {},
   "outputs": [
    {
     "data": {
      "text/html": [
       "<div>\n",
       "<style scoped>\n",
       "    .dataframe tbody tr th:only-of-type {\n",
       "        vertical-align: middle;\n",
       "    }\n",
       "\n",
       "    .dataframe tbody tr th {\n",
       "        vertical-align: top;\n",
       "    }\n",
       "\n",
       "    .dataframe thead th {\n",
       "        text-align: right;\n",
       "    }\n",
       "</style>\n",
       "<table border=\"1\" class=\"dataframe\">\n",
       "  <thead>\n",
       "    <tr style=\"text-align: right;\">\n",
       "      <th></th>\n",
       "      <th>DN_left</th>\n",
       "      <th>iddesa</th>\n",
       "      <th>TOTAL_PEND</th>\n",
       "      <th>p_area</th>\n",
       "      <th>j_pend</th>\n",
       "      <th>geometry</th>\n",
       "    </tr>\n",
       "  </thead>\n",
       "  <tbody>\n",
       "    <tr>\n",
       "      <th>0</th>\n",
       "      <td>19.0</td>\n",
       "      <td>3320120001</td>\n",
       "      <td>5003</td>\n",
       "      <td>0.006319</td>\n",
       "      <td>31.611906</td>\n",
       "      <td>POLYGON ((11024100.000 -716100.000, 11024200.0...</td>\n",
       "    </tr>\n",
       "    <tr>\n",
       "      <th>1</th>\n",
       "      <td>6.0</td>\n",
       "      <td>3320120001</td>\n",
       "      <td>5003</td>\n",
       "      <td>0.001995</td>\n",
       "      <td>9.982707</td>\n",
       "      <td>POLYGON ((11024200.000 -716100.000, 11024300.0...</td>\n",
       "    </tr>\n",
       "    <tr>\n",
       "      <th>2</th>\n",
       "      <td>227.0</td>\n",
       "      <td>3320120001</td>\n",
       "      <td>5003</td>\n",
       "      <td>0.075491</td>\n",
       "      <td>377.679082</td>\n",
       "      <td>POLYGON ((11023900.000 -716200.000, 11024000.0...</td>\n",
       "    </tr>\n",
       "    <tr>\n",
       "      <th>3</th>\n",
       "      <td>840.0</td>\n",
       "      <td>3320120001</td>\n",
       "      <td>5003</td>\n",
       "      <td>0.279348</td>\n",
       "      <td>1397.578982</td>\n",
       "      <td>POLYGON ((11024000.000 -716200.000, 11024100.0...</td>\n",
       "    </tr>\n",
       "    <tr>\n",
       "      <th>4</th>\n",
       "      <td>267.0</td>\n",
       "      <td>3320120001</td>\n",
       "      <td>5003</td>\n",
       "      <td>0.088793</td>\n",
       "      <td>444.230462</td>\n",
       "      <td>POLYGON ((11024100.000 -716200.000, 11024200.0...</td>\n",
       "    </tr>\n",
       "    <tr>\n",
       "      <th>...</th>\n",
       "      <td>...</td>\n",
       "      <td>...</td>\n",
       "      <td>...</td>\n",
       "      <td>...</td>\n",
       "      <td>...</td>\n",
       "      <td>...</td>\n",
       "    </tr>\n",
       "    <tr>\n",
       "      <th>1054075</th>\n",
       "      <td>3142.0</td>\n",
       "      <td>3312010003</td>\n",
       "      <td>4456</td>\n",
       "      <td>0.026323</td>\n",
       "      <td>117.293612</td>\n",
       "      <td>POLYGON ((11035400.000 -1000400.000, 11035500....</td>\n",
       "    </tr>\n",
       "    <tr>\n",
       "      <th>1054076</th>\n",
       "      <td>25.0</td>\n",
       "      <td>3312010003</td>\n",
       "      <td>4456</td>\n",
       "      <td>0.000209</td>\n",
       "      <td>0.933272</td>\n",
       "      <td>POLYGON ((11035500.000 -1000400.000, 11035600....</td>\n",
       "    </tr>\n",
       "    <tr>\n",
       "      <th>1054077</th>\n",
       "      <td>450.0</td>\n",
       "      <td>3312010003</td>\n",
       "      <td>4456</td>\n",
       "      <td>0.003770</td>\n",
       "      <td>16.798894</td>\n",
       "      <td>POLYGON ((11035300.000 -1000500.000, 11035400....</td>\n",
       "    </tr>\n",
       "    <tr>\n",
       "      <th>1054078</th>\n",
       "      <td>1777.0</td>\n",
       "      <td>3312010003</td>\n",
       "      <td>4456</td>\n",
       "      <td>0.014887</td>\n",
       "      <td>66.336966</td>\n",
       "      <td>POLYGON ((11035400.000 -1000500.000, 11035500....</td>\n",
       "    </tr>\n",
       "    <tr>\n",
       "      <th>1054079</th>\n",
       "      <td>691.0</td>\n",
       "      <td>3312010003</td>\n",
       "      <td>4456</td>\n",
       "      <td>0.005789</td>\n",
       "      <td>25.795635</td>\n",
       "      <td>POLYGON ((11035500.000 -1001300.000, 11035600....</td>\n",
       "    </tr>\n",
       "  </tbody>\n",
       "</table>\n",
       "<p>1054080 rows × 6 columns</p>\n",
       "</div>"
      ],
      "text/plain": [
       "         DN_left      iddesa  TOTAL_PEND    p_area       j_pend  \\\n",
       "0           19.0  3320120001        5003  0.006319    31.611906   \n",
       "1            6.0  3320120001        5003  0.001995     9.982707   \n",
       "2          227.0  3320120001        5003  0.075491   377.679082   \n",
       "3          840.0  3320120001        5003  0.279348  1397.578982   \n",
       "4          267.0  3320120001        5003  0.088793   444.230462   \n",
       "...          ...         ...         ...       ...          ...   \n",
       "1054075   3142.0  3312010003        4456  0.026323   117.293612   \n",
       "1054076     25.0  3312010003        4456  0.000209     0.933272   \n",
       "1054077    450.0  3312010003        4456  0.003770    16.798894   \n",
       "1054078   1777.0  3312010003        4456  0.014887    66.336966   \n",
       "1054079    691.0  3312010003        4456  0.005789    25.795635   \n",
       "\n",
       "                                                  geometry  \n",
       "0        POLYGON ((11024100.000 -716100.000, 11024200.0...  \n",
       "1        POLYGON ((11024200.000 -716100.000, 11024300.0...  \n",
       "2        POLYGON ((11023900.000 -716200.000, 11024000.0...  \n",
       "3        POLYGON ((11024000.000 -716200.000, 11024100.0...  \n",
       "4        POLYGON ((11024100.000 -716200.000, 11024200.0...  \n",
       "...                                                    ...  \n",
       "1054075  POLYGON ((11035400.000 -1000400.000, 11035500....  \n",
       "1054076  POLYGON ((11035500.000 -1000400.000, 11035600....  \n",
       "1054077  POLYGON ((11035300.000 -1000500.000, 11035400....  \n",
       "1054078  POLYGON ((11035400.000 -1000500.000, 11035500....  \n",
       "1054079  POLYGON ((11035500.000 -1001300.000, 11035600....  \n",
       "\n",
       "[1054080 rows x 6 columns]"
      ]
     },
     "execution_count": 4,
     "metadata": {},
     "output_type": "execute_result"
    }
   ],
   "source": [
    "popdens_100m"
   ]
  },
  {
   "cell_type": "code",
   "execution_count": 5,
   "id": "ded7416c",
   "metadata": {},
   "outputs": [
    {
     "data": {
      "text/plain": [
       "34148421.99999999"
      ]
     },
     "execution_count": 5,
     "metadata": {},
     "output_type": "execute_result"
    }
   ],
   "source": [
    "popdens_100m.j_pend.sum()"
   ]
  },
  {
   "cell_type": "code",
   "execution_count": 6,
   "id": "933d3880",
   "metadata": {},
   "outputs": [],
   "source": [
    "popdens_100m['j_pend_round']=popdens_100m.j_pend.apply(lambda y: np.round(y))"
   ]
  },
  {
   "cell_type": "code",
   "execution_count": 7,
   "id": "0b79a8a1",
   "metadata": {},
   "outputs": [],
   "source": [
    "raster = rasterio.open(r\"/vsigs/bps-gcp-bucket/Degree of Urbanisation/GHSL data/2020/prov/2020_\"+kdprov+\".tif\")\n",
    "geom_value = ((geom,value) for geom, value in zip(popdens_100m.geometry, popdens_100m['j_pend_round']))\n",
    "rasterized = features.rasterize(geom_value,\n",
    "                                out_shape = raster.shape,\n",
    "                                transform = raster.transform,\n",
    "                                all_touched = False,\n",
    "                                fill = 0,\n",
    "                                dtype = np.int32)\n",
    "with rasterio.open(\n",
    "        \"data/temp/rasterized_popdens_\"+kdprov+\"_100.tif\", \"w\",\n",
    "        driver = \"GTiff\",\n",
    "        transform = raster.transform,\n",
    "        dtype = np.int32,\n",
    "        count = 1,\n",
    "        width = raster.width,\n",
    "        height = raster.height) as dst:\n",
    "    dst.write(rasterized, indexes = 1)"
   ]
  },
  {
   "cell_type": "code",
   "execution_count": 8,
   "id": "09ad9e5c",
   "metadata": {},
   "outputs": [],
   "source": [
    "import rasterio\n",
    "from rasterio.enums import Resampling\n",
    "\n",
    "target_res = (1000, 1000)\n",
    "\n",
    "with rasterio.open(\"data/temp/rasterized_popdens_\"+kdprov+\"_100.tif\") as src:\n",
    "    data, transform = rasterio.warp.reproject(source=src.read(),\n",
    "                                src_transform=src.transform,\n",
    "                                src_crs=CRS.from_string(\"ESRI:54009\"),\n",
    "                                dst_crs=CRS.from_string(\"ESRI:54009\"),\n",
    "                                dst_nodata=0,\n",
    "                                dst_resolution=target_res,\n",
    "                                              #dtype = np.float64\n",
    "                                resampling=Resampling.sum)\n",
    "    profile = src.profile\n",
    "    profile.update(transform=transform, driver='GTiff',\n",
    "                    height=data.shape[1], width=data.shape[2])\n",
    "\n",
    "    with rasterio.open('data/output/1_population_density/grid_pop_'+kdprov+'_1km.tif', 'w', **profile) as dst:\n",
    "                    dst.write(data)"
   ]
  },
  {
   "cell_type": "code",
   "execution_count": 9,
   "id": "84c566c4",
   "metadata": {},
   "outputs": [],
   "source": [
    "with rasterio.open('data/output/1_population_density/grid_pop_'+kdprov+'_1km.tif') as dataset:\n",
    "    data = dataset.read(1)\n",
    "\n",
    "    t = dataset.transform\n",
    "    move_x = t[0]\n",
    "    move_y = t[4]\n",
    "    height = dataset.height\n",
    "    width = dataset.width \n",
    "    \n",
    "    polygons = []\n",
    "    indices = list(itertools.product(range(width), range(height)))\n",
    "    for x,y in indices:\n",
    "        x_min, y_max = t * (x,y)\n",
    "        x_max = x_min + move_x\n",
    "        y_min = y_max + move_y\n",
    "        polygons.append(box(x_min, y_min, x_max, y_max))\n",
    "        \n",
    "data_list = []\n",
    "for x,y in indices:\n",
    "    data_list.append(data[y,x])\n",
    "    \n",
    "vect_tmp = gpd.GeoDataFrame(data=data_list, geometry=polygons, columns=['DN'])\n",
    "vect_tmp.crs='ESRI:54009'\n",
    "vect_temp=vect_tmp.loc[vect_tmp.DN > -1]\n"
   ]
  },
  {
   "cell_type": "code",
   "execution_count": 10,
   "id": "648d648d",
   "metadata": {},
   "outputs": [],
   "source": [
    "data_builtup=gpd.read_file(\"data/input/GHSL Data/2020/gpkg/ghs_built_\"+kdprov+\"_nonzero.shp\")#.to_crs(('ESRI:54009'))"
   ]
  },
  {
   "cell_type": "code",
   "execution_count": 11,
   "id": "3827c7c7",
   "metadata": {},
   "outputs": [],
   "source": [
    "data_builtup['builtup']=data_builtup['DN']"
   ]
  },
  {
   "cell_type": "code",
   "execution_count": 12,
   "id": "f23f2229",
   "metadata": {},
   "outputs": [],
   "source": [
    "vect_=vect_temp.reset_index()\n",
    "vect_['index_o']=vect_['index'].apply(lambda y:str(y).zfill(7))"
   ]
  },
  {
   "cell_type": "code",
   "execution_count": 13,
   "id": "38a4fcdb",
   "metadata": {},
   "outputs": [
    {
     "name": "stderr",
     "output_type": "stream",
     "text": [
      "/home/jupyter-peta_admin/.local/lib/python3.8/site-packages/geopandas/geodataframe.py:2072: UserWarning: CRS mismatch between the CRS of left geometries and the CRS of right geometries.\n",
      "Use `to_crs()` to reproject one of the input geometries to match the CRS of the other.\n",
      "\n",
      "Left CRS: ESRI:54009\n",
      "Right CRS: None\n",
      "\n",
      "  return geopandas.sjoin(left_df=self, right_df=df, *args, **kwargs)\n"
     ]
    }
   ],
   "source": [
    "data_bu_per1km=vect_.sjoin(data_builtup).sort_values('index_o')[['index_o','builtup']].groupby('index_o').agg('sum').reset_index()"
   ]
  },
  {
   "cell_type": "code",
   "execution_count": 14,
   "id": "534854c6",
   "metadata": {},
   "outputs": [],
   "source": [
    "vect_bu=vect_.merge(data_bu_per1km,how='left')\n",
    "vect_bu['p_builtup']=vect_bu.builtup/1e6\n",
    "vect_bu['pop']=vect_bu.DN"
   ]
  },
  {
   "cell_type": "code",
   "execution_count": 15,
   "id": "83e69ab9",
   "metadata": {},
   "outputs": [],
   "source": [
    "vect_bu=vect_bu[['geometry','p_builtup','pop']].fillna(0)\n",
    "vect_bu.crs='ESRI:54009'"
   ]
  },
  {
   "cell_type": "code",
   "execution_count": 18,
   "id": "d934aae0",
   "metadata": {},
   "outputs": [],
   "source": [
    "vect_bu.query('(pop>0) or (p_builtup>0)').to_file(\"data/output/1_population_density/grid_pop_\"+kdprov+\"_1km_w_bu.gpkg\",driver='GPKG')"
   ]
  }
 ],
 "metadata": {
  "kernelspec": {
   "display_name": "Python 3 (ipykernel)",
   "language": "python",
   "name": "python3"
  },
  "language_info": {
   "codemirror_mode": {
    "name": "ipython",
    "version": 3
   },
   "file_extension": ".py",
   "mimetype": "text/x-python",
   "name": "python",
   "nbconvert_exporter": "python",
   "pygments_lexer": "ipython3",
   "version": "3.8.12"
  }
 },
 "nbformat": 4,
 "nbformat_minor": 5
}
