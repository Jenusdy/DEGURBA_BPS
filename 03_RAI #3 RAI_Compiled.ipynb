{
 "cells": [
  {
   "cell_type": "code",
   "execution_count": 1,
   "id": "e9e20353",
   "metadata": {},
   "outputs": [
    {
     "name": "stderr",
     "output_type": "stream",
     "text": [
      "/home/jupyter-peta_admin/.local/lib/python3.8/site-packages/geopandas/_compat.py:112: UserWarning: The Shapely GEOS version (3.10.2-CAPI-1.16.0) is incompatible with the GEOS version PyGEOS was compiled with (3.11.0-CAPI-1.17.0). Conversions between both will be slow.\n",
      "  warnings.warn(\n"
     ]
    }
   ],
   "source": [
    "import geopandas as gpd\n",
    "import pandas as pd"
   ]
  },
  {
   "cell_type": "code",
   "execution_count": 12,
   "id": "bd6e4926",
   "metadata": {},
   "outputs": [],
   "source": [
    "kdprov='51'\n",
    "osm=gpd.read_file('data/output/4_RAI/fin_rai_osm_degurba_'+kdprov+'.gpkg')\n",
    "rbi=gpd.read_file('data/output/4_RAI/fin_rai_rbi_degurba_'+kdprov+'.gpkg')"
   ]
  },
  {
   "cell_type": "code",
   "execution_count": 4,
   "id": "e0399e8e",
   "metadata": {},
   "outputs": [],
   "source": [
    "kabkota=gpd.read_file('data/input/Master_Data/kab_20201_byindo.gpkg')"
   ]
  },
  {
   "cell_type": "code",
   "execution_count": 25,
   "id": "6922930e",
   "metadata": {},
   "outputs": [],
   "source": [
    "osm_prov=pd.pivot_table(data=osm,columns='accessed',index='classification',values='pop',aggfunc='sum').fillna(0).assign(\n",
    "    percent=lambda data_p:data_p[1]*100/(data_p[0]+data_p[1]))"
   ]
  },
  {
   "cell_type": "code",
   "execution_count": 23,
   "id": "3b195120",
   "metadata": {},
   "outputs": [],
   "source": [
    "rbi_prov=pd.pivot_table(data=rbi,columns='accessed',index='classification',values='pop',aggfunc='sum').fillna(0).assign(\n",
    "    percent=lambda data_p:data_p[1]*100/(data_p[0]+data_p[1]))"
   ]
  },
  {
   "cell_type": "code",
   "execution_count": 20,
   "id": "4a033559",
   "metadata": {},
   "outputs": [],
   "source": [
    "osm_rbi_merge=osm[['Name', 'pop', 'p_builtup', 'is_U_CENTRE_w_BU', 'is_U_CLUSTER',\n",
    "       'classification', 'accessed', 'geometry']].rename(columns={'accessed':'osm_accessed'}).merge(rbi[['Name','accessed']].rename(\n",
    "    columns={'accessed':'rbi_accessed'})).to_crs(4326)"
   ]
  },
  {
   "cell_type": "code",
   "execution_count": 22,
   "id": "539ea4fb",
   "metadata": {},
   "outputs": [],
   "source": [
    "kabkota_osm_rbi=gpd.sjoin(osm_rbi_merge,kabkota[['idkab','geometry']])"
   ]
  },
  {
   "cell_type": "code",
   "execution_count": 28,
   "id": "535b85d8",
   "metadata": {},
   "outputs": [],
   "source": [
    "osm_kabkota=pd.pivot_table(data=kabkota_osm_rbi,columns='osm_accessed',index=['idkab','classification'],values='pop',aggfunc='sum').fillna(0).assign(\n",
    "    percent=lambda data_p:data_p[1]*100/(data_p[0]+data_p[1]))"
   ]
  },
  {
   "cell_type": "code",
   "execution_count": 29,
   "id": "32fb9756",
   "metadata": {},
   "outputs": [],
   "source": [
    "rbi_kabkota=pd.pivot_table(data=kabkota_osm_rbi,columns='rbi_accessed',index=['idkab','classification'],values='pop',aggfunc='sum').fillna(0).assign(\n",
    "    percent=lambda data_p:data_p[1]*100/(data_p[0]+data_p[1]))"
   ]
  },
  {
   "cell_type": "code",
   "execution_count": 32,
   "id": "43a1a68a",
   "metadata": {},
   "outputs": [
    {
     "name": "stdout",
     "output_type": "stream",
     "text": [
      "Defaulting to user installation because normal site-packages is not writeable\n",
      "Collecting xlsxwriter\n",
      "  Downloading XlsxWriter-3.0.3-py3-none-any.whl (149 kB)\n",
      "     |████████████████████████████████| 149 kB 3.7 MB/s            \n",
      "\u001b[?25hInstalling collected packages: xlsxwriter\n",
      "Successfully installed xlsxwriter-3.0.3\n"
     ]
    }
   ],
   "source": [
    "!pip install xlsxwriter"
   ]
  },
  {
   "cell_type": "code",
   "execution_count": 33,
   "id": "22713284",
   "metadata": {},
   "outputs": [],
   "source": [
    "writer = pd.ExcelWriter('data/output/4_RAI/compiled_RAI'+kdprov+'.xlsx', engine='xlsxwriter')\n",
    "\n",
    "osm_prov.to_excel(writer, sheet_name='prov_osm')\n",
    "\n",
    "rbi_prov.to_excel(writer, sheet_name='prov_rbi')\n",
    "\n",
    "osm_kabkota.to_excel(writer, sheet_name='kabkota_osm')\n",
    "\n",
    "rbi_kabkota.to_excel(writer, sheet_name='kabkota_rbi')\n",
    "\n",
    "writer.save()"
   ]
  }
 ],
 "metadata": {
  "kernelspec": {
   "display_name": "Python 3 (ipykernel)",
   "language": "python",
   "name": "python3"
  },
  "language_info": {
   "codemirror_mode": {
    "name": "ipython",
    "version": 3
   },
   "file_extension": ".py",
   "mimetype": "text/x-python",
   "name": "python",
   "nbconvert_exporter": "python",
   "pygments_lexer": "ipython3",
   "version": "3.8.12"
  }
 },
 "nbformat": 4,
 "nbformat_minor": 5
}
