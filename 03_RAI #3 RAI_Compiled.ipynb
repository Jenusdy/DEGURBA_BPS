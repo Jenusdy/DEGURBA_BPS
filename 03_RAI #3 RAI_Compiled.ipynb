{
 "cells": [
  {
   "cell_type": "code",
   "execution_count": 1,
   "id": "e9e20353",
   "metadata": {},
   "outputs": [
    {
     "name": "stderr",
     "output_type": "stream",
     "text": [
      "/home/jupyter-peta_admin/.local/lib/python3.8/site-packages/geopandas/_compat.py:112: UserWarning: The Shapely GEOS version (3.10.2-CAPI-1.16.0) is incompatible with the GEOS version PyGEOS was compiled with (3.10.3-CAPI-1.16.1). Conversions between both will be slow.\n",
      "  warnings.warn(\n"
     ]
    }
   ],
   "source": [
    "import geopandas as gpd\n",
    "import pandas as pd"
   ]
  },
  {
   "cell_type": "code",
   "execution_count": 2,
   "id": "bd6e4926",
   "metadata": {},
   "outputs": [],
   "source": [
    "list_kdprov=['16','18']"
   ]
  },
  {
   "cell_type": "code",
   "execution_count": 3,
   "id": "e0399e8e",
   "metadata": {},
   "outputs": [],
   "source": [
    "for kdprov in list_kdprov:\n",
    "    print('[+] Melakukan proses kalkulasi untuk provinsi {}'.format(kdprov))\n",
    "    osm=gpd.read_file('data/output/4_RAI/fin_rai_osm_degurba_'+kdprov+'.gpkg')\n",
    "    rbi=gpd.read_file('data/output/4_RAI/fin_rai_rbi_degurba_'+kdprov+'.gpkg')\n",
    "\n",
    "    kabkota=gpd.read_file('data/input/Master_Data/kab_20201_byindo.gpkg')\n",
    "    osm_prov=pd.pivot_table(data=osm,columns='accessed',index='classification',values='pop',aggfunc='sum').fillna(0).assign(\n",
    "        percent=lambda data_p:data_p[1]*100/(data_p[0]+data_p[1]))\n",
    "    rbi_prov=pd.pivot_table(data=rbi,columns='accessed',index='classification',values='pop',aggfunc='sum').fillna(0).assign(\n",
    "        percent=lambda data_p:data_p[1]*100/(data_p[0]+data_p[1]))\n",
    "    osm_rbi_merge=osm[['Name', 'pop', 'p_builtup', 'is_U_CENTRE_w_BU', 'is_U_CLUSTER',\n",
    "           'classification', 'accessed', 'geometry']].rename(columns={'accessed':'osm_accessed'}).merge(rbi[['Name','accessed']].rename(\n",
    "        columns={'accessed':'rbi_accessed'})).to_crs(4326)\n",
    "    kabkota_osm_rbi=gpd.sjoin(osm_rbi_merge,kabkota[['idkab','geometry']])\n",
    "    osm_kabkota=pd.pivot_table(data=kabkota_osm_rbi,columns='osm_accessed',index=['idkab','classification'],values='pop',aggfunc='sum').fillna(0).assign(\n",
    "        percent=lambda data_p:data_p[1]*100/(data_p[0]+data_p[1]))\n",
    "    rbi_kabkota=pd.pivot_table(data=kabkota_osm_rbi,columns='rbi_accessed',index=['idkab','classification'],values='pop',aggfunc='sum').fillna(0).assign(\n",
    "        percent=lambda data_p:data_p[1]*100/(data_p[0]+data_p[1]))\n",
    "\n",
    "    writer = pd.ExcelWriter('data/output/4_RAI/compiled_RAI'+kdprov+'.xlsx', engine='xlsxwriter')\n",
    "    osm_prov.to_excel(writer, sheet_name='prov_osm')\n",
    "    rbi_prov.to_excel(writer, sheet_name='prov_rbi')\n",
    "    osm_kabkota.to_excel(writer, sheet_name='kabkota_osm')\n",
    "    rbi_kabkota.to_excel(writer, sheet_name='kabkota_rbi')\n",
    "    writer.save()\n",
    "    print('[+] Selesai melakukan proses kalkulasi untuk provinsi {}'.format(kdprov))"
   ]
  }
 ],
 "metadata": {
  "kernelspec": {
   "display_name": "Python 3 (ipykernel)",
   "language": "python",
   "name": "python3"
  },
  "language_info": {
   "codemirror_mode": {
    "name": "ipython",
    "version": 3
   },
   "file_extension": ".py",
   "mimetype": "text/x-python",
   "name": "python",
   "nbconvert_exporter": "python",
   "pygments_lexer": "ipython3",
   "version": "3.8.12"
  }
 },
 "nbformat": 4,
 "nbformat_minor": 5
}
