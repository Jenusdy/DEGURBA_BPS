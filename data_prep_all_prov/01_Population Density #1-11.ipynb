{
 "cells": [
  {
   "cell_type": "code",
   "execution_count": 1,
   "id": "f0432d92",
   "metadata": {
    "execution": {
     "iopub.execute_input": "2022-09-06T21:01:49.355967Z",
     "iopub.status.busy": "2022-09-06T21:01:49.355263Z",
     "iopub.status.idle": "2022-09-06T21:01:49.363786Z",
     "shell.execute_reply": "2022-09-06T21:01:49.363186Z"
    },
    "papermill": {
     "duration": 0.013808,
     "end_time": "2022-09-06T21:01:49.365532",
     "exception": false,
     "start_time": "2022-09-06T21:01:49.351724",
     "status": "completed"
    },
    "tags": [
     "parameters"
    ]
   },
   "outputs": [],
   "source": [
    "kdprov = '76'"
   ]
  },
  {
   "cell_type": "code",
   "execution_count": 2,
   "id": "352e0eeb",
   "metadata": {
    "execution": {
     "iopub.execute_input": "2022-09-06T21:01:49.372758Z",
     "iopub.status.busy": "2022-09-06T21:01:49.372305Z",
     "iopub.status.idle": "2022-09-06T21:01:49.375766Z",
     "shell.execute_reply": "2022-09-06T21:01:49.375223Z"
    },
    "papermill": {
     "duration": 0.008665,
     "end_time": "2022-09-06T21:01:49.377326",
     "exception": false,
     "start_time": "2022-09-06T21:01:49.368661",
     "status": "completed"
    },
    "tags": [
     "injected-parameters"
    ]
   },
   "outputs": [],
   "source": [
    "# Parameters\n",
    "kdprov = \"11\"\n"
   ]
  },
  {
   "cell_type": "code",
   "execution_count": 3,
   "id": "f6300764",
   "metadata": {
    "execution": {
     "iopub.execute_input": "2022-09-06T21:01:49.382186Z",
     "iopub.status.busy": "2022-09-06T21:01:49.381693Z",
     "iopub.status.idle": "2022-09-06T21:01:49.930287Z",
     "shell.execute_reply": "2022-09-06T21:01:49.929224Z"
    },
    "papermill": {
     "duration": 0.553259,
     "end_time": "2022-09-06T21:01:49.932225",
     "exception": false,
     "start_time": "2022-09-06T21:01:49.378966",
     "status": "completed"
    },
    "tags": []
   },
   "outputs": [
    {
     "name": "stderr",
     "output_type": "stream",
     "text": [
      "/home/jupyter-peta_admin/.local/lib/python3.8/site-packages/geopandas/_compat.py:112: UserWarning: The Shapely GEOS version (3.10.2-CAPI-1.16.0) is incompatible with the GEOS version PyGEOS was compiled with (3.10.1-CAPI-1.16.0). Conversions between both will be slow.\n",
      "  warnings.warn(\n"
     ]
    }
   ],
   "source": [
    "import pandas as pd\n",
    "\n",
    "import geopandas as gpd\n",
    "from glob import glob"
   ]
  },
  {
   "cell_type": "code",
   "execution_count": 4,
   "id": "f8fc1325",
   "metadata": {
    "execution": {
     "iopub.execute_input": "2022-09-06T21:01:49.940968Z",
     "iopub.status.busy": "2022-09-06T21:01:49.939404Z",
     "iopub.status.idle": "2022-09-06T21:01:50.876291Z",
     "shell.execute_reply": "2022-09-06T21:01:50.875484Z"
    },
    "papermill": {
     "duration": 0.942907,
     "end_time": "2022-09-06T21:01:50.878609",
     "exception": false,
     "start_time": "2022-09-06T21:01:49.935702",
     "status": "completed"
    },
    "tags": []
   },
   "outputs": [],
   "source": [
    "# open data sp\n",
    "data_peta_w_ruta = gpd.read_file(\"data/output/0_raster_data_desa/desa_pend_rasterize_\"+kdprov+\".gpkg\").to_crs('ESRI:54009')#.area\n",
    "data_peta_w_ruta['idkab']=data_peta_w_ruta.iddesa.apply(lambda y: str(y)[:4])\n"
   ]
  },
  {
   "cell_type": "code",
   "execution_count": 5,
   "id": "75ba398f",
   "metadata": {
    "execution": {
     "iopub.execute_input": "2022-09-06T21:01:50.884902Z",
     "iopub.status.busy": "2022-09-06T21:01:50.884637Z",
     "iopub.status.idle": "2022-09-06T21:01:50.907888Z",
     "shell.execute_reply": "2022-09-06T21:01:50.907077Z"
    },
    "papermill": {
     "duration": 0.028034,
     "end_time": "2022-09-06T21:01:50.909698",
     "exception": false,
     "start_time": "2022-09-06T21:01:50.881664",
     "status": "completed"
    },
    "tags": []
   },
   "outputs": [
    {
     "data": {
      "text/html": [
       "<div>\n",
       "<style scoped>\n",
       "    .dataframe tbody tr th:only-of-type {\n",
       "        vertical-align: middle;\n",
       "    }\n",
       "\n",
       "    .dataframe tbody tr th {\n",
       "        vertical-align: top;\n",
       "    }\n",
       "\n",
       "    .dataframe thead th {\n",
       "        text-align: right;\n",
       "    }\n",
       "</style>\n",
       "<table border=\"1\" class=\"dataframe\">\n",
       "  <thead>\n",
       "    <tr style=\"text-align: right;\">\n",
       "      <th></th>\n",
       "      <th>iddesa</th>\n",
       "      <th>DN</th>\n",
       "      <th>id</th>\n",
       "      <th>pop2020</th>\n",
       "      <th>geometry</th>\n",
       "      <th>idkab</th>\n",
       "    </tr>\n",
       "  </thead>\n",
       "  <tbody>\n",
       "    <tr>\n",
       "      <th>0</th>\n",
       "      <td>1101010001</td>\n",
       "      <td>0.0</td>\n",
       "      <td>0.0</td>\n",
       "      <td>791.0</td>\n",
       "      <td>POLYGON ((9661500.000 295300.000, 9661600.000 ...</td>\n",
       "      <td>1101</td>\n",
       "    </tr>\n",
       "    <tr>\n",
       "      <th>1</th>\n",
       "      <td>1101010002</td>\n",
       "      <td>1.0</td>\n",
       "      <td>1.0</td>\n",
       "      <td>489.0</td>\n",
       "      <td>POLYGON ((9662200.000 296400.000, 9662400.000 ...</td>\n",
       "      <td>1101</td>\n",
       "    </tr>\n",
       "    <tr>\n",
       "      <th>2</th>\n",
       "      <td>1101010003</td>\n",
       "      <td>2.0</td>\n",
       "      <td>2.0</td>\n",
       "      <td>598.0</td>\n",
       "      <td>POLYGON ((9652700.000 296000.000, 9652800.000 ...</td>\n",
       "      <td>1101</td>\n",
       "    </tr>\n",
       "    <tr>\n",
       "      <th>3</th>\n",
       "      <td>1101010004</td>\n",
       "      <td>3.0</td>\n",
       "      <td>3.0</td>\n",
       "      <td>392.0</td>\n",
       "      <td>POLYGON ((9658900.000 303000.000, 9659100.000 ...</td>\n",
       "      <td>1101</td>\n",
       "    </tr>\n",
       "  </tbody>\n",
       "</table>\n",
       "</div>"
      ],
      "text/plain": [
       "       iddesa   DN   id  pop2020  \\\n",
       "0  1101010001  0.0  0.0    791.0   \n",
       "1  1101010002  1.0  1.0    489.0   \n",
       "2  1101010003  2.0  2.0    598.0   \n",
       "3  1101010004  3.0  3.0    392.0   \n",
       "\n",
       "                                            geometry idkab  \n",
       "0  POLYGON ((9661500.000 295300.000, 9661600.000 ...  1101  \n",
       "1  POLYGON ((9662200.000 296400.000, 9662400.000 ...  1101  \n",
       "2  POLYGON ((9652700.000 296000.000, 9652800.000 ...  1101  \n",
       "3  POLYGON ((9658900.000 303000.000, 9659100.000 ...  1101  "
      ]
     },
     "execution_count": 5,
     "metadata": {},
     "output_type": "execute_result"
    }
   ],
   "source": [
    "data_peta_w_ruta.head(4)"
   ]
  },
  {
   "cell_type": "code",
   "execution_count": 6,
   "id": "28abada6",
   "metadata": {
    "execution": {
     "iopub.execute_input": "2022-09-06T21:01:50.915205Z",
     "iopub.status.busy": "2022-09-06T21:01:50.914737Z",
     "iopub.status.idle": "2022-09-06T21:01:50.922101Z",
     "shell.execute_reply": "2022-09-06T21:01:50.921527Z"
    },
    "papermill": {
     "duration": 0.011835,
     "end_time": "2022-09-06T21:01:50.923653",
     "exception": false,
     "start_time": "2022-09-06T21:01:50.911818",
     "status": "completed"
    },
    "tags": []
   },
   "outputs": [],
   "source": [
    "data_builtup_kabkota=glob(\"data/input/GHSL Data/2020/gpkg/ghs_built_\"+kdprov+\"*_nonzero.shp\")"
   ]
  },
  {
   "cell_type": "code",
   "execution_count": 7,
   "id": "72f5142f",
   "metadata": {
    "execution": {
     "iopub.execute_input": "2022-09-06T21:01:50.929032Z",
     "iopub.status.busy": "2022-09-06T21:01:50.928352Z",
     "iopub.status.idle": "2022-09-06T21:01:50.933793Z",
     "shell.execute_reply": "2022-09-06T21:01:50.932883Z"
    },
    "papermill": {
     "duration": 0.010204,
     "end_time": "2022-09-06T21:01:50.935831",
     "exception": false,
     "start_time": "2022-09-06T21:01:50.925627",
     "status": "completed"
    },
    "tags": []
   },
   "outputs": [
    {
     "data": {
      "text/plain": [
       "['data/input/GHSL Data/2020/gpkg/ghs_built_1116_nonzero.shp',\n",
       " 'data/input/GHSL Data/2020/gpkg/ghs_built_1174_nonzero.shp',\n",
       " 'data/input/GHSL Data/2020/gpkg/ghs_built_1108_nonzero.shp',\n",
       " 'data/input/GHSL Data/2020/gpkg/ghs_built_1111_nonzero.shp',\n",
       " 'data/input/GHSL Data/2020/gpkg/ghs_built_1103_nonzero.shp',\n",
       " 'data/input/GHSL Data/2020/gpkg/ghs_built_1110_nonzero.shp',\n",
       " 'data/input/GHSL Data/2020/gpkg/ghs_built_1102_nonzero.shp',\n",
       " 'data/input/GHSL Data/2020/gpkg/ghs_built_1114_nonzero.shp',\n",
       " 'data/input/GHSL Data/2020/gpkg/ghs_built_1115_nonzero.shp',\n",
       " 'data/input/GHSL Data/2020/gpkg/ghs_built_1109_nonzero.shp',\n",
       " 'data/input/GHSL Data/2020/gpkg/ghs_built_1101_nonzero.shp',\n",
       " 'data/input/GHSL Data/2020/gpkg/ghs_built_1104_nonzero.shp',\n",
       " 'data/input/GHSL Data/2020/gpkg/ghs_built_1172_nonzero.shp',\n",
       " 'data/input/GHSL Data/2020/gpkg/ghs_built_1113_nonzero.shp',\n",
       " 'data/input/GHSL Data/2020/gpkg/ghs_built_1175_nonzero.shp',\n",
       " 'data/input/GHSL Data/2020/gpkg/ghs_built_1117_nonzero.shp',\n",
       " 'data/input/GHSL Data/2020/gpkg/ghs_built_1112_nonzero.shp',\n",
       " 'data/input/GHSL Data/2020/gpkg/ghs_built_1107_nonzero.shp',\n",
       " 'data/input/GHSL Data/2020/gpkg/ghs_built_1105_nonzero.shp',\n",
       " 'data/input/GHSL Data/2020/gpkg/ghs_built_1171_nonzero.shp',\n",
       " 'data/input/GHSL Data/2020/gpkg/ghs_built_1118_nonzero.shp',\n",
       " 'data/input/GHSL Data/2020/gpkg/ghs_built_1173_nonzero.shp',\n",
       " 'data/input/GHSL Data/2020/gpkg/ghs_built_1106_nonzero.shp']"
      ]
     },
     "execution_count": 7,
     "metadata": {},
     "output_type": "execute_result"
    }
   ],
   "source": [
    "data_builtup_kabkota"
   ]
  },
  {
   "cell_type": "code",
   "execution_count": 8,
   "id": "25e1506d",
   "metadata": {
    "execution": {
     "iopub.execute_input": "2022-09-06T21:01:50.941659Z",
     "iopub.status.busy": "2022-09-06T21:01:50.941186Z",
     "iopub.status.idle": "2022-09-06T21:01:50.949018Z",
     "shell.execute_reply": "2022-09-06T21:01:50.948477Z"
    },
    "papermill": {
     "duration": 0.01263,
     "end_time": "2022-09-06T21:01:50.950628",
     "exception": false,
     "start_time": "2022-09-06T21:01:50.937998",
     "status": "completed"
    },
    "tags": []
   },
   "outputs": [],
   "source": [
    "import os.path\n",
    "def pop_dens(dt):\n",
    "    global data_peta_w_ruta\n",
    "    kdkab=dt.split('/')[5].replace('ghs_built_','').replace('_nonzero.shp','')\n",
    "    if ((os.path.exists(\"data/output/1_population_density/grid_pop_\"+kdkab+\"_100m.gpkg\")==False) \n",
    "        or (os.path.exists(\"data/output/1_population_density/grid_pop_\"+kdkab+\"_100m.gpkg-journal\")==True)):\n",
    "        data_builtup=gpd.read_file(dt)#.to_crs(('ESRI:54009'))\n",
    "        data_builtup['DN']=data_builtup.value\n",
    "        data_peta_w_ruta.pop2020.sum()\n",
    "        data_builtup['centroid'] = data_builtup.centroid\n",
    "        data_builtup['polygon'] = data_builtup['geometry']\n",
    "        data_builtup.crs='ESRI:54009'\n",
    "        data_peta_w_ruta.crs='ESRI:54009'\n",
    "        data_builtup = data_builtup.loc[:,['DN','centroid','polygon']].set_geometry(\"centroid\").sjoin(data_peta_w_ruta)\n",
    "        data_builtup['TOTAL_PEND']=data_builtup['pop2020']\n",
    "    # data_builtup = data_builtup.loc[:,['DN','geometry']].sjoin(data_peta_w_ruta)\n",
    "        data_builtup['p_area'] = data_builtup['DN_left'] / data_builtup.groupby('iddesa').DN_left.transform('sum')\n",
    "        data_builtup['j_pend'] = list(data_builtup['p_area']*data_builtup['TOTAL_PEND'])\n",
    "    # data_builtup[['DN_left', 'geometry', 'iddesa','TOTAL_PEND', 'p_area','j_pend']].to_file(\"data/input/grid_pop_\"+kdprov+\"_100m.gpkg\", driver=\"GPKG\")\n",
    "        data_builtup[['DN_left', 'centroid', 'iddesa','TOTAL_PEND', 'p_area','j_pend']].to_file(\"data/temp/grid_pop_\"+kdkab+\"_100m.gpkg\", driver=\"GPKG\")\n",
    "        data_=data_builtup[['DN_left', 'polygon', 'iddesa','TOTAL_PEND', 'p_area','j_pend']].set_geometry(\"polygon\")\n",
    "        data_.crs='ESRI:54009'\n",
    "        data_.to_file(\"data/output/1_population_density/grid_pop_\"+kdkab+\"_100m.gpkg\", driver=\"GPKG\")\n",
    "    else:\n",
    "        print('SKIP for: ',kdkab)"
   ]
  },
  {
   "cell_type": "code",
   "execution_count": 9,
   "id": "8aa13266",
   "metadata": {
    "execution": {
     "iopub.execute_input": "2022-09-06T21:01:50.956872Z",
     "iopub.status.busy": "2022-09-06T21:01:50.956200Z",
     "iopub.status.idle": "2022-09-06T21:05:52.348787Z",
     "shell.execute_reply": "2022-09-06T21:05:52.347815Z"
    },
    "papermill": {
     "duration": 241.397933,
     "end_time": "2022-09-06T21:05:52.350889",
     "exception": false,
     "start_time": "2022-09-06T21:01:50.952956",
     "status": "completed"
    },
    "tags": []
   },
   "outputs": [
    {
     "data": {
      "application/vnd.jupyter.widget-view+json": {
       "model_id": "d989f38ad0a44863a8b3039754ccabd1",
       "version_major": 2,
       "version_minor": 0
      },
      "text/plain": [
       "  0%|          | 0/23 [00:00<?, ?it/s]"
      ]
     },
     "metadata": {},
     "output_type": "display_data"
    },
    {
     "name": "stderr",
     "output_type": "stream",
     "text": [
      "/home/jupyter-peta_admin/.local/lib/python3.8/site-packages/geopandas/geodataframe.py:2072: UserWarning: CRS mismatch between the CRS of left geometries and the CRS of right geometries.\n",
      "Use `to_crs()` to reproject one of the input geometries to match the CRS of the other.\n",
      "\n",
      "Left CRS: None\n",
      "Right CRS: ESRI:54009\n",
      "\n",
      "  return geopandas.sjoin(left_df=self, right_df=df, *args, **kwargs)\n"
     ]
    },
    {
     "name": "stderr",
     "output_type": "stream",
     "text": [
      "/home/jupyter-peta_admin/.local/lib/python3.8/site-packages/geopandas/geodataframe.py:2072: UserWarning: CRS mismatch between the CRS of left geometries and the CRS of right geometries.\n",
      "Use `to_crs()` to reproject one of the input geometries to match the CRS of the other.\n",
      "\n",
      "Left CRS: None\n",
      "Right CRS: ESRI:54009\n",
      "\n",
      "  return geopandas.sjoin(left_df=self, right_df=df, *args, **kwargs)\n"
     ]
    },
    {
     "name": "stderr",
     "output_type": "stream",
     "text": [
      "/home/jupyter-peta_admin/.local/lib/python3.8/site-packages/geopandas/geodataframe.py:2072: UserWarning: CRS mismatch between the CRS of left geometries and the CRS of right geometries.\n",
      "Use `to_crs()` to reproject one of the input geometries to match the CRS of the other.\n",
      "\n",
      "Left CRS: None\n",
      "Right CRS: ESRI:54009\n",
      "\n",
      "  return geopandas.sjoin(left_df=self, right_df=df, *args, **kwargs)\n"
     ]
    },
    {
     "name": "stderr",
     "output_type": "stream",
     "text": [
      "/home/jupyter-peta_admin/.local/lib/python3.8/site-packages/geopandas/geodataframe.py:2072: UserWarning: CRS mismatch between the CRS of left geometries and the CRS of right geometries.\n",
      "Use `to_crs()` to reproject one of the input geometries to match the CRS of the other.\n",
      "\n",
      "Left CRS: None\n",
      "Right CRS: ESRI:54009\n",
      "\n",
      "  return geopandas.sjoin(left_df=self, right_df=df, *args, **kwargs)\n"
     ]
    },
    {
     "name": "stderr",
     "output_type": "stream",
     "text": [
      "/home/jupyter-peta_admin/.local/lib/python3.8/site-packages/geopandas/geodataframe.py:2072: UserWarning: CRS mismatch between the CRS of left geometries and the CRS of right geometries.\n",
      "Use `to_crs()` to reproject one of the input geometries to match the CRS of the other.\n",
      "\n",
      "Left CRS: None\n",
      "Right CRS: ESRI:54009\n",
      "\n",
      "  return geopandas.sjoin(left_df=self, right_df=df, *args, **kwargs)\n"
     ]
    },
    {
     "name": "stderr",
     "output_type": "stream",
     "text": [
      "/home/jupyter-peta_admin/.local/lib/python3.8/site-packages/geopandas/geodataframe.py:2072: UserWarning: CRS mismatch between the CRS of left geometries and the CRS of right geometries.\n",
      "Use `to_crs()` to reproject one of the input geometries to match the CRS of the other.\n",
      "\n",
      "Left CRS: None\n",
      "Right CRS: ESRI:54009\n",
      "\n",
      "  return geopandas.sjoin(left_df=self, right_df=df, *args, **kwargs)\n"
     ]
    },
    {
     "name": "stderr",
     "output_type": "stream",
     "text": [
      "/home/jupyter-peta_admin/.local/lib/python3.8/site-packages/geopandas/geodataframe.py:2072: UserWarning: CRS mismatch between the CRS of left geometries and the CRS of right geometries.\n",
      "Use `to_crs()` to reproject one of the input geometries to match the CRS of the other.\n",
      "\n",
      "Left CRS: None\n",
      "Right CRS: ESRI:54009\n",
      "\n",
      "  return geopandas.sjoin(left_df=self, right_df=df, *args, **kwargs)\n"
     ]
    },
    {
     "name": "stderr",
     "output_type": "stream",
     "text": [
      "/home/jupyter-peta_admin/.local/lib/python3.8/site-packages/geopandas/geodataframe.py:2072: UserWarning: CRS mismatch between the CRS of left geometries and the CRS of right geometries.\n",
      "Use `to_crs()` to reproject one of the input geometries to match the CRS of the other.\n",
      "\n",
      "Left CRS: None\n",
      "Right CRS: ESRI:54009\n",
      "\n",
      "  return geopandas.sjoin(left_df=self, right_df=df, *args, **kwargs)\n"
     ]
    },
    {
     "name": "stderr",
     "output_type": "stream",
     "text": [
      "/home/jupyter-peta_admin/.local/lib/python3.8/site-packages/geopandas/geodataframe.py:2072: UserWarning: CRS mismatch between the CRS of left geometries and the CRS of right geometries.\n",
      "Use `to_crs()` to reproject one of the input geometries to match the CRS of the other.\n",
      "\n",
      "Left CRS: None\n",
      "Right CRS: ESRI:54009\n",
      "\n",
      "  return geopandas.sjoin(left_df=self, right_df=df, *args, **kwargs)\n"
     ]
    },
    {
     "name": "stderr",
     "output_type": "stream",
     "text": [
      "/home/jupyter-peta_admin/.local/lib/python3.8/site-packages/geopandas/geodataframe.py:2072: UserWarning: CRS mismatch between the CRS of left geometries and the CRS of right geometries.\n",
      "Use `to_crs()` to reproject one of the input geometries to match the CRS of the other.\n",
      "\n",
      "Left CRS: None\n",
      "Right CRS: ESRI:54009\n",
      "\n",
      "  return geopandas.sjoin(left_df=self, right_df=df, *args, **kwargs)\n"
     ]
    },
    {
     "name": "stderr",
     "output_type": "stream",
     "text": [
      "/home/jupyter-peta_admin/.local/lib/python3.8/site-packages/geopandas/geodataframe.py:2072: UserWarning: CRS mismatch between the CRS of left geometries and the CRS of right geometries.\n",
      "Use `to_crs()` to reproject one of the input geometries to match the CRS of the other.\n",
      "\n",
      "Left CRS: None\n",
      "Right CRS: ESRI:54009\n",
      "\n",
      "  return geopandas.sjoin(left_df=self, right_df=df, *args, **kwargs)\n"
     ]
    },
    {
     "name": "stderr",
     "output_type": "stream",
     "text": [
      "/home/jupyter-peta_admin/.local/lib/python3.8/site-packages/geopandas/geodataframe.py:2072: UserWarning: CRS mismatch between the CRS of left geometries and the CRS of right geometries.\n",
      "Use `to_crs()` to reproject one of the input geometries to match the CRS of the other.\n",
      "\n",
      "Left CRS: None\n",
      "Right CRS: ESRI:54009\n",
      "\n",
      "  return geopandas.sjoin(left_df=self, right_df=df, *args, **kwargs)\n"
     ]
    },
    {
     "name": "stderr",
     "output_type": "stream",
     "text": [
      "/home/jupyter-peta_admin/.local/lib/python3.8/site-packages/geopandas/geodataframe.py:2072: UserWarning: CRS mismatch between the CRS of left geometries and the CRS of right geometries.\n",
      "Use `to_crs()` to reproject one of the input geometries to match the CRS of the other.\n",
      "\n",
      "Left CRS: None\n",
      "Right CRS: ESRI:54009\n",
      "\n",
      "  return geopandas.sjoin(left_df=self, right_df=df, *args, **kwargs)\n"
     ]
    },
    {
     "name": "stderr",
     "output_type": "stream",
     "text": [
      "/home/jupyter-peta_admin/.local/lib/python3.8/site-packages/geopandas/geodataframe.py:2072: UserWarning: CRS mismatch between the CRS of left geometries and the CRS of right geometries.\n",
      "Use `to_crs()` to reproject one of the input geometries to match the CRS of the other.\n",
      "\n",
      "Left CRS: None\n",
      "Right CRS: ESRI:54009\n",
      "\n",
      "  return geopandas.sjoin(left_df=self, right_df=df, *args, **kwargs)\n"
     ]
    },
    {
     "name": "stderr",
     "output_type": "stream",
     "text": [
      "/home/jupyter-peta_admin/.local/lib/python3.8/site-packages/geopandas/geodataframe.py:2072: UserWarning: CRS mismatch between the CRS of left geometries and the CRS of right geometries.\n",
      "Use `to_crs()` to reproject one of the input geometries to match the CRS of the other.\n",
      "\n",
      "Left CRS: None\n",
      "Right CRS: ESRI:54009\n",
      "\n",
      "  return geopandas.sjoin(left_df=self, right_df=df, *args, **kwargs)\n"
     ]
    },
    {
     "name": "stderr",
     "output_type": "stream",
     "text": [
      "/home/jupyter-peta_admin/.local/lib/python3.8/site-packages/geopandas/geodataframe.py:2072: UserWarning: CRS mismatch between the CRS of left geometries and the CRS of right geometries.\n",
      "Use `to_crs()` to reproject one of the input geometries to match the CRS of the other.\n",
      "\n",
      "Left CRS: None\n",
      "Right CRS: ESRI:54009\n",
      "\n",
      "  return geopandas.sjoin(left_df=self, right_df=df, *args, **kwargs)\n"
     ]
    },
    {
     "name": "stderr",
     "output_type": "stream",
     "text": [
      "/home/jupyter-peta_admin/.local/lib/python3.8/site-packages/geopandas/geodataframe.py:2072: UserWarning: CRS mismatch between the CRS of left geometries and the CRS of right geometries.\n",
      "Use `to_crs()` to reproject one of the input geometries to match the CRS of the other.\n",
      "\n",
      "Left CRS: None\n",
      "Right CRS: ESRI:54009\n",
      "\n",
      "  return geopandas.sjoin(left_df=self, right_df=df, *args, **kwargs)\n"
     ]
    },
    {
     "name": "stderr",
     "output_type": "stream",
     "text": [
      "/home/jupyter-peta_admin/.local/lib/python3.8/site-packages/geopandas/geodataframe.py:2072: UserWarning: CRS mismatch between the CRS of left geometries and the CRS of right geometries.\n",
      "Use `to_crs()` to reproject one of the input geometries to match the CRS of the other.\n",
      "\n",
      "Left CRS: None\n",
      "Right CRS: ESRI:54009\n",
      "\n",
      "  return geopandas.sjoin(left_df=self, right_df=df, *args, **kwargs)\n"
     ]
    },
    {
     "name": "stderr",
     "output_type": "stream",
     "text": [
      "/home/jupyter-peta_admin/.local/lib/python3.8/site-packages/geopandas/geodataframe.py:2072: UserWarning: CRS mismatch between the CRS of left geometries and the CRS of right geometries.\n",
      "Use `to_crs()` to reproject one of the input geometries to match the CRS of the other.\n",
      "\n",
      "Left CRS: None\n",
      "Right CRS: ESRI:54009\n",
      "\n",
      "  return geopandas.sjoin(left_df=self, right_df=df, *args, **kwargs)\n"
     ]
    },
    {
     "name": "stderr",
     "output_type": "stream",
     "text": [
      "/home/jupyter-peta_admin/.local/lib/python3.8/site-packages/geopandas/geodataframe.py:2072: UserWarning: CRS mismatch between the CRS of left geometries and the CRS of right geometries.\n",
      "Use `to_crs()` to reproject one of the input geometries to match the CRS of the other.\n",
      "\n",
      "Left CRS: None\n",
      "Right CRS: ESRI:54009\n",
      "\n",
      "  return geopandas.sjoin(left_df=self, right_df=df, *args, **kwargs)\n"
     ]
    },
    {
     "name": "stderr",
     "output_type": "stream",
     "text": [
      "/home/jupyter-peta_admin/.local/lib/python3.8/site-packages/geopandas/geodataframe.py:2072: UserWarning: CRS mismatch between the CRS of left geometries and the CRS of right geometries.\n",
      "Use `to_crs()` to reproject one of the input geometries to match the CRS of the other.\n",
      "\n",
      "Left CRS: None\n",
      "Right CRS: ESRI:54009\n",
      "\n",
      "  return geopandas.sjoin(left_df=self, right_df=df, *args, **kwargs)\n"
     ]
    },
    {
     "name": "stderr",
     "output_type": "stream",
     "text": [
      "/home/jupyter-peta_admin/.local/lib/python3.8/site-packages/geopandas/geodataframe.py:2072: UserWarning: CRS mismatch between the CRS of left geometries and the CRS of right geometries.\n",
      "Use `to_crs()` to reproject one of the input geometries to match the CRS of the other.\n",
      "\n",
      "Left CRS: None\n",
      "Right CRS: ESRI:54009\n",
      "\n",
      "  return geopandas.sjoin(left_df=self, right_df=df, *args, **kwargs)\n"
     ]
    },
    {
     "name": "stderr",
     "output_type": "stream",
     "text": [
      "/home/jupyter-peta_admin/.local/lib/python3.8/site-packages/geopandas/geodataframe.py:2072: UserWarning: CRS mismatch between the CRS of left geometries and the CRS of right geometries.\n",
      "Use `to_crs()` to reproject one of the input geometries to match the CRS of the other.\n",
      "\n",
      "Left CRS: None\n",
      "Right CRS: ESRI:54009\n",
      "\n",
      "  return geopandas.sjoin(left_df=self, right_df=df, *args, **kwargs)\n"
     ]
    },
    {
     "data": {
      "text/plain": [
       "[None,\n",
       " None,\n",
       " None,\n",
       " None,\n",
       " None,\n",
       " None,\n",
       " None,\n",
       " None,\n",
       " None,\n",
       " None,\n",
       " None,\n",
       " None,\n",
       " None,\n",
       " None,\n",
       " None,\n",
       " None,\n",
       " None,\n",
       " None,\n",
       " None,\n",
       " None,\n",
       " None,\n",
       " None,\n",
       " None]"
      ]
     },
     "execution_count": 9,
     "metadata": {},
     "output_type": "execute_result"
    }
   ],
   "source": [
    "from tqdm.contrib.concurrent import process_map\n",
    "process_map(pop_dens,data_builtup_kabkota)   "
   ]
  }
 ],
 "metadata": {
  "celltoolbar": "Tags",
  "kernelspec": {
   "display_name": "Python 3 (ipykernel)",
   "language": "python",
   "name": "python3"
  },
  "language_info": {
   "codemirror_mode": {
    "name": "ipython",
    "version": 3
   },
   "file_extension": ".py",
   "mimetype": "text/x-python",
   "name": "python",
   "nbconvert_exporter": "python",
   "pygments_lexer": "ipython3",
   "version": "3.8.12"
  },
  "papermill": {
   "default_parameters": {},
   "duration": 244.497852,
   "end_time": "2022-09-06T21:05:52.676428",
   "environment_variables": {},
   "exception": null,
   "input_path": "01_Population_Density #1 Preparing for 100m By KABKOTA.ipynb",
   "output_path": "01_Population Density #1-11.ipynb",
   "parameters": {
    "kdprov": "11"
   },
   "start_time": "2022-09-06T21:01:48.178576",
   "version": "2.3.4"
  },
  "widgets": {
   "application/vnd.jupyter.widget-state+json": {
    "state": {
     "0eb9f1ce8d6f4b72b8b94e0d33d78bf2": {
      "model_module": "@jupyter-widgets/controls",
      "model_module_version": "1.5.0",
      "model_name": "FloatProgressModel",
      "state": {
       "_dom_classes": [],
       "_model_module": "@jupyter-widgets/controls",
       "_model_module_version": "1.5.0",
       "_model_name": "FloatProgressModel",
       "_view_count": null,
       "_view_module": "@jupyter-widgets/controls",
       "_view_module_version": "1.5.0",
       "_view_name": "ProgressView",
       "bar_style": "success",
       "description": "",
       "description_tooltip": null,
       "layout": "IPY_MODEL_94988f7fca944afa92bf98a81bed897c",
       "max": 23.0,
       "min": 0.0,
       "orientation": "horizontal",
       "style": "IPY_MODEL_26b79c8be37e4bf4b5c23179e44c50b2",
       "value": 23.0
      }
     },
     "199f1470fc36419c8294d301633c69de": {
      "model_module": "@jupyter-widgets/controls",
      "model_module_version": "1.5.0",
      "model_name": "HTMLModel",
      "state": {
       "_dom_classes": [],
       "_model_module": "@jupyter-widgets/controls",
       "_model_module_version": "1.5.0",
       "_model_name": "HTMLModel",
       "_view_count": null,
       "_view_module": "@jupyter-widgets/controls",
       "_view_module_version": "1.5.0",
       "_view_name": "HTMLView",
       "description": "",
       "description_tooltip": null,
       "layout": "IPY_MODEL_a0acb56aa04b42c19f73ef51784a7f69",
       "placeholder": "​",
       "style": "IPY_MODEL_5de42d12afdb4b71bfd3895a93188189",
       "value": "100%"
      }
     },
     "26b79c8be37e4bf4b5c23179e44c50b2": {
      "model_module": "@jupyter-widgets/controls",
      "model_module_version": "1.5.0",
      "model_name": "ProgressStyleModel",
      "state": {
       "_model_module": "@jupyter-widgets/controls",
       "_model_module_version": "1.5.0",
       "_model_name": "ProgressStyleModel",
       "_view_count": null,
       "_view_module": "@jupyter-widgets/base",
       "_view_module_version": "1.2.0",
       "_view_name": "StyleView",
       "bar_color": null,
       "description_width": ""
      }
     },
     "484b3643db954d5b8362d8a3b684e521": {
      "model_module": "@jupyter-widgets/controls",
      "model_module_version": "1.5.0",
      "model_name": "DescriptionStyleModel",
      "state": {
       "_model_module": "@jupyter-widgets/controls",
       "_model_module_version": "1.5.0",
       "_model_name": "DescriptionStyleModel",
       "_view_count": null,
       "_view_module": "@jupyter-widgets/base",
       "_view_module_version": "1.2.0",
       "_view_name": "StyleView",
       "description_width": ""
      }
     },
     "5de42d12afdb4b71bfd3895a93188189": {
      "model_module": "@jupyter-widgets/controls",
      "model_module_version": "1.5.0",
      "model_name": "DescriptionStyleModel",
      "state": {
       "_model_module": "@jupyter-widgets/controls",
       "_model_module_version": "1.5.0",
       "_model_name": "DescriptionStyleModel",
       "_view_count": null,
       "_view_module": "@jupyter-widgets/base",
       "_view_module_version": "1.2.0",
       "_view_name": "StyleView",
       "description_width": ""
      }
     },
     "94988f7fca944afa92bf98a81bed897c": {
      "model_module": "@jupyter-widgets/base",
      "model_module_version": "1.2.0",
      "model_name": "LayoutModel",
      "state": {
       "_model_module": "@jupyter-widgets/base",
       "_model_module_version": "1.2.0",
       "_model_name": "LayoutModel",
       "_view_count": null,
       "_view_module": "@jupyter-widgets/base",
       "_view_module_version": "1.2.0",
       "_view_name": "LayoutView",
       "align_content": null,
       "align_items": null,
       "align_self": null,
       "border": null,
       "bottom": null,
       "display": null,
       "flex": null,
       "flex_flow": null,
       "grid_area": null,
       "grid_auto_columns": null,
       "grid_auto_flow": null,
       "grid_auto_rows": null,
       "grid_column": null,
       "grid_gap": null,
       "grid_row": null,
       "grid_template_areas": null,
       "grid_template_columns": null,
       "grid_template_rows": null,
       "height": null,
       "justify_content": null,
       "justify_items": null,
       "left": null,
       "margin": null,
       "max_height": null,
       "max_width": null,
       "min_height": null,
       "min_width": null,
       "object_fit": null,
       "object_position": null,
       "order": null,
       "overflow": null,
       "overflow_x": null,
       "overflow_y": null,
       "padding": null,
       "right": null,
       "top": null,
       "visibility": null,
       "width": null
      }
     },
     "952b9845aea24951828e1f098302a600": {
      "model_module": "@jupyter-widgets/base",
      "model_module_version": "1.2.0",
      "model_name": "LayoutModel",
      "state": {
       "_model_module": "@jupyter-widgets/base",
       "_model_module_version": "1.2.0",
       "_model_name": "LayoutModel",
       "_view_count": null,
       "_view_module": "@jupyter-widgets/base",
       "_view_module_version": "1.2.0",
       "_view_name": "LayoutView",
       "align_content": null,
       "align_items": null,
       "align_self": null,
       "border": null,
       "bottom": null,
       "display": null,
       "flex": null,
       "flex_flow": null,
       "grid_area": null,
       "grid_auto_columns": null,
       "grid_auto_flow": null,
       "grid_auto_rows": null,
       "grid_column": null,
       "grid_gap": null,
       "grid_row": null,
       "grid_template_areas": null,
       "grid_template_columns": null,
       "grid_template_rows": null,
       "height": null,
       "justify_content": null,
       "justify_items": null,
       "left": null,
       "margin": null,
       "max_height": null,
       "max_width": null,
       "min_height": null,
       "min_width": null,
       "object_fit": null,
       "object_position": null,
       "order": null,
       "overflow": null,
       "overflow_x": null,
       "overflow_y": null,
       "padding": null,
       "right": null,
       "top": null,
       "visibility": null,
       "width": null
      }
     },
     "a0acb56aa04b42c19f73ef51784a7f69": {
      "model_module": "@jupyter-widgets/base",
      "model_module_version": "1.2.0",
      "model_name": "LayoutModel",
      "state": {
       "_model_module": "@jupyter-widgets/base",
       "_model_module_version": "1.2.0",
       "_model_name": "LayoutModel",
       "_view_count": null,
       "_view_module": "@jupyter-widgets/base",
       "_view_module_version": "1.2.0",
       "_view_name": "LayoutView",
       "align_content": null,
       "align_items": null,
       "align_self": null,
       "border": null,
       "bottom": null,
       "display": null,
       "flex": null,
       "flex_flow": null,
       "grid_area": null,
       "grid_auto_columns": null,
       "grid_auto_flow": null,
       "grid_auto_rows": null,
       "grid_column": null,
       "grid_gap": null,
       "grid_row": null,
       "grid_template_areas": null,
       "grid_template_columns": null,
       "grid_template_rows": null,
       "height": null,
       "justify_content": null,
       "justify_items": null,
       "left": null,
       "margin": null,
       "max_height": null,
       "max_width": null,
       "min_height": null,
       "min_width": null,
       "object_fit": null,
       "object_position": null,
       "order": null,
       "overflow": null,
       "overflow_x": null,
       "overflow_y": null,
       "padding": null,
       "right": null,
       "top": null,
       "visibility": null,
       "width": null
      }
     },
     "d989f38ad0a44863a8b3039754ccabd1": {
      "model_module": "@jupyter-widgets/controls",
      "model_module_version": "1.5.0",
      "model_name": "HBoxModel",
      "state": {
       "_dom_classes": [],
       "_model_module": "@jupyter-widgets/controls",
       "_model_module_version": "1.5.0",
       "_model_name": "HBoxModel",
       "_view_count": null,
       "_view_module": "@jupyter-widgets/controls",
       "_view_module_version": "1.5.0",
       "_view_name": "HBoxView",
       "box_style": "",
       "children": [
        "IPY_MODEL_199f1470fc36419c8294d301633c69de",
        "IPY_MODEL_0eb9f1ce8d6f4b72b8b94e0d33d78bf2",
        "IPY_MODEL_e3524e7ab67d4efc83b57bfa92a304a5"
       ],
       "layout": "IPY_MODEL_e1b044916c7144f286ead7898dd4733c"
      }
     },
     "e1b044916c7144f286ead7898dd4733c": {
      "model_module": "@jupyter-widgets/base",
      "model_module_version": "1.2.0",
      "model_name": "LayoutModel",
      "state": {
       "_model_module": "@jupyter-widgets/base",
       "_model_module_version": "1.2.0",
       "_model_name": "LayoutModel",
       "_view_count": null,
       "_view_module": "@jupyter-widgets/base",
       "_view_module_version": "1.2.0",
       "_view_name": "LayoutView",
       "align_content": null,
       "align_items": null,
       "align_self": null,
       "border": null,
       "bottom": null,
       "display": null,
       "flex": null,
       "flex_flow": null,
       "grid_area": null,
       "grid_auto_columns": null,
       "grid_auto_flow": null,
       "grid_auto_rows": null,
       "grid_column": null,
       "grid_gap": null,
       "grid_row": null,
       "grid_template_areas": null,
       "grid_template_columns": null,
       "grid_template_rows": null,
       "height": null,
       "justify_content": null,
       "justify_items": null,
       "left": null,
       "margin": null,
       "max_height": null,
       "max_width": null,
       "min_height": null,
       "min_width": null,
       "object_fit": null,
       "object_position": null,
       "order": null,
       "overflow": null,
       "overflow_x": null,
       "overflow_y": null,
       "padding": null,
       "right": null,
       "top": null,
       "visibility": null,
       "width": null
      }
     },
     "e3524e7ab67d4efc83b57bfa92a304a5": {
      "model_module": "@jupyter-widgets/controls",
      "model_module_version": "1.5.0",
      "model_name": "HTMLModel",
      "state": {
       "_dom_classes": [],
       "_model_module": "@jupyter-widgets/controls",
       "_model_module_version": "1.5.0",
       "_model_name": "HTMLModel",
       "_view_count": null,
       "_view_module": "@jupyter-widgets/controls",
       "_view_module_version": "1.5.0",
       "_view_name": "HTMLView",
       "description": "",
       "description_tooltip": null,
       "layout": "IPY_MODEL_952b9845aea24951828e1f098302a600",
       "placeholder": "​",
       "style": "IPY_MODEL_484b3643db954d5b8362d8a3b684e521",
       "value": " 23/23 [04:00&lt;00:00, 13.17s/it]"
      }
     }
    },
    "version_major": 2,
    "version_minor": 0
   }
  }
 },
 "nbformat": 4,
 "nbformat_minor": 5
}