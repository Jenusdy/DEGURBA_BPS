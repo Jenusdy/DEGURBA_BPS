{
 "cells": [
  {
   "cell_type": "code",
   "execution_count": 1,
   "id": "517ff479",
   "metadata": {
    "execution": {
     "iopub.execute_input": "2022-09-06T22:32:50.696381Z",
     "iopub.status.busy": "2022-09-06T22:32:50.695754Z",
     "iopub.status.idle": "2022-09-06T22:32:50.702966Z",
     "shell.execute_reply": "2022-09-06T22:32:50.702371Z"
    },
    "papermill": {
     "duration": 0.012978,
     "end_time": "2022-09-06T22:32:50.705028",
     "exception": false,
     "start_time": "2022-09-06T22:32:50.692050",
     "status": "completed"
    },
    "tags": [
     "parameters"
    ]
   },
   "outputs": [],
   "source": [
    "kdprov = '76'"
   ]
  },
  {
   "cell_type": "code",
   "execution_count": 2,
   "id": "f8eefb9d",
   "metadata": {
    "execution": {
     "iopub.execute_input": "2022-09-06T22:32:50.712064Z",
     "iopub.status.busy": "2022-09-06T22:32:50.711421Z",
     "iopub.status.idle": "2022-09-06T22:32:50.714470Z",
     "shell.execute_reply": "2022-09-06T22:32:50.713915Z"
    },
    "papermill": {
     "duration": 0.00795,
     "end_time": "2022-09-06T22:32:50.716173",
     "exception": false,
     "start_time": "2022-09-06T22:32:50.708223",
     "status": "completed"
    },
    "tags": [
     "injected-parameters"
    ]
   },
   "outputs": [],
   "source": [
    "# Parameters\n",
    "kdprov = \"32\"\n"
   ]
  },
  {
   "cell_type": "code",
   "execution_count": 3,
   "id": "b77d269d",
   "metadata": {
    "execution": {
     "iopub.execute_input": "2022-09-06T22:32:50.720668Z",
     "iopub.status.busy": "2022-09-06T22:32:50.720283Z",
     "iopub.status.idle": "2022-09-06T22:32:51.353285Z",
     "shell.execute_reply": "2022-09-06T22:32:51.352541Z"
    },
    "papermill": {
     "duration": 0.637658,
     "end_time": "2022-09-06T22:32:51.355284",
     "exception": false,
     "start_time": "2022-09-06T22:32:50.717626",
     "status": "completed"
    },
    "tags": []
   },
   "outputs": [
    {
     "name": "stderr",
     "output_type": "stream",
     "text": [
      "/home/jupyter-peta_admin/.local/lib/python3.8/site-packages/geopandas/_compat.py:112: UserWarning: The Shapely GEOS version (3.10.2-CAPI-1.16.0) is incompatible with the GEOS version PyGEOS was compiled with (3.10.1-CAPI-1.16.0). Conversions between both will be slow.\n",
      "  warnings.warn(\n"
     ]
    }
   ],
   "source": [
    "import pandas as pd\n",
    "import geopandas as gpd\n",
    "import rasterio\n",
    "import rasterio.features as features\n",
    "import numpy as np\n",
    "from rasterio.enums import Resampling\n",
    "from rasterio.crs import CRS\n",
    "import itertools\n",
    "\n",
    "from shapely.geometry import box"
   ]
  },
  {
   "cell_type": "code",
   "execution_count": 4,
   "id": "32a2c10f",
   "metadata": {
    "execution": {
     "iopub.execute_input": "2022-09-06T22:32:51.362383Z",
     "iopub.status.busy": "2022-09-06T22:32:51.361753Z",
     "iopub.status.idle": "2022-09-06T22:32:51.365632Z",
     "shell.execute_reply": "2022-09-06T22:32:51.364908Z"
    },
    "papermill": {
     "duration": 0.008182,
     "end_time": "2022-09-06T22:32:51.367263",
     "exception": false,
     "start_time": "2022-09-06T22:32:51.359081",
     "status": "completed"
    },
    "tags": []
   },
   "outputs": [],
   "source": [
    "from glob import glob"
   ]
  },
  {
   "cell_type": "code",
   "execution_count": 5,
   "id": "31300527",
   "metadata": {
    "execution": {
     "iopub.execute_input": "2022-09-06T22:32:51.371742Z",
     "iopub.status.busy": "2022-09-06T22:32:51.371508Z",
     "iopub.status.idle": "2022-09-06T22:32:51.376819Z",
     "shell.execute_reply": "2022-09-06T22:32:51.376242Z"
    },
    "papermill": {
     "duration": 0.009523,
     "end_time": "2022-09-06T22:32:51.378411",
     "exception": false,
     "start_time": "2022-09-06T22:32:51.368888",
     "status": "completed"
    },
    "tags": []
   },
   "outputs": [],
   "source": [
    "data_popdens_100m=glob(\"data/output/1_population_density/grid_pop_\"+kdprov+\"*_100m.gpkg\")\n",
    "data_popdens_100m=[i for i in data_popdens_100m if len(i)==56]"
   ]
  },
  {
   "cell_type": "code",
   "execution_count": 6,
   "id": "d11c9d82",
   "metadata": {
    "execution": {
     "iopub.execute_input": "2022-09-06T22:32:51.382855Z",
     "iopub.status.busy": "2022-09-06T22:32:51.382449Z",
     "iopub.status.idle": "2022-09-06T22:32:51.391509Z",
     "shell.execute_reply": "2022-09-06T22:32:51.390927Z"
    },
    "papermill": {
     "duration": 0.013069,
     "end_time": "2022-09-06T22:32:51.393060",
     "exception": false,
     "start_time": "2022-09-06T22:32:51.379991",
     "status": "completed"
    },
    "tags": []
   },
   "outputs": [
    {
     "data": {
      "text/plain": [
       "['data/output/1_population_density/grid_pop_3206_100m.gpkg',\n",
       " 'data/output/1_population_density/grid_pop_3209_100m.gpkg',\n",
       " 'data/output/1_population_density/grid_pop_3201_100m.gpkg',\n",
       " 'data/output/1_population_density/grid_pop_3217_100m.gpkg',\n",
       " 'data/output/1_population_density/grid_pop_3205_100m.gpkg',\n",
       " 'data/output/1_population_density/grid_pop_3212_100m.gpkg',\n",
       " 'data/output/1_population_density/grid_pop_3279_100m.gpkg',\n",
       " 'data/output/1_population_density/grid_pop_3203_100m.gpkg',\n",
       " 'data/output/1_population_density/grid_pop_3275_100m.gpkg',\n",
       " 'data/output/1_population_density/grid_pop_3274_100m.gpkg',\n",
       " 'data/output/1_population_density/grid_pop_3216_100m.gpkg',\n",
       " 'data/output/1_population_density/grid_pop_3208_100m.gpkg',\n",
       " 'data/output/1_population_density/grid_pop_3218_100m.gpkg',\n",
       " 'data/output/1_population_density/grid_pop_3211_100m.gpkg',\n",
       " 'data/output/1_population_density/grid_pop_3202_100m.gpkg',\n",
       " 'data/output/1_population_density/grid_pop_3271_100m.gpkg',\n",
       " 'data/output/1_population_density/grid_pop_3207_100m.gpkg',\n",
       " 'data/output/1_population_density/grid_pop_3272_100m.gpkg',\n",
       " 'data/output/1_population_density/grid_pop_3215_100m.gpkg',\n",
       " 'data/output/1_population_density/grid_pop_3210_100m.gpkg',\n",
       " 'data/output/1_population_density/grid_pop_3214_100m.gpkg',\n",
       " 'data/output/1_population_density/grid_pop_3278_100m.gpkg',\n",
       " 'data/output/1_population_density/grid_pop_3273_100m.gpkg',\n",
       " 'data/output/1_population_density/grid_pop_3204_100m.gpkg',\n",
       " 'data/output/1_population_density/grid_pop_3213_100m.gpkg',\n",
       " 'data/output/1_population_density/grid_pop_3276_100m.gpkg',\n",
       " 'data/output/1_population_density/grid_pop_3277_100m.gpkg']"
      ]
     },
     "execution_count": 6,
     "metadata": {},
     "output_type": "execute_result"
    }
   ],
   "source": [
    "data_popdens_100m"
   ]
  },
  {
   "cell_type": "code",
   "execution_count": 7,
   "id": "4144e026",
   "metadata": {
    "execution": {
     "iopub.execute_input": "2022-09-06T22:32:51.398389Z",
     "iopub.status.busy": "2022-09-06T22:32:51.398119Z",
     "iopub.status.idle": "2022-09-06T22:32:51.413754Z",
     "shell.execute_reply": "2022-09-06T22:32:51.413075Z"
    },
    "papermill": {
     "duration": 0.020493,
     "end_time": "2022-09-06T22:32:51.415433",
     "exception": false,
     "start_time": "2022-09-06T22:32:51.394940",
     "status": "completed"
    },
    "tags": []
   },
   "outputs": [],
   "source": [
    "from rasterio.enums import Resampling\n",
    "import os\n",
    "def resampling_1km(dt):\n",
    "    global kdprov\n",
    "    kdkab=dt.split('/')[3].split('_')[2]\n",
    "    if os.path.isfile('data/output/1_population_density/grid_pop_'+kdkab+'_1km.tif')==False:\n",
    "        popdens_100m=gpd.read_file(dt)\n",
    "        popdens_100m['j_pend_round']=popdens_100m.j_pend.apply(lambda y: np.round(y))\n",
    "        raster = rasterio.open(r\"/vsigs/bps-gcp-bucket/Degree of Urbanisation/GHSL data/2020/prov/2020_\"+kdprov+\".tif\")\n",
    "        geom_value = ((geom,value) for geom, value in zip(popdens_100m.geometry, popdens_100m['j_pend_round']))\n",
    "        rasterized = features.rasterize(geom_value,\n",
    "                                out_shape = raster.shape,\n",
    "                                transform = raster.transform,\n",
    "                                all_touched = False,\n",
    "                                fill = 0,\n",
    "                                dtype = np.float64)\n",
    "        with rasterio.open(\n",
    "            \"data/temp/rasterized_popdens_\"+kdkab+\"_100.tif\", \"w\",\n",
    "            driver = \"GTiff\",\n",
    "            transform = raster.transform,\n",
    "            dtype = np.float64,\n",
    "            count = 1,\n",
    "            width = raster.width,\n",
    "            height = raster.height) as dst:\n",
    "            dst.write(rasterized, indexes = 1)\n",
    "    \n",
    "        target_res = (1000, 1000)\n",
    "\n",
    "        with rasterio.open(\"data/temp/rasterized_popdens_\"+kdkab+\"_100.tif\") as src:\n",
    "            data, transform = rasterio.warp.reproject(source=src.read(),\n",
    "                                src_transform=src.transform,\n",
    "                                src_crs=CRS.from_string(\"ESRI:54009\"),\n",
    "                                dst_crs=CRS.from_string(\"ESRI:54009\"),\n",
    "                                dst_nodata=0,\n",
    "                                dst_resolution=target_res,\n",
    "                                              #dtype = np.float64\n",
    "                                resampling=Resampling.sum)\n",
    "            profile = src.profile\n",
    "            profile.update(transform=transform, driver='GTiff',\n",
    "                    height=data.shape[1], width=data.shape[2])\n",
    "\n",
    "            with rasterio.open('data/output/1_population_density/grid_pop_'+kdkab+'_1km.tif', 'w', **profile) as dst:\n",
    "                dst.write(data)\n",
    "    else:\n",
    "        print(\"skip\")\n",
    "    if (os.path.isfile(\"data/output/1_population_density/grid_pop_\"+kdkab+\"_1km_w_bu.gpkg\")==False):\n",
    "        with rasterio.open('data/output/1_population_density/grid_pop_'+kdkab+'_1km.tif') as dataset:\n",
    "            data = dataset.read(1)\n",
    "\n",
    "            t = dataset.transform\n",
    "            move_x = t[0]\n",
    "            move_y = t[4]\n",
    "            height = dataset.height\n",
    "            width = dataset.width \n",
    "    \n",
    "            polygons = []\n",
    "            indices = list(itertools.product(range(width), range(height)))\n",
    "            for x,y in indices:\n",
    "                x_min, y_max = t * (x,y)\n",
    "                x_max = x_min + move_x\n",
    "                y_min = y_max + move_y\n",
    "                polygons.append(box(x_min, y_min, x_max, y_max))\n",
    "        \n",
    "        data_list = []\n",
    "        for x,y in indices:\n",
    "            data_list.append(data[y,x])\n",
    "        vect_tmp = gpd.GeoDataFrame(data=data_list, geometry=polygons, columns=['DN'])\n",
    "        vect_tmp.crs='ESRI:54009'\n",
    "        vect_tmp.DN=vect_tmp.DN.apply(lambda y: 0 if y<=0 else y)\n",
    "        y=gpd.GeoDataFrame()\n",
    "        data_builtup=gpd.read_file(\"data/input/GHSL Data/2020/gpkg/ghs_built_\"+kdkab+\"_nonzero.shp\")#.to_crs(('ESRI:54009'))\n",
    "        data_builtup['builtup']=data_builtup['value']\n",
    "        vect_=vect_tmp.reset_index()\n",
    "        vect_['index_o']=vect_['index'].apply(lambda y:str(y).zfill(7))\n",
    "        data_bu_per1km=vect_.sjoin(data_builtup,how='inner'\n",
    "                          ).sort_values('index_o')[['index_o','builtup']].groupby('index_o').agg('sum').reset_index()\n",
    "        vect_bu=vect_.merge(data_bu_per1km,how='inner')\n",
    "        vect_bu['p_builtup']=vect_bu.builtup/1e6\n",
    "        vect_bu['pop']=vect_bu.DN\n",
    "        vect_bu=vect_bu[['geometry','p_builtup','pop']].fillna(0)\n",
    "        vect_bu.crs='ESRI:54009'\n",
    "        vector = gpd.read_file(r\"data/input/Master_Data/DESA_20201_BYINDO.gpkg\").query('idkab==@kdkab').to_crs(\"ESRI:54009\")\n",
    "        vect_bu['index_o']=vect_bu.index.astype(str).str.zfill(8)\n",
    "        vect_bu.sjoin(vector)[['geometry','p_builtup','pop','index_o']].dissolve(by=['index_o']).to_file(\"data/output/1_population_density/grid_pop_\"+kdkab+\"_1km_w_bu.gpkg\",driver='GPKG')\n",
    "    else:\n",
    "        print(\"skip\")"
   ]
  },
  {
   "cell_type": "code",
   "execution_count": 8,
   "id": "1f6ead36",
   "metadata": {
    "execution": {
     "iopub.execute_input": "2022-09-06T22:32:51.420813Z",
     "iopub.status.busy": "2022-09-06T22:32:51.420094Z",
     "iopub.status.idle": "2022-09-06T22:35:19.930921Z",
     "shell.execute_reply": "2022-09-06T22:35:19.929971Z"
    },
    "papermill": {
     "duration": 148.515467,
     "end_time": "2022-09-06T22:35:19.932819",
     "exception": false,
     "start_time": "2022-09-06T22:32:51.417352",
     "status": "completed"
    },
    "tags": []
   },
   "outputs": [
    {
     "data": {
      "application/vnd.jupyter.widget-view+json": {
       "model_id": "6bc1f84a9f3144beb0068d58e125fb80",
       "version_major": 2,
       "version_minor": 0
      },
      "text/plain": [
       "  0%|          | 0/27 [00:00<?, ?it/s]"
      ]
     },
     "metadata": {},
     "output_type": "display_data"
    },
    {
     "name": "stderr",
     "output_type": "stream",
     "text": [
      "/home/jupyter-peta_admin/.local/lib/python3.8/site-packages/geopandas/geodataframe.py:2072: UserWarning: CRS mismatch between the CRS of left geometries and the CRS of right geometries.\n",
      "Use `to_crs()` to reproject one of the input geometries to match the CRS of the other.\n",
      "\n",
      "Left CRS: ESRI:54009\n",
      "Right CRS: None\n",
      "\n",
      "  return geopandas.sjoin(left_df=self, right_df=df, *args, **kwargs)\n"
     ]
    },
    {
     "name": "stderr",
     "output_type": "stream",
     "text": [
      "/home/jupyter-peta_admin/.local/lib/python3.8/site-packages/geopandas/geodataframe.py:2072: UserWarning: CRS mismatch between the CRS of left geometries and the CRS of right geometries.\n",
      "Use `to_crs()` to reproject one of the input geometries to match the CRS of the other.\n",
      "\n",
      "Left CRS: ESRI:54009\n",
      "Right CRS: None\n",
      "\n",
      "  return geopandas.sjoin(left_df=self, right_df=df, *args, **kwargs)\n"
     ]
    },
    {
     "name": "stderr",
     "output_type": "stream",
     "text": [
      "/home/jupyter-peta_admin/.local/lib/python3.8/site-packages/geopandas/geodataframe.py:2072: UserWarning: CRS mismatch between the CRS of left geometries and the CRS of right geometries.\n",
      "Use `to_crs()` to reproject one of the input geometries to match the CRS of the other.\n",
      "\n",
      "Left CRS: ESRI:54009\n",
      "Right CRS: None\n",
      "\n",
      "  return geopandas.sjoin(left_df=self, right_df=df, *args, **kwargs)\n"
     ]
    },
    {
     "name": "stderr",
     "output_type": "stream",
     "text": [
      "/home/jupyter-peta_admin/.local/lib/python3.8/site-packages/geopandas/geodataframe.py:2072: UserWarning: CRS mismatch between the CRS of left geometries and the CRS of right geometries.\n",
      "Use `to_crs()` to reproject one of the input geometries to match the CRS of the other.\n",
      "\n",
      "Left CRS: ESRI:54009\n",
      "Right CRS: None\n",
      "\n",
      "  return geopandas.sjoin(left_df=self, right_df=df, *args, **kwargs)\n"
     ]
    },
    {
     "name": "stderr",
     "output_type": "stream",
     "text": [
      "/home/jupyter-peta_admin/.local/lib/python3.8/site-packages/geopandas/geodataframe.py:2072: UserWarning: CRS mismatch between the CRS of left geometries and the CRS of right geometries.\n",
      "Use `to_crs()` to reproject one of the input geometries to match the CRS of the other.\n",
      "\n",
      "Left CRS: ESRI:54009\n",
      "Right CRS: None\n",
      "\n",
      "  return geopandas.sjoin(left_df=self, right_df=df, *args, **kwargs)\n"
     ]
    },
    {
     "name": "stderr",
     "output_type": "stream",
     "text": [
      "/home/jupyter-peta_admin/.local/lib/python3.8/site-packages/geopandas/geodataframe.py:2072: UserWarning: CRS mismatch between the CRS of left geometries and the CRS of right geometries.\n",
      "Use `to_crs()` to reproject one of the input geometries to match the CRS of the other.\n",
      "\n",
      "Left CRS: ESRI:54009\n",
      "Right CRS: None\n",
      "\n",
      "  return geopandas.sjoin(left_df=self, right_df=df, *args, **kwargs)\n"
     ]
    },
    {
     "name": "stderr",
     "output_type": "stream",
     "text": [
      "/home/jupyter-peta_admin/.local/lib/python3.8/site-packages/geopandas/geodataframe.py:2072: UserWarning: CRS mismatch between the CRS of left geometries and the CRS of right geometries.\n",
      "Use `to_crs()` to reproject one of the input geometries to match the CRS of the other.\n",
      "\n",
      "Left CRS: ESRI:54009\n",
      "Right CRS: None\n",
      "\n",
      "  return geopandas.sjoin(left_df=self, right_df=df, *args, **kwargs)\n"
     ]
    },
    {
     "name": "stderr",
     "output_type": "stream",
     "text": [
      "/home/jupyter-peta_admin/.local/lib/python3.8/site-packages/geopandas/geodataframe.py:2072: UserWarning: CRS mismatch between the CRS of left geometries and the CRS of right geometries.\n",
      "Use `to_crs()` to reproject one of the input geometries to match the CRS of the other.\n",
      "\n",
      "Left CRS: ESRI:54009\n",
      "Right CRS: None\n",
      "\n",
      "  return geopandas.sjoin(left_df=self, right_df=df, *args, **kwargs)\n"
     ]
    },
    {
     "name": "stderr",
     "output_type": "stream",
     "text": [
      "/home/jupyter-peta_admin/.local/lib/python3.8/site-packages/geopandas/geodataframe.py:2072: UserWarning: CRS mismatch between the CRS of left geometries and the CRS of right geometries.\n",
      "Use `to_crs()` to reproject one of the input geometries to match the CRS of the other.\n",
      "\n",
      "Left CRS: ESRI:54009\n",
      "Right CRS: None\n",
      "\n",
      "  return geopandas.sjoin(left_df=self, right_df=df, *args, **kwargs)\n"
     ]
    },
    {
     "name": "stderr",
     "output_type": "stream",
     "text": [
      "/home/jupyter-peta_admin/.local/lib/python3.8/site-packages/geopandas/geodataframe.py:2072: UserWarning: CRS mismatch between the CRS of left geometries and the CRS of right geometries.\n",
      "Use `to_crs()` to reproject one of the input geometries to match the CRS of the other.\n",
      "\n",
      "Left CRS: ESRI:54009\n",
      "Right CRS: None\n",
      "\n",
      "  return geopandas.sjoin(left_df=self, right_df=df, *args, **kwargs)\n"
     ]
    },
    {
     "name": "stderr",
     "output_type": "stream",
     "text": [
      "/home/jupyter-peta_admin/.local/lib/python3.8/site-packages/geopandas/geodataframe.py:2072: UserWarning: CRS mismatch between the CRS of left geometries and the CRS of right geometries.\n",
      "Use `to_crs()` to reproject one of the input geometries to match the CRS of the other.\n",
      "\n",
      "Left CRS: ESRI:54009\n",
      "Right CRS: None\n",
      "\n",
      "  return geopandas.sjoin(left_df=self, right_df=df, *args, **kwargs)\n"
     ]
    },
    {
     "name": "stderr",
     "output_type": "stream",
     "text": [
      "/home/jupyter-peta_admin/.local/lib/python3.8/site-packages/geopandas/geodataframe.py:2072: UserWarning: CRS mismatch between the CRS of left geometries and the CRS of right geometries.\n",
      "Use `to_crs()` to reproject one of the input geometries to match the CRS of the other.\n",
      "\n",
      "Left CRS: ESRI:54009\n",
      "Right CRS: None\n",
      "\n",
      "  return geopandas.sjoin(left_df=self, right_df=df, *args, **kwargs)\n"
     ]
    },
    {
     "name": "stderr",
     "output_type": "stream",
     "text": [
      "/home/jupyter-peta_admin/.local/lib/python3.8/site-packages/geopandas/geodataframe.py:2072: UserWarning: CRS mismatch between the CRS of left geometries and the CRS of right geometries.\n",
      "Use `to_crs()` to reproject one of the input geometries to match the CRS of the other.\n",
      "\n",
      "Left CRS: ESRI:54009\n",
      "Right CRS: None\n",
      "\n",
      "  return geopandas.sjoin(left_df=self, right_df=df, *args, **kwargs)\n"
     ]
    },
    {
     "name": "stderr",
     "output_type": "stream",
     "text": [
      "/home/jupyter-peta_admin/.local/lib/python3.8/site-packages/geopandas/geodataframe.py:2072: UserWarning: CRS mismatch between the CRS of left geometries and the CRS of right geometries.\n",
      "Use `to_crs()` to reproject one of the input geometries to match the CRS of the other.\n",
      "\n",
      "Left CRS: ESRI:54009\n",
      "Right CRS: None\n",
      "\n",
      "  return geopandas.sjoin(left_df=self, right_df=df, *args, **kwargs)\n"
     ]
    },
    {
     "name": "stderr",
     "output_type": "stream",
     "text": [
      "/home/jupyter-peta_admin/.local/lib/python3.8/site-packages/geopandas/geodataframe.py:2072: UserWarning: CRS mismatch between the CRS of left geometries and the CRS of right geometries.\n",
      "Use `to_crs()` to reproject one of the input geometries to match the CRS of the other.\n",
      "\n",
      "Left CRS: ESRI:54009\n",
      "Right CRS: None\n",
      "\n",
      "  return geopandas.sjoin(left_df=self, right_df=df, *args, **kwargs)\n"
     ]
    },
    {
     "name": "stderr",
     "output_type": "stream",
     "text": [
      "/home/jupyter-peta_admin/.local/lib/python3.8/site-packages/geopandas/geodataframe.py:2072: UserWarning: CRS mismatch between the CRS of left geometries and the CRS of right geometries.\n",
      "Use `to_crs()` to reproject one of the input geometries to match the CRS of the other.\n",
      "\n",
      "Left CRS: ESRI:54009\n",
      "Right CRS: None\n",
      "\n",
      "  return geopandas.sjoin(left_df=self, right_df=df, *args, **kwargs)\n"
     ]
    },
    {
     "name": "stderr",
     "output_type": "stream",
     "text": [
      "/home/jupyter-peta_admin/.local/lib/python3.8/site-packages/geopandas/geodataframe.py:2072: UserWarning: CRS mismatch between the CRS of left geometries and the CRS of right geometries.\n",
      "Use `to_crs()` to reproject one of the input geometries to match the CRS of the other.\n",
      "\n",
      "Left CRS: ESRI:54009\n",
      "Right CRS: None\n",
      "\n",
      "  return geopandas.sjoin(left_df=self, right_df=df, *args, **kwargs)\n"
     ]
    },
    {
     "name": "stderr",
     "output_type": "stream",
     "text": [
      "/home/jupyter-peta_admin/.local/lib/python3.8/site-packages/geopandas/geodataframe.py:2072: UserWarning: CRS mismatch between the CRS of left geometries and the CRS of right geometries.\n",
      "Use `to_crs()` to reproject one of the input geometries to match the CRS of the other.\n",
      "\n",
      "Left CRS: ESRI:54009\n",
      "Right CRS: None\n",
      "\n",
      "  return geopandas.sjoin(left_df=self, right_df=df, *args, **kwargs)\n"
     ]
    },
    {
     "name": "stderr",
     "output_type": "stream",
     "text": [
      "/home/jupyter-peta_admin/.local/lib/python3.8/site-packages/geopandas/geodataframe.py:2072: UserWarning: CRS mismatch between the CRS of left geometries and the CRS of right geometries.\n",
      "Use `to_crs()` to reproject one of the input geometries to match the CRS of the other.\n",
      "\n",
      "Left CRS: ESRI:54009\n",
      "Right CRS: None\n",
      "\n",
      "  return geopandas.sjoin(left_df=self, right_df=df, *args, **kwargs)\n"
     ]
    },
    {
     "name": "stderr",
     "output_type": "stream",
     "text": [
      "/home/jupyter-peta_admin/.local/lib/python3.8/site-packages/geopandas/geodataframe.py:2072: UserWarning: CRS mismatch between the CRS of left geometries and the CRS of right geometries.\n",
      "Use `to_crs()` to reproject one of the input geometries to match the CRS of the other.\n",
      "\n",
      "Left CRS: ESRI:54009\n",
      "Right CRS: None\n",
      "\n",
      "  return geopandas.sjoin(left_df=self, right_df=df, *args, **kwargs)\n"
     ]
    },
    {
     "name": "stderr",
     "output_type": "stream",
     "text": [
      "/home/jupyter-peta_admin/.local/lib/python3.8/site-packages/geopandas/geodataframe.py:2072: UserWarning: CRS mismatch between the CRS of left geometries and the CRS of right geometries.\n",
      "Use `to_crs()` to reproject one of the input geometries to match the CRS of the other.\n",
      "\n",
      "Left CRS: ESRI:54009\n",
      "Right CRS: None\n",
      "\n",
      "  return geopandas.sjoin(left_df=self, right_df=df, *args, **kwargs)\n"
     ]
    },
    {
     "name": "stderr",
     "output_type": "stream",
     "text": [
      "/home/jupyter-peta_admin/.local/lib/python3.8/site-packages/geopandas/geodataframe.py:2072: UserWarning: CRS mismatch between the CRS of left geometries and the CRS of right geometries.\n",
      "Use `to_crs()` to reproject one of the input geometries to match the CRS of the other.\n",
      "\n",
      "Left CRS: ESRI:54009\n",
      "Right CRS: None\n",
      "\n",
      "  return geopandas.sjoin(left_df=self, right_df=df, *args, **kwargs)\n"
     ]
    },
    {
     "name": "stderr",
     "output_type": "stream",
     "text": [
      "/home/jupyter-peta_admin/.local/lib/python3.8/site-packages/geopandas/geodataframe.py:2072: UserWarning: CRS mismatch between the CRS of left geometries and the CRS of right geometries.\n",
      "Use `to_crs()` to reproject one of the input geometries to match the CRS of the other.\n",
      "\n",
      "Left CRS: ESRI:54009\n",
      "Right CRS: None\n",
      "\n",
      "  return geopandas.sjoin(left_df=self, right_df=df, *args, **kwargs)\n"
     ]
    },
    {
     "name": "stderr",
     "output_type": "stream",
     "text": [
      "/home/jupyter-peta_admin/.local/lib/python3.8/site-packages/geopandas/geodataframe.py:2072: UserWarning: CRS mismatch between the CRS of left geometries and the CRS of right geometries.\n",
      "Use `to_crs()` to reproject one of the input geometries to match the CRS of the other.\n",
      "\n",
      "Left CRS: ESRI:54009\n",
      "Right CRS: None\n",
      "\n",
      "  return geopandas.sjoin(left_df=self, right_df=df, *args, **kwargs)\n"
     ]
    },
    {
     "name": "stderr",
     "output_type": "stream",
     "text": [
      "/home/jupyter-peta_admin/.local/lib/python3.8/site-packages/geopandas/geodataframe.py:2072: UserWarning: CRS mismatch between the CRS of left geometries and the CRS of right geometries.\n",
      "Use `to_crs()` to reproject one of the input geometries to match the CRS of the other.\n",
      "\n",
      "Left CRS: ESRI:54009\n",
      "Right CRS: None\n",
      "\n",
      "  return geopandas.sjoin(left_df=self, right_df=df, *args, **kwargs)\n"
     ]
    },
    {
     "name": "stderr",
     "output_type": "stream",
     "text": [
      "/home/jupyter-peta_admin/.local/lib/python3.8/site-packages/geopandas/geodataframe.py:2072: UserWarning: CRS mismatch between the CRS of left geometries and the CRS of right geometries.\n",
      "Use `to_crs()` to reproject one of the input geometries to match the CRS of the other.\n",
      "\n",
      "Left CRS: ESRI:54009\n",
      "Right CRS: None\n",
      "\n",
      "  return geopandas.sjoin(left_df=self, right_df=df, *args, **kwargs)\n"
     ]
    },
    {
     "name": "stderr",
     "output_type": "stream",
     "text": [
      "/home/jupyter-peta_admin/.local/lib/python3.8/site-packages/geopandas/geodataframe.py:2072: UserWarning: CRS mismatch between the CRS of left geometries and the CRS of right geometries.\n",
      "Use `to_crs()` to reproject one of the input geometries to match the CRS of the other.\n",
      "\n",
      "Left CRS: ESRI:54009\n",
      "Right CRS: None\n",
      "\n",
      "  return geopandas.sjoin(left_df=self, right_df=df, *args, **kwargs)\n"
     ]
    },
    {
     "data": {
      "text/plain": [
       "[None,\n",
       " None,\n",
       " None,\n",
       " None,\n",
       " None,\n",
       " None,\n",
       " None,\n",
       " None,\n",
       " None,\n",
       " None,\n",
       " None,\n",
       " None,\n",
       " None,\n",
       " None,\n",
       " None,\n",
       " None,\n",
       " None,\n",
       " None,\n",
       " None,\n",
       " None,\n",
       " None,\n",
       " None,\n",
       " None,\n",
       " None,\n",
       " None,\n",
       " None,\n",
       " None]"
      ]
     },
     "execution_count": 8,
     "metadata": {},
     "output_type": "execute_result"
    }
   ],
   "source": [
    "from tqdm.contrib.concurrent import process_map\n",
    "process_map(resampling_1km,data_popdens_100m)   "
   ]
  }
 ],
 "metadata": {
  "celltoolbar": "Tags",
  "kernelspec": {
   "display_name": "Python 3 (ipykernel)",
   "language": "python",
   "name": "python3"
  },
  "language_info": {
   "codemirror_mode": {
    "name": "ipython",
    "version": 3
   },
   "file_extension": ".py",
   "mimetype": "text/x-python",
   "name": "python",
   "nbconvert_exporter": "python",
   "pygments_lexer": "ipython3",
   "version": "3.8.12"
  },
  "papermill": {
   "default_parameters": {},
   "duration": 150.598924,
   "end_time": "2022-09-06T22:35:20.257394",
   "environment_variables": {},
   "exception": null,
   "input_path": "01_Population_Density #2 Resampling_to1km and Calculate BU Percentage-By Kabkota Rev.ipynb",
   "output_path": "01_Population Density #2-32.ipynb",
   "parameters": {
    "kdprov": "32"
   },
   "start_time": "2022-09-06T22:32:49.658470",
   "version": "2.3.4"
  },
  "widgets": {
   "application/vnd.jupyter.widget-state+json": {
    "state": {
     "046e093b7c554584ad4e947699bf582c": {
      "model_module": "@jupyter-widgets/controls",
      "model_module_version": "1.5.0",
      "model_name": "ProgressStyleModel",
      "state": {
       "_model_module": "@jupyter-widgets/controls",
       "_model_module_version": "1.5.0",
       "_model_name": "ProgressStyleModel",
       "_view_count": null,
       "_view_module": "@jupyter-widgets/base",
       "_view_module_version": "1.2.0",
       "_view_name": "StyleView",
       "bar_color": null,
       "description_width": ""
      }
     },
     "1f15aabf884a4e60b27fb7e526a58f24": {
      "model_module": "@jupyter-widgets/base",
      "model_module_version": "1.2.0",
      "model_name": "LayoutModel",
      "state": {
       "_model_module": "@jupyter-widgets/base",
       "_model_module_version": "1.2.0",
       "_model_name": "LayoutModel",
       "_view_count": null,
       "_view_module": "@jupyter-widgets/base",
       "_view_module_version": "1.2.0",
       "_view_name": "LayoutView",
       "align_content": null,
       "align_items": null,
       "align_self": null,
       "border": null,
       "bottom": null,
       "display": null,
       "flex": null,
       "flex_flow": null,
       "grid_area": null,
       "grid_auto_columns": null,
       "grid_auto_flow": null,
       "grid_auto_rows": null,
       "grid_column": null,
       "grid_gap": null,
       "grid_row": null,
       "grid_template_areas": null,
       "grid_template_columns": null,
       "grid_template_rows": null,
       "height": null,
       "justify_content": null,
       "justify_items": null,
       "left": null,
       "margin": null,
       "max_height": null,
       "max_width": null,
       "min_height": null,
       "min_width": null,
       "object_fit": null,
       "object_position": null,
       "order": null,
       "overflow": null,
       "overflow_x": null,
       "overflow_y": null,
       "padding": null,
       "right": null,
       "top": null,
       "visibility": null,
       "width": null
      }
     },
     "3c928f517c2344f292608a542d418c14": {
      "model_module": "@jupyter-widgets/base",
      "model_module_version": "1.2.0",
      "model_name": "LayoutModel",
      "state": {
       "_model_module": "@jupyter-widgets/base",
       "_model_module_version": "1.2.0",
       "_model_name": "LayoutModel",
       "_view_count": null,
       "_view_module": "@jupyter-widgets/base",
       "_view_module_version": "1.2.0",
       "_view_name": "LayoutView",
       "align_content": null,
       "align_items": null,
       "align_self": null,
       "border": null,
       "bottom": null,
       "display": null,
       "flex": null,
       "flex_flow": null,
       "grid_area": null,
       "grid_auto_columns": null,
       "grid_auto_flow": null,
       "grid_auto_rows": null,
       "grid_column": null,
       "grid_gap": null,
       "grid_row": null,
       "grid_template_areas": null,
       "grid_template_columns": null,
       "grid_template_rows": null,
       "height": null,
       "justify_content": null,
       "justify_items": null,
       "left": null,
       "margin": null,
       "max_height": null,
       "max_width": null,
       "min_height": null,
       "min_width": null,
       "object_fit": null,
       "object_position": null,
       "order": null,
       "overflow": null,
       "overflow_x": null,
       "overflow_y": null,
       "padding": null,
       "right": null,
       "top": null,
       "visibility": null,
       "width": null
      }
     },
     "58a4f3fb92a94d26bb88669966450b70": {
      "model_module": "@jupyter-widgets/controls",
      "model_module_version": "1.5.0",
      "model_name": "HTMLModel",
      "state": {
       "_dom_classes": [],
       "_model_module": "@jupyter-widgets/controls",
       "_model_module_version": "1.5.0",
       "_model_name": "HTMLModel",
       "_view_count": null,
       "_view_module": "@jupyter-widgets/controls",
       "_view_module_version": "1.5.0",
       "_view_name": "HTMLView",
       "description": "",
       "description_tooltip": null,
       "layout": "IPY_MODEL_1f15aabf884a4e60b27fb7e526a58f24",
       "placeholder": "​",
       "style": "IPY_MODEL_df3483b9077a4600acb9417d9f459323",
       "value": "100%"
      }
     },
     "675782efc4dd4c9bbc6fb92bbacd7db9": {
      "model_module": "@jupyter-widgets/controls",
      "model_module_version": "1.5.0",
      "model_name": "HTMLModel",
      "state": {
       "_dom_classes": [],
       "_model_module": "@jupyter-widgets/controls",
       "_model_module_version": "1.5.0",
       "_model_name": "HTMLModel",
       "_view_count": null,
       "_view_module": "@jupyter-widgets/controls",
       "_view_module_version": "1.5.0",
       "_view_name": "HTMLView",
       "description": "",
       "description_tooltip": null,
       "layout": "IPY_MODEL_dc78c558246f44f2b95b17151072c61e",
       "placeholder": "​",
       "style": "IPY_MODEL_d358c0c4b54d44598e91535a27b95586",
       "value": " 27/27 [02:27&lt;00:00,  5.22s/it]"
      }
     },
     "6bc1f84a9f3144beb0068d58e125fb80": {
      "model_module": "@jupyter-widgets/controls",
      "model_module_version": "1.5.0",
      "model_name": "HBoxModel",
      "state": {
       "_dom_classes": [],
       "_model_module": "@jupyter-widgets/controls",
       "_model_module_version": "1.5.0",
       "_model_name": "HBoxModel",
       "_view_count": null,
       "_view_module": "@jupyter-widgets/controls",
       "_view_module_version": "1.5.0",
       "_view_name": "HBoxView",
       "box_style": "",
       "children": [
        "IPY_MODEL_58a4f3fb92a94d26bb88669966450b70",
        "IPY_MODEL_ee2584b806b8445cb7a98b749a3700a6",
        "IPY_MODEL_675782efc4dd4c9bbc6fb92bbacd7db9"
       ],
       "layout": "IPY_MODEL_3c928f517c2344f292608a542d418c14"
      }
     },
     "83bffed1de9d46d7829961b55214fd79": {
      "model_module": "@jupyter-widgets/base",
      "model_module_version": "1.2.0",
      "model_name": "LayoutModel",
      "state": {
       "_model_module": "@jupyter-widgets/base",
       "_model_module_version": "1.2.0",
       "_model_name": "LayoutModel",
       "_view_count": null,
       "_view_module": "@jupyter-widgets/base",
       "_view_module_version": "1.2.0",
       "_view_name": "LayoutView",
       "align_content": null,
       "align_items": null,
       "align_self": null,
       "border": null,
       "bottom": null,
       "display": null,
       "flex": null,
       "flex_flow": null,
       "grid_area": null,
       "grid_auto_columns": null,
       "grid_auto_flow": null,
       "grid_auto_rows": null,
       "grid_column": null,
       "grid_gap": null,
       "grid_row": null,
       "grid_template_areas": null,
       "grid_template_columns": null,
       "grid_template_rows": null,
       "height": null,
       "justify_content": null,
       "justify_items": null,
       "left": null,
       "margin": null,
       "max_height": null,
       "max_width": null,
       "min_height": null,
       "min_width": null,
       "object_fit": null,
       "object_position": null,
       "order": null,
       "overflow": null,
       "overflow_x": null,
       "overflow_y": null,
       "padding": null,
       "right": null,
       "top": null,
       "visibility": null,
       "width": null
      }
     },
     "d358c0c4b54d44598e91535a27b95586": {
      "model_module": "@jupyter-widgets/controls",
      "model_module_version": "1.5.0",
      "model_name": "DescriptionStyleModel",
      "state": {
       "_model_module": "@jupyter-widgets/controls",
       "_model_module_version": "1.5.0",
       "_model_name": "DescriptionStyleModel",
       "_view_count": null,
       "_view_module": "@jupyter-widgets/base",
       "_view_module_version": "1.2.0",
       "_view_name": "StyleView",
       "description_width": ""
      }
     },
     "dc78c558246f44f2b95b17151072c61e": {
      "model_module": "@jupyter-widgets/base",
      "model_module_version": "1.2.0",
      "model_name": "LayoutModel",
      "state": {
       "_model_module": "@jupyter-widgets/base",
       "_model_module_version": "1.2.0",
       "_model_name": "LayoutModel",
       "_view_count": null,
       "_view_module": "@jupyter-widgets/base",
       "_view_module_version": "1.2.0",
       "_view_name": "LayoutView",
       "align_content": null,
       "align_items": null,
       "align_self": null,
       "border": null,
       "bottom": null,
       "display": null,
       "flex": null,
       "flex_flow": null,
       "grid_area": null,
       "grid_auto_columns": null,
       "grid_auto_flow": null,
       "grid_auto_rows": null,
       "grid_column": null,
       "grid_gap": null,
       "grid_row": null,
       "grid_template_areas": null,
       "grid_template_columns": null,
       "grid_template_rows": null,
       "height": null,
       "justify_content": null,
       "justify_items": null,
       "left": null,
       "margin": null,
       "max_height": null,
       "max_width": null,
       "min_height": null,
       "min_width": null,
       "object_fit": null,
       "object_position": null,
       "order": null,
       "overflow": null,
       "overflow_x": null,
       "overflow_y": null,
       "padding": null,
       "right": null,
       "top": null,
       "visibility": null,
       "width": null
      }
     },
     "df3483b9077a4600acb9417d9f459323": {
      "model_module": "@jupyter-widgets/controls",
      "model_module_version": "1.5.0",
      "model_name": "DescriptionStyleModel",
      "state": {
       "_model_module": "@jupyter-widgets/controls",
       "_model_module_version": "1.5.0",
       "_model_name": "DescriptionStyleModel",
       "_view_count": null,
       "_view_module": "@jupyter-widgets/base",
       "_view_module_version": "1.2.0",
       "_view_name": "StyleView",
       "description_width": ""
      }
     },
     "ee2584b806b8445cb7a98b749a3700a6": {
      "model_module": "@jupyter-widgets/controls",
      "model_module_version": "1.5.0",
      "model_name": "FloatProgressModel",
      "state": {
       "_dom_classes": [],
       "_model_module": "@jupyter-widgets/controls",
       "_model_module_version": "1.5.0",
       "_model_name": "FloatProgressModel",
       "_view_count": null,
       "_view_module": "@jupyter-widgets/controls",
       "_view_module_version": "1.5.0",
       "_view_name": "ProgressView",
       "bar_style": "success",
       "description": "",
       "description_tooltip": null,
       "layout": "IPY_MODEL_83bffed1de9d46d7829961b55214fd79",
       "max": 27.0,
       "min": 0.0,
       "orientation": "horizontal",
       "style": "IPY_MODEL_046e093b7c554584ad4e947699bf582c",
       "value": 27.0
      }
     }
    },
    "version_major": 2,
    "version_minor": 0
   }
  }
 },
 "nbformat": 4,
 "nbformat_minor": 5
}