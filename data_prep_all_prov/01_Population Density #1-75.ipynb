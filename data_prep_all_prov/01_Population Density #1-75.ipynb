{
 "cells": [
  {
   "cell_type": "code",
   "execution_count": 1,
   "id": "f0432d92",
   "metadata": {
    "execution": {
     "iopub.execute_input": "2022-09-07T02:36:42.788213Z",
     "iopub.status.busy": "2022-09-07T02:36:42.787184Z",
     "iopub.status.idle": "2022-09-07T02:36:42.795323Z",
     "shell.execute_reply": "2022-09-07T02:36:42.794709Z"
    },
    "papermill": {
     "duration": 0.014197,
     "end_time": "2022-09-07T02:36:42.797275",
     "exception": false,
     "start_time": "2022-09-07T02:36:42.783078",
     "status": "completed"
    },
    "tags": [
     "parameters"
    ]
   },
   "outputs": [],
   "source": [
    "kdprov = '76'"
   ]
  },
  {
   "cell_type": "code",
   "execution_count": 2,
   "id": "afd81bf5",
   "metadata": {
    "execution": {
     "iopub.execute_input": "2022-09-07T02:36:42.804022Z",
     "iopub.status.busy": "2022-09-07T02:36:42.803774Z",
     "iopub.status.idle": "2022-09-07T02:36:42.807652Z",
     "shell.execute_reply": "2022-09-07T02:36:42.806630Z"
    },
    "papermill": {
     "duration": 0.008692,
     "end_time": "2022-09-07T02:36:42.809276",
     "exception": false,
     "start_time": "2022-09-07T02:36:42.800584",
     "status": "completed"
    },
    "tags": [
     "injected-parameters"
    ]
   },
   "outputs": [],
   "source": [
    "# Parameters\n",
    "kdprov = \"75\"\n"
   ]
  },
  {
   "cell_type": "code",
   "execution_count": 3,
   "id": "f6300764",
   "metadata": {
    "execution": {
     "iopub.execute_input": "2022-09-07T02:36:42.814157Z",
     "iopub.status.busy": "2022-09-07T02:36:42.813740Z",
     "iopub.status.idle": "2022-09-07T02:36:43.226528Z",
     "shell.execute_reply": "2022-09-07T02:36:43.225672Z"
    },
    "papermill": {
     "duration": 0.417241,
     "end_time": "2022-09-07T02:36:43.228408",
     "exception": false,
     "start_time": "2022-09-07T02:36:42.811167",
     "status": "completed"
    },
    "tags": []
   },
   "outputs": [
    {
     "name": "stderr",
     "output_type": "stream",
     "text": [
      "/home/jupyter-peta_admin/.local/lib/python3.8/site-packages/geopandas/_compat.py:112: UserWarning: The Shapely GEOS version (3.10.2-CAPI-1.16.0) is incompatible with the GEOS version PyGEOS was compiled with (3.10.1-CAPI-1.16.0). Conversions between both will be slow.\n",
      "  warnings.warn(\n"
     ]
    }
   ],
   "source": [
    "import pandas as pd\n",
    "\n",
    "import geopandas as gpd\n",
    "from glob import glob"
   ]
  },
  {
   "cell_type": "code",
   "execution_count": 4,
   "id": "f8fc1325",
   "metadata": {
    "execution": {
     "iopub.execute_input": "2022-09-07T02:36:43.235368Z",
     "iopub.status.busy": "2022-09-07T02:36:43.234827Z",
     "iopub.status.idle": "2022-09-07T02:36:43.434894Z",
     "shell.execute_reply": "2022-09-07T02:36:43.434211Z"
    },
    "papermill": {
     "duration": 0.205432,
     "end_time": "2022-09-07T02:36:43.437042",
     "exception": false,
     "start_time": "2022-09-07T02:36:43.231610",
     "status": "completed"
    },
    "tags": []
   },
   "outputs": [],
   "source": [
    "# open data sp\n",
    "data_peta_w_ruta = gpd.read_file(\"data/output/0_raster_data_desa/desa_pend_rasterize_\"+kdprov+\".gpkg\").to_crs('ESRI:54009')#.area\n",
    "data_peta_w_ruta['idkab']=data_peta_w_ruta.iddesa.apply(lambda y: str(y)[:4])\n"
   ]
  },
  {
   "cell_type": "code",
   "execution_count": 5,
   "id": "75ba398f",
   "metadata": {
    "execution": {
     "iopub.execute_input": "2022-09-07T02:36:43.443807Z",
     "iopub.status.busy": "2022-09-07T02:36:43.443555Z",
     "iopub.status.idle": "2022-09-07T02:36:43.472658Z",
     "shell.execute_reply": "2022-09-07T02:36:43.471931Z"
    },
    "papermill": {
     "duration": 0.034063,
     "end_time": "2022-09-07T02:36:43.474343",
     "exception": false,
     "start_time": "2022-09-07T02:36:43.440280",
     "status": "completed"
    },
    "tags": []
   },
   "outputs": [
    {
     "data": {
      "text/html": [
       "<div>\n",
       "<style scoped>\n",
       "    .dataframe tbody tr th:only-of-type {\n",
       "        vertical-align: middle;\n",
       "    }\n",
       "\n",
       "    .dataframe tbody tr th {\n",
       "        vertical-align: top;\n",
       "    }\n",
       "\n",
       "    .dataframe thead th {\n",
       "        text-align: right;\n",
       "    }\n",
       "</style>\n",
       "<table border=\"1\" class=\"dataframe\">\n",
       "  <thead>\n",
       "    <tr style=\"text-align: right;\">\n",
       "      <th></th>\n",
       "      <th>iddesa</th>\n",
       "      <th>DN</th>\n",
       "      <th>id</th>\n",
       "      <th>pop2020</th>\n",
       "      <th>geometry</th>\n",
       "      <th>idkab</th>\n",
       "    </tr>\n",
       "  </thead>\n",
       "  <tbody>\n",
       "    <tr>\n",
       "      <th>0</th>\n",
       "      <td>7501031001</td>\n",
       "      <td>0.0</td>\n",
       "      <td>0.0</td>\n",
       "      <td>1599.0</td>\n",
       "      <td>POLYGON ((12239600.000 77700.000, 12239700.000...</td>\n",
       "      <td>7501</td>\n",
       "    </tr>\n",
       "    <tr>\n",
       "      <th>1</th>\n",
       "      <td>7501031002</td>\n",
       "      <td>1.0</td>\n",
       "      <td>1.0</td>\n",
       "      <td>1957.0</td>\n",
       "      <td>POLYGON ((12240800.000 63000.000, 12241000.000...</td>\n",
       "      <td>7501</td>\n",
       "    </tr>\n",
       "    <tr>\n",
       "      <th>2</th>\n",
       "      <td>7501031003</td>\n",
       "      <td>2.0</td>\n",
       "      <td>2.0</td>\n",
       "      <td>654.0</td>\n",
       "      <td>POLYGON ((12236700.000 111200.000, 12236800.00...</td>\n",
       "      <td>7501</td>\n",
       "    </tr>\n",
       "    <tr>\n",
       "      <th>3</th>\n",
       "      <td>7501031004</td>\n",
       "      <td>3.0</td>\n",
       "      <td>3.0</td>\n",
       "      <td>1457.0</td>\n",
       "      <td>MULTIPOLYGON (((12240800.000 105400.000, 12240...</td>\n",
       "      <td>7501</td>\n",
       "    </tr>\n",
       "  </tbody>\n",
       "</table>\n",
       "</div>"
      ],
      "text/plain": [
       "       iddesa   DN   id  pop2020  \\\n",
       "0  7501031001  0.0  0.0   1599.0   \n",
       "1  7501031002  1.0  1.0   1957.0   \n",
       "2  7501031003  2.0  2.0    654.0   \n",
       "3  7501031004  3.0  3.0   1457.0   \n",
       "\n",
       "                                            geometry idkab  \n",
       "0  POLYGON ((12239600.000 77700.000, 12239700.000...  7501  \n",
       "1  POLYGON ((12240800.000 63000.000, 12241000.000...  7501  \n",
       "2  POLYGON ((12236700.000 111200.000, 12236800.00...  7501  \n",
       "3  MULTIPOLYGON (((12240800.000 105400.000, 12240...  7501  "
      ]
     },
     "execution_count": 5,
     "metadata": {},
     "output_type": "execute_result"
    }
   ],
   "source": [
    "data_peta_w_ruta.head(4)"
   ]
  },
  {
   "cell_type": "code",
   "execution_count": 6,
   "id": "28abada6",
   "metadata": {
    "execution": {
     "iopub.execute_input": "2022-09-07T02:36:43.479368Z",
     "iopub.status.busy": "2022-09-07T02:36:43.479129Z",
     "iopub.status.idle": "2022-09-07T02:36:43.485814Z",
     "shell.execute_reply": "2022-09-07T02:36:43.485072Z"
    },
    "papermill": {
     "duration": 0.011154,
     "end_time": "2022-09-07T02:36:43.487408",
     "exception": false,
     "start_time": "2022-09-07T02:36:43.476254",
     "status": "completed"
    },
    "tags": []
   },
   "outputs": [],
   "source": [
    "data_builtup_kabkota=glob(\"data/input/GHSL Data/2020/gpkg/ghs_built_\"+kdprov+\"*_nonzero.shp\")"
   ]
  },
  {
   "cell_type": "code",
   "execution_count": 7,
   "id": "72f5142f",
   "metadata": {
    "execution": {
     "iopub.execute_input": "2022-09-07T02:36:43.493083Z",
     "iopub.status.busy": "2022-09-07T02:36:43.492552Z",
     "iopub.status.idle": "2022-09-07T02:36:43.496998Z",
     "shell.execute_reply": "2022-09-07T02:36:43.496510Z"
    },
    "papermill": {
     "duration": 0.009215,
     "end_time": "2022-09-07T02:36:43.498566",
     "exception": false,
     "start_time": "2022-09-07T02:36:43.489351",
     "status": "completed"
    },
    "tags": []
   },
   "outputs": [
    {
     "data": {
      "text/plain": [
       "['data/input/GHSL Data/2020/gpkg/ghs_built_7501_nonzero.shp',\n",
       " 'data/input/GHSL Data/2020/gpkg/ghs_built_7588_nonzero.shp',\n",
       " 'data/input/GHSL Data/2020/gpkg/ghs_built_7505_nonzero.shp',\n",
       " 'data/input/GHSL Data/2020/gpkg/ghs_built_7504_nonzero.shp',\n",
       " 'data/input/GHSL Data/2020/gpkg/ghs_built_7571_nonzero.shp',\n",
       " 'data/input/GHSL Data/2020/gpkg/ghs_built_7502_nonzero.shp',\n",
       " 'data/input/GHSL Data/2020/gpkg/ghs_built_7503_nonzero.shp']"
      ]
     },
     "execution_count": 7,
     "metadata": {},
     "output_type": "execute_result"
    }
   ],
   "source": [
    "data_builtup_kabkota"
   ]
  },
  {
   "cell_type": "code",
   "execution_count": 8,
   "id": "25e1506d",
   "metadata": {
    "execution": {
     "iopub.execute_input": "2022-09-07T02:36:43.504321Z",
     "iopub.status.busy": "2022-09-07T02:36:43.503507Z",
     "iopub.status.idle": "2022-09-07T02:36:43.511317Z",
     "shell.execute_reply": "2022-09-07T02:36:43.510796Z"
    },
    "papermill": {
     "duration": 0.012393,
     "end_time": "2022-09-07T02:36:43.512903",
     "exception": false,
     "start_time": "2022-09-07T02:36:43.500510",
     "status": "completed"
    },
    "tags": []
   },
   "outputs": [],
   "source": [
    "import os.path\n",
    "def pop_dens(dt):\n",
    "    global data_peta_w_ruta\n",
    "    kdkab=dt.split('/')[5].replace('ghs_built_','').replace('_nonzero.shp','')\n",
    "    if ((os.path.exists(\"data/output/1_population_density/grid_pop_\"+kdkab+\"_100m.gpkg\")==False) \n",
    "        or (os.path.exists(\"data/output/1_population_density/grid_pop_\"+kdkab+\"_100m.gpkg-journal\")==True)):\n",
    "        data_builtup=gpd.read_file(dt)#.to_crs(('ESRI:54009'))\n",
    "        data_builtup['DN']=data_builtup.value\n",
    "        data_peta_w_ruta.pop2020.sum()\n",
    "        data_builtup['centroid'] = data_builtup.centroid\n",
    "        data_builtup['polygon'] = data_builtup['geometry']\n",
    "        data_builtup.crs='ESRI:54009'\n",
    "        data_peta_w_ruta.crs='ESRI:54009'\n",
    "        data_builtup = data_builtup.loc[:,['DN','centroid','polygon']].set_geometry(\"centroid\").sjoin(data_peta_w_ruta)\n",
    "        data_builtup['TOTAL_PEND']=data_builtup['pop2020']\n",
    "    # data_builtup = data_builtup.loc[:,['DN','geometry']].sjoin(data_peta_w_ruta)\n",
    "        data_builtup['p_area'] = data_builtup['DN_left'] / data_builtup.groupby('iddesa').DN_left.transform('sum')\n",
    "        data_builtup['j_pend'] = list(data_builtup['p_area']*data_builtup['TOTAL_PEND'])\n",
    "    # data_builtup[['DN_left', 'geometry', 'iddesa','TOTAL_PEND', 'p_area','j_pend']].to_file(\"data/input/grid_pop_\"+kdprov+\"_100m.gpkg\", driver=\"GPKG\")\n",
    "        data_builtup[['DN_left', 'centroid', 'iddesa','TOTAL_PEND', 'p_area','j_pend']].to_file(\"data/temp/grid_pop_\"+kdkab+\"_100m.gpkg\", driver=\"GPKG\")\n",
    "        data_=data_builtup[['DN_left', 'polygon', 'iddesa','TOTAL_PEND', 'p_area','j_pend']].set_geometry(\"polygon\")\n",
    "        data_.crs='ESRI:54009'\n",
    "        data_.to_file(\"data/output/1_population_density/grid_pop_\"+kdkab+\"_100m.gpkg\", driver=\"GPKG\")\n",
    "    else:\n",
    "        print('SKIP for: ',kdkab)"
   ]
  },
  {
   "cell_type": "code",
   "execution_count": 9,
   "id": "8aa13266",
   "metadata": {
    "execution": {
     "iopub.execute_input": "2022-09-07T02:36:43.518463Z",
     "iopub.status.busy": "2022-09-07T02:36:43.517941Z",
     "iopub.status.idle": "2022-09-07T02:39:41.457160Z",
     "shell.execute_reply": "2022-09-07T02:39:41.456357Z"
    },
    "papermill": {
     "duration": 177.94422,
     "end_time": "2022-09-07T02:39:41.459194",
     "exception": false,
     "start_time": "2022-09-07T02:36:43.514974",
     "status": "completed"
    },
    "tags": []
   },
   "outputs": [
    {
     "data": {
      "application/vnd.jupyter.widget-view+json": {
       "model_id": "60e5929f4d8a4a5c8bf6aa1d13c2633c",
       "version_major": 2,
       "version_minor": 0
      },
      "text/plain": [
       "  0%|          | 0/7 [00:00<?, ?it/s]"
      ]
     },
     "metadata": {},
     "output_type": "display_data"
    },
    {
     "name": "stderr",
     "output_type": "stream",
     "text": [
      "/home/jupyter-peta_admin/.local/lib/python3.8/site-packages/geopandas/geodataframe.py:2072: UserWarning: CRS mismatch between the CRS of left geometries and the CRS of right geometries.\n",
      "Use `to_crs()` to reproject one of the input geometries to match the CRS of the other.\n",
      "\n",
      "Left CRS: None\n",
      "Right CRS: ESRI:54009\n",
      "\n",
      "  return geopandas.sjoin(left_df=self, right_df=df, *args, **kwargs)\n"
     ]
    },
    {
     "name": "stderr",
     "output_type": "stream",
     "text": [
      "/home/jupyter-peta_admin/.local/lib/python3.8/site-packages/geopandas/geodataframe.py:2072: UserWarning: CRS mismatch between the CRS of left geometries and the CRS of right geometries.\n",
      "Use `to_crs()` to reproject one of the input geometries to match the CRS of the other.\n",
      "\n",
      "Left CRS: None\n",
      "Right CRS: ESRI:54009\n",
      "\n",
      "  return geopandas.sjoin(left_df=self, right_df=df, *args, **kwargs)\n"
     ]
    },
    {
     "name": "stderr",
     "output_type": "stream",
     "text": [
      "/home/jupyter-peta_admin/.local/lib/python3.8/site-packages/geopandas/geodataframe.py:2072: UserWarning: CRS mismatch between the CRS of left geometries and the CRS of right geometries.\n",
      "Use `to_crs()` to reproject one of the input geometries to match the CRS of the other.\n",
      "\n",
      "Left CRS: None\n",
      "Right CRS: ESRI:54009\n",
      "\n",
      "  return geopandas.sjoin(left_df=self, right_df=df, *args, **kwargs)\n"
     ]
    },
    {
     "name": "stderr",
     "output_type": "stream",
     "text": [
      "/home/jupyter-peta_admin/.local/lib/python3.8/site-packages/geopandas/geodataframe.py:2072: UserWarning: CRS mismatch between the CRS of left geometries and the CRS of right geometries.\n",
      "Use `to_crs()` to reproject one of the input geometries to match the CRS of the other.\n",
      "\n",
      "Left CRS: None\n",
      "Right CRS: ESRI:54009\n",
      "\n",
      "  return geopandas.sjoin(left_df=self, right_df=df, *args, **kwargs)\n"
     ]
    },
    {
     "name": "stderr",
     "output_type": "stream",
     "text": [
      "/home/jupyter-peta_admin/.local/lib/python3.8/site-packages/geopandas/geodataframe.py:2072: UserWarning: CRS mismatch between the CRS of left geometries and the CRS of right geometries.\n",
      "Use `to_crs()` to reproject one of the input geometries to match the CRS of the other.\n",
      "\n",
      "Left CRS: None\n",
      "Right CRS: ESRI:54009\n",
      "\n",
      "  return geopandas.sjoin(left_df=self, right_df=df, *args, **kwargs)\n"
     ]
    },
    {
     "name": "stderr",
     "output_type": "stream",
     "text": [
      "/home/jupyter-peta_admin/.local/lib/python3.8/site-packages/geopandas/geodataframe.py:2072: UserWarning: CRS mismatch between the CRS of left geometries and the CRS of right geometries.\n",
      "Use `to_crs()` to reproject one of the input geometries to match the CRS of the other.\n",
      "\n",
      "Left CRS: None\n",
      "Right CRS: ESRI:54009\n",
      "\n",
      "  return geopandas.sjoin(left_df=self, right_df=df, *args, **kwargs)\n"
     ]
    },
    {
     "name": "stderr",
     "output_type": "stream",
     "text": [
      "/home/jupyter-peta_admin/.local/lib/python3.8/site-packages/geopandas/geodataframe.py:2072: UserWarning: CRS mismatch between the CRS of left geometries and the CRS of right geometries.\n",
      "Use `to_crs()` to reproject one of the input geometries to match the CRS of the other.\n",
      "\n",
      "Left CRS: None\n",
      "Right CRS: ESRI:54009\n",
      "\n",
      "  return geopandas.sjoin(left_df=self, right_df=df, *args, **kwargs)\n"
     ]
    },
    {
     "data": {
      "text/plain": [
       "[None, None, None, None, None, None, None]"
      ]
     },
     "execution_count": 9,
     "metadata": {},
     "output_type": "execute_result"
    }
   ],
   "source": [
    "from tqdm.contrib.concurrent import process_map\n",
    "process_map(pop_dens,data_builtup_kabkota)   "
   ]
  }
 ],
 "metadata": {
  "celltoolbar": "Tags",
  "kernelspec": {
   "display_name": "Python 3 (ipykernel)",
   "language": "python",
   "name": "python3"
  },
  "language_info": {
   "codemirror_mode": {
    "name": "ipython",
    "version": 3
   },
   "file_extension": ".py",
   "mimetype": "text/x-python",
   "name": "python",
   "nbconvert_exporter": "python",
   "pygments_lexer": "ipython3",
   "version": "3.8.12"
  },
  "papermill": {
   "default_parameters": {},
   "duration": 180.093264,
   "end_time": "2022-09-07T02:39:41.783712",
   "environment_variables": {},
   "exception": null,
   "input_path": "01_Population_Density #1 Preparing for 100m By KABKOTA.ipynb",
   "output_path": "01_Population Density #1-75.ipynb",
   "parameters": {
    "kdprov": "75"
   },
   "start_time": "2022-09-07T02:36:41.690448",
   "version": "2.3.4"
  },
  "widgets": {
   "application/vnd.jupyter.widget-state+json": {
    "state": {
     "16ff94d2908f4a9f947f3dc7d87661c3": {
      "model_module": "@jupyter-widgets/controls",
      "model_module_version": "1.5.0",
      "model_name": "DescriptionStyleModel",
      "state": {
       "_model_module": "@jupyter-widgets/controls",
       "_model_module_version": "1.5.0",
       "_model_name": "DescriptionStyleModel",
       "_view_count": null,
       "_view_module": "@jupyter-widgets/base",
       "_view_module_version": "1.2.0",
       "_view_name": "StyleView",
       "description_width": ""
      }
     },
     "4387b5310aca48b5aca2f0e04515769d": {
      "model_module": "@jupyter-widgets/controls",
      "model_module_version": "1.5.0",
      "model_name": "DescriptionStyleModel",
      "state": {
       "_model_module": "@jupyter-widgets/controls",
       "_model_module_version": "1.5.0",
       "_model_name": "DescriptionStyleModel",
       "_view_count": null,
       "_view_module": "@jupyter-widgets/base",
       "_view_module_version": "1.2.0",
       "_view_name": "StyleView",
       "description_width": ""
      }
     },
     "5c160249da3242afbdff3331a00c0c83": {
      "model_module": "@jupyter-widgets/controls",
      "model_module_version": "1.5.0",
      "model_name": "HTMLModel",
      "state": {
       "_dom_classes": [],
       "_model_module": "@jupyter-widgets/controls",
       "_model_module_version": "1.5.0",
       "_model_name": "HTMLModel",
       "_view_count": null,
       "_view_module": "@jupyter-widgets/controls",
       "_view_module_version": "1.5.0",
       "_view_name": "HTMLView",
       "description": "",
       "description_tooltip": null,
       "layout": "IPY_MODEL_9b1658e7259546398d01f3c84551ed6f",
       "placeholder": "​",
       "style": "IPY_MODEL_16ff94d2908f4a9f947f3dc7d87661c3",
       "value": " 7/7 [02:57&lt;00:00, 29.68s/it]"
      }
     },
     "60e5929f4d8a4a5c8bf6aa1d13c2633c": {
      "model_module": "@jupyter-widgets/controls",
      "model_module_version": "1.5.0",
      "model_name": "HBoxModel",
      "state": {
       "_dom_classes": [],
       "_model_module": "@jupyter-widgets/controls",
       "_model_module_version": "1.5.0",
       "_model_name": "HBoxModel",
       "_view_count": null,
       "_view_module": "@jupyter-widgets/controls",
       "_view_module_version": "1.5.0",
       "_view_name": "HBoxView",
       "box_style": "",
       "children": [
        "IPY_MODEL_fe1f4a06e3b34e0088eb24f2606aad00",
        "IPY_MODEL_98ade0f6d5ae494eaa88fc081a958773",
        "IPY_MODEL_5c160249da3242afbdff3331a00c0c83"
       ],
       "layout": "IPY_MODEL_f8dac7744d824e5fa5304cc131494bca"
      }
     },
     "84b10d2b8c9742e8babb90a24df4d93e": {
      "model_module": "@jupyter-widgets/base",
      "model_module_version": "1.2.0",
      "model_name": "LayoutModel",
      "state": {
       "_model_module": "@jupyter-widgets/base",
       "_model_module_version": "1.2.0",
       "_model_name": "LayoutModel",
       "_view_count": null,
       "_view_module": "@jupyter-widgets/base",
       "_view_module_version": "1.2.0",
       "_view_name": "LayoutView",
       "align_content": null,
       "align_items": null,
       "align_self": null,
       "border": null,
       "bottom": null,
       "display": null,
       "flex": null,
       "flex_flow": null,
       "grid_area": null,
       "grid_auto_columns": null,
       "grid_auto_flow": null,
       "grid_auto_rows": null,
       "grid_column": null,
       "grid_gap": null,
       "grid_row": null,
       "grid_template_areas": null,
       "grid_template_columns": null,
       "grid_template_rows": null,
       "height": null,
       "justify_content": null,
       "justify_items": null,
       "left": null,
       "margin": null,
       "max_height": null,
       "max_width": null,
       "min_height": null,
       "min_width": null,
       "object_fit": null,
       "object_position": null,
       "order": null,
       "overflow": null,
       "overflow_x": null,
       "overflow_y": null,
       "padding": null,
       "right": null,
       "top": null,
       "visibility": null,
       "width": null
      }
     },
     "98ade0f6d5ae494eaa88fc081a958773": {
      "model_module": "@jupyter-widgets/controls",
      "model_module_version": "1.5.0",
      "model_name": "FloatProgressModel",
      "state": {
       "_dom_classes": [],
       "_model_module": "@jupyter-widgets/controls",
       "_model_module_version": "1.5.0",
       "_model_name": "FloatProgressModel",
       "_view_count": null,
       "_view_module": "@jupyter-widgets/controls",
       "_view_module_version": "1.5.0",
       "_view_name": "ProgressView",
       "bar_style": "success",
       "description": "",
       "description_tooltip": null,
       "layout": "IPY_MODEL_99f6cae8df8d4a6897ac592336b2e36d",
       "max": 7.0,
       "min": 0.0,
       "orientation": "horizontal",
       "style": "IPY_MODEL_cf82aa8128bf4f59a399277335e50297",
       "value": 7.0
      }
     },
     "99f6cae8df8d4a6897ac592336b2e36d": {
      "model_module": "@jupyter-widgets/base",
      "model_module_version": "1.2.0",
      "model_name": "LayoutModel",
      "state": {
       "_model_module": "@jupyter-widgets/base",
       "_model_module_version": "1.2.0",
       "_model_name": "LayoutModel",
       "_view_count": null,
       "_view_module": "@jupyter-widgets/base",
       "_view_module_version": "1.2.0",
       "_view_name": "LayoutView",
       "align_content": null,
       "align_items": null,
       "align_self": null,
       "border": null,
       "bottom": null,
       "display": null,
       "flex": null,
       "flex_flow": null,
       "grid_area": null,
       "grid_auto_columns": null,
       "grid_auto_flow": null,
       "grid_auto_rows": null,
       "grid_column": null,
       "grid_gap": null,
       "grid_row": null,
       "grid_template_areas": null,
       "grid_template_columns": null,
       "grid_template_rows": null,
       "height": null,
       "justify_content": null,
       "justify_items": null,
       "left": null,
       "margin": null,
       "max_height": null,
       "max_width": null,
       "min_height": null,
       "min_width": null,
       "object_fit": null,
       "object_position": null,
       "order": null,
       "overflow": null,
       "overflow_x": null,
       "overflow_y": null,
       "padding": null,
       "right": null,
       "top": null,
       "visibility": null,
       "width": null
      }
     },
     "9b1658e7259546398d01f3c84551ed6f": {
      "model_module": "@jupyter-widgets/base",
      "model_module_version": "1.2.0",
      "model_name": "LayoutModel",
      "state": {
       "_model_module": "@jupyter-widgets/base",
       "_model_module_version": "1.2.0",
       "_model_name": "LayoutModel",
       "_view_count": null,
       "_view_module": "@jupyter-widgets/base",
       "_view_module_version": "1.2.0",
       "_view_name": "LayoutView",
       "align_content": null,
       "align_items": null,
       "align_self": null,
       "border": null,
       "bottom": null,
       "display": null,
       "flex": null,
       "flex_flow": null,
       "grid_area": null,
       "grid_auto_columns": null,
       "grid_auto_flow": null,
       "grid_auto_rows": null,
       "grid_column": null,
       "grid_gap": null,
       "grid_row": null,
       "grid_template_areas": null,
       "grid_template_columns": null,
       "grid_template_rows": null,
       "height": null,
       "justify_content": null,
       "justify_items": null,
       "left": null,
       "margin": null,
       "max_height": null,
       "max_width": null,
       "min_height": null,
       "min_width": null,
       "object_fit": null,
       "object_position": null,
       "order": null,
       "overflow": null,
       "overflow_x": null,
       "overflow_y": null,
       "padding": null,
       "right": null,
       "top": null,
       "visibility": null,
       "width": null
      }
     },
     "cf82aa8128bf4f59a399277335e50297": {
      "model_module": "@jupyter-widgets/controls",
      "model_module_version": "1.5.0",
      "model_name": "ProgressStyleModel",
      "state": {
       "_model_module": "@jupyter-widgets/controls",
       "_model_module_version": "1.5.0",
       "_model_name": "ProgressStyleModel",
       "_view_count": null,
       "_view_module": "@jupyter-widgets/base",
       "_view_module_version": "1.2.0",
       "_view_name": "StyleView",
       "bar_color": null,
       "description_width": ""
      }
     },
     "f8dac7744d824e5fa5304cc131494bca": {
      "model_module": "@jupyter-widgets/base",
      "model_module_version": "1.2.0",
      "model_name": "LayoutModel",
      "state": {
       "_model_module": "@jupyter-widgets/base",
       "_model_module_version": "1.2.0",
       "_model_name": "LayoutModel",
       "_view_count": null,
       "_view_module": "@jupyter-widgets/base",
       "_view_module_version": "1.2.0",
       "_view_name": "LayoutView",
       "align_content": null,
       "align_items": null,
       "align_self": null,
       "border": null,
       "bottom": null,
       "display": null,
       "flex": null,
       "flex_flow": null,
       "grid_area": null,
       "grid_auto_columns": null,
       "grid_auto_flow": null,
       "grid_auto_rows": null,
       "grid_column": null,
       "grid_gap": null,
       "grid_row": null,
       "grid_template_areas": null,
       "grid_template_columns": null,
       "grid_template_rows": null,
       "height": null,
       "justify_content": null,
       "justify_items": null,
       "left": null,
       "margin": null,
       "max_height": null,
       "max_width": null,
       "min_height": null,
       "min_width": null,
       "object_fit": null,
       "object_position": null,
       "order": null,
       "overflow": null,
       "overflow_x": null,
       "overflow_y": null,
       "padding": null,
       "right": null,
       "top": null,
       "visibility": null,
       "width": null
      }
     },
     "fe1f4a06e3b34e0088eb24f2606aad00": {
      "model_module": "@jupyter-widgets/controls",
      "model_module_version": "1.5.0",
      "model_name": "HTMLModel",
      "state": {
       "_dom_classes": [],
       "_model_module": "@jupyter-widgets/controls",
       "_model_module_version": "1.5.0",
       "_model_name": "HTMLModel",
       "_view_count": null,
       "_view_module": "@jupyter-widgets/controls",
       "_view_module_version": "1.5.0",
       "_view_name": "HTMLView",
       "description": "",
       "description_tooltip": null,
       "layout": "IPY_MODEL_84b10d2b8c9742e8babb90a24df4d93e",
       "placeholder": "​",
       "style": "IPY_MODEL_4387b5310aca48b5aca2f0e04515769d",
       "value": "100%"
      }
     }
    },
    "version_major": 2,
    "version_minor": 0
   }
  }
 },
 "nbformat": 4,
 "nbformat_minor": 5
}