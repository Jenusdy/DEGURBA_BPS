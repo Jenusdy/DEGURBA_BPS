{
 "cells": [
  {
   "cell_type": "code",
   "execution_count": 1,
   "id": "ffb5ba16",
   "metadata": {
    "execution": {
     "iopub.execute_input": "2022-09-06T14:53:32.201254Z",
     "iopub.status.busy": "2022-09-06T14:53:32.200584Z",
     "iopub.status.idle": "2022-09-06T14:53:32.208797Z",
     "shell.execute_reply": "2022-09-06T14:53:32.208150Z"
    },
    "papermill": {
     "duration": 0.014712,
     "end_time": "2022-09-06T14:53:32.210642",
     "exception": false,
     "start_time": "2022-09-06T14:53:32.195930",
     "status": "completed"
    },
    "tags": [
     "parameters"
    ]
   },
   "outputs": [],
   "source": [
    "kdprov = '76'"
   ]
  },
  {
   "cell_type": "code",
   "execution_count": 2,
   "id": "3e2c065d",
   "metadata": {
    "execution": {
     "iopub.execute_input": "2022-09-06T14:53:32.220056Z",
     "iopub.status.busy": "2022-09-06T14:53:32.219787Z",
     "iopub.status.idle": "2022-09-06T14:53:32.223392Z",
     "shell.execute_reply": "2022-09-06T14:53:32.222623Z"
    },
    "papermill": {
     "duration": 0.00909,
     "end_time": "2022-09-06T14:53:32.224975",
     "exception": false,
     "start_time": "2022-09-06T14:53:32.215885",
     "status": "completed"
    },
    "tags": [
     "injected-parameters"
    ]
   },
   "outputs": [],
   "source": [
    "# Parameters\n",
    "kdprov = \"52\"\n"
   ]
  },
  {
   "cell_type": "code",
   "execution_count": 3,
   "id": "4e5d5de4",
   "metadata": {
    "execution": {
     "iopub.execute_input": "2022-09-06T14:53:32.231181Z",
     "iopub.status.busy": "2022-09-06T14:53:32.230747Z",
     "iopub.status.idle": "2022-09-06T14:53:33.492432Z",
     "shell.execute_reply": "2022-09-06T14:53:33.491644Z"
    },
    "papermill": {
     "duration": 1.267116,
     "end_time": "2022-09-06T14:53:33.494447",
     "exception": false,
     "start_time": "2022-09-06T14:53:32.227331",
     "status": "completed"
    },
    "tags": []
   },
   "outputs": [
    {
     "name": "stderr",
     "output_type": "stream",
     "text": [
      "/home/jupyter-peta_admin/.local/lib/python3.8/site-packages/geopandas/_compat.py:112: UserWarning: The Shapely GEOS version (3.10.2-CAPI-1.16.0) is incompatible with the GEOS version PyGEOS was compiled with (3.10.1-CAPI-1.16.0). Conversions between both will be slow.\n",
      "  warnings.warn(\n"
     ]
    }
   ],
   "source": [
    "import pandas as pd\n",
    "import numpy as np\n",
    "import math\n",
    "from matplotlib import pyplot as plt\n",
    "\n",
    "from dbfread import DBF\n",
    "from glob import glob\n",
    "from tqdm import tqdm\n",
    "import os \n",
    "\n",
    "import geopandas as gpd\n",
    "import rasterio\n",
    "import rasterio.features as features\n",
    "from rasterio.plot import show\n",
    "from shapely.geometry import Polygon\n",
    "\n",
    "from osgeo import ogr\n",
    "from osgeo import osr\n",
    "from osgeo import gdal\n",
    "\n",
    "import itertools\n",
    "import rasterio\n",
    "from shapely.geometry import box\n",
    "import geopandas as gpd\n",
    "from rasterio.enums import MergeAlg"
   ]
  },
  {
   "cell_type": "code",
   "execution_count": 4,
   "id": "04437906",
   "metadata": {
    "execution": {
     "iopub.execute_input": "2022-09-06T14:53:33.503245Z",
     "iopub.status.busy": "2022-09-06T14:53:33.502549Z",
     "iopub.status.idle": "2022-09-06T14:53:33.506589Z",
     "shell.execute_reply": "2022-09-06T14:53:33.505954Z"
    },
    "papermill": {
     "duration": 0.009877,
     "end_time": "2022-09-06T14:53:33.508149",
     "exception": false,
     "start_time": "2022-09-06T14:53:33.498272",
     "status": "completed"
    },
    "tags": []
   },
   "outputs": [],
   "source": [
    "from osgeo import gdal, ogr, osr"
   ]
  },
  {
   "cell_type": "code",
   "execution_count": 5,
   "id": "3af1816e",
   "metadata": {
    "execution": {
     "iopub.execute_input": "2022-09-06T14:53:33.514717Z",
     "iopub.status.busy": "2022-09-06T14:53:33.514473Z",
     "iopub.status.idle": "2022-09-06T14:53:36.683528Z",
     "shell.execute_reply": "2022-09-06T14:53:36.682548Z"
    },
    "papermill": {
     "duration": 3.175102,
     "end_time": "2022-09-06T14:53:36.685830",
     "exception": false,
     "start_time": "2022-09-06T14:53:33.510728",
     "status": "completed"
    },
    "tags": []
   },
   "outputs": [],
   "source": [
    "data_kab=gpd.read_file('data/input/Master_Data/kab_20201_byindo.gpkg').query('kdprov==@kdprov')"
   ]
  },
  {
   "cell_type": "code",
   "execution_count": 6,
   "id": "7d110dc2",
   "metadata": {
    "execution": {
     "iopub.execute_input": "2022-09-06T14:53:36.694649Z",
     "iopub.status.busy": "2022-09-06T14:53:36.693986Z",
     "iopub.status.idle": "2022-09-06T14:53:36.698039Z",
     "shell.execute_reply": "2022-09-06T14:53:36.697429Z"
    },
    "papermill": {
     "duration": 0.009853,
     "end_time": "2022-09-06T14:53:36.699658",
     "exception": false,
     "start_time": "2022-09-06T14:53:36.689805",
     "status": "completed"
    },
    "tags": []
   },
   "outputs": [],
   "source": [
    "from rasterio.mask import mask"
   ]
  },
  {
   "cell_type": "code",
   "execution_count": 7,
   "id": "f2b9709b",
   "metadata": {
    "execution": {
     "iopub.execute_input": "2022-09-06T14:53:36.706194Z",
     "iopub.status.busy": "2022-09-06T14:53:36.705757Z",
     "iopub.status.idle": "2022-09-06T14:53:38.592170Z",
     "shell.execute_reply": "2022-09-06T14:53:38.591426Z"
    },
    "papermill": {
     "duration": 1.892165,
     "end_time": "2022-09-06T14:53:38.594391",
     "exception": false,
     "start_time": "2022-09-06T14:53:36.702226",
     "status": "completed"
    },
    "tags": []
   },
   "outputs": [],
   "source": [
    "import json\n",
    "src  = rasterio.open('data/input/GHSL Data/2020/prov/2020_'+kdprov+'.tif')\n",
    "def getFeatures(gdf):\n",
    "    \"\"\"Function to parse features from GeoDataFrame in such a manner that rasterio wants them\"\"\"\n",
    "    return [json.loads(gdf.to_json())['features'][0]['geometry']]\n",
    "for i in data_kab.kdkab.unique():\n",
    "    df=data_kab.query('kdkab==@i').to_crs('ESRI:54009')\n",
    "    \n",
    "    coords = getFeatures(df)\n",
    "    clipped_array, clipped_transform = mask(dataset=src, shapes=coords, crop=True)\n",
    "\n",
    "    df = df.to_crs(src.crs)\n",
    "    out_meta = src.meta.copy()\n",
    "    out_meta.update({\"driver\": \"GTiff\",\n",
    "                 \"height\": clipped_array.shape[1],\n",
    "                 \"width\": clipped_array.shape[2],\n",
    "                 \"transform\": clipped_transform})\n",
    "    out_tif= 'data/input/GHSL Data/2020/prov/2020_'+kdprov+'_'+i+'.tif'\n",
    "    with rasterio.open(out_tif, \"w\", **out_meta) as dest:\n",
    "        dest.write(clipped_array)"
   ]
  },
  {
   "cell_type": "code",
   "execution_count": 8,
   "id": "0bcc9ed8",
   "metadata": {
    "execution": {
     "iopub.execute_input": "2022-09-06T14:53:38.603119Z",
     "iopub.status.busy": "2022-09-06T14:53:38.602391Z",
     "iopub.status.idle": "2022-09-06T14:53:38.608493Z",
     "shell.execute_reply": "2022-09-06T14:53:38.607995Z"
    },
    "papermill": {
     "duration": 0.011561,
     "end_time": "2022-09-06T14:53:38.609893",
     "exception": false,
     "start_time": "2022-09-06T14:53:38.598332",
     "status": "completed"
    },
    "tags": []
   },
   "outputs": [],
   "source": [
    "def ghsl_kab_convert(dt):\n",
    "    with rasterio.open(dt) as dataset:\n",
    "        data = dataset.read(1)\n",
    "\n",
    "        t = dataset.transform\n",
    "\n",
    "        move_x = t[0]\n",
    "        move_y = t[4]\n",
    "\n",
    "        height = dataset.height\n",
    "        width = dataset.width \n",
    "\n",
    "        polygons = []\n",
    "        indices = list(itertools.product(range(width), range(height)))\n",
    "        data_list = []\n",
    "    \n",
    "        for x,y in indices:\n",
    "            x_min, y_max = t * (x,y)\n",
    "            x_max = x_min + move_x\n",
    "            y_min = y_max + move_y\n",
    "            polygons.append(box(x_min, y_min, x_max, y_max))\n",
    "            data_list.append(data[y,x])\n",
    "    gdf = gpd.GeoDataFrame(data=data_list, geometry=polygons, columns=['value'])\n",
    "    kdkab=dt.split('_')[2].replace('.tif','')\n",
    "    gdf.query('(value>=0)and(value<=10000)').to_file(\"data/input/GHSL Data/2020/gpkg/ghs_built_\"+kdprov+kdkab+\"_nonzero.shp\")"
   ]
  },
  {
   "cell_type": "code",
   "execution_count": 9,
   "id": "658e96d1",
   "metadata": {
    "execution": {
     "iopub.execute_input": "2022-09-06T14:53:38.616940Z",
     "iopub.status.busy": "2022-09-06T14:53:38.616245Z",
     "iopub.status.idle": "2022-09-06T14:56:28.055454Z",
     "shell.execute_reply": "2022-09-06T14:56:28.054480Z"
    },
    "papermill": {
     "duration": 169.444875,
     "end_time": "2022-09-06T14:56:28.057386",
     "exception": false,
     "start_time": "2022-09-06T14:53:38.612511",
     "status": "completed"
    },
    "tags": []
   },
   "outputs": [
    {
     "data": {
      "application/vnd.jupyter.widget-view+json": {
       "model_id": "29123721ed97432c86683dd805f72b97",
       "version_major": 2,
       "version_minor": 0
      },
      "text/plain": [
       "  0%|          | 0/10 [00:00<?, ?it/s]"
      ]
     },
     "metadata": {},
     "output_type": "display_data"
    },
    {
     "data": {
      "text/plain": [
       "[None, None, None, None, None, None, None, None, None, None]"
      ]
     },
     "execution_count": 9,
     "metadata": {},
     "output_type": "execute_result"
    }
   ],
   "source": [
    "import itertools\n",
    "import rasterio\n",
    "from shapely.geometry import box\n",
    "import geopandas as gpd\n",
    "from glob import glob as glob\n",
    "from tqdm.contrib.concurrent import process_map\n",
    "\n",
    "data_rasterio_kab=glob('data/input/GHSL Data/2020/prov/2020_'+kdprov+'_*.tif')\n",
    "process_map(ghsl_kab_convert,data_rasterio_kab)   "
   ]
  },
  {
   "cell_type": "code",
   "execution_count": 10,
   "id": "f0acd561",
   "metadata": {
    "execution": {
     "iopub.execute_input": "2022-09-06T14:56:28.067751Z",
     "iopub.status.busy": "2022-09-06T14:56:28.067150Z",
     "iopub.status.idle": "2022-09-06T14:56:44.733047Z",
     "shell.execute_reply": "2022-09-06T14:56:44.732147Z"
    },
    "papermill": {
     "duration": 16.67263,
     "end_time": "2022-09-06T14:56:44.735311",
     "exception": false,
     "start_time": "2022-09-06T14:56:28.062681",
     "status": "completed"
    },
    "tags": []
   },
   "outputs": [],
   "source": [
    "# import gpkg desa & filter\n",
    "\n",
    "vector = gpd.read_file(r\"data/input/Master_Data/DESA_20201_BYINDO.gpkg\").query('kdprov==@kdprov').to_crs(\"ESRI:54009\")\n",
    "raster = rasterio.open(r\"/vsigs/bps-gcp-bucket/Degree of Urbanisation/GHSL data/2020/prov/2020_\"+kdprov+\".tif\")\n",
    "geom = [shapes for shapes in vector.geometry]\n",
    "# vector['iddesa'] = vector.iddesa.astype(np.int32)\n",
    "vector['id'] = range(0,len(vector))"
   ]
  },
  {
   "cell_type": "code",
   "execution_count": 11,
   "id": "88c8092e",
   "metadata": {
    "execution": {
     "iopub.execute_input": "2022-09-06T14:56:44.745347Z",
     "iopub.status.busy": "2022-09-06T14:56:44.744593Z",
     "iopub.status.idle": "2022-09-06T14:56:44.883166Z",
     "shell.execute_reply": "2022-09-06T14:56:44.882410Z"
    },
    "papermill": {
     "duration": 0.144767,
     "end_time": "2022-09-06T14:56:44.885311",
     "exception": false,
     "start_time": "2022-09-06T14:56:44.740544",
     "status": "completed"
    },
    "tags": []
   },
   "outputs": [],
   "source": [
    "vector['geometry']=vector.geometry.buffer(0)"
   ]
  },
  {
   "cell_type": "code",
   "execution_count": 12,
   "id": "0f3b6d12",
   "metadata": {
    "execution": {
     "iopub.execute_input": "2022-09-06T14:56:44.895690Z",
     "iopub.status.busy": "2022-09-06T14:56:44.895418Z",
     "iopub.status.idle": "2022-09-06T14:56:46.226671Z",
     "shell.execute_reply": "2022-09-06T14:56:46.225943Z"
    },
    "papermill": {
     "duration": 1.337588,
     "end_time": "2022-09-06T14:56:46.228738",
     "exception": false,
     "start_time": "2022-09-06T14:56:44.891150",
     "status": "completed"
    },
    "tags": []
   },
   "outputs": [
    {
     "data": {
      "text/plain": [
       "<AxesSubplot:>"
      ]
     },
     "execution_count": 12,
     "metadata": {},
     "output_type": "execute_result"
    },
    {
     "data": {
      "image/png": "[encoded data removed]",
      "text/plain": [
       "<Figure size 720x720 with 1 Axes>"
      ]
     },
     "metadata": {
      "needs_background": "light"
     },
     "output_type": "display_data"
    }
   ],
   "source": [
    "# create tuples of geometry, value pairs, where value is the attribute value you want to burn\n",
    "geom_value = ((geom,value) for geom, value in zip(vector.geometry, vector['id']))\n",
    "# Rasterize vector using the shape and transform of the raster\n",
    "#rasterized = features.rasterize(geom_value,\n",
    "#                                out_shape = raster.shape,\n",
    "#                                fill = -5,\n",
    "#                                out = None,\n",
    "#                                transform = raster.transform,\n",
    "#                                all_touched = False,\n",
    "#                                default_value = 1,\n",
    "#                                dtype = np.int32)\n",
    "\n",
    "rasterized = features.rasterize(geom_value,\n",
    "                                out_shape = raster.shape,\n",
    "                                transform = raster.transform,\n",
    "                                all_touched = True,\n",
    "                                fill = -5,   # background value\n",
    "                                default_value = 1,\n",
    "                                dtype = np.float64)\n",
    "\n",
    "# Plot raster\n",
    "fig, ax = plt.subplots(1, figsize = (10, 10))\n",
    "show(rasterized, ax = ax)\n",
    "#plt.gca().invert_yaxis()"
   ]
  },
  {
   "cell_type": "code",
   "execution_count": 13,
   "id": "fd43450d",
   "metadata": {
    "execution": {
     "iopub.execute_input": "2022-09-06T14:56:46.240017Z",
     "iopub.status.busy": "2022-09-06T14:56:46.239712Z",
     "iopub.status.idle": "2022-09-06T14:56:47.599944Z",
     "shell.execute_reply": "2022-09-06T14:56:47.599133Z"
    },
    "papermill": {
     "duration": 1.36823,
     "end_time": "2022-09-06T14:56:47.602284",
     "exception": false,
     "start_time": "2022-09-06T14:56:46.234054",
     "status": "completed"
    },
    "tags": []
   },
   "outputs": [],
   "source": [
    "# rasterization polygon desa\n",
    "\n",
    "with rasterio.open(\n",
    "        \"data/temp/rasterized_vector.tif\", \"w\",\n",
    "        driver = \"GTiff\",\n",
    "        transform = raster.transform,\n",
    "        dtype = rasterio.float64,\n",
    "        count = 1,\n",
    "        width = raster.width,\n",
    "        height = raster.height) as dst:\n",
    "    dst.write(rasterized, indexes = 1)\n",
    "\n",
    "# polygonize polygon desa\n",
    "\n",
    "raster_src = gdal.Open(r'data/temp/rasterized_vector.tif')\n",
    "band = raster_src.GetRasterBand(1) \n",
    "\n",
    "drv = ogr.GetDriverByName('ESRI Shapefile')\n",
    "outfile = drv.CreateDataSource(r'data/temp/polygonizedRaster.shp') \n",
    "outlayer = outfile.CreateLayer('polygonized raster', srs = None )\n",
    "newField = ogr.FieldDefn('DN', ogr.OFTReal)\n",
    "outlayer.CreateField(newField)\n",
    "\n",
    "gdal.Polygonize(band, None, outlayer, 0, [])\n",
    "outfile = None\n",
    "\n",
    "raster = None\n",
    "raster_src = None\n",
    "\n",
    "desa = gpd.read_file(r'data/temp/polygonizedRaster.shp')\n",
    "desa = desa.merge(vector[['id','iddesa']], \n",
    "                                 left_on = \"DN\", right_on = \"id\", how=\"left\").dissolve(by=\"iddesa\").reset_index()\n",
    "desa.crs='ESRI:54009'\n",
    "desa.to_file(\"data/input/desa_rasterize_\"+kdprov+\".gpkg\", driver=\"GPKG\")"
   ]
  },
  {
   "cell_type": "code",
   "execution_count": 14,
   "id": "f7a14593",
   "metadata": {
    "execution": {
     "iopub.execute_input": "2022-09-06T14:56:47.614423Z",
     "iopub.status.busy": "2022-09-06T14:56:47.613799Z",
     "iopub.status.idle": "2022-09-06T14:56:48.190073Z",
     "shell.execute_reply": "2022-09-06T14:56:48.189097Z"
    },
    "papermill": {
     "duration": 0.584481,
     "end_time": "2022-09-06T14:56:48.192248",
     "exception": false,
     "start_time": "2022-09-06T14:56:47.607767",
     "status": "completed"
    },
    "tags": []
   },
   "outputs": [],
   "source": [
    "# import ruta\n",
    "\n",
    "data_ruta=pd.read_csv('data/input/Master_Data/pop_desa_rev.csv',sep=',')\n",
    "data_ruta.iddesa=data_ruta.iddesa.astype(str)\n",
    "#data_ruta['iddesa'] = [x[0:10] for x in data_ruta.KODE_SLS]\n",
    "data_ruta['idprov'] = [x[0:2] for x in data_ruta.iddesa]\n",
    "\n",
    "data_ruta = data_ruta.loc[data_ruta.idprov.isin([kdprov])]\n",
    "\n",
    "# join penduduk & polygon desa\n",
    "\n",
    "data_ruta_desa = pd.DataFrame(data_ruta.groupby(\"iddesa\").pop2020.sum()).reset_index()\n",
    "desa = desa.merge(data_ruta_desa, how=\"left\").fillna(0)\n",
    "desa.set_crs('ESRI:54009').to_file(\"data/output/0_raster_data_desa/desa_pend_rasterize_\"+kdprov+\".gpkg\", driver=\"GPKG\")"
   ]
  },
  {
   "cell_type": "code",
   "execution_count": 15,
   "id": "a0761d29",
   "metadata": {
    "execution": {
     "iopub.execute_input": "2022-09-06T14:56:48.203663Z",
     "iopub.status.busy": "2022-09-06T14:56:48.203378Z",
     "iopub.status.idle": "2022-09-06T14:56:48.211034Z",
     "shell.execute_reply": "2022-09-06T14:56:48.210353Z"
    },
    "papermill": {
     "duration": 0.01504,
     "end_time": "2022-09-06T14:56:48.212635",
     "exception": false,
     "start_time": "2022-09-06T14:56:48.197595",
     "status": "completed"
    },
    "scrolled": true,
    "tags": []
   },
   "outputs": [
    {
     "name": "stdout",
     "output_type": "stream",
     "text": [
      "Ada di Peta. tidak di Hasil SP : 1\n",
      "Ada di Hasil SP. tidak di Peta : 2\n"
     ]
    }
   ],
   "source": [
    "print(\"Ada di Peta. tidak di Hasil SP : \"+str(desa[~desa.iddesa.isin(data_ruta.iddesa)].shape[0]))\n",
    "print(\"Ada di Hasil SP. tidak di Peta : \"+str(data_ruta[~data_ruta.iddesa.isin(desa.iddesa)].shape[0]))"
   ]
  },
  {
   "cell_type": "code",
   "execution_count": 16,
   "id": "8173d01c",
   "metadata": {
    "execution": {
     "iopub.execute_input": "2022-09-06T14:56:48.222226Z",
     "iopub.status.busy": "2022-09-06T14:56:48.221956Z",
     "iopub.status.idle": "2022-09-06T14:56:48.231009Z",
     "shell.execute_reply": "2022-09-06T14:56:48.230438Z"
    },
    "papermill": {
     "duration": 0.015827,
     "end_time": "2022-09-06T14:56:48.232573",
     "exception": false,
     "start_time": "2022-09-06T14:56:48.216746",
     "status": "completed"
    },
    "tags": []
   },
   "outputs": [
    {
     "data": {
      "text/html": [
       "<div>\n",
       "<style scoped>\n",
       "    .dataframe tbody tr th:only-of-type {\n",
       "        vertical-align: middle;\n",
       "    }\n",
       "\n",
       "    .dataframe tbody tr th {\n",
       "        vertical-align: top;\n",
       "    }\n",
       "\n",
       "    .dataframe thead th {\n",
       "        text-align: right;\n",
       "    }\n",
       "</style>\n",
       "<table border=\"1\" class=\"dataframe\">\n",
       "  <thead>\n",
       "    <tr style=\"text-align: right;\">\n",
       "      <th></th>\n",
       "      <th>Unnamed: 0</th>\n",
       "      <th>iddesa</th>\n",
       "      <th>pop2020</th>\n",
       "      <th>idprov</th>\n",
       "    </tr>\n",
       "  </thead>\n",
       "  <tbody>\n",
       "    <tr>\n",
       "      <th>52370</th>\n",
       "      <td>52370</td>\n",
       "      <td>5206060017</td>\n",
       "      <td>5207</td>\n",
       "      <td>52</td>\n",
       "    </tr>\n",
       "    <tr>\n",
       "      <th>52593</th>\n",
       "      <td>52593</td>\n",
       "      <td>5271031011</td>\n",
       "      <td>8818</td>\n",
       "      <td>52</td>\n",
       "    </tr>\n",
       "  </tbody>\n",
       "</table>\n",
       "</div>"
      ],
      "text/plain": [
       "       Unnamed: 0      iddesa  pop2020 idprov\n",
       "52370       52370  5206060017     5207     52\n",
       "52593       52593  5271031011     8818     52"
      ]
     },
     "execution_count": 16,
     "metadata": {},
     "output_type": "execute_result"
    }
   ],
   "source": [
    "data_ruta[~data_ruta.iddesa.isin(desa.iddesa)]"
   ]
  }
 ],
 "metadata": {
  "celltoolbar": "Tags",
  "kernelspec": {
   "display_name": "Python 3 (ipykernel)",
   "language": "python",
   "name": "python3"
  },
  "language_info": {
   "codemirror_mode": {
    "name": "ipython",
    "version": 3
   },
   "file_extension": ".py",
   "mimetype": "text/x-python",
   "name": "python",
   "nbconvert_exporter": "python",
   "pygments_lexer": "ipython3",
   "version": "3.8.12"
  },
  "papermill": {
   "default_parameters": {},
   "duration": 197.512805,
   "end_time": "2022-09-06T14:56:48.757523",
   "environment_variables": {},
   "exception": null,
   "input_path": "00_Data Preparation #4 Rasterize Village Map.ipynb",
   "output_path": "00_Data Preparation #4-52.ipynb",
   "parameters": {
    "kdprov": "52"
   },
   "start_time": "2022-09-06T14:53:31.244718",
   "version": "2.3.4"
  },
  "widgets": {
   "application/vnd.jupyter.widget-state+json": {
    "state": {
     "02c9b80e0e434f59b94dc7a827e40aba": {
      "model_module": "@jupyter-widgets/controls",
      "model_module_version": "1.5.0",
      "model_name": "FloatProgressModel",
      "state": {
       "_dom_classes": [],
       "_model_module": "@jupyter-widgets/controls",
       "_model_module_version": "1.5.0",
       "_model_name": "FloatProgressModel",
       "_view_count": null,
       "_view_module": "@jupyter-widgets/controls",
       "_view_module_version": "1.5.0",
       "_view_name": "ProgressView",
       "bar_style": "success",
       "description": "",
       "description_tooltip": null,
       "layout": "IPY_MODEL_891f71996b214efea7cec8e5676f1295",
       "max": 10.0,
       "min": 0.0,
       "orientation": "horizontal",
       "style": "IPY_MODEL_3c33448ab502497e81871e7050e1f739",
       "value": 10.0
      }
     },
     "033160fe23e54dd6a5a7c1d3f62a391c": {
      "model_module": "@jupyter-widgets/controls",
      "model_module_version": "1.5.0",
      "model_name": "HTMLModel",
      "state": {
       "_dom_classes": [],
       "_model_module": "@jupyter-widgets/controls",
       "_model_module_version": "1.5.0",
       "_model_name": "HTMLModel",
       "_view_count": null,
       "_view_module": "@jupyter-widgets/controls",
       "_view_module_version": "1.5.0",
       "_view_name": "HTMLView",
       "description": "",
       "description_tooltip": null,
       "layout": "IPY_MODEL_0d1f506b092742bc9639b3a6c6265fe2",
       "placeholder": "​",
       "style": "IPY_MODEL_ecb1c45cbd1a4cdb8868f06f1d44376e",
       "value": " 10/10 [02:48&lt;00:00, 64.16s/it]"
      }
     },
     "0d1f506b092742bc9639b3a6c6265fe2": {
      "model_module": "@jupyter-widgets/base",
      "model_module_version": "1.2.0",
      "model_name": "LayoutModel",
      "state": {
       "_model_module": "@jupyter-widgets/base",
       "_model_module_version": "1.2.0",
       "_model_name": "LayoutModel",
       "_view_count": null,
       "_view_module": "@jupyter-widgets/base",
       "_view_module_version": "1.2.0",
       "_view_name": "LayoutView",
       "align_content": null,
       "align_items": null,
       "align_self": null,
       "border": null,
       "bottom": null,
       "display": null,
       "flex": null,
       "flex_flow": null,
       "grid_area": null,
       "grid_auto_columns": null,
       "grid_auto_flow": null,
       "grid_auto_rows": null,
       "grid_column": null,
       "grid_gap": null,
       "grid_row": null,
       "grid_template_areas": null,
       "grid_template_columns": null,
       "grid_template_rows": null,
       "height": null,
       "justify_content": null,
       "justify_items": null,
       "left": null,
       "margin": null,
       "max_height": null,
       "max_width": null,
       "min_height": null,
       "min_width": null,
       "object_fit": null,
       "object_position": null,
       "order": null,
       "overflow": null,
       "overflow_x": null,
       "overflow_y": null,
       "padding": null,
       "right": null,
       "top": null,
       "visibility": null,
       "width": null
      }
     },
     "1598cd5df7554b48887992ca8bbdebfd": {
      "model_module": "@jupyter-widgets/controls",
      "model_module_version": "1.5.0",
      "model_name": "DescriptionStyleModel",
      "state": {
       "_model_module": "@jupyter-widgets/controls",
       "_model_module_version": "1.5.0",
       "_model_name": "DescriptionStyleModel",
       "_view_count": null,
       "_view_module": "@jupyter-widgets/base",
       "_view_module_version": "1.2.0",
       "_view_name": "StyleView",
       "description_width": ""
      }
     },
     "29123721ed97432c86683dd805f72b97": {
      "model_module": "@jupyter-widgets/controls",
      "model_module_version": "1.5.0",
      "model_name": "HBoxModel",
      "state": {
       "_dom_classes": [],
       "_model_module": "@jupyter-widgets/controls",
       "_model_module_version": "1.5.0",
       "_model_name": "HBoxModel",
       "_view_count": null,
       "_view_module": "@jupyter-widgets/controls",
       "_view_module_version": "1.5.0",
       "_view_name": "HBoxView",
       "box_style": "",
       "children": [
        "IPY_MODEL_33526c475b9b41e3a3ab49837bcb9999",
        "IPY_MODEL_02c9b80e0e434f59b94dc7a827e40aba",
        "IPY_MODEL_033160fe23e54dd6a5a7c1d3f62a391c"
       ],
       "layout": "IPY_MODEL_9d20f92e6caa4d5c9f7aaa705458b968"
      }
     },
     "2d200081285f4585b9bcc93ae973576a": {
      "model_module": "@jupyter-widgets/base",
      "model_module_version": "1.2.0",
      "model_name": "LayoutModel",
      "state": {
       "_model_module": "@jupyter-widgets/base",
       "_model_module_version": "1.2.0",
       "_model_name": "LayoutModel",
       "_view_count": null,
       "_view_module": "@jupyter-widgets/base",
       "_view_module_version": "1.2.0",
       "_view_name": "LayoutView",
       "align_content": null,
       "align_items": null,
       "align_self": null,
       "border": null,
       "bottom": null,
       "display": null,
       "flex": null,
       "flex_flow": null,
       "grid_area": null,
       "grid_auto_columns": null,
       "grid_auto_flow": null,
       "grid_auto_rows": null,
       "grid_column": null,
       "grid_gap": null,
       "grid_row": null,
       "grid_template_areas": null,
       "grid_template_columns": null,
       "grid_template_rows": null,
       "height": null,
       "justify_content": null,
       "justify_items": null,
       "left": null,
       "margin": null,
       "max_height": null,
       "max_width": null,
       "min_height": null,
       "min_width": null,
       "object_fit": null,
       "object_position": null,
       "order": null,
       "overflow": null,
       "overflow_x": null,
       "overflow_y": null,
       "padding": null,
       "right": null,
       "top": null,
       "visibility": null,
       "width": null
      }
     },
     "33526c475b9b41e3a3ab49837bcb9999": {
      "model_module": "@jupyter-widgets/controls",
      "model_module_version": "1.5.0",
      "model_name": "HTMLModel",
      "state": {
       "_dom_classes": [],
       "_model_module": "@jupyter-widgets/controls",
       "_model_module_version": "1.5.0",
       "_model_name": "HTMLModel",
       "_view_count": null,
       "_view_module": "@jupyter-widgets/controls",
       "_view_module_version": "1.5.0",
       "_view_name": "HTMLView",
       "description": "",
       "description_tooltip": null,
       "layout": "IPY_MODEL_2d200081285f4585b9bcc93ae973576a",
       "placeholder": "​",
       "style": "IPY_MODEL_1598cd5df7554b48887992ca8bbdebfd",
       "value": "100%"
      }
     },
     "3c33448ab502497e81871e7050e1f739": {
      "model_module": "@jupyter-widgets/controls",
      "model_module_version": "1.5.0",
      "model_name": "ProgressStyleModel",
      "state": {
       "_model_module": "@jupyter-widgets/controls",
       "_model_module_version": "1.5.0",
       "_model_name": "ProgressStyleModel",
       "_view_count": null,
       "_view_module": "@jupyter-widgets/base",
       "_view_module_version": "1.2.0",
       "_view_name": "StyleView",
       "bar_color": null,
       "description_width": ""
      }
     },
     "891f71996b214efea7cec8e5676f1295": {
      "model_module": "@jupyter-widgets/base",
      "model_module_version": "1.2.0",
      "model_name": "LayoutModel",
      "state": {
       "_model_module": "@jupyter-widgets/base",
       "_model_module_version": "1.2.0",
       "_model_name": "LayoutModel",
       "_view_count": null,
       "_view_module": "@jupyter-widgets/base",
       "_view_module_version": "1.2.0",
       "_view_name": "LayoutView",
       "align_content": null,
       "align_items": null,
       "align_self": null,
       "border": null,
       "bottom": null,
       "display": null,
       "flex": null,
       "flex_flow": null,
       "grid_area": null,
       "grid_auto_columns": null,
       "grid_auto_flow": null,
       "grid_auto_rows": null,
       "grid_column": null,
       "grid_gap": null,
       "grid_row": null,
       "grid_template_areas": null,
       "grid_template_columns": null,
       "grid_template_rows": null,
       "height": null,
       "justify_content": null,
       "justify_items": null,
       "left": null,
       "margin": null,
       "max_height": null,
       "max_width": null,
       "min_height": null,
       "min_width": null,
       "object_fit": null,
       "object_position": null,
       "order": null,
       "overflow": null,
       "overflow_x": null,
       "overflow_y": null,
       "padding": null,
       "right": null,
       "top": null,
       "visibility": null,
       "width": null
      }
     },
     "9d20f92e6caa4d5c9f7aaa705458b968": {
      "model_module": "@jupyter-widgets/base",
      "model_module_version": "1.2.0",
      "model_name": "LayoutModel",
      "state": {
       "_model_module": "@jupyter-widgets/base",
       "_model_module_version": "1.2.0",
       "_model_name": "LayoutModel",
       "_view_count": null,
       "_view_module": "@jupyter-widgets/base",
       "_view_module_version": "1.2.0",
       "_view_name": "LayoutView",
       "align_content": null,
       "align_items": null,
       "align_self": null,
       "border": null,
       "bottom": null,
       "display": null,
       "flex": null,
       "flex_flow": null,
       "grid_area": null,
       "grid_auto_columns": null,
       "grid_auto_flow": null,
       "grid_auto_rows": null,
       "grid_column": null,
       "grid_gap": null,
       "grid_row": null,
       "grid_template_areas": null,
       "grid_template_columns": null,
       "grid_template_rows": null,
       "height": null,
       "justify_content": null,
       "justify_items": null,
       "left": null,
       "margin": null,
       "max_height": null,
       "max_width": null,
       "min_height": null,
       "min_width": null,
       "object_fit": null,
       "object_position": null,
       "order": null,
       "overflow": null,
       "overflow_x": null,
       "overflow_y": null,
       "padding": null,
       "right": null,
       "top": null,
       "visibility": null,
       "width": null
      }
     },
     "ecb1c45cbd1a4cdb8868f06f1d44376e": {
      "model_module": "@jupyter-widgets/controls",
      "model_module_version": "1.5.0",
      "model_name": "DescriptionStyleModel",
      "state": {
       "_model_module": "@jupyter-widgets/controls",
       "_model_module_version": "1.5.0",
       "_model_name": "DescriptionStyleModel",
       "_view_count": null,
       "_view_module": "@jupyter-widgets/base",
       "_view_module_version": "1.2.0",
       "_view_name": "StyleView",
       "description_width": ""
      }
     }
    },
    "version_major": 2,
    "version_minor": 0
   }
  }
 },
 "nbformat": 4,
 "nbformat_minor": 5
}