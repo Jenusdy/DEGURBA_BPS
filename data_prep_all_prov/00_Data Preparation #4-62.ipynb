{
 "cells": [
  {
   "cell_type": "code",
   "execution_count": 1,
   "id": "ffb5ba16",
   "metadata": {
    "execution": {
     "iopub.execute_input": "2022-09-06T15:12:27.795693Z",
     "iopub.status.busy": "2022-09-06T15:12:27.794982Z",
     "iopub.status.idle": "2022-09-06T15:12:27.802955Z",
     "shell.execute_reply": "2022-09-06T15:12:27.802301Z"
    },
    "papermill": {
     "duration": 0.014243,
     "end_time": "2022-09-06T15:12:27.804823",
     "exception": false,
     "start_time": "2022-09-06T15:12:27.790580",
     "status": "completed"
    },
    "tags": [
     "parameters"
    ]
   },
   "outputs": [],
   "source": [
    "kdprov = '76'"
   ]
  },
  {
   "cell_type": "code",
   "execution_count": 2,
   "id": "85703f0f",
   "metadata": {
    "execution": {
     "iopub.execute_input": "2022-09-06T15:12:27.813353Z",
     "iopub.status.busy": "2022-09-06T15:12:27.812992Z",
     "iopub.status.idle": "2022-09-06T15:12:27.817085Z",
     "shell.execute_reply": "2022-09-06T15:12:27.816265Z"
    },
    "papermill": {
     "duration": 0.009731,
     "end_time": "2022-09-06T15:12:27.818684",
     "exception": false,
     "start_time": "2022-09-06T15:12:27.808953",
     "status": "completed"
    },
    "tags": [
     "injected-parameters"
    ]
   },
   "outputs": [],
   "source": [
    "# Parameters\n",
    "kdprov = \"62\"\n"
   ]
  },
  {
   "cell_type": "code",
   "execution_count": 3,
   "id": "4e5d5de4",
   "metadata": {
    "execution": {
     "iopub.execute_input": "2022-09-06T15:12:27.824399Z",
     "iopub.status.busy": "2022-09-06T15:12:27.824156Z",
     "iopub.status.idle": "2022-09-06T15:12:29.060421Z",
     "shell.execute_reply": "2022-09-06T15:12:29.059604Z"
    },
    "papermill": {
     "duration": 1.242124,
     "end_time": "2022-09-06T15:12:29.062980",
     "exception": false,
     "start_time": "2022-09-06T15:12:27.820856",
     "status": "completed"
    },
    "tags": []
   },
   "outputs": [
    {
     "name": "stderr",
     "output_type": "stream",
     "text": [
      "/home/jupyter-peta_admin/.local/lib/python3.8/site-packages/geopandas/_compat.py:112: UserWarning: The Shapely GEOS version (3.10.2-CAPI-1.16.0) is incompatible with the GEOS version PyGEOS was compiled with (3.10.1-CAPI-1.16.0). Conversions between both will be slow.\n",
      "  warnings.warn(\n"
     ]
    }
   ],
   "source": [
    "import pandas as pd\n",
    "import numpy as np\n",
    "import math\n",
    "from matplotlib import pyplot as plt\n",
    "\n",
    "from dbfread import DBF\n",
    "from glob import glob\n",
    "from tqdm import tqdm\n",
    "import os \n",
    "\n",
    "import geopandas as gpd\n",
    "import rasterio\n",
    "import rasterio.features as features\n",
    "from rasterio.plot import show\n",
    "from shapely.geometry import Polygon\n",
    "\n",
    "from osgeo import ogr\n",
    "from osgeo import osr\n",
    "from osgeo import gdal\n",
    "\n",
    "import itertools\n",
    "import rasterio\n",
    "from shapely.geometry import box\n",
    "import geopandas as gpd\n",
    "from rasterio.enums import MergeAlg"
   ]
  },
  {
   "cell_type": "code",
   "execution_count": 4,
   "id": "04437906",
   "metadata": {
    "execution": {
     "iopub.execute_input": "2022-09-06T15:12:29.071965Z",
     "iopub.status.busy": "2022-09-06T15:12:29.071488Z",
     "iopub.status.idle": "2022-09-06T15:12:29.076599Z",
     "shell.execute_reply": "2022-09-06T15:12:29.075981Z"
    },
    "papermill": {
     "duration": 0.011071,
     "end_time": "2022-09-06T15:12:29.078252",
     "exception": false,
     "start_time": "2022-09-06T15:12:29.067181",
     "status": "completed"
    },
    "tags": []
   },
   "outputs": [],
   "source": [
    "from osgeo import gdal, ogr, osr"
   ]
  },
  {
   "cell_type": "code",
   "execution_count": 5,
   "id": "3af1816e",
   "metadata": {
    "execution": {
     "iopub.execute_input": "2022-09-06T15:12:29.084406Z",
     "iopub.status.busy": "2022-09-06T15:12:29.084159Z",
     "iopub.status.idle": "2022-09-06T15:12:31.373746Z",
     "shell.execute_reply": "2022-09-06T15:12:31.372984Z"
    },
    "papermill": {
     "duration": 2.295002,
     "end_time": "2022-09-06T15:12:31.375845",
     "exception": false,
     "start_time": "2022-09-06T15:12:29.080843",
     "status": "completed"
    },
    "tags": []
   },
   "outputs": [],
   "source": [
    "data_kab=gpd.read_file('data/input/Master_Data/kab_20201_byindo.gpkg').query('kdprov==@kdprov')"
   ]
  },
  {
   "cell_type": "code",
   "execution_count": 6,
   "id": "7d110dc2",
   "metadata": {
    "execution": {
     "iopub.execute_input": "2022-09-06T15:12:31.385056Z",
     "iopub.status.busy": "2022-09-06T15:12:31.384177Z",
     "iopub.status.idle": "2022-09-06T15:12:31.388291Z",
     "shell.execute_reply": "2022-09-06T15:12:31.387706Z"
    },
    "papermill": {
     "duration": 0.010124,
     "end_time": "2022-09-06T15:12:31.389973",
     "exception": false,
     "start_time": "2022-09-06T15:12:31.379849",
     "status": "completed"
    },
    "tags": []
   },
   "outputs": [],
   "source": [
    "from rasterio.mask import mask"
   ]
  },
  {
   "cell_type": "code",
   "execution_count": 7,
   "id": "f2b9709b",
   "metadata": {
    "execution": {
     "iopub.execute_input": "2022-09-06T15:12:31.397022Z",
     "iopub.status.busy": "2022-09-06T15:12:31.396285Z",
     "iopub.status.idle": "2022-09-06T15:12:33.987722Z",
     "shell.execute_reply": "2022-09-06T15:12:33.986584Z"
    },
    "papermill": {
     "duration": 2.597527,
     "end_time": "2022-09-06T15:12:33.990200",
     "exception": false,
     "start_time": "2022-09-06T15:12:31.392673",
     "status": "completed"
    },
    "tags": []
   },
   "outputs": [],
   "source": [
    "import json\n",
    "src  = rasterio.open('data/input/GHSL Data/2020/prov/2020_'+kdprov+'.tif')\n",
    "def getFeatures(gdf):\n",
    "    \"\"\"Function to parse features from GeoDataFrame in such a manner that rasterio wants them\"\"\"\n",
    "    return [json.loads(gdf.to_json())['features'][0]['geometry']]\n",
    "for i in data_kab.kdkab.unique():\n",
    "    df=data_kab.query('kdkab==@i').to_crs('ESRI:54009')\n",
    "    \n",
    "    coords = getFeatures(df)\n",
    "    clipped_array, clipped_transform = mask(dataset=src, shapes=coords, crop=True)\n",
    "\n",
    "    df = df.to_crs(src.crs)\n",
    "    out_meta = src.meta.copy()\n",
    "    out_meta.update({\"driver\": \"GTiff\",\n",
    "                 \"height\": clipped_array.shape[1],\n",
    "                 \"width\": clipped_array.shape[2],\n",
    "                 \"transform\": clipped_transform})\n",
    "    out_tif= 'data/input/GHSL Data/2020/prov/2020_'+kdprov+'_'+i+'.tif'\n",
    "    with rasterio.open(out_tif, \"w\", **out_meta) as dest:\n",
    "        dest.write(clipped_array)"
   ]
  },
  {
   "cell_type": "code",
   "execution_count": 8,
   "id": "0bcc9ed8",
   "metadata": {
    "execution": {
     "iopub.execute_input": "2022-09-06T15:12:33.999370Z",
     "iopub.status.busy": "2022-09-06T15:12:33.998684Z",
     "iopub.status.idle": "2022-09-06T15:12:34.006779Z",
     "shell.execute_reply": "2022-09-06T15:12:34.006091Z"
    },
    "papermill": {
     "duration": 0.014352,
     "end_time": "2022-09-06T15:12:34.008680",
     "exception": false,
     "start_time": "2022-09-06T15:12:33.994328",
     "status": "completed"
    },
    "tags": []
   },
   "outputs": [],
   "source": [
    "def ghsl_kab_convert(dt):\n",
    "    with rasterio.open(dt) as dataset:\n",
    "        data = dataset.read(1)\n",
    "\n",
    "        t = dataset.transform\n",
    "\n",
    "        move_x = t[0]\n",
    "        move_y = t[4]\n",
    "\n",
    "        height = dataset.height\n",
    "        width = dataset.width \n",
    "\n",
    "        polygons = []\n",
    "        indices = list(itertools.product(range(width), range(height)))\n",
    "        data_list = []\n",
    "    \n",
    "        for x,y in indices:\n",
    "            x_min, y_max = t * (x,y)\n",
    "            x_max = x_min + move_x\n",
    "            y_min = y_max + move_y\n",
    "            polygons.append(box(x_min, y_min, x_max, y_max))\n",
    "            data_list.append(data[y,x])\n",
    "    gdf = gpd.GeoDataFrame(data=data_list, geometry=polygons, columns=['value'])\n",
    "    kdkab=dt.split('_')[2].replace('.tif','')\n",
    "    gdf.query('(value>=0)and(value<=10000)').to_file(\"data/input/GHSL Data/2020/gpkg/ghs_built_\"+kdprov+kdkab+\"_nonzero.shp\")"
   ]
  },
  {
   "cell_type": "code",
   "execution_count": 9,
   "id": "658e96d1",
   "metadata": {
    "execution": {
     "iopub.execute_input": "2022-09-06T15:12:34.015347Z",
     "iopub.status.busy": "2022-09-06T15:12:34.015057Z",
     "iopub.status.idle": "2022-09-06T15:21:28.436921Z",
     "shell.execute_reply": "2022-09-06T15:21:28.436117Z"
    },
    "papermill": {
     "duration": 534.427287,
     "end_time": "2022-09-06T15:21:28.438711",
     "exception": false,
     "start_time": "2022-09-06T15:12:34.011424",
     "status": "completed"
    },
    "tags": []
   },
   "outputs": [
    {
     "data": {
      "application/vnd.jupyter.widget-view+json": {
       "model_id": "96dfc1769ca24ca6acfe87d8eb14fa62",
       "version_major": 2,
       "version_minor": 0
      },
      "text/plain": [
       "  0%|          | 0/14 [00:00<?, ?it/s]"
      ]
     },
     "metadata": {},
     "output_type": "display_data"
    },
    {
     "data": {
      "text/plain": [
       "[None,\n",
       " None,\n",
       " None,\n",
       " None,\n",
       " None,\n",
       " None,\n",
       " None,\n",
       " None,\n",
       " None,\n",
       " None,\n",
       " None,\n",
       " None,\n",
       " None,\n",
       " None]"
      ]
     },
     "execution_count": 9,
     "metadata": {},
     "output_type": "execute_result"
    }
   ],
   "source": [
    "import itertools\n",
    "import rasterio\n",
    "from shapely.geometry import box\n",
    "import geopandas as gpd\n",
    "from glob import glob as glob\n",
    "from tqdm.contrib.concurrent import process_map\n",
    "\n",
    "data_rasterio_kab=glob('data/input/GHSL Data/2020/prov/2020_'+kdprov+'_*.tif')\n",
    "process_map(ghsl_kab_convert,data_rasterio_kab)   "
   ]
  },
  {
   "cell_type": "code",
   "execution_count": 10,
   "id": "f0acd561",
   "metadata": {
    "execution": {
     "iopub.execute_input": "2022-09-06T15:21:28.447660Z",
     "iopub.status.busy": "2022-09-06T15:21:28.447365Z",
     "iopub.status.idle": "2022-09-06T15:21:45.014171Z",
     "shell.execute_reply": "2022-09-06T15:21:45.013403Z"
    },
    "papermill": {
     "duration": 16.5738,
     "end_time": "2022-09-06T15:21:45.016802",
     "exception": false,
     "start_time": "2022-09-06T15:21:28.443002",
     "status": "completed"
    },
    "tags": []
   },
   "outputs": [],
   "source": [
    "# import gpkg desa & filter\n",
    "\n",
    "vector = gpd.read_file(r\"data/input/Master_Data/DESA_20201_BYINDO.gpkg\").query('kdprov==@kdprov').to_crs(\"ESRI:54009\")\n",
    "raster = rasterio.open(r\"/vsigs/bps-gcp-bucket/Degree of Urbanisation/GHSL data/2020/prov/2020_\"+kdprov+\".tif\")\n",
    "geom = [shapes for shapes in vector.geometry]\n",
    "# vector['iddesa'] = vector.iddesa.astype(np.int32)\n",
    "vector['id'] = range(0,len(vector))"
   ]
  },
  {
   "cell_type": "code",
   "execution_count": 11,
   "id": "88c8092e",
   "metadata": {
    "execution": {
     "iopub.execute_input": "2022-09-06T15:21:45.026028Z",
     "iopub.status.busy": "2022-09-06T15:21:45.025735Z",
     "iopub.status.idle": "2022-09-06T15:21:45.094274Z",
     "shell.execute_reply": "2022-09-06T15:21:45.093432Z"
    },
    "papermill": {
     "duration": 0.075037,
     "end_time": "2022-09-06T15:21:45.096327",
     "exception": false,
     "start_time": "2022-09-06T15:21:45.021290",
     "status": "completed"
    },
    "tags": []
   },
   "outputs": [],
   "source": [
    "vector['geometry']=vector.geometry.buffer(0)"
   ]
  },
  {
   "cell_type": "code",
   "execution_count": 12,
   "id": "0f3b6d12",
   "metadata": {
    "execution": {
     "iopub.execute_input": "2022-09-06T15:21:45.103643Z",
     "iopub.status.busy": "2022-09-06T15:21:45.103370Z",
     "iopub.status.idle": "2022-09-06T15:21:48.550336Z",
     "shell.execute_reply": "2022-09-06T15:21:48.549582Z"
    },
    "papermill": {
     "duration": 3.453259,
     "end_time": "2022-09-06T15:21:48.552606",
     "exception": false,
     "start_time": "2022-09-06T15:21:45.099347",
     "status": "completed"
    },
    "tags": []
   },
   "outputs": [
    {
     "data": {
      "text/plain": [
       "<AxesSubplot:>"
      ]
     },
     "execution_count": 12,
     "metadata": {},
     "output_type": "execute_result"
    },
    {
     "data": {
      "image/png": "[encoded data removed]",
      "text/plain": [
       "<Figure size 720x720 with 1 Axes>"
      ]
     },
     "metadata": {
      "needs_background": "light"
     },
     "output_type": "display_data"
    }
   ],
   "source": [
    "# create tuples of geometry, value pairs, where value is the attribute value you want to burn\n",
    "geom_value = ((geom,value) for geom, value in zip(vector.geometry, vector['id']))\n",
    "# Rasterize vector using the shape and transform of the raster\n",
    "#rasterized = features.rasterize(geom_value,\n",
    "#                                out_shape = raster.shape,\n",
    "#                                fill = -5,\n",
    "#                                out = None,\n",
    "#                                transform = raster.transform,\n",
    "#                                all_touched = False,\n",
    "#                                default_value = 1,\n",
    "#                                dtype = np.int32)\n",
    "\n",
    "rasterized = features.rasterize(geom_value,\n",
    "                                out_shape = raster.shape,\n",
    "                                transform = raster.transform,\n",
    "                                all_touched = True,\n",
    "                                fill = -5,   # background value\n",
    "                                default_value = 1,\n",
    "                                dtype = np.float64)\n",
    "\n",
    "# Plot raster\n",
    "fig, ax = plt.subplots(1, figsize = (10, 10))\n",
    "show(rasterized, ax = ax)\n",
    "#plt.gca().invert_yaxis()"
   ]
  },
  {
   "cell_type": "code",
   "execution_count": 13,
   "id": "fd43450d",
   "metadata": {
    "execution": {
     "iopub.execute_input": "2022-09-06T15:21:48.564766Z",
     "iopub.status.busy": "2022-09-06T15:21:48.564028Z",
     "iopub.status.idle": "2022-09-06T15:21:51.764661Z",
     "shell.execute_reply": "2022-09-06T15:21:51.763892Z"
    },
    "papermill": {
     "duration": 3.208671,
     "end_time": "2022-09-06T15:21:51.767089",
     "exception": false,
     "start_time": "2022-09-06T15:21:48.558418",
     "status": "completed"
    },
    "tags": []
   },
   "outputs": [],
   "source": [
    "# rasterization polygon desa\n",
    "\n",
    "with rasterio.open(\n",
    "        \"data/temp/rasterized_vector.tif\", \"w\",\n",
    "        driver = \"GTiff\",\n",
    "        transform = raster.transform,\n",
    "        dtype = rasterio.float64,\n",
    "        count = 1,\n",
    "        width = raster.width,\n",
    "        height = raster.height) as dst:\n",
    "    dst.write(rasterized, indexes = 1)\n",
    "\n",
    "# polygonize polygon desa\n",
    "\n",
    "raster_src = gdal.Open(r'data/temp/rasterized_vector.tif')\n",
    "band = raster_src.GetRasterBand(1) \n",
    "\n",
    "drv = ogr.GetDriverByName('ESRI Shapefile')\n",
    "outfile = drv.CreateDataSource(r'data/temp/polygonizedRaster.shp') \n",
    "outlayer = outfile.CreateLayer('polygonized raster', srs = None )\n",
    "newField = ogr.FieldDefn('DN', ogr.OFTReal)\n",
    "outlayer.CreateField(newField)\n",
    "\n",
    "gdal.Polygonize(band, None, outlayer, 0, [])\n",
    "outfile = None\n",
    "\n",
    "raster = None\n",
    "raster_src = None\n",
    "\n",
    "desa = gpd.read_file(r'data/temp/polygonizedRaster.shp')\n",
    "desa = desa.merge(vector[['id','iddesa']], \n",
    "                                 left_on = \"DN\", right_on = \"id\", how=\"left\").dissolve(by=\"iddesa\").reset_index()\n",
    "desa.crs='ESRI:54009'\n",
    "desa.to_file(\"data/input/desa_rasterize_\"+kdprov+\".gpkg\", driver=\"GPKG\")"
   ]
  },
  {
   "cell_type": "code",
   "execution_count": 14,
   "id": "f7a14593",
   "metadata": {
    "execution": {
     "iopub.execute_input": "2022-09-06T15:21:51.779871Z",
     "iopub.status.busy": "2022-09-06T15:21:51.779099Z",
     "iopub.status.idle": "2022-09-06T15:21:52.754614Z",
     "shell.execute_reply": "2022-09-06T15:21:52.753909Z"
    },
    "papermill": {
     "duration": 0.983939,
     "end_time": "2022-09-06T15:21:52.756857",
     "exception": false,
     "start_time": "2022-09-06T15:21:51.772918",
     "status": "completed"
    },
    "tags": []
   },
   "outputs": [],
   "source": [
    "# import ruta\n",
    "\n",
    "data_ruta=pd.read_csv('data/input/Master_Data/pop_desa_rev.csv',sep=',')\n",
    "data_ruta.iddesa=data_ruta.iddesa.astype(str)\n",
    "#data_ruta['iddesa'] = [x[0:10] for x in data_ruta.KODE_SLS]\n",
    "data_ruta['idprov'] = [x[0:2] for x in data_ruta.iddesa]\n",
    "\n",
    "data_ruta = data_ruta.loc[data_ruta.idprov.isin([kdprov])]\n",
    "\n",
    "# join penduduk & polygon desa\n",
    "\n",
    "data_ruta_desa = pd.DataFrame(data_ruta.groupby(\"iddesa\").pop2020.sum()).reset_index()\n",
    "desa = desa.merge(data_ruta_desa, how=\"left\").fillna(0)\n",
    "desa.set_crs('ESRI:54009').to_file(\"data/output/0_raster_data_desa/desa_pend_rasterize_\"+kdprov+\".gpkg\", driver=\"GPKG\")"
   ]
  },
  {
   "cell_type": "code",
   "execution_count": 15,
   "id": "a0761d29",
   "metadata": {
    "execution": {
     "iopub.execute_input": "2022-09-06T15:21:52.769605Z",
     "iopub.status.busy": "2022-09-06T15:21:52.768073Z",
     "iopub.status.idle": "2022-09-06T15:21:52.777110Z",
     "shell.execute_reply": "2022-09-06T15:21:52.776615Z"
    },
    "papermill": {
     "duration": 0.016266,
     "end_time": "2022-09-06T15:21:52.778649",
     "exception": false,
     "start_time": "2022-09-06T15:21:52.762383",
     "status": "completed"
    },
    "scrolled": true,
    "tags": []
   },
   "outputs": [
    {
     "name": "stdout",
     "output_type": "stream",
     "text": [
      "Ada di Peta. tidak di Hasil SP : 1\n",
      "Ada di Hasil SP. tidak di Peta : 1\n"
     ]
    }
   ],
   "source": [
    "print(\"Ada di Peta. tidak di Hasil SP : \"+str(desa[~desa.iddesa.isin(data_ruta.iddesa)].shape[0]))\n",
    "print(\"Ada di Hasil SP. tidak di Peta : \"+str(data_ruta[~data_ruta.iddesa.isin(desa.iddesa)].shape[0]))"
   ]
  },
  {
   "cell_type": "code",
   "execution_count": 16,
   "id": "8173d01c",
   "metadata": {
    "execution": {
     "iopub.execute_input": "2022-09-06T15:21:52.788554Z",
     "iopub.status.busy": "2022-09-06T15:21:52.787991Z",
     "iopub.status.idle": "2022-09-06T15:21:52.797213Z",
     "shell.execute_reply": "2022-09-06T15:21:52.796707Z"
    },
    "papermill": {
     "duration": 0.016011,
     "end_time": "2022-09-06T15:21:52.798695",
     "exception": false,
     "start_time": "2022-09-06T15:21:52.782684",
     "status": "completed"
    },
    "tags": []
   },
   "outputs": [
    {
     "data": {
      "text/html": [
       "<div>\n",
       "<style scoped>\n",
       "    .dataframe tbody tr th:only-of-type {\n",
       "        vertical-align: middle;\n",
       "    }\n",
       "\n",
       "    .dataframe tbody tr th {\n",
       "        vertical-align: top;\n",
       "    }\n",
       "\n",
       "    .dataframe thead th {\n",
       "        text-align: right;\n",
       "    }\n",
       "</style>\n",
       "<table border=\"1\" class=\"dataframe\">\n",
       "  <thead>\n",
       "    <tr style=\"text-align: right;\">\n",
       "      <th></th>\n",
       "      <th>Unnamed: 0</th>\n",
       "      <th>iddesa</th>\n",
       "      <th>pop2020</th>\n",
       "      <th>idprov</th>\n",
       "    </tr>\n",
       "  </thead>\n",
       "  <tbody>\n",
       "    <tr>\n",
       "      <th>59693</th>\n",
       "      <td>59693</td>\n",
       "      <td>6272050006</td>\n",
       "      <td>743</td>\n",
       "      <td>62</td>\n",
       "    </tr>\n",
       "  </tbody>\n",
       "</table>\n",
       "</div>"
      ],
      "text/plain": [
       "       Unnamed: 0      iddesa  pop2020 idprov\n",
       "59693       59693  6272050006      743     62"
      ]
     },
     "execution_count": 16,
     "metadata": {},
     "output_type": "execute_result"
    }
   ],
   "source": [
    "data_ruta[~data_ruta.iddesa.isin(desa.iddesa)]"
   ]
  }
 ],
 "metadata": {
  "celltoolbar": "Tags",
  "kernelspec": {
   "display_name": "Python 3 (ipykernel)",
   "language": "python",
   "name": "python3"
  },
  "language_info": {
   "codemirror_mode": {
    "name": "ipython",
    "version": 3
   },
   "file_extension": ".py",
   "mimetype": "text/x-python",
   "name": "python",
   "nbconvert_exporter": "python",
   "pygments_lexer": "ipython3",
   "version": "3.8.12"
  },
  "papermill": {
   "default_parameters": {},
   "duration": 566.489384,
   "end_time": "2022-09-06T15:21:53.323771",
   "environment_variables": {},
   "exception": null,
   "input_path": "00_Data Preparation #4 Rasterize Village Map.ipynb",
   "output_path": "00_Data Preparation #4-62.ipynb",
   "parameters": {
    "kdprov": "62"
   },
   "start_time": "2022-09-06T15:12:26.834387",
   "version": "2.3.4"
  },
  "widgets": {
   "application/vnd.jupyter.widget-state+json": {
    "state": {
     "23ce3e9d8efd4d0fa93ddc301e35c371": {
      "model_module": "@jupyter-widgets/base",
      "model_module_version": "1.2.0",
      "model_name": "LayoutModel",
      "state": {
       "_model_module": "@jupyter-widgets/base",
       "_model_module_version": "1.2.0",
       "_model_name": "LayoutModel",
       "_view_count": null,
       "_view_module": "@jupyter-widgets/base",
       "_view_module_version": "1.2.0",
       "_view_name": "LayoutView",
       "align_content": null,
       "align_items": null,
       "align_self": null,
       "border": null,
       "bottom": null,
       "display": null,
       "flex": null,
       "flex_flow": null,
       "grid_area": null,
       "grid_auto_columns": null,
       "grid_auto_flow": null,
       "grid_auto_rows": null,
       "grid_column": null,
       "grid_gap": null,
       "grid_row": null,
       "grid_template_areas": null,
       "grid_template_columns": null,
       "grid_template_rows": null,
       "height": null,
       "justify_content": null,
       "justify_items": null,
       "left": null,
       "margin": null,
       "max_height": null,
       "max_width": null,
       "min_height": null,
       "min_width": null,
       "object_fit": null,
       "object_position": null,
       "order": null,
       "overflow": null,
       "overflow_x": null,
       "overflow_y": null,
       "padding": null,
       "right": null,
       "top": null,
       "visibility": null,
       "width": null
      }
     },
     "4017bc31ad704a06860932d25a3850de": {
      "model_module": "@jupyter-widgets/base",
      "model_module_version": "1.2.0",
      "model_name": "LayoutModel",
      "state": {
       "_model_module": "@jupyter-widgets/base",
       "_model_module_version": "1.2.0",
       "_model_name": "LayoutModel",
       "_view_count": null,
       "_view_module": "@jupyter-widgets/base",
       "_view_module_version": "1.2.0",
       "_view_name": "LayoutView",
       "align_content": null,
       "align_items": null,
       "align_self": null,
       "border": null,
       "bottom": null,
       "display": null,
       "flex": null,
       "flex_flow": null,
       "grid_area": null,
       "grid_auto_columns": null,
       "grid_auto_flow": null,
       "grid_auto_rows": null,
       "grid_column": null,
       "grid_gap": null,
       "grid_row": null,
       "grid_template_areas": null,
       "grid_template_columns": null,
       "grid_template_rows": null,
       "height": null,
       "justify_content": null,
       "justify_items": null,
       "left": null,
       "margin": null,
       "max_height": null,
       "max_width": null,
       "min_height": null,
       "min_width": null,
       "object_fit": null,
       "object_position": null,
       "order": null,
       "overflow": null,
       "overflow_x": null,
       "overflow_y": null,
       "padding": null,
       "right": null,
       "top": null,
       "visibility": null,
       "width": null
      }
     },
     "716691a46ff54b41bacefcc7c4efe78f": {
      "model_module": "@jupyter-widgets/controls",
      "model_module_version": "1.5.0",
      "model_name": "DescriptionStyleModel",
      "state": {
       "_model_module": "@jupyter-widgets/controls",
       "_model_module_version": "1.5.0",
       "_model_name": "DescriptionStyleModel",
       "_view_count": null,
       "_view_module": "@jupyter-widgets/base",
       "_view_module_version": "1.2.0",
       "_view_name": "StyleView",
       "description_width": ""
      }
     },
     "96dfc1769ca24ca6acfe87d8eb14fa62": {
      "model_module": "@jupyter-widgets/controls",
      "model_module_version": "1.5.0",
      "model_name": "HBoxModel",
      "state": {
       "_dom_classes": [],
       "_model_module": "@jupyter-widgets/controls",
       "_model_module_version": "1.5.0",
       "_model_name": "HBoxModel",
       "_view_count": null,
       "_view_module": "@jupyter-widgets/controls",
       "_view_module_version": "1.5.0",
       "_view_name": "HBoxView",
       "box_style": "",
       "children": [
        "IPY_MODEL_a6e706492877463bb92aa39088d717a1",
        "IPY_MODEL_b1ab6e8fb54b479eaeac3f946b12bcc7",
        "IPY_MODEL_cda1cb3306aa48b5a1af6d38ffaf25fc"
       ],
       "layout": "IPY_MODEL_c2afe99ef33744c2aa40e068d7f38182"
      }
     },
     "a38e3eb14e8f4df5b2f66d290433facc": {
      "model_module": "@jupyter-widgets/base",
      "model_module_version": "1.2.0",
      "model_name": "LayoutModel",
      "state": {
       "_model_module": "@jupyter-widgets/base",
       "_model_module_version": "1.2.0",
       "_model_name": "LayoutModel",
       "_view_count": null,
       "_view_module": "@jupyter-widgets/base",
       "_view_module_version": "1.2.0",
       "_view_name": "LayoutView",
       "align_content": null,
       "align_items": null,
       "align_self": null,
       "border": null,
       "bottom": null,
       "display": null,
       "flex": null,
       "flex_flow": null,
       "grid_area": null,
       "grid_auto_columns": null,
       "grid_auto_flow": null,
       "grid_auto_rows": null,
       "grid_column": null,
       "grid_gap": null,
       "grid_row": null,
       "grid_template_areas": null,
       "grid_template_columns": null,
       "grid_template_rows": null,
       "height": null,
       "justify_content": null,
       "justify_items": null,
       "left": null,
       "margin": null,
       "max_height": null,
       "max_width": null,
       "min_height": null,
       "min_width": null,
       "object_fit": null,
       "object_position": null,
       "order": null,
       "overflow": null,
       "overflow_x": null,
       "overflow_y": null,
       "padding": null,
       "right": null,
       "top": null,
       "visibility": null,
       "width": null
      }
     },
     "a6e706492877463bb92aa39088d717a1": {
      "model_module": "@jupyter-widgets/controls",
      "model_module_version": "1.5.0",
      "model_name": "HTMLModel",
      "state": {
       "_dom_classes": [],
       "_model_module": "@jupyter-widgets/controls",
       "_model_module_version": "1.5.0",
       "_model_name": "HTMLModel",
       "_view_count": null,
       "_view_module": "@jupyter-widgets/controls",
       "_view_module_version": "1.5.0",
       "_view_name": "HTMLView",
       "description": "",
       "description_tooltip": null,
       "layout": "IPY_MODEL_4017bc31ad704a06860932d25a3850de",
       "placeholder": "​",
       "style": "IPY_MODEL_716691a46ff54b41bacefcc7c4efe78f",
       "value": "100%"
      }
     },
     "b1ab6e8fb54b479eaeac3f946b12bcc7": {
      "model_module": "@jupyter-widgets/controls",
      "model_module_version": "1.5.0",
      "model_name": "FloatProgressModel",
      "state": {
       "_dom_classes": [],
       "_model_module": "@jupyter-widgets/controls",
       "_model_module_version": "1.5.0",
       "_model_name": "FloatProgressModel",
       "_view_count": null,
       "_view_module": "@jupyter-widgets/controls",
       "_view_module_version": "1.5.0",
       "_view_name": "ProgressView",
       "bar_style": "success",
       "description": "",
       "description_tooltip": null,
       "layout": "IPY_MODEL_a38e3eb14e8f4df5b2f66d290433facc",
       "max": 14.0,
       "min": 0.0,
       "orientation": "horizontal",
       "style": "IPY_MODEL_c97fad13c9384c54bbefb45e3ed17204",
       "value": 14.0
      }
     },
     "c2afe99ef33744c2aa40e068d7f38182": {
      "model_module": "@jupyter-widgets/base",
      "model_module_version": "1.2.0",
      "model_name": "LayoutModel",
      "state": {
       "_model_module": "@jupyter-widgets/base",
       "_model_module_version": "1.2.0",
       "_model_name": "LayoutModel",
       "_view_count": null,
       "_view_module": "@jupyter-widgets/base",
       "_view_module_version": "1.2.0",
       "_view_name": "LayoutView",
       "align_content": null,
       "align_items": null,
       "align_self": null,
       "border": null,
       "bottom": null,
       "display": null,
       "flex": null,
       "flex_flow": null,
       "grid_area": null,
       "grid_auto_columns": null,
       "grid_auto_flow": null,
       "grid_auto_rows": null,
       "grid_column": null,
       "grid_gap": null,
       "grid_row": null,
       "grid_template_areas": null,
       "grid_template_columns": null,
       "grid_template_rows": null,
       "height": null,
       "justify_content": null,
       "justify_items": null,
       "left": null,
       "margin": null,
       "max_height": null,
       "max_width": null,
       "min_height": null,
       "min_width": null,
       "object_fit": null,
       "object_position": null,
       "order": null,
       "overflow": null,
       "overflow_x": null,
       "overflow_y": null,
       "padding": null,
       "right": null,
       "top": null,
       "visibility": null,
       "width": null
      }
     },
     "c464ba41f3c44117b03b3d42dd8a150f": {
      "model_module": "@jupyter-widgets/controls",
      "model_module_version": "1.5.0",
      "model_name": "DescriptionStyleModel",
      "state": {
       "_model_module": "@jupyter-widgets/controls",
       "_model_module_version": "1.5.0",
       "_model_name": "DescriptionStyleModel",
       "_view_count": null,
       "_view_module": "@jupyter-widgets/base",
       "_view_module_version": "1.2.0",
       "_view_name": "StyleView",
       "description_width": ""
      }
     },
     "c97fad13c9384c54bbefb45e3ed17204": {
      "model_module": "@jupyter-widgets/controls",
      "model_module_version": "1.5.0",
      "model_name": "ProgressStyleModel",
      "state": {
       "_model_module": "@jupyter-widgets/controls",
       "_model_module_version": "1.5.0",
       "_model_name": "ProgressStyleModel",
       "_view_count": null,
       "_view_module": "@jupyter-widgets/base",
       "_view_module_version": "1.2.0",
       "_view_name": "StyleView",
       "bar_color": null,
       "description_width": ""
      }
     },
     "cda1cb3306aa48b5a1af6d38ffaf25fc": {
      "model_module": "@jupyter-widgets/controls",
      "model_module_version": "1.5.0",
      "model_name": "HTMLModel",
      "state": {
       "_dom_classes": [],
       "_model_module": "@jupyter-widgets/controls",
       "_model_module_version": "1.5.0",
       "_model_name": "HTMLModel",
       "_view_count": null,
       "_view_module": "@jupyter-widgets/controls",
       "_view_module_version": "1.5.0",
       "_view_name": "HTMLView",
       "description": "",
       "description_tooltip": null,
       "layout": "IPY_MODEL_23ce3e9d8efd4d0fa93ddc301e35c371",
       "placeholder": "​",
       "style": "IPY_MODEL_c464ba41f3c44117b03b3d42dd8a150f",
       "value": " 14/14 [08:53&lt;00:00, 101.71s/it]"
      }
     }
    },
    "version_major": 2,
    "version_minor": 0
   }
  }
 },
 "nbformat": 4,
 "nbformat_minor": 5
}