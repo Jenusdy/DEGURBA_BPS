{
 "cells": [
  {
   "cell_type": "code",
   "execution_count": 1,
   "id": "f0432d92",
   "metadata": {
    "execution": {
     "iopub.execute_input": "2022-09-06T22:26:06.379738Z",
     "iopub.status.busy": "2022-09-06T22:26:06.379128Z",
     "iopub.status.idle": "2022-09-06T22:26:06.386293Z",
     "shell.execute_reply": "2022-09-06T22:26:06.385666Z"
    },
    "papermill": {
     "duration": 0.012306,
     "end_time": "2022-09-06T22:26:06.387881",
     "exception": false,
     "start_time": "2022-09-06T22:26:06.375575",
     "status": "completed"
    },
    "tags": [
     "parameters"
    ]
   },
   "outputs": [],
   "source": [
    "kdprov = '76'"
   ]
  },
  {
   "cell_type": "code",
   "execution_count": 2,
   "id": "0a46d802",
   "metadata": {
    "execution": {
     "iopub.execute_input": "2022-09-06T22:26:06.394028Z",
     "iopub.status.busy": "2022-09-06T22:26:06.393817Z",
     "iopub.status.idle": "2022-09-06T22:26:06.396272Z",
     "shell.execute_reply": "2022-09-06T22:26:06.395796Z"
    },
    "papermill": {
     "duration": 0.006298,
     "end_time": "2022-09-06T22:26:06.397673",
     "exception": false,
     "start_time": "2022-09-06T22:26:06.391375",
     "status": "completed"
    },
    "tags": [
     "injected-parameters"
    ]
   },
   "outputs": [],
   "source": [
    "# Parameters\n",
    "kdprov = \"21\"\n"
   ]
  },
  {
   "cell_type": "code",
   "execution_count": 3,
   "id": "f6300764",
   "metadata": {
    "execution": {
     "iopub.execute_input": "2022-09-06T22:26:06.402210Z",
     "iopub.status.busy": "2022-09-06T22:26:06.402005Z",
     "iopub.status.idle": "2022-09-06T22:26:06.837103Z",
     "shell.execute_reply": "2022-09-06T22:26:06.836186Z"
    },
    "papermill": {
     "duration": 0.43973,
     "end_time": "2022-09-06T22:26:06.839254",
     "exception": false,
     "start_time": "2022-09-06T22:26:06.399524",
     "status": "completed"
    },
    "tags": []
   },
   "outputs": [
    {
     "name": "stderr",
     "output_type": "stream",
     "text": [
      "/home/jupyter-peta_admin/.local/lib/python3.8/site-packages/geopandas/_compat.py:112: UserWarning: The Shapely GEOS version (3.10.2-CAPI-1.16.0) is incompatible with the GEOS version PyGEOS was compiled with (3.10.1-CAPI-1.16.0). Conversions between both will be slow.\n",
      "  warnings.warn(\n"
     ]
    }
   ],
   "source": [
    "import pandas as pd\n",
    "\n",
    "import geopandas as gpd\n",
    "from glob import glob"
   ]
  },
  {
   "cell_type": "code",
   "execution_count": 4,
   "id": "f8fc1325",
   "metadata": {
    "execution": {
     "iopub.execute_input": "2022-09-06T22:26:06.846287Z",
     "iopub.status.busy": "2022-09-06T22:26:06.845393Z",
     "iopub.status.idle": "2022-09-06T22:26:07.048947Z",
     "shell.execute_reply": "2022-09-06T22:26:07.048071Z"
    },
    "papermill": {
     "duration": 0.208928,
     "end_time": "2022-09-06T22:26:07.051208",
     "exception": false,
     "start_time": "2022-09-06T22:26:06.842280",
     "status": "completed"
    },
    "tags": []
   },
   "outputs": [],
   "source": [
    "# open data sp\n",
    "data_peta_w_ruta = gpd.read_file(\"data/output/0_raster_data_desa/desa_pend_rasterize_\"+kdprov+\".gpkg\").to_crs('ESRI:54009')#.area\n",
    "data_peta_w_ruta['idkab']=data_peta_w_ruta.iddesa.apply(lambda y: str(y)[:4])\n"
   ]
  },
  {
   "cell_type": "code",
   "execution_count": 5,
   "id": "75ba398f",
   "metadata": {
    "execution": {
     "iopub.execute_input": "2022-09-06T22:26:07.058183Z",
     "iopub.status.busy": "2022-09-06T22:26:07.057615Z",
     "iopub.status.idle": "2022-09-06T22:26:07.085406Z",
     "shell.execute_reply": "2022-09-06T22:26:07.084812Z"
    },
    "papermill": {
     "duration": 0.032123,
     "end_time": "2022-09-06T22:26:07.086883",
     "exception": false,
     "start_time": "2022-09-06T22:26:07.054760",
     "status": "completed"
    },
    "tags": []
   },
   "outputs": [
    {
     "data": {
      "text/html": [
       "<div>\n",
       "<style scoped>\n",
       "    .dataframe tbody tr th:only-of-type {\n",
       "        vertical-align: middle;\n",
       "    }\n",
       "\n",
       "    .dataframe tbody tr th {\n",
       "        vertical-align: top;\n",
       "    }\n",
       "\n",
       "    .dataframe thead th {\n",
       "        text-align: right;\n",
       "    }\n",
       "</style>\n",
       "<table border=\"1\" class=\"dataframe\">\n",
       "  <thead>\n",
       "    <tr style=\"text-align: right;\">\n",
       "      <th></th>\n",
       "      <th>iddesa</th>\n",
       "      <th>DN</th>\n",
       "      <th>id</th>\n",
       "      <th>pop2020</th>\n",
       "      <th>geometry</th>\n",
       "      <th>idkab</th>\n",
       "    </tr>\n",
       "  </thead>\n",
       "  <tbody>\n",
       "    <tr>\n",
       "      <th>0</th>\n",
       "      <td>2101010003</td>\n",
       "      <td>0.0</td>\n",
       "      <td>0.0</td>\n",
       "      <td>1226.0</td>\n",
       "      <td>POLYGON ((10388800.000 101700.000, 10389000.00...</td>\n",
       "      <td>2101</td>\n",
       "    </tr>\n",
       "    <tr>\n",
       "      <th>1</th>\n",
       "      <td>2101010004</td>\n",
       "      <td>1.0</td>\n",
       "      <td>1.0</td>\n",
       "      <td>1560.0</td>\n",
       "      <td>MULTIPOLYGON (((10390700.000 101100.000, 10390...</td>\n",
       "      <td>2101</td>\n",
       "    </tr>\n",
       "    <tr>\n",
       "      <th>2</th>\n",
       "      <td>2101010005</td>\n",
       "      <td>2.0</td>\n",
       "      <td>2.0</td>\n",
       "      <td>1163.0</td>\n",
       "      <td>MULTIPOLYGON (((10399500.000 97200.000, 103996...</td>\n",
       "      <td>2101</td>\n",
       "    </tr>\n",
       "    <tr>\n",
       "      <th>3</th>\n",
       "      <td>2101010006</td>\n",
       "      <td>3.0</td>\n",
       "      <td>3.0</td>\n",
       "      <td>1344.0</td>\n",
       "      <td>MULTIPOLYGON (((10401900.000 108600.000, 10401...</td>\n",
       "      <td>2101</td>\n",
       "    </tr>\n",
       "  </tbody>\n",
       "</table>\n",
       "</div>"
      ],
      "text/plain": [
       "       iddesa   DN   id  pop2020  \\\n",
       "0  2101010003  0.0  0.0   1226.0   \n",
       "1  2101010004  1.0  1.0   1560.0   \n",
       "2  2101010005  2.0  2.0   1163.0   \n",
       "3  2101010006  3.0  3.0   1344.0   \n",
       "\n",
       "                                            geometry idkab  \n",
       "0  POLYGON ((10388800.000 101700.000, 10389000.00...  2101  \n",
       "1  MULTIPOLYGON (((10390700.000 101100.000, 10390...  2101  \n",
       "2  MULTIPOLYGON (((10399500.000 97200.000, 103996...  2101  \n",
       "3  MULTIPOLYGON (((10401900.000 108600.000, 10401...  2101  "
      ]
     },
     "execution_count": 5,
     "metadata": {},
     "output_type": "execute_result"
    }
   ],
   "source": [
    "data_peta_w_ruta.head(4)"
   ]
  },
  {
   "cell_type": "code",
   "execution_count": 6,
   "id": "28abada6",
   "metadata": {
    "execution": {
     "iopub.execute_input": "2022-09-06T22:26:07.092026Z",
     "iopub.status.busy": "2022-09-06T22:26:07.091526Z",
     "iopub.status.idle": "2022-09-06T22:26:07.097819Z",
     "shell.execute_reply": "2022-09-06T22:26:07.097277Z"
    },
    "papermill": {
     "duration": 0.010723,
     "end_time": "2022-09-06T22:26:07.099396",
     "exception": false,
     "start_time": "2022-09-06T22:26:07.088673",
     "status": "completed"
    },
    "tags": []
   },
   "outputs": [],
   "source": [
    "data_builtup_kabkota=glob(\"data/input/GHSL Data/2020/gpkg/ghs_built_\"+kdprov+\"*_nonzero.shp\")"
   ]
  },
  {
   "cell_type": "code",
   "execution_count": 7,
   "id": "72f5142f",
   "metadata": {
    "execution": {
     "iopub.execute_input": "2022-09-06T22:26:07.105505Z",
     "iopub.status.busy": "2022-09-06T22:26:07.104906Z",
     "iopub.status.idle": "2022-09-06T22:26:07.110462Z",
     "shell.execute_reply": "2022-09-06T22:26:07.109776Z"
    },
    "papermill": {
     "duration": 0.010748,
     "end_time": "2022-09-06T22:26:07.111916",
     "exception": false,
     "start_time": "2022-09-06T22:26:07.101168",
     "status": "completed"
    },
    "tags": []
   },
   "outputs": [
    {
     "data": {
      "text/plain": [
       "['data/input/GHSL Data/2020/gpkg/ghs_built_2103_nonzero.shp',\n",
       " 'data/input/GHSL Data/2020/gpkg/ghs_built_2172_nonzero.shp',\n",
       " 'data/input/GHSL Data/2020/gpkg/ghs_built_2102_nonzero.shp',\n",
       " 'data/input/GHSL Data/2020/gpkg/ghs_built_2105_nonzero.shp',\n",
       " 'data/input/GHSL Data/2020/gpkg/ghs_built_2104_nonzero.shp',\n",
       " 'data/input/GHSL Data/2020/gpkg/ghs_built_2171_nonzero.shp',\n",
       " 'data/input/GHSL Data/2020/gpkg/ghs_built_2101_nonzero.shp']"
      ]
     },
     "execution_count": 7,
     "metadata": {},
     "output_type": "execute_result"
    }
   ],
   "source": [
    "data_builtup_kabkota"
   ]
  },
  {
   "cell_type": "code",
   "execution_count": 8,
   "id": "25e1506d",
   "metadata": {
    "execution": {
     "iopub.execute_input": "2022-09-06T22:26:07.116573Z",
     "iopub.status.busy": "2022-09-06T22:26:07.116355Z",
     "iopub.status.idle": "2022-09-06T22:26:07.123377Z",
     "shell.execute_reply": "2022-09-06T22:26:07.122748Z"
    },
    "papermill": {
     "duration": 0.011401,
     "end_time": "2022-09-06T22:26:07.125118",
     "exception": false,
     "start_time": "2022-09-06T22:26:07.113717",
     "status": "completed"
    },
    "tags": []
   },
   "outputs": [],
   "source": [
    "import os.path\n",
    "def pop_dens(dt):\n",
    "    global data_peta_w_ruta\n",
    "    kdkab=dt.split('/')[5].replace('ghs_built_','').replace('_nonzero.shp','')\n",
    "    if ((os.path.exists(\"data/output/1_population_density/grid_pop_\"+kdkab+\"_100m.gpkg\")==False) \n",
    "        or (os.path.exists(\"data/output/1_population_density/grid_pop_\"+kdkab+\"_100m.gpkg-journal\")==True)):\n",
    "        data_builtup=gpd.read_file(dt)#.to_crs(('ESRI:54009'))\n",
    "        data_builtup['DN']=data_builtup.value\n",
    "        data_peta_w_ruta.pop2020.sum()\n",
    "        data_builtup['centroid'] = data_builtup.centroid\n",
    "        data_builtup['polygon'] = data_builtup['geometry']\n",
    "        data_builtup.crs='ESRI:54009'\n",
    "        data_peta_w_ruta.crs='ESRI:54009'\n",
    "        data_builtup = data_builtup.loc[:,['DN','centroid','polygon']].set_geometry(\"centroid\").sjoin(data_peta_w_ruta)\n",
    "        data_builtup['TOTAL_PEND']=data_builtup['pop2020']\n",
    "    # data_builtup = data_builtup.loc[:,['DN','geometry']].sjoin(data_peta_w_ruta)\n",
    "        data_builtup['p_area'] = data_builtup['DN_left'] / data_builtup.groupby('iddesa').DN_left.transform('sum')\n",
    "        data_builtup['j_pend'] = list(data_builtup['p_area']*data_builtup['TOTAL_PEND'])\n",
    "    # data_builtup[['DN_left', 'geometry', 'iddesa','TOTAL_PEND', 'p_area','j_pend']].to_file(\"data/input/grid_pop_\"+kdprov+\"_100m.gpkg\", driver=\"GPKG\")\n",
    "        data_builtup[['DN_left', 'centroid', 'iddesa','TOTAL_PEND', 'p_area','j_pend']].to_file(\"data/temp/grid_pop_\"+kdkab+\"_100m.gpkg\", driver=\"GPKG\")\n",
    "        data_=data_builtup[['DN_left', 'polygon', 'iddesa','TOTAL_PEND', 'p_area','j_pend']].set_geometry(\"polygon\")\n",
    "        data_.crs='ESRI:54009'\n",
    "        data_.to_file(\"data/output/1_population_density/grid_pop_\"+kdkab+\"_100m.gpkg\", driver=\"GPKG\")\n",
    "    else:\n",
    "        print('SKIP for: ',kdkab)"
   ]
  },
  {
   "cell_type": "code",
   "execution_count": 9,
   "id": "8aa13266",
   "metadata": {
    "execution": {
     "iopub.execute_input": "2022-09-06T22:26:07.129985Z",
     "iopub.status.busy": "2022-09-06T22:26:07.129755Z",
     "iopub.status.idle": "2022-09-06T22:27:39.193492Z",
     "shell.execute_reply": "2022-09-06T22:27:39.192670Z"
    },
    "papermill": {
     "duration": 92.068482,
     "end_time": "2022-09-06T22:27:39.195458",
     "exception": false,
     "start_time": "2022-09-06T22:26:07.126976",
     "status": "completed"
    },
    "tags": []
   },
   "outputs": [
    {
     "data": {
      "application/vnd.jupyter.widget-view+json": {
       "model_id": "fe79e70fa3254c1da81ffb6042749360",
       "version_major": 2,
       "version_minor": 0
      },
      "text/plain": [
       "  0%|          | 0/7 [00:00<?, ?it/s]"
      ]
     },
     "metadata": {},
     "output_type": "display_data"
    },
    {
     "name": "stderr",
     "output_type": "stream",
     "text": [
      "/home/jupyter-peta_admin/.local/lib/python3.8/site-packages/geopandas/geodataframe.py:2072: UserWarning: CRS mismatch between the CRS of left geometries and the CRS of right geometries.\n",
      "Use `to_crs()` to reproject one of the input geometries to match the CRS of the other.\n",
      "\n",
      "Left CRS: None\n",
      "Right CRS: ESRI:54009\n",
      "\n",
      "  return geopandas.sjoin(left_df=self, right_df=df, *args, **kwargs)\n"
     ]
    },
    {
     "name": "stderr",
     "output_type": "stream",
     "text": [
      "/home/jupyter-peta_admin/.local/lib/python3.8/site-packages/geopandas/geodataframe.py:2072: UserWarning: CRS mismatch between the CRS of left geometries and the CRS of right geometries.\n",
      "Use `to_crs()` to reproject one of the input geometries to match the CRS of the other.\n",
      "\n",
      "Left CRS: None\n",
      "Right CRS: ESRI:54009\n",
      "\n",
      "  return geopandas.sjoin(left_df=self, right_df=df, *args, **kwargs)\n"
     ]
    },
    {
     "name": "stderr",
     "output_type": "stream",
     "text": [
      "/home/jupyter-peta_admin/.local/lib/python3.8/site-packages/geopandas/geodataframe.py:2072: UserWarning: CRS mismatch between the CRS of left geometries and the CRS of right geometries.\n",
      "Use `to_crs()` to reproject one of the input geometries to match the CRS of the other.\n",
      "\n",
      "Left CRS: None\n",
      "Right CRS: ESRI:54009\n",
      "\n",
      "  return geopandas.sjoin(left_df=self, right_df=df, *args, **kwargs)\n"
     ]
    },
    {
     "name": "stderr",
     "output_type": "stream",
     "text": [
      "/home/jupyter-peta_admin/.local/lib/python3.8/site-packages/geopandas/geodataframe.py:2072: UserWarning: CRS mismatch between the CRS of left geometries and the CRS of right geometries.\n",
      "Use `to_crs()` to reproject one of the input geometries to match the CRS of the other.\n",
      "\n",
      "Left CRS: None\n",
      "Right CRS: ESRI:54009\n",
      "\n",
      "  return geopandas.sjoin(left_df=self, right_df=df, *args, **kwargs)\n"
     ]
    },
    {
     "name": "stderr",
     "output_type": "stream",
     "text": [
      "/home/jupyter-peta_admin/.local/lib/python3.8/site-packages/geopandas/geodataframe.py:2072: UserWarning: CRS mismatch between the CRS of left geometries and the CRS of right geometries.\n",
      "Use `to_crs()` to reproject one of the input geometries to match the CRS of the other.\n",
      "\n",
      "Left CRS: None\n",
      "Right CRS: ESRI:54009\n",
      "\n",
      "  return geopandas.sjoin(left_df=self, right_df=df, *args, **kwargs)\n"
     ]
    },
    {
     "name": "stderr",
     "output_type": "stream",
     "text": [
      "/home/jupyter-peta_admin/.local/lib/python3.8/site-packages/geopandas/geodataframe.py:2072: UserWarning: CRS mismatch between the CRS of left geometries and the CRS of right geometries.\n",
      "Use `to_crs()` to reproject one of the input geometries to match the CRS of the other.\n",
      "\n",
      "Left CRS: None\n",
      "Right CRS: ESRI:54009\n",
      "\n",
      "  return geopandas.sjoin(left_df=self, right_df=df, *args, **kwargs)\n"
     ]
    },
    {
     "name": "stderr",
     "output_type": "stream",
     "text": [
      "/home/jupyter-peta_admin/.local/lib/python3.8/site-packages/geopandas/geodataframe.py:2072: UserWarning: CRS mismatch between the CRS of left geometries and the CRS of right geometries.\n",
      "Use `to_crs()` to reproject one of the input geometries to match the CRS of the other.\n",
      "\n",
      "Left CRS: None\n",
      "Right CRS: ESRI:54009\n",
      "\n",
      "  return geopandas.sjoin(left_df=self, right_df=df, *args, **kwargs)\n"
     ]
    },
    {
     "data": {
      "text/plain": [
       "[None, None, None, None, None, None, None]"
      ]
     },
     "execution_count": 9,
     "metadata": {},
     "output_type": "execute_result"
    }
   ],
   "source": [
    "from tqdm.contrib.concurrent import process_map\n",
    "process_map(pop_dens,data_builtup_kabkota)   "
   ]
  }
 ],
 "metadata": {
  "celltoolbar": "Tags",
  "kernelspec": {
   "display_name": "Python 3 (ipykernel)",
   "language": "python",
   "name": "python3"
  },
  "language_info": {
   "codemirror_mode": {
    "name": "ipython",
    "version": 3
   },
   "file_extension": ".py",
   "mimetype": "text/x-python",
   "name": "python",
   "nbconvert_exporter": "python",
   "pygments_lexer": "ipython3",
   "version": "3.8.12"
  },
  "papermill": {
   "default_parameters": {},
   "duration": 94.277195,
   "end_time": "2022-09-06T22:27:39.518995",
   "environment_variables": {},
   "exception": null,
   "input_path": "01_Population_Density #1 Preparing for 100m By KABKOTA.ipynb",
   "output_path": "01_Population Density #1-21.ipynb",
   "parameters": {
    "kdprov": "21"
   },
   "start_time": "2022-09-06T22:26:05.241800",
   "version": "2.3.4"
  },
  "widgets": {
   "application/vnd.jupyter.widget-state+json": {
    "state": {
     "0fd674f313254fa489098a9684c7db74": {
      "model_module": "@jupyter-widgets/controls",
      "model_module_version": "1.5.0",
      "model_name": "FloatProgressModel",
      "state": {
       "_dom_classes": [],
       "_model_module": "@jupyter-widgets/controls",
       "_model_module_version": "1.5.0",
       "_model_name": "FloatProgressModel",
       "_view_count": null,
       "_view_module": "@jupyter-widgets/controls",
       "_view_module_version": "1.5.0",
       "_view_name": "ProgressView",
       "bar_style": "success",
       "description": "",
       "description_tooltip": null,
       "layout": "IPY_MODEL_cd4dcb6ba99e410bbc9b75eda347c031",
       "max": 7.0,
       "min": 0.0,
       "orientation": "horizontal",
       "style": "IPY_MODEL_608361136119467bb6aa0071967cae77",
       "value": 7.0
      }
     },
     "57557e2951694989b723d8b429cd5f4b": {
      "model_module": "@jupyter-widgets/controls",
      "model_module_version": "1.5.0",
      "model_name": "HTMLModel",
      "state": {
       "_dom_classes": [],
       "_model_module": "@jupyter-widgets/controls",
       "_model_module_version": "1.5.0",
       "_model_name": "HTMLModel",
       "_view_count": null,
       "_view_module": "@jupyter-widgets/controls",
       "_view_module_version": "1.5.0",
       "_view_name": "HTMLView",
       "description": "",
       "description_tooltip": null,
       "layout": "IPY_MODEL_c4bed50288574112bf5fd9ded9884cae",
       "placeholder": "​",
       "style": "IPY_MODEL_da2a428e062e4d18be7ac89e2695bc22",
       "value": "100%"
      }
     },
     "608361136119467bb6aa0071967cae77": {
      "model_module": "@jupyter-widgets/controls",
      "model_module_version": "1.5.0",
      "model_name": "ProgressStyleModel",
      "state": {
       "_model_module": "@jupyter-widgets/controls",
       "_model_module_version": "1.5.0",
       "_model_name": "ProgressStyleModel",
       "_view_count": null,
       "_view_module": "@jupyter-widgets/base",
       "_view_module_version": "1.2.0",
       "_view_name": "StyleView",
       "bar_color": null,
       "description_width": ""
      }
     },
     "aceaf1ef90d04246b9c4cee51f2bf9e5": {
      "model_module": "@jupyter-widgets/controls",
      "model_module_version": "1.5.0",
      "model_name": "DescriptionStyleModel",
      "state": {
       "_model_module": "@jupyter-widgets/controls",
       "_model_module_version": "1.5.0",
       "_model_name": "DescriptionStyleModel",
       "_view_count": null,
       "_view_module": "@jupyter-widgets/base",
       "_view_module_version": "1.2.0",
       "_view_name": "StyleView",
       "description_width": ""
      }
     },
     "c4bed50288574112bf5fd9ded9884cae": {
      "model_module": "@jupyter-widgets/base",
      "model_module_version": "1.2.0",
      "model_name": "LayoutModel",
      "state": {
       "_model_module": "@jupyter-widgets/base",
       "_model_module_version": "1.2.0",
       "_model_name": "LayoutModel",
       "_view_count": null,
       "_view_module": "@jupyter-widgets/base",
       "_view_module_version": "1.2.0",
       "_view_name": "LayoutView",
       "align_content": null,
       "align_items": null,
       "align_self": null,
       "border": null,
       "bottom": null,
       "display": null,
       "flex": null,
       "flex_flow": null,
       "grid_area": null,
       "grid_auto_columns": null,
       "grid_auto_flow": null,
       "grid_auto_rows": null,
       "grid_column": null,
       "grid_gap": null,
       "grid_row": null,
       "grid_template_areas": null,
       "grid_template_columns": null,
       "grid_template_rows": null,
       "height": null,
       "justify_content": null,
       "justify_items": null,
       "left": null,
       "margin": null,
       "max_height": null,
       "max_width": null,
       "min_height": null,
       "min_width": null,
       "object_fit": null,
       "object_position": null,
       "order": null,
       "overflow": null,
       "overflow_x": null,
       "overflow_y": null,
       "padding": null,
       "right": null,
       "top": null,
       "visibility": null,
       "width": null
      }
     },
     "cd4dcb6ba99e410bbc9b75eda347c031": {
      "model_module": "@jupyter-widgets/base",
      "model_module_version": "1.2.0",
      "model_name": "LayoutModel",
      "state": {
       "_model_module": "@jupyter-widgets/base",
       "_model_module_version": "1.2.0",
       "_model_name": "LayoutModel",
       "_view_count": null,
       "_view_module": "@jupyter-widgets/base",
       "_view_module_version": "1.2.0",
       "_view_name": "LayoutView",
       "align_content": null,
       "align_items": null,
       "align_self": null,
       "border": null,
       "bottom": null,
       "display": null,
       "flex": null,
       "flex_flow": null,
       "grid_area": null,
       "grid_auto_columns": null,
       "grid_auto_flow": null,
       "grid_auto_rows": null,
       "grid_column": null,
       "grid_gap": null,
       "grid_row": null,
       "grid_template_areas": null,
       "grid_template_columns": null,
       "grid_template_rows": null,
       "height": null,
       "justify_content": null,
       "justify_items": null,
       "left": null,
       "margin": null,
       "max_height": null,
       "max_width": null,
       "min_height": null,
       "min_width": null,
       "object_fit": null,
       "object_position": null,
       "order": null,
       "overflow": null,
       "overflow_x": null,
       "overflow_y": null,
       "padding": null,
       "right": null,
       "top": null,
       "visibility": null,
       "width": null
      }
     },
     "da2a428e062e4d18be7ac89e2695bc22": {
      "model_module": "@jupyter-widgets/controls",
      "model_module_version": "1.5.0",
      "model_name": "DescriptionStyleModel",
      "state": {
       "_model_module": "@jupyter-widgets/controls",
       "_model_module_version": "1.5.0",
       "_model_name": "DescriptionStyleModel",
       "_view_count": null,
       "_view_module": "@jupyter-widgets/base",
       "_view_module_version": "1.2.0",
       "_view_name": "StyleView",
       "description_width": ""
      }
     },
     "e5be19d37f93473b808dfe728abc03c4": {
      "model_module": "@jupyter-widgets/controls",
      "model_module_version": "1.5.0",
      "model_name": "HTMLModel",
      "state": {
       "_dom_classes": [],
       "_model_module": "@jupyter-widgets/controls",
       "_model_module_version": "1.5.0",
       "_model_name": "HTMLModel",
       "_view_count": null,
       "_view_module": "@jupyter-widgets/controls",
       "_view_module_version": "1.5.0",
       "_view_name": "HTMLView",
       "description": "",
       "description_tooltip": null,
       "layout": "IPY_MODEL_f849c9ec5e404c538b972cfc27b37036",
       "placeholder": "​",
       "style": "IPY_MODEL_aceaf1ef90d04246b9c4cee51f2bf9e5",
       "value": " 7/7 [01:31&lt;00:00, 14.20s/it]"
      }
     },
     "e6bc9f69bc9d4f3fbdd0e7bd2f6fdeeb": {
      "model_module": "@jupyter-widgets/base",
      "model_module_version": "1.2.0",
      "model_name": "LayoutModel",
      "state": {
       "_model_module": "@jupyter-widgets/base",
       "_model_module_version": "1.2.0",
       "_model_name": "LayoutModel",
       "_view_count": null,
       "_view_module": "@jupyter-widgets/base",
       "_view_module_version": "1.2.0",
       "_view_name": "LayoutView",
       "align_content": null,
       "align_items": null,
       "align_self": null,
       "border": null,
       "bottom": null,
       "display": null,
       "flex": null,
       "flex_flow": null,
       "grid_area": null,
       "grid_auto_columns": null,
       "grid_auto_flow": null,
       "grid_auto_rows": null,
       "grid_column": null,
       "grid_gap": null,
       "grid_row": null,
       "grid_template_areas": null,
       "grid_template_columns": null,
       "grid_template_rows": null,
       "height": null,
       "justify_content": null,
       "justify_items": null,
       "left": null,
       "margin": null,
       "max_height": null,
       "max_width": null,
       "min_height": null,
       "min_width": null,
       "object_fit": null,
       "object_position": null,
       "order": null,
       "overflow": null,
       "overflow_x": null,
       "overflow_y": null,
       "padding": null,
       "right": null,
       "top": null,
       "visibility": null,
       "width": null
      }
     },
     "f849c9ec5e404c538b972cfc27b37036": {
      "model_module": "@jupyter-widgets/base",
      "model_module_version": "1.2.0",
      "model_name": "LayoutModel",
      "state": {
       "_model_module": "@jupyter-widgets/base",
       "_model_module_version": "1.2.0",
       "_model_name": "LayoutModel",
       "_view_count": null,
       "_view_module": "@jupyter-widgets/base",
       "_view_module_version": "1.2.0",
       "_view_name": "LayoutView",
       "align_content": null,
       "align_items": null,
       "align_self": null,
       "border": null,
       "bottom": null,
       "display": null,
       "flex": null,
       "flex_flow": null,
       "grid_area": null,
       "grid_auto_columns": null,
       "grid_auto_flow": null,
       "grid_auto_rows": null,
       "grid_column": null,
       "grid_gap": null,
       "grid_row": null,
       "grid_template_areas": null,
       "grid_template_columns": null,
       "grid_template_rows": null,
       "height": null,
       "justify_content": null,
       "justify_items": null,
       "left": null,
       "margin": null,
       "max_height": null,
       "max_width": null,
       "min_height": null,
       "min_width": null,
       "object_fit": null,
       "object_position": null,
       "order": null,
       "overflow": null,
       "overflow_x": null,
       "overflow_y": null,
       "padding": null,
       "right": null,
       "top": null,
       "visibility": null,
       "width": null
      }
     },
     "fe79e70fa3254c1da81ffb6042749360": {
      "model_module": "@jupyter-widgets/controls",
      "model_module_version": "1.5.0",
      "model_name": "HBoxModel",
      "state": {
       "_dom_classes": [],
       "_model_module": "@jupyter-widgets/controls",
       "_model_module_version": "1.5.0",
       "_model_name": "HBoxModel",
       "_view_count": null,
       "_view_module": "@jupyter-widgets/controls",
       "_view_module_version": "1.5.0",
       "_view_name": "HBoxView",
       "box_style": "",
       "children": [
        "IPY_MODEL_57557e2951694989b723d8b429cd5f4b",
        "IPY_MODEL_0fd674f313254fa489098a9684c7db74",
        "IPY_MODEL_e5be19d37f93473b808dfe728abc03c4"
       ],
       "layout": "IPY_MODEL_e6bc9f69bc9d4f3fbdd0e7bd2f6fdeeb"
      }
     }
    },
    "version_major": 2,
    "version_minor": 0
   }
  }
 },
 "nbformat": 4,
 "nbformat_minor": 5
}