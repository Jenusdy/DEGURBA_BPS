{
 "cells": [
  {
   "cell_type": "code",
   "execution_count": 1,
   "id": "f0432d92",
   "metadata": {
    "execution": {
     "iopub.execute_input": "2022-09-06T21:50:35.521457Z",
     "iopub.status.busy": "2022-09-06T21:50:35.521089Z",
     "iopub.status.idle": "2022-09-06T21:50:35.528517Z",
     "shell.execute_reply": "2022-09-06T21:50:35.527834Z"
    },
    "papermill": {
     "duration": 0.013291,
     "end_time": "2022-09-06T21:50:35.530359",
     "exception": false,
     "start_time": "2022-09-06T21:50:35.517068",
     "status": "completed"
    },
    "tags": [
     "parameters"
    ]
   },
   "outputs": [],
   "source": [
    "kdprov = '76'"
   ]
  },
  {
   "cell_type": "code",
   "execution_count": 2,
   "id": "86a4574b",
   "metadata": {
    "execution": {
     "iopub.execute_input": "2022-09-06T21:50:35.536704Z",
     "iopub.status.busy": "2022-09-06T21:50:35.536463Z",
     "iopub.status.idle": "2022-09-06T21:50:35.539609Z",
     "shell.execute_reply": "2022-09-06T21:50:35.539073Z"
    },
    "papermill": {
     "duration": 0.007517,
     "end_time": "2022-09-06T21:50:35.540964",
     "exception": false,
     "start_time": "2022-09-06T21:50:35.533447",
     "status": "completed"
    },
    "tags": [
     "injected-parameters"
    ]
   },
   "outputs": [],
   "source": [
    "# Parameters\n",
    "kdprov = \"16\"\n"
   ]
  },
  {
   "cell_type": "code",
   "execution_count": 3,
   "id": "f6300764",
   "metadata": {
    "execution": {
     "iopub.execute_input": "2022-09-06T21:50:35.545170Z",
     "iopub.status.busy": "2022-09-06T21:50:35.544811Z",
     "iopub.status.idle": "2022-09-06T21:50:35.986742Z",
     "shell.execute_reply": "2022-09-06T21:50:35.985644Z"
    },
    "papermill": {
     "duration": 0.446296,
     "end_time": "2022-09-06T21:50:35.988908",
     "exception": false,
     "start_time": "2022-09-06T21:50:35.542612",
     "status": "completed"
    },
    "tags": []
   },
   "outputs": [
    {
     "name": "stderr",
     "output_type": "stream",
     "text": [
      "/home/jupyter-peta_admin/.local/lib/python3.8/site-packages/geopandas/_compat.py:112: UserWarning: The Shapely GEOS version (3.10.2-CAPI-1.16.0) is incompatible with the GEOS version PyGEOS was compiled with (3.10.1-CAPI-1.16.0). Conversions between both will be slow.\n",
      "  warnings.warn(\n"
     ]
    }
   ],
   "source": [
    "import pandas as pd\n",
    "\n",
    "import geopandas as gpd\n",
    "from glob import glob"
   ]
  },
  {
   "cell_type": "code",
   "execution_count": 4,
   "id": "f8fc1325",
   "metadata": {
    "execution": {
     "iopub.execute_input": "2022-09-06T21:50:35.996718Z",
     "iopub.status.busy": "2022-09-06T21:50:35.996001Z",
     "iopub.status.idle": "2022-09-06T21:50:36.564012Z",
     "shell.execute_reply": "2022-09-06T21:50:36.563252Z"
    },
    "papermill": {
     "duration": 0.573681,
     "end_time": "2022-09-06T21:50:36.566121",
     "exception": false,
     "start_time": "2022-09-06T21:50:35.992440",
     "status": "completed"
    },
    "tags": []
   },
   "outputs": [],
   "source": [
    "# open data sp\n",
    "data_peta_w_ruta = gpd.read_file(\"data/output/0_raster_data_desa/desa_pend_rasterize_\"+kdprov+\".gpkg\").to_crs('ESRI:54009')#.area\n",
    "data_peta_w_ruta['idkab']=data_peta_w_ruta.iddesa.apply(lambda y: str(y)[:4])\n"
   ]
  },
  {
   "cell_type": "code",
   "execution_count": 5,
   "id": "75ba398f",
   "metadata": {
    "execution": {
     "iopub.execute_input": "2022-09-06T21:50:36.572652Z",
     "iopub.status.busy": "2022-09-06T21:50:36.572382Z",
     "iopub.status.idle": "2022-09-06T21:50:36.601172Z",
     "shell.execute_reply": "2022-09-06T21:50:36.600573Z"
    },
    "papermill": {
     "duration": 0.033462,
     "end_time": "2022-09-06T21:50:36.602678",
     "exception": false,
     "start_time": "2022-09-06T21:50:36.569216",
     "status": "completed"
    },
    "tags": []
   },
   "outputs": [
    {
     "data": {
      "text/html": [
       "<div>\n",
       "<style scoped>\n",
       "    .dataframe tbody tr th:only-of-type {\n",
       "        vertical-align: middle;\n",
       "    }\n",
       "\n",
       "    .dataframe tbody tr th {\n",
       "        vertical-align: top;\n",
       "    }\n",
       "\n",
       "    .dataframe thead th {\n",
       "        text-align: right;\n",
       "    }\n",
       "</style>\n",
       "<table border=\"1\" class=\"dataframe\">\n",
       "  <thead>\n",
       "    <tr style=\"text-align: right;\">\n",
       "      <th></th>\n",
       "      <th>iddesa</th>\n",
       "      <th>DN</th>\n",
       "      <th>id</th>\n",
       "      <th>pop2020</th>\n",
       "      <th>geometry</th>\n",
       "      <th>idkab</th>\n",
       "    </tr>\n",
       "  </thead>\n",
       "  <tbody>\n",
       "    <tr>\n",
       "      <th>0</th>\n",
       "      <td>1601052001</td>\n",
       "      <td>0.0</td>\n",
       "      <td>0.0</td>\n",
       "      <td>2219.0</td>\n",
       "      <td>POLYGON ((10420300.000 -539900.000, 10421600.0...</td>\n",
       "      <td>1601</td>\n",
       "    </tr>\n",
       "    <tr>\n",
       "      <th>1</th>\n",
       "      <td>1601052002</td>\n",
       "      <td>1.0</td>\n",
       "      <td>1.0</td>\n",
       "      <td>455.0</td>\n",
       "      <td>MULTIPOLYGON (((10411000.000 -544900.000, 1041...</td>\n",
       "      <td>1601</td>\n",
       "    </tr>\n",
       "    <tr>\n",
       "      <th>2</th>\n",
       "      <td>1601052003</td>\n",
       "      <td>2.0</td>\n",
       "      <td>2.0</td>\n",
       "      <td>945.0</td>\n",
       "      <td>POLYGON ((10417000.000 -535400.000, 10417200.0...</td>\n",
       "      <td>1601</td>\n",
       "    </tr>\n",
       "    <tr>\n",
       "      <th>3</th>\n",
       "      <td>1601052004</td>\n",
       "      <td>3.0</td>\n",
       "      <td>3.0</td>\n",
       "      <td>998.0</td>\n",
       "      <td>POLYGON ((10425000.000 -524600.000, 10425300.0...</td>\n",
       "      <td>1601</td>\n",
       "    </tr>\n",
       "  </tbody>\n",
       "</table>\n",
       "</div>"
      ],
      "text/plain": [
       "       iddesa   DN   id  pop2020  \\\n",
       "0  1601052001  0.0  0.0   2219.0   \n",
       "1  1601052002  1.0  1.0    455.0   \n",
       "2  1601052003  2.0  2.0    945.0   \n",
       "3  1601052004  3.0  3.0    998.0   \n",
       "\n",
       "                                            geometry idkab  \n",
       "0  POLYGON ((10420300.000 -539900.000, 10421600.0...  1601  \n",
       "1  MULTIPOLYGON (((10411000.000 -544900.000, 1041...  1601  \n",
       "2  POLYGON ((10417000.000 -535400.000, 10417200.0...  1601  \n",
       "3  POLYGON ((10425000.000 -524600.000, 10425300.0...  1601  "
      ]
     },
     "execution_count": 5,
     "metadata": {},
     "output_type": "execute_result"
    }
   ],
   "source": [
    "data_peta_w_ruta.head(4)"
   ]
  },
  {
   "cell_type": "code",
   "execution_count": 6,
   "id": "28abada6",
   "metadata": {
    "execution": {
     "iopub.execute_input": "2022-09-06T21:50:36.607689Z",
     "iopub.status.busy": "2022-09-06T21:50:36.607222Z",
     "iopub.status.idle": "2022-09-06T21:50:36.613488Z",
     "shell.execute_reply": "2022-09-06T21:50:36.612920Z"
    },
    "papermill": {
     "duration": 0.010569,
     "end_time": "2022-09-06T21:50:36.615007",
     "exception": false,
     "start_time": "2022-09-06T21:50:36.604438",
     "status": "completed"
    },
    "tags": []
   },
   "outputs": [],
   "source": [
    "data_builtup_kabkota=glob(\"data/input/GHSL Data/2020/gpkg/ghs_built_\"+kdprov+\"*_nonzero.shp\")"
   ]
  },
  {
   "cell_type": "code",
   "execution_count": 7,
   "id": "72f5142f",
   "metadata": {
    "execution": {
     "iopub.execute_input": "2022-09-06T21:50:36.620366Z",
     "iopub.status.busy": "2022-09-06T21:50:36.619959Z",
     "iopub.status.idle": "2022-09-06T21:50:36.624041Z",
     "shell.execute_reply": "2022-09-06T21:50:36.623511Z"
    },
    "papermill": {
     "duration": 0.008762,
     "end_time": "2022-09-06T21:50:36.625545",
     "exception": false,
     "start_time": "2022-09-06T21:50:36.616783",
     "status": "completed"
    },
    "tags": []
   },
   "outputs": [
    {
     "data": {
      "text/plain": [
       "['data/input/GHSL Data/2020/gpkg/ghs_built_1672_nonzero.shp',\n",
       " 'data/input/GHSL Data/2020/gpkg/ghs_built_1602_nonzero.shp',\n",
       " 'data/input/GHSL Data/2020/gpkg/ghs_built_1611_nonzero.shp',\n",
       " 'data/input/GHSL Data/2020/gpkg/ghs_built_1613_nonzero.shp',\n",
       " 'data/input/GHSL Data/2020/gpkg/ghs_built_1606_nonzero.shp',\n",
       " 'data/input/GHSL Data/2020/gpkg/ghs_built_1607_nonzero.shp',\n",
       " 'data/input/GHSL Data/2020/gpkg/ghs_built_1674_nonzero.shp',\n",
       " 'data/input/GHSL Data/2020/gpkg/ghs_built_1671_nonzero.shp',\n",
       " 'data/input/GHSL Data/2020/gpkg/ghs_built_1609_nonzero.shp',\n",
       " 'data/input/GHSL Data/2020/gpkg/ghs_built_1604_nonzero.shp',\n",
       " 'data/input/GHSL Data/2020/gpkg/ghs_built_1612_nonzero.shp',\n",
       " 'data/input/GHSL Data/2020/gpkg/ghs_built_1608_nonzero.shp',\n",
       " 'data/input/GHSL Data/2020/gpkg/ghs_built_1603_nonzero.shp',\n",
       " 'data/input/GHSL Data/2020/gpkg/ghs_built_1605_nonzero.shp',\n",
       " 'data/input/GHSL Data/2020/gpkg/ghs_built_1601_nonzero.shp',\n",
       " 'data/input/GHSL Data/2020/gpkg/ghs_built_1610_nonzero.shp',\n",
       " 'data/input/GHSL Data/2020/gpkg/ghs_built_1673_nonzero.shp']"
      ]
     },
     "execution_count": 7,
     "metadata": {},
     "output_type": "execute_result"
    }
   ],
   "source": [
    "data_builtup_kabkota"
   ]
  },
  {
   "cell_type": "code",
   "execution_count": 8,
   "id": "25e1506d",
   "metadata": {
    "execution": {
     "iopub.execute_input": "2022-09-06T21:50:36.630695Z",
     "iopub.status.busy": "2022-09-06T21:50:36.630240Z",
     "iopub.status.idle": "2022-09-06T21:50:36.637469Z",
     "shell.execute_reply": "2022-09-06T21:50:36.636802Z"
    },
    "papermill": {
     "duration": 0.01171,
     "end_time": "2022-09-06T21:50:36.639011",
     "exception": false,
     "start_time": "2022-09-06T21:50:36.627301",
     "status": "completed"
    },
    "tags": []
   },
   "outputs": [],
   "source": [
    "import os.path\n",
    "def pop_dens(dt):\n",
    "    global data_peta_w_ruta\n",
    "    kdkab=dt.split('/')[5].replace('ghs_built_','').replace('_nonzero.shp','')\n",
    "    if ((os.path.exists(\"data/output/1_population_density/grid_pop_\"+kdkab+\"_100m.gpkg\")==False) \n",
    "        or (os.path.exists(\"data/output/1_population_density/grid_pop_\"+kdkab+\"_100m.gpkg-journal\")==True)):\n",
    "        data_builtup=gpd.read_file(dt)#.to_crs(('ESRI:54009'))\n",
    "        data_builtup['DN']=data_builtup.value\n",
    "        data_peta_w_ruta.pop2020.sum()\n",
    "        data_builtup['centroid'] = data_builtup.centroid\n",
    "        data_builtup['polygon'] = data_builtup['geometry']\n",
    "        data_builtup.crs='ESRI:54009'\n",
    "        data_peta_w_ruta.crs='ESRI:54009'\n",
    "        data_builtup = data_builtup.loc[:,['DN','centroid','polygon']].set_geometry(\"centroid\").sjoin(data_peta_w_ruta)\n",
    "        data_builtup['TOTAL_PEND']=data_builtup['pop2020']\n",
    "    # data_builtup = data_builtup.loc[:,['DN','geometry']].sjoin(data_peta_w_ruta)\n",
    "        data_builtup['p_area'] = data_builtup['DN_left'] / data_builtup.groupby('iddesa').DN_left.transform('sum')\n",
    "        data_builtup['j_pend'] = list(data_builtup['p_area']*data_builtup['TOTAL_PEND'])\n",
    "    # data_builtup[['DN_left', 'geometry', 'iddesa','TOTAL_PEND', 'p_area','j_pend']].to_file(\"data/input/grid_pop_\"+kdprov+\"_100m.gpkg\", driver=\"GPKG\")\n",
    "        data_builtup[['DN_left', 'centroid', 'iddesa','TOTAL_PEND', 'p_area','j_pend']].to_file(\"data/temp/grid_pop_\"+kdkab+\"_100m.gpkg\", driver=\"GPKG\")\n",
    "        data_=data_builtup[['DN_left', 'polygon', 'iddesa','TOTAL_PEND', 'p_area','j_pend']].set_geometry(\"polygon\")\n",
    "        data_.crs='ESRI:54009'\n",
    "        data_.to_file(\"data/output/1_population_density/grid_pop_\"+kdkab+\"_100m.gpkg\", driver=\"GPKG\")\n",
    "    else:\n",
    "        print('SKIP for: ',kdkab)"
   ]
  },
  {
   "cell_type": "code",
   "execution_count": 9,
   "id": "8aa13266",
   "metadata": {
    "execution": {
     "iopub.execute_input": "2022-09-06T21:50:36.643978Z",
     "iopub.status.busy": "2022-09-06T21:50:36.643616Z",
     "iopub.status.idle": "2022-09-06T22:02:41.260963Z",
     "shell.execute_reply": "2022-09-06T22:02:41.259852Z"
    },
    "papermill": {
     "duration": 724.622209,
     "end_time": "2022-09-06T22:02:41.263026",
     "exception": false,
     "start_time": "2022-09-06T21:50:36.640817",
     "status": "completed"
    },
    "tags": []
   },
   "outputs": [
    {
     "data": {
      "application/vnd.jupyter.widget-view+json": {
       "model_id": "3e4f51bcdf374e4c9c62e398c4699602",
       "version_major": 2,
       "version_minor": 0
      },
      "text/plain": [
       "  0%|          | 0/17 [00:00<?, ?it/s]"
      ]
     },
     "metadata": {},
     "output_type": "display_data"
    },
    {
     "name": "stderr",
     "output_type": "stream",
     "text": [
      "/home/jupyter-peta_admin/.local/lib/python3.8/site-packages/geopandas/geodataframe.py:2072: UserWarning: CRS mismatch between the CRS of left geometries and the CRS of right geometries.\n",
      "Use `to_crs()` to reproject one of the input geometries to match the CRS of the other.\n",
      "\n",
      "Left CRS: None\n",
      "Right CRS: ESRI:54009\n",
      "\n",
      "  return geopandas.sjoin(left_df=self, right_df=df, *args, **kwargs)\n"
     ]
    },
    {
     "name": "stderr",
     "output_type": "stream",
     "text": [
      "/home/jupyter-peta_admin/.local/lib/python3.8/site-packages/geopandas/geodataframe.py:2072: UserWarning: CRS mismatch between the CRS of left geometries and the CRS of right geometries.\n",
      "Use `to_crs()` to reproject one of the input geometries to match the CRS of the other.\n",
      "\n",
      "Left CRS: None\n",
      "Right CRS: ESRI:54009\n",
      "\n",
      "  return geopandas.sjoin(left_df=self, right_df=df, *args, **kwargs)\n"
     ]
    },
    {
     "name": "stderr",
     "output_type": "stream",
     "text": [
      "/home/jupyter-peta_admin/.local/lib/python3.8/site-packages/geopandas/geodataframe.py:2072: UserWarning: CRS mismatch between the CRS of left geometries and the CRS of right geometries.\n",
      "Use `to_crs()` to reproject one of the input geometries to match the CRS of the other.\n",
      "\n",
      "Left CRS: None\n",
      "Right CRS: ESRI:54009\n",
      "\n",
      "  return geopandas.sjoin(left_df=self, right_df=df, *args, **kwargs)\n"
     ]
    },
    {
     "name": "stderr",
     "output_type": "stream",
     "text": [
      "/home/jupyter-peta_admin/.local/lib/python3.8/site-packages/geopandas/geodataframe.py:2072: UserWarning: CRS mismatch between the CRS of left geometries and the CRS of right geometries.\n",
      "Use `to_crs()` to reproject one of the input geometries to match the CRS of the other.\n",
      "\n",
      "Left CRS: None\n",
      "Right CRS: ESRI:54009\n",
      "\n",
      "  return geopandas.sjoin(left_df=self, right_df=df, *args, **kwargs)\n"
     ]
    },
    {
     "name": "stderr",
     "output_type": "stream",
     "text": [
      "/home/jupyter-peta_admin/.local/lib/python3.8/site-packages/geopandas/geodataframe.py:2072: UserWarning: CRS mismatch between the CRS of left geometries and the CRS of right geometries.\n",
      "Use `to_crs()` to reproject one of the input geometries to match the CRS of the other.\n",
      "\n",
      "Left CRS: None\n",
      "Right CRS: ESRI:54009\n",
      "\n",
      "  return geopandas.sjoin(left_df=self, right_df=df, *args, **kwargs)\n"
     ]
    },
    {
     "name": "stderr",
     "output_type": "stream",
     "text": [
      "/home/jupyter-peta_admin/.local/lib/python3.8/site-packages/geopandas/geodataframe.py:2072: UserWarning: CRS mismatch between the CRS of left geometries and the CRS of right geometries.\n",
      "Use `to_crs()` to reproject one of the input geometries to match the CRS of the other.\n",
      "\n",
      "Left CRS: None\n",
      "Right CRS: ESRI:54009\n",
      "\n",
      "  return geopandas.sjoin(left_df=self, right_df=df, *args, **kwargs)\n"
     ]
    },
    {
     "name": "stderr",
     "output_type": "stream",
     "text": [
      "/home/jupyter-peta_admin/.local/lib/python3.8/site-packages/geopandas/geodataframe.py:2072: UserWarning: CRS mismatch between the CRS of left geometries and the CRS of right geometries.\n",
      "Use `to_crs()` to reproject one of the input geometries to match the CRS of the other.\n",
      "\n",
      "Left CRS: None\n",
      "Right CRS: ESRI:54009\n",
      "\n",
      "  return geopandas.sjoin(left_df=self, right_df=df, *args, **kwargs)\n"
     ]
    },
    {
     "name": "stderr",
     "output_type": "stream",
     "text": [
      "/home/jupyter-peta_admin/.local/lib/python3.8/site-packages/geopandas/geodataframe.py:2072: UserWarning: CRS mismatch between the CRS of left geometries and the CRS of right geometries.\n",
      "Use `to_crs()` to reproject one of the input geometries to match the CRS of the other.\n",
      "\n",
      "Left CRS: None\n",
      "Right CRS: ESRI:54009\n",
      "\n",
      "  return geopandas.sjoin(left_df=self, right_df=df, *args, **kwargs)\n"
     ]
    },
    {
     "name": "stderr",
     "output_type": "stream",
     "text": [
      "/home/jupyter-peta_admin/.local/lib/python3.8/site-packages/geopandas/geodataframe.py:2072: UserWarning: CRS mismatch between the CRS of left geometries and the CRS of right geometries.\n",
      "Use `to_crs()` to reproject one of the input geometries to match the CRS of the other.\n",
      "\n",
      "Left CRS: None\n",
      "Right CRS: ESRI:54009\n",
      "\n",
      "  return geopandas.sjoin(left_df=self, right_df=df, *args, **kwargs)\n"
     ]
    },
    {
     "name": "stderr",
     "output_type": "stream",
     "text": [
      "/home/jupyter-peta_admin/.local/lib/python3.8/site-packages/geopandas/geodataframe.py:2072: UserWarning: CRS mismatch between the CRS of left geometries and the CRS of right geometries.\n",
      "Use `to_crs()` to reproject one of the input geometries to match the CRS of the other.\n",
      "\n",
      "Left CRS: None\n",
      "Right CRS: ESRI:54009\n",
      "\n",
      "  return geopandas.sjoin(left_df=self, right_df=df, *args, **kwargs)\n"
     ]
    },
    {
     "name": "stderr",
     "output_type": "stream",
     "text": [
      "/home/jupyter-peta_admin/.local/lib/python3.8/site-packages/geopandas/geodataframe.py:2072: UserWarning: CRS mismatch between the CRS of left geometries and the CRS of right geometries.\n",
      "Use `to_crs()` to reproject one of the input geometries to match the CRS of the other.\n",
      "\n",
      "Left CRS: None\n",
      "Right CRS: ESRI:54009\n",
      "\n",
      "  return geopandas.sjoin(left_df=self, right_df=df, *args, **kwargs)\n"
     ]
    },
    {
     "name": "stderr",
     "output_type": "stream",
     "text": [
      "/home/jupyter-peta_admin/.local/lib/python3.8/site-packages/geopandas/geodataframe.py:2072: UserWarning: CRS mismatch between the CRS of left geometries and the CRS of right geometries.\n",
      "Use `to_crs()` to reproject one of the input geometries to match the CRS of the other.\n",
      "\n",
      "Left CRS: None\n",
      "Right CRS: ESRI:54009\n",
      "\n",
      "  return geopandas.sjoin(left_df=self, right_df=df, *args, **kwargs)\n"
     ]
    },
    {
     "name": "stderr",
     "output_type": "stream",
     "text": [
      "/home/jupyter-peta_admin/.local/lib/python3.8/site-packages/geopandas/geodataframe.py:2072: UserWarning: CRS mismatch between the CRS of left geometries and the CRS of right geometries.\n",
      "Use `to_crs()` to reproject one of the input geometries to match the CRS of the other.\n",
      "\n",
      "Left CRS: None\n",
      "Right CRS: ESRI:54009\n",
      "\n",
      "  return geopandas.sjoin(left_df=self, right_df=df, *args, **kwargs)\n"
     ]
    },
    {
     "name": "stderr",
     "output_type": "stream",
     "text": [
      "/home/jupyter-peta_admin/.local/lib/python3.8/site-packages/geopandas/geodataframe.py:2072: UserWarning: CRS mismatch between the CRS of left geometries and the CRS of right geometries.\n",
      "Use `to_crs()` to reproject one of the input geometries to match the CRS of the other.\n",
      "\n",
      "Left CRS: None\n",
      "Right CRS: ESRI:54009\n",
      "\n",
      "  return geopandas.sjoin(left_df=self, right_df=df, *args, **kwargs)\n"
     ]
    },
    {
     "name": "stderr",
     "output_type": "stream",
     "text": [
      "/home/jupyter-peta_admin/.local/lib/python3.8/site-packages/geopandas/geodataframe.py:2072: UserWarning: CRS mismatch between the CRS of left geometries and the CRS of right geometries.\n",
      "Use `to_crs()` to reproject one of the input geometries to match the CRS of the other.\n",
      "\n",
      "Left CRS: None\n",
      "Right CRS: ESRI:54009\n",
      "\n",
      "  return geopandas.sjoin(left_df=self, right_df=df, *args, **kwargs)\n"
     ]
    },
    {
     "name": "stderr",
     "output_type": "stream",
     "text": [
      "/home/jupyter-peta_admin/.local/lib/python3.8/site-packages/geopandas/geodataframe.py:2072: UserWarning: CRS mismatch between the CRS of left geometries and the CRS of right geometries.\n",
      "Use `to_crs()` to reproject one of the input geometries to match the CRS of the other.\n",
      "\n",
      "Left CRS: None\n",
      "Right CRS: ESRI:54009\n",
      "\n",
      "  return geopandas.sjoin(left_df=self, right_df=df, *args, **kwargs)\n"
     ]
    },
    {
     "name": "stderr",
     "output_type": "stream",
     "text": [
      "/home/jupyter-peta_admin/.local/lib/python3.8/site-packages/geopandas/geodataframe.py:2072: UserWarning: CRS mismatch between the CRS of left geometries and the CRS of right geometries.\n",
      "Use `to_crs()` to reproject one of the input geometries to match the CRS of the other.\n",
      "\n",
      "Left CRS: None\n",
      "Right CRS: ESRI:54009\n",
      "\n",
      "  return geopandas.sjoin(left_df=self, right_df=df, *args, **kwargs)\n"
     ]
    },
    {
     "data": {
      "text/plain": [
       "[None,\n",
       " None,\n",
       " None,\n",
       " None,\n",
       " None,\n",
       " None,\n",
       " None,\n",
       " None,\n",
       " None,\n",
       " None,\n",
       " None,\n",
       " None,\n",
       " None,\n",
       " None,\n",
       " None,\n",
       " None,\n",
       " None]"
      ]
     },
     "execution_count": 9,
     "metadata": {},
     "output_type": "execute_result"
    }
   ],
   "source": [
    "from tqdm.contrib.concurrent import process_map\n",
    "process_map(pop_dens,data_builtup_kabkota)   "
   ]
  }
 ],
 "metadata": {
  "celltoolbar": "Tags",
  "kernelspec": {
   "display_name": "Python 3 (ipykernel)",
   "language": "python",
   "name": "python3"
  },
  "language_info": {
   "codemirror_mode": {
    "name": "ipython",
    "version": 3
   },
   "file_extension": ".py",
   "mimetype": "text/x-python",
   "name": "python",
   "nbconvert_exporter": "python",
   "pygments_lexer": "ipython3",
   "version": "3.8.12"
  },
  "papermill": {
   "default_parameters": {},
   "duration": 726.918214,
   "end_time": "2022-09-06T22:02:41.587792",
   "environment_variables": {},
   "exception": null,
   "input_path": "01_Population_Density #1 Preparing for 100m By KABKOTA.ipynb",
   "output_path": "01_Population Density #1-16.ipynb",
   "parameters": {
    "kdprov": "16"
   },
   "start_time": "2022-09-06T21:50:34.669578",
   "version": "2.3.4"
  },
  "widgets": {
   "application/vnd.jupyter.widget-state+json": {
    "state": {
     "05ad0f9c46114fb2b81bcb62ca7cb1fa": {
      "model_module": "@jupyter-widgets/base",
      "model_module_version": "1.2.0",
      "model_name": "LayoutModel",
      "state": {
       "_model_module": "@jupyter-widgets/base",
       "_model_module_version": "1.2.0",
       "_model_name": "LayoutModel",
       "_view_count": null,
       "_view_module": "@jupyter-widgets/base",
       "_view_module_version": "1.2.0",
       "_view_name": "LayoutView",
       "align_content": null,
       "align_items": null,
       "align_self": null,
       "border": null,
       "bottom": null,
       "display": null,
       "flex": null,
       "flex_flow": null,
       "grid_area": null,
       "grid_auto_columns": null,
       "grid_auto_flow": null,
       "grid_auto_rows": null,
       "grid_column": null,
       "grid_gap": null,
       "grid_row": null,
       "grid_template_areas": null,
       "grid_template_columns": null,
       "grid_template_rows": null,
       "height": null,
       "justify_content": null,
       "justify_items": null,
       "left": null,
       "margin": null,
       "max_height": null,
       "max_width": null,
       "min_height": null,
       "min_width": null,
       "object_fit": null,
       "object_position": null,
       "order": null,
       "overflow": null,
       "overflow_x": null,
       "overflow_y": null,
       "padding": null,
       "right": null,
       "top": null,
       "visibility": null,
       "width": null
      }
     },
     "3e4f51bcdf374e4c9c62e398c4699602": {
      "model_module": "@jupyter-widgets/controls",
      "model_module_version": "1.5.0",
      "model_name": "HBoxModel",
      "state": {
       "_dom_classes": [],
       "_model_module": "@jupyter-widgets/controls",
       "_model_module_version": "1.5.0",
       "_model_name": "HBoxModel",
       "_view_count": null,
       "_view_module": "@jupyter-widgets/controls",
       "_view_module_version": "1.5.0",
       "_view_name": "HBoxView",
       "box_style": "",
       "children": [
        "IPY_MODEL_9a3f02b3a4a740d4bcd15e9a4105c0b2",
        "IPY_MODEL_cc2fc92504204624b42e464d42751f99",
        "IPY_MODEL_450648b69db348099057773fb8e98c93"
       ],
       "layout": "IPY_MODEL_76a7f764753a4974aa5b2ba7c9066370"
      }
     },
     "450648b69db348099057773fb8e98c93": {
      "model_module": "@jupyter-widgets/controls",
      "model_module_version": "1.5.0",
      "model_name": "HTMLModel",
      "state": {
       "_dom_classes": [],
       "_model_module": "@jupyter-widgets/controls",
       "_model_module_version": "1.5.0",
       "_model_name": "HTMLModel",
       "_view_count": null,
       "_view_module": "@jupyter-widgets/controls",
       "_view_module_version": "1.5.0",
       "_view_name": "HTMLView",
       "description": "",
       "description_tooltip": null,
       "layout": "IPY_MODEL_64f21949efb2435d9d871639dc8c611d",
       "placeholder": "​",
       "style": "IPY_MODEL_c8f4f845d89249a9a7a5845a5419b2d2",
       "value": " 17/17 [12:04&lt;00:00, 421.41s/it]"
      }
     },
     "4a1ac35ac8ce47d994536886ae8806a0": {
      "model_module": "@jupyter-widgets/controls",
      "model_module_version": "1.5.0",
      "model_name": "DescriptionStyleModel",
      "state": {
       "_model_module": "@jupyter-widgets/controls",
       "_model_module_version": "1.5.0",
       "_model_name": "DescriptionStyleModel",
       "_view_count": null,
       "_view_module": "@jupyter-widgets/base",
       "_view_module_version": "1.2.0",
       "_view_name": "StyleView",
       "description_width": ""
      }
     },
     "5c7a5fccc8c04e569899d18d0fec6bc5": {
      "model_module": "@jupyter-widgets/controls",
      "model_module_version": "1.5.0",
      "model_name": "ProgressStyleModel",
      "state": {
       "_model_module": "@jupyter-widgets/controls",
       "_model_module_version": "1.5.0",
       "_model_name": "ProgressStyleModel",
       "_view_count": null,
       "_view_module": "@jupyter-widgets/base",
       "_view_module_version": "1.2.0",
       "_view_name": "StyleView",
       "bar_color": null,
       "description_width": ""
      }
     },
     "64f21949efb2435d9d871639dc8c611d": {
      "model_module": "@jupyter-widgets/base",
      "model_module_version": "1.2.0",
      "model_name": "LayoutModel",
      "state": {
       "_model_module": "@jupyter-widgets/base",
       "_model_module_version": "1.2.0",
       "_model_name": "LayoutModel",
       "_view_count": null,
       "_view_module": "@jupyter-widgets/base",
       "_view_module_version": "1.2.0",
       "_view_name": "LayoutView",
       "align_content": null,
       "align_items": null,
       "align_self": null,
       "border": null,
       "bottom": null,
       "display": null,
       "flex": null,
       "flex_flow": null,
       "grid_area": null,
       "grid_auto_columns": null,
       "grid_auto_flow": null,
       "grid_auto_rows": null,
       "grid_column": null,
       "grid_gap": null,
       "grid_row": null,
       "grid_template_areas": null,
       "grid_template_columns": null,
       "grid_template_rows": null,
       "height": null,
       "justify_content": null,
       "justify_items": null,
       "left": null,
       "margin": null,
       "max_height": null,
       "max_width": null,
       "min_height": null,
       "min_width": null,
       "object_fit": null,
       "object_position": null,
       "order": null,
       "overflow": null,
       "overflow_x": null,
       "overflow_y": null,
       "padding": null,
       "right": null,
       "top": null,
       "visibility": null,
       "width": null
      }
     },
     "76a7f764753a4974aa5b2ba7c9066370": {
      "model_module": "@jupyter-widgets/base",
      "model_module_version": "1.2.0",
      "model_name": "LayoutModel",
      "state": {
       "_model_module": "@jupyter-widgets/base",
       "_model_module_version": "1.2.0",
       "_model_name": "LayoutModel",
       "_view_count": null,
       "_view_module": "@jupyter-widgets/base",
       "_view_module_version": "1.2.0",
       "_view_name": "LayoutView",
       "align_content": null,
       "align_items": null,
       "align_self": null,
       "border": null,
       "bottom": null,
       "display": null,
       "flex": null,
       "flex_flow": null,
       "grid_area": null,
       "grid_auto_columns": null,
       "grid_auto_flow": null,
       "grid_auto_rows": null,
       "grid_column": null,
       "grid_gap": null,
       "grid_row": null,
       "grid_template_areas": null,
       "grid_template_columns": null,
       "grid_template_rows": null,
       "height": null,
       "justify_content": null,
       "justify_items": null,
       "left": null,
       "margin": null,
       "max_height": null,
       "max_width": null,
       "min_height": null,
       "min_width": null,
       "object_fit": null,
       "object_position": null,
       "order": null,
       "overflow": null,
       "overflow_x": null,
       "overflow_y": null,
       "padding": null,
       "right": null,
       "top": null,
       "visibility": null,
       "width": null
      }
     },
     "92866dea9fc54139bf11068c96e5946f": {
      "model_module": "@jupyter-widgets/base",
      "model_module_version": "1.2.0",
      "model_name": "LayoutModel",
      "state": {
       "_model_module": "@jupyter-widgets/base",
       "_model_module_version": "1.2.0",
       "_model_name": "LayoutModel",
       "_view_count": null,
       "_view_module": "@jupyter-widgets/base",
       "_view_module_version": "1.2.0",
       "_view_name": "LayoutView",
       "align_content": null,
       "align_items": null,
       "align_self": null,
       "border": null,
       "bottom": null,
       "display": null,
       "flex": null,
       "flex_flow": null,
       "grid_area": null,
       "grid_auto_columns": null,
       "grid_auto_flow": null,
       "grid_auto_rows": null,
       "grid_column": null,
       "grid_gap": null,
       "grid_row": null,
       "grid_template_areas": null,
       "grid_template_columns": null,
       "grid_template_rows": null,
       "height": null,
       "justify_content": null,
       "justify_items": null,
       "left": null,
       "margin": null,
       "max_height": null,
       "max_width": null,
       "min_height": null,
       "min_width": null,
       "object_fit": null,
       "object_position": null,
       "order": null,
       "overflow": null,
       "overflow_x": null,
       "overflow_y": null,
       "padding": null,
       "right": null,
       "top": null,
       "visibility": null,
       "width": null
      }
     },
     "9a3f02b3a4a740d4bcd15e9a4105c0b2": {
      "model_module": "@jupyter-widgets/controls",
      "model_module_version": "1.5.0",
      "model_name": "HTMLModel",
      "state": {
       "_dom_classes": [],
       "_model_module": "@jupyter-widgets/controls",
       "_model_module_version": "1.5.0",
       "_model_name": "HTMLModel",
       "_view_count": null,
       "_view_module": "@jupyter-widgets/controls",
       "_view_module_version": "1.5.0",
       "_view_name": "HTMLView",
       "description": "",
       "description_tooltip": null,
       "layout": "IPY_MODEL_92866dea9fc54139bf11068c96e5946f",
       "placeholder": "​",
       "style": "IPY_MODEL_4a1ac35ac8ce47d994536886ae8806a0",
       "value": "100%"
      }
     },
     "c8f4f845d89249a9a7a5845a5419b2d2": {
      "model_module": "@jupyter-widgets/controls",
      "model_module_version": "1.5.0",
      "model_name": "DescriptionStyleModel",
      "state": {
       "_model_module": "@jupyter-widgets/controls",
       "_model_module_version": "1.5.0",
       "_model_name": "DescriptionStyleModel",
       "_view_count": null,
       "_view_module": "@jupyter-widgets/base",
       "_view_module_version": "1.2.0",
       "_view_name": "StyleView",
       "description_width": ""
      }
     },
     "cc2fc92504204624b42e464d42751f99": {
      "model_module": "@jupyter-widgets/controls",
      "model_module_version": "1.5.0",
      "model_name": "FloatProgressModel",
      "state": {
       "_dom_classes": [],
       "_model_module": "@jupyter-widgets/controls",
       "_model_module_version": "1.5.0",
       "_model_name": "FloatProgressModel",
       "_view_count": null,
       "_view_module": "@jupyter-widgets/controls",
       "_view_module_version": "1.5.0",
       "_view_name": "ProgressView",
       "bar_style": "success",
       "description": "",
       "description_tooltip": null,
       "layout": "IPY_MODEL_05ad0f9c46114fb2b81bcb62ca7cb1fa",
       "max": 17.0,
       "min": 0.0,
       "orientation": "horizontal",
       "style": "IPY_MODEL_5c7a5fccc8c04e569899d18d0fec6bc5",
       "value": 17.0
      }
     }
    },
    "version_major": 2,
    "version_minor": 0
   }
  }
 },
 "nbformat": 4,
 "nbformat_minor": 5
}