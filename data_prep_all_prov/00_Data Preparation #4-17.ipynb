{
 "cells": [
  {
   "cell_type": "code",
   "execution_count": 1,
   "id": "ffb5ba16",
   "metadata": {
    "execution": {
     "iopub.execute_input": "2022-09-06T14:26:22.117644Z",
     "iopub.status.busy": "2022-09-06T14:26:22.117232Z",
     "iopub.status.idle": "2022-09-06T14:26:22.124698Z",
     "shell.execute_reply": "2022-09-06T14:26:22.124129Z"
    },
    "papermill": {
     "duration": 0.014109,
     "end_time": "2022-09-06T14:26:22.126535",
     "exception": false,
     "start_time": "2022-09-06T14:26:22.112426",
     "status": "completed"
    },
    "tags": [
     "parameters"
    ]
   },
   "outputs": [],
   "source": [
    "kdprov = '76'"
   ]
  },
  {
   "cell_type": "code",
   "execution_count": 2,
   "id": "0836e436",
   "metadata": {
    "execution": {
     "iopub.execute_input": "2022-09-06T14:26:22.134677Z",
     "iopub.status.busy": "2022-09-06T14:26:22.134423Z",
     "iopub.status.idle": "2022-09-06T14:26:22.137603Z",
     "shell.execute_reply": "2022-09-06T14:26:22.136890Z"
    },
    "papermill": {
     "duration": 0.008269,
     "end_time": "2022-09-06T14:26:22.139157",
     "exception": false,
     "start_time": "2022-09-06T14:26:22.130888",
     "status": "completed"
    },
    "tags": [
     "injected-parameters"
    ]
   },
   "outputs": [],
   "source": [
    "# Parameters\n",
    "kdprov = \"17\"\n"
   ]
  },
  {
   "cell_type": "code",
   "execution_count": 3,
   "id": "4e5d5de4",
   "metadata": {
    "execution": {
     "iopub.execute_input": "2022-09-06T14:26:22.144824Z",
     "iopub.status.busy": "2022-09-06T14:26:22.144599Z",
     "iopub.status.idle": "2022-09-06T14:26:23.390962Z",
     "shell.execute_reply": "2022-09-06T14:26:23.390099Z"
    },
    "papermill": {
     "duration": 1.251628,
     "end_time": "2022-09-06T14:26:23.392867",
     "exception": false,
     "start_time": "2022-09-06T14:26:22.141239",
     "status": "completed"
    },
    "tags": []
   },
   "outputs": [
    {
     "name": "stderr",
     "output_type": "stream",
     "text": [
      "/home/jupyter-peta_admin/.local/lib/python3.8/site-packages/geopandas/_compat.py:112: UserWarning: The Shapely GEOS version (3.10.2-CAPI-1.16.0) is incompatible with the GEOS version PyGEOS was compiled with (3.10.1-CAPI-1.16.0). Conversions between both will be slow.\n",
      "  warnings.warn(\n"
     ]
    }
   ],
   "source": [
    "import pandas as pd\n",
    "import numpy as np\n",
    "import math\n",
    "from matplotlib import pyplot as plt\n",
    "\n",
    "from dbfread import DBF\n",
    "from glob import glob\n",
    "from tqdm import tqdm\n",
    "import os \n",
    "\n",
    "import geopandas as gpd\n",
    "import rasterio\n",
    "import rasterio.features as features\n",
    "from rasterio.plot import show\n",
    "from shapely.geometry import Polygon\n",
    "\n",
    "from osgeo import ogr\n",
    "from osgeo import osr\n",
    "from osgeo import gdal\n",
    "\n",
    "import itertools\n",
    "import rasterio\n",
    "from shapely.geometry import box\n",
    "import geopandas as gpd\n",
    "from rasterio.enums import MergeAlg"
   ]
  },
  {
   "cell_type": "code",
   "execution_count": 4,
   "id": "04437906",
   "metadata": {
    "execution": {
     "iopub.execute_input": "2022-09-06T14:26:23.401933Z",
     "iopub.status.busy": "2022-09-06T14:26:23.401105Z",
     "iopub.status.idle": "2022-09-06T14:26:23.405842Z",
     "shell.execute_reply": "2022-09-06T14:26:23.404863Z"
    },
    "papermill": {
     "duration": 0.011122,
     "end_time": "2022-09-06T14:26:23.407724",
     "exception": false,
     "start_time": "2022-09-06T14:26:23.396602",
     "status": "completed"
    },
    "tags": []
   },
   "outputs": [],
   "source": [
    "from osgeo import gdal, ogr, osr"
   ]
  },
  {
   "cell_type": "code",
   "execution_count": 5,
   "id": "3af1816e",
   "metadata": {
    "execution": {
     "iopub.execute_input": "2022-09-06T14:26:23.413755Z",
     "iopub.status.busy": "2022-09-06T14:26:23.413468Z",
     "iopub.status.idle": "2022-09-06T14:26:25.658044Z",
     "shell.execute_reply": "2022-09-06T14:26:25.657034Z"
    },
    "papermill": {
     "duration": 2.250138,
     "end_time": "2022-09-06T14:26:25.660377",
     "exception": false,
     "start_time": "2022-09-06T14:26:23.410239",
     "status": "completed"
    },
    "tags": []
   },
   "outputs": [],
   "source": [
    "data_kab=gpd.read_file('data/input/Master_Data/kab_20201_byindo.gpkg').query('kdprov==@kdprov')"
   ]
  },
  {
   "cell_type": "code",
   "execution_count": 6,
   "id": "7d110dc2",
   "metadata": {
    "execution": {
     "iopub.execute_input": "2022-09-06T14:26:25.668981Z",
     "iopub.status.busy": "2022-09-06T14:26:25.668632Z",
     "iopub.status.idle": "2022-09-06T14:26:25.673248Z",
     "shell.execute_reply": "2022-09-06T14:26:25.672505Z"
    },
    "papermill": {
     "duration": 0.010587,
     "end_time": "2022-09-06T14:26:25.674894",
     "exception": false,
     "start_time": "2022-09-06T14:26:25.664307",
     "status": "completed"
    },
    "tags": []
   },
   "outputs": [],
   "source": [
    "from rasterio.mask import mask"
   ]
  },
  {
   "cell_type": "code",
   "execution_count": 7,
   "id": "f2b9709b",
   "metadata": {
    "execution": {
     "iopub.execute_input": "2022-09-06T14:26:25.681345Z",
     "iopub.status.busy": "2022-09-06T14:26:25.681102Z",
     "iopub.status.idle": "2022-09-06T14:26:26.934639Z",
     "shell.execute_reply": "2022-09-06T14:26:26.933833Z"
    },
    "papermill": {
     "duration": 1.259546,
     "end_time": "2022-09-06T14:26:26.937083",
     "exception": false,
     "start_time": "2022-09-06T14:26:25.677537",
     "status": "completed"
    },
    "tags": []
   },
   "outputs": [],
   "source": [
    "import json\n",
    "src  = rasterio.open('data/input/GHSL Data/2020/prov/2020_'+kdprov+'.tif')\n",
    "def getFeatures(gdf):\n",
    "    \"\"\"Function to parse features from GeoDataFrame in such a manner that rasterio wants them\"\"\"\n",
    "    return [json.loads(gdf.to_json())['features'][0]['geometry']]\n",
    "for i in data_kab.kdkab.unique():\n",
    "    df=data_kab.query('kdkab==@i').to_crs('ESRI:54009')\n",
    "    \n",
    "    coords = getFeatures(df)\n",
    "    clipped_array, clipped_transform = mask(dataset=src, shapes=coords, crop=True)\n",
    "\n",
    "    df = df.to_crs(src.crs)\n",
    "    out_meta = src.meta.copy()\n",
    "    out_meta.update({\"driver\": \"GTiff\",\n",
    "                 \"height\": clipped_array.shape[1],\n",
    "                 \"width\": clipped_array.shape[2],\n",
    "                 \"transform\": clipped_transform})\n",
    "    out_tif= 'data/input/GHSL Data/2020/prov/2020_'+kdprov+'_'+i+'.tif'\n",
    "    with rasterio.open(out_tif, \"w\", **out_meta) as dest:\n",
    "        dest.write(clipped_array)"
   ]
  },
  {
   "cell_type": "code",
   "execution_count": 8,
   "id": "0bcc9ed8",
   "metadata": {
    "execution": {
     "iopub.execute_input": "2022-09-06T14:26:26.946669Z",
     "iopub.status.busy": "2022-09-06T14:26:26.946015Z",
     "iopub.status.idle": "2022-09-06T14:26:26.952548Z",
     "shell.execute_reply": "2022-09-06T14:26:26.951999Z"
    },
    "papermill": {
     "duration": 0.012114,
     "end_time": "2022-09-06T14:26:26.954247",
     "exception": false,
     "start_time": "2022-09-06T14:26:26.942133",
     "status": "completed"
    },
    "tags": []
   },
   "outputs": [],
   "source": [
    "def ghsl_kab_convert(dt):\n",
    "    with rasterio.open(dt) as dataset:\n",
    "        data = dataset.read(1)\n",
    "\n",
    "        t = dataset.transform\n",
    "\n",
    "        move_x = t[0]\n",
    "        move_y = t[4]\n",
    "\n",
    "        height = dataset.height\n",
    "        width = dataset.width \n",
    "\n",
    "        polygons = []\n",
    "        indices = list(itertools.product(range(width), range(height)))\n",
    "        data_list = []\n",
    "    \n",
    "        for x,y in indices:\n",
    "            x_min, y_max = t * (x,y)\n",
    "            x_max = x_min + move_x\n",
    "            y_min = y_max + move_y\n",
    "            polygons.append(box(x_min, y_min, x_max, y_max))\n",
    "            data_list.append(data[y,x])\n",
    "    gdf = gpd.GeoDataFrame(data=data_list, geometry=polygons, columns=['value'])\n",
    "    kdkab=dt.split('_')[2].replace('.tif','')\n",
    "    gdf.query('(value>=0)and(value<=10000)').to_file(\"data/input/GHSL Data/2020/gpkg/ghs_built_\"+kdprov+kdkab+\"_nonzero.shp\")"
   ]
  },
  {
   "cell_type": "code",
   "execution_count": 9,
   "id": "658e96d1",
   "metadata": {
    "execution": {
     "iopub.execute_input": "2022-09-06T14:26:26.961208Z",
     "iopub.status.busy": "2022-09-06T14:26:26.960544Z",
     "iopub.status.idle": "2022-09-06T14:29:32.432552Z",
     "shell.execute_reply": "2022-09-06T14:29:32.431607Z"
    },
    "papermill": {
     "duration": 185.477804,
     "end_time": "2022-09-06T14:29:32.434665",
     "exception": false,
     "start_time": "2022-09-06T14:26:26.956861",
     "status": "completed"
    },
    "tags": []
   },
   "outputs": [
    {
     "data": {
      "application/vnd.jupyter.widget-view+json": {
       "model_id": "533c0fa0451a42c98510fd3b7607d231",
       "version_major": 2,
       "version_minor": 0
      },
      "text/plain": [
       "  0%|          | 0/10 [00:00<?, ?it/s]"
      ]
     },
     "metadata": {},
     "output_type": "display_data"
    },
    {
     "data": {
      "text/plain": [
       "[None, None, None, None, None, None, None, None, None, None]"
      ]
     },
     "execution_count": 9,
     "metadata": {},
     "output_type": "execute_result"
    }
   ],
   "source": [
    "import itertools\n",
    "import rasterio\n",
    "from shapely.geometry import box\n",
    "import geopandas as gpd\n",
    "from glob import glob as glob\n",
    "from tqdm.contrib.concurrent import process_map\n",
    "\n",
    "data_rasterio_kab=glob('data/input/GHSL Data/2020/prov/2020_'+kdprov+'_*.tif')\n",
    "process_map(ghsl_kab_convert,data_rasterio_kab)   "
   ]
  },
  {
   "cell_type": "code",
   "execution_count": 10,
   "id": "f0acd561",
   "metadata": {
    "execution": {
     "iopub.execute_input": "2022-09-06T14:29:32.445502Z",
     "iopub.status.busy": "2022-09-06T14:29:32.445185Z",
     "iopub.status.idle": "2022-09-06T14:29:48.703187Z",
     "shell.execute_reply": "2022-09-06T14:29:48.702248Z"
    },
    "papermill": {
     "duration": 16.266108,
     "end_time": "2022-09-06T14:29:48.705476",
     "exception": false,
     "start_time": "2022-09-06T14:29:32.439368",
     "status": "completed"
    },
    "tags": []
   },
   "outputs": [],
   "source": [
    "# import gpkg desa & filter\n",
    "\n",
    "vector = gpd.read_file(r\"data/input/Master_Data/DESA_20201_BYINDO.gpkg\").query('kdprov==@kdprov').to_crs(\"ESRI:54009\")\n",
    "raster = rasterio.open(r\"/vsigs/bps-gcp-bucket/Degree of Urbanisation/GHSL data/2020/prov/2020_\"+kdprov+\".tif\")\n",
    "geom = [shapes for shapes in vector.geometry]\n",
    "# vector['iddesa'] = vector.iddesa.astype(np.int32)\n",
    "vector['id'] = range(0,len(vector))"
   ]
  },
  {
   "cell_type": "code",
   "execution_count": 11,
   "id": "88c8092e",
   "metadata": {
    "execution": {
     "iopub.execute_input": "2022-09-06T14:29:48.714628Z",
     "iopub.status.busy": "2022-09-06T14:29:48.714340Z",
     "iopub.status.idle": "2022-09-06T14:29:48.811507Z",
     "shell.execute_reply": "2022-09-06T14:29:48.810847Z"
    },
    "papermill": {
     "duration": 0.103702,
     "end_time": "2022-09-06T14:29:48.813581",
     "exception": false,
     "start_time": "2022-09-06T14:29:48.709879",
     "status": "completed"
    },
    "tags": []
   },
   "outputs": [],
   "source": [
    "vector['geometry']=vector.geometry.buffer(0)"
   ]
  },
  {
   "cell_type": "code",
   "execution_count": 12,
   "id": "0f3b6d12",
   "metadata": {
    "execution": {
     "iopub.execute_input": "2022-09-06T14:29:48.823002Z",
     "iopub.status.busy": "2022-09-06T14:29:48.822728Z",
     "iopub.status.idle": "2022-09-06T14:29:50.390220Z",
     "shell.execute_reply": "2022-09-06T14:29:50.389535Z"
    },
    "papermill": {
     "duration": 1.573878,
     "end_time": "2022-09-06T14:29:50.391911",
     "exception": false,
     "start_time": "2022-09-06T14:29:48.818033",
     "status": "completed"
    },
    "tags": []
   },
   "outputs": [
    {
     "data": {
      "text/plain": [
       "<AxesSubplot:>"
      ]
     },
     "execution_count": 12,
     "metadata": {},
     "output_type": "execute_result"
    },
    {
     "data": {
      "image/png": "[encoded data removed]",
      "text/plain": [
       "<Figure size 720x720 with 1 Axes>"
      ]
     },
     "metadata": {
      "needs_background": "light"
     },
     "output_type": "display_data"
    }
   ],
   "source": [
    "# create tuples of geometry, value pairs, where value is the attribute value you want to burn\n",
    "geom_value = ((geom,value) for geom, value in zip(vector.geometry, vector['id']))\n",
    "# Rasterize vector using the shape and transform of the raster\n",
    "#rasterized = features.rasterize(geom_value,\n",
    "#                                out_shape = raster.shape,\n",
    "#                                fill = -5,\n",
    "#                                out = None,\n",
    "#                                transform = raster.transform,\n",
    "#                                all_touched = False,\n",
    "#                                default_value = 1,\n",
    "#                                dtype = np.int32)\n",
    "\n",
    "rasterized = features.rasterize(geom_value,\n",
    "                                out_shape = raster.shape,\n",
    "                                transform = raster.transform,\n",
    "                                all_touched = True,\n",
    "                                fill = -5,   # background value\n",
    "                                default_value = 1,\n",
    "                                dtype = np.float64)\n",
    "\n",
    "# Plot raster\n",
    "fig, ax = plt.subplots(1, figsize = (10, 10))\n",
    "show(rasterized, ax = ax)\n",
    "#plt.gca().invert_yaxis()"
   ]
  },
  {
   "cell_type": "code",
   "execution_count": 13,
   "id": "fd43450d",
   "metadata": {
    "execution": {
     "iopub.execute_input": "2022-09-06T14:29:50.403062Z",
     "iopub.status.busy": "2022-09-06T14:29:50.402200Z",
     "iopub.status.idle": "2022-09-06T14:29:52.110461Z",
     "shell.execute_reply": "2022-09-06T14:29:52.109652Z"
    },
    "papermill": {
     "duration": 1.715388,
     "end_time": "2022-09-06T14:29:52.112479",
     "exception": false,
     "start_time": "2022-09-06T14:29:50.397091",
     "status": "completed"
    },
    "tags": []
   },
   "outputs": [],
   "source": [
    "# rasterization polygon desa\n",
    "\n",
    "with rasterio.open(\n",
    "        \"data/temp/rasterized_vector.tif\", \"w\",\n",
    "        driver = \"GTiff\",\n",
    "        transform = raster.transform,\n",
    "        dtype = rasterio.float64,\n",
    "        count = 1,\n",
    "        width = raster.width,\n",
    "        height = raster.height) as dst:\n",
    "    dst.write(rasterized, indexes = 1)\n",
    "\n",
    "# polygonize polygon desa\n",
    "\n",
    "raster_src = gdal.Open(r'data/temp/rasterized_vector.tif')\n",
    "band = raster_src.GetRasterBand(1) \n",
    "\n",
    "drv = ogr.GetDriverByName('ESRI Shapefile')\n",
    "outfile = drv.CreateDataSource(r'data/temp/polygonizedRaster.shp') \n",
    "outlayer = outfile.CreateLayer('polygonized raster', srs = None )\n",
    "newField = ogr.FieldDefn('DN', ogr.OFTReal)\n",
    "outlayer.CreateField(newField)\n",
    "\n",
    "gdal.Polygonize(band, None, outlayer, 0, [])\n",
    "outfile = None\n",
    "\n",
    "raster = None\n",
    "raster_src = None\n",
    "\n",
    "desa = gpd.read_file(r'data/temp/polygonizedRaster.shp')\n",
    "desa = desa.merge(vector[['id','iddesa']], \n",
    "                                 left_on = \"DN\", right_on = \"id\", how=\"left\").dissolve(by=\"iddesa\").reset_index()\n",
    "desa.crs='ESRI:54009'\n",
    "desa.to_file(\"data/input/desa_rasterize_\"+kdprov+\".gpkg\", driver=\"GPKG\")"
   ]
  },
  {
   "cell_type": "code",
   "execution_count": 14,
   "id": "f7a14593",
   "metadata": {
    "execution": {
     "iopub.execute_input": "2022-09-06T14:29:52.122951Z",
     "iopub.status.busy": "2022-09-06T14:29:52.122388Z",
     "iopub.status.idle": "2022-09-06T14:29:52.757999Z",
     "shell.execute_reply": "2022-09-06T14:29:52.757250Z"
    },
    "papermill": {
     "duration": 0.642314,
     "end_time": "2022-09-06T14:29:52.760200",
     "exception": false,
     "start_time": "2022-09-06T14:29:52.117886",
     "status": "completed"
    },
    "tags": []
   },
   "outputs": [],
   "source": [
    "# import ruta\n",
    "\n",
    "data_ruta=pd.read_csv('data/input/Master_Data/pop_desa_rev.csv',sep=',')\n",
    "data_ruta.iddesa=data_ruta.iddesa.astype(str)\n",
    "#data_ruta['iddesa'] = [x[0:10] for x in data_ruta.KODE_SLS]\n",
    "data_ruta['idprov'] = [x[0:2] for x in data_ruta.iddesa]\n",
    "\n",
    "data_ruta = data_ruta.loc[data_ruta.idprov.isin([kdprov])]\n",
    "\n",
    "# join penduduk & polygon desa\n",
    "\n",
    "data_ruta_desa = pd.DataFrame(data_ruta.groupby(\"iddesa\").pop2020.sum()).reset_index()\n",
    "desa = desa.merge(data_ruta_desa, how=\"left\").fillna(0)\n",
    "desa.set_crs('ESRI:54009').to_file(\"data/output/0_raster_data_desa/desa_pend_rasterize_\"+kdprov+\".gpkg\", driver=\"GPKG\")"
   ]
  },
  {
   "cell_type": "code",
   "execution_count": 15,
   "id": "a0761d29",
   "metadata": {
    "execution": {
     "iopub.execute_input": "2022-09-06T14:29:52.770828Z",
     "iopub.status.busy": "2022-09-06T14:29:52.770553Z",
     "iopub.status.idle": "2022-09-06T14:29:52.778426Z",
     "shell.execute_reply": "2022-09-06T14:29:52.777765Z"
    },
    "papermill": {
     "duration": 0.014915,
     "end_time": "2022-09-06T14:29:52.780033",
     "exception": false,
     "start_time": "2022-09-06T14:29:52.765118",
     "status": "completed"
    },
    "scrolled": true,
    "tags": []
   },
   "outputs": [
    {
     "name": "stdout",
     "output_type": "stream",
     "text": [
      "Ada di Peta. tidak di Hasil SP : 13\n",
      "Ada di Hasil SP. tidak di Peta : 2\n"
     ]
    }
   ],
   "source": [
    "print(\"Ada di Peta. tidak di Hasil SP : \"+str(desa[~desa.iddesa.isin(data_ruta.iddesa)].shape[0]))\n",
    "print(\"Ada di Hasil SP. tidak di Peta : \"+str(data_ruta[~data_ruta.iddesa.isin(desa.iddesa)].shape[0]))"
   ]
  },
  {
   "cell_type": "code",
   "execution_count": 16,
   "id": "8173d01c",
   "metadata": {
    "execution": {
     "iopub.execute_input": "2022-09-06T14:29:52.788545Z",
     "iopub.status.busy": "2022-09-06T14:29:52.788315Z",
     "iopub.status.idle": "2022-09-06T14:29:52.797441Z",
     "shell.execute_reply": "2022-09-06T14:29:52.796886Z"
    },
    "papermill": {
     "duration": 0.015179,
     "end_time": "2022-09-06T14:29:52.798830",
     "exception": false,
     "start_time": "2022-09-06T14:29:52.783651",
     "status": "completed"
    },
    "tags": []
   },
   "outputs": [
    {
     "data": {
      "text/html": [
       "<div>\n",
       "<style scoped>\n",
       "    .dataframe tbody tr th:only-of-type {\n",
       "        vertical-align: middle;\n",
       "    }\n",
       "\n",
       "    .dataframe tbody tr th {\n",
       "        vertical-align: top;\n",
       "    }\n",
       "\n",
       "    .dataframe thead th {\n",
       "        text-align: right;\n",
       "    }\n",
       "</style>\n",
       "<table border=\"1\" class=\"dataframe\">\n",
       "  <thead>\n",
       "    <tr style=\"text-align: right;\">\n",
       "      <th></th>\n",
       "      <th>Unnamed: 0</th>\n",
       "      <th>iddesa</th>\n",
       "      <th>pop2020</th>\n",
       "      <th>idprov</th>\n",
       "    </tr>\n",
       "  </thead>\n",
       "  <tbody>\n",
       "    <tr>\n",
       "      <th>21101</th>\n",
       "      <td>21101</td>\n",
       "      <td>1704030014</td>\n",
       "      <td>973</td>\n",
       "      <td>17</td>\n",
       "    </tr>\n",
       "    <tr>\n",
       "      <th>22042</th>\n",
       "      <td>22042</td>\n",
       "      <td>1774042010</td>\n",
       "      <td>2121</td>\n",
       "      <td>17</td>\n",
       "    </tr>\n",
       "  </tbody>\n",
       "</table>\n",
       "</div>"
      ],
      "text/plain": [
       "       Unnamed: 0      iddesa  pop2020 idprov\n",
       "21101       21101  1704030014      973     17\n",
       "22042       22042  1774042010     2121     17"
      ]
     },
     "execution_count": 16,
     "metadata": {},
     "output_type": "execute_result"
    }
   ],
   "source": [
    "data_ruta[~data_ruta.iddesa.isin(desa.iddesa)]"
   ]
  }
 ],
 "metadata": {
  "celltoolbar": "Tags",
  "kernelspec": {
   "display_name": "Python 3 (ipykernel)",
   "language": "python",
   "name": "python3"
  },
  "language_info": {
   "codemirror_mode": {
    "name": "ipython",
    "version": 3
   },
   "file_extension": ".py",
   "mimetype": "text/x-python",
   "name": "python",
   "nbconvert_exporter": "python",
   "pygments_lexer": "ipython3",
   "version": "3.8.12"
  },
  "papermill": {
   "default_parameters": {},
   "duration": 212.182212,
   "end_time": "2022-09-06T14:29:53.322032",
   "environment_variables": {},
   "exception": null,
   "input_path": "00_Data Preparation #4 Rasterize Village Map.ipynb",
   "output_path": "00_Data Preparation #4-17.ipynb",
   "parameters": {
    "kdprov": "17"
   },
   "start_time": "2022-09-06T14:26:21.139820",
   "version": "2.3.4"
  },
  "widgets": {
   "application/vnd.jupyter.widget-state+json": {
    "state": {
     "27612cf8f46d471095f2a9ef63de4e6c": {
      "model_module": "@jupyter-widgets/controls",
      "model_module_version": "1.5.0",
      "model_name": "DescriptionStyleModel",
      "state": {
       "_model_module": "@jupyter-widgets/controls",
       "_model_module_version": "1.5.0",
       "_model_name": "DescriptionStyleModel",
       "_view_count": null,
       "_view_module": "@jupyter-widgets/base",
       "_view_module_version": "1.2.0",
       "_view_name": "StyleView",
       "description_width": ""
      }
     },
     "533c0fa0451a42c98510fd3b7607d231": {
      "model_module": "@jupyter-widgets/controls",
      "model_module_version": "1.5.0",
      "model_name": "HBoxModel",
      "state": {
       "_dom_classes": [],
       "_model_module": "@jupyter-widgets/controls",
       "_model_module_version": "1.5.0",
       "_model_name": "HBoxModel",
       "_view_count": null,
       "_view_module": "@jupyter-widgets/controls",
       "_view_module_version": "1.5.0",
       "_view_name": "HBoxView",
       "box_style": "",
       "children": [
        "IPY_MODEL_f5fddd0a41f04f61b8188c09b3518cd8",
        "IPY_MODEL_ff99820d101a48d4bdb15555c4fba9d0",
        "IPY_MODEL_5611835b05c840a5bff1ab39c3c0e14b"
       ],
       "layout": "IPY_MODEL_c94c720295d543c49333d85d736c0e9d"
      }
     },
     "5611835b05c840a5bff1ab39c3c0e14b": {
      "model_module": "@jupyter-widgets/controls",
      "model_module_version": "1.5.0",
      "model_name": "HTMLModel",
      "state": {
       "_dom_classes": [],
       "_model_module": "@jupyter-widgets/controls",
       "_model_module_version": "1.5.0",
       "_model_name": "HTMLModel",
       "_view_count": null,
       "_view_module": "@jupyter-widgets/controls",
       "_view_module_version": "1.5.0",
       "_view_name": "HTMLView",
       "description": "",
       "description_tooltip": null,
       "layout": "IPY_MODEL_b78f121b3e314c3f98fa0ca4675ed527",
       "placeholder": "​",
       "style": "IPY_MODEL_6866ca8c1e45492394cabd96a0eb78d2",
       "value": " 10/10 [03:04&lt;00:00, 184.69s/it]"
      }
     },
     "5703fdd0447b4975a4abc517be4a842d": {
      "model_module": "@jupyter-widgets/controls",
      "model_module_version": "1.5.0",
      "model_name": "ProgressStyleModel",
      "state": {
       "_model_module": "@jupyter-widgets/controls",
       "_model_module_version": "1.5.0",
       "_model_name": "ProgressStyleModel",
       "_view_count": null,
       "_view_module": "@jupyter-widgets/base",
       "_view_module_version": "1.2.0",
       "_view_name": "StyleView",
       "bar_color": null,
       "description_width": ""
      }
     },
     "59e763ced5084764b0922c04669974af": {
      "model_module": "@jupyter-widgets/base",
      "model_module_version": "1.2.0",
      "model_name": "LayoutModel",
      "state": {
       "_model_module": "@jupyter-widgets/base",
       "_model_module_version": "1.2.0",
       "_model_name": "LayoutModel",
       "_view_count": null,
       "_view_module": "@jupyter-widgets/base",
       "_view_module_version": "1.2.0",
       "_view_name": "LayoutView",
       "align_content": null,
       "align_items": null,
       "align_self": null,
       "border": null,
       "bottom": null,
       "display": null,
       "flex": null,
       "flex_flow": null,
       "grid_area": null,
       "grid_auto_columns": null,
       "grid_auto_flow": null,
       "grid_auto_rows": null,
       "grid_column": null,
       "grid_gap": null,
       "grid_row": null,
       "grid_template_areas": null,
       "grid_template_columns": null,
       "grid_template_rows": null,
       "height": null,
       "justify_content": null,
       "justify_items": null,
       "left": null,
       "margin": null,
       "max_height": null,
       "max_width": null,
       "min_height": null,
       "min_width": null,
       "object_fit": null,
       "object_position": null,
       "order": null,
       "overflow": null,
       "overflow_x": null,
       "overflow_y": null,
       "padding": null,
       "right": null,
       "top": null,
       "visibility": null,
       "width": null
      }
     },
     "6866ca8c1e45492394cabd96a0eb78d2": {
      "model_module": "@jupyter-widgets/controls",
      "model_module_version": "1.5.0",
      "model_name": "DescriptionStyleModel",
      "state": {
       "_model_module": "@jupyter-widgets/controls",
       "_model_module_version": "1.5.0",
       "_model_name": "DescriptionStyleModel",
       "_view_count": null,
       "_view_module": "@jupyter-widgets/base",
       "_view_module_version": "1.2.0",
       "_view_name": "StyleView",
       "description_width": ""
      }
     },
     "92307119be38488095f9a10045e158b8": {
      "model_module": "@jupyter-widgets/base",
      "model_module_version": "1.2.0",
      "model_name": "LayoutModel",
      "state": {
       "_model_module": "@jupyter-widgets/base",
       "_model_module_version": "1.2.0",
       "_model_name": "LayoutModel",
       "_view_count": null,
       "_view_module": "@jupyter-widgets/base",
       "_view_module_version": "1.2.0",
       "_view_name": "LayoutView",
       "align_content": null,
       "align_items": null,
       "align_self": null,
       "border": null,
       "bottom": null,
       "display": null,
       "flex": null,
       "flex_flow": null,
       "grid_area": null,
       "grid_auto_columns": null,
       "grid_auto_flow": null,
       "grid_auto_rows": null,
       "grid_column": null,
       "grid_gap": null,
       "grid_row": null,
       "grid_template_areas": null,
       "grid_template_columns": null,
       "grid_template_rows": null,
       "height": null,
       "justify_content": null,
       "justify_items": null,
       "left": null,
       "margin": null,
       "max_height": null,
       "max_width": null,
       "min_height": null,
       "min_width": null,
       "object_fit": null,
       "object_position": null,
       "order": null,
       "overflow": null,
       "overflow_x": null,
       "overflow_y": null,
       "padding": null,
       "right": null,
       "top": null,
       "visibility": null,
       "width": null
      }
     },
     "b78f121b3e314c3f98fa0ca4675ed527": {
      "model_module": "@jupyter-widgets/base",
      "model_module_version": "1.2.0",
      "model_name": "LayoutModel",
      "state": {
       "_model_module": "@jupyter-widgets/base",
       "_model_module_version": "1.2.0",
       "_model_name": "LayoutModel",
       "_view_count": null,
       "_view_module": "@jupyter-widgets/base",
       "_view_module_version": "1.2.0",
       "_view_name": "LayoutView",
       "align_content": null,
       "align_items": null,
       "align_self": null,
       "border": null,
       "bottom": null,
       "display": null,
       "flex": null,
       "flex_flow": null,
       "grid_area": null,
       "grid_auto_columns": null,
       "grid_auto_flow": null,
       "grid_auto_rows": null,
       "grid_column": null,
       "grid_gap": null,
       "grid_row": null,
       "grid_template_areas": null,
       "grid_template_columns": null,
       "grid_template_rows": null,
       "height": null,
       "justify_content": null,
       "justify_items": null,
       "left": null,
       "margin": null,
       "max_height": null,
       "max_width": null,
       "min_height": null,
       "min_width": null,
       "object_fit": null,
       "object_position": null,
       "order": null,
       "overflow": null,
       "overflow_x": null,
       "overflow_y": null,
       "padding": null,
       "right": null,
       "top": null,
       "visibility": null,
       "width": null
      }
     },
     "c94c720295d543c49333d85d736c0e9d": {
      "model_module": "@jupyter-widgets/base",
      "model_module_version": "1.2.0",
      "model_name": "LayoutModel",
      "state": {
       "_model_module": "@jupyter-widgets/base",
       "_model_module_version": "1.2.0",
       "_model_name": "LayoutModel",
       "_view_count": null,
       "_view_module": "@jupyter-widgets/base",
       "_view_module_version": "1.2.0",
       "_view_name": "LayoutView",
       "align_content": null,
       "align_items": null,
       "align_self": null,
       "border": null,
       "bottom": null,
       "display": null,
       "flex": null,
       "flex_flow": null,
       "grid_area": null,
       "grid_auto_columns": null,
       "grid_auto_flow": null,
       "grid_auto_rows": null,
       "grid_column": null,
       "grid_gap": null,
       "grid_row": null,
       "grid_template_areas": null,
       "grid_template_columns": null,
       "grid_template_rows": null,
       "height": null,
       "justify_content": null,
       "justify_items": null,
       "left": null,
       "margin": null,
       "max_height": null,
       "max_width": null,
       "min_height": null,
       "min_width": null,
       "object_fit": null,
       "object_position": null,
       "order": null,
       "overflow": null,
       "overflow_x": null,
       "overflow_y": null,
       "padding": null,
       "right": null,
       "top": null,
       "visibility": null,
       "width": null
      }
     },
     "f5fddd0a41f04f61b8188c09b3518cd8": {
      "model_module": "@jupyter-widgets/controls",
      "model_module_version": "1.5.0",
      "model_name": "HTMLModel",
      "state": {
       "_dom_classes": [],
       "_model_module": "@jupyter-widgets/controls",
       "_model_module_version": "1.5.0",
       "_model_name": "HTMLModel",
       "_view_count": null,
       "_view_module": "@jupyter-widgets/controls",
       "_view_module_version": "1.5.0",
       "_view_name": "HTMLView",
       "description": "",
       "description_tooltip": null,
       "layout": "IPY_MODEL_92307119be38488095f9a10045e158b8",
       "placeholder": "​",
       "style": "IPY_MODEL_27612cf8f46d471095f2a9ef63de4e6c",
       "value": "100%"
      }
     },
     "ff99820d101a48d4bdb15555c4fba9d0": {
      "model_module": "@jupyter-widgets/controls",
      "model_module_version": "1.5.0",
      "model_name": "FloatProgressModel",
      "state": {
       "_dom_classes": [],
       "_model_module": "@jupyter-widgets/controls",
       "_model_module_version": "1.5.0",
       "_model_name": "FloatProgressModel",
       "_view_count": null,
       "_view_module": "@jupyter-widgets/controls",
       "_view_module_version": "1.5.0",
       "_view_name": "ProgressView",
       "bar_style": "success",
       "description": "",
       "description_tooltip": null,
       "layout": "IPY_MODEL_59e763ced5084764b0922c04669974af",
       "max": 10.0,
       "min": 0.0,
       "orientation": "horizontal",
       "style": "IPY_MODEL_5703fdd0447b4975a4abc517be4a842d",
       "value": 10.0
      }
     }
    },
    "version_major": 2,
    "version_minor": 0
   }
  }
 },
 "nbformat": 4,
 "nbformat_minor": 5
}