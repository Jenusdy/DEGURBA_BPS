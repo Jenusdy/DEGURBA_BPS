{
 "cells": [
  {
   "cell_type": "code",
   "execution_count": 1,
   "id": "ffb5ba16",
   "metadata": {
    "execution": {
     "iopub.execute_input": "2022-09-06T14:34:40.730985Z",
     "iopub.status.busy": "2022-09-06T14:34:40.730075Z",
     "iopub.status.idle": "2022-09-06T14:34:40.738358Z",
     "shell.execute_reply": "2022-09-06T14:34:40.737683Z"
    },
    "papermill": {
     "duration": 0.015016,
     "end_time": "2022-09-06T14:34:40.740225",
     "exception": false,
     "start_time": "2022-09-06T14:34:40.725209",
     "status": "completed"
    },
    "tags": [
     "parameters"
    ]
   },
   "outputs": [],
   "source": [
    "kdprov = '76'"
   ]
  },
  {
   "cell_type": "code",
   "execution_count": 2,
   "id": "1acfeeca",
   "metadata": {
    "execution": {
     "iopub.execute_input": "2022-09-06T14:34:40.750091Z",
     "iopub.status.busy": "2022-09-06T14:34:40.749581Z",
     "iopub.status.idle": "2022-09-06T14:34:40.753193Z",
     "shell.execute_reply": "2022-09-06T14:34:40.752564Z"
    },
    "papermill": {
     "duration": 0.008879,
     "end_time": "2022-09-06T14:34:40.754819",
     "exception": false,
     "start_time": "2022-09-06T14:34:40.745940",
     "status": "completed"
    },
    "tags": [
     "injected-parameters"
    ]
   },
   "outputs": [],
   "source": [
    "# Parameters\n",
    "kdprov = \"21\"\n"
   ]
  },
  {
   "cell_type": "code",
   "execution_count": 3,
   "id": "4e5d5de4",
   "metadata": {
    "execution": {
     "iopub.execute_input": "2022-09-06T14:34:40.760899Z",
     "iopub.status.busy": "2022-09-06T14:34:40.760508Z",
     "iopub.status.idle": "2022-09-06T14:34:42.040556Z",
     "shell.execute_reply": "2022-09-06T14:34:42.039740Z"
    },
    "papermill": {
     "duration": 1.285669,
     "end_time": "2022-09-06T14:34:42.042740",
     "exception": false,
     "start_time": "2022-09-06T14:34:40.757071",
     "status": "completed"
    },
    "tags": []
   },
   "outputs": [
    {
     "name": "stderr",
     "output_type": "stream",
     "text": [
      "/home/jupyter-peta_admin/.local/lib/python3.8/site-packages/geopandas/_compat.py:112: UserWarning: The Shapely GEOS version (3.10.2-CAPI-1.16.0) is incompatible with the GEOS version PyGEOS was compiled with (3.10.1-CAPI-1.16.0). Conversions between both will be slow.\n",
      "  warnings.warn(\n"
     ]
    }
   ],
   "source": [
    "import pandas as pd\n",
    "import numpy as np\n",
    "import math\n",
    "from matplotlib import pyplot as plt\n",
    "\n",
    "from dbfread import DBF\n",
    "from glob import glob\n",
    "from tqdm import tqdm\n",
    "import os \n",
    "\n",
    "import geopandas as gpd\n",
    "import rasterio\n",
    "import rasterio.features as features\n",
    "from rasterio.plot import show\n",
    "from shapely.geometry import Polygon\n",
    "\n",
    "from osgeo import ogr\n",
    "from osgeo import osr\n",
    "from osgeo import gdal\n",
    "\n",
    "import itertools\n",
    "import rasterio\n",
    "from shapely.geometry import box\n",
    "import geopandas as gpd\n",
    "from rasterio.enums import MergeAlg"
   ]
  },
  {
   "cell_type": "code",
   "execution_count": 4,
   "id": "04437906",
   "metadata": {
    "execution": {
     "iopub.execute_input": "2022-09-06T14:34:42.051547Z",
     "iopub.status.busy": "2022-09-06T14:34:42.050776Z",
     "iopub.status.idle": "2022-09-06T14:34:42.055193Z",
     "shell.execute_reply": "2022-09-06T14:34:42.054478Z"
    },
    "papermill": {
     "duration": 0.010428,
     "end_time": "2022-09-06T14:34:42.056970",
     "exception": false,
     "start_time": "2022-09-06T14:34:42.046542",
     "status": "completed"
    },
    "tags": []
   },
   "outputs": [],
   "source": [
    "from osgeo import gdal, ogr, osr"
   ]
  },
  {
   "cell_type": "code",
   "execution_count": 5,
   "id": "3af1816e",
   "metadata": {
    "execution": {
     "iopub.execute_input": "2022-09-06T14:34:42.063547Z",
     "iopub.status.busy": "2022-09-06T14:34:42.063142Z",
     "iopub.status.idle": "2022-09-06T14:34:44.284667Z",
     "shell.execute_reply": "2022-09-06T14:34:44.283946Z"
    },
    "papermill": {
     "duration": 2.227227,
     "end_time": "2022-09-06T14:34:44.286907",
     "exception": false,
     "start_time": "2022-09-06T14:34:42.059680",
     "status": "completed"
    },
    "tags": []
   },
   "outputs": [],
   "source": [
    "data_kab=gpd.read_file('data/input/Master_Data/kab_20201_byindo.gpkg').query('kdprov==@kdprov')"
   ]
  },
  {
   "cell_type": "code",
   "execution_count": 6,
   "id": "7d110dc2",
   "metadata": {
    "execution": {
     "iopub.execute_input": "2022-09-06T14:34:44.296388Z",
     "iopub.status.busy": "2022-09-06T14:34:44.295703Z",
     "iopub.status.idle": "2022-09-06T14:34:44.300344Z",
     "shell.execute_reply": "2022-09-06T14:34:44.299579Z"
    },
    "papermill": {
     "duration": 0.010211,
     "end_time": "2022-09-06T14:34:44.301996",
     "exception": false,
     "start_time": "2022-09-06T14:34:44.291785",
     "status": "completed"
    },
    "tags": []
   },
   "outputs": [],
   "source": [
    "from rasterio.mask import mask"
   ]
  },
  {
   "cell_type": "code",
   "execution_count": 7,
   "id": "f2b9709b",
   "metadata": {
    "execution": {
     "iopub.execute_input": "2022-09-06T14:34:44.308441Z",
     "iopub.status.busy": "2022-09-06T14:34:44.307897Z",
     "iopub.status.idle": "2022-09-06T14:34:46.693759Z",
     "shell.execute_reply": "2022-09-06T14:34:46.692844Z"
    },
    "papermill": {
     "duration": 2.391621,
     "end_time": "2022-09-06T14:34:46.696123",
     "exception": false,
     "start_time": "2022-09-06T14:34:44.304502",
     "status": "completed"
    },
    "tags": []
   },
   "outputs": [],
   "source": [
    "import json\n",
    "src  = rasterio.open('data/input/GHSL Data/2020/prov/2020_'+kdprov+'.tif')\n",
    "def getFeatures(gdf):\n",
    "    \"\"\"Function to parse features from GeoDataFrame in such a manner that rasterio wants them\"\"\"\n",
    "    return [json.loads(gdf.to_json())['features'][0]['geometry']]\n",
    "for i in data_kab.kdkab.unique():\n",
    "    df=data_kab.query('kdkab==@i').to_crs('ESRI:54009')\n",
    "    \n",
    "    coords = getFeatures(df)\n",
    "    clipped_array, clipped_transform = mask(dataset=src, shapes=coords, crop=True)\n",
    "\n",
    "    df = df.to_crs(src.crs)\n",
    "    out_meta = src.meta.copy()\n",
    "    out_meta.update({\"driver\": \"GTiff\",\n",
    "                 \"height\": clipped_array.shape[1],\n",
    "                 \"width\": clipped_array.shape[2],\n",
    "                 \"transform\": clipped_transform})\n",
    "    out_tif= 'data/input/GHSL Data/2020/prov/2020_'+kdprov+'_'+i+'.tif'\n",
    "    with rasterio.open(out_tif, \"w\", **out_meta) as dest:\n",
    "        dest.write(clipped_array)"
   ]
  },
  {
   "cell_type": "code",
   "execution_count": 8,
   "id": "0bcc9ed8",
   "metadata": {
    "execution": {
     "iopub.execute_input": "2022-09-06T14:34:46.705160Z",
     "iopub.status.busy": "2022-09-06T14:34:46.704885Z",
     "iopub.status.idle": "2022-09-06T14:34:46.711172Z",
     "shell.execute_reply": "2022-09-06T14:34:46.710437Z"
    },
    "papermill": {
     "duration": 0.012078,
     "end_time": "2022-09-06T14:34:46.712914",
     "exception": false,
     "start_time": "2022-09-06T14:34:46.700836",
     "status": "completed"
    },
    "tags": []
   },
   "outputs": [],
   "source": [
    "def ghsl_kab_convert(dt):\n",
    "    with rasterio.open(dt) as dataset:\n",
    "        data = dataset.read(1)\n",
    "\n",
    "        t = dataset.transform\n",
    "\n",
    "        move_x = t[0]\n",
    "        move_y = t[4]\n",
    "\n",
    "        height = dataset.height\n",
    "        width = dataset.width \n",
    "\n",
    "        polygons = []\n",
    "        indices = list(itertools.product(range(width), range(height)))\n",
    "        data_list = []\n",
    "    \n",
    "        for x,y in indices:\n",
    "            x_min, y_max = t * (x,y)\n",
    "            x_max = x_min + move_x\n",
    "            y_min = y_max + move_y\n",
    "            polygons.append(box(x_min, y_min, x_max, y_max))\n",
    "            data_list.append(data[y,x])\n",
    "    gdf = gpd.GeoDataFrame(data=data_list, geometry=polygons, columns=['value'])\n",
    "    kdkab=dt.split('_')[2].replace('.tif','')\n",
    "    gdf.query('(value>=0)and(value<=10000)').to_file(\"data/input/GHSL Data/2020/gpkg/ghs_built_\"+kdprov+kdkab+\"_nonzero.shp\")"
   ]
  },
  {
   "cell_type": "code",
   "execution_count": 9,
   "id": "658e96d1",
   "metadata": {
    "execution": {
     "iopub.execute_input": "2022-09-06T14:34:46.719153Z",
     "iopub.status.busy": "2022-09-06T14:34:46.718923Z",
     "iopub.status.idle": "2022-09-06T14:38:03.175900Z",
     "shell.execute_reply": "2022-09-06T14:38:03.175118Z"
    },
    "papermill": {
     "duration": 196.462363,
     "end_time": "2022-09-06T14:38:03.177705",
     "exception": false,
     "start_time": "2022-09-06T14:34:46.715342",
     "status": "completed"
    },
    "tags": []
   },
   "outputs": [
    {
     "data": {
      "application/vnd.jupyter.widget-view+json": {
       "model_id": "d5a13fc00c8d4a279c9ab8872360fb33",
       "version_major": 2,
       "version_minor": 0
      },
      "text/plain": [
       "  0%|          | 0/7 [00:00<?, ?it/s]"
      ]
     },
     "metadata": {},
     "output_type": "display_data"
    },
    {
     "data": {
      "text/plain": [
       "[None, None, None, None, None, None, None]"
      ]
     },
     "execution_count": 9,
     "metadata": {},
     "output_type": "execute_result"
    }
   ],
   "source": [
    "import itertools\n",
    "import rasterio\n",
    "from shapely.geometry import box\n",
    "import geopandas as gpd\n",
    "from glob import glob as glob\n",
    "from tqdm.contrib.concurrent import process_map\n",
    "\n",
    "data_rasterio_kab=glob('data/input/GHSL Data/2020/prov/2020_'+kdprov+'_*.tif')\n",
    "process_map(ghsl_kab_convert,data_rasterio_kab)   "
   ]
  },
  {
   "cell_type": "code",
   "execution_count": 10,
   "id": "f0acd561",
   "metadata": {
    "execution": {
     "iopub.execute_input": "2022-09-06T14:38:03.187634Z",
     "iopub.status.busy": "2022-09-06T14:38:03.186875Z",
     "iopub.status.idle": "2022-09-06T14:38:19.210588Z",
     "shell.execute_reply": "2022-09-06T14:38:19.209765Z"
    },
    "papermill": {
     "duration": 16.030392,
     "end_time": "2022-09-06T14:38:19.212779",
     "exception": false,
     "start_time": "2022-09-06T14:38:03.182387",
     "status": "completed"
    },
    "tags": []
   },
   "outputs": [],
   "source": [
    "# import gpkg desa & filter\n",
    "\n",
    "vector = gpd.read_file(r\"data/input/Master_Data/DESA_20201_BYINDO.gpkg\").query('kdprov==@kdprov').to_crs(\"ESRI:54009\")\n",
    "raster = rasterio.open(r\"/vsigs/bps-gcp-bucket/Degree of Urbanisation/GHSL data/2020/prov/2020_\"+kdprov+\".tif\")\n",
    "geom = [shapes for shapes in vector.geometry]\n",
    "# vector['iddesa'] = vector.iddesa.astype(np.int32)\n",
    "vector['id'] = range(0,len(vector))"
   ]
  },
  {
   "cell_type": "code",
   "execution_count": 11,
   "id": "88c8092e",
   "metadata": {
    "execution": {
     "iopub.execute_input": "2022-09-06T14:38:19.221719Z",
     "iopub.status.busy": "2022-09-06T14:38:19.221410Z",
     "iopub.status.idle": "2022-09-06T14:38:19.295667Z",
     "shell.execute_reply": "2022-09-06T14:38:19.295032Z"
    },
    "papermill": {
     "duration": 0.080116,
     "end_time": "2022-09-06T14:38:19.297603",
     "exception": false,
     "start_time": "2022-09-06T14:38:19.217487",
     "status": "completed"
    },
    "tags": []
   },
   "outputs": [],
   "source": [
    "vector['geometry']=vector.geometry.buffer(0)"
   ]
  },
  {
   "cell_type": "code",
   "execution_count": 12,
   "id": "0f3b6d12",
   "metadata": {
    "execution": {
     "iopub.execute_input": "2022-09-06T14:38:19.305084Z",
     "iopub.status.busy": "2022-09-06T14:38:19.304548Z",
     "iopub.status.idle": "2022-09-06T14:38:23.903575Z",
     "shell.execute_reply": "2022-09-06T14:38:23.902949Z"
    },
    "papermill": {
     "duration": 4.604668,
     "end_time": "2022-09-06T14:38:23.905194",
     "exception": false,
     "start_time": "2022-09-06T14:38:19.300526",
     "status": "completed"
    },
    "tags": []
   },
   "outputs": [
    {
     "data": {
      "text/plain": [
       "<AxesSubplot:>"
      ]
     },
     "execution_count": 12,
     "metadata": {},
     "output_type": "execute_result"
    },
    {
     "data": {
      "image/png": "[encoded data removed]",
      "text/plain": [
       "<Figure size 720x720 with 1 Axes>"
      ]
     },
     "metadata": {
      "needs_background": "light"
     },
     "output_type": "display_data"
    }
   ],
   "source": [
    "# create tuples of geometry, value pairs, where value is the attribute value you want to burn\n",
    "geom_value = ((geom,value) for geom, value in zip(vector.geometry, vector['id']))\n",
    "# Rasterize vector using the shape and transform of the raster\n",
    "#rasterized = features.rasterize(geom_value,\n",
    "#                                out_shape = raster.shape,\n",
    "#                                fill = -5,\n",
    "#                                out = None,\n",
    "#                                transform = raster.transform,\n",
    "#                                all_touched = False,\n",
    "#                                default_value = 1,\n",
    "#                                dtype = np.int32)\n",
    "\n",
    "rasterized = features.rasterize(geom_value,\n",
    "                                out_shape = raster.shape,\n",
    "                                transform = raster.transform,\n",
    "                                all_touched = True,\n",
    "                                fill = -5,   # background value\n",
    "                                default_value = 1,\n",
    "                                dtype = np.float64)\n",
    "\n",
    "# Plot raster\n",
    "fig, ax = plt.subplots(1, figsize = (10, 10))\n",
    "show(rasterized, ax = ax)\n",
    "#plt.gca().invert_yaxis()"
   ]
  },
  {
   "cell_type": "code",
   "execution_count": 13,
   "id": "fd43450d",
   "metadata": {
    "execution": {
     "iopub.execute_input": "2022-09-06T14:38:23.916235Z",
     "iopub.status.busy": "2022-09-06T14:38:23.915500Z",
     "iopub.status.idle": "2022-09-06T14:38:26.364823Z",
     "shell.execute_reply": "2022-09-06T14:38:26.364047Z"
    },
    "papermill": {
     "duration": 2.456956,
     "end_time": "2022-09-06T14:38:26.367047",
     "exception": false,
     "start_time": "2022-09-06T14:38:23.910091",
     "status": "completed"
    },
    "tags": []
   },
   "outputs": [],
   "source": [
    "# rasterization polygon desa\n",
    "\n",
    "with rasterio.open(\n",
    "        \"data/temp/rasterized_vector.tif\", \"w\",\n",
    "        driver = \"GTiff\",\n",
    "        transform = raster.transform,\n",
    "        dtype = rasterio.float64,\n",
    "        count = 1,\n",
    "        width = raster.width,\n",
    "        height = raster.height) as dst:\n",
    "    dst.write(rasterized, indexes = 1)\n",
    "\n",
    "# polygonize polygon desa\n",
    "\n",
    "raster_src = gdal.Open(r'data/temp/rasterized_vector.tif')\n",
    "band = raster_src.GetRasterBand(1) \n",
    "\n",
    "drv = ogr.GetDriverByName('ESRI Shapefile')\n",
    "outfile = drv.CreateDataSource(r'data/temp/polygonizedRaster.shp') \n",
    "outlayer = outfile.CreateLayer('polygonized raster', srs = None )\n",
    "newField = ogr.FieldDefn('DN', ogr.OFTReal)\n",
    "outlayer.CreateField(newField)\n",
    "\n",
    "gdal.Polygonize(band, None, outlayer, 0, [])\n",
    "outfile = None\n",
    "\n",
    "raster = None\n",
    "raster_src = None\n",
    "\n",
    "desa = gpd.read_file(r'data/temp/polygonizedRaster.shp')\n",
    "desa = desa.merge(vector[['id','iddesa']], \n",
    "                                 left_on = \"DN\", right_on = \"id\", how=\"left\").dissolve(by=\"iddesa\").reset_index()\n",
    "desa.crs='ESRI:54009'\n",
    "desa.to_file(\"data/input/desa_rasterize_\"+kdprov+\".gpkg\", driver=\"GPKG\")"
   ]
  },
  {
   "cell_type": "code",
   "execution_count": 14,
   "id": "f7a14593",
   "metadata": {
    "execution": {
     "iopub.execute_input": "2022-09-06T14:38:26.377928Z",
     "iopub.status.busy": "2022-09-06T14:38:26.377319Z",
     "iopub.status.idle": "2022-09-06T14:38:26.717640Z",
     "shell.execute_reply": "2022-09-06T14:38:26.716857Z"
    },
    "papermill": {
     "duration": 0.347929,
     "end_time": "2022-09-06T14:38:26.719956",
     "exception": false,
     "start_time": "2022-09-06T14:38:26.372027",
     "status": "completed"
    },
    "tags": []
   },
   "outputs": [],
   "source": [
    "# import ruta\n",
    "\n",
    "data_ruta=pd.read_csv('data/input/Master_Data/pop_desa_rev.csv',sep=',')\n",
    "data_ruta.iddesa=data_ruta.iddesa.astype(str)\n",
    "#data_ruta['iddesa'] = [x[0:10] for x in data_ruta.KODE_SLS]\n",
    "data_ruta['idprov'] = [x[0:2] for x in data_ruta.iddesa]\n",
    "\n",
    "data_ruta = data_ruta.loc[data_ruta.idprov.isin([kdprov])]\n",
    "\n",
    "# join penduduk & polygon desa\n",
    "\n",
    "data_ruta_desa = pd.DataFrame(data_ruta.groupby(\"iddesa\").pop2020.sum()).reset_index()\n",
    "desa = desa.merge(data_ruta_desa, how=\"left\").fillna(0)\n",
    "desa.set_crs('ESRI:54009').to_file(\"data/output/0_raster_data_desa/desa_pend_rasterize_\"+kdprov+\".gpkg\", driver=\"GPKG\")"
   ]
  },
  {
   "cell_type": "code",
   "execution_count": 15,
   "id": "a0761d29",
   "metadata": {
    "execution": {
     "iopub.execute_input": "2022-09-06T14:38:26.730506Z",
     "iopub.status.busy": "2022-09-06T14:38:26.729914Z",
     "iopub.status.idle": "2022-09-06T14:38:26.737749Z",
     "shell.execute_reply": "2022-09-06T14:38:26.737053Z"
    },
    "papermill": {
     "duration": 0.014324,
     "end_time": "2022-09-06T14:38:26.739305",
     "exception": false,
     "start_time": "2022-09-06T14:38:26.724981",
     "status": "completed"
    },
    "scrolled": true,
    "tags": []
   },
   "outputs": [
    {
     "name": "stdout",
     "output_type": "stream",
     "text": [
      "Ada di Peta. tidak di Hasil SP : 2\n",
      "Ada di Hasil SP. tidak di Peta : 1\n"
     ]
    }
   ],
   "source": [
    "print(\"Ada di Peta. tidak di Hasil SP : \"+str(desa[~desa.iddesa.isin(data_ruta.iddesa)].shape[0]))\n",
    "print(\"Ada di Hasil SP. tidak di Peta : \"+str(data_ruta[~data_ruta.iddesa.isin(desa.iddesa)].shape[0]))"
   ]
  },
  {
   "cell_type": "code",
   "execution_count": 16,
   "id": "8173d01c",
   "metadata": {
    "execution": {
     "iopub.execute_input": "2022-09-06T14:38:26.747817Z",
     "iopub.status.busy": "2022-09-06T14:38:26.747552Z",
     "iopub.status.idle": "2022-09-06T14:38:26.756640Z",
     "shell.execute_reply": "2022-09-06T14:38:26.756046Z"
    },
    "papermill": {
     "duration": 0.015358,
     "end_time": "2022-09-06T14:38:26.758309",
     "exception": false,
     "start_time": "2022-09-06T14:38:26.742951",
     "status": "completed"
    },
    "tags": []
   },
   "outputs": [
    {
     "data": {
      "text/html": [
       "<div>\n",
       "<style scoped>\n",
       "    .dataframe tbody tr th:only-of-type {\n",
       "        vertical-align: middle;\n",
       "    }\n",
       "\n",
       "    .dataframe tbody tr th {\n",
       "        vertical-align: top;\n",
       "    }\n",
       "\n",
       "    .dataframe thead th {\n",
       "        text-align: right;\n",
       "    }\n",
       "</style>\n",
       "<table border=\"1\" class=\"dataframe\">\n",
       "  <thead>\n",
       "    <tr style=\"text-align: right;\">\n",
       "      <th></th>\n",
       "      <th>Unnamed: 0</th>\n",
       "      <th>iddesa</th>\n",
       "      <th>pop2020</th>\n",
       "      <th>idprov</th>\n",
       "    </tr>\n",
       "  </thead>\n",
       "  <tbody>\n",
       "    <tr>\n",
       "      <th>25452</th>\n",
       "      <td>25452</td>\n",
       "      <td>2171041007</td>\n",
       "      <td>4068</td>\n",
       "      <td>21</td>\n",
       "    </tr>\n",
       "  </tbody>\n",
       "</table>\n",
       "</div>"
      ],
      "text/plain": [
       "       Unnamed: 0      iddesa  pop2020 idprov\n",
       "25452       25452  2171041007     4068     21"
      ]
     },
     "execution_count": 16,
     "metadata": {},
     "output_type": "execute_result"
    }
   ],
   "source": [
    "data_ruta[~data_ruta.iddesa.isin(desa.iddesa)]"
   ]
  }
 ],
 "metadata": {
  "celltoolbar": "Tags",
  "kernelspec": {
   "display_name": "Python 3 (ipykernel)",
   "language": "python",
   "name": "python3"
  },
  "language_info": {
   "codemirror_mode": {
    "name": "ipython",
    "version": 3
   },
   "file_extension": ".py",
   "mimetype": "text/x-python",
   "name": "python",
   "nbconvert_exporter": "python",
   "pygments_lexer": "ipython3",
   "version": "3.8.12"
  },
  "papermill": {
   "default_parameters": {},
   "duration": 227.509332,
   "end_time": "2022-09-06T14:38:27.282124",
   "environment_variables": {},
   "exception": null,
   "input_path": "00_Data Preparation #4 Rasterize Village Map.ipynb",
   "output_path": "00_Data Preparation #4-21.ipynb",
   "parameters": {
    "kdprov": "21"
   },
   "start_time": "2022-09-06T14:34:39.772792",
   "version": "2.3.4"
  },
  "widgets": {
   "application/vnd.jupyter.widget-state+json": {
    "state": {
     "0bccae3b672d4ee7873412a8c753af2e": {
      "model_module": "@jupyter-widgets/base",
      "model_module_version": "1.2.0",
      "model_name": "LayoutModel",
      "state": {
       "_model_module": "@jupyter-widgets/base",
       "_model_module_version": "1.2.0",
       "_model_name": "LayoutModel",
       "_view_count": null,
       "_view_module": "@jupyter-widgets/base",
       "_view_module_version": "1.2.0",
       "_view_name": "LayoutView",
       "align_content": null,
       "align_items": null,
       "align_self": null,
       "border": null,
       "bottom": null,
       "display": null,
       "flex": null,
       "flex_flow": null,
       "grid_area": null,
       "grid_auto_columns": null,
       "grid_auto_flow": null,
       "grid_auto_rows": null,
       "grid_column": null,
       "grid_gap": null,
       "grid_row": null,
       "grid_template_areas": null,
       "grid_template_columns": null,
       "grid_template_rows": null,
       "height": null,
       "justify_content": null,
       "justify_items": null,
       "left": null,
       "margin": null,
       "max_height": null,
       "max_width": null,
       "min_height": null,
       "min_width": null,
       "object_fit": null,
       "object_position": null,
       "order": null,
       "overflow": null,
       "overflow_x": null,
       "overflow_y": null,
       "padding": null,
       "right": null,
       "top": null,
       "visibility": null,
       "width": null
      }
     },
     "1edcc6105b334c7a861c7ca17157be54": {
      "model_module": "@jupyter-widgets/controls",
      "model_module_version": "1.5.0",
      "model_name": "FloatProgressModel",
      "state": {
       "_dom_classes": [],
       "_model_module": "@jupyter-widgets/controls",
       "_model_module_version": "1.5.0",
       "_model_name": "FloatProgressModel",
       "_view_count": null,
       "_view_module": "@jupyter-widgets/controls",
       "_view_module_version": "1.5.0",
       "_view_name": "ProgressView",
       "bar_style": "success",
       "description": "",
       "description_tooltip": null,
       "layout": "IPY_MODEL_a9a75aa5c5ab4370a771da0eaf16c9e1",
       "max": 7.0,
       "min": 0.0,
       "orientation": "horizontal",
       "style": "IPY_MODEL_87c634e8bdeb496eb7d94501b34204b0",
       "value": 7.0
      }
     },
     "2308ef4afb634fcda9f6668a6800193c": {
      "model_module": "@jupyter-widgets/controls",
      "model_module_version": "1.5.0",
      "model_name": "HTMLModel",
      "state": {
       "_dom_classes": [],
       "_model_module": "@jupyter-widgets/controls",
       "_model_module_version": "1.5.0",
       "_model_name": "HTMLModel",
       "_view_count": null,
       "_view_module": "@jupyter-widgets/controls",
       "_view_module_version": "1.5.0",
       "_view_name": "HTMLView",
       "description": "",
       "description_tooltip": null,
       "layout": "IPY_MODEL_76365ded78684a7b8e73cd5467c49ab3",
       "placeholder": "​",
       "style": "IPY_MODEL_7cc76d24bbb647b5b9993735a884e1f1",
       "value": " 7/7 [03:15&lt;00:00, 30.26s/it]"
      }
     },
     "2c7453052ce24e6fa25f8fa6e0cc6262": {
      "model_module": "@jupyter-widgets/controls",
      "model_module_version": "1.5.0",
      "model_name": "DescriptionStyleModel",
      "state": {
       "_model_module": "@jupyter-widgets/controls",
       "_model_module_version": "1.5.0",
       "_model_name": "DescriptionStyleModel",
       "_view_count": null,
       "_view_module": "@jupyter-widgets/base",
       "_view_module_version": "1.2.0",
       "_view_name": "StyleView",
       "description_width": ""
      }
     },
     "73b6e3bbef704da48a502d35694d23c6": {
      "model_module": "@jupyter-widgets/base",
      "model_module_version": "1.2.0",
      "model_name": "LayoutModel",
      "state": {
       "_model_module": "@jupyter-widgets/base",
       "_model_module_version": "1.2.0",
       "_model_name": "LayoutModel",
       "_view_count": null,
       "_view_module": "@jupyter-widgets/base",
       "_view_module_version": "1.2.0",
       "_view_name": "LayoutView",
       "align_content": null,
       "align_items": null,
       "align_self": null,
       "border": null,
       "bottom": null,
       "display": null,
       "flex": null,
       "flex_flow": null,
       "grid_area": null,
       "grid_auto_columns": null,
       "grid_auto_flow": null,
       "grid_auto_rows": null,
       "grid_column": null,
       "grid_gap": null,
       "grid_row": null,
       "grid_template_areas": null,
       "grid_template_columns": null,
       "grid_template_rows": null,
       "height": null,
       "justify_content": null,
       "justify_items": null,
       "left": null,
       "margin": null,
       "max_height": null,
       "max_width": null,
       "min_height": null,
       "min_width": null,
       "object_fit": null,
       "object_position": null,
       "order": null,
       "overflow": null,
       "overflow_x": null,
       "overflow_y": null,
       "padding": null,
       "right": null,
       "top": null,
       "visibility": null,
       "width": null
      }
     },
     "76365ded78684a7b8e73cd5467c49ab3": {
      "model_module": "@jupyter-widgets/base",
      "model_module_version": "1.2.0",
      "model_name": "LayoutModel",
      "state": {
       "_model_module": "@jupyter-widgets/base",
       "_model_module_version": "1.2.0",
       "_model_name": "LayoutModel",
       "_view_count": null,
       "_view_module": "@jupyter-widgets/base",
       "_view_module_version": "1.2.0",
       "_view_name": "LayoutView",
       "align_content": null,
       "align_items": null,
       "align_self": null,
       "border": null,
       "bottom": null,
       "display": null,
       "flex": null,
       "flex_flow": null,
       "grid_area": null,
       "grid_auto_columns": null,
       "grid_auto_flow": null,
       "grid_auto_rows": null,
       "grid_column": null,
       "grid_gap": null,
       "grid_row": null,
       "grid_template_areas": null,
       "grid_template_columns": null,
       "grid_template_rows": null,
       "height": null,
       "justify_content": null,
       "justify_items": null,
       "left": null,
       "margin": null,
       "max_height": null,
       "max_width": null,
       "min_height": null,
       "min_width": null,
       "object_fit": null,
       "object_position": null,
       "order": null,
       "overflow": null,
       "overflow_x": null,
       "overflow_y": null,
       "padding": null,
       "right": null,
       "top": null,
       "visibility": null,
       "width": null
      }
     },
     "7cc76d24bbb647b5b9993735a884e1f1": {
      "model_module": "@jupyter-widgets/controls",
      "model_module_version": "1.5.0",
      "model_name": "DescriptionStyleModel",
      "state": {
       "_model_module": "@jupyter-widgets/controls",
       "_model_module_version": "1.5.0",
       "_model_name": "DescriptionStyleModel",
       "_view_count": null,
       "_view_module": "@jupyter-widgets/base",
       "_view_module_version": "1.2.0",
       "_view_name": "StyleView",
       "description_width": ""
      }
     },
     "87c634e8bdeb496eb7d94501b34204b0": {
      "model_module": "@jupyter-widgets/controls",
      "model_module_version": "1.5.0",
      "model_name": "ProgressStyleModel",
      "state": {
       "_model_module": "@jupyter-widgets/controls",
       "_model_module_version": "1.5.0",
       "_model_name": "ProgressStyleModel",
       "_view_count": null,
       "_view_module": "@jupyter-widgets/base",
       "_view_module_version": "1.2.0",
       "_view_name": "StyleView",
       "bar_color": null,
       "description_width": ""
      }
     },
     "9e0ebba07d42438caf026936b464a175": {
      "model_module": "@jupyter-widgets/controls",
      "model_module_version": "1.5.0",
      "model_name": "HTMLModel",
      "state": {
       "_dom_classes": [],
       "_model_module": "@jupyter-widgets/controls",
       "_model_module_version": "1.5.0",
       "_model_name": "HTMLModel",
       "_view_count": null,
       "_view_module": "@jupyter-widgets/controls",
       "_view_module_version": "1.5.0",
       "_view_name": "HTMLView",
       "description": "",
       "description_tooltip": null,
       "layout": "IPY_MODEL_0bccae3b672d4ee7873412a8c753af2e",
       "placeholder": "​",
       "style": "IPY_MODEL_2c7453052ce24e6fa25f8fa6e0cc6262",
       "value": "100%"
      }
     },
     "a9a75aa5c5ab4370a771da0eaf16c9e1": {
      "model_module": "@jupyter-widgets/base",
      "model_module_version": "1.2.0",
      "model_name": "LayoutModel",
      "state": {
       "_model_module": "@jupyter-widgets/base",
       "_model_module_version": "1.2.0",
       "_model_name": "LayoutModel",
       "_view_count": null,
       "_view_module": "@jupyter-widgets/base",
       "_view_module_version": "1.2.0",
       "_view_name": "LayoutView",
       "align_content": null,
       "align_items": null,
       "align_self": null,
       "border": null,
       "bottom": null,
       "display": null,
       "flex": null,
       "flex_flow": null,
       "grid_area": null,
       "grid_auto_columns": null,
       "grid_auto_flow": null,
       "grid_auto_rows": null,
       "grid_column": null,
       "grid_gap": null,
       "grid_row": null,
       "grid_template_areas": null,
       "grid_template_columns": null,
       "grid_template_rows": null,
       "height": null,
       "justify_content": null,
       "justify_items": null,
       "left": null,
       "margin": null,
       "max_height": null,
       "max_width": null,
       "min_height": null,
       "min_width": null,
       "object_fit": null,
       "object_position": null,
       "order": null,
       "overflow": null,
       "overflow_x": null,
       "overflow_y": null,
       "padding": null,
       "right": null,
       "top": null,
       "visibility": null,
       "width": null
      }
     },
     "d5a13fc00c8d4a279c9ab8872360fb33": {
      "model_module": "@jupyter-widgets/controls",
      "model_module_version": "1.5.0",
      "model_name": "HBoxModel",
      "state": {
       "_dom_classes": [],
       "_model_module": "@jupyter-widgets/controls",
       "_model_module_version": "1.5.0",
       "_model_name": "HBoxModel",
       "_view_count": null,
       "_view_module": "@jupyter-widgets/controls",
       "_view_module_version": "1.5.0",
       "_view_name": "HBoxView",
       "box_style": "",
       "children": [
        "IPY_MODEL_9e0ebba07d42438caf026936b464a175",
        "IPY_MODEL_1edcc6105b334c7a861c7ca17157be54",
        "IPY_MODEL_2308ef4afb634fcda9f6668a6800193c"
       ],
       "layout": "IPY_MODEL_73b6e3bbef704da48a502d35694d23c6"
      }
     }
    },
    "version_major": 2,
    "version_minor": 0
   }
  }
 },
 "nbformat": 4,
 "nbformat_minor": 5
}