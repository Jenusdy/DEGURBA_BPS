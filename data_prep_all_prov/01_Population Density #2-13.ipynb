{
 "cells": [
  {
   "cell_type": "code",
   "execution_count": 1,
   "id": "517ff479",
   "metadata": {
    "execution": {
     "iopub.execute_input": "2022-09-06T21:23:02.430482Z",
     "iopub.status.busy": "2022-09-06T21:23:02.429850Z",
     "iopub.status.idle": "2022-09-06T21:23:02.436968Z",
     "shell.execute_reply": "2022-09-06T21:23:02.436393Z"
    },
    "papermill": {
     "duration": 0.01259,
     "end_time": "2022-09-06T21:23:02.438670",
     "exception": false,
     "start_time": "2022-09-06T21:23:02.426080",
     "status": "completed"
    },
    "tags": [
     "parameters"
    ]
   },
   "outputs": [],
   "source": [
    "kdprov = '76'"
   ]
  },
  {
   "cell_type": "code",
   "execution_count": 2,
   "id": "e8a1ac36",
   "metadata": {
    "execution": {
     "iopub.execute_input": "2022-09-06T21:23:02.444797Z",
     "iopub.status.busy": "2022-09-06T21:23:02.444402Z",
     "iopub.status.idle": "2022-09-06T21:23:02.447640Z",
     "shell.execute_reply": "2022-09-06T21:23:02.447056Z"
    },
    "papermill": {
     "duration": 0.007253,
     "end_time": "2022-09-06T21:23:02.449073",
     "exception": false,
     "start_time": "2022-09-06T21:23:02.441820",
     "status": "completed"
    },
    "tags": [
     "injected-parameters"
    ]
   },
   "outputs": [],
   "source": [
    "# Parameters\n",
    "kdprov = \"13\"\n"
   ]
  },
  {
   "cell_type": "code",
   "execution_count": 3,
   "id": "b77d269d",
   "metadata": {
    "execution": {
     "iopub.execute_input": "2022-09-06T21:23:02.453521Z",
     "iopub.status.busy": "2022-09-06T21:23:02.453299Z",
     "iopub.status.idle": "2022-09-06T21:23:03.098517Z",
     "shell.execute_reply": "2022-09-06T21:23:03.097639Z"
    },
    "papermill": {
     "duration": 0.650021,
     "end_time": "2022-09-06T21:23:03.100755",
     "exception": false,
     "start_time": "2022-09-06T21:23:02.450734",
     "status": "completed"
    },
    "tags": []
   },
   "outputs": [
    {
     "name": "stderr",
     "output_type": "stream",
     "text": [
      "/home/jupyter-peta_admin/.local/lib/python3.8/site-packages/geopandas/_compat.py:112: UserWarning: The Shapely GEOS version (3.10.2-CAPI-1.16.0) is incompatible with the GEOS version PyGEOS was compiled with (3.10.1-CAPI-1.16.0). Conversions between both will be slow.\n",
      "  warnings.warn(\n"
     ]
    }
   ],
   "source": [
    "import pandas as pd\n",
    "import geopandas as gpd\n",
    "import rasterio\n",
    "import rasterio.features as features\n",
    "import numpy as np\n",
    "from rasterio.enums import Resampling\n",
    "from rasterio.crs import CRS\n",
    "import itertools\n",
    "\n",
    "from shapely.geometry import box"
   ]
  },
  {
   "cell_type": "code",
   "execution_count": 4,
   "id": "32a2c10f",
   "metadata": {
    "execution": {
     "iopub.execute_input": "2022-09-06T21:23:03.109098Z",
     "iopub.status.busy": "2022-09-06T21:23:03.108327Z",
     "iopub.status.idle": "2022-09-06T21:23:03.112231Z",
     "shell.execute_reply": "2022-09-06T21:23:03.111668Z"
    },
    "papermill": {
     "duration": 0.009873,
     "end_time": "2022-09-06T21:23:03.113841",
     "exception": false,
     "start_time": "2022-09-06T21:23:03.103968",
     "status": "completed"
    },
    "tags": []
   },
   "outputs": [],
   "source": [
    "from glob import glob"
   ]
  },
  {
   "cell_type": "code",
   "execution_count": 5,
   "id": "31300527",
   "metadata": {
    "execution": {
     "iopub.execute_input": "2022-09-06T21:23:03.119082Z",
     "iopub.status.busy": "2022-09-06T21:23:03.118323Z",
     "iopub.status.idle": "2022-09-06T21:23:03.122990Z",
     "shell.execute_reply": "2022-09-06T21:23:03.122333Z"
    },
    "papermill": {
     "duration": 0.00901,
     "end_time": "2022-09-06T21:23:03.124714",
     "exception": false,
     "start_time": "2022-09-06T21:23:03.115704",
     "status": "completed"
    },
    "tags": []
   },
   "outputs": [],
   "source": [
    "data_popdens_100m=glob(\"data/output/1_population_density/grid_pop_\"+kdprov+\"*_100m.gpkg\")\n",
    "data_popdens_100m=[i for i in data_popdens_100m if len(i)==56]"
   ]
  },
  {
   "cell_type": "code",
   "execution_count": 6,
   "id": "d11c9d82",
   "metadata": {
    "execution": {
     "iopub.execute_input": "2022-09-06T21:23:03.129646Z",
     "iopub.status.busy": "2022-09-06T21:23:03.129193Z",
     "iopub.status.idle": "2022-09-06T21:23:03.140136Z",
     "shell.execute_reply": "2022-09-06T21:23:03.139378Z"
    },
    "papermill": {
     "duration": 0.015226,
     "end_time": "2022-09-06T21:23:03.141805",
     "exception": false,
     "start_time": "2022-09-06T21:23:03.126579",
     "status": "completed"
    },
    "tags": []
   },
   "outputs": [
    {
     "data": {
      "text/plain": [
       "['data/output/1_population_density/grid_pop_1312_100m.gpkg',\n",
       " 'data/output/1_population_density/grid_pop_1302_100m.gpkg',\n",
       " 'data/output/1_population_density/grid_pop_1301_100m.gpkg',\n",
       " 'data/output/1_population_density/grid_pop_1305_100m.gpkg',\n",
       " 'data/output/1_population_density/grid_pop_1377_100m.gpkg',\n",
       " 'data/output/1_population_density/grid_pop_1376_100m.gpkg',\n",
       " 'data/output/1_population_density/grid_pop_1304_100m.gpkg',\n",
       " 'data/output/1_population_density/grid_pop_1306_100m.gpkg',\n",
       " 'data/output/1_population_density/grid_pop_1310_100m.gpkg',\n",
       " 'data/output/1_population_density/grid_pop_1375_100m.gpkg',\n",
       " 'data/output/1_population_density/grid_pop_1309_100m.gpkg',\n",
       " 'data/output/1_population_density/grid_pop_1373_100m.gpkg',\n",
       " 'data/output/1_population_density/grid_pop_1371_100m.gpkg',\n",
       " 'data/output/1_population_density/grid_pop_1372_100m.gpkg',\n",
       " 'data/output/1_population_density/grid_pop_1308_100m.gpkg',\n",
       " 'data/output/1_population_density/grid_pop_1374_100m.gpkg',\n",
       " 'data/output/1_population_density/grid_pop_1311_100m.gpkg',\n",
       " 'data/output/1_population_density/grid_pop_1303_100m.gpkg',\n",
       " 'data/output/1_population_density/grid_pop_1307_100m.gpkg']"
      ]
     },
     "execution_count": 6,
     "metadata": {},
     "output_type": "execute_result"
    }
   ],
   "source": [
    "data_popdens_100m"
   ]
  },
  {
   "cell_type": "code",
   "execution_count": 7,
   "id": "4144e026",
   "metadata": {
    "execution": {
     "iopub.execute_input": "2022-09-06T21:23:03.147510Z",
     "iopub.status.busy": "2022-09-06T21:23:03.146795Z",
     "iopub.status.idle": "2022-09-06T21:23:03.165120Z",
     "shell.execute_reply": "2022-09-06T21:23:03.164469Z"
    },
    "papermill": {
     "duration": 0.023003,
     "end_time": "2022-09-06T21:23:03.166804",
     "exception": false,
     "start_time": "2022-09-06T21:23:03.143801",
     "status": "completed"
    },
    "tags": []
   },
   "outputs": [],
   "source": [
    "from rasterio.enums import Resampling\n",
    "import os\n",
    "def resampling_1km(dt):\n",
    "    global kdprov\n",
    "    kdkab=dt.split('/')[3].split('_')[2]\n",
    "    if os.path.isfile('data/output/1_population_density/grid_pop_'+kdkab+'_1km.tif')==False:\n",
    "        popdens_100m=gpd.read_file(dt)\n",
    "        popdens_100m['j_pend_round']=popdens_100m.j_pend.apply(lambda y: np.round(y))\n",
    "        raster = rasterio.open(r\"/vsigs/bps-gcp-bucket/Degree of Urbanisation/GHSL data/2020/prov/2020_\"+kdprov+\".tif\")\n",
    "        geom_value = ((geom,value) for geom, value in zip(popdens_100m.geometry, popdens_100m['j_pend_round']))\n",
    "        rasterized = features.rasterize(geom_value,\n",
    "                                out_shape = raster.shape,\n",
    "                                transform = raster.transform,\n",
    "                                all_touched = False,\n",
    "                                fill = 0,\n",
    "                                dtype = np.float64)\n",
    "        with rasterio.open(\n",
    "            \"data/temp/rasterized_popdens_\"+kdkab+\"_100.tif\", \"w\",\n",
    "            driver = \"GTiff\",\n",
    "            transform = raster.transform,\n",
    "            dtype = np.float64,\n",
    "            count = 1,\n",
    "            width = raster.width,\n",
    "            height = raster.height) as dst:\n",
    "            dst.write(rasterized, indexes = 1)\n",
    "    \n",
    "        target_res = (1000, 1000)\n",
    "\n",
    "        with rasterio.open(\"data/temp/rasterized_popdens_\"+kdkab+\"_100.tif\") as src:\n",
    "            data, transform = rasterio.warp.reproject(source=src.read(),\n",
    "                                src_transform=src.transform,\n",
    "                                src_crs=CRS.from_string(\"ESRI:54009\"),\n",
    "                                dst_crs=CRS.from_string(\"ESRI:54009\"),\n",
    "                                dst_nodata=0,\n",
    "                                dst_resolution=target_res,\n",
    "                                              #dtype = np.float64\n",
    "                                resampling=Resampling.sum)\n",
    "            profile = src.profile\n",
    "            profile.update(transform=transform, driver='GTiff',\n",
    "                    height=data.shape[1], width=data.shape[2])\n",
    "\n",
    "            with rasterio.open('data/output/1_population_density/grid_pop_'+kdkab+'_1km.tif', 'w', **profile) as dst:\n",
    "                dst.write(data)\n",
    "    else:\n",
    "        print(\"skip\")\n",
    "    if (os.path.isfile(\"data/output/1_population_density/grid_pop_\"+kdkab+\"_1km_w_bu.gpkg\")==False):\n",
    "        with rasterio.open('data/output/1_population_density/grid_pop_'+kdkab+'_1km.tif') as dataset:\n",
    "            data = dataset.read(1)\n",
    "\n",
    "            t = dataset.transform\n",
    "            move_x = t[0]\n",
    "            move_y = t[4]\n",
    "            height = dataset.height\n",
    "            width = dataset.width \n",
    "    \n",
    "            polygons = []\n",
    "            indices = list(itertools.product(range(width), range(height)))\n",
    "            for x,y in indices:\n",
    "                x_min, y_max = t * (x,y)\n",
    "                x_max = x_min + move_x\n",
    "                y_min = y_max + move_y\n",
    "                polygons.append(box(x_min, y_min, x_max, y_max))\n",
    "        \n",
    "        data_list = []\n",
    "        for x,y in indices:\n",
    "            data_list.append(data[y,x])\n",
    "        vect_tmp = gpd.GeoDataFrame(data=data_list, geometry=polygons, columns=['DN'])\n",
    "        vect_tmp.crs='ESRI:54009'\n",
    "        vect_tmp.DN=vect_tmp.DN.apply(lambda y: 0 if y<=0 else y)\n",
    "        y=gpd.GeoDataFrame()\n",
    "        data_builtup=gpd.read_file(\"data/input/GHSL Data/2020/gpkg/ghs_built_\"+kdkab+\"_nonzero.shp\")#.to_crs(('ESRI:54009'))\n",
    "        data_builtup['builtup']=data_builtup['value']\n",
    "        vect_=vect_tmp.reset_index()\n",
    "        vect_['index_o']=vect_['index'].apply(lambda y:str(y).zfill(7))\n",
    "        data_bu_per1km=vect_.sjoin(data_builtup,how='inner'\n",
    "                          ).sort_values('index_o')[['index_o','builtup']].groupby('index_o').agg('sum').reset_index()\n",
    "        vect_bu=vect_.merge(data_bu_per1km,how='inner')\n",
    "        vect_bu['p_builtup']=vect_bu.builtup/1e6\n",
    "        vect_bu['pop']=vect_bu.DN\n",
    "        vect_bu=vect_bu[['geometry','p_builtup','pop']].fillna(0)\n",
    "        vect_bu.crs='ESRI:54009'\n",
    "        vector = gpd.read_file(r\"data/input/Master_Data/DESA_20201_BYINDO.gpkg\").query('idkab==@kdkab').to_crs(\"ESRI:54009\")\n",
    "        vect_bu['index_o']=vect_bu.index.astype(str).str.zfill(8)\n",
    "        vect_bu.sjoin(vector)[['geometry','p_builtup','pop','index_o']].dissolve(by=['index_o']).to_file(\"data/output/1_population_density/grid_pop_\"+kdkab+\"_1km_w_bu.gpkg\",driver='GPKG')\n",
    "    else:\n",
    "        print(\"skip\")"
   ]
  },
  {
   "cell_type": "code",
   "execution_count": 8,
   "id": "1f6ead36",
   "metadata": {
    "execution": {
     "iopub.execute_input": "2022-09-06T21:23:03.172515Z",
     "iopub.status.busy": "2022-09-06T21:23:03.172263Z",
     "iopub.status.idle": "2022-09-06T21:26:15.531666Z",
     "shell.execute_reply": "2022-09-06T21:26:15.530860Z"
    },
    "papermill": {
     "duration": 192.364434,
     "end_time": "2022-09-06T21:26:15.533661",
     "exception": false,
     "start_time": "2022-09-06T21:23:03.169227",
     "status": "completed"
    },
    "tags": []
   },
   "outputs": [
    {
     "data": {
      "application/vnd.jupyter.widget-view+json": {
       "model_id": "f5167d88629c4f8f8d4f32ad49f7701d",
       "version_major": 2,
       "version_minor": 0
      },
      "text/plain": [
       "  0%|          | 0/19 [00:00<?, ?it/s]"
      ]
     },
     "metadata": {},
     "output_type": "display_data"
    },
    {
     "name": "stderr",
     "output_type": "stream",
     "text": [
      "/home/jupyter-peta_admin/.local/lib/python3.8/site-packages/geopandas/geodataframe.py:2072: UserWarning: CRS mismatch between the CRS of left geometries and the CRS of right geometries.\n",
      "Use `to_crs()` to reproject one of the input geometries to match the CRS of the other.\n",
      "\n",
      "Left CRS: ESRI:54009\n",
      "Right CRS: None\n",
      "\n",
      "  return geopandas.sjoin(left_df=self, right_df=df, *args, **kwargs)\n"
     ]
    },
    {
     "name": "stderr",
     "output_type": "stream",
     "text": [
      "/home/jupyter-peta_admin/.local/lib/python3.8/site-packages/geopandas/geodataframe.py:2072: UserWarning: CRS mismatch between the CRS of left geometries and the CRS of right geometries.\n",
      "Use `to_crs()` to reproject one of the input geometries to match the CRS of the other.\n",
      "\n",
      "Left CRS: ESRI:54009\n",
      "Right CRS: None\n",
      "\n",
      "  return geopandas.sjoin(left_df=self, right_df=df, *args, **kwargs)\n"
     ]
    },
    {
     "name": "stderr",
     "output_type": "stream",
     "text": [
      "/home/jupyter-peta_admin/.local/lib/python3.8/site-packages/geopandas/geodataframe.py:2072: UserWarning: CRS mismatch between the CRS of left geometries and the CRS of right geometries.\n",
      "Use `to_crs()` to reproject one of the input geometries to match the CRS of the other.\n",
      "\n",
      "Left CRS: ESRI:54009\n",
      "Right CRS: None\n",
      "\n",
      "  return geopandas.sjoin(left_df=self, right_df=df, *args, **kwargs)\n"
     ]
    },
    {
     "name": "stderr",
     "output_type": "stream",
     "text": [
      "/home/jupyter-peta_admin/.local/lib/python3.8/site-packages/geopandas/geodataframe.py:2072: UserWarning: CRS mismatch between the CRS of left geometries and the CRS of right geometries.\n",
      "Use `to_crs()` to reproject one of the input geometries to match the CRS of the other.\n",
      "\n",
      "Left CRS: ESRI:54009\n",
      "Right CRS: None\n",
      "\n",
      "  return geopandas.sjoin(left_df=self, right_df=df, *args, **kwargs)\n"
     ]
    },
    {
     "name": "stderr",
     "output_type": "stream",
     "text": [
      "/home/jupyter-peta_admin/.local/lib/python3.8/site-packages/geopandas/geodataframe.py:2072: UserWarning: CRS mismatch between the CRS of left geometries and the CRS of right geometries.\n",
      "Use `to_crs()` to reproject one of the input geometries to match the CRS of the other.\n",
      "\n",
      "Left CRS: ESRI:54009\n",
      "Right CRS: None\n",
      "\n",
      "  return geopandas.sjoin(left_df=self, right_df=df, *args, **kwargs)\n"
     ]
    },
    {
     "name": "stderr",
     "output_type": "stream",
     "text": [
      "/home/jupyter-peta_admin/.local/lib/python3.8/site-packages/geopandas/geodataframe.py:2072: UserWarning: CRS mismatch between the CRS of left geometries and the CRS of right geometries.\n",
      "Use `to_crs()` to reproject one of the input geometries to match the CRS of the other.\n",
      "\n",
      "Left CRS: ESRI:54009\n",
      "Right CRS: None\n",
      "\n",
      "  return geopandas.sjoin(left_df=self, right_df=df, *args, **kwargs)\n"
     ]
    },
    {
     "name": "stderr",
     "output_type": "stream",
     "text": [
      "/home/jupyter-peta_admin/.local/lib/python3.8/site-packages/geopandas/geodataframe.py:2072: UserWarning: CRS mismatch between the CRS of left geometries and the CRS of right geometries.\n",
      "Use `to_crs()` to reproject one of the input geometries to match the CRS of the other.\n",
      "\n",
      "Left CRS: ESRI:54009\n",
      "Right CRS: None\n",
      "\n",
      "  return geopandas.sjoin(left_df=self, right_df=df, *args, **kwargs)\n"
     ]
    },
    {
     "name": "stderr",
     "output_type": "stream",
     "text": [
      "/home/jupyter-peta_admin/.local/lib/python3.8/site-packages/geopandas/geodataframe.py:2072: UserWarning: CRS mismatch between the CRS of left geometries and the CRS of right geometries.\n",
      "Use `to_crs()` to reproject one of the input geometries to match the CRS of the other.\n",
      "\n",
      "Left CRS: ESRI:54009\n",
      "Right CRS: None\n",
      "\n",
      "  return geopandas.sjoin(left_df=self, right_df=df, *args, **kwargs)\n"
     ]
    },
    {
     "name": "stderr",
     "output_type": "stream",
     "text": [
      "/home/jupyter-peta_admin/.local/lib/python3.8/site-packages/geopandas/geodataframe.py:2072: UserWarning: CRS mismatch between the CRS of left geometries and the CRS of right geometries.\n",
      "Use `to_crs()` to reproject one of the input geometries to match the CRS of the other.\n",
      "\n",
      "Left CRS: ESRI:54009\n",
      "Right CRS: None\n",
      "\n",
      "  return geopandas.sjoin(left_df=self, right_df=df, *args, **kwargs)\n"
     ]
    },
    {
     "name": "stderr",
     "output_type": "stream",
     "text": [
      "/home/jupyter-peta_admin/.local/lib/python3.8/site-packages/geopandas/geodataframe.py:2072: UserWarning: CRS mismatch between the CRS of left geometries and the CRS of right geometries.\n",
      "Use `to_crs()` to reproject one of the input geometries to match the CRS of the other.\n",
      "\n",
      "Left CRS: ESRI:54009\n",
      "Right CRS: None\n",
      "\n",
      "  return geopandas.sjoin(left_df=self, right_df=df, *args, **kwargs)\n"
     ]
    },
    {
     "name": "stderr",
     "output_type": "stream",
     "text": [
      "/home/jupyter-peta_admin/.local/lib/python3.8/site-packages/geopandas/geodataframe.py:2072: UserWarning: CRS mismatch between the CRS of left geometries and the CRS of right geometries.\n",
      "Use `to_crs()` to reproject one of the input geometries to match the CRS of the other.\n",
      "\n",
      "Left CRS: ESRI:54009\n",
      "Right CRS: None\n",
      "\n",
      "  return geopandas.sjoin(left_df=self, right_df=df, *args, **kwargs)\n"
     ]
    },
    {
     "name": "stderr",
     "output_type": "stream",
     "text": [
      "/home/jupyter-peta_admin/.local/lib/python3.8/site-packages/geopandas/geodataframe.py:2072: UserWarning: CRS mismatch between the CRS of left geometries and the CRS of right geometries.\n",
      "Use `to_crs()` to reproject one of the input geometries to match the CRS of the other.\n",
      "\n",
      "Left CRS: ESRI:54009\n",
      "Right CRS: None\n",
      "\n",
      "  return geopandas.sjoin(left_df=self, right_df=df, *args, **kwargs)\n"
     ]
    },
    {
     "name": "stderr",
     "output_type": "stream",
     "text": [
      "/home/jupyter-peta_admin/.local/lib/python3.8/site-packages/geopandas/geodataframe.py:2072: UserWarning: CRS mismatch between the CRS of left geometries and the CRS of right geometries.\n",
      "Use `to_crs()` to reproject one of the input geometries to match the CRS of the other.\n",
      "\n",
      "Left CRS: ESRI:54009\n",
      "Right CRS: None\n",
      "\n",
      "  return geopandas.sjoin(left_df=self, right_df=df, *args, **kwargs)\n"
     ]
    },
    {
     "name": "stderr",
     "output_type": "stream",
     "text": [
      "/home/jupyter-peta_admin/.local/lib/python3.8/site-packages/geopandas/geodataframe.py:2072: UserWarning: CRS mismatch between the CRS of left geometries and the CRS of right geometries.\n",
      "Use `to_crs()` to reproject one of the input geometries to match the CRS of the other.\n",
      "\n",
      "Left CRS: ESRI:54009\n",
      "Right CRS: None\n",
      "\n",
      "  return geopandas.sjoin(left_df=self, right_df=df, *args, **kwargs)\n"
     ]
    },
    {
     "name": "stderr",
     "output_type": "stream",
     "text": [
      "/home/jupyter-peta_admin/.local/lib/python3.8/site-packages/geopandas/geodataframe.py:2072: UserWarning: CRS mismatch between the CRS of left geometries and the CRS of right geometries.\n",
      "Use `to_crs()` to reproject one of the input geometries to match the CRS of the other.\n",
      "\n",
      "Left CRS: ESRI:54009\n",
      "Right CRS: None\n",
      "\n",
      "  return geopandas.sjoin(left_df=self, right_df=df, *args, **kwargs)\n"
     ]
    },
    {
     "name": "stderr",
     "output_type": "stream",
     "text": [
      "/home/jupyter-peta_admin/.local/lib/python3.8/site-packages/geopandas/geodataframe.py:2072: UserWarning: CRS mismatch between the CRS of left geometries and the CRS of right geometries.\n",
      "Use `to_crs()` to reproject one of the input geometries to match the CRS of the other.\n",
      "\n",
      "Left CRS: ESRI:54009\n",
      "Right CRS: None\n",
      "\n",
      "  return geopandas.sjoin(left_df=self, right_df=df, *args, **kwargs)\n"
     ]
    },
    {
     "name": "stderr",
     "output_type": "stream",
     "text": [
      "/home/jupyter-peta_admin/.local/lib/python3.8/site-packages/geopandas/geodataframe.py:2072: UserWarning: CRS mismatch between the CRS of left geometries and the CRS of right geometries.\n",
      "Use `to_crs()` to reproject one of the input geometries to match the CRS of the other.\n",
      "\n",
      "Left CRS: ESRI:54009\n",
      "Right CRS: None\n",
      "\n",
      "  return geopandas.sjoin(left_df=self, right_df=df, *args, **kwargs)\n"
     ]
    },
    {
     "name": "stderr",
     "output_type": "stream",
     "text": [
      "/home/jupyter-peta_admin/.local/lib/python3.8/site-packages/geopandas/geodataframe.py:2072: UserWarning: CRS mismatch between the CRS of left geometries and the CRS of right geometries.\n",
      "Use `to_crs()` to reproject one of the input geometries to match the CRS of the other.\n",
      "\n",
      "Left CRS: ESRI:54009\n",
      "Right CRS: None\n",
      "\n",
      "  return geopandas.sjoin(left_df=self, right_df=df, *args, **kwargs)\n"
     ]
    },
    {
     "name": "stderr",
     "output_type": "stream",
     "text": [
      "/home/jupyter-peta_admin/.local/lib/python3.8/site-packages/geopandas/geodataframe.py:2072: UserWarning: CRS mismatch between the CRS of left geometries and the CRS of right geometries.\n",
      "Use `to_crs()` to reproject one of the input geometries to match the CRS of the other.\n",
      "\n",
      "Left CRS: ESRI:54009\n",
      "Right CRS: None\n",
      "\n",
      "  return geopandas.sjoin(left_df=self, right_df=df, *args, **kwargs)\n"
     ]
    },
    {
     "data": {
      "text/plain": [
       "[None,\n",
       " None,\n",
       " None,\n",
       " None,\n",
       " None,\n",
       " None,\n",
       " None,\n",
       " None,\n",
       " None,\n",
       " None,\n",
       " None,\n",
       " None,\n",
       " None,\n",
       " None,\n",
       " None,\n",
       " None,\n",
       " None,\n",
       " None,\n",
       " None]"
      ]
     },
     "execution_count": 8,
     "metadata": {},
     "output_type": "execute_result"
    }
   ],
   "source": [
    "from tqdm.contrib.concurrent import process_map\n",
    "process_map(resampling_1km,data_popdens_100m)   "
   ]
  }
 ],
 "metadata": {
  "celltoolbar": "Tags",
  "kernelspec": {
   "display_name": "Python 3 (ipykernel)",
   "language": "python",
   "name": "python3"
  },
  "language_info": {
   "codemirror_mode": {
    "name": "ipython",
    "version": 3
   },
   "file_extension": ".py",
   "mimetype": "text/x-python",
   "name": "python",
   "nbconvert_exporter": "python",
   "pygments_lexer": "ipython3",
   "version": "3.8.12"
  },
  "papermill": {
   "default_parameters": {},
   "duration": 194.263206,
   "end_time": "2022-09-06T21:26:15.858079",
   "environment_variables": {},
   "exception": null,
   "input_path": "01_Population_Density #2 Resampling_to1km and Calculate BU Percentage-By Kabkota Rev.ipynb",
   "output_path": "01_Population Density #2-13.ipynb",
   "parameters": {
    "kdprov": "13"
   },
   "start_time": "2022-09-06T21:23:01.594873",
   "version": "2.3.4"
  },
  "widgets": {
   "application/vnd.jupyter.widget-state+json": {
    "state": {
     "653d1e58a6b3472e92da84edb212f58b": {
      "model_module": "@jupyter-widgets/base",
      "model_module_version": "1.2.0",
      "model_name": "LayoutModel",
      "state": {
       "_model_module": "@jupyter-widgets/base",
       "_model_module_version": "1.2.0",
       "_model_name": "LayoutModel",
       "_view_count": null,
       "_view_module": "@jupyter-widgets/base",
       "_view_module_version": "1.2.0",
       "_view_name": "LayoutView",
       "align_content": null,
       "align_items": null,
       "align_self": null,
       "border": null,
       "bottom": null,
       "display": null,
       "flex": null,
       "flex_flow": null,
       "grid_area": null,
       "grid_auto_columns": null,
       "grid_auto_flow": null,
       "grid_auto_rows": null,
       "grid_column": null,
       "grid_gap": null,
       "grid_row": null,
       "grid_template_areas": null,
       "grid_template_columns": null,
       "grid_template_rows": null,
       "height": null,
       "justify_content": null,
       "justify_items": null,
       "left": null,
       "margin": null,
       "max_height": null,
       "max_width": null,
       "min_height": null,
       "min_width": null,
       "object_fit": null,
       "object_position": null,
       "order": null,
       "overflow": null,
       "overflow_x": null,
       "overflow_y": null,
       "padding": null,
       "right": null,
       "top": null,
       "visibility": null,
       "width": null
      }
     },
     "91f0c7e7dd894d648a7822143bc830ea": {
      "model_module": "@jupyter-widgets/base",
      "model_module_version": "1.2.0",
      "model_name": "LayoutModel",
      "state": {
       "_model_module": "@jupyter-widgets/base",
       "_model_module_version": "1.2.0",
       "_model_name": "LayoutModel",
       "_view_count": null,
       "_view_module": "@jupyter-widgets/base",
       "_view_module_version": "1.2.0",
       "_view_name": "LayoutView",
       "align_content": null,
       "align_items": null,
       "align_self": null,
       "border": null,
       "bottom": null,
       "display": null,
       "flex": null,
       "flex_flow": null,
       "grid_area": null,
       "grid_auto_columns": null,
       "grid_auto_flow": null,
       "grid_auto_rows": null,
       "grid_column": null,
       "grid_gap": null,
       "grid_row": null,
       "grid_template_areas": null,
       "grid_template_columns": null,
       "grid_template_rows": null,
       "height": null,
       "justify_content": null,
       "justify_items": null,
       "left": null,
       "margin": null,
       "max_height": null,
       "max_width": null,
       "min_height": null,
       "min_width": null,
       "object_fit": null,
       "object_position": null,
       "order": null,
       "overflow": null,
       "overflow_x": null,
       "overflow_y": null,
       "padding": null,
       "right": null,
       "top": null,
       "visibility": null,
       "width": null
      }
     },
     "acb73352b697457a9eab642134c65143": {
      "model_module": "@jupyter-widgets/controls",
      "model_module_version": "1.5.0",
      "model_name": "DescriptionStyleModel",
      "state": {
       "_model_module": "@jupyter-widgets/controls",
       "_model_module_version": "1.5.0",
       "_model_name": "DescriptionStyleModel",
       "_view_count": null,
       "_view_module": "@jupyter-widgets/base",
       "_view_module_version": "1.2.0",
       "_view_name": "StyleView",
       "description_width": ""
      }
     },
     "aedb94d8f4bf46acaa9674d457b9d101": {
      "model_module": "@jupyter-widgets/controls",
      "model_module_version": "1.5.0",
      "model_name": "HTMLModel",
      "state": {
       "_dom_classes": [],
       "_model_module": "@jupyter-widgets/controls",
       "_model_module_version": "1.5.0",
       "_model_name": "HTMLModel",
       "_view_count": null,
       "_view_module": "@jupyter-widgets/controls",
       "_view_module_version": "1.5.0",
       "_view_name": "HTMLView",
       "description": "",
       "description_tooltip": null,
       "layout": "IPY_MODEL_fc63a98dab33485885ac6dc22b987937",
       "placeholder": "​",
       "style": "IPY_MODEL_bf45f6a199a74077bb9f706e57375d2d",
       "value": "100%"
      }
     },
     "b37db78dadf94ae8a4f33913f03d332c": {
      "model_module": "@jupyter-widgets/controls",
      "model_module_version": "1.5.0",
      "model_name": "ProgressStyleModel",
      "state": {
       "_model_module": "@jupyter-widgets/controls",
       "_model_module_version": "1.5.0",
       "_model_name": "ProgressStyleModel",
       "_view_count": null,
       "_view_module": "@jupyter-widgets/base",
       "_view_module_version": "1.2.0",
       "_view_name": "StyleView",
       "bar_color": null,
       "description_width": ""
      }
     },
     "b7415c6678674781a9b6dabd1e3f1bf6": {
      "model_module": "@jupyter-widgets/controls",
      "model_module_version": "1.5.0",
      "model_name": "HTMLModel",
      "state": {
       "_dom_classes": [],
       "_model_module": "@jupyter-widgets/controls",
       "_model_module_version": "1.5.0",
       "_model_name": "HTMLModel",
       "_view_count": null,
       "_view_module": "@jupyter-widgets/controls",
       "_view_module_version": "1.5.0",
       "_view_name": "HTMLView",
       "description": "",
       "description_tooltip": null,
       "layout": "IPY_MODEL_653d1e58a6b3472e92da84edb212f58b",
       "placeholder": "​",
       "style": "IPY_MODEL_acb73352b697457a9eab642134c65143",
       "value": " 19/19 [03:11&lt;00:00, 49.82s/it]"
      }
     },
     "bf45f6a199a74077bb9f706e57375d2d": {
      "model_module": "@jupyter-widgets/controls",
      "model_module_version": "1.5.0",
      "model_name": "DescriptionStyleModel",
      "state": {
       "_model_module": "@jupyter-widgets/controls",
       "_model_module_version": "1.5.0",
       "_model_name": "DescriptionStyleModel",
       "_view_count": null,
       "_view_module": "@jupyter-widgets/base",
       "_view_module_version": "1.2.0",
       "_view_name": "StyleView",
       "description_width": ""
      }
     },
     "db1c8c31243d402ea2b6a680cc5daf25": {
      "model_module": "@jupyter-widgets/controls",
      "model_module_version": "1.5.0",
      "model_name": "FloatProgressModel",
      "state": {
       "_dom_classes": [],
       "_model_module": "@jupyter-widgets/controls",
       "_model_module_version": "1.5.0",
       "_model_name": "FloatProgressModel",
       "_view_count": null,
       "_view_module": "@jupyter-widgets/controls",
       "_view_module_version": "1.5.0",
       "_view_name": "ProgressView",
       "bar_style": "success",
       "description": "",
       "description_tooltip": null,
       "layout": "IPY_MODEL_e7623840de9c4f2eb78d2497adb2fd26",
       "max": 19.0,
       "min": 0.0,
       "orientation": "horizontal",
       "style": "IPY_MODEL_b37db78dadf94ae8a4f33913f03d332c",
       "value": 19.0
      }
     },
     "e7623840de9c4f2eb78d2497adb2fd26": {
      "model_module": "@jupyter-widgets/base",
      "model_module_version": "1.2.0",
      "model_name": "LayoutModel",
      "state": {
       "_model_module": "@jupyter-widgets/base",
       "_model_module_version": "1.2.0",
       "_model_name": "LayoutModel",
       "_view_count": null,
       "_view_module": "@jupyter-widgets/base",
       "_view_module_version": "1.2.0",
       "_view_name": "LayoutView",
       "align_content": null,
       "align_items": null,
       "align_self": null,
       "border": null,
       "bottom": null,
       "display": null,
       "flex": null,
       "flex_flow": null,
       "grid_area": null,
       "grid_auto_columns": null,
       "grid_auto_flow": null,
       "grid_auto_rows": null,
       "grid_column": null,
       "grid_gap": null,
       "grid_row": null,
       "grid_template_areas": null,
       "grid_template_columns": null,
       "grid_template_rows": null,
       "height": null,
       "justify_content": null,
       "justify_items": null,
       "left": null,
       "margin": null,
       "max_height": null,
       "max_width": null,
       "min_height": null,
       "min_width": null,
       "object_fit": null,
       "object_position": null,
       "order": null,
       "overflow": null,
       "overflow_x": null,
       "overflow_y": null,
       "padding": null,
       "right": null,
       "top": null,
       "visibility": null,
       "width": null
      }
     },
     "f5167d88629c4f8f8d4f32ad49f7701d": {
      "model_module": "@jupyter-widgets/controls",
      "model_module_version": "1.5.0",
      "model_name": "HBoxModel",
      "state": {
       "_dom_classes": [],
       "_model_module": "@jupyter-widgets/controls",
       "_model_module_version": "1.5.0",
       "_model_name": "HBoxModel",
       "_view_count": null,
       "_view_module": "@jupyter-widgets/controls",
       "_view_module_version": "1.5.0",
       "_view_name": "HBoxView",
       "box_style": "",
       "children": [
        "IPY_MODEL_aedb94d8f4bf46acaa9674d457b9d101",
        "IPY_MODEL_db1c8c31243d402ea2b6a680cc5daf25",
        "IPY_MODEL_b7415c6678674781a9b6dabd1e3f1bf6"
       ],
       "layout": "IPY_MODEL_91f0c7e7dd894d648a7822143bc830ea"
      }
     },
     "fc63a98dab33485885ac6dc22b987937": {
      "model_module": "@jupyter-widgets/base",
      "model_module_version": "1.2.0",
      "model_name": "LayoutModel",
      "state": {
       "_model_module": "@jupyter-widgets/base",
       "_model_module_version": "1.2.0",
       "_model_name": "LayoutModel",
       "_view_count": null,
       "_view_module": "@jupyter-widgets/base",
       "_view_module_version": "1.2.0",
       "_view_name": "LayoutView",
       "align_content": null,
       "align_items": null,
       "align_self": null,
       "border": null,
       "bottom": null,
       "display": null,
       "flex": null,
       "flex_flow": null,
       "grid_area": null,
       "grid_auto_columns": null,
       "grid_auto_flow": null,
       "grid_auto_rows": null,
       "grid_column": null,
       "grid_gap": null,
       "grid_row": null,
       "grid_template_areas": null,
       "grid_template_columns": null,
       "grid_template_rows": null,
       "height": null,
       "justify_content": null,
       "justify_items": null,
       "left": null,
       "margin": null,
       "max_height": null,
       "max_width": null,
       "min_height": null,
       "min_width": null,
       "object_fit": null,
       "object_position": null,
       "order": null,
       "overflow": null,
       "overflow_x": null,
       "overflow_y": null,
       "padding": null,
       "right": null,
       "top": null,
       "visibility": null,
       "width": null
      }
     }
    },
    "version_major": 2,
    "version_minor": 0
   }
  }
 },
 "nbformat": 4,
 "nbformat_minor": 5
}