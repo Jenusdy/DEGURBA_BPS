{
 "cells": [
  {
   "cell_type": "code",
   "execution_count": 1,
   "id": "f0432d92",
   "metadata": {
    "execution": {
     "iopub.execute_input": "2022-09-06T22:15:59.451773Z",
     "iopub.status.busy": "2022-09-06T22:15:59.450909Z",
     "iopub.status.idle": "2022-09-06T22:15:59.458647Z",
     "shell.execute_reply": "2022-09-06T22:15:59.457964Z"
    },
    "papermill": {
     "duration": 0.013042,
     "end_time": "2022-09-06T22:15:59.460223",
     "exception": false,
     "start_time": "2022-09-06T22:15:59.447181",
     "status": "completed"
    },
    "tags": [
     "parameters"
    ]
   },
   "outputs": [],
   "source": [
    "kdprov = '76'"
   ]
  },
  {
   "cell_type": "code",
   "execution_count": 2,
   "id": "2548f12c",
   "metadata": {
    "execution": {
     "iopub.execute_input": "2022-09-06T22:15:59.466394Z",
     "iopub.status.busy": "2022-09-06T22:15:59.466146Z",
     "iopub.status.idle": "2022-09-06T22:15:59.469078Z",
     "shell.execute_reply": "2022-09-06T22:15:59.468531Z"
    },
    "papermill": {
     "duration": 0.007308,
     "end_time": "2022-09-06T22:15:59.470666",
     "exception": false,
     "start_time": "2022-09-06T22:15:59.463358",
     "status": "completed"
    },
    "tags": [
     "injected-parameters"
    ]
   },
   "outputs": [],
   "source": [
    "# Parameters\n",
    "kdprov = \"18\"\n"
   ]
  },
  {
   "cell_type": "code",
   "execution_count": 3,
   "id": "f6300764",
   "metadata": {
    "execution": {
     "iopub.execute_input": "2022-09-06T22:15:59.474943Z",
     "iopub.status.busy": "2022-09-06T22:15:59.474704Z",
     "iopub.status.idle": "2022-09-06T22:15:59.876652Z",
     "shell.execute_reply": "2022-09-06T22:15:59.875778Z"
    },
    "papermill": {
     "duration": 0.406159,
     "end_time": "2022-09-06T22:15:59.878482",
     "exception": false,
     "start_time": "2022-09-06T22:15:59.472323",
     "status": "completed"
    },
    "tags": []
   },
   "outputs": [
    {
     "name": "stderr",
     "output_type": "stream",
     "text": [
      "/home/jupyter-peta_admin/.local/lib/python3.8/site-packages/geopandas/_compat.py:112: UserWarning: The Shapely GEOS version (3.10.2-CAPI-1.16.0) is incompatible with the GEOS version PyGEOS was compiled with (3.10.1-CAPI-1.16.0). Conversions between both will be slow.\n",
      "  warnings.warn(\n"
     ]
    }
   ],
   "source": [
    "import pandas as pd\n",
    "\n",
    "import geopandas as gpd\n",
    "from glob import glob"
   ]
  },
  {
   "cell_type": "code",
   "execution_count": 4,
   "id": "f8fc1325",
   "metadata": {
    "execution": {
     "iopub.execute_input": "2022-09-06T22:15:59.885456Z",
     "iopub.status.busy": "2022-09-06T22:15:59.884573Z",
     "iopub.status.idle": "2022-09-06T22:16:00.319309Z",
     "shell.execute_reply": "2022-09-06T22:16:00.318334Z"
    },
    "papermill": {
     "duration": 0.439883,
     "end_time": "2022-09-06T22:16:00.321271",
     "exception": false,
     "start_time": "2022-09-06T22:15:59.881388",
     "status": "completed"
    },
    "tags": []
   },
   "outputs": [],
   "source": [
    "# open data sp\n",
    "data_peta_w_ruta = gpd.read_file(\"data/output/0_raster_data_desa/desa_pend_rasterize_\"+kdprov+\".gpkg\").to_crs('ESRI:54009')#.area\n",
    "data_peta_w_ruta['idkab']=data_peta_w_ruta.iddesa.apply(lambda y: str(y)[:4])\n"
   ]
  },
  {
   "cell_type": "code",
   "execution_count": 5,
   "id": "75ba398f",
   "metadata": {
    "execution": {
     "iopub.execute_input": "2022-09-06T22:16:00.327837Z",
     "iopub.status.busy": "2022-09-06T22:16:00.327548Z",
     "iopub.status.idle": "2022-09-06T22:16:00.350444Z",
     "shell.execute_reply": "2022-09-06T22:16:00.349824Z"
    },
    "papermill": {
     "duration": 0.02761,
     "end_time": "2022-09-06T22:16:00.352007",
     "exception": false,
     "start_time": "2022-09-06T22:16:00.324397",
     "status": "completed"
    },
    "tags": []
   },
   "outputs": [
    {
     "data": {
      "text/html": [
       "<div>\n",
       "<style scoped>\n",
       "    .dataframe tbody tr th:only-of-type {\n",
       "        vertical-align: middle;\n",
       "    }\n",
       "\n",
       "    .dataframe tbody tr th {\n",
       "        vertical-align: top;\n",
       "    }\n",
       "\n",
       "    .dataframe thead th {\n",
       "        text-align: right;\n",
       "    }\n",
       "</style>\n",
       "<table border=\"1\" class=\"dataframe\">\n",
       "  <thead>\n",
       "    <tr style=\"text-align: right;\">\n",
       "      <th></th>\n",
       "      <th>iddesa</th>\n",
       "      <th>DN</th>\n",
       "      <th>id</th>\n",
       "      <th>pop2020</th>\n",
       "      <th>geometry</th>\n",
       "      <th>idkab</th>\n",
       "    </tr>\n",
       "  </thead>\n",
       "  <tbody>\n",
       "    <tr>\n",
       "      <th>0</th>\n",
       "      <td>1801040001</td>\n",
       "      <td>0.0</td>\n",
       "      <td>0.0</td>\n",
       "      <td>2129.0</td>\n",
       "      <td>POLYGON ((10405500.000 -621800.000, 10405600.0...</td>\n",
       "      <td>1801</td>\n",
       "    </tr>\n",
       "    <tr>\n",
       "      <th>1</th>\n",
       "      <td>1801040002</td>\n",
       "      <td>1.0</td>\n",
       "      <td>1.0</td>\n",
       "      <td>2600.0</td>\n",
       "      <td>POLYGON ((10409700.000 -622400.000, 10410200.0...</td>\n",
       "      <td>1801</td>\n",
       "    </tr>\n",
       "    <tr>\n",
       "      <th>2</th>\n",
       "      <td>1801040003</td>\n",
       "      <td>2.0</td>\n",
       "      <td>2.0</td>\n",
       "      <td>1522.0</td>\n",
       "      <td>POLYGON ((10410600.000 -618600.000, 10411000.0...</td>\n",
       "      <td>1801</td>\n",
       "    </tr>\n",
       "    <tr>\n",
       "      <th>3</th>\n",
       "      <td>1801040004</td>\n",
       "      <td>3.0</td>\n",
       "      <td>3.0</td>\n",
       "      <td>1549.0</td>\n",
       "      <td>POLYGON ((10408700.000 -618200.000, 10408900.0...</td>\n",
       "      <td>1801</td>\n",
       "    </tr>\n",
       "  </tbody>\n",
       "</table>\n",
       "</div>"
      ],
      "text/plain": [
       "       iddesa   DN   id  pop2020  \\\n",
       "0  1801040001  0.0  0.0   2129.0   \n",
       "1  1801040002  1.0  1.0   2600.0   \n",
       "2  1801040003  2.0  2.0   1522.0   \n",
       "3  1801040004  3.0  3.0   1549.0   \n",
       "\n",
       "                                            geometry idkab  \n",
       "0  POLYGON ((10405500.000 -621800.000, 10405600.0...  1801  \n",
       "1  POLYGON ((10409700.000 -622400.000, 10410200.0...  1801  \n",
       "2  POLYGON ((10410600.000 -618600.000, 10411000.0...  1801  \n",
       "3  POLYGON ((10408700.000 -618200.000, 10408900.0...  1801  "
      ]
     },
     "execution_count": 5,
     "metadata": {},
     "output_type": "execute_result"
    }
   ],
   "source": [
    "data_peta_w_ruta.head(4)"
   ]
  },
  {
   "cell_type": "code",
   "execution_count": 6,
   "id": "28abada6",
   "metadata": {
    "execution": {
     "iopub.execute_input": "2022-09-06T22:16:00.356928Z",
     "iopub.status.busy": "2022-09-06T22:16:00.356699Z",
     "iopub.status.idle": "2022-09-06T22:16:00.362458Z",
     "shell.execute_reply": "2022-09-06T22:16:00.361920Z"
    },
    "papermill": {
     "duration": 0.010233,
     "end_time": "2022-09-06T22:16:00.364013",
     "exception": false,
     "start_time": "2022-09-06T22:16:00.353780",
     "status": "completed"
    },
    "tags": []
   },
   "outputs": [],
   "source": [
    "data_builtup_kabkota=glob(\"data/input/GHSL Data/2020/gpkg/ghs_built_\"+kdprov+\"*_nonzero.shp\")"
   ]
  },
  {
   "cell_type": "code",
   "execution_count": 7,
   "id": "72f5142f",
   "metadata": {
    "execution": {
     "iopub.execute_input": "2022-09-06T22:16:00.368956Z",
     "iopub.status.busy": "2022-09-06T22:16:00.368738Z",
     "iopub.status.idle": "2022-09-06T22:16:00.372519Z",
     "shell.execute_reply": "2022-09-06T22:16:00.372050Z"
    },
    "papermill": {
     "duration": 0.007928,
     "end_time": "2022-09-06T22:16:00.373859",
     "exception": false,
     "start_time": "2022-09-06T22:16:00.365931",
     "status": "completed"
    },
    "tags": []
   },
   "outputs": [
    {
     "data": {
      "text/plain": [
       "['data/input/GHSL Data/2020/gpkg/ghs_built_1813_nonzero.shp',\n",
       " 'data/input/GHSL Data/2020/gpkg/ghs_built_1810_nonzero.shp',\n",
       " 'data/input/GHSL Data/2020/gpkg/ghs_built_1804_nonzero.shp',\n",
       " 'data/input/GHSL Data/2020/gpkg/ghs_built_1812_nonzero.shp',\n",
       " 'data/input/GHSL Data/2020/gpkg/ghs_built_1803_nonzero.shp',\n",
       " 'data/input/GHSL Data/2020/gpkg/ghs_built_1809_nonzero.shp',\n",
       " 'data/input/GHSL Data/2020/gpkg/ghs_built_1871_nonzero.shp',\n",
       " 'data/input/GHSL Data/2020/gpkg/ghs_built_1805_nonzero.shp',\n",
       " 'data/input/GHSL Data/2020/gpkg/ghs_built_1807_nonzero.shp',\n",
       " 'data/input/GHSL Data/2020/gpkg/ghs_built_1806_nonzero.shp',\n",
       " 'data/input/GHSL Data/2020/gpkg/ghs_built_1811_nonzero.shp',\n",
       " 'data/input/GHSL Data/2020/gpkg/ghs_built_1872_nonzero.shp',\n",
       " 'data/input/GHSL Data/2020/gpkg/ghs_built_1801_nonzero.shp',\n",
       " 'data/input/GHSL Data/2020/gpkg/ghs_built_1802_nonzero.shp',\n",
       " 'data/input/GHSL Data/2020/gpkg/ghs_built_1808_nonzero.shp']"
      ]
     },
     "execution_count": 7,
     "metadata": {},
     "output_type": "execute_result"
    }
   ],
   "source": [
    "data_builtup_kabkota"
   ]
  },
  {
   "cell_type": "code",
   "execution_count": 8,
   "id": "25e1506d",
   "metadata": {
    "execution": {
     "iopub.execute_input": "2022-09-06T22:16:00.379127Z",
     "iopub.status.busy": "2022-09-06T22:16:00.378547Z",
     "iopub.status.idle": "2022-09-06T22:16:00.385559Z",
     "shell.execute_reply": "2022-09-06T22:16:00.384808Z"
    },
    "papermill": {
     "duration": 0.011358,
     "end_time": "2022-09-06T22:16:00.387282",
     "exception": false,
     "start_time": "2022-09-06T22:16:00.375924",
     "status": "completed"
    },
    "tags": []
   },
   "outputs": [],
   "source": [
    "import os.path\n",
    "def pop_dens(dt):\n",
    "    global data_peta_w_ruta\n",
    "    kdkab=dt.split('/')[5].replace('ghs_built_','').replace('_nonzero.shp','')\n",
    "    if ((os.path.exists(\"data/output/1_population_density/grid_pop_\"+kdkab+\"_100m.gpkg\")==False) \n",
    "        or (os.path.exists(\"data/output/1_population_density/grid_pop_\"+kdkab+\"_100m.gpkg-journal\")==True)):\n",
    "        data_builtup=gpd.read_file(dt)#.to_crs(('ESRI:54009'))\n",
    "        data_builtup['DN']=data_builtup.value\n",
    "        data_peta_w_ruta.pop2020.sum()\n",
    "        data_builtup['centroid'] = data_builtup.centroid\n",
    "        data_builtup['polygon'] = data_builtup['geometry']\n",
    "        data_builtup.crs='ESRI:54009'\n",
    "        data_peta_w_ruta.crs='ESRI:54009'\n",
    "        data_builtup = data_builtup.loc[:,['DN','centroid','polygon']].set_geometry(\"centroid\").sjoin(data_peta_w_ruta)\n",
    "        data_builtup['TOTAL_PEND']=data_builtup['pop2020']\n",
    "    # data_builtup = data_builtup.loc[:,['DN','geometry']].sjoin(data_peta_w_ruta)\n",
    "        data_builtup['p_area'] = data_builtup['DN_left'] / data_builtup.groupby('iddesa').DN_left.transform('sum')\n",
    "        data_builtup['j_pend'] = list(data_builtup['p_area']*data_builtup['TOTAL_PEND'])\n",
    "    # data_builtup[['DN_left', 'geometry', 'iddesa','TOTAL_PEND', 'p_area','j_pend']].to_file(\"data/input/grid_pop_\"+kdprov+\"_100m.gpkg\", driver=\"GPKG\")\n",
    "        data_builtup[['DN_left', 'centroid', 'iddesa','TOTAL_PEND', 'p_area','j_pend']].to_file(\"data/temp/grid_pop_\"+kdkab+\"_100m.gpkg\", driver=\"GPKG\")\n",
    "        data_=data_builtup[['DN_left', 'polygon', 'iddesa','TOTAL_PEND', 'p_area','j_pend']].set_geometry(\"polygon\")\n",
    "        data_.crs='ESRI:54009'\n",
    "        data_.to_file(\"data/output/1_population_density/grid_pop_\"+kdkab+\"_100m.gpkg\", driver=\"GPKG\")\n",
    "    else:\n",
    "        print('SKIP for: ',kdkab)"
   ]
  },
  {
   "cell_type": "code",
   "execution_count": 9,
   "id": "8aa13266",
   "metadata": {
    "execution": {
     "iopub.execute_input": "2022-09-06T22:16:00.392315Z",
     "iopub.status.busy": "2022-09-06T22:16:00.392076Z",
     "iopub.status.idle": "2022-09-06T22:19:13.416976Z",
     "shell.execute_reply": "2022-09-06T22:19:13.416043Z"
    },
    "papermill": {
     "duration": 193.030102,
     "end_time": "2022-09-06T22:19:13.419277",
     "exception": false,
     "start_time": "2022-09-06T22:16:00.389175",
     "status": "completed"
    },
    "tags": []
   },
   "outputs": [
    {
     "data": {
      "application/vnd.jupyter.widget-view+json": {
       "model_id": "4080a6fe2228474fb426435784278c04",
       "version_major": 2,
       "version_minor": 0
      },
      "text/plain": [
       "  0%|          | 0/15 [00:00<?, ?it/s]"
      ]
     },
     "metadata": {},
     "output_type": "display_data"
    },
    {
     "name": "stderr",
     "output_type": "stream",
     "text": [
      "/home/jupyter-peta_admin/.local/lib/python3.8/site-packages/geopandas/geodataframe.py:2072: UserWarning: CRS mismatch between the CRS of left geometries and the CRS of right geometries.\n",
      "Use `to_crs()` to reproject one of the input geometries to match the CRS of the other.\n",
      "\n",
      "Left CRS: None\n",
      "Right CRS: ESRI:54009\n",
      "\n",
      "  return geopandas.sjoin(left_df=self, right_df=df, *args, **kwargs)\n"
     ]
    },
    {
     "name": "stderr",
     "output_type": "stream",
     "text": [
      "/home/jupyter-peta_admin/.local/lib/python3.8/site-packages/geopandas/geodataframe.py:2072: UserWarning: CRS mismatch between the CRS of left geometries and the CRS of right geometries.\n",
      "Use `to_crs()` to reproject one of the input geometries to match the CRS of the other.\n",
      "\n",
      "Left CRS: None\n",
      "Right CRS: ESRI:54009\n",
      "\n",
      "  return geopandas.sjoin(left_df=self, right_df=df, *args, **kwargs)\n"
     ]
    },
    {
     "name": "stderr",
     "output_type": "stream",
     "text": [
      "/home/jupyter-peta_admin/.local/lib/python3.8/site-packages/geopandas/geodataframe.py:2072: UserWarning: CRS mismatch between the CRS of left geometries and the CRS of right geometries.\n",
      "Use `to_crs()` to reproject one of the input geometries to match the CRS of the other.\n",
      "\n",
      "Left CRS: None\n",
      "Right CRS: ESRI:54009\n",
      "\n",
      "  return geopandas.sjoin(left_df=self, right_df=df, *args, **kwargs)\n"
     ]
    },
    {
     "name": "stderr",
     "output_type": "stream",
     "text": [
      "/home/jupyter-peta_admin/.local/lib/python3.8/site-packages/geopandas/geodataframe.py:2072: UserWarning: CRS mismatch between the CRS of left geometries and the CRS of right geometries.\n",
      "Use `to_crs()` to reproject one of the input geometries to match the CRS of the other.\n",
      "\n",
      "Left CRS: None\n",
      "Right CRS: ESRI:54009\n",
      "\n",
      "  return geopandas.sjoin(left_df=self, right_df=df, *args, **kwargs)\n"
     ]
    },
    {
     "name": "stderr",
     "output_type": "stream",
     "text": [
      "/home/jupyter-peta_admin/.local/lib/python3.8/site-packages/geopandas/geodataframe.py:2072: UserWarning: CRS mismatch between the CRS of left geometries and the CRS of right geometries.\n",
      "Use `to_crs()` to reproject one of the input geometries to match the CRS of the other.\n",
      "\n",
      "Left CRS: None\n",
      "Right CRS: ESRI:54009\n",
      "\n",
      "  return geopandas.sjoin(left_df=self, right_df=df, *args, **kwargs)\n"
     ]
    },
    {
     "name": "stderr",
     "output_type": "stream",
     "text": [
      "/home/jupyter-peta_admin/.local/lib/python3.8/site-packages/geopandas/geodataframe.py:2072: UserWarning: CRS mismatch between the CRS of left geometries and the CRS of right geometries.\n",
      "Use `to_crs()` to reproject one of the input geometries to match the CRS of the other.\n",
      "\n",
      "Left CRS: None\n",
      "Right CRS: ESRI:54009\n",
      "\n",
      "  return geopandas.sjoin(left_df=self, right_df=df, *args, **kwargs)\n"
     ]
    },
    {
     "name": "stderr",
     "output_type": "stream",
     "text": [
      "/home/jupyter-peta_admin/.local/lib/python3.8/site-packages/geopandas/geodataframe.py:2072: UserWarning: CRS mismatch between the CRS of left geometries and the CRS of right geometries.\n",
      "Use `to_crs()` to reproject one of the input geometries to match the CRS of the other.\n",
      "\n",
      "Left CRS: None\n",
      "Right CRS: ESRI:54009\n",
      "\n",
      "  return geopandas.sjoin(left_df=self, right_df=df, *args, **kwargs)\n"
     ]
    },
    {
     "name": "stderr",
     "output_type": "stream",
     "text": [
      "/home/jupyter-peta_admin/.local/lib/python3.8/site-packages/geopandas/geodataframe.py:2072: UserWarning: CRS mismatch between the CRS of left geometries and the CRS of right geometries.\n",
      "Use `to_crs()` to reproject one of the input geometries to match the CRS of the other.\n",
      "\n",
      "Left CRS: None\n",
      "Right CRS: ESRI:54009\n",
      "\n",
      "  return geopandas.sjoin(left_df=self, right_df=df, *args, **kwargs)\n"
     ]
    },
    {
     "name": "stderr",
     "output_type": "stream",
     "text": [
      "/home/jupyter-peta_admin/.local/lib/python3.8/site-packages/geopandas/geodataframe.py:2072: UserWarning: CRS mismatch between the CRS of left geometries and the CRS of right geometries.\n",
      "Use `to_crs()` to reproject one of the input geometries to match the CRS of the other.\n",
      "\n",
      "Left CRS: None\n",
      "Right CRS: ESRI:54009\n",
      "\n",
      "  return geopandas.sjoin(left_df=self, right_df=df, *args, **kwargs)\n"
     ]
    },
    {
     "name": "stderr",
     "output_type": "stream",
     "text": [
      "/home/jupyter-peta_admin/.local/lib/python3.8/site-packages/geopandas/geodataframe.py:2072: UserWarning: CRS mismatch between the CRS of left geometries and the CRS of right geometries.\n",
      "Use `to_crs()` to reproject one of the input geometries to match the CRS of the other.\n",
      "\n",
      "Left CRS: None\n",
      "Right CRS: ESRI:54009\n",
      "\n",
      "  return geopandas.sjoin(left_df=self, right_df=df, *args, **kwargs)\n"
     ]
    },
    {
     "name": "stderr",
     "output_type": "stream",
     "text": [
      "/home/jupyter-peta_admin/.local/lib/python3.8/site-packages/geopandas/geodataframe.py:2072: UserWarning: CRS mismatch between the CRS of left geometries and the CRS of right geometries.\n",
      "Use `to_crs()` to reproject one of the input geometries to match the CRS of the other.\n",
      "\n",
      "Left CRS: None\n",
      "Right CRS: ESRI:54009\n",
      "\n",
      "  return geopandas.sjoin(left_df=self, right_df=df, *args, **kwargs)\n"
     ]
    },
    {
     "name": "stderr",
     "output_type": "stream",
     "text": [
      "/home/jupyter-peta_admin/.local/lib/python3.8/site-packages/geopandas/geodataframe.py:2072: UserWarning: CRS mismatch between the CRS of left geometries and the CRS of right geometries.\n",
      "Use `to_crs()` to reproject one of the input geometries to match the CRS of the other.\n",
      "\n",
      "Left CRS: None\n",
      "Right CRS: ESRI:54009\n",
      "\n",
      "  return geopandas.sjoin(left_df=self, right_df=df, *args, **kwargs)\n"
     ]
    },
    {
     "name": "stderr",
     "output_type": "stream",
     "text": [
      "/home/jupyter-peta_admin/.local/lib/python3.8/site-packages/geopandas/geodataframe.py:2072: UserWarning: CRS mismatch between the CRS of left geometries and the CRS of right geometries.\n",
      "Use `to_crs()` to reproject one of the input geometries to match the CRS of the other.\n",
      "\n",
      "Left CRS: None\n",
      "Right CRS: ESRI:54009\n",
      "\n",
      "  return geopandas.sjoin(left_df=self, right_df=df, *args, **kwargs)\n"
     ]
    },
    {
     "name": "stderr",
     "output_type": "stream",
     "text": [
      "/home/jupyter-peta_admin/.local/lib/python3.8/site-packages/geopandas/geodataframe.py:2072: UserWarning: CRS mismatch between the CRS of left geometries and the CRS of right geometries.\n",
      "Use `to_crs()` to reproject one of the input geometries to match the CRS of the other.\n",
      "\n",
      "Left CRS: None\n",
      "Right CRS: ESRI:54009\n",
      "\n",
      "  return geopandas.sjoin(left_df=self, right_df=df, *args, **kwargs)\n"
     ]
    },
    {
     "name": "stderr",
     "output_type": "stream",
     "text": [
      "/home/jupyter-peta_admin/.local/lib/python3.8/site-packages/geopandas/geodataframe.py:2072: UserWarning: CRS mismatch between the CRS of left geometries and the CRS of right geometries.\n",
      "Use `to_crs()` to reproject one of the input geometries to match the CRS of the other.\n",
      "\n",
      "Left CRS: None\n",
      "Right CRS: ESRI:54009\n",
      "\n",
      "  return geopandas.sjoin(left_df=self, right_df=df, *args, **kwargs)\n"
     ]
    },
    {
     "data": {
      "text/plain": [
       "[None,\n",
       " None,\n",
       " None,\n",
       " None,\n",
       " None,\n",
       " None,\n",
       " None,\n",
       " None,\n",
       " None,\n",
       " None,\n",
       " None,\n",
       " None,\n",
       " None,\n",
       " None,\n",
       " None]"
      ]
     },
     "execution_count": 9,
     "metadata": {},
     "output_type": "execute_result"
    }
   ],
   "source": [
    "from tqdm.contrib.concurrent import process_map\n",
    "process_map(pop_dens,data_builtup_kabkota)   "
   ]
  }
 ],
 "metadata": {
  "celltoolbar": "Tags",
  "kernelspec": {
   "display_name": "Python 3 (ipykernel)",
   "language": "python",
   "name": "python3"
  },
  "language_info": {
   "codemirror_mode": {
    "name": "ipython",
    "version": 3
   },
   "file_extension": ".py",
   "mimetype": "text/x-python",
   "name": "python",
   "nbconvert_exporter": "python",
   "pygments_lexer": "ipython3",
   "version": "3.8.12"
  },
  "papermill": {
   "default_parameters": {},
   "duration": 195.359371,
   "end_time": "2022-09-06T22:19:13.743045",
   "environment_variables": {},
   "exception": null,
   "input_path": "01_Population_Density #1 Preparing for 100m By KABKOTA.ipynb",
   "output_path": "01_Population Density #1-18.ipynb",
   "parameters": {
    "kdprov": "18"
   },
   "start_time": "2022-09-06T22:15:58.383674",
   "version": "2.3.4"
  },
  "widgets": {
   "application/vnd.jupyter.widget-state+json": {
    "state": {
     "0a34f8f929a94396ab3e1ddaa6e14aac": {
      "model_module": "@jupyter-widgets/controls",
      "model_module_version": "1.5.0",
      "model_name": "HTMLModel",
      "state": {
       "_dom_classes": [],
       "_model_module": "@jupyter-widgets/controls",
       "_model_module_version": "1.5.0",
       "_model_name": "HTMLModel",
       "_view_count": null,
       "_view_module": "@jupyter-widgets/controls",
       "_view_module_version": "1.5.0",
       "_view_name": "HTMLView",
       "description": "",
       "description_tooltip": null,
       "layout": "IPY_MODEL_bb5043adaa54420dadf8dcf4d267f1c6",
       "placeholder": "​",
       "style": "IPY_MODEL_da52d69bc1294f91ba338fa33747d016",
       "value": "100%"
      }
     },
     "1345a0b8e6be4ed6b53520e4ce49be3b": {
      "model_module": "@jupyter-widgets/controls",
      "model_module_version": "1.5.0",
      "model_name": "ProgressStyleModel",
      "state": {
       "_model_module": "@jupyter-widgets/controls",
       "_model_module_version": "1.5.0",
       "_model_name": "ProgressStyleModel",
       "_view_count": null,
       "_view_module": "@jupyter-widgets/base",
       "_view_module_version": "1.2.0",
       "_view_name": "StyleView",
       "bar_color": null,
       "description_width": ""
      }
     },
     "2f6b7bd8bee54533a56f283b318d2633": {
      "model_module": "@jupyter-widgets/base",
      "model_module_version": "1.2.0",
      "model_name": "LayoutModel",
      "state": {
       "_model_module": "@jupyter-widgets/base",
       "_model_module_version": "1.2.0",
       "_model_name": "LayoutModel",
       "_view_count": null,
       "_view_module": "@jupyter-widgets/base",
       "_view_module_version": "1.2.0",
       "_view_name": "LayoutView",
       "align_content": null,
       "align_items": null,
       "align_self": null,
       "border": null,
       "bottom": null,
       "display": null,
       "flex": null,
       "flex_flow": null,
       "grid_area": null,
       "grid_auto_columns": null,
       "grid_auto_flow": null,
       "grid_auto_rows": null,
       "grid_column": null,
       "grid_gap": null,
       "grid_row": null,
       "grid_template_areas": null,
       "grid_template_columns": null,
       "grid_template_rows": null,
       "height": null,
       "justify_content": null,
       "justify_items": null,
       "left": null,
       "margin": null,
       "max_height": null,
       "max_width": null,
       "min_height": null,
       "min_width": null,
       "object_fit": null,
       "object_position": null,
       "order": null,
       "overflow": null,
       "overflow_x": null,
       "overflow_y": null,
       "padding": null,
       "right": null,
       "top": null,
       "visibility": null,
       "width": null
      }
     },
     "3ebf0bad693d4f8cb97a3a8a1e4dc5d4": {
      "model_module": "@jupyter-widgets/base",
      "model_module_version": "1.2.0",
      "model_name": "LayoutModel",
      "state": {
       "_model_module": "@jupyter-widgets/base",
       "_model_module_version": "1.2.0",
       "_model_name": "LayoutModel",
       "_view_count": null,
       "_view_module": "@jupyter-widgets/base",
       "_view_module_version": "1.2.0",
       "_view_name": "LayoutView",
       "align_content": null,
       "align_items": null,
       "align_self": null,
       "border": null,
       "bottom": null,
       "display": null,
       "flex": null,
       "flex_flow": null,
       "grid_area": null,
       "grid_auto_columns": null,
       "grid_auto_flow": null,
       "grid_auto_rows": null,
       "grid_column": null,
       "grid_gap": null,
       "grid_row": null,
       "grid_template_areas": null,
       "grid_template_columns": null,
       "grid_template_rows": null,
       "height": null,
       "justify_content": null,
       "justify_items": null,
       "left": null,
       "margin": null,
       "max_height": null,
       "max_width": null,
       "min_height": null,
       "min_width": null,
       "object_fit": null,
       "object_position": null,
       "order": null,
       "overflow": null,
       "overflow_x": null,
       "overflow_y": null,
       "padding": null,
       "right": null,
       "top": null,
       "visibility": null,
       "width": null
      }
     },
     "4080a6fe2228474fb426435784278c04": {
      "model_module": "@jupyter-widgets/controls",
      "model_module_version": "1.5.0",
      "model_name": "HBoxModel",
      "state": {
       "_dom_classes": [],
       "_model_module": "@jupyter-widgets/controls",
       "_model_module_version": "1.5.0",
       "_model_name": "HBoxModel",
       "_view_count": null,
       "_view_module": "@jupyter-widgets/controls",
       "_view_module_version": "1.5.0",
       "_view_name": "HBoxView",
       "box_style": "",
       "children": [
        "IPY_MODEL_0a34f8f929a94396ab3e1ddaa6e14aac",
        "IPY_MODEL_d64d3bb5933e4238bc55793e54d9769e",
        "IPY_MODEL_f5cbb40b7d2d4aa2a88f3cbc61a8c361"
       ],
       "layout": "IPY_MODEL_2f6b7bd8bee54533a56f283b318d2633"
      }
     },
     "85bdd981b41c4e45b0946075c70b4a4f": {
      "model_module": "@jupyter-widgets/controls",
      "model_module_version": "1.5.0",
      "model_name": "DescriptionStyleModel",
      "state": {
       "_model_module": "@jupyter-widgets/controls",
       "_model_module_version": "1.5.0",
       "_model_name": "DescriptionStyleModel",
       "_view_count": null,
       "_view_module": "@jupyter-widgets/base",
       "_view_module_version": "1.2.0",
       "_view_name": "StyleView",
       "description_width": ""
      }
     },
     "afd3c67117544ec4a5c49332b18fbd49": {
      "model_module": "@jupyter-widgets/base",
      "model_module_version": "1.2.0",
      "model_name": "LayoutModel",
      "state": {
       "_model_module": "@jupyter-widgets/base",
       "_model_module_version": "1.2.0",
       "_model_name": "LayoutModel",
       "_view_count": null,
       "_view_module": "@jupyter-widgets/base",
       "_view_module_version": "1.2.0",
       "_view_name": "LayoutView",
       "align_content": null,
       "align_items": null,
       "align_self": null,
       "border": null,
       "bottom": null,
       "display": null,
       "flex": null,
       "flex_flow": null,
       "grid_area": null,
       "grid_auto_columns": null,
       "grid_auto_flow": null,
       "grid_auto_rows": null,
       "grid_column": null,
       "grid_gap": null,
       "grid_row": null,
       "grid_template_areas": null,
       "grid_template_columns": null,
       "grid_template_rows": null,
       "height": null,
       "justify_content": null,
       "justify_items": null,
       "left": null,
       "margin": null,
       "max_height": null,
       "max_width": null,
       "min_height": null,
       "min_width": null,
       "object_fit": null,
       "object_position": null,
       "order": null,
       "overflow": null,
       "overflow_x": null,
       "overflow_y": null,
       "padding": null,
       "right": null,
       "top": null,
       "visibility": null,
       "width": null
      }
     },
     "bb5043adaa54420dadf8dcf4d267f1c6": {
      "model_module": "@jupyter-widgets/base",
      "model_module_version": "1.2.0",
      "model_name": "LayoutModel",
      "state": {
       "_model_module": "@jupyter-widgets/base",
       "_model_module_version": "1.2.0",
       "_model_name": "LayoutModel",
       "_view_count": null,
       "_view_module": "@jupyter-widgets/base",
       "_view_module_version": "1.2.0",
       "_view_name": "LayoutView",
       "align_content": null,
       "align_items": null,
       "align_self": null,
       "border": null,
       "bottom": null,
       "display": null,
       "flex": null,
       "flex_flow": null,
       "grid_area": null,
       "grid_auto_columns": null,
       "grid_auto_flow": null,
       "grid_auto_rows": null,
       "grid_column": null,
       "grid_gap": null,
       "grid_row": null,
       "grid_template_areas": null,
       "grid_template_columns": null,
       "grid_template_rows": null,
       "height": null,
       "justify_content": null,
       "justify_items": null,
       "left": null,
       "margin": null,
       "max_height": null,
       "max_width": null,
       "min_height": null,
       "min_width": null,
       "object_fit": null,
       "object_position": null,
       "order": null,
       "overflow": null,
       "overflow_x": null,
       "overflow_y": null,
       "padding": null,
       "right": null,
       "top": null,
       "visibility": null,
       "width": null
      }
     },
     "d64d3bb5933e4238bc55793e54d9769e": {
      "model_module": "@jupyter-widgets/controls",
      "model_module_version": "1.5.0",
      "model_name": "FloatProgressModel",
      "state": {
       "_dom_classes": [],
       "_model_module": "@jupyter-widgets/controls",
       "_model_module_version": "1.5.0",
       "_model_name": "FloatProgressModel",
       "_view_count": null,
       "_view_module": "@jupyter-widgets/controls",
       "_view_module_version": "1.5.0",
       "_view_name": "ProgressView",
       "bar_style": "success",
       "description": "",
       "description_tooltip": null,
       "layout": "IPY_MODEL_afd3c67117544ec4a5c49332b18fbd49",
       "max": 15.0,
       "min": 0.0,
       "orientation": "horizontal",
       "style": "IPY_MODEL_1345a0b8e6be4ed6b53520e4ce49be3b",
       "value": 15.0
      }
     },
     "da52d69bc1294f91ba338fa33747d016": {
      "model_module": "@jupyter-widgets/controls",
      "model_module_version": "1.5.0",
      "model_name": "DescriptionStyleModel",
      "state": {
       "_model_module": "@jupyter-widgets/controls",
       "_model_module_version": "1.5.0",
       "_model_name": "DescriptionStyleModel",
       "_view_count": null,
       "_view_module": "@jupyter-widgets/base",
       "_view_module_version": "1.2.0",
       "_view_name": "StyleView",
       "description_width": ""
      }
     },
     "f5cbb40b7d2d4aa2a88f3cbc61a8c361": {
      "model_module": "@jupyter-widgets/controls",
      "model_module_version": "1.5.0",
      "model_name": "HTMLModel",
      "state": {
       "_dom_classes": [],
       "_model_module": "@jupyter-widgets/controls",
       "_model_module_version": "1.5.0",
       "_model_name": "HTMLModel",
       "_view_count": null,
       "_view_module": "@jupyter-widgets/controls",
       "_view_module_version": "1.5.0",
       "_view_name": "HTMLView",
       "description": "",
       "description_tooltip": null,
       "layout": "IPY_MODEL_3ebf0bad693d4f8cb97a3a8a1e4dc5d4",
       "placeholder": "​",
       "style": "IPY_MODEL_85bdd981b41c4e45b0946075c70b4a4f",
       "value": " 15/15 [03:12&lt;00:00, 17.00s/it]"
      }
     }
    },
    "version_major": 2,
    "version_minor": 0
   }
  }
 },
 "nbformat": 4,
 "nbformat_minor": 5
}