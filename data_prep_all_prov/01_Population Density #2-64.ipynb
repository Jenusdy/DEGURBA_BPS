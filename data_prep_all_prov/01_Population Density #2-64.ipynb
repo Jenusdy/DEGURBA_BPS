{
 "cells": [
  {
   "cell_type": "code",
   "execution_count": 1,
   "id": "517ff479",
   "metadata": {
    "execution": {
     "iopub.execute_input": "2022-09-07T01:06:06.477734Z",
     "iopub.status.busy": "2022-09-07T01:06:06.477339Z",
     "iopub.status.idle": "2022-09-07T01:06:06.485366Z",
     "shell.execute_reply": "2022-09-07T01:06:06.484720Z"
    },
    "papermill": {
     "duration": 0.013439,
     "end_time": "2022-09-07T01:06:06.487124",
     "exception": false,
     "start_time": "2022-09-07T01:06:06.473685",
     "status": "completed"
    },
    "tags": [
     "parameters"
    ]
   },
   "outputs": [],
   "source": [
    "kdprov = '76'"
   ]
  },
  {
   "cell_type": "code",
   "execution_count": 2,
   "id": "54717688",
   "metadata": {
    "execution": {
     "iopub.execute_input": "2022-09-07T01:06:06.494113Z",
     "iopub.status.busy": "2022-09-07T01:06:06.493807Z",
     "iopub.status.idle": "2022-09-07T01:06:06.497146Z",
     "shell.execute_reply": "2022-09-07T01:06:06.496533Z"
    },
    "papermill": {
     "duration": 0.008463,
     "end_time": "2022-09-07T01:06:06.498912",
     "exception": false,
     "start_time": "2022-09-07T01:06:06.490449",
     "status": "completed"
    },
    "tags": [
     "injected-parameters"
    ]
   },
   "outputs": [],
   "source": [
    "# Parameters\n",
    "kdprov = \"64\"\n"
   ]
  },
  {
   "cell_type": "code",
   "execution_count": 3,
   "id": "b77d269d",
   "metadata": {
    "execution": {
     "iopub.execute_input": "2022-09-07T01:06:06.503772Z",
     "iopub.status.busy": "2022-09-07T01:06:06.503176Z",
     "iopub.status.idle": "2022-09-07T01:06:07.182049Z",
     "shell.execute_reply": "2022-09-07T01:06:07.181289Z"
    },
    "papermill": {
     "duration": 0.683573,
     "end_time": "2022-09-07T01:06:07.184159",
     "exception": false,
     "start_time": "2022-09-07T01:06:06.500586",
     "status": "completed"
    },
    "tags": []
   },
   "outputs": [
    {
     "name": "stderr",
     "output_type": "stream",
     "text": [
      "/home/jupyter-peta_admin/.local/lib/python3.8/site-packages/geopandas/_compat.py:112: UserWarning: The Shapely GEOS version (3.10.2-CAPI-1.16.0) is incompatible with the GEOS version PyGEOS was compiled with (3.10.1-CAPI-1.16.0). Conversions between both will be slow.\n",
      "  warnings.warn(\n"
     ]
    }
   ],
   "source": [
    "import pandas as pd\n",
    "import geopandas as gpd\n",
    "import rasterio\n",
    "import rasterio.features as features\n",
    "import numpy as np\n",
    "from rasterio.enums import Resampling\n",
    "from rasterio.crs import CRS\n",
    "import itertools\n",
    "\n",
    "from shapely.geometry import box"
   ]
  },
  {
   "cell_type": "code",
   "execution_count": 4,
   "id": "32a2c10f",
   "metadata": {
    "execution": {
     "iopub.execute_input": "2022-09-07T01:06:07.190850Z",
     "iopub.status.busy": "2022-09-07T01:06:07.190466Z",
     "iopub.status.idle": "2022-09-07T01:06:07.194589Z",
     "shell.execute_reply": "2022-09-07T01:06:07.193872Z"
    },
    "papermill": {
     "duration": 0.008879,
     "end_time": "2022-09-07T01:06:07.196215",
     "exception": false,
     "start_time": "2022-09-07T01:06:07.187336",
     "status": "completed"
    },
    "tags": []
   },
   "outputs": [],
   "source": [
    "from glob import glob"
   ]
  },
  {
   "cell_type": "code",
   "execution_count": 5,
   "id": "31300527",
   "metadata": {
    "execution": {
     "iopub.execute_input": "2022-09-07T01:06:07.200904Z",
     "iopub.status.busy": "2022-09-07T01:06:07.200633Z",
     "iopub.status.idle": "2022-09-07T01:06:07.205674Z",
     "shell.execute_reply": "2022-09-07T01:06:07.205094Z"
    },
    "papermill": {
     "duration": 0.009309,
     "end_time": "2022-09-07T01:06:07.207222",
     "exception": false,
     "start_time": "2022-09-07T01:06:07.197913",
     "status": "completed"
    },
    "tags": []
   },
   "outputs": [],
   "source": [
    "data_popdens_100m=glob(\"data/output/1_population_density/grid_pop_\"+kdprov+\"*_100m.gpkg\")\n",
    "data_popdens_100m=[i for i in data_popdens_100m if len(i)==56]"
   ]
  },
  {
   "cell_type": "code",
   "execution_count": 6,
   "id": "d11c9d82",
   "metadata": {
    "execution": {
     "iopub.execute_input": "2022-09-07T01:06:07.211614Z",
     "iopub.status.busy": "2022-09-07T01:06:07.211390Z",
     "iopub.status.idle": "2022-09-07T01:06:07.220807Z",
     "shell.execute_reply": "2022-09-07T01:06:07.220184Z"
    },
    "papermill": {
     "duration": 0.013548,
     "end_time": "2022-09-07T01:06:07.222270",
     "exception": false,
     "start_time": "2022-09-07T01:06:07.208722",
     "status": "completed"
    },
    "tags": []
   },
   "outputs": [
    {
     "data": {
      "text/plain": [
       "['data/output/1_population_density/grid_pop_6404_100m.gpkg',\n",
       " 'data/output/1_population_density/grid_pop_6471_100m.gpkg',\n",
       " 'data/output/1_population_density/grid_pop_6403_100m.gpkg',\n",
       " 'data/output/1_population_density/grid_pop_6472_100m.gpkg',\n",
       " 'data/output/1_population_density/grid_pop_6402_100m.gpkg',\n",
       " 'data/output/1_population_density/grid_pop_6409_100m.gpkg',\n",
       " 'data/output/1_population_density/grid_pop_6474_100m.gpkg',\n",
       " 'data/output/1_population_density/grid_pop_6405_100m.gpkg',\n",
       " 'data/output/1_population_density/grid_pop_6411_100m.gpkg',\n",
       " 'data/output/1_population_density/grid_pop_6401_100m.gpkg']"
      ]
     },
     "execution_count": 6,
     "metadata": {},
     "output_type": "execute_result"
    }
   ],
   "source": [
    "data_popdens_100m"
   ]
  },
  {
   "cell_type": "code",
   "execution_count": 7,
   "id": "4144e026",
   "metadata": {
    "execution": {
     "iopub.execute_input": "2022-09-07T01:06:07.226873Z",
     "iopub.status.busy": "2022-09-07T01:06:07.226630Z",
     "iopub.status.idle": "2022-09-07T01:06:07.242090Z",
     "shell.execute_reply": "2022-09-07T01:06:07.241308Z"
    },
    "papermill": {
     "duration": 0.020029,
     "end_time": "2022-09-07T01:06:07.243905",
     "exception": false,
     "start_time": "2022-09-07T01:06:07.223876",
     "status": "completed"
    },
    "tags": []
   },
   "outputs": [],
   "source": [
    "from rasterio.enums import Resampling\n",
    "import os\n",
    "def resampling_1km(dt):\n",
    "    global kdprov\n",
    "    kdkab=dt.split('/')[3].split('_')[2]\n",
    "    if os.path.isfile('data/output/1_population_density/grid_pop_'+kdkab+'_1km.tif')==False:\n",
    "        popdens_100m=gpd.read_file(dt)\n",
    "        popdens_100m['j_pend_round']=popdens_100m.j_pend.apply(lambda y: np.round(y))\n",
    "        raster = rasterio.open(r\"/vsigs/bps-gcp-bucket/Degree of Urbanisation/GHSL data/2020/prov/2020_\"+kdprov+\".tif\")\n",
    "        geom_value = ((geom,value) for geom, value in zip(popdens_100m.geometry, popdens_100m['j_pend_round']))\n",
    "        rasterized = features.rasterize(geom_value,\n",
    "                                out_shape = raster.shape,\n",
    "                                transform = raster.transform,\n",
    "                                all_touched = False,\n",
    "                                fill = 0,\n",
    "                                dtype = np.float64)\n",
    "        with rasterio.open(\n",
    "            \"data/temp/rasterized_popdens_\"+kdkab+\"_100.tif\", \"w\",\n",
    "            driver = \"GTiff\",\n",
    "            transform = raster.transform,\n",
    "            dtype = np.float64,\n",
    "            count = 1,\n",
    "            width = raster.width,\n",
    "            height = raster.height) as dst:\n",
    "            dst.write(rasterized, indexes = 1)\n",
    "    \n",
    "        target_res = (1000, 1000)\n",
    "\n",
    "        with rasterio.open(\"data/temp/rasterized_popdens_\"+kdkab+\"_100.tif\") as src:\n",
    "            data, transform = rasterio.warp.reproject(source=src.read(),\n",
    "                                src_transform=src.transform,\n",
    "                                src_crs=CRS.from_string(\"ESRI:54009\"),\n",
    "                                dst_crs=CRS.from_string(\"ESRI:54009\"),\n",
    "                                dst_nodata=0,\n",
    "                                dst_resolution=target_res,\n",
    "                                              #dtype = np.float64\n",
    "                                resampling=Resampling.sum)\n",
    "            profile = src.profile\n",
    "            profile.update(transform=transform, driver='GTiff',\n",
    "                    height=data.shape[1], width=data.shape[2])\n",
    "\n",
    "            with rasterio.open('data/output/1_population_density/grid_pop_'+kdkab+'_1km.tif', 'w', **profile) as dst:\n",
    "                dst.write(data)\n",
    "    else:\n",
    "        print(\"skip\")\n",
    "    if (os.path.isfile(\"data/output/1_population_density/grid_pop_\"+kdkab+\"_1km_w_bu.gpkg\")==False):\n",
    "        with rasterio.open('data/output/1_population_density/grid_pop_'+kdkab+'_1km.tif') as dataset:\n",
    "            data = dataset.read(1)\n",
    "\n",
    "            t = dataset.transform\n",
    "            move_x = t[0]\n",
    "            move_y = t[4]\n",
    "            height = dataset.height\n",
    "            width = dataset.width \n",
    "    \n",
    "            polygons = []\n",
    "            indices = list(itertools.product(range(width), range(height)))\n",
    "            for x,y in indices:\n",
    "                x_min, y_max = t * (x,y)\n",
    "                x_max = x_min + move_x\n",
    "                y_min = y_max + move_y\n",
    "                polygons.append(box(x_min, y_min, x_max, y_max))\n",
    "        \n",
    "        data_list = []\n",
    "        for x,y in indices:\n",
    "            data_list.append(data[y,x])\n",
    "        vect_tmp = gpd.GeoDataFrame(data=data_list, geometry=polygons, columns=['DN'])\n",
    "        vect_tmp.crs='ESRI:54009'\n",
    "        vect_tmp.DN=vect_tmp.DN.apply(lambda y: 0 if y<=0 else y)\n",
    "        y=gpd.GeoDataFrame()\n",
    "        data_builtup=gpd.read_file(\"data/input/GHSL Data/2020/gpkg/ghs_built_\"+kdkab+\"_nonzero.shp\")#.to_crs(('ESRI:54009'))\n",
    "        data_builtup['builtup']=data_builtup['value']\n",
    "        vect_=vect_tmp.reset_index()\n",
    "        vect_['index_o']=vect_['index'].apply(lambda y:str(y).zfill(7))\n",
    "        data_bu_per1km=vect_.sjoin(data_builtup,how='inner'\n",
    "                          ).sort_values('index_o')[['index_o','builtup']].groupby('index_o').agg('sum').reset_index()\n",
    "        vect_bu=vect_.merge(data_bu_per1km,how='inner')\n",
    "        vect_bu['p_builtup']=vect_bu.builtup/1e6\n",
    "        vect_bu['pop']=vect_bu.DN\n",
    "        vect_bu=vect_bu[['geometry','p_builtup','pop']].fillna(0)\n",
    "        vect_bu.crs='ESRI:54009'\n",
    "        vector = gpd.read_file(r\"data/input/Master_Data/DESA_20201_BYINDO.gpkg\").query('idkab==@kdkab').to_crs(\"ESRI:54009\")\n",
    "        vect_bu['index_o']=vect_bu.index.astype(str).str.zfill(8)\n",
    "        vect_bu.sjoin(vector)[['geometry','p_builtup','pop','index_o']].dissolve(by=['index_o']).to_file(\"data/output/1_population_density/grid_pop_\"+kdkab+\"_1km_w_bu.gpkg\",driver='GPKG')\n",
    "    else:\n",
    "        print(\"skip\")"
   ]
  },
  {
   "cell_type": "code",
   "execution_count": 8,
   "id": "1f6ead36",
   "metadata": {
    "execution": {
     "iopub.execute_input": "2022-09-07T01:06:07.248804Z",
     "iopub.status.busy": "2022-09-07T01:06:07.248402Z",
     "iopub.status.idle": "2022-09-07T01:19:21.980605Z",
     "shell.execute_reply": "2022-09-07T01:19:21.979654Z"
    },
    "papermill": {
     "duration": 794.736828,
     "end_time": "2022-09-07T01:19:21.982509",
     "exception": false,
     "start_time": "2022-09-07T01:06:07.245681",
     "status": "completed"
    },
    "tags": []
   },
   "outputs": [
    {
     "data": {
      "application/vnd.jupyter.widget-view+json": {
       "model_id": "24d8e9b6d6364f6397dbccf586493fb4",
       "version_major": 2,
       "version_minor": 0
      },
      "text/plain": [
       "  0%|          | 0/10 [00:00<?, ?it/s]"
      ]
     },
     "metadata": {},
     "output_type": "display_data"
    },
    {
     "name": "stderr",
     "output_type": "stream",
     "text": [
      "/home/jupyter-peta_admin/.local/lib/python3.8/site-packages/geopandas/geodataframe.py:2072: UserWarning: CRS mismatch between the CRS of left geometries and the CRS of right geometries.\n",
      "Use `to_crs()` to reproject one of the input geometries to match the CRS of the other.\n",
      "\n",
      "Left CRS: ESRI:54009\n",
      "Right CRS: None\n",
      "\n",
      "  return geopandas.sjoin(left_df=self, right_df=df, *args, **kwargs)\n"
     ]
    },
    {
     "name": "stderr",
     "output_type": "stream",
     "text": [
      "/home/jupyter-peta_admin/.local/lib/python3.8/site-packages/geopandas/geodataframe.py:2072: UserWarning: CRS mismatch between the CRS of left geometries and the CRS of right geometries.\n",
      "Use `to_crs()` to reproject one of the input geometries to match the CRS of the other.\n",
      "\n",
      "Left CRS: ESRI:54009\n",
      "Right CRS: None\n",
      "\n",
      "  return geopandas.sjoin(left_df=self, right_df=df, *args, **kwargs)\n"
     ]
    },
    {
     "name": "stderr",
     "output_type": "stream",
     "text": [
      "/home/jupyter-peta_admin/.local/lib/python3.8/site-packages/geopandas/geodataframe.py:2072: UserWarning: CRS mismatch between the CRS of left geometries and the CRS of right geometries.\n",
      "Use `to_crs()` to reproject one of the input geometries to match the CRS of the other.\n",
      "\n",
      "Left CRS: ESRI:54009\n",
      "Right CRS: None\n",
      "\n",
      "  return geopandas.sjoin(left_df=self, right_df=df, *args, **kwargs)\n"
     ]
    },
    {
     "name": "stderr",
     "output_type": "stream",
     "text": [
      "/home/jupyter-peta_admin/.local/lib/python3.8/site-packages/geopandas/geodataframe.py:2072: UserWarning: CRS mismatch between the CRS of left geometries and the CRS of right geometries.\n",
      "Use `to_crs()` to reproject one of the input geometries to match the CRS of the other.\n",
      "\n",
      "Left CRS: ESRI:54009\n",
      "Right CRS: None\n",
      "\n",
      "  return geopandas.sjoin(left_df=self, right_df=df, *args, **kwargs)\n"
     ]
    },
    {
     "name": "stderr",
     "output_type": "stream",
     "text": [
      "/home/jupyter-peta_admin/.local/lib/python3.8/site-packages/geopandas/geodataframe.py:2072: UserWarning: CRS mismatch between the CRS of left geometries and the CRS of right geometries.\n",
      "Use `to_crs()` to reproject one of the input geometries to match the CRS of the other.\n",
      "\n",
      "Left CRS: ESRI:54009\n",
      "Right CRS: None\n",
      "\n",
      "  return geopandas.sjoin(left_df=self, right_df=df, *args, **kwargs)\n"
     ]
    },
    {
     "name": "stderr",
     "output_type": "stream",
     "text": [
      "/home/jupyter-peta_admin/.local/lib/python3.8/site-packages/geopandas/geodataframe.py:2072: UserWarning: CRS mismatch between the CRS of left geometries and the CRS of right geometries.\n",
      "Use `to_crs()` to reproject one of the input geometries to match the CRS of the other.\n",
      "\n",
      "Left CRS: ESRI:54009\n",
      "Right CRS: None\n",
      "\n",
      "  return geopandas.sjoin(left_df=self, right_df=df, *args, **kwargs)\n"
     ]
    },
    {
     "name": "stderr",
     "output_type": "stream",
     "text": [
      "/home/jupyter-peta_admin/.local/lib/python3.8/site-packages/geopandas/geodataframe.py:2072: UserWarning: CRS mismatch between the CRS of left geometries and the CRS of right geometries.\n",
      "Use `to_crs()` to reproject one of the input geometries to match the CRS of the other.\n",
      "\n",
      "Left CRS: ESRI:54009\n",
      "Right CRS: None\n",
      "\n",
      "  return geopandas.sjoin(left_df=self, right_df=df, *args, **kwargs)\n"
     ]
    },
    {
     "name": "stderr",
     "output_type": "stream",
     "text": [
      "/home/jupyter-peta_admin/.local/lib/python3.8/site-packages/geopandas/geodataframe.py:2072: UserWarning: CRS mismatch between the CRS of left geometries and the CRS of right geometries.\n",
      "Use `to_crs()` to reproject one of the input geometries to match the CRS of the other.\n",
      "\n",
      "Left CRS: ESRI:54009\n",
      "Right CRS: None\n",
      "\n",
      "  return geopandas.sjoin(left_df=self, right_df=df, *args, **kwargs)\n"
     ]
    },
    {
     "name": "stderr",
     "output_type": "stream",
     "text": [
      "/home/jupyter-peta_admin/.local/lib/python3.8/site-packages/geopandas/geodataframe.py:2072: UserWarning: CRS mismatch between the CRS of left geometries and the CRS of right geometries.\n",
      "Use `to_crs()` to reproject one of the input geometries to match the CRS of the other.\n",
      "\n",
      "Left CRS: ESRI:54009\n",
      "Right CRS: None\n",
      "\n",
      "  return geopandas.sjoin(left_df=self, right_df=df, *args, **kwargs)\n"
     ]
    },
    {
     "name": "stderr",
     "output_type": "stream",
     "text": [
      "/home/jupyter-peta_admin/.local/lib/python3.8/site-packages/geopandas/geodataframe.py:2072: UserWarning: CRS mismatch between the CRS of left geometries and the CRS of right geometries.\n",
      "Use `to_crs()` to reproject one of the input geometries to match the CRS of the other.\n",
      "\n",
      "Left CRS: ESRI:54009\n",
      "Right CRS: None\n",
      "\n",
      "  return geopandas.sjoin(left_df=self, right_df=df, *args, **kwargs)\n"
     ]
    },
    {
     "data": {
      "text/plain": [
       "[None, None, None, None, None, None, None, None, None, None]"
      ]
     },
     "execution_count": 8,
     "metadata": {},
     "output_type": "execute_result"
    }
   ],
   "source": [
    "from tqdm.contrib.concurrent import process_map\n",
    "process_map(resampling_1km,data_popdens_100m)   "
   ]
  }
 ],
 "metadata": {
  "celltoolbar": "Tags",
  "kernelspec": {
   "display_name": "Python 3 (ipykernel)",
   "language": "python",
   "name": "python3"
  },
  "language_info": {
   "codemirror_mode": {
    "name": "ipython",
    "version": 3
   },
   "file_extension": ".py",
   "mimetype": "text/x-python",
   "name": "python",
   "nbconvert_exporter": "python",
   "pygments_lexer": "ipython3",
   "version": "3.8.12"
  },
  "papermill": {
   "default_parameters": {},
   "duration": 796.831499,
   "end_time": "2022-09-07T01:19:22.305583",
   "environment_variables": {},
   "exception": null,
   "input_path": "01_Population_Density #2 Resampling_to1km and Calculate BU Percentage-By Kabkota Rev.ipynb",
   "output_path": "01_Population Density #2-64.ipynb",
   "parameters": {
    "kdprov": "64"
   },
   "start_time": "2022-09-07T01:06:05.474084",
   "version": "2.3.4"
  },
  "widgets": {
   "application/vnd.jupyter.widget-state+json": {
    "state": {
     "0df3b12775d742ef96a8f8a42748a0ab": {
      "model_module": "@jupyter-widgets/base",
      "model_module_version": "1.2.0",
      "model_name": "LayoutModel",
      "state": {
       "_model_module": "@jupyter-widgets/base",
       "_model_module_version": "1.2.0",
       "_model_name": "LayoutModel",
       "_view_count": null,
       "_view_module": "@jupyter-widgets/base",
       "_view_module_version": "1.2.0",
       "_view_name": "LayoutView",
       "align_content": null,
       "align_items": null,
       "align_self": null,
       "border": null,
       "bottom": null,
       "display": null,
       "flex": null,
       "flex_flow": null,
       "grid_area": null,
       "grid_auto_columns": null,
       "grid_auto_flow": null,
       "grid_auto_rows": null,
       "grid_column": null,
       "grid_gap": null,
       "grid_row": null,
       "grid_template_areas": null,
       "grid_template_columns": null,
       "grid_template_rows": null,
       "height": null,
       "justify_content": null,
       "justify_items": null,
       "left": null,
       "margin": null,
       "max_height": null,
       "max_width": null,
       "min_height": null,
       "min_width": null,
       "object_fit": null,
       "object_position": null,
       "order": null,
       "overflow": null,
       "overflow_x": null,
       "overflow_y": null,
       "padding": null,
       "right": null,
       "top": null,
       "visibility": null,
       "width": null
      }
     },
     "22642d7df2c947fe92859b0dda95e592": {
      "model_module": "@jupyter-widgets/base",
      "model_module_version": "1.2.0",
      "model_name": "LayoutModel",
      "state": {
       "_model_module": "@jupyter-widgets/base",
       "_model_module_version": "1.2.0",
       "_model_name": "LayoutModel",
       "_view_count": null,
       "_view_module": "@jupyter-widgets/base",
       "_view_module_version": "1.2.0",
       "_view_name": "LayoutView",
       "align_content": null,
       "align_items": null,
       "align_self": null,
       "border": null,
       "bottom": null,
       "display": null,
       "flex": null,
       "flex_flow": null,
       "grid_area": null,
       "grid_auto_columns": null,
       "grid_auto_flow": null,
       "grid_auto_rows": null,
       "grid_column": null,
       "grid_gap": null,
       "grid_row": null,
       "grid_template_areas": null,
       "grid_template_columns": null,
       "grid_template_rows": null,
       "height": null,
       "justify_content": null,
       "justify_items": null,
       "left": null,
       "margin": null,
       "max_height": null,
       "max_width": null,
       "min_height": null,
       "min_width": null,
       "object_fit": null,
       "object_position": null,
       "order": null,
       "overflow": null,
       "overflow_x": null,
       "overflow_y": null,
       "padding": null,
       "right": null,
       "top": null,
       "visibility": null,
       "width": null
      }
     },
     "24d8e9b6d6364f6397dbccf586493fb4": {
      "model_module": "@jupyter-widgets/controls",
      "model_module_version": "1.5.0",
      "model_name": "HBoxModel",
      "state": {
       "_dom_classes": [],
       "_model_module": "@jupyter-widgets/controls",
       "_model_module_version": "1.5.0",
       "_model_name": "HBoxModel",
       "_view_count": null,
       "_view_module": "@jupyter-widgets/controls",
       "_view_module_version": "1.5.0",
       "_view_name": "HBoxView",
       "box_style": "",
       "children": [
        "IPY_MODEL_e925b1afd3c04c0e9c2bb2c2fab725ce",
        "IPY_MODEL_6fdab42388b146ef9b68044dd77b8396",
        "IPY_MODEL_577f0a57758e4d9e8d35da729a42b8a9"
       ],
       "layout": "IPY_MODEL_823bf61c4df64824a24a23f90ac811c2"
      }
     },
     "31604eca24e24dd4aa23a7c5afab8cb7": {
      "model_module": "@jupyter-widgets/controls",
      "model_module_version": "1.5.0",
      "model_name": "ProgressStyleModel",
      "state": {
       "_model_module": "@jupyter-widgets/controls",
       "_model_module_version": "1.5.0",
       "_model_name": "ProgressStyleModel",
       "_view_count": null,
       "_view_module": "@jupyter-widgets/base",
       "_view_module_version": "1.2.0",
       "_view_name": "StyleView",
       "bar_color": null,
       "description_width": ""
      }
     },
     "577f0a57758e4d9e8d35da729a42b8a9": {
      "model_module": "@jupyter-widgets/controls",
      "model_module_version": "1.5.0",
      "model_name": "HTMLModel",
      "state": {
       "_dom_classes": [],
       "_model_module": "@jupyter-widgets/controls",
       "_model_module_version": "1.5.0",
       "_model_name": "HTMLModel",
       "_view_count": null,
       "_view_module": "@jupyter-widgets/controls",
       "_view_module_version": "1.5.0",
       "_view_name": "HTMLView",
       "description": "",
       "description_tooltip": null,
       "layout": "IPY_MODEL_22642d7df2c947fe92859b0dda95e592",
       "placeholder": "​",
       "style": "IPY_MODEL_92ad9e641f004d15bf00313d66f0aad9",
       "value": " 10/10 [13:13&lt;00:00, 793.93s/it]"
      }
     },
     "6f2a8a6b598140febf6f061f995f770d": {
      "model_module": "@jupyter-widgets/base",
      "model_module_version": "1.2.0",
      "model_name": "LayoutModel",
      "state": {
       "_model_module": "@jupyter-widgets/base",
       "_model_module_version": "1.2.0",
       "_model_name": "LayoutModel",
       "_view_count": null,
       "_view_module": "@jupyter-widgets/base",
       "_view_module_version": "1.2.0",
       "_view_name": "LayoutView",
       "align_content": null,
       "align_items": null,
       "align_self": null,
       "border": null,
       "bottom": null,
       "display": null,
       "flex": null,
       "flex_flow": null,
       "grid_area": null,
       "grid_auto_columns": null,
       "grid_auto_flow": null,
       "grid_auto_rows": null,
       "grid_column": null,
       "grid_gap": null,
       "grid_row": null,
       "grid_template_areas": null,
       "grid_template_columns": null,
       "grid_template_rows": null,
       "height": null,
       "justify_content": null,
       "justify_items": null,
       "left": null,
       "margin": null,
       "max_height": null,
       "max_width": null,
       "min_height": null,
       "min_width": null,
       "object_fit": null,
       "object_position": null,
       "order": null,
       "overflow": null,
       "overflow_x": null,
       "overflow_y": null,
       "padding": null,
       "right": null,
       "top": null,
       "visibility": null,
       "width": null
      }
     },
     "6fdab42388b146ef9b68044dd77b8396": {
      "model_module": "@jupyter-widgets/controls",
      "model_module_version": "1.5.0",
      "model_name": "FloatProgressModel",
      "state": {
       "_dom_classes": [],
       "_model_module": "@jupyter-widgets/controls",
       "_model_module_version": "1.5.0",
       "_model_name": "FloatProgressModel",
       "_view_count": null,
       "_view_module": "@jupyter-widgets/controls",
       "_view_module_version": "1.5.0",
       "_view_name": "ProgressView",
       "bar_style": "success",
       "description": "",
       "description_tooltip": null,
       "layout": "IPY_MODEL_0df3b12775d742ef96a8f8a42748a0ab",
       "max": 10.0,
       "min": 0.0,
       "orientation": "horizontal",
       "style": "IPY_MODEL_31604eca24e24dd4aa23a7c5afab8cb7",
       "value": 10.0
      }
     },
     "823bf61c4df64824a24a23f90ac811c2": {
      "model_module": "@jupyter-widgets/base",
      "model_module_version": "1.2.0",
      "model_name": "LayoutModel",
      "state": {
       "_model_module": "@jupyter-widgets/base",
       "_model_module_version": "1.2.0",
       "_model_name": "LayoutModel",
       "_view_count": null,
       "_view_module": "@jupyter-widgets/base",
       "_view_module_version": "1.2.0",
       "_view_name": "LayoutView",
       "align_content": null,
       "align_items": null,
       "align_self": null,
       "border": null,
       "bottom": null,
       "display": null,
       "flex": null,
       "flex_flow": null,
       "grid_area": null,
       "grid_auto_columns": null,
       "grid_auto_flow": null,
       "grid_auto_rows": null,
       "grid_column": null,
       "grid_gap": null,
       "grid_row": null,
       "grid_template_areas": null,
       "grid_template_columns": null,
       "grid_template_rows": null,
       "height": null,
       "justify_content": null,
       "justify_items": null,
       "left": null,
       "margin": null,
       "max_height": null,
       "max_width": null,
       "min_height": null,
       "min_width": null,
       "object_fit": null,
       "object_position": null,
       "order": null,
       "overflow": null,
       "overflow_x": null,
       "overflow_y": null,
       "padding": null,
       "right": null,
       "top": null,
       "visibility": null,
       "width": null
      }
     },
     "92ad9e641f004d15bf00313d66f0aad9": {
      "model_module": "@jupyter-widgets/controls",
      "model_module_version": "1.5.0",
      "model_name": "DescriptionStyleModel",
      "state": {
       "_model_module": "@jupyter-widgets/controls",
       "_model_module_version": "1.5.0",
       "_model_name": "DescriptionStyleModel",
       "_view_count": null,
       "_view_module": "@jupyter-widgets/base",
       "_view_module_version": "1.2.0",
       "_view_name": "StyleView",
       "description_width": ""
      }
     },
     "99088c1c205d415f840bc0ceb8d58db5": {
      "model_module": "@jupyter-widgets/controls",
      "model_module_version": "1.5.0",
      "model_name": "DescriptionStyleModel",
      "state": {
       "_model_module": "@jupyter-widgets/controls",
       "_model_module_version": "1.5.0",
       "_model_name": "DescriptionStyleModel",
       "_view_count": null,
       "_view_module": "@jupyter-widgets/base",
       "_view_module_version": "1.2.0",
       "_view_name": "StyleView",
       "description_width": ""
      }
     },
     "e925b1afd3c04c0e9c2bb2c2fab725ce": {
      "model_module": "@jupyter-widgets/controls",
      "model_module_version": "1.5.0",
      "model_name": "HTMLModel",
      "state": {
       "_dom_classes": [],
       "_model_module": "@jupyter-widgets/controls",
       "_model_module_version": "1.5.0",
       "_model_name": "HTMLModel",
       "_view_count": null,
       "_view_module": "@jupyter-widgets/controls",
       "_view_module_version": "1.5.0",
       "_view_name": "HTMLView",
       "description": "",
       "description_tooltip": null,
       "layout": "IPY_MODEL_6f2a8a6b598140febf6f061f995f770d",
       "placeholder": "​",
       "style": "IPY_MODEL_99088c1c205d415f840bc0ceb8d58db5",
       "value": "100%"
      }
     }
    },
    "version_major": 2,
    "version_minor": 0
   }
  }
 },
 "nbformat": 4,
 "nbformat_minor": 5
}