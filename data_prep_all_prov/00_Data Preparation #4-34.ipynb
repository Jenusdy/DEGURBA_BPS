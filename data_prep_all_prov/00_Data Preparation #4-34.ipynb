{
 "cells": [
  {
   "cell_type": "code",
   "execution_count": 1,
   "id": "ffb5ba16",
   "metadata": {
    "execution": {
     "iopub.execute_input": "2022-09-06T14:43:28.635974Z",
     "iopub.status.busy": "2022-09-06T14:43:28.635198Z",
     "iopub.status.idle": "2022-09-06T14:43:28.642471Z",
     "shell.execute_reply": "2022-09-06T14:43:28.641950Z"
    },
    "papermill": {
     "duration": 0.013096,
     "end_time": "2022-09-06T14:43:28.644076",
     "exception": false,
     "start_time": "2022-09-06T14:43:28.630980",
     "status": "completed"
    },
    "tags": [
     "parameters"
    ]
   },
   "outputs": [],
   "source": [
    "kdprov = '76'"
   ]
  },
  {
   "cell_type": "code",
   "execution_count": 2,
   "id": "b65a688a",
   "metadata": {
    "execution": {
     "iopub.execute_input": "2022-09-06T14:43:28.652462Z",
     "iopub.status.busy": "2022-09-06T14:43:28.651934Z",
     "iopub.status.idle": "2022-09-06T14:43:28.654820Z",
     "shell.execute_reply": "2022-09-06T14:43:28.654343Z"
    },
    "papermill": {
     "duration": 0.008428,
     "end_time": "2022-09-06T14:43:28.656393",
     "exception": false,
     "start_time": "2022-09-06T14:43:28.647965",
     "status": "completed"
    },
    "tags": [
     "injected-parameters"
    ]
   },
   "outputs": [],
   "source": [
    "# Parameters\n",
    "kdprov = \"34\"\n"
   ]
  },
  {
   "cell_type": "code",
   "execution_count": 3,
   "id": "4e5d5de4",
   "metadata": {
    "execution": {
     "iopub.execute_input": "2022-09-06T14:43:28.662575Z",
     "iopub.status.busy": "2022-09-06T14:43:28.661982Z",
     "iopub.status.idle": "2022-09-06T14:43:29.868700Z",
     "shell.execute_reply": "2022-09-06T14:43:29.867914Z"
    },
    "papermill": {
     "duration": 1.212505,
     "end_time": "2022-09-06T14:43:29.871065",
     "exception": false,
     "start_time": "2022-09-06T14:43:28.658560",
     "status": "completed"
    },
    "tags": []
   },
   "outputs": [
    {
     "name": "stderr",
     "output_type": "stream",
     "text": [
      "/home/jupyter-peta_admin/.local/lib/python3.8/site-packages/geopandas/_compat.py:112: UserWarning: The Shapely GEOS version (3.10.2-CAPI-1.16.0) is incompatible with the GEOS version PyGEOS was compiled with (3.10.1-CAPI-1.16.0). Conversions between both will be slow.\n",
      "  warnings.warn(\n"
     ]
    }
   ],
   "source": [
    "import pandas as pd\n",
    "import numpy as np\n",
    "import math\n",
    "from matplotlib import pyplot as plt\n",
    "\n",
    "from dbfread import DBF\n",
    "from glob import glob\n",
    "from tqdm import tqdm\n",
    "import os \n",
    "\n",
    "import geopandas as gpd\n",
    "import rasterio\n",
    "import rasterio.features as features\n",
    "from rasterio.plot import show\n",
    "from shapely.geometry import Polygon\n",
    "\n",
    "from osgeo import ogr\n",
    "from osgeo import osr\n",
    "from osgeo import gdal\n",
    "\n",
    "import itertools\n",
    "import rasterio\n",
    "from shapely.geometry import box\n",
    "import geopandas as gpd\n",
    "from rasterio.enums import MergeAlg"
   ]
  },
  {
   "cell_type": "code",
   "execution_count": 4,
   "id": "04437906",
   "metadata": {
    "execution": {
     "iopub.execute_input": "2022-09-06T14:43:29.879476Z",
     "iopub.status.busy": "2022-09-06T14:43:29.878904Z",
     "iopub.status.idle": "2022-09-06T14:43:29.883062Z",
     "shell.execute_reply": "2022-09-06T14:43:29.882416Z"
    },
    "papermill": {
     "duration": 0.009795,
     "end_time": "2022-09-06T14:43:29.884668",
     "exception": false,
     "start_time": "2022-09-06T14:43:29.874873",
     "status": "completed"
    },
    "tags": []
   },
   "outputs": [],
   "source": [
    "from osgeo import gdal, ogr, osr"
   ]
  },
  {
   "cell_type": "code",
   "execution_count": 5,
   "id": "3af1816e",
   "metadata": {
    "execution": {
     "iopub.execute_input": "2022-09-06T14:43:29.891066Z",
     "iopub.status.busy": "2022-09-06T14:43:29.890811Z",
     "iopub.status.idle": "2022-09-06T14:43:32.144142Z",
     "shell.execute_reply": "2022-09-06T14:43:32.143368Z"
    },
    "papermill": {
     "duration": 2.25941,
     "end_time": "2022-09-06T14:43:32.146522",
     "exception": false,
     "start_time": "2022-09-06T14:43:29.887112",
     "status": "completed"
    },
    "tags": []
   },
   "outputs": [],
   "source": [
    "data_kab=gpd.read_file('data/input/Master_Data/kab_20201_byindo.gpkg').query('kdprov==@kdprov')"
   ]
  },
  {
   "cell_type": "code",
   "execution_count": 6,
   "id": "7d110dc2",
   "metadata": {
    "execution": {
     "iopub.execute_input": "2022-09-06T14:43:32.155343Z",
     "iopub.status.busy": "2022-09-06T14:43:32.154740Z",
     "iopub.status.idle": "2022-09-06T14:43:32.158590Z",
     "shell.execute_reply": "2022-09-06T14:43:32.157978Z"
    },
    "papermill": {
     "duration": 0.009247,
     "end_time": "2022-09-06T14:43:32.160296",
     "exception": false,
     "start_time": "2022-09-06T14:43:32.151049",
     "status": "completed"
    },
    "tags": []
   },
   "outputs": [],
   "source": [
    "from rasterio.mask import mask"
   ]
  },
  {
   "cell_type": "code",
   "execution_count": 7,
   "id": "f2b9709b",
   "metadata": {
    "execution": {
     "iopub.execute_input": "2022-09-06T14:43:32.166684Z",
     "iopub.status.busy": "2022-09-06T14:43:32.165989Z",
     "iopub.status.idle": "2022-09-06T14:43:32.830057Z",
     "shell.execute_reply": "2022-09-06T14:43:32.829154Z"
    },
    "papermill": {
     "duration": 0.669571,
     "end_time": "2022-09-06T14:43:32.832279",
     "exception": false,
     "start_time": "2022-09-06T14:43:32.162708",
     "status": "completed"
    },
    "tags": []
   },
   "outputs": [],
   "source": [
    "import json\n",
    "src  = rasterio.open('data/input/GHSL Data/2020/prov/2020_'+kdprov+'.tif')\n",
    "def getFeatures(gdf):\n",
    "    \"\"\"Function to parse features from GeoDataFrame in such a manner that rasterio wants them\"\"\"\n",
    "    return [json.loads(gdf.to_json())['features'][0]['geometry']]\n",
    "for i in data_kab.kdkab.unique():\n",
    "    df=data_kab.query('kdkab==@i').to_crs('ESRI:54009')\n",
    "    \n",
    "    coords = getFeatures(df)\n",
    "    clipped_array, clipped_transform = mask(dataset=src, shapes=coords, crop=True)\n",
    "\n",
    "    df = df.to_crs(src.crs)\n",
    "    out_meta = src.meta.copy()\n",
    "    out_meta.update({\"driver\": \"GTiff\",\n",
    "                 \"height\": clipped_array.shape[1],\n",
    "                 \"width\": clipped_array.shape[2],\n",
    "                 \"transform\": clipped_transform})\n",
    "    out_tif= 'data/input/GHSL Data/2020/prov/2020_'+kdprov+'_'+i+'.tif'\n",
    "    with rasterio.open(out_tif, \"w\", **out_meta) as dest:\n",
    "        dest.write(clipped_array)"
   ]
  },
  {
   "cell_type": "code",
   "execution_count": 8,
   "id": "0bcc9ed8",
   "metadata": {
    "execution": {
     "iopub.execute_input": "2022-09-06T14:43:32.841340Z",
     "iopub.status.busy": "2022-09-06T14:43:32.840703Z",
     "iopub.status.idle": "2022-09-06T14:43:32.846904Z",
     "shell.execute_reply": "2022-09-06T14:43:32.846278Z"
    },
    "papermill": {
     "duration": 0.012569,
     "end_time": "2022-09-06T14:43:32.848752",
     "exception": false,
     "start_time": "2022-09-06T14:43:32.836183",
     "status": "completed"
    },
    "tags": []
   },
   "outputs": [],
   "source": [
    "def ghsl_kab_convert(dt):\n",
    "    with rasterio.open(dt) as dataset:\n",
    "        data = dataset.read(1)\n",
    "\n",
    "        t = dataset.transform\n",
    "\n",
    "        move_x = t[0]\n",
    "        move_y = t[4]\n",
    "\n",
    "        height = dataset.height\n",
    "        width = dataset.width \n",
    "\n",
    "        polygons = []\n",
    "        indices = list(itertools.product(range(width), range(height)))\n",
    "        data_list = []\n",
    "    \n",
    "        for x,y in indices:\n",
    "            x_min, y_max = t * (x,y)\n",
    "            x_max = x_min + move_x\n",
    "            y_min = y_max + move_y\n",
    "            polygons.append(box(x_min, y_min, x_max, y_max))\n",
    "            data_list.append(data[y,x])\n",
    "    gdf = gpd.GeoDataFrame(data=data_list, geometry=polygons, columns=['value'])\n",
    "    kdkab=dt.split('_')[2].replace('.tif','')\n",
    "    gdf.query('(value>=0)and(value<=10000)').to_file(\"data/input/GHSL Data/2020/gpkg/ghs_built_\"+kdprov+kdkab+\"_nonzero.shp\")"
   ]
  },
  {
   "cell_type": "code",
   "execution_count": 9,
   "id": "658e96d1",
   "metadata": {
    "execution": {
     "iopub.execute_input": "2022-09-06T14:43:32.855588Z",
     "iopub.status.busy": "2022-09-06T14:43:32.854965Z",
     "iopub.status.idle": "2022-09-06T14:44:06.800577Z",
     "shell.execute_reply": "2022-09-06T14:44:06.799548Z"
    },
    "papermill": {
     "duration": 33.951082,
     "end_time": "2022-09-06T14:44:06.802551",
     "exception": false,
     "start_time": "2022-09-06T14:43:32.851469",
     "status": "completed"
    },
    "tags": []
   },
   "outputs": [
    {
     "data": {
      "application/vnd.jupyter.widget-view+json": {
       "model_id": "122dd6599b66484dbcb2b01a9c3f4da6",
       "version_major": 2,
       "version_minor": 0
      },
      "text/plain": [
       "  0%|          | 0/5 [00:00<?, ?it/s]"
      ]
     },
     "metadata": {},
     "output_type": "display_data"
    },
    {
     "data": {
      "text/plain": [
       "[None, None, None, None, None]"
      ]
     },
     "execution_count": 9,
     "metadata": {},
     "output_type": "execute_result"
    }
   ],
   "source": [
    "import itertools\n",
    "import rasterio\n",
    "from shapely.geometry import box\n",
    "import geopandas as gpd\n",
    "from glob import glob as glob\n",
    "from tqdm.contrib.concurrent import process_map\n",
    "\n",
    "data_rasterio_kab=glob('data/input/GHSL Data/2020/prov/2020_'+kdprov+'_*.tif')\n",
    "process_map(ghsl_kab_convert,data_rasterio_kab)   "
   ]
  },
  {
   "cell_type": "code",
   "execution_count": 10,
   "id": "f0acd561",
   "metadata": {
    "execution": {
     "iopub.execute_input": "2022-09-06T14:44:06.812574Z",
     "iopub.status.busy": "2022-09-06T14:44:06.811772Z",
     "iopub.status.idle": "2022-09-06T14:44:23.271073Z",
     "shell.execute_reply": "2022-09-06T14:44:23.270266Z"
    },
    "papermill": {
     "duration": 16.466538,
     "end_time": "2022-09-06T14:44:23.273573",
     "exception": false,
     "start_time": "2022-09-06T14:44:06.807035",
     "status": "completed"
    },
    "tags": []
   },
   "outputs": [],
   "source": [
    "# import gpkg desa & filter\n",
    "\n",
    "vector = gpd.read_file(r\"data/input/Master_Data/DESA_20201_BYINDO.gpkg\").query('kdprov==@kdprov').to_crs(\"ESRI:54009\")\n",
    "raster = rasterio.open(r\"/vsigs/bps-gcp-bucket/Degree of Urbanisation/GHSL data/2020/prov/2020_\"+kdprov+\".tif\")\n",
    "geom = [shapes for shapes in vector.geometry]\n",
    "# vector['iddesa'] = vector.iddesa.astype(np.int32)\n",
    "vector['id'] = range(0,len(vector))"
   ]
  },
  {
   "cell_type": "code",
   "execution_count": 11,
   "id": "88c8092e",
   "metadata": {
    "execution": {
     "iopub.execute_input": "2022-09-06T14:44:23.283197Z",
     "iopub.status.busy": "2022-09-06T14:44:23.282470Z",
     "iopub.status.idle": "2022-09-06T14:44:23.343715Z",
     "shell.execute_reply": "2022-09-06T14:44:23.342968Z"
    },
    "papermill": {
     "duration": 0.067575,
     "end_time": "2022-09-06T14:44:23.345700",
     "exception": false,
     "start_time": "2022-09-06T14:44:23.278125",
     "status": "completed"
    },
    "tags": []
   },
   "outputs": [],
   "source": [
    "vector['geometry']=vector.geometry.buffer(0)"
   ]
  },
  {
   "cell_type": "code",
   "execution_count": 12,
   "id": "0f3b6d12",
   "metadata": {
    "execution": {
     "iopub.execute_input": "2022-09-06T14:44:23.353686Z",
     "iopub.status.busy": "2022-09-06T14:44:23.353102Z",
     "iopub.status.idle": "2022-09-06T14:44:23.856189Z",
     "shell.execute_reply": "2022-09-06T14:44:23.855334Z"
    },
    "papermill": {
     "duration": 0.509437,
     "end_time": "2022-09-06T14:44:23.858257",
     "exception": false,
     "start_time": "2022-09-06T14:44:23.348820",
     "status": "completed"
    },
    "tags": []
   },
   "outputs": [
    {
     "data": {
      "text/plain": [
       "<AxesSubplot:>"
      ]
     },
     "execution_count": 12,
     "metadata": {},
     "output_type": "execute_result"
    },
    {
     "data": {
      "image/png": "[encoded data removed]",
      "text/plain": [
       "<Figure size 720x720 with 1 Axes>"
      ]
     },
     "metadata": {
      "needs_background": "light"
     },
     "output_type": "display_data"
    }
   ],
   "source": [
    "# create tuples of geometry, value pairs, where value is the attribute value you want to burn\n",
    "geom_value = ((geom,value) for geom, value in zip(vector.geometry, vector['id']))\n",
    "# Rasterize vector using the shape and transform of the raster\n",
    "#rasterized = features.rasterize(geom_value,\n",
    "#                                out_shape = raster.shape,\n",
    "#                                fill = -5,\n",
    "#                                out = None,\n",
    "#                                transform = raster.transform,\n",
    "#                                all_touched = False,\n",
    "#                                default_value = 1,\n",
    "#                                dtype = np.int32)\n",
    "\n",
    "rasterized = features.rasterize(geom_value,\n",
    "                                out_shape = raster.shape,\n",
    "                                transform = raster.transform,\n",
    "                                all_touched = True,\n",
    "                                fill = -5,   # background value\n",
    "                                default_value = 1,\n",
    "                                dtype = np.float64)\n",
    "\n",
    "# Plot raster\n",
    "fig, ax = plt.subplots(1, figsize = (10, 10))\n",
    "show(rasterized, ax = ax)\n",
    "#plt.gca().invert_yaxis()"
   ]
  },
  {
   "cell_type": "code",
   "execution_count": 13,
   "id": "fd43450d",
   "metadata": {
    "execution": {
     "iopub.execute_input": "2022-09-06T14:44:23.869599Z",
     "iopub.status.busy": "2022-09-06T14:44:23.869293Z",
     "iopub.status.idle": "2022-09-06T14:44:24.315611Z",
     "shell.execute_reply": "2022-09-06T14:44:24.314808Z"
    },
    "papermill": {
     "duration": 0.454429,
     "end_time": "2022-09-06T14:44:24.317920",
     "exception": false,
     "start_time": "2022-09-06T14:44:23.863491",
     "status": "completed"
    },
    "tags": []
   },
   "outputs": [],
   "source": [
    "# rasterization polygon desa\n",
    "\n",
    "with rasterio.open(\n",
    "        \"data/temp/rasterized_vector.tif\", \"w\",\n",
    "        driver = \"GTiff\",\n",
    "        transform = raster.transform,\n",
    "        dtype = rasterio.float64,\n",
    "        count = 1,\n",
    "        width = raster.width,\n",
    "        height = raster.height) as dst:\n",
    "    dst.write(rasterized, indexes = 1)\n",
    "\n",
    "# polygonize polygon desa\n",
    "\n",
    "raster_src = gdal.Open(r'data/temp/rasterized_vector.tif')\n",
    "band = raster_src.GetRasterBand(1) \n",
    "\n",
    "drv = ogr.GetDriverByName('ESRI Shapefile')\n",
    "outfile = drv.CreateDataSource(r'data/temp/polygonizedRaster.shp') \n",
    "outlayer = outfile.CreateLayer('polygonized raster', srs = None )\n",
    "newField = ogr.FieldDefn('DN', ogr.OFTReal)\n",
    "outlayer.CreateField(newField)\n",
    "\n",
    "gdal.Polygonize(band, None, outlayer, 0, [])\n",
    "outfile = None\n",
    "\n",
    "raster = None\n",
    "raster_src = None\n",
    "\n",
    "desa = gpd.read_file(r'data/temp/polygonizedRaster.shp')\n",
    "desa = desa.merge(vector[['id','iddesa']], \n",
    "                                 left_on = \"DN\", right_on = \"id\", how=\"left\").dissolve(by=\"iddesa\").reset_index()\n",
    "desa.crs='ESRI:54009'\n",
    "desa.to_file(\"data/input/desa_rasterize_\"+kdprov+\".gpkg\", driver=\"GPKG\")"
   ]
  },
  {
   "cell_type": "code",
   "execution_count": 14,
   "id": "f7a14593",
   "metadata": {
    "execution": {
     "iopub.execute_input": "2022-09-06T14:44:24.329167Z",
     "iopub.status.busy": "2022-09-06T14:44:24.328883Z",
     "iopub.status.idle": "2022-09-06T14:44:24.588111Z",
     "shell.execute_reply": "2022-09-06T14:44:24.587321Z"
    },
    "papermill": {
     "duration": 0.267124,
     "end_time": "2022-09-06T14:44:24.590391",
     "exception": false,
     "start_time": "2022-09-06T14:44:24.323267",
     "status": "completed"
    },
    "tags": []
   },
   "outputs": [],
   "source": [
    "# import ruta\n",
    "\n",
    "data_ruta=pd.read_csv('data/input/Master_Data/pop_desa_rev.csv',sep=',')\n",
    "data_ruta.iddesa=data_ruta.iddesa.astype(str)\n",
    "#data_ruta['iddesa'] = [x[0:10] for x in data_ruta.KODE_SLS]\n",
    "data_ruta['idprov'] = [x[0:2] for x in data_ruta.iddesa]\n",
    "\n",
    "data_ruta = data_ruta.loc[data_ruta.idprov.isin([kdprov])]\n",
    "\n",
    "# join penduduk & polygon desa\n",
    "\n",
    "data_ruta_desa = pd.DataFrame(data_ruta.groupby(\"iddesa\").pop2020.sum()).reset_index()\n",
    "desa = desa.merge(data_ruta_desa, how=\"left\").fillna(0)\n",
    "desa.set_crs('ESRI:54009').to_file(\"data/output/0_raster_data_desa/desa_pend_rasterize_\"+kdprov+\".gpkg\", driver=\"GPKG\")"
   ]
  },
  {
   "cell_type": "code",
   "execution_count": 15,
   "id": "a0761d29",
   "metadata": {
    "execution": {
     "iopub.execute_input": "2022-09-06T14:44:24.602434Z",
     "iopub.status.busy": "2022-09-06T14:44:24.602152Z",
     "iopub.status.idle": "2022-09-06T14:44:24.609373Z",
     "shell.execute_reply": "2022-09-06T14:44:24.608741Z"
    },
    "papermill": {
     "duration": 0.014896,
     "end_time": "2022-09-06T14:44:24.611112",
     "exception": false,
     "start_time": "2022-09-06T14:44:24.596216",
     "status": "completed"
    },
    "scrolled": true,
    "tags": []
   },
   "outputs": [
    {
     "name": "stdout",
     "output_type": "stream",
     "text": [
      "Ada di Peta. tidak di Hasil SP : 1\n",
      "Ada di Hasil SP. tidak di Peta : 1\n"
     ]
    }
   ],
   "source": [
    "print(\"Ada di Peta. tidak di Hasil SP : \"+str(desa[~desa.iddesa.isin(data_ruta.iddesa)].shape[0]))\n",
    "print(\"Ada di Hasil SP. tidak di Peta : \"+str(data_ruta[~data_ruta.iddesa.isin(desa.iddesa)].shape[0]))"
   ]
  },
  {
   "cell_type": "code",
   "execution_count": 16,
   "id": "8173d01c",
   "metadata": {
    "execution": {
     "iopub.execute_input": "2022-09-06T14:44:24.620444Z",
     "iopub.status.busy": "2022-09-06T14:44:24.620179Z",
     "iopub.status.idle": "2022-09-06T14:44:24.629796Z",
     "shell.execute_reply": "2022-09-06T14:44:24.629133Z"
    },
    "papermill": {
     "duration": 0.016211,
     "end_time": "2022-09-06T14:44:24.631404",
     "exception": false,
     "start_time": "2022-09-06T14:44:24.615193",
     "status": "completed"
    },
    "tags": []
   },
   "outputs": [
    {
     "data": {
      "text/html": [
       "<div>\n",
       "<style scoped>\n",
       "    .dataframe tbody tr th:only-of-type {\n",
       "        vertical-align: middle;\n",
       "    }\n",
       "\n",
       "    .dataframe tbody tr th {\n",
       "        vertical-align: top;\n",
       "    }\n",
       "\n",
       "    .dataframe thead th {\n",
       "        text-align: right;\n",
       "    }\n",
       "</style>\n",
       "<table border=\"1\" class=\"dataframe\">\n",
       "  <thead>\n",
       "    <tr style=\"text-align: right;\">\n",
       "      <th></th>\n",
       "      <th>Unnamed: 0</th>\n",
       "      <th>iddesa</th>\n",
       "      <th>pop2020</th>\n",
       "      <th>idprov</th>\n",
       "    </tr>\n",
       "  </thead>\n",
       "  <tbody>\n",
       "    <tr>\n",
       "      <th>40726</th>\n",
       "      <td>40726</td>\n",
       "      <td>3476040007</td>\n",
       "      <td>1977</td>\n",
       "      <td>34</td>\n",
       "    </tr>\n",
       "  </tbody>\n",
       "</table>\n",
       "</div>"
      ],
      "text/plain": [
       "       Unnamed: 0      iddesa  pop2020 idprov\n",
       "40726       40726  3476040007     1977     34"
      ]
     },
     "execution_count": 16,
     "metadata": {},
     "output_type": "execute_result"
    }
   ],
   "source": [
    "data_ruta[~data_ruta.iddesa.isin(desa.iddesa)]"
   ]
  }
 ],
 "metadata": {
  "celltoolbar": "Tags",
  "kernelspec": {
   "display_name": "Python 3 (ipykernel)",
   "language": "python",
   "name": "python3"
  },
  "language_info": {
   "codemirror_mode": {
    "name": "ipython",
    "version": 3
   },
   "file_extension": ".py",
   "mimetype": "text/x-python",
   "name": "python",
   "nbconvert_exporter": "python",
   "pygments_lexer": "ipython3",
   "version": "3.8.12"
  },
  "papermill": {
   "default_parameters": {},
   "duration": 57.624141,
   "end_time": "2022-09-06T14:44:25.155933",
   "environment_variables": {},
   "exception": null,
   "input_path": "00_Data Preparation #4 Rasterize Village Map.ipynb",
   "output_path": "00_Data Preparation #4-34.ipynb",
   "parameters": {
    "kdprov": "34"
   },
   "start_time": "2022-09-06T14:43:27.531792",
   "version": "2.3.4"
  },
  "widgets": {
   "application/vnd.jupyter.widget-state+json": {
    "state": {
     "07101df4c48845c5b2f81e7f867ce354": {
      "model_module": "@jupyter-widgets/controls",
      "model_module_version": "1.5.0",
      "model_name": "ProgressStyleModel",
      "state": {
       "_model_module": "@jupyter-widgets/controls",
       "_model_module_version": "1.5.0",
       "_model_name": "ProgressStyleModel",
       "_view_count": null,
       "_view_module": "@jupyter-widgets/base",
       "_view_module_version": "1.2.0",
       "_view_name": "StyleView",
       "bar_color": null,
       "description_width": ""
      }
     },
     "122dd6599b66484dbcb2b01a9c3f4da6": {
      "model_module": "@jupyter-widgets/controls",
      "model_module_version": "1.5.0",
      "model_name": "HBoxModel",
      "state": {
       "_dom_classes": [],
       "_model_module": "@jupyter-widgets/controls",
       "_model_module_version": "1.5.0",
       "_model_name": "HBoxModel",
       "_view_count": null,
       "_view_module": "@jupyter-widgets/controls",
       "_view_module_version": "1.5.0",
       "_view_name": "HBoxView",
       "box_style": "",
       "children": [
        "IPY_MODEL_c00376405b044fc49b30c360849a5b60",
        "IPY_MODEL_28d34f769e9b4c139e21f1615b658811",
        "IPY_MODEL_9b637c9cfa944e4a8ee76b97e7a8a204"
       ],
       "layout": "IPY_MODEL_778aa9fb75a14e8eb3280801d82ad280"
      }
     },
     "1a976f4266824f95bb2d1155dca846b9": {
      "model_module": "@jupyter-widgets/base",
      "model_module_version": "1.2.0",
      "model_name": "LayoutModel",
      "state": {
       "_model_module": "@jupyter-widgets/base",
       "_model_module_version": "1.2.0",
       "_model_name": "LayoutModel",
       "_view_count": null,
       "_view_module": "@jupyter-widgets/base",
       "_view_module_version": "1.2.0",
       "_view_name": "LayoutView",
       "align_content": null,
       "align_items": null,
       "align_self": null,
       "border": null,
       "bottom": null,
       "display": null,
       "flex": null,
       "flex_flow": null,
       "grid_area": null,
       "grid_auto_columns": null,
       "grid_auto_flow": null,
       "grid_auto_rows": null,
       "grid_column": null,
       "grid_gap": null,
       "grid_row": null,
       "grid_template_areas": null,
       "grid_template_columns": null,
       "grid_template_rows": null,
       "height": null,
       "justify_content": null,
       "justify_items": null,
       "left": null,
       "margin": null,
       "max_height": null,
       "max_width": null,
       "min_height": null,
       "min_width": null,
       "object_fit": null,
       "object_position": null,
       "order": null,
       "overflow": null,
       "overflow_x": null,
       "overflow_y": null,
       "padding": null,
       "right": null,
       "top": null,
       "visibility": null,
       "width": null
      }
     },
     "28d34f769e9b4c139e21f1615b658811": {
      "model_module": "@jupyter-widgets/controls",
      "model_module_version": "1.5.0",
      "model_name": "FloatProgressModel",
      "state": {
       "_dom_classes": [],
       "_model_module": "@jupyter-widgets/controls",
       "_model_module_version": "1.5.0",
       "_model_name": "FloatProgressModel",
       "_view_count": null,
       "_view_module": "@jupyter-widgets/controls",
       "_view_module_version": "1.5.0",
       "_view_name": "ProgressView",
       "bar_style": "success",
       "description": "",
       "description_tooltip": null,
       "layout": "IPY_MODEL_d2f9dc6a9fd5422c949208338949b5a6",
       "max": 5.0,
       "min": 0.0,
       "orientation": "horizontal",
       "style": "IPY_MODEL_07101df4c48845c5b2f81e7f867ce354",
       "value": 5.0
      }
     },
     "2b1687e392ca42559f0000f2f215a9bb": {
      "model_module": "@jupyter-widgets/controls",
      "model_module_version": "1.5.0",
      "model_name": "DescriptionStyleModel",
      "state": {
       "_model_module": "@jupyter-widgets/controls",
       "_model_module_version": "1.5.0",
       "_model_name": "DescriptionStyleModel",
       "_view_count": null,
       "_view_module": "@jupyter-widgets/base",
       "_view_module_version": "1.2.0",
       "_view_name": "StyleView",
       "description_width": ""
      }
     },
     "399f57999ea04b9caf85f22c5cfc4bfc": {
      "model_module": "@jupyter-widgets/controls",
      "model_module_version": "1.5.0",
      "model_name": "DescriptionStyleModel",
      "state": {
       "_model_module": "@jupyter-widgets/controls",
       "_model_module_version": "1.5.0",
       "_model_name": "DescriptionStyleModel",
       "_view_count": null,
       "_view_module": "@jupyter-widgets/base",
       "_view_module_version": "1.2.0",
       "_view_name": "StyleView",
       "description_width": ""
      }
     },
     "46e9f527b8ff490ba87305f995095860": {
      "model_module": "@jupyter-widgets/base",
      "model_module_version": "1.2.0",
      "model_name": "LayoutModel",
      "state": {
       "_model_module": "@jupyter-widgets/base",
       "_model_module_version": "1.2.0",
       "_model_name": "LayoutModel",
       "_view_count": null,
       "_view_module": "@jupyter-widgets/base",
       "_view_module_version": "1.2.0",
       "_view_name": "LayoutView",
       "align_content": null,
       "align_items": null,
       "align_self": null,
       "border": null,
       "bottom": null,
       "display": null,
       "flex": null,
       "flex_flow": null,
       "grid_area": null,
       "grid_auto_columns": null,
       "grid_auto_flow": null,
       "grid_auto_rows": null,
       "grid_column": null,
       "grid_gap": null,
       "grid_row": null,
       "grid_template_areas": null,
       "grid_template_columns": null,
       "grid_template_rows": null,
       "height": null,
       "justify_content": null,
       "justify_items": null,
       "left": null,
       "margin": null,
       "max_height": null,
       "max_width": null,
       "min_height": null,
       "min_width": null,
       "object_fit": null,
       "object_position": null,
       "order": null,
       "overflow": null,
       "overflow_x": null,
       "overflow_y": null,
       "padding": null,
       "right": null,
       "top": null,
       "visibility": null,
       "width": null
      }
     },
     "778aa9fb75a14e8eb3280801d82ad280": {
      "model_module": "@jupyter-widgets/base",
      "model_module_version": "1.2.0",
      "model_name": "LayoutModel",
      "state": {
       "_model_module": "@jupyter-widgets/base",
       "_model_module_version": "1.2.0",
       "_model_name": "LayoutModel",
       "_view_count": null,
       "_view_module": "@jupyter-widgets/base",
       "_view_module_version": "1.2.0",
       "_view_name": "LayoutView",
       "align_content": null,
       "align_items": null,
       "align_self": null,
       "border": null,
       "bottom": null,
       "display": null,
       "flex": null,
       "flex_flow": null,
       "grid_area": null,
       "grid_auto_columns": null,
       "grid_auto_flow": null,
       "grid_auto_rows": null,
       "grid_column": null,
       "grid_gap": null,
       "grid_row": null,
       "grid_template_areas": null,
       "grid_template_columns": null,
       "grid_template_rows": null,
       "height": null,
       "justify_content": null,
       "justify_items": null,
       "left": null,
       "margin": null,
       "max_height": null,
       "max_width": null,
       "min_height": null,
       "min_width": null,
       "object_fit": null,
       "object_position": null,
       "order": null,
       "overflow": null,
       "overflow_x": null,
       "overflow_y": null,
       "padding": null,
       "right": null,
       "top": null,
       "visibility": null,
       "width": null
      }
     },
     "9b637c9cfa944e4a8ee76b97e7a8a204": {
      "model_module": "@jupyter-widgets/controls",
      "model_module_version": "1.5.0",
      "model_name": "HTMLModel",
      "state": {
       "_dom_classes": [],
       "_model_module": "@jupyter-widgets/controls",
       "_model_module_version": "1.5.0",
       "_model_name": "HTMLModel",
       "_view_count": null,
       "_view_module": "@jupyter-widgets/controls",
       "_view_module_version": "1.5.0",
       "_view_name": "HTMLView",
       "description": "",
       "description_tooltip": null,
       "layout": "IPY_MODEL_46e9f527b8ff490ba87305f995095860",
       "placeholder": "​",
       "style": "IPY_MODEL_2b1687e392ca42559f0000f2f215a9bb",
       "value": " 5/5 [00:33&lt;00:00,  6.19s/it]"
      }
     },
     "c00376405b044fc49b30c360849a5b60": {
      "model_module": "@jupyter-widgets/controls",
      "model_module_version": "1.5.0",
      "model_name": "HTMLModel",
      "state": {
       "_dom_classes": [],
       "_model_module": "@jupyter-widgets/controls",
       "_model_module_version": "1.5.0",
       "_model_name": "HTMLModel",
       "_view_count": null,
       "_view_module": "@jupyter-widgets/controls",
       "_view_module_version": "1.5.0",
       "_view_name": "HTMLView",
       "description": "",
       "description_tooltip": null,
       "layout": "IPY_MODEL_1a976f4266824f95bb2d1155dca846b9",
       "placeholder": "​",
       "style": "IPY_MODEL_399f57999ea04b9caf85f22c5cfc4bfc",
       "value": "100%"
      }
     },
     "d2f9dc6a9fd5422c949208338949b5a6": {
      "model_module": "@jupyter-widgets/base",
      "model_module_version": "1.2.0",
      "model_name": "LayoutModel",
      "state": {
       "_model_module": "@jupyter-widgets/base",
       "_model_module_version": "1.2.0",
       "_model_name": "LayoutModel",
       "_view_count": null,
       "_view_module": "@jupyter-widgets/base",
       "_view_module_version": "1.2.0",
       "_view_name": "LayoutView",
       "align_content": null,
       "align_items": null,
       "align_self": null,
       "border": null,
       "bottom": null,
       "display": null,
       "flex": null,
       "flex_flow": null,
       "grid_area": null,
       "grid_auto_columns": null,
       "grid_auto_flow": null,
       "grid_auto_rows": null,
       "grid_column": null,
       "grid_gap": null,
       "grid_row": null,
       "grid_template_areas": null,
       "grid_template_columns": null,
       "grid_template_rows": null,
       "height": null,
       "justify_content": null,
       "justify_items": null,
       "left": null,
       "margin": null,
       "max_height": null,
       "max_width": null,
       "min_height": null,
       "min_width": null,
       "object_fit": null,
       "object_position": null,
       "order": null,
       "overflow": null,
       "overflow_x": null,
       "overflow_y": null,
       "padding": null,
       "right": null,
       "top": null,
       "visibility": null,
       "width": null
      }
     }
    },
    "version_major": 2,
    "version_minor": 0
   }
  }
 },
 "nbformat": 4,
 "nbformat_minor": 5
}