{
 "cells": [
  {
   "cell_type": "code",
   "execution_count": 1,
   "id": "517ff479",
   "metadata": {
    "execution": {
     "iopub.execute_input": "2022-09-06T22:44:57.950418Z",
     "iopub.status.busy": "2022-09-06T22:44:57.949773Z",
     "iopub.status.idle": "2022-09-06T22:44:57.957041Z",
     "shell.execute_reply": "2022-09-06T22:44:57.956414Z"
    },
    "papermill": {
     "duration": 0.013053,
     "end_time": "2022-09-06T22:44:57.958717",
     "exception": false,
     "start_time": "2022-09-06T22:44:57.945664",
     "status": "completed"
    },
    "tags": [
     "parameters"
    ]
   },
   "outputs": [],
   "source": [
    "kdprov = '76'"
   ]
  },
  {
   "cell_type": "code",
   "execution_count": 2,
   "id": "32bff2f4",
   "metadata": {
    "execution": {
     "iopub.execute_input": "2022-09-06T22:44:57.965026Z",
     "iopub.status.busy": "2022-09-06T22:44:57.964772Z",
     "iopub.status.idle": "2022-09-06T22:44:57.967597Z",
     "shell.execute_reply": "2022-09-06T22:44:57.967070Z"
    },
    "papermill": {
     "duration": 0.007176,
     "end_time": "2022-09-06T22:44:57.969162",
     "exception": false,
     "start_time": "2022-09-06T22:44:57.961986",
     "status": "completed"
    },
    "tags": [
     "injected-parameters"
    ]
   },
   "outputs": [],
   "source": [
    "# Parameters\n",
    "kdprov = \"35\"\n"
   ]
  },
  {
   "cell_type": "code",
   "execution_count": 3,
   "id": "b77d269d",
   "metadata": {
    "execution": {
     "iopub.execute_input": "2022-09-06T22:44:57.973863Z",
     "iopub.status.busy": "2022-09-06T22:44:57.973634Z",
     "iopub.status.idle": "2022-09-06T22:44:58.563656Z",
     "shell.execute_reply": "2022-09-06T22:44:58.562992Z"
    },
    "papermill": {
     "duration": 0.59465,
     "end_time": "2022-09-06T22:44:58.565713",
     "exception": false,
     "start_time": "2022-09-06T22:44:57.971063",
     "status": "completed"
    },
    "tags": []
   },
   "outputs": [
    {
     "name": "stderr",
     "output_type": "stream",
     "text": [
      "/home/jupyter-peta_admin/.local/lib/python3.8/site-packages/geopandas/_compat.py:112: UserWarning: The Shapely GEOS version (3.10.2-CAPI-1.16.0) is incompatible with the GEOS version PyGEOS was compiled with (3.10.1-CAPI-1.16.0). Conversions between both will be slow.\n",
      "  warnings.warn(\n"
     ]
    }
   ],
   "source": [
    "import pandas as pd\n",
    "import geopandas as gpd\n",
    "import rasterio\n",
    "import rasterio.features as features\n",
    "import numpy as np\n",
    "from rasterio.enums import Resampling\n",
    "from rasterio.crs import CRS\n",
    "import itertools\n",
    "\n",
    "from shapely.geometry import box"
   ]
  },
  {
   "cell_type": "code",
   "execution_count": 4,
   "id": "32a2c10f",
   "metadata": {
    "execution": {
     "iopub.execute_input": "2022-09-06T22:44:58.572257Z",
     "iopub.status.busy": "2022-09-06T22:44:58.571925Z",
     "iopub.status.idle": "2022-09-06T22:44:58.575240Z",
     "shell.execute_reply": "2022-09-06T22:44:58.574677Z"
    },
    "papermill": {
     "duration": 0.008121,
     "end_time": "2022-09-06T22:44:58.576681",
     "exception": false,
     "start_time": "2022-09-06T22:44:58.568560",
     "status": "completed"
    },
    "tags": []
   },
   "outputs": [],
   "source": [
    "from glob import glob"
   ]
  },
  {
   "cell_type": "code",
   "execution_count": 5,
   "id": "31300527",
   "metadata": {
    "execution": {
     "iopub.execute_input": "2022-09-06T22:44:58.581185Z",
     "iopub.status.busy": "2022-09-06T22:44:58.580748Z",
     "iopub.status.idle": "2022-09-06T22:44:58.585306Z",
     "shell.execute_reply": "2022-09-06T22:44:58.584783Z"
    },
    "papermill": {
     "duration": 0.008602,
     "end_time": "2022-09-06T22:44:58.586795",
     "exception": false,
     "start_time": "2022-09-06T22:44:58.578193",
     "status": "completed"
    },
    "tags": []
   },
   "outputs": [],
   "source": [
    "data_popdens_100m=glob(\"data/output/1_population_density/grid_pop_\"+kdprov+\"*_100m.gpkg\")\n",
    "data_popdens_100m=[i for i in data_popdens_100m if len(i)==56]"
   ]
  },
  {
   "cell_type": "code",
   "execution_count": 6,
   "id": "d11c9d82",
   "metadata": {
    "execution": {
     "iopub.execute_input": "2022-09-06T22:44:58.591327Z",
     "iopub.status.busy": "2022-09-06T22:44:58.590896Z",
     "iopub.status.idle": "2022-09-06T22:44:58.599317Z",
     "shell.execute_reply": "2022-09-06T22:44:58.598707Z"
    },
    "papermill": {
     "duration": 0.012536,
     "end_time": "2022-09-06T22:44:58.600893",
     "exception": false,
     "start_time": "2022-09-06T22:44:58.588357",
     "status": "completed"
    },
    "tags": []
   },
   "outputs": [
    {
     "data": {
      "text/plain": [
       "['data/output/1_population_density/grid_pop_3513_100m.gpkg',\n",
       " 'data/output/1_population_density/grid_pop_3517_100m.gpkg',\n",
       " 'data/output/1_population_density/grid_pop_3573_100m.gpkg',\n",
       " 'data/output/1_population_density/grid_pop_3529_100m.gpkg',\n",
       " 'data/output/1_population_density/grid_pop_3505_100m.gpkg',\n",
       " 'data/output/1_population_density/grid_pop_3524_100m.gpkg',\n",
       " 'data/output/1_population_density/grid_pop_3514_100m.gpkg',\n",
       " 'data/output/1_population_density/grid_pop_3521_100m.gpkg',\n",
       " 'data/output/1_population_density/grid_pop_3528_100m.gpkg',\n",
       " 'data/output/1_population_density/grid_pop_3518_100m.gpkg',\n",
       " 'data/output/1_population_density/grid_pop_3572_100m.gpkg',\n",
       " 'data/output/1_population_density/grid_pop_3506_100m.gpkg',\n",
       " 'data/output/1_population_density/grid_pop_3522_100m.gpkg',\n",
       " 'data/output/1_population_density/grid_pop_3519_100m.gpkg',\n",
       " 'data/output/1_population_density/grid_pop_3507_100m.gpkg',\n",
       " 'data/output/1_population_density/grid_pop_3503_100m.gpkg',\n",
       " 'data/output/1_population_density/grid_pop_3502_100m.gpkg',\n",
       " 'data/output/1_population_density/grid_pop_3516_100m.gpkg',\n",
       " 'data/output/1_population_density/grid_pop_3508_100m.gpkg',\n",
       " 'data/output/1_population_density/grid_pop_3578_100m.gpkg',\n",
       " 'data/output/1_population_density/grid_pop_3523_100m.gpkg',\n",
       " 'data/output/1_population_density/grid_pop_3510_100m.gpkg',\n",
       " 'data/output/1_population_density/grid_pop_3574_100m.gpkg',\n",
       " 'data/output/1_population_density/grid_pop_3512_100m.gpkg',\n",
       " 'data/output/1_population_density/grid_pop_3577_100m.gpkg',\n",
       " 'data/output/1_population_density/grid_pop_3509_100m.gpkg',\n",
       " 'data/output/1_population_density/grid_pop_3515_100m.gpkg',\n",
       " 'data/output/1_population_density/grid_pop_3525_100m.gpkg',\n",
       " 'data/output/1_population_density/grid_pop_3576_100m.gpkg',\n",
       " 'data/output/1_population_density/grid_pop_3520_100m.gpkg',\n",
       " 'data/output/1_population_density/grid_pop_3501_100m.gpkg',\n",
       " 'data/output/1_population_density/grid_pop_3575_100m.gpkg',\n",
       " 'data/output/1_population_density/grid_pop_3579_100m.gpkg',\n",
       " 'data/output/1_population_density/grid_pop_3504_100m.gpkg',\n",
       " 'data/output/1_population_density/grid_pop_3571_100m.gpkg',\n",
       " 'data/output/1_population_density/grid_pop_3527_100m.gpkg',\n",
       " 'data/output/1_population_density/grid_pop_3511_100m.gpkg',\n",
       " 'data/output/1_population_density/grid_pop_3526_100m.gpkg']"
      ]
     },
     "execution_count": 6,
     "metadata": {},
     "output_type": "execute_result"
    }
   ],
   "source": [
    "data_popdens_100m"
   ]
  },
  {
   "cell_type": "code",
   "execution_count": 7,
   "id": "4144e026",
   "metadata": {
    "execution": {
     "iopub.execute_input": "2022-09-06T22:44:58.605616Z",
     "iopub.status.busy": "2022-09-06T22:44:58.605364Z",
     "iopub.status.idle": "2022-09-06T22:44:58.620416Z",
     "shell.execute_reply": "2022-09-06T22:44:58.619670Z"
    },
    "papermill": {
     "duration": 0.019504,
     "end_time": "2022-09-06T22:44:58.622147",
     "exception": false,
     "start_time": "2022-09-06T22:44:58.602643",
     "status": "completed"
    },
    "tags": []
   },
   "outputs": [],
   "source": [
    "from rasterio.enums import Resampling\n",
    "import os\n",
    "def resampling_1km(dt):\n",
    "    global kdprov\n",
    "    kdkab=dt.split('/')[3].split('_')[2]\n",
    "    if os.path.isfile('data/output/1_population_density/grid_pop_'+kdkab+'_1km.tif')==False:\n",
    "        popdens_100m=gpd.read_file(dt)\n",
    "        popdens_100m['j_pend_round']=popdens_100m.j_pend.apply(lambda y: np.round(y))\n",
    "        raster = rasterio.open(r\"/vsigs/bps-gcp-bucket/Degree of Urbanisation/GHSL data/2020/prov/2020_\"+kdprov+\".tif\")\n",
    "        geom_value = ((geom,value) for geom, value in zip(popdens_100m.geometry, popdens_100m['j_pend_round']))\n",
    "        rasterized = features.rasterize(geom_value,\n",
    "                                out_shape = raster.shape,\n",
    "                                transform = raster.transform,\n",
    "                                all_touched = False,\n",
    "                                fill = 0,\n",
    "                                dtype = np.float64)\n",
    "        with rasterio.open(\n",
    "            \"data/temp/rasterized_popdens_\"+kdkab+\"_100.tif\", \"w\",\n",
    "            driver = \"GTiff\",\n",
    "            transform = raster.transform,\n",
    "            dtype = np.float64,\n",
    "            count = 1,\n",
    "            width = raster.width,\n",
    "            height = raster.height) as dst:\n",
    "            dst.write(rasterized, indexes = 1)\n",
    "    \n",
    "        target_res = (1000, 1000)\n",
    "\n",
    "        with rasterio.open(\"data/temp/rasterized_popdens_\"+kdkab+\"_100.tif\") as src:\n",
    "            data, transform = rasterio.warp.reproject(source=src.read(),\n",
    "                                src_transform=src.transform,\n",
    "                                src_crs=CRS.from_string(\"ESRI:54009\"),\n",
    "                                dst_crs=CRS.from_string(\"ESRI:54009\"),\n",
    "                                dst_nodata=0,\n",
    "                                dst_resolution=target_res,\n",
    "                                              #dtype = np.float64\n",
    "                                resampling=Resampling.sum)\n",
    "            profile = src.profile\n",
    "            profile.update(transform=transform, driver='GTiff',\n",
    "                    height=data.shape[1], width=data.shape[2])\n",
    "\n",
    "            with rasterio.open('data/output/1_population_density/grid_pop_'+kdkab+'_1km.tif', 'w', **profile) as dst:\n",
    "                dst.write(data)\n",
    "    else:\n",
    "        print(\"skip\")\n",
    "    if (os.path.isfile(\"data/output/1_population_density/grid_pop_\"+kdkab+\"_1km_w_bu.gpkg\")==False):\n",
    "        with rasterio.open('data/output/1_population_density/grid_pop_'+kdkab+'_1km.tif') as dataset:\n",
    "            data = dataset.read(1)\n",
    "\n",
    "            t = dataset.transform\n",
    "            move_x = t[0]\n",
    "            move_y = t[4]\n",
    "            height = dataset.height\n",
    "            width = dataset.width \n",
    "    \n",
    "            polygons = []\n",
    "            indices = list(itertools.product(range(width), range(height)))\n",
    "            for x,y in indices:\n",
    "                x_min, y_max = t * (x,y)\n",
    "                x_max = x_min + move_x\n",
    "                y_min = y_max + move_y\n",
    "                polygons.append(box(x_min, y_min, x_max, y_max))\n",
    "        \n",
    "        data_list = []\n",
    "        for x,y in indices:\n",
    "            data_list.append(data[y,x])\n",
    "        vect_tmp = gpd.GeoDataFrame(data=data_list, geometry=polygons, columns=['DN'])\n",
    "        vect_tmp.crs='ESRI:54009'\n",
    "        vect_tmp.DN=vect_tmp.DN.apply(lambda y: 0 if y<=0 else y)\n",
    "        y=gpd.GeoDataFrame()\n",
    "        data_builtup=gpd.read_file(\"data/input/GHSL Data/2020/gpkg/ghs_built_\"+kdkab+\"_nonzero.shp\")#.to_crs(('ESRI:54009'))\n",
    "        data_builtup['builtup']=data_builtup['value']\n",
    "        vect_=vect_tmp.reset_index()\n",
    "        vect_['index_o']=vect_['index'].apply(lambda y:str(y).zfill(7))\n",
    "        data_bu_per1km=vect_.sjoin(data_builtup,how='inner'\n",
    "                          ).sort_values('index_o')[['index_o','builtup']].groupby('index_o').agg('sum').reset_index()\n",
    "        vect_bu=vect_.merge(data_bu_per1km,how='inner')\n",
    "        vect_bu['p_builtup']=vect_bu.builtup/1e6\n",
    "        vect_bu['pop']=vect_bu.DN\n",
    "        vect_bu=vect_bu[['geometry','p_builtup','pop']].fillna(0)\n",
    "        vect_bu.crs='ESRI:54009'\n",
    "        vector = gpd.read_file(r\"data/input/Master_Data/DESA_20201_BYINDO.gpkg\").query('idkab==@kdkab').to_crs(\"ESRI:54009\")\n",
    "        vect_bu['index_o']=vect_bu.index.astype(str).str.zfill(8)\n",
    "        vect_bu.sjoin(vector)[['geometry','p_builtup','pop','index_o']].dissolve(by=['index_o']).to_file(\"data/output/1_population_density/grid_pop_\"+kdkab+\"_1km_w_bu.gpkg\",driver='GPKG')\n",
    "    else:\n",
    "        print(\"skip\")"
   ]
  },
  {
   "cell_type": "code",
   "execution_count": 8,
   "id": "1f6ead36",
   "metadata": {
    "execution": {
     "iopub.execute_input": "2022-09-06T22:44:58.626729Z",
     "iopub.status.busy": "2022-09-06T22:44:58.626335Z",
     "iopub.status.idle": "2022-09-06T22:48:01.380684Z",
     "shell.execute_reply": "2022-09-06T22:48:01.379911Z"
    },
    "papermill": {
     "duration": 182.758577,
     "end_time": "2022-09-06T22:48:01.382575",
     "exception": false,
     "start_time": "2022-09-06T22:44:58.623998",
     "status": "completed"
    },
    "tags": []
   },
   "outputs": [
    {
     "data": {
      "application/vnd.jupyter.widget-view+json": {
       "model_id": "80a05b43104240cf892c01e334ef2f81",
       "version_major": 2,
       "version_minor": 0
      },
      "text/plain": [
       "  0%|          | 0/38 [00:00<?, ?it/s]"
      ]
     },
     "metadata": {},
     "output_type": "display_data"
    },
    {
     "name": "stderr",
     "output_type": "stream",
     "text": [
      "/home/jupyter-peta_admin/.local/lib/python3.8/site-packages/geopandas/geodataframe.py:2072: UserWarning: CRS mismatch between the CRS of left geometries and the CRS of right geometries.\n",
      "Use `to_crs()` to reproject one of the input geometries to match the CRS of the other.\n",
      "\n",
      "Left CRS: ESRI:54009\n",
      "Right CRS: None\n",
      "\n",
      "  return geopandas.sjoin(left_df=self, right_df=df, *args, **kwargs)\n"
     ]
    },
    {
     "name": "stderr",
     "output_type": "stream",
     "text": [
      "/home/jupyter-peta_admin/.local/lib/python3.8/site-packages/geopandas/geodataframe.py:2072: UserWarning: CRS mismatch between the CRS of left geometries and the CRS of right geometries.\n",
      "Use `to_crs()` to reproject one of the input geometries to match the CRS of the other.\n",
      "\n",
      "Left CRS: ESRI:54009\n",
      "Right CRS: None\n",
      "\n",
      "  return geopandas.sjoin(left_df=self, right_df=df, *args, **kwargs)\n"
     ]
    },
    {
     "name": "stderr",
     "output_type": "stream",
     "text": [
      "/home/jupyter-peta_admin/.local/lib/python3.8/site-packages/geopandas/geodataframe.py:2072: UserWarning: CRS mismatch between the CRS of left geometries and the CRS of right geometries.\n",
      "Use `to_crs()` to reproject one of the input geometries to match the CRS of the other.\n",
      "\n",
      "Left CRS: ESRI:54009\n",
      "Right CRS: None\n",
      "\n",
      "  return geopandas.sjoin(left_df=self, right_df=df, *args, **kwargs)\n"
     ]
    },
    {
     "name": "stderr",
     "output_type": "stream",
     "text": [
      "/home/jupyter-peta_admin/.local/lib/python3.8/site-packages/geopandas/geodataframe.py:2072: UserWarning: CRS mismatch between the CRS of left geometries and the CRS of right geometries.\n",
      "Use `to_crs()` to reproject one of the input geometries to match the CRS of the other.\n",
      "\n",
      "Left CRS: ESRI:54009\n",
      "Right CRS: None\n",
      "\n",
      "  return geopandas.sjoin(left_df=self, right_df=df, *args, **kwargs)\n"
     ]
    },
    {
     "name": "stderr",
     "output_type": "stream",
     "text": [
      "/home/jupyter-peta_admin/.local/lib/python3.8/site-packages/geopandas/geodataframe.py:2072: UserWarning: CRS mismatch between the CRS of left geometries and the CRS of right geometries.\n",
      "Use `to_crs()` to reproject one of the input geometries to match the CRS of the other.\n",
      "\n",
      "Left CRS: ESRI:54009\n",
      "Right CRS: None\n",
      "\n",
      "  return geopandas.sjoin(left_df=self, right_df=df, *args, **kwargs)\n"
     ]
    },
    {
     "name": "stderr",
     "output_type": "stream",
     "text": [
      "/home/jupyter-peta_admin/.local/lib/python3.8/site-packages/geopandas/geodataframe.py:2072: UserWarning: CRS mismatch between the CRS of left geometries and the CRS of right geometries.\n",
      "Use `to_crs()` to reproject one of the input geometries to match the CRS of the other.\n",
      "\n",
      "Left CRS: ESRI:54009\n",
      "Right CRS: None\n",
      "\n",
      "  return geopandas.sjoin(left_df=self, right_df=df, *args, **kwargs)\n"
     ]
    },
    {
     "name": "stderr",
     "output_type": "stream",
     "text": [
      "/home/jupyter-peta_admin/.local/lib/python3.8/site-packages/geopandas/geodataframe.py:2072: UserWarning: CRS mismatch between the CRS of left geometries and the CRS of right geometries.\n",
      "Use `to_crs()` to reproject one of the input geometries to match the CRS of the other.\n",
      "\n",
      "Left CRS: ESRI:54009\n",
      "Right CRS: None\n",
      "\n",
      "  return geopandas.sjoin(left_df=self, right_df=df, *args, **kwargs)\n"
     ]
    },
    {
     "name": "stderr",
     "output_type": "stream",
     "text": [
      "/home/jupyter-peta_admin/.local/lib/python3.8/site-packages/geopandas/geodataframe.py:2072: UserWarning: CRS mismatch between the CRS of left geometries and the CRS of right geometries.\n",
      "Use `to_crs()` to reproject one of the input geometries to match the CRS of the other.\n",
      "\n",
      "Left CRS: ESRI:54009\n",
      "Right CRS: None\n",
      "\n",
      "  return geopandas.sjoin(left_df=self, right_df=df, *args, **kwargs)\n"
     ]
    },
    {
     "name": "stderr",
     "output_type": "stream",
     "text": [
      "/home/jupyter-peta_admin/.local/lib/python3.8/site-packages/geopandas/geodataframe.py:2072: UserWarning: CRS mismatch between the CRS of left geometries and the CRS of right geometries.\n",
      "Use `to_crs()` to reproject one of the input geometries to match the CRS of the other.\n",
      "\n",
      "Left CRS: ESRI:54009\n",
      "Right CRS: None\n",
      "\n",
      "  return geopandas.sjoin(left_df=self, right_df=df, *args, **kwargs)\n"
     ]
    },
    {
     "name": "stderr",
     "output_type": "stream",
     "text": [
      "/home/jupyter-peta_admin/.local/lib/python3.8/site-packages/geopandas/geodataframe.py:2072: UserWarning: CRS mismatch between the CRS of left geometries and the CRS of right geometries.\n",
      "Use `to_crs()` to reproject one of the input geometries to match the CRS of the other.\n",
      "\n",
      "Left CRS: ESRI:54009\n",
      "Right CRS: None\n",
      "\n",
      "  return geopandas.sjoin(left_df=self, right_df=df, *args, **kwargs)\n"
     ]
    },
    {
     "name": "stderr",
     "output_type": "stream",
     "text": [
      "/home/jupyter-peta_admin/.local/lib/python3.8/site-packages/geopandas/geodataframe.py:2072: UserWarning: CRS mismatch between the CRS of left geometries and the CRS of right geometries.\n",
      "Use `to_crs()` to reproject one of the input geometries to match the CRS of the other.\n",
      "\n",
      "Left CRS: ESRI:54009\n",
      "Right CRS: None\n",
      "\n",
      "  return geopandas.sjoin(left_df=self, right_df=df, *args, **kwargs)\n"
     ]
    },
    {
     "name": "stderr",
     "output_type": "stream",
     "text": [
      "/home/jupyter-peta_admin/.local/lib/python3.8/site-packages/geopandas/geodataframe.py:2072: UserWarning: CRS mismatch between the CRS of left geometries and the CRS of right geometries.\n",
      "Use `to_crs()` to reproject one of the input geometries to match the CRS of the other.\n",
      "\n",
      "Left CRS: ESRI:54009\n",
      "Right CRS: None\n",
      "\n",
      "  return geopandas.sjoin(left_df=self, right_df=df, *args, **kwargs)\n"
     ]
    },
    {
     "name": "stderr",
     "output_type": "stream",
     "text": [
      "/home/jupyter-peta_admin/.local/lib/python3.8/site-packages/geopandas/geodataframe.py:2072: UserWarning: CRS mismatch between the CRS of left geometries and the CRS of right geometries.\n",
      "Use `to_crs()` to reproject one of the input geometries to match the CRS of the other.\n",
      "\n",
      "Left CRS: ESRI:54009\n",
      "Right CRS: None\n",
      "\n",
      "  return geopandas.sjoin(left_df=self, right_df=df, *args, **kwargs)\n"
     ]
    },
    {
     "name": "stderr",
     "output_type": "stream",
     "text": [
      "/home/jupyter-peta_admin/.local/lib/python3.8/site-packages/geopandas/geodataframe.py:2072: UserWarning: CRS mismatch between the CRS of left geometries and the CRS of right geometries.\n",
      "Use `to_crs()` to reproject one of the input geometries to match the CRS of the other.\n",
      "\n",
      "Left CRS: ESRI:54009\n",
      "Right CRS: None\n",
      "\n",
      "  return geopandas.sjoin(left_df=self, right_df=df, *args, **kwargs)\n"
     ]
    },
    {
     "name": "stderr",
     "output_type": "stream",
     "text": [
      "/home/jupyter-peta_admin/.local/lib/python3.8/site-packages/geopandas/geodataframe.py:2072: UserWarning: CRS mismatch between the CRS of left geometries and the CRS of right geometries.\n",
      "Use `to_crs()` to reproject one of the input geometries to match the CRS of the other.\n",
      "\n",
      "Left CRS: ESRI:54009\n",
      "Right CRS: None\n",
      "\n",
      "  return geopandas.sjoin(left_df=self, right_df=df, *args, **kwargs)\n"
     ]
    },
    {
     "name": "stderr",
     "output_type": "stream",
     "text": [
      "/home/jupyter-peta_admin/.local/lib/python3.8/site-packages/geopandas/geodataframe.py:2072: UserWarning: CRS mismatch between the CRS of left geometries and the CRS of right geometries.\n",
      "Use `to_crs()` to reproject one of the input geometries to match the CRS of the other.\n",
      "\n",
      "Left CRS: ESRI:54009\n",
      "Right CRS: None\n",
      "\n",
      "  return geopandas.sjoin(left_df=self, right_df=df, *args, **kwargs)\n"
     ]
    },
    {
     "name": "stderr",
     "output_type": "stream",
     "text": [
      "/home/jupyter-peta_admin/.local/lib/python3.8/site-packages/geopandas/geodataframe.py:2072: UserWarning: CRS mismatch between the CRS of left geometries and the CRS of right geometries.\n",
      "Use `to_crs()` to reproject one of the input geometries to match the CRS of the other.\n",
      "\n",
      "Left CRS: ESRI:54009\n",
      "Right CRS: None\n",
      "\n",
      "  return geopandas.sjoin(left_df=self, right_df=df, *args, **kwargs)\n"
     ]
    },
    {
     "name": "stderr",
     "output_type": "stream",
     "text": [
      "/home/jupyter-peta_admin/.local/lib/python3.8/site-packages/geopandas/geodataframe.py:2072: UserWarning: CRS mismatch between the CRS of left geometries and the CRS of right geometries.\n",
      "Use `to_crs()` to reproject one of the input geometries to match the CRS of the other.\n",
      "\n",
      "Left CRS: ESRI:54009\n",
      "Right CRS: None\n",
      "\n",
      "  return geopandas.sjoin(left_df=self, right_df=df, *args, **kwargs)\n"
     ]
    },
    {
     "name": "stderr",
     "output_type": "stream",
     "text": [
      "/home/jupyter-peta_admin/.local/lib/python3.8/site-packages/geopandas/geodataframe.py:2072: UserWarning: CRS mismatch between the CRS of left geometries and the CRS of right geometries.\n",
      "Use `to_crs()` to reproject one of the input geometries to match the CRS of the other.\n",
      "\n",
      "Left CRS: ESRI:54009\n",
      "Right CRS: None\n",
      "\n",
      "  return geopandas.sjoin(left_df=self, right_df=df, *args, **kwargs)\n"
     ]
    },
    {
     "name": "stderr",
     "output_type": "stream",
     "text": [
      "/home/jupyter-peta_admin/.local/lib/python3.8/site-packages/geopandas/geodataframe.py:2072: UserWarning: CRS mismatch between the CRS of left geometries and the CRS of right geometries.\n",
      "Use `to_crs()` to reproject one of the input geometries to match the CRS of the other.\n",
      "\n",
      "Left CRS: ESRI:54009\n",
      "Right CRS: None\n",
      "\n",
      "  return geopandas.sjoin(left_df=self, right_df=df, *args, **kwargs)\n"
     ]
    },
    {
     "name": "stderr",
     "output_type": "stream",
     "text": [
      "/home/jupyter-peta_admin/.local/lib/python3.8/site-packages/geopandas/geodataframe.py:2072: UserWarning: CRS mismatch between the CRS of left geometries and the CRS of right geometries.\n",
      "Use `to_crs()` to reproject one of the input geometries to match the CRS of the other.\n",
      "\n",
      "Left CRS: ESRI:54009\n",
      "Right CRS: None\n",
      "\n",
      "  return geopandas.sjoin(left_df=self, right_df=df, *args, **kwargs)\n"
     ]
    },
    {
     "name": "stderr",
     "output_type": "stream",
     "text": [
      "/home/jupyter-peta_admin/.local/lib/python3.8/site-packages/geopandas/geodataframe.py:2072: UserWarning: CRS mismatch between the CRS of left geometries and the CRS of right geometries.\n",
      "Use `to_crs()` to reproject one of the input geometries to match the CRS of the other.\n",
      "\n",
      "Left CRS: ESRI:54009\n",
      "Right CRS: None\n",
      "\n",
      "  return geopandas.sjoin(left_df=self, right_df=df, *args, **kwargs)\n"
     ]
    },
    {
     "name": "stderr",
     "output_type": "stream",
     "text": [
      "/home/jupyter-peta_admin/.local/lib/python3.8/site-packages/geopandas/geodataframe.py:2072: UserWarning: CRS mismatch between the CRS of left geometries and the CRS of right geometries.\n",
      "Use `to_crs()` to reproject one of the input geometries to match the CRS of the other.\n",
      "\n",
      "Left CRS: ESRI:54009\n",
      "Right CRS: None\n",
      "\n",
      "  return geopandas.sjoin(left_df=self, right_df=df, *args, **kwargs)\n"
     ]
    },
    {
     "name": "stderr",
     "output_type": "stream",
     "text": [
      "/home/jupyter-peta_admin/.local/lib/python3.8/site-packages/geopandas/geodataframe.py:2072: UserWarning: CRS mismatch between the CRS of left geometries and the CRS of right geometries.\n",
      "Use `to_crs()` to reproject one of the input geometries to match the CRS of the other.\n",
      "\n",
      "Left CRS: ESRI:54009\n",
      "Right CRS: None\n",
      "\n",
      "  return geopandas.sjoin(left_df=self, right_df=df, *args, **kwargs)\n"
     ]
    },
    {
     "name": "stderr",
     "output_type": "stream",
     "text": [
      "/home/jupyter-peta_admin/.local/lib/python3.8/site-packages/geopandas/geodataframe.py:2072: UserWarning: CRS mismatch between the CRS of left geometries and the CRS of right geometries.\n",
      "Use `to_crs()` to reproject one of the input geometries to match the CRS of the other.\n",
      "\n",
      "Left CRS: ESRI:54009\n",
      "Right CRS: None\n",
      "\n",
      "  return geopandas.sjoin(left_df=self, right_df=df, *args, **kwargs)\n"
     ]
    },
    {
     "name": "stderr",
     "output_type": "stream",
     "text": [
      "/home/jupyter-peta_admin/.local/lib/python3.8/site-packages/geopandas/geodataframe.py:2072: UserWarning: CRS mismatch between the CRS of left geometries and the CRS of right geometries.\n",
      "Use `to_crs()` to reproject one of the input geometries to match the CRS of the other.\n",
      "\n",
      "Left CRS: ESRI:54009\n",
      "Right CRS: None\n",
      "\n",
      "  return geopandas.sjoin(left_df=self, right_df=df, *args, **kwargs)\n"
     ]
    },
    {
     "name": "stderr",
     "output_type": "stream",
     "text": [
      "/home/jupyter-peta_admin/.local/lib/python3.8/site-packages/geopandas/geodataframe.py:2072: UserWarning: CRS mismatch between the CRS of left geometries and the CRS of right geometries.\n",
      "Use `to_crs()` to reproject one of the input geometries to match the CRS of the other.\n",
      "\n",
      "Left CRS: ESRI:54009\n",
      "Right CRS: None\n",
      "\n",
      "  return geopandas.sjoin(left_df=self, right_df=df, *args, **kwargs)\n"
     ]
    },
    {
     "name": "stderr",
     "output_type": "stream",
     "text": [
      "/home/jupyter-peta_admin/.local/lib/python3.8/site-packages/geopandas/geodataframe.py:2072: UserWarning: CRS mismatch between the CRS of left geometries and the CRS of right geometries.\n",
      "Use `to_crs()` to reproject one of the input geometries to match the CRS of the other.\n",
      "\n",
      "Left CRS: ESRI:54009\n",
      "Right CRS: None\n",
      "\n",
      "  return geopandas.sjoin(left_df=self, right_df=df, *args, **kwargs)\n"
     ]
    },
    {
     "name": "stderr",
     "output_type": "stream",
     "text": [
      "/home/jupyter-peta_admin/.local/lib/python3.8/site-packages/geopandas/geodataframe.py:2072: UserWarning: CRS mismatch between the CRS of left geometries and the CRS of right geometries.\n",
      "Use `to_crs()` to reproject one of the input geometries to match the CRS of the other.\n",
      "\n",
      "Left CRS: ESRI:54009\n",
      "Right CRS: None\n",
      "\n",
      "  return geopandas.sjoin(left_df=self, right_df=df, *args, **kwargs)\n"
     ]
    },
    {
     "name": "stderr",
     "output_type": "stream",
     "text": [
      "/home/jupyter-peta_admin/.local/lib/python3.8/site-packages/geopandas/geodataframe.py:2072: UserWarning: CRS mismatch between the CRS of left geometries and the CRS of right geometries.\n",
      "Use `to_crs()` to reproject one of the input geometries to match the CRS of the other.\n",
      "\n",
      "Left CRS: ESRI:54009\n",
      "Right CRS: None\n",
      "\n",
      "  return geopandas.sjoin(left_df=self, right_df=df, *args, **kwargs)\n"
     ]
    },
    {
     "name": "stderr",
     "output_type": "stream",
     "text": [
      "/home/jupyter-peta_admin/.local/lib/python3.8/site-packages/geopandas/geodataframe.py:2072: UserWarning: CRS mismatch between the CRS of left geometries and the CRS of right geometries.\n",
      "Use `to_crs()` to reproject one of the input geometries to match the CRS of the other.\n",
      "\n",
      "Left CRS: ESRI:54009\n",
      "Right CRS: None\n",
      "\n",
      "  return geopandas.sjoin(left_df=self, right_df=df, *args, **kwargs)\n"
     ]
    },
    {
     "name": "stderr",
     "output_type": "stream",
     "text": [
      "/home/jupyter-peta_admin/.local/lib/python3.8/site-packages/geopandas/geodataframe.py:2072: UserWarning: CRS mismatch between the CRS of left geometries and the CRS of right geometries.\n",
      "Use `to_crs()` to reproject one of the input geometries to match the CRS of the other.\n",
      "\n",
      "Left CRS: ESRI:54009\n",
      "Right CRS: None\n",
      "\n",
      "  return geopandas.sjoin(left_df=self, right_df=df, *args, **kwargs)\n"
     ]
    },
    {
     "name": "stderr",
     "output_type": "stream",
     "text": [
      "/home/jupyter-peta_admin/.local/lib/python3.8/site-packages/geopandas/geodataframe.py:2072: UserWarning: CRS mismatch between the CRS of left geometries and the CRS of right geometries.\n",
      "Use `to_crs()` to reproject one of the input geometries to match the CRS of the other.\n",
      "\n",
      "Left CRS: ESRI:54009\n",
      "Right CRS: None\n",
      "\n",
      "  return geopandas.sjoin(left_df=self, right_df=df, *args, **kwargs)\n"
     ]
    },
    {
     "name": "stderr",
     "output_type": "stream",
     "text": [
      "/home/jupyter-peta_admin/.local/lib/python3.8/site-packages/geopandas/geodataframe.py:2072: UserWarning: CRS mismatch between the CRS of left geometries and the CRS of right geometries.\n",
      "Use `to_crs()` to reproject one of the input geometries to match the CRS of the other.\n",
      "\n",
      "Left CRS: ESRI:54009\n",
      "Right CRS: None\n",
      "\n",
      "  return geopandas.sjoin(left_df=self, right_df=df, *args, **kwargs)\n"
     ]
    },
    {
     "name": "stderr",
     "output_type": "stream",
     "text": [
      "/home/jupyter-peta_admin/.local/lib/python3.8/site-packages/geopandas/geodataframe.py:2072: UserWarning: CRS mismatch between the CRS of left geometries and the CRS of right geometries.\n",
      "Use `to_crs()` to reproject one of the input geometries to match the CRS of the other.\n",
      "\n",
      "Left CRS: ESRI:54009\n",
      "Right CRS: None\n",
      "\n",
      "  return geopandas.sjoin(left_df=self, right_df=df, *args, **kwargs)\n"
     ]
    },
    {
     "name": "stderr",
     "output_type": "stream",
     "text": [
      "/home/jupyter-peta_admin/.local/lib/python3.8/site-packages/geopandas/geodataframe.py:2072: UserWarning: CRS mismatch between the CRS of left geometries and the CRS of right geometries.\n",
      "Use `to_crs()` to reproject one of the input geometries to match the CRS of the other.\n",
      "\n",
      "Left CRS: ESRI:54009\n",
      "Right CRS: None\n",
      "\n",
      "  return geopandas.sjoin(left_df=self, right_df=df, *args, **kwargs)\n"
     ]
    },
    {
     "name": "stderr",
     "output_type": "stream",
     "text": [
      "/home/jupyter-peta_admin/.local/lib/python3.8/site-packages/geopandas/geodataframe.py:2072: UserWarning: CRS mismatch between the CRS of left geometries and the CRS of right geometries.\n",
      "Use `to_crs()` to reproject one of the input geometries to match the CRS of the other.\n",
      "\n",
      "Left CRS: ESRI:54009\n",
      "Right CRS: None\n",
      "\n",
      "  return geopandas.sjoin(left_df=self, right_df=df, *args, **kwargs)\n"
     ]
    },
    {
     "name": "stderr",
     "output_type": "stream",
     "text": [
      "/home/jupyter-peta_admin/.local/lib/python3.8/site-packages/geopandas/geodataframe.py:2072: UserWarning: CRS mismatch between the CRS of left geometries and the CRS of right geometries.\n",
      "Use `to_crs()` to reproject one of the input geometries to match the CRS of the other.\n",
      "\n",
      "Left CRS: ESRI:54009\n",
      "Right CRS: None\n",
      "\n",
      "  return geopandas.sjoin(left_df=self, right_df=df, *args, **kwargs)\n"
     ]
    },
    {
     "data": {
      "text/plain": [
       "[None,\n",
       " None,\n",
       " None,\n",
       " None,\n",
       " None,\n",
       " None,\n",
       " None,\n",
       " None,\n",
       " None,\n",
       " None,\n",
       " None,\n",
       " None,\n",
       " None,\n",
       " None,\n",
       " None,\n",
       " None,\n",
       " None,\n",
       " None,\n",
       " None,\n",
       " None,\n",
       " None,\n",
       " None,\n",
       " None,\n",
       " None,\n",
       " None,\n",
       " None,\n",
       " None,\n",
       " None,\n",
       " None,\n",
       " None,\n",
       " None,\n",
       " None,\n",
       " None,\n",
       " None,\n",
       " None,\n",
       " None,\n",
       " None,\n",
       " None]"
      ]
     },
     "execution_count": 8,
     "metadata": {},
     "output_type": "execute_result"
    }
   ],
   "source": [
    "from tqdm.contrib.concurrent import process_map\n",
    "process_map(resampling_1km,data_popdens_100m)   "
   ]
  }
 ],
 "metadata": {
  "celltoolbar": "Tags",
  "kernelspec": {
   "display_name": "Python 3 (ipykernel)",
   "language": "python",
   "name": "python3"
  },
  "language_info": {
   "codemirror_mode": {
    "name": "ipython",
    "version": 3
   },
   "file_extension": ".py",
   "mimetype": "text/x-python",
   "name": "python",
   "nbconvert_exporter": "python",
   "pygments_lexer": "ipython3",
   "version": "3.8.12"
  },
  "papermill": {
   "default_parameters": {},
   "duration": 184.680992,
   "end_time": "2022-09-06T22:48:01.707427",
   "environment_variables": {},
   "exception": null,
   "input_path": "01_Population_Density #2 Resampling_to1km and Calculate BU Percentage-By Kabkota Rev.ipynb",
   "output_path": "01_Population Density #2-35.ipynb",
   "parameters": {
    "kdprov": "35"
   },
   "start_time": "2022-09-06T22:44:57.026435",
   "version": "2.3.4"
  },
  "widgets": {
   "application/vnd.jupyter.widget-state+json": {
    "state": {
     "430a84401a524f1393bc0f6c0df5484d": {
      "model_module": "@jupyter-widgets/controls",
      "model_module_version": "1.5.0",
      "model_name": "DescriptionStyleModel",
      "state": {
       "_model_module": "@jupyter-widgets/controls",
       "_model_module_version": "1.5.0",
       "_model_name": "DescriptionStyleModel",
       "_view_count": null,
       "_view_module": "@jupyter-widgets/base",
       "_view_module_version": "1.2.0",
       "_view_name": "StyleView",
       "description_width": ""
      }
     },
     "531140c725b64df8b12f5109aea65597": {
      "model_module": "@jupyter-widgets/controls",
      "model_module_version": "1.5.0",
      "model_name": "ProgressStyleModel",
      "state": {
       "_model_module": "@jupyter-widgets/controls",
       "_model_module_version": "1.5.0",
       "_model_name": "ProgressStyleModel",
       "_view_count": null,
       "_view_module": "@jupyter-widgets/base",
       "_view_module_version": "1.2.0",
       "_view_name": "StyleView",
       "bar_color": null,
       "description_width": ""
      }
     },
     "58e7a4c26ac94cad8b5d5ed77c1f456e": {
      "model_module": "@jupyter-widgets/controls",
      "model_module_version": "1.5.0",
      "model_name": "DescriptionStyleModel",
      "state": {
       "_model_module": "@jupyter-widgets/controls",
       "_model_module_version": "1.5.0",
       "_model_name": "DescriptionStyleModel",
       "_view_count": null,
       "_view_module": "@jupyter-widgets/base",
       "_view_module_version": "1.2.0",
       "_view_name": "StyleView",
       "description_width": ""
      }
     },
     "765ed36ed98344cc87c8ad66e7369d3a": {
      "model_module": "@jupyter-widgets/base",
      "model_module_version": "1.2.0",
      "model_name": "LayoutModel",
      "state": {
       "_model_module": "@jupyter-widgets/base",
       "_model_module_version": "1.2.0",
       "_model_name": "LayoutModel",
       "_view_count": null,
       "_view_module": "@jupyter-widgets/base",
       "_view_module_version": "1.2.0",
       "_view_name": "LayoutView",
       "align_content": null,
       "align_items": null,
       "align_self": null,
       "border": null,
       "bottom": null,
       "display": null,
       "flex": null,
       "flex_flow": null,
       "grid_area": null,
       "grid_auto_columns": null,
       "grid_auto_flow": null,
       "grid_auto_rows": null,
       "grid_column": null,
       "grid_gap": null,
       "grid_row": null,
       "grid_template_areas": null,
       "grid_template_columns": null,
       "grid_template_rows": null,
       "height": null,
       "justify_content": null,
       "justify_items": null,
       "left": null,
       "margin": null,
       "max_height": null,
       "max_width": null,
       "min_height": null,
       "min_width": null,
       "object_fit": null,
       "object_position": null,
       "order": null,
       "overflow": null,
       "overflow_x": null,
       "overflow_y": null,
       "padding": null,
       "right": null,
       "top": null,
       "visibility": null,
       "width": null
      }
     },
     "80a05b43104240cf892c01e334ef2f81": {
      "model_module": "@jupyter-widgets/controls",
      "model_module_version": "1.5.0",
      "model_name": "HBoxModel",
      "state": {
       "_dom_classes": [],
       "_model_module": "@jupyter-widgets/controls",
       "_model_module_version": "1.5.0",
       "_model_name": "HBoxModel",
       "_view_count": null,
       "_view_module": "@jupyter-widgets/controls",
       "_view_module_version": "1.5.0",
       "_view_name": "HBoxView",
       "box_style": "",
       "children": [
        "IPY_MODEL_ccf11ac3384b4058ad6f7f14ce32a685",
        "IPY_MODEL_9de3b42f569a43849353287b7ca965c1",
        "IPY_MODEL_8b9590d691f1483a87f7b04070924134"
       ],
       "layout": "IPY_MODEL_c63544a4d1d9442a991924945cf5a93c"
      }
     },
     "8b9590d691f1483a87f7b04070924134": {
      "model_module": "@jupyter-widgets/controls",
      "model_module_version": "1.5.0",
      "model_name": "HTMLModel",
      "state": {
       "_dom_classes": [],
       "_model_module": "@jupyter-widgets/controls",
       "_model_module_version": "1.5.0",
       "_model_name": "HTMLModel",
       "_view_count": null,
       "_view_module": "@jupyter-widgets/controls",
       "_view_module_version": "1.5.0",
       "_view_name": "HTMLView",
       "description": "",
       "description_tooltip": null,
       "layout": "IPY_MODEL_abf8cb7b97614d7d90055bf36892a677",
       "placeholder": "​",
       "style": "IPY_MODEL_430a84401a524f1393bc0f6c0df5484d",
       "value": " 38/38 [03:01&lt;00:00,  8.22s/it]"
      }
     },
     "9de3b42f569a43849353287b7ca965c1": {
      "model_module": "@jupyter-widgets/controls",
      "model_module_version": "1.5.0",
      "model_name": "FloatProgressModel",
      "state": {
       "_dom_classes": [],
       "_model_module": "@jupyter-widgets/controls",
       "_model_module_version": "1.5.0",
       "_model_name": "FloatProgressModel",
       "_view_count": null,
       "_view_module": "@jupyter-widgets/controls",
       "_view_module_version": "1.5.0",
       "_view_name": "ProgressView",
       "bar_style": "success",
       "description": "",
       "description_tooltip": null,
       "layout": "IPY_MODEL_cfd18b9ce6bf44e98ff115fa83c3606e",
       "max": 38.0,
       "min": 0.0,
       "orientation": "horizontal",
       "style": "IPY_MODEL_531140c725b64df8b12f5109aea65597",
       "value": 38.0
      }
     },
     "abf8cb7b97614d7d90055bf36892a677": {
      "model_module": "@jupyter-widgets/base",
      "model_module_version": "1.2.0",
      "model_name": "LayoutModel",
      "state": {
       "_model_module": "@jupyter-widgets/base",
       "_model_module_version": "1.2.0",
       "_model_name": "LayoutModel",
       "_view_count": null,
       "_view_module": "@jupyter-widgets/base",
       "_view_module_version": "1.2.0",
       "_view_name": "LayoutView",
       "align_content": null,
       "align_items": null,
       "align_self": null,
       "border": null,
       "bottom": null,
       "display": null,
       "flex": null,
       "flex_flow": null,
       "grid_area": null,
       "grid_auto_columns": null,
       "grid_auto_flow": null,
       "grid_auto_rows": null,
       "grid_column": null,
       "grid_gap": null,
       "grid_row": null,
       "grid_template_areas": null,
       "grid_template_columns": null,
       "grid_template_rows": null,
       "height": null,
       "justify_content": null,
       "justify_items": null,
       "left": null,
       "margin": null,
       "max_height": null,
       "max_width": null,
       "min_height": null,
       "min_width": null,
       "object_fit": null,
       "object_position": null,
       "order": null,
       "overflow": null,
       "overflow_x": null,
       "overflow_y": null,
       "padding": null,
       "right": null,
       "top": null,
       "visibility": null,
       "width": null
      }
     },
     "c63544a4d1d9442a991924945cf5a93c": {
      "model_module": "@jupyter-widgets/base",
      "model_module_version": "1.2.0",
      "model_name": "LayoutModel",
      "state": {
       "_model_module": "@jupyter-widgets/base",
       "_model_module_version": "1.2.0",
       "_model_name": "LayoutModel",
       "_view_count": null,
       "_view_module": "@jupyter-widgets/base",
       "_view_module_version": "1.2.0",
       "_view_name": "LayoutView",
       "align_content": null,
       "align_items": null,
       "align_self": null,
       "border": null,
       "bottom": null,
       "display": null,
       "flex": null,
       "flex_flow": null,
       "grid_area": null,
       "grid_auto_columns": null,
       "grid_auto_flow": null,
       "grid_auto_rows": null,
       "grid_column": null,
       "grid_gap": null,
       "grid_row": null,
       "grid_template_areas": null,
       "grid_template_columns": null,
       "grid_template_rows": null,
       "height": null,
       "justify_content": null,
       "justify_items": null,
       "left": null,
       "margin": null,
       "max_height": null,
       "max_width": null,
       "min_height": null,
       "min_width": null,
       "object_fit": null,
       "object_position": null,
       "order": null,
       "overflow": null,
       "overflow_x": null,
       "overflow_y": null,
       "padding": null,
       "right": null,
       "top": null,
       "visibility": null,
       "width": null
      }
     },
     "ccf11ac3384b4058ad6f7f14ce32a685": {
      "model_module": "@jupyter-widgets/controls",
      "model_module_version": "1.5.0",
      "model_name": "HTMLModel",
      "state": {
       "_dom_classes": [],
       "_model_module": "@jupyter-widgets/controls",
       "_model_module_version": "1.5.0",
       "_model_name": "HTMLModel",
       "_view_count": null,
       "_view_module": "@jupyter-widgets/controls",
       "_view_module_version": "1.5.0",
       "_view_name": "HTMLView",
       "description": "",
       "description_tooltip": null,
       "layout": "IPY_MODEL_765ed36ed98344cc87c8ad66e7369d3a",
       "placeholder": "​",
       "style": "IPY_MODEL_58e7a4c26ac94cad8b5d5ed77c1f456e",
       "value": "100%"
      }
     },
     "cfd18b9ce6bf44e98ff115fa83c3606e": {
      "model_module": "@jupyter-widgets/base",
      "model_module_version": "1.2.0",
      "model_name": "LayoutModel",
      "state": {
       "_model_module": "@jupyter-widgets/base",
       "_model_module_version": "1.2.0",
       "_model_name": "LayoutModel",
       "_view_count": null,
       "_view_module": "@jupyter-widgets/base",
       "_view_module_version": "1.2.0",
       "_view_name": "LayoutView",
       "align_content": null,
       "align_items": null,
       "align_self": null,
       "border": null,
       "bottom": null,
       "display": null,
       "flex": null,
       "flex_flow": null,
       "grid_area": null,
       "grid_auto_columns": null,
       "grid_auto_flow": null,
       "grid_auto_rows": null,
       "grid_column": null,
       "grid_gap": null,
       "grid_row": null,
       "grid_template_areas": null,
       "grid_template_columns": null,
       "grid_template_rows": null,
       "height": null,
       "justify_content": null,
       "justify_items": null,
       "left": null,
       "margin": null,
       "max_height": null,
       "max_width": null,
       "min_height": null,
       "min_width": null,
       "object_fit": null,
       "object_position": null,
       "order": null,
       "overflow": null,
       "overflow_x": null,
       "overflow_y": null,
       "padding": null,
       "right": null,
       "top": null,
       "visibility": null,
       "width": null
      }
     }
    },
    "version_major": 2,
    "version_minor": 0
   }
  }
 },
 "nbformat": 4,
 "nbformat_minor": 5
}