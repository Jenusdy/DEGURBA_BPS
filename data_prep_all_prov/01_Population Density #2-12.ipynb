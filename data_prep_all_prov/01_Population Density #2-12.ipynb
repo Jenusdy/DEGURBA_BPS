{
 "cells": [
  {
   "cell_type": "code",
   "execution_count": 1,
   "id": "517ff479",
   "metadata": {
    "execution": {
     "iopub.execute_input": "2022-09-06T21:14:27.114528Z",
     "iopub.status.busy": "2022-09-06T21:14:27.113930Z",
     "iopub.status.idle": "2022-09-06T21:14:27.120896Z",
     "shell.execute_reply": "2022-09-06T21:14:27.120341Z"
    },
    "papermill": {
     "duration": 0.01202,
     "end_time": "2022-09-06T21:14:27.122481",
     "exception": false,
     "start_time": "2022-09-06T21:14:27.110461",
     "status": "completed"
    },
    "tags": [
     "parameters"
    ]
   },
   "outputs": [],
   "source": [
    "kdprov = '76'"
   ]
  },
  {
   "cell_type": "code",
   "execution_count": 2,
   "id": "e0c45449",
   "metadata": {
    "execution": {
     "iopub.execute_input": "2022-09-06T21:14:27.128681Z",
     "iopub.status.busy": "2022-09-06T21:14:27.128467Z",
     "iopub.status.idle": "2022-09-06T21:14:27.131286Z",
     "shell.execute_reply": "2022-09-06T21:14:27.130753Z"
    },
    "papermill": {
     "duration": 0.00691,
     "end_time": "2022-09-06T21:14:27.132573",
     "exception": false,
     "start_time": "2022-09-06T21:14:27.125663",
     "status": "completed"
    },
    "tags": [
     "injected-parameters"
    ]
   },
   "outputs": [],
   "source": [
    "# Parameters\n",
    "kdprov = \"12\"\n"
   ]
  },
  {
   "cell_type": "code",
   "execution_count": 3,
   "id": "b77d269d",
   "metadata": {
    "execution": {
     "iopub.execute_input": "2022-09-06T21:14:27.136787Z",
     "iopub.status.busy": "2022-09-06T21:14:27.136594Z",
     "iopub.status.idle": "2022-09-06T21:14:27.723783Z",
     "shell.execute_reply": "2022-09-06T21:14:27.722913Z"
    },
    "papermill": {
     "duration": 0.591776,
     "end_time": "2022-09-06T21:14:27.725972",
     "exception": false,
     "start_time": "2022-09-06T21:14:27.134196",
     "status": "completed"
    },
    "tags": []
   },
   "outputs": [
    {
     "name": "stderr",
     "output_type": "stream",
     "text": [
      "/home/jupyter-peta_admin/.local/lib/python3.8/site-packages/geopandas/_compat.py:112: UserWarning: The Shapely GEOS version (3.10.2-CAPI-1.16.0) is incompatible with the GEOS version PyGEOS was compiled with (3.10.1-CAPI-1.16.0). Conversions between both will be slow.\n",
      "  warnings.warn(\n"
     ]
    }
   ],
   "source": [
    "import pandas as pd\n",
    "import geopandas as gpd\n",
    "import rasterio\n",
    "import rasterio.features as features\n",
    "import numpy as np\n",
    "from rasterio.enums import Resampling\n",
    "from rasterio.crs import CRS\n",
    "import itertools\n",
    "\n",
    "from shapely.geometry import box"
   ]
  },
  {
   "cell_type": "code",
   "execution_count": 4,
   "id": "32a2c10f",
   "metadata": {
    "execution": {
     "iopub.execute_input": "2022-09-06T21:14:27.732543Z",
     "iopub.status.busy": "2022-09-06T21:14:27.731970Z",
     "iopub.status.idle": "2022-09-06T21:14:27.736006Z",
     "shell.execute_reply": "2022-09-06T21:14:27.735363Z"
    },
    "papermill": {
     "duration": 0.008904,
     "end_time": "2022-09-06T21:14:27.737736",
     "exception": false,
     "start_time": "2022-09-06T21:14:27.728832",
     "status": "completed"
    },
    "tags": []
   },
   "outputs": [],
   "source": [
    "from glob import glob"
   ]
  },
  {
   "cell_type": "code",
   "execution_count": 5,
   "id": "31300527",
   "metadata": {
    "execution": {
     "iopub.execute_input": "2022-09-06T21:14:27.742038Z",
     "iopub.status.busy": "2022-09-06T21:14:27.741646Z",
     "iopub.status.idle": "2022-09-06T21:14:27.745741Z",
     "shell.execute_reply": "2022-09-06T21:14:27.745250Z"
    },
    "papermill": {
     "duration": 0.008129,
     "end_time": "2022-09-06T21:14:27.747351",
     "exception": false,
     "start_time": "2022-09-06T21:14:27.739222",
     "status": "completed"
    },
    "tags": []
   },
   "outputs": [],
   "source": [
    "data_popdens_100m=glob(\"data/output/1_population_density/grid_pop_\"+kdprov+\"*_100m.gpkg\")\n",
    "data_popdens_100m=[i for i in data_popdens_100m if len(i)==56]"
   ]
  },
  {
   "cell_type": "code",
   "execution_count": 6,
   "id": "d11c9d82",
   "metadata": {
    "execution": {
     "iopub.execute_input": "2022-09-06T21:14:27.751755Z",
     "iopub.status.busy": "2022-09-06T21:14:27.751388Z",
     "iopub.status.idle": "2022-09-06T21:14:27.761083Z",
     "shell.execute_reply": "2022-09-06T21:14:27.760442Z"
    },
    "papermill": {
     "duration": 0.013789,
     "end_time": "2022-09-06T21:14:27.762672",
     "exception": false,
     "start_time": "2022-09-06T21:14:27.748883",
     "status": "completed"
    },
    "tags": []
   },
   "outputs": [
    {
     "data": {
      "text/plain": [
       "['data/output/1_population_density/grid_pop_1204_100m.gpkg',\n",
       " 'data/output/1_population_density/grid_pop_1211_100m.gpkg',\n",
       " 'data/output/1_population_density/grid_pop_1276_100m.gpkg',\n",
       " 'data/output/1_population_density/grid_pop_1272_100m.gpkg',\n",
       " 'data/output/1_population_density/grid_pop_1210_100m.gpkg',\n",
       " 'data/output/1_population_density/grid_pop_1209_100m.gpkg',\n",
       " 'data/output/1_population_density/grid_pop_1213_100m.gpkg',\n",
       " 'data/output/1_population_density/grid_pop_1271_100m.gpkg',\n",
       " 'data/output/1_population_density/grid_pop_1214_100m.gpkg',\n",
       " 'data/output/1_population_density/grid_pop_1224_100m.gpkg',\n",
       " 'data/output/1_population_density/grid_pop_1223_100m.gpkg',\n",
       " 'data/output/1_population_density/grid_pop_1208_100m.gpkg',\n",
       " 'data/output/1_population_density/grid_pop_1215_100m.gpkg',\n",
       " 'data/output/1_population_density/grid_pop_1206_100m.gpkg',\n",
       " 'data/output/1_population_density/grid_pop_1274_100m.gpkg',\n",
       " 'data/output/1_population_density/grid_pop_1273_100m.gpkg',\n",
       " 'data/output/1_population_density/grid_pop_1221_100m.gpkg',\n",
       " 'data/output/1_population_density/grid_pop_1277_100m.gpkg',\n",
       " 'data/output/1_population_density/grid_pop_1218_100m.gpkg',\n",
       " 'data/output/1_population_density/grid_pop_1216_100m.gpkg',\n",
       " 'data/output/1_population_density/grid_pop_1203_100m.gpkg',\n",
       " 'data/output/1_population_density/grid_pop_1219_100m.gpkg',\n",
       " 'data/output/1_population_density/grid_pop_1205_100m.gpkg',\n",
       " 'data/output/1_population_density/grid_pop_1220_100m.gpkg',\n",
       " 'data/output/1_population_density/grid_pop_1207_100m.gpkg',\n",
       " 'data/output/1_population_density/grid_pop_1201_100m.gpkg',\n",
       " 'data/output/1_population_density/grid_pop_1212_100m.gpkg',\n",
       " 'data/output/1_population_density/grid_pop_1275_100m.gpkg',\n",
       " 'data/output/1_population_density/grid_pop_1217_100m.gpkg',\n",
       " 'data/output/1_population_density/grid_pop_1222_100m.gpkg',\n",
       " 'data/output/1_population_density/grid_pop_1202_100m.gpkg',\n",
       " 'data/output/1_population_density/grid_pop_1288_100m.gpkg',\n",
       " 'data/output/1_population_density/grid_pop_1278_100m.gpkg',\n",
       " 'data/output/1_population_density/grid_pop_1225_100m.gpkg']"
      ]
     },
     "execution_count": 6,
     "metadata": {},
     "output_type": "execute_result"
    }
   ],
   "source": [
    "data_popdens_100m"
   ]
  },
  {
   "cell_type": "code",
   "execution_count": 7,
   "id": "4144e026",
   "metadata": {
    "execution": {
     "iopub.execute_input": "2022-09-06T21:14:27.767583Z",
     "iopub.status.busy": "2022-09-06T21:14:27.767361Z",
     "iopub.status.idle": "2022-09-06T21:14:27.782407Z",
     "shell.execute_reply": "2022-09-06T21:14:27.781814Z"
    },
    "papermill": {
     "duration": 0.019556,
     "end_time": "2022-09-06T21:14:27.784136",
     "exception": false,
     "start_time": "2022-09-06T21:14:27.764580",
     "status": "completed"
    },
    "tags": []
   },
   "outputs": [],
   "source": [
    "from rasterio.enums import Resampling\n",
    "import os\n",
    "def resampling_1km(dt):\n",
    "    global kdprov\n",
    "    kdkab=dt.split('/')[3].split('_')[2]\n",
    "    if os.path.isfile('data/output/1_population_density/grid_pop_'+kdkab+'_1km.tif')==False:\n",
    "        popdens_100m=gpd.read_file(dt)\n",
    "        popdens_100m['j_pend_round']=popdens_100m.j_pend.apply(lambda y: np.round(y))\n",
    "        raster = rasterio.open(r\"/vsigs/bps-gcp-bucket/Degree of Urbanisation/GHSL data/2020/prov/2020_\"+kdprov+\".tif\")\n",
    "        geom_value = ((geom,value) for geom, value in zip(popdens_100m.geometry, popdens_100m['j_pend_round']))\n",
    "        rasterized = features.rasterize(geom_value,\n",
    "                                out_shape = raster.shape,\n",
    "                                transform = raster.transform,\n",
    "                                all_touched = False,\n",
    "                                fill = 0,\n",
    "                                dtype = np.float64)\n",
    "        with rasterio.open(\n",
    "            \"data/temp/rasterized_popdens_\"+kdkab+\"_100.tif\", \"w\",\n",
    "            driver = \"GTiff\",\n",
    "            transform = raster.transform,\n",
    "            dtype = np.float64,\n",
    "            count = 1,\n",
    "            width = raster.width,\n",
    "            height = raster.height) as dst:\n",
    "            dst.write(rasterized, indexes = 1)\n",
    "    \n",
    "        target_res = (1000, 1000)\n",
    "\n",
    "        with rasterio.open(\"data/temp/rasterized_popdens_\"+kdkab+\"_100.tif\") as src:\n",
    "            data, transform = rasterio.warp.reproject(source=src.read(),\n",
    "                                src_transform=src.transform,\n",
    "                                src_crs=CRS.from_string(\"ESRI:54009\"),\n",
    "                                dst_crs=CRS.from_string(\"ESRI:54009\"),\n",
    "                                dst_nodata=0,\n",
    "                                dst_resolution=target_res,\n",
    "                                              #dtype = np.float64\n",
    "                                resampling=Resampling.sum)\n",
    "            profile = src.profile\n",
    "            profile.update(transform=transform, driver='GTiff',\n",
    "                    height=data.shape[1], width=data.shape[2])\n",
    "\n",
    "            with rasterio.open('data/output/1_population_density/grid_pop_'+kdkab+'_1km.tif', 'w', **profile) as dst:\n",
    "                dst.write(data)\n",
    "    else:\n",
    "        print(\"skip\")\n",
    "    if (os.path.isfile(\"data/output/1_population_density/grid_pop_\"+kdkab+\"_1km_w_bu.gpkg\")==False):\n",
    "        with rasterio.open('data/output/1_population_density/grid_pop_'+kdkab+'_1km.tif') as dataset:\n",
    "            data = dataset.read(1)\n",
    "\n",
    "            t = dataset.transform\n",
    "            move_x = t[0]\n",
    "            move_y = t[4]\n",
    "            height = dataset.height\n",
    "            width = dataset.width \n",
    "    \n",
    "            polygons = []\n",
    "            indices = list(itertools.product(range(width), range(height)))\n",
    "            for x,y in indices:\n",
    "                x_min, y_max = t * (x,y)\n",
    "                x_max = x_min + move_x\n",
    "                y_min = y_max + move_y\n",
    "                polygons.append(box(x_min, y_min, x_max, y_max))\n",
    "        \n",
    "        data_list = []\n",
    "        for x,y in indices:\n",
    "            data_list.append(data[y,x])\n",
    "        vect_tmp = gpd.GeoDataFrame(data=data_list, geometry=polygons, columns=['DN'])\n",
    "        vect_tmp.crs='ESRI:54009'\n",
    "        vect_tmp.DN=vect_tmp.DN.apply(lambda y: 0 if y<=0 else y)\n",
    "        y=gpd.GeoDataFrame()\n",
    "        data_builtup=gpd.read_file(\"data/input/GHSL Data/2020/gpkg/ghs_built_\"+kdkab+\"_nonzero.shp\")#.to_crs(('ESRI:54009'))\n",
    "        data_builtup['builtup']=data_builtup['value']\n",
    "        vect_=vect_tmp.reset_index()\n",
    "        vect_['index_o']=vect_['index'].apply(lambda y:str(y).zfill(7))\n",
    "        data_bu_per1km=vect_.sjoin(data_builtup,how='inner'\n",
    "                          ).sort_values('index_o')[['index_o','builtup']].groupby('index_o').agg('sum').reset_index()\n",
    "        vect_bu=vect_.merge(data_bu_per1km,how='inner')\n",
    "        vect_bu['p_builtup']=vect_bu.builtup/1e6\n",
    "        vect_bu['pop']=vect_bu.DN\n",
    "        vect_bu=vect_bu[['geometry','p_builtup','pop']].fillna(0)\n",
    "        vect_bu.crs='ESRI:54009'\n",
    "        vector = gpd.read_file(r\"data/input/Master_Data/DESA_20201_BYINDO.gpkg\").query('idkab==@kdkab').to_crs(\"ESRI:54009\")\n",
    "        vect_bu['index_o']=vect_bu.index.astype(str).str.zfill(8)\n",
    "        vect_bu.sjoin(vector)[['geometry','p_builtup','pop','index_o']].dissolve(by=['index_o']).to_file(\"data/output/1_population_density/grid_pop_\"+kdkab+\"_1km_w_bu.gpkg\",driver='GPKG')\n",
    "    else:\n",
    "        print(\"skip\")"
   ]
  },
  {
   "cell_type": "code",
   "execution_count": 8,
   "id": "1f6ead36",
   "metadata": {
    "execution": {
     "iopub.execute_input": "2022-09-06T21:14:27.789370Z",
     "iopub.status.busy": "2022-09-06T21:14:27.788790Z",
     "iopub.status.idle": "2022-09-06T21:18:37.364617Z",
     "shell.execute_reply": "2022-09-06T21:18:37.363793Z"
    },
    "papermill": {
     "duration": 249.580501,
     "end_time": "2022-09-06T21:18:37.366456",
     "exception": false,
     "start_time": "2022-09-06T21:14:27.785955",
     "status": "completed"
    },
    "tags": []
   },
   "outputs": [
    {
     "data": {
      "application/vnd.jupyter.widget-view+json": {
       "model_id": "b4cf1d0139f14e8f8bf17d925b6084d8",
       "version_major": 2,
       "version_minor": 0
      },
      "text/plain": [
       "  0%|          | 0/34 [00:00<?, ?it/s]"
      ]
     },
     "metadata": {},
     "output_type": "display_data"
    },
    {
     "name": "stderr",
     "output_type": "stream",
     "text": [
      "/home/jupyter-peta_admin/.local/lib/python3.8/site-packages/geopandas/geodataframe.py:2072: UserWarning: CRS mismatch between the CRS of left geometries and the CRS of right geometries.\n",
      "Use `to_crs()` to reproject one of the input geometries to match the CRS of the other.\n",
      "\n",
      "Left CRS: ESRI:54009\n",
      "Right CRS: None\n",
      "\n",
      "  return geopandas.sjoin(left_df=self, right_df=df, *args, **kwargs)\n"
     ]
    },
    {
     "name": "stderr",
     "output_type": "stream",
     "text": [
      "/home/jupyter-peta_admin/.local/lib/python3.8/site-packages/geopandas/geodataframe.py:2072: UserWarning: CRS mismatch between the CRS of left geometries and the CRS of right geometries.\n",
      "Use `to_crs()` to reproject one of the input geometries to match the CRS of the other.\n",
      "\n",
      "Left CRS: ESRI:54009\n",
      "Right CRS: None\n",
      "\n",
      "  return geopandas.sjoin(left_df=self, right_df=df, *args, **kwargs)\n"
     ]
    },
    {
     "name": "stderr",
     "output_type": "stream",
     "text": [
      "/home/jupyter-peta_admin/.local/lib/python3.8/site-packages/geopandas/geodataframe.py:2072: UserWarning: CRS mismatch between the CRS of left geometries and the CRS of right geometries.\n",
      "Use `to_crs()` to reproject one of the input geometries to match the CRS of the other.\n",
      "\n",
      "Left CRS: ESRI:54009\n",
      "Right CRS: None\n",
      "\n",
      "  return geopandas.sjoin(left_df=self, right_df=df, *args, **kwargs)\n"
     ]
    },
    {
     "name": "stderr",
     "output_type": "stream",
     "text": [
      "/home/jupyter-peta_admin/.local/lib/python3.8/site-packages/geopandas/geodataframe.py:2072: UserWarning: CRS mismatch between the CRS of left geometries and the CRS of right geometries.\n",
      "Use `to_crs()` to reproject one of the input geometries to match the CRS of the other.\n",
      "\n",
      "Left CRS: ESRI:54009\n",
      "Right CRS: None\n",
      "\n",
      "  return geopandas.sjoin(left_df=self, right_df=df, *args, **kwargs)\n"
     ]
    },
    {
     "name": "stderr",
     "output_type": "stream",
     "text": [
      "/home/jupyter-peta_admin/.local/lib/python3.8/site-packages/geopandas/geodataframe.py:2072: UserWarning: CRS mismatch between the CRS of left geometries and the CRS of right geometries.\n",
      "Use `to_crs()` to reproject one of the input geometries to match the CRS of the other.\n",
      "\n",
      "Left CRS: ESRI:54009\n",
      "Right CRS: None\n",
      "\n",
      "  return geopandas.sjoin(left_df=self, right_df=df, *args, **kwargs)\n"
     ]
    },
    {
     "name": "stderr",
     "output_type": "stream",
     "text": [
      "/home/jupyter-peta_admin/.local/lib/python3.8/site-packages/geopandas/geodataframe.py:2072: UserWarning: CRS mismatch between the CRS of left geometries and the CRS of right geometries.\n",
      "Use `to_crs()` to reproject one of the input geometries to match the CRS of the other.\n",
      "\n",
      "Left CRS: ESRI:54009\n",
      "Right CRS: None\n",
      "\n",
      "  return geopandas.sjoin(left_df=self, right_df=df, *args, **kwargs)\n"
     ]
    },
    {
     "name": "stderr",
     "output_type": "stream",
     "text": [
      "/home/jupyter-peta_admin/.local/lib/python3.8/site-packages/geopandas/geodataframe.py:2072: UserWarning: CRS mismatch between the CRS of left geometries and the CRS of right geometries.\n",
      "Use `to_crs()` to reproject one of the input geometries to match the CRS of the other.\n",
      "\n",
      "Left CRS: ESRI:54009\n",
      "Right CRS: None\n",
      "\n",
      "  return geopandas.sjoin(left_df=self, right_df=df, *args, **kwargs)\n"
     ]
    },
    {
     "name": "stderr",
     "output_type": "stream",
     "text": [
      "/home/jupyter-peta_admin/.local/lib/python3.8/site-packages/geopandas/geodataframe.py:2072: UserWarning: CRS mismatch between the CRS of left geometries and the CRS of right geometries.\n",
      "Use `to_crs()` to reproject one of the input geometries to match the CRS of the other.\n",
      "\n",
      "Left CRS: ESRI:54009\n",
      "Right CRS: None\n",
      "\n",
      "  return geopandas.sjoin(left_df=self, right_df=df, *args, **kwargs)\n"
     ]
    },
    {
     "name": "stderr",
     "output_type": "stream",
     "text": [
      "/home/jupyter-peta_admin/.local/lib/python3.8/site-packages/geopandas/geodataframe.py:2072: UserWarning: CRS mismatch between the CRS of left geometries and the CRS of right geometries.\n",
      "Use `to_crs()` to reproject one of the input geometries to match the CRS of the other.\n",
      "\n",
      "Left CRS: ESRI:54009\n",
      "Right CRS: None\n",
      "\n",
      "  return geopandas.sjoin(left_df=self, right_df=df, *args, **kwargs)\n"
     ]
    },
    {
     "name": "stderr",
     "output_type": "stream",
     "text": [
      "/home/jupyter-peta_admin/.local/lib/python3.8/site-packages/geopandas/geodataframe.py:2072: UserWarning: CRS mismatch between the CRS of left geometries and the CRS of right geometries.\n",
      "Use `to_crs()` to reproject one of the input geometries to match the CRS of the other.\n",
      "\n",
      "Left CRS: ESRI:54009\n",
      "Right CRS: None\n",
      "\n",
      "  return geopandas.sjoin(left_df=self, right_df=df, *args, **kwargs)\n"
     ]
    },
    {
     "name": "stderr",
     "output_type": "stream",
     "text": [
      "/home/jupyter-peta_admin/.local/lib/python3.8/site-packages/geopandas/geodataframe.py:2072: UserWarning: CRS mismatch between the CRS of left geometries and the CRS of right geometries.\n",
      "Use `to_crs()` to reproject one of the input geometries to match the CRS of the other.\n",
      "\n",
      "Left CRS: ESRI:54009\n",
      "Right CRS: None\n",
      "\n",
      "  return geopandas.sjoin(left_df=self, right_df=df, *args, **kwargs)\n"
     ]
    },
    {
     "name": "stderr",
     "output_type": "stream",
     "text": [
      "/home/jupyter-peta_admin/.local/lib/python3.8/site-packages/geopandas/geodataframe.py:2072: UserWarning: CRS mismatch between the CRS of left geometries and the CRS of right geometries.\n",
      "Use `to_crs()` to reproject one of the input geometries to match the CRS of the other.\n",
      "\n",
      "Left CRS: ESRI:54009\n",
      "Right CRS: None\n",
      "\n",
      "  return geopandas.sjoin(left_df=self, right_df=df, *args, **kwargs)\n"
     ]
    },
    {
     "name": "stderr",
     "output_type": "stream",
     "text": [
      "/home/jupyter-peta_admin/.local/lib/python3.8/site-packages/geopandas/geodataframe.py:2072: UserWarning: CRS mismatch between the CRS of left geometries and the CRS of right geometries.\n",
      "Use `to_crs()` to reproject one of the input geometries to match the CRS of the other.\n",
      "\n",
      "Left CRS: ESRI:54009\n",
      "Right CRS: None\n",
      "\n",
      "  return geopandas.sjoin(left_df=self, right_df=df, *args, **kwargs)\n"
     ]
    },
    {
     "name": "stderr",
     "output_type": "stream",
     "text": [
      "/home/jupyter-peta_admin/.local/lib/python3.8/site-packages/geopandas/geodataframe.py:2072: UserWarning: CRS mismatch between the CRS of left geometries and the CRS of right geometries.\n",
      "Use `to_crs()` to reproject one of the input geometries to match the CRS of the other.\n",
      "\n",
      "Left CRS: ESRI:54009\n",
      "Right CRS: None\n",
      "\n",
      "  return geopandas.sjoin(left_df=self, right_df=df, *args, **kwargs)\n"
     ]
    },
    {
     "name": "stderr",
     "output_type": "stream",
     "text": [
      "/home/jupyter-peta_admin/.local/lib/python3.8/site-packages/geopandas/geodataframe.py:2072: UserWarning: CRS mismatch between the CRS of left geometries and the CRS of right geometries.\n",
      "Use `to_crs()` to reproject one of the input geometries to match the CRS of the other.\n",
      "\n",
      "Left CRS: ESRI:54009\n",
      "Right CRS: None\n",
      "\n",
      "  return geopandas.sjoin(left_df=self, right_df=df, *args, **kwargs)\n"
     ]
    },
    {
     "name": "stderr",
     "output_type": "stream",
     "text": [
      "/home/jupyter-peta_admin/.local/lib/python3.8/site-packages/geopandas/geodataframe.py:2072: UserWarning: CRS mismatch between the CRS of left geometries and the CRS of right geometries.\n",
      "Use `to_crs()` to reproject one of the input geometries to match the CRS of the other.\n",
      "\n",
      "Left CRS: ESRI:54009\n",
      "Right CRS: None\n",
      "\n",
      "  return geopandas.sjoin(left_df=self, right_df=df, *args, **kwargs)\n"
     ]
    },
    {
     "name": "stderr",
     "output_type": "stream",
     "text": [
      "/home/jupyter-peta_admin/.local/lib/python3.8/site-packages/geopandas/geodataframe.py:2072: UserWarning: CRS mismatch between the CRS of left geometries and the CRS of right geometries.\n",
      "Use `to_crs()` to reproject one of the input geometries to match the CRS of the other.\n",
      "\n",
      "Left CRS: ESRI:54009\n",
      "Right CRS: None\n",
      "\n",
      "  return geopandas.sjoin(left_df=self, right_df=df, *args, **kwargs)\n"
     ]
    },
    {
     "name": "stderr",
     "output_type": "stream",
     "text": [
      "/home/jupyter-peta_admin/.local/lib/python3.8/site-packages/geopandas/geodataframe.py:2072: UserWarning: CRS mismatch between the CRS of left geometries and the CRS of right geometries.\n",
      "Use `to_crs()` to reproject one of the input geometries to match the CRS of the other.\n",
      "\n",
      "Left CRS: ESRI:54009\n",
      "Right CRS: None\n",
      "\n",
      "  return geopandas.sjoin(left_df=self, right_df=df, *args, **kwargs)\n"
     ]
    },
    {
     "name": "stderr",
     "output_type": "stream",
     "text": [
      "/home/jupyter-peta_admin/.local/lib/python3.8/site-packages/geopandas/geodataframe.py:2072: UserWarning: CRS mismatch between the CRS of left geometries and the CRS of right geometries.\n",
      "Use `to_crs()` to reproject one of the input geometries to match the CRS of the other.\n",
      "\n",
      "Left CRS: ESRI:54009\n",
      "Right CRS: None\n",
      "\n",
      "  return geopandas.sjoin(left_df=self, right_df=df, *args, **kwargs)\n"
     ]
    },
    {
     "name": "stderr",
     "output_type": "stream",
     "text": [
      "/home/jupyter-peta_admin/.local/lib/python3.8/site-packages/geopandas/geodataframe.py:2072: UserWarning: CRS mismatch between the CRS of left geometries and the CRS of right geometries.\n",
      "Use `to_crs()` to reproject one of the input geometries to match the CRS of the other.\n",
      "\n",
      "Left CRS: ESRI:54009\n",
      "Right CRS: None\n",
      "\n",
      "  return geopandas.sjoin(left_df=self, right_df=df, *args, **kwargs)\n"
     ]
    },
    {
     "name": "stderr",
     "output_type": "stream",
     "text": [
      "/home/jupyter-peta_admin/.local/lib/python3.8/site-packages/geopandas/geodataframe.py:2072: UserWarning: CRS mismatch between the CRS of left geometries and the CRS of right geometries.\n",
      "Use `to_crs()` to reproject one of the input geometries to match the CRS of the other.\n",
      "\n",
      "Left CRS: ESRI:54009\n",
      "Right CRS: None\n",
      "\n",
      "  return geopandas.sjoin(left_df=self, right_df=df, *args, **kwargs)\n"
     ]
    },
    {
     "name": "stderr",
     "output_type": "stream",
     "text": [
      "/home/jupyter-peta_admin/.local/lib/python3.8/site-packages/geopandas/geodataframe.py:2072: UserWarning: CRS mismatch between the CRS of left geometries and the CRS of right geometries.\n",
      "Use `to_crs()` to reproject one of the input geometries to match the CRS of the other.\n",
      "\n",
      "Left CRS: ESRI:54009\n",
      "Right CRS: None\n",
      "\n",
      "  return geopandas.sjoin(left_df=self, right_df=df, *args, **kwargs)\n"
     ]
    },
    {
     "name": "stderr",
     "output_type": "stream",
     "text": [
      "/home/jupyter-peta_admin/.local/lib/python3.8/site-packages/geopandas/geodataframe.py:2072: UserWarning: CRS mismatch between the CRS of left geometries and the CRS of right geometries.\n",
      "Use `to_crs()` to reproject one of the input geometries to match the CRS of the other.\n",
      "\n",
      "Left CRS: ESRI:54009\n",
      "Right CRS: None\n",
      "\n",
      "  return geopandas.sjoin(left_df=self, right_df=df, *args, **kwargs)\n"
     ]
    },
    {
     "name": "stderr",
     "output_type": "stream",
     "text": [
      "/home/jupyter-peta_admin/.local/lib/python3.8/site-packages/geopandas/geodataframe.py:2072: UserWarning: CRS mismatch between the CRS of left geometries and the CRS of right geometries.\n",
      "Use `to_crs()` to reproject one of the input geometries to match the CRS of the other.\n",
      "\n",
      "Left CRS: ESRI:54009\n",
      "Right CRS: None\n",
      "\n",
      "  return geopandas.sjoin(left_df=self, right_df=df, *args, **kwargs)\n"
     ]
    },
    {
     "name": "stderr",
     "output_type": "stream",
     "text": [
      "/home/jupyter-peta_admin/.local/lib/python3.8/site-packages/geopandas/geodataframe.py:2072: UserWarning: CRS mismatch between the CRS of left geometries and the CRS of right geometries.\n",
      "Use `to_crs()` to reproject one of the input geometries to match the CRS of the other.\n",
      "\n",
      "Left CRS: ESRI:54009\n",
      "Right CRS: None\n",
      "\n",
      "  return geopandas.sjoin(left_df=self, right_df=df, *args, **kwargs)\n"
     ]
    },
    {
     "name": "stderr",
     "output_type": "stream",
     "text": [
      "/home/jupyter-peta_admin/.local/lib/python3.8/site-packages/geopandas/geodataframe.py:2072: UserWarning: CRS mismatch between the CRS of left geometries and the CRS of right geometries.\n",
      "Use `to_crs()` to reproject one of the input geometries to match the CRS of the other.\n",
      "\n",
      "Left CRS: ESRI:54009\n",
      "Right CRS: None\n",
      "\n",
      "  return geopandas.sjoin(left_df=self, right_df=df, *args, **kwargs)\n"
     ]
    },
    {
     "name": "stderr",
     "output_type": "stream",
     "text": [
      "/home/jupyter-peta_admin/.local/lib/python3.8/site-packages/geopandas/geodataframe.py:2072: UserWarning: CRS mismatch between the CRS of left geometries and the CRS of right geometries.\n",
      "Use `to_crs()` to reproject one of the input geometries to match the CRS of the other.\n",
      "\n",
      "Left CRS: ESRI:54009\n",
      "Right CRS: None\n",
      "\n",
      "  return geopandas.sjoin(left_df=self, right_df=df, *args, **kwargs)\n"
     ]
    },
    {
     "name": "stderr",
     "output_type": "stream",
     "text": [
      "/home/jupyter-peta_admin/.local/lib/python3.8/site-packages/geopandas/geodataframe.py:2072: UserWarning: CRS mismatch between the CRS of left geometries and the CRS of right geometries.\n",
      "Use `to_crs()` to reproject one of the input geometries to match the CRS of the other.\n",
      "\n",
      "Left CRS: ESRI:54009\n",
      "Right CRS: None\n",
      "\n",
      "  return geopandas.sjoin(left_df=self, right_df=df, *args, **kwargs)\n"
     ]
    },
    {
     "name": "stderr",
     "output_type": "stream",
     "text": [
      "/home/jupyter-peta_admin/.local/lib/python3.8/site-packages/geopandas/geodataframe.py:2072: UserWarning: CRS mismatch between the CRS of left geometries and the CRS of right geometries.\n",
      "Use `to_crs()` to reproject one of the input geometries to match the CRS of the other.\n",
      "\n",
      "Left CRS: ESRI:54009\n",
      "Right CRS: None\n",
      "\n",
      "  return geopandas.sjoin(left_df=self, right_df=df, *args, **kwargs)\n"
     ]
    },
    {
     "name": "stderr",
     "output_type": "stream",
     "text": [
      "/home/jupyter-peta_admin/.local/lib/python3.8/site-packages/geopandas/geodataframe.py:2072: UserWarning: CRS mismatch between the CRS of left geometries and the CRS of right geometries.\n",
      "Use `to_crs()` to reproject one of the input geometries to match the CRS of the other.\n",
      "\n",
      "Left CRS: ESRI:54009\n",
      "Right CRS: None\n",
      "\n",
      "  return geopandas.sjoin(left_df=self, right_df=df, *args, **kwargs)\n"
     ]
    },
    {
     "name": "stderr",
     "output_type": "stream",
     "text": [
      "/home/jupyter-peta_admin/.local/lib/python3.8/site-packages/geopandas/geodataframe.py:2072: UserWarning: CRS mismatch between the CRS of left geometries and the CRS of right geometries.\n",
      "Use `to_crs()` to reproject one of the input geometries to match the CRS of the other.\n",
      "\n",
      "Left CRS: ESRI:54009\n",
      "Right CRS: None\n",
      "\n",
      "  return geopandas.sjoin(left_df=self, right_df=df, *args, **kwargs)\n"
     ]
    },
    {
     "name": "stderr",
     "output_type": "stream",
     "text": [
      "/home/jupyter-peta_admin/.local/lib/python3.8/site-packages/geopandas/geodataframe.py:2072: UserWarning: CRS mismatch between the CRS of left geometries and the CRS of right geometries.\n",
      "Use `to_crs()` to reproject one of the input geometries to match the CRS of the other.\n",
      "\n",
      "Left CRS: ESRI:54009\n",
      "Right CRS: None\n",
      "\n",
      "  return geopandas.sjoin(left_df=self, right_df=df, *args, **kwargs)\n"
     ]
    },
    {
     "name": "stderr",
     "output_type": "stream",
     "text": [
      "/home/jupyter-peta_admin/.local/lib/python3.8/site-packages/geopandas/geodataframe.py:2072: UserWarning: CRS mismatch between the CRS of left geometries and the CRS of right geometries.\n",
      "Use `to_crs()` to reproject one of the input geometries to match the CRS of the other.\n",
      "\n",
      "Left CRS: ESRI:54009\n",
      "Right CRS: None\n",
      "\n",
      "  return geopandas.sjoin(left_df=self, right_df=df, *args, **kwargs)\n"
     ]
    },
    {
     "name": "stderr",
     "output_type": "stream",
     "text": [
      "/home/jupyter-peta_admin/.local/lib/python3.8/site-packages/geopandas/geodataframe.py:2072: UserWarning: CRS mismatch between the CRS of left geometries and the CRS of right geometries.\n",
      "Use `to_crs()` to reproject one of the input geometries to match the CRS of the other.\n",
      "\n",
      "Left CRS: ESRI:54009\n",
      "Right CRS: None\n",
      "\n",
      "  return geopandas.sjoin(left_df=self, right_df=df, *args, **kwargs)\n"
     ]
    },
    {
     "data": {
      "text/plain": [
       "[None,\n",
       " None,\n",
       " None,\n",
       " None,\n",
       " None,\n",
       " None,\n",
       " None,\n",
       " None,\n",
       " None,\n",
       " None,\n",
       " None,\n",
       " None,\n",
       " None,\n",
       " None,\n",
       " None,\n",
       " None,\n",
       " None,\n",
       " None,\n",
       " None,\n",
       " None,\n",
       " None,\n",
       " None,\n",
       " None,\n",
       " None,\n",
       " None,\n",
       " None,\n",
       " None,\n",
       " None,\n",
       " None,\n",
       " None,\n",
       " None,\n",
       " None,\n",
       " None,\n",
       " None]"
      ]
     },
     "execution_count": 8,
     "metadata": {},
     "output_type": "execute_result"
    }
   ],
   "source": [
    "from tqdm.contrib.concurrent import process_map\n",
    "process_map(resampling_1km,data_popdens_100m)   "
   ]
  }
 ],
 "metadata": {
  "celltoolbar": "Tags",
  "kernelspec": {
   "display_name": "Python 3 (ipykernel)",
   "language": "python",
   "name": "python3"
  },
  "language_info": {
   "codemirror_mode": {
    "name": "ipython",
    "version": 3
   },
   "file_extension": ".py",
   "mimetype": "text/x-python",
   "name": "python",
   "nbconvert_exporter": "python",
   "pygments_lexer": "ipython3",
   "version": "3.8.12"
  },
  "papermill": {
   "default_parameters": {},
   "duration": 251.411151,
   "end_time": "2022-09-06T21:18:37.691832",
   "environment_variables": {},
   "exception": null,
   "input_path": "01_Population_Density #2 Resampling_to1km and Calculate BU Percentage-By Kabkota Rev.ipynb",
   "output_path": "01_Population Density #2-12.ipynb",
   "parameters": {
    "kdprov": "12"
   },
   "start_time": "2022-09-06T21:14:26.280681",
   "version": "2.3.4"
  },
  "widgets": {
   "application/vnd.jupyter.widget-state+json": {
    "state": {
     "20c901c0de8d4c7c90429608371e6115": {
      "model_module": "@jupyter-widgets/controls",
      "model_module_version": "1.5.0",
      "model_name": "HTMLModel",
      "state": {
       "_dom_classes": [],
       "_model_module": "@jupyter-widgets/controls",
       "_model_module_version": "1.5.0",
       "_model_name": "HTMLModel",
       "_view_count": null,
       "_view_module": "@jupyter-widgets/controls",
       "_view_module_version": "1.5.0",
       "_view_name": "HTMLView",
       "description": "",
       "description_tooltip": null,
       "layout": "IPY_MODEL_b2611a0b31de4436adafc955b88421dd",
       "placeholder": "​",
       "style": "IPY_MODEL_f86499cd58724ef0ace29d13b59501ae",
       "value": "100%"
      }
     },
     "211bf50a726a4d0889a7145b9cc5786e": {
      "model_module": "@jupyter-widgets/controls",
      "model_module_version": "1.5.0",
      "model_name": "ProgressStyleModel",
      "state": {
       "_model_module": "@jupyter-widgets/controls",
       "_model_module_version": "1.5.0",
       "_model_name": "ProgressStyleModel",
       "_view_count": null,
       "_view_module": "@jupyter-widgets/base",
       "_view_module_version": "1.2.0",
       "_view_name": "StyleView",
       "bar_color": null,
       "description_width": ""
      }
     },
     "38387b0e1c89416faf90d24cc7c5439f": {
      "model_module": "@jupyter-widgets/controls",
      "model_module_version": "1.5.0",
      "model_name": "DescriptionStyleModel",
      "state": {
       "_model_module": "@jupyter-widgets/controls",
       "_model_module_version": "1.5.0",
       "_model_name": "DescriptionStyleModel",
       "_view_count": null,
       "_view_module": "@jupyter-widgets/base",
       "_view_module_version": "1.2.0",
       "_view_name": "StyleView",
       "description_width": ""
      }
     },
     "674a71797de6430fa66a6b4ae714329f": {
      "model_module": "@jupyter-widgets/controls",
      "model_module_version": "1.5.0",
      "model_name": "FloatProgressModel",
      "state": {
       "_dom_classes": [],
       "_model_module": "@jupyter-widgets/controls",
       "_model_module_version": "1.5.0",
       "_model_name": "FloatProgressModel",
       "_view_count": null,
       "_view_module": "@jupyter-widgets/controls",
       "_view_module_version": "1.5.0",
       "_view_name": "ProgressView",
       "bar_style": "success",
       "description": "",
       "description_tooltip": null,
       "layout": "IPY_MODEL_e11d4d6574fa4b17b0c01ca3825421b1",
       "max": 34.0,
       "min": 0.0,
       "orientation": "horizontal",
       "style": "IPY_MODEL_211bf50a726a4d0889a7145b9cc5786e",
       "value": 34.0
      }
     },
     "84de2e6e80e14f698c857740613cd447": {
      "model_module": "@jupyter-widgets/base",
      "model_module_version": "1.2.0",
      "model_name": "LayoutModel",
      "state": {
       "_model_module": "@jupyter-widgets/base",
       "_model_module_version": "1.2.0",
       "_model_name": "LayoutModel",
       "_view_count": null,
       "_view_module": "@jupyter-widgets/base",
       "_view_module_version": "1.2.0",
       "_view_name": "LayoutView",
       "align_content": null,
       "align_items": null,
       "align_self": null,
       "border": null,
       "bottom": null,
       "display": null,
       "flex": null,
       "flex_flow": null,
       "grid_area": null,
       "grid_auto_columns": null,
       "grid_auto_flow": null,
       "grid_auto_rows": null,
       "grid_column": null,
       "grid_gap": null,
       "grid_row": null,
       "grid_template_areas": null,
       "grid_template_columns": null,
       "grid_template_rows": null,
       "height": null,
       "justify_content": null,
       "justify_items": null,
       "left": null,
       "margin": null,
       "max_height": null,
       "max_width": null,
       "min_height": null,
       "min_width": null,
       "object_fit": null,
       "object_position": null,
       "order": null,
       "overflow": null,
       "overflow_x": null,
       "overflow_y": null,
       "padding": null,
       "right": null,
       "top": null,
       "visibility": null,
       "width": null
      }
     },
     "b2611a0b31de4436adafc955b88421dd": {
      "model_module": "@jupyter-widgets/base",
      "model_module_version": "1.2.0",
      "model_name": "LayoutModel",
      "state": {
       "_model_module": "@jupyter-widgets/base",
       "_model_module_version": "1.2.0",
       "_model_name": "LayoutModel",
       "_view_count": null,
       "_view_module": "@jupyter-widgets/base",
       "_view_module_version": "1.2.0",
       "_view_name": "LayoutView",
       "align_content": null,
       "align_items": null,
       "align_self": null,
       "border": null,
       "bottom": null,
       "display": null,
       "flex": null,
       "flex_flow": null,
       "grid_area": null,
       "grid_auto_columns": null,
       "grid_auto_flow": null,
       "grid_auto_rows": null,
       "grid_column": null,
       "grid_gap": null,
       "grid_row": null,
       "grid_template_areas": null,
       "grid_template_columns": null,
       "grid_template_rows": null,
       "height": null,
       "justify_content": null,
       "justify_items": null,
       "left": null,
       "margin": null,
       "max_height": null,
       "max_width": null,
       "min_height": null,
       "min_width": null,
       "object_fit": null,
       "object_position": null,
       "order": null,
       "overflow": null,
       "overflow_x": null,
       "overflow_y": null,
       "padding": null,
       "right": null,
       "top": null,
       "visibility": null,
       "width": null
      }
     },
     "b4cf1d0139f14e8f8bf17d925b6084d8": {
      "model_module": "@jupyter-widgets/controls",
      "model_module_version": "1.5.0",
      "model_name": "HBoxModel",
      "state": {
       "_dom_classes": [],
       "_model_module": "@jupyter-widgets/controls",
       "_model_module_version": "1.5.0",
       "_model_name": "HBoxModel",
       "_view_count": null,
       "_view_module": "@jupyter-widgets/controls",
       "_view_module_version": "1.5.0",
       "_view_name": "HBoxView",
       "box_style": "",
       "children": [
        "IPY_MODEL_20c901c0de8d4c7c90429608371e6115",
        "IPY_MODEL_674a71797de6430fa66a6b4ae714329f",
        "IPY_MODEL_e6d7348b105c45e9be428e9d617248e7"
       ],
       "layout": "IPY_MODEL_fb4b9e3c3daa4555965dec506a84333d"
      }
     },
     "e11d4d6574fa4b17b0c01ca3825421b1": {
      "model_module": "@jupyter-widgets/base",
      "model_module_version": "1.2.0",
      "model_name": "LayoutModel",
      "state": {
       "_model_module": "@jupyter-widgets/base",
       "_model_module_version": "1.2.0",
       "_model_name": "LayoutModel",
       "_view_count": null,
       "_view_module": "@jupyter-widgets/base",
       "_view_module_version": "1.2.0",
       "_view_name": "LayoutView",
       "align_content": null,
       "align_items": null,
       "align_self": null,
       "border": null,
       "bottom": null,
       "display": null,
       "flex": null,
       "flex_flow": null,
       "grid_area": null,
       "grid_auto_columns": null,
       "grid_auto_flow": null,
       "grid_auto_rows": null,
       "grid_column": null,
       "grid_gap": null,
       "grid_row": null,
       "grid_template_areas": null,
       "grid_template_columns": null,
       "grid_template_rows": null,
       "height": null,
       "justify_content": null,
       "justify_items": null,
       "left": null,
       "margin": null,
       "max_height": null,
       "max_width": null,
       "min_height": null,
       "min_width": null,
       "object_fit": null,
       "object_position": null,
       "order": null,
       "overflow": null,
       "overflow_x": null,
       "overflow_y": null,
       "padding": null,
       "right": null,
       "top": null,
       "visibility": null,
       "width": null
      }
     },
     "e6d7348b105c45e9be428e9d617248e7": {
      "model_module": "@jupyter-widgets/controls",
      "model_module_version": "1.5.0",
      "model_name": "HTMLModel",
      "state": {
       "_dom_classes": [],
       "_model_module": "@jupyter-widgets/controls",
       "_model_module_version": "1.5.0",
       "_model_name": "HTMLModel",
       "_view_count": null,
       "_view_module": "@jupyter-widgets/controls",
       "_view_module_version": "1.5.0",
       "_view_name": "HTMLView",
       "description": "",
       "description_tooltip": null,
       "layout": "IPY_MODEL_84de2e6e80e14f698c857740613cd447",
       "placeholder": "​",
       "style": "IPY_MODEL_38387b0e1c89416faf90d24cc7c5439f",
       "value": " 34/34 [04:08&lt;00:00,  3.73s/it]"
      }
     },
     "f86499cd58724ef0ace29d13b59501ae": {
      "model_module": "@jupyter-widgets/controls",
      "model_module_version": "1.5.0",
      "model_name": "DescriptionStyleModel",
      "state": {
       "_model_module": "@jupyter-widgets/controls",
       "_model_module_version": "1.5.0",
       "_model_name": "DescriptionStyleModel",
       "_view_count": null,
       "_view_module": "@jupyter-widgets/base",
       "_view_module_version": "1.2.0",
       "_view_name": "StyleView",
       "description_width": ""
      }
     },
     "fb4b9e3c3daa4555965dec506a84333d": {
      "model_module": "@jupyter-widgets/base",
      "model_module_version": "1.2.0",
      "model_name": "LayoutModel",
      "state": {
       "_model_module": "@jupyter-widgets/base",
       "_model_module_version": "1.2.0",
       "_model_name": "LayoutModel",
       "_view_count": null,
       "_view_module": "@jupyter-widgets/base",
       "_view_module_version": "1.2.0",
       "_view_name": "LayoutView",
       "align_content": null,
       "align_items": null,
       "align_self": null,
       "border": null,
       "bottom": null,
       "display": null,
       "flex": null,
       "flex_flow": null,
       "grid_area": null,
       "grid_auto_columns": null,
       "grid_auto_flow": null,
       "grid_auto_rows": null,
       "grid_column": null,
       "grid_gap": null,
       "grid_row": null,
       "grid_template_areas": null,
       "grid_template_columns": null,
       "grid_template_rows": null,
       "height": null,
       "justify_content": null,
       "justify_items": null,
       "left": null,
       "margin": null,
       "max_height": null,
       "max_width": null,
       "min_height": null,
       "min_width": null,
       "object_fit": null,
       "object_position": null,
       "order": null,
       "overflow": null,
       "overflow_x": null,
       "overflow_y": null,
       "padding": null,
       "right": null,
       "top": null,
       "visibility": null,
       "width": null
      }
     }
    },
    "version_major": 2,
    "version_minor": 0
   }
  }
 },
 "nbformat": 4,
 "nbformat_minor": 5
}