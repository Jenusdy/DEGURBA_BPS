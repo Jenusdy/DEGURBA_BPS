{
 "cells": [
  {
   "cell_type": "code",
   "execution_count": 5,
   "id": "7a991e5d",
   "metadata": {},
   "outputs": [],
   "source": [
    "import geopandas as gpd\n",
    "import pandas as pd\n",
    "from glob import glob"
   ]
  },
  {
   "cell_type": "code",
   "execution_count": 3,
   "id": "baa570d3",
   "metadata": {},
   "outputs": [],
   "source": [
    "kdprov=['51']\n",
    "nmfiledegurba=\"degurba_Bali_00.gpkg\""
   ]
  },
  {
   "cell_type": "code",
   "execution_count": 4,
   "id": "576833d4",
   "metadata": {},
   "outputs": [],
   "source": [
    "data_degurba_grod=gpd.read_file('data/output/2_grid_degurba/'+nmfiledegurba)"
   ]
  },
  {
   "cell_type": "code",
   "execution_count": 7,
   "id": "caceb6e5",
   "metadata": {},
   "outputs": [
    {
     "name": "stderr",
     "output_type": "stream",
     "text": [
      "/tmp/ipykernel_6601/2622914391.py:8: FutureWarning: The frame.append method is deprecated and will be removed from pandas in a future version. Use pandas.concat instead.\n",
      "  data_pop=y_temp.append(y_temp)\n",
      "/tmp/ipykernel_6601/2622914391.py:8: FutureWarning: The frame.append method is deprecated and will be removed from pandas in a future version. Use pandas.concat instead.\n",
      "  data_pop=y_temp.append(y_temp)\n",
      "/tmp/ipykernel_6601/2622914391.py:8: FutureWarning: The frame.append method is deprecated and will be removed from pandas in a future version. Use pandas.concat instead.\n",
      "  data_pop=y_temp.append(y_temp)\n",
      "/tmp/ipykernel_6601/2622914391.py:8: FutureWarning: The frame.append method is deprecated and will be removed from pandas in a future version. Use pandas.concat instead.\n",
      "  data_pop=y_temp.append(y_temp)\n",
      "/tmp/ipykernel_6601/2622914391.py:8: FutureWarning: The frame.append method is deprecated and will be removed from pandas in a future version. Use pandas.concat instead.\n",
      "  data_pop=y_temp.append(y_temp)\n",
      "/tmp/ipykernel_6601/2622914391.py:8: FutureWarning: The frame.append method is deprecated and will be removed from pandas in a future version. Use pandas.concat instead.\n",
      "  data_pop=y_temp.append(y_temp)\n",
      "/tmp/ipykernel_6601/2622914391.py:8: FutureWarning: The frame.append method is deprecated and will be removed from pandas in a future version. Use pandas.concat instead.\n",
      "  data_pop=y_temp.append(y_temp)\n",
      "/tmp/ipykernel_6601/2622914391.py:8: FutureWarning: The frame.append method is deprecated and will be removed from pandas in a future version. Use pandas.concat instead.\n",
      "  data_pop=y_temp.append(y_temp)\n",
      "/tmp/ipykernel_6601/2622914391.py:8: FutureWarning: The frame.append method is deprecated and will be removed from pandas in a future version. Use pandas.concat instead.\n",
      "  data_pop=y_temp.append(y_temp)\n"
     ]
    }
   ],
   "source": [
    "data_pop=gpd.GeoDataFrame()\n",
    "for i in kdprov:\n",
    "    gl_pop=glob(\"data/output/1_population_density/grid_pop_\"+i+\"*_100m.gpkg\")\n",
    "    for j in gl_pop:\n",
    "        y_temp=gpd.read_file(j)\n",
    "        y_temp['geometry']=y_temp.centroid\n",
    "        y_temp=y_temp[['j_pend','geometry','p_area']]\n",
    "        data_pop=y_temp.append(y_temp)"
   ]
  },
  {
   "cell_type": "code",
   "execution_count": 9,
   "id": "063f5bf1",
   "metadata": {},
   "outputs": [
    {
     "name": "stderr",
     "output_type": "stream",
     "text": [
      "/tmp/ipykernel_6601/2837293180.py:4: FutureWarning: The frame.append method is deprecated and will be removed from pandas in a future version. Use pandas.concat instead.\n",
      "  data_desa_raster=temp.append(data_desa_raster)\n"
     ]
    }
   ],
   "source": [
    "data_desa_raster=gpd.GeoDataFrame()\n",
    "for i in kdprov:\n",
    "    temp=gpd.read_file('data/output/0_raster_data_desa/'+'desa_pend_rasterize_'+i+'.gpkg')\n",
    "    data_desa_raster=temp.append(data_desa_raster)"
   ]
  },
  {
   "cell_type": "code",
   "execution_count": 12,
   "id": "78e2b309",
   "metadata": {},
   "outputs": [],
   "source": [
    "pop_w_grid=data_pop.sjoin(data_degurba_grod)[['j_pend','classification','geometry']]"
   ]
  },
  {
   "cell_type": "code",
   "execution_count": 18,
   "id": "82172203",
   "metadata": {},
   "outputs": [],
   "source": [
    "data_desa=data_desa_raster.sjoin(pop_w_grid)[['j_pend','classification','iddesa','geometry']]"
   ]
  },
  {
   "cell_type": "code",
   "execution_count": 19,
   "id": "8e9a4ad6",
   "metadata": {},
   "outputs": [
    {
     "data": {
      "text/html": [
       "<div>\n",
       "<style scoped>\n",
       "    .dataframe tbody tr th:only-of-type {\n",
       "        vertical-align: middle;\n",
       "    }\n",
       "\n",
       "    .dataframe tbody tr th {\n",
       "        vertical-align: top;\n",
       "    }\n",
       "\n",
       "    .dataframe thead th {\n",
       "        text-align: right;\n",
       "    }\n",
       "</style>\n",
       "<table border=\"1\" class=\"dataframe\">\n",
       "  <thead>\n",
       "    <tr style=\"text-align: right;\">\n",
       "      <th></th>\n",
       "      <th>j_pend</th>\n",
       "      <th>classification</th>\n",
       "      <th>iddesa</th>\n",
       "      <th>geometry</th>\n",
       "    </tr>\n",
       "  </thead>\n",
       "  <tbody>\n",
       "    <tr>\n",
       "      <th>375</th>\n",
       "      <td>0.000000</td>\n",
       "      <td>RURAL</td>\n",
       "      <td>5106010001</td>\n",
       "      <td>POLYGON ((11480400.000 -1045300.000, 11480500....</td>\n",
       "    </tr>\n",
       "    <tr>\n",
       "      <th>375</th>\n",
       "      <td>0.000000</td>\n",
       "      <td>CENTRE</td>\n",
       "      <td>5106010001</td>\n",
       "      <td>POLYGON ((11480400.000 -1045300.000, 11480500....</td>\n",
       "    </tr>\n",
       "    <tr>\n",
       "      <th>375</th>\n",
       "      <td>0.000000</td>\n",
       "      <td>CENTRE</td>\n",
       "      <td>5106010001</td>\n",
       "      <td>POLYGON ((11480400.000 -1045300.000, 11480500....</td>\n",
       "    </tr>\n",
       "    <tr>\n",
       "      <th>375</th>\n",
       "      <td>0.000000</td>\n",
       "      <td>CENTRE</td>\n",
       "      <td>5106010001</td>\n",
       "      <td>POLYGON ((11480400.000 -1045300.000, 11480500....</td>\n",
       "    </tr>\n",
       "    <tr>\n",
       "      <th>375</th>\n",
       "      <td>0.000000</td>\n",
       "      <td>CENTRE</td>\n",
       "      <td>5106010001</td>\n",
       "      <td>POLYGON ((11480400.000 -1045300.000, 11480500....</td>\n",
       "    </tr>\n",
       "    <tr>\n",
       "      <th>...</th>\n",
       "      <td>...</td>\n",
       "      <td>...</td>\n",
       "      <td>...</td>\n",
       "      <td>...</td>\n",
       "    </tr>\n",
       "    <tr>\n",
       "      <th>672</th>\n",
       "      <td>72.318117</td>\n",
       "      <td>CENTRE</td>\n",
       "      <td>5108090010</td>\n",
       "      <td>POLYGON ((11495200.000 -1006600.000, 11495700....</td>\n",
       "    </tr>\n",
       "    <tr>\n",
       "      <th>672</th>\n",
       "      <td>0.000000</td>\n",
       "      <td>CENTRE</td>\n",
       "      <td>5108090010</td>\n",
       "      <td>POLYGON ((11495200.000 -1006600.000, 11495700....</td>\n",
       "    </tr>\n",
       "    <tr>\n",
       "      <th>672</th>\n",
       "      <td>0.000000</td>\n",
       "      <td>CENTRE</td>\n",
       "      <td>5108090010</td>\n",
       "      <td>POLYGON ((11495200.000 -1006600.000, 11495700....</td>\n",
       "    </tr>\n",
       "    <tr>\n",
       "      <th>672</th>\n",
       "      <td>0.000000</td>\n",
       "      <td>CENTRE</td>\n",
       "      <td>5108090010</td>\n",
       "      <td>POLYGON ((11495200.000 -1006600.000, 11495700....</td>\n",
       "    </tr>\n",
       "    <tr>\n",
       "      <th>672</th>\n",
       "      <td>0.000000</td>\n",
       "      <td>CENTRE</td>\n",
       "      <td>5108090010</td>\n",
       "      <td>POLYGON ((11495200.000 -1006600.000, 11495700....</td>\n",
       "    </tr>\n",
       "  </tbody>\n",
       "</table>\n",
       "<p>106070 rows × 4 columns</p>\n",
       "</div>"
      ],
      "text/plain": [
       "        j_pend classification      iddesa  \\\n",
       "375   0.000000          RURAL  5106010001   \n",
       "375   0.000000         CENTRE  5106010001   \n",
       "375   0.000000         CENTRE  5106010001   \n",
       "375   0.000000         CENTRE  5106010001   \n",
       "375   0.000000         CENTRE  5106010001   \n",
       "..         ...            ...         ...   \n",
       "672  72.318117         CENTRE  5108090010   \n",
       "672   0.000000         CENTRE  5108090010   \n",
       "672   0.000000         CENTRE  5108090010   \n",
       "672   0.000000         CENTRE  5108090010   \n",
       "672   0.000000         CENTRE  5108090010   \n",
       "\n",
       "                                              geometry  \n",
       "375  POLYGON ((11480400.000 -1045300.000, 11480500....  \n",
       "375  POLYGON ((11480400.000 -1045300.000, 11480500....  \n",
       "375  POLYGON ((11480400.000 -1045300.000, 11480500....  \n",
       "375  POLYGON ((11480400.000 -1045300.000, 11480500....  \n",
       "375  POLYGON ((11480400.000 -1045300.000, 11480500....  \n",
       "..                                                 ...  \n",
       "672  POLYGON ((11495200.000 -1006600.000, 11495700....  \n",
       "672  POLYGON ((11495200.000 -1006600.000, 11495700....  \n",
       "672  POLYGON ((11495200.000 -1006600.000, 11495700....  \n",
       "672  POLYGON ((11495200.000 -1006600.000, 11495700....  \n",
       "672  POLYGON ((11495200.000 -1006600.000, 11495700....  \n",
       "\n",
       "[106070 rows x 4 columns]"
      ]
     },
     "execution_count": 19,
     "metadata": {},
     "output_type": "execute_result"
    }
   ],
   "source": [
    "data_desa"
   ]
  },
  {
   "cell_type": "code",
   "execution_count": 20,
   "id": "1123195e",
   "metadata": {},
   "outputs": [],
   "source": [
    "tab_data=pd.pivot_table(data_desa,index='iddesa',columns='classification',\n",
    "                        values='j_pend',aggfunc='sum').fillna(0).reset_index()"
   ]
  },
  {
   "cell_type": "code",
   "execution_count": 21,
   "id": "5223c51e",
   "metadata": {},
   "outputs": [],
   "source": [
    "def define_LAU(y):\n",
    "    total_pop=y.CENTRE+y.CLUSTER+y.RURAL\n",
    "    if total_pop==0:\n",
    "        return 'RURALS'\n",
    "    elif (y.CENTRE/total_pop)>=0.5:\n",
    "        return 'CITIES'\n",
    "    elif (((y.CENTRE/total_pop)<0.5)&((y.RURAL/total_pop)<0.5)):\n",
    "        return 'TOWNS'\n",
    "    else:\n",
    "        return 'RURALS'"
   ]
  },
  {
   "cell_type": "code",
   "execution_count": 22,
   "id": "6ee1331b",
   "metadata": {},
   "outputs": [],
   "source": [
    "tab_data['LAU']=tab_data.apply(lambda y:define_LAU(y),axis=1)"
   ]
  },
  {
   "cell_type": "code",
   "execution_count": 24,
   "id": "fb367aa9",
   "metadata": {},
   "outputs": [],
   "source": [
    "peta_desa=gpd.read_file(r\"data/input/Master_Data/DESA_20201_BYINDO.gpkg\").query('kdprov in @kdprov')"
   ]
  },
  {
   "cell_type": "code",
   "execution_count": 25,
   "id": "1c2dd615",
   "metadata": {},
   "outputs": [],
   "source": [
    "peta_desa_LAU=peta_desa.merge(tab_data[['iddesa','LAU']],how='left').fillna('RURALS')"
   ]
  },
  {
   "cell_type": "code",
   "execution_count": 27,
   "id": "f68646e7",
   "metadata": {},
   "outputs": [],
   "source": [
    "for i in kdprov:\n",
    "    peta_desa_LAU.query(\"kdprov==@i\").to_file(\n",
    "        'data/output/3_small_spatial_unit_degurba/small_spatial_unit_'+i+'.gpkg',driver='GPKG')"
   ]
  },
  {
   "cell_type": "code",
   "execution_count": 28,
   "id": "4fb9900f",
   "metadata": {},
   "outputs": [],
   "source": [
    "from dbfread import DBF\n",
    "mfd_=pd.DataFrame(iter(DBF('data/input/Master_Data/mfd_2020_1.dbf')))"
   ]
  },
  {
   "cell_type": "code",
   "execution_count": 29,
   "id": "7ab29da0",
   "metadata": {},
   "outputs": [],
   "source": [
    "mfd_['iddesa']=mfd_.PROP+mfd_.KAB+mfd_.KEC+mfd_.DESA"
   ]
  },
  {
   "cell_type": "code",
   "execution_count": 31,
   "id": "b160e7b2",
   "metadata": {},
   "outputs": [],
   "source": [
    "for i in kdprov:\n",
    "    peta_desa_LAU.merge(mfd_[['iddesa','DRH']]).query(\"kdprov==@i\").to_file(\n",
    "        'data/output/3_small_spatial_unit_degurba/small_spatial_unit_'+i+'.gpkg',driver='GPKG')"
   ]
  },
  {
   "cell_type": "code",
   "execution_count": 33,
   "id": "718423fc",
   "metadata": {},
   "outputs": [
    {
     "data": {
      "text/html": [
       "<div>\n",
       "<style scoped>\n",
       "    .dataframe tbody tr th:only-of-type {\n",
       "        vertical-align: middle;\n",
       "    }\n",
       "\n",
       "    .dataframe tbody tr th {\n",
       "        vertical-align: top;\n",
       "    }\n",
       "\n",
       "    .dataframe thead th {\n",
       "        text-align: right;\n",
       "    }\n",
       "</style>\n",
       "<table border=\"1\" class=\"dataframe\">\n",
       "  <thead>\n",
       "    <tr style=\"text-align: right;\">\n",
       "      <th>LAU</th>\n",
       "      <th>CITIES</th>\n",
       "      <th>RURALS</th>\n",
       "      <th>TOWNS</th>\n",
       "    </tr>\n",
       "    <tr>\n",
       "      <th>DRH</th>\n",
       "      <th></th>\n",
       "      <th></th>\n",
       "      <th></th>\n",
       "    </tr>\n",
       "  </thead>\n",
       "  <tbody>\n",
       "    <tr>\n",
       "      <th>1</th>\n",
       "      <td>0.0</td>\n",
       "      <td>260.0</td>\n",
       "      <td>9.0</td>\n",
       "    </tr>\n",
       "    <tr>\n",
       "      <th>2</th>\n",
       "      <td>2.0</td>\n",
       "      <td>393.0</td>\n",
       "      <td>52.0</td>\n",
       "    </tr>\n",
       "  </tbody>\n",
       "</table>\n",
       "</div>"
      ],
      "text/plain": [
       "LAU  CITIES  RURALS  TOWNS\n",
       "DRH                       \n",
       "1       0.0   260.0    9.0\n",
       "2       2.0   393.0   52.0"
      ]
     },
     "execution_count": 33,
     "metadata": {},
     "output_type": "execute_result"
    }
   ],
   "source": [
    "peta_desa_LAU.merge(mfd_[['iddesa','DRH']]).pivot_table(index='DRH',columns='LAU',values='iddesa',aggfunc='count').fillna(0)"
   ]
  }
 ],
 "metadata": {
  "kernelspec": {
   "display_name": "Python 3 (ipykernel)",
   "language": "python",
   "name": "python3"
  },
  "language_info": {
   "codemirror_mode": {
    "name": "ipython",
    "version": 3
   },
   "file_extension": ".py",
   "mimetype": "text/x-python",
   "name": "python",
   "nbconvert_exporter": "python",
   "pygments_lexer": "ipython3",
   "version": "3.8.12"
  }
 },
 "nbformat": 4,
 "nbformat_minor": 5
}
