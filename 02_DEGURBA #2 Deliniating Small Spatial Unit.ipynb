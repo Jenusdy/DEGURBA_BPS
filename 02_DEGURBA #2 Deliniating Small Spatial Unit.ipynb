{
 "cells": [
  {
   "cell_type": "code",
   "execution_count": 1,
   "id": "7a991e5d",
   "metadata": {},
   "outputs": [
    {
     "name": "stderr",
     "output_type": "stream",
     "text": [
      "/home/jupyter-peta_admin/.local/lib/python3.8/site-packages/geopandas/_compat.py:112: UserWarning: The Shapely GEOS version (3.10.2-CAPI-1.16.0) is incompatible with the GEOS version PyGEOS was compiled with (3.11.0-CAPI-1.17.0). Conversions between both will be slow.\n",
      "  warnings.warn(\n"
     ]
    }
   ],
   "source": [
    "import geopandas as gpd\n",
    "import pandas as pd\n",
    "from glob import glob"
   ]
  },
  {
   "cell_type": "code",
   "execution_count": 2,
   "id": "baa570d3",
   "metadata": {},
   "outputs": [],
   "source": [
    "kdprov=['51']\n",
    "nmfiledegurba=\"degurba_Bali_00.gpkg\""
   ]
  },
  {
   "cell_type": "code",
   "execution_count": 3,
   "id": "576833d4",
   "metadata": {},
   "outputs": [],
   "source": [
    "data_degurba_grod=gpd.read_file('data/output/2_grid_degurba/'+nmfiledegurba)"
   ]
  },
  {
   "cell_type": "code",
   "execution_count": 4,
   "id": "caceb6e5",
   "metadata": {},
   "outputs": [
    {
     "name": "stderr",
     "output_type": "stream",
     "text": [
      "/tmp/ipykernel_4360/399264284.py:8: FutureWarning: The frame.append method is deprecated and will be removed from pandas in a future version. Use pandas.concat instead.\n",
      "  data_pop=y_temp.append(data_pop)\n",
      "/tmp/ipykernel_4360/399264284.py:8: FutureWarning: The frame.append method is deprecated and will be removed from pandas in a future version. Use pandas.concat instead.\n",
      "  data_pop=y_temp.append(data_pop)\n",
      "/tmp/ipykernel_4360/399264284.py:8: FutureWarning: The frame.append method is deprecated and will be removed from pandas in a future version. Use pandas.concat instead.\n",
      "  data_pop=y_temp.append(data_pop)\n",
      "/tmp/ipykernel_4360/399264284.py:8: FutureWarning: The frame.append method is deprecated and will be removed from pandas in a future version. Use pandas.concat instead.\n",
      "  data_pop=y_temp.append(data_pop)\n",
      "/tmp/ipykernel_4360/399264284.py:8: FutureWarning: The frame.append method is deprecated and will be removed from pandas in a future version. Use pandas.concat instead.\n",
      "  data_pop=y_temp.append(data_pop)\n",
      "/tmp/ipykernel_4360/399264284.py:8: FutureWarning: The frame.append method is deprecated and will be removed from pandas in a future version. Use pandas.concat instead.\n",
      "  data_pop=y_temp.append(data_pop)\n",
      "/tmp/ipykernel_4360/399264284.py:8: FutureWarning: The frame.append method is deprecated and will be removed from pandas in a future version. Use pandas.concat instead.\n",
      "  data_pop=y_temp.append(data_pop)\n",
      "/tmp/ipykernel_4360/399264284.py:8: FutureWarning: The frame.append method is deprecated and will be removed from pandas in a future version. Use pandas.concat instead.\n",
      "  data_pop=y_temp.append(data_pop)\n",
      "/tmp/ipykernel_4360/399264284.py:8: FutureWarning: The frame.append method is deprecated and will be removed from pandas in a future version. Use pandas.concat instead.\n",
      "  data_pop=y_temp.append(data_pop)\n"
     ]
    }
   ],
   "source": [
    "data_pop=gpd.GeoDataFrame()\n",
    "for i in kdprov:\n",
    "    gl_pop=glob(\"data/output/1_population_density/grid_pop_\"+i+\"*_100m.gpkg\")\n",
    "    for j in gl_pop:\n",
    "        y_temp=gpd.read_file(j)\n",
    "        y_temp['geometry']=y_temp.centroid\n",
    "        y_temp=y_temp[['j_pend','geometry','p_area']]\n",
    "        data_pop=y_temp.append(data_pop)"
   ]
  },
  {
   "cell_type": "code",
   "execution_count": 5,
   "id": "063f5bf1",
   "metadata": {},
   "outputs": [
    {
     "name": "stderr",
     "output_type": "stream",
     "text": [
      "/tmp/ipykernel_4360/2837293180.py:4: FutureWarning: The frame.append method is deprecated and will be removed from pandas in a future version. Use pandas.concat instead.\n",
      "  data_desa_raster=temp.append(data_desa_raster)\n"
     ]
    }
   ],
   "source": [
    "data_desa_raster=gpd.GeoDataFrame()\n",
    "for i in kdprov:\n",
    "    temp=gpd.read_file('data/output/0_raster_data_desa/'+'desa_pend_rasterize_'+i+'.gpkg')\n",
    "    data_desa_raster=temp.append(data_desa_raster)"
   ]
  },
  {
   "cell_type": "code",
   "execution_count": 6,
   "id": "78e2b309",
   "metadata": {},
   "outputs": [],
   "source": [
    "pop_w_grid=data_pop.sjoin_nearest(data_degurba_grod)[['j_pend','classification','geometry']]"
   ]
  },
  {
   "cell_type": "code",
   "execution_count": 7,
   "id": "82172203",
   "metadata": {},
   "outputs": [],
   "source": [
    "data_desa=data_desa_raster.sjoin(pop_w_grid)[['j_pend','classification','iddesa','geometry']]"
   ]
  },
  {
   "cell_type": "code",
   "execution_count": 8,
   "id": "8e9a4ad6",
   "metadata": {},
   "outputs": [
    {
     "data": {
      "text/html": [
       "<div>\n",
       "<style scoped>\n",
       "    .dataframe tbody tr th:only-of-type {\n",
       "        vertical-align: middle;\n",
       "    }\n",
       "\n",
       "    .dataframe tbody tr th {\n",
       "        vertical-align: top;\n",
       "    }\n",
       "\n",
       "    .dataframe thead th {\n",
       "        text-align: right;\n",
       "    }\n",
       "</style>\n",
       "<table border=\"1\" class=\"dataframe\">\n",
       "  <thead>\n",
       "    <tr style=\"text-align: right;\">\n",
       "      <th></th>\n",
       "      <th>j_pend</th>\n",
       "      <th>classification</th>\n",
       "      <th>iddesa</th>\n",
       "      <th>geometry</th>\n",
       "    </tr>\n",
       "  </thead>\n",
       "  <tbody>\n",
       "    <tr>\n",
       "      <th>0</th>\n",
       "      <td>0.0</td>\n",
       "      <td>RURAL</td>\n",
       "      <td>5101010001</td>\n",
       "      <td>MULTIPOLYGON (((11397700.000 -1007700.000, 113...</td>\n",
       "    </tr>\n",
       "    <tr>\n",
       "      <th>0</th>\n",
       "      <td>0.0</td>\n",
       "      <td>RURAL</td>\n",
       "      <td>5101010001</td>\n",
       "      <td>MULTIPOLYGON (((11397700.000 -1007700.000, 113...</td>\n",
       "    </tr>\n",
       "    <tr>\n",
       "      <th>0</th>\n",
       "      <td>0.0</td>\n",
       "      <td>RURAL</td>\n",
       "      <td>5101010001</td>\n",
       "      <td>MULTIPOLYGON (((11397700.000 -1007700.000, 113...</td>\n",
       "    </tr>\n",
       "    <tr>\n",
       "      <th>0</th>\n",
       "      <td>0.0</td>\n",
       "      <td>RURAL</td>\n",
       "      <td>5101010001</td>\n",
       "      <td>MULTIPOLYGON (((11397700.000 -1007700.000, 113...</td>\n",
       "    </tr>\n",
       "    <tr>\n",
       "      <th>0</th>\n",
       "      <td>0.0</td>\n",
       "      <td>RURAL</td>\n",
       "      <td>5101010001</td>\n",
       "      <td>MULTIPOLYGON (((11397700.000 -1007700.000, 113...</td>\n",
       "    </tr>\n",
       "    <tr>\n",
       "      <th>...</th>\n",
       "      <td>...</td>\n",
       "      <td>...</td>\n",
       "      <td>...</td>\n",
       "      <td>...</td>\n",
       "    </tr>\n",
       "    <tr>\n",
       "      <th>715</th>\n",
       "      <td>0.0</td>\n",
       "      <td>CENTRE</td>\n",
       "      <td>5171031011</td>\n",
       "      <td>POLYGON ((11468200.000 -1060800.000, 11468300....</td>\n",
       "    </tr>\n",
       "    <tr>\n",
       "      <th>715</th>\n",
       "      <td>0.0</td>\n",
       "      <td>CENTRE</td>\n",
       "      <td>5171031011</td>\n",
       "      <td>POLYGON ((11468200.000 -1060800.000, 11468300....</td>\n",
       "    </tr>\n",
       "    <tr>\n",
       "      <th>715</th>\n",
       "      <td>0.0</td>\n",
       "      <td>CENTRE</td>\n",
       "      <td>5171031011</td>\n",
       "      <td>POLYGON ((11468200.000 -1060800.000, 11468300....</td>\n",
       "    </tr>\n",
       "    <tr>\n",
       "      <th>715</th>\n",
       "      <td>0.0</td>\n",
       "      <td>CENTRE</td>\n",
       "      <td>5171031011</td>\n",
       "      <td>POLYGON ((11468200.000 -1060800.000, 11468300....</td>\n",
       "    </tr>\n",
       "    <tr>\n",
       "      <th>715</th>\n",
       "      <td>0.0</td>\n",
       "      <td>CENTRE</td>\n",
       "      <td>5171031011</td>\n",
       "      <td>POLYGON ((11468200.000 -1060800.000, 11468300....</td>\n",
       "    </tr>\n",
       "  </tbody>\n",
       "</table>\n",
       "<p>562319 rows × 4 columns</p>\n",
       "</div>"
      ],
      "text/plain": [
       "     j_pend classification      iddesa  \\\n",
       "0       0.0          RURAL  5101010001   \n",
       "0       0.0          RURAL  5101010001   \n",
       "0       0.0          RURAL  5101010001   \n",
       "0       0.0          RURAL  5101010001   \n",
       "0       0.0          RURAL  5101010001   \n",
       "..      ...            ...         ...   \n",
       "715     0.0         CENTRE  5171031011   \n",
       "715     0.0         CENTRE  5171031011   \n",
       "715     0.0         CENTRE  5171031011   \n",
       "715     0.0         CENTRE  5171031011   \n",
       "715     0.0         CENTRE  5171031011   \n",
       "\n",
       "                                              geometry  \n",
       "0    MULTIPOLYGON (((11397700.000 -1007700.000, 113...  \n",
       "0    MULTIPOLYGON (((11397700.000 -1007700.000, 113...  \n",
       "0    MULTIPOLYGON (((11397700.000 -1007700.000, 113...  \n",
       "0    MULTIPOLYGON (((11397700.000 -1007700.000, 113...  \n",
       "0    MULTIPOLYGON (((11397700.000 -1007700.000, 113...  \n",
       "..                                                 ...  \n",
       "715  POLYGON ((11468200.000 -1060800.000, 11468300....  \n",
       "715  POLYGON ((11468200.000 -1060800.000, 11468300....  \n",
       "715  POLYGON ((11468200.000 -1060800.000, 11468300....  \n",
       "715  POLYGON ((11468200.000 -1060800.000, 11468300....  \n",
       "715  POLYGON ((11468200.000 -1060800.000, 11468300....  \n",
       "\n",
       "[562319 rows x 4 columns]"
      ]
     },
     "execution_count": 8,
     "metadata": {},
     "output_type": "execute_result"
    }
   ],
   "source": [
    "data_desa"
   ]
  },
  {
   "cell_type": "code",
   "execution_count": 9,
   "id": "1123195e",
   "metadata": {},
   "outputs": [],
   "source": [
    "tab_data=pd.pivot_table(data_desa,index='iddesa',columns='classification',\n",
    "                        values='j_pend',aggfunc='sum').fillna(0).reset_index()"
   ]
  },
  {
   "cell_type": "code",
   "execution_count": 10,
   "id": "ef2ea9d3",
   "metadata": {},
   "outputs": [
    {
     "data": {
      "text/html": [
       "<div>\n",
       "<style scoped>\n",
       "    .dataframe tbody tr th:only-of-type {\n",
       "        vertical-align: middle;\n",
       "    }\n",
       "\n",
       "    .dataframe tbody tr th {\n",
       "        vertical-align: top;\n",
       "    }\n",
       "\n",
       "    .dataframe thead th {\n",
       "        text-align: right;\n",
       "    }\n",
       "</style>\n",
       "<table border=\"1\" class=\"dataframe\">\n",
       "  <thead>\n",
       "    <tr style=\"text-align: right;\">\n",
       "      <th>classification</th>\n",
       "      <th>iddesa</th>\n",
       "      <th>CENTRE</th>\n",
       "      <th>CLUSTER</th>\n",
       "      <th>RURAL</th>\n",
       "    </tr>\n",
       "  </thead>\n",
       "  <tbody>\n",
       "    <tr>\n",
       "      <th>0</th>\n",
       "      <td>5101010001</td>\n",
       "      <td>0.0</td>\n",
       "      <td>12757.641694</td>\n",
       "      <td>308.358306</td>\n",
       "    </tr>\n",
       "    <tr>\n",
       "      <th>1</th>\n",
       "      <td>5101010002</td>\n",
       "      <td>0.0</td>\n",
       "      <td>2093.552622</td>\n",
       "      <td>3365.447378</td>\n",
       "    </tr>\n",
       "    <tr>\n",
       "      <th>2</th>\n",
       "      <td>5101010003</td>\n",
       "      <td>0.0</td>\n",
       "      <td>3701.690436</td>\n",
       "      <td>1403.309564</td>\n",
       "    </tr>\n",
       "    <tr>\n",
       "      <th>3</th>\n",
       "      <td>5101010004</td>\n",
       "      <td>0.0</td>\n",
       "      <td>6245.129550</td>\n",
       "      <td>1271.870450</td>\n",
       "    </tr>\n",
       "    <tr>\n",
       "      <th>4</th>\n",
       "      <td>5101010005</td>\n",
       "      <td>0.0</td>\n",
       "      <td>7286.623370</td>\n",
       "      <td>1160.376630</td>\n",
       "    </tr>\n",
       "    <tr>\n",
       "      <th>...</th>\n",
       "      <td>...</td>\n",
       "      <td>...</td>\n",
       "      <td>...</td>\n",
       "      <td>...</td>\n",
       "    </tr>\n",
       "    <tr>\n",
       "      <th>711</th>\n",
       "      <td>5171031007</td>\n",
       "      <td>11690.0</td>\n",
       "      <td>0.000000</td>\n",
       "      <td>0.000000</td>\n",
       "    </tr>\n",
       "    <tr>\n",
       "      <th>712</th>\n",
       "      <td>5171031008</td>\n",
       "      <td>25498.0</td>\n",
       "      <td>0.000000</td>\n",
       "      <td>0.000000</td>\n",
       "    </tr>\n",
       "    <tr>\n",
       "      <th>713</th>\n",
       "      <td>5171031009</td>\n",
       "      <td>17754.0</td>\n",
       "      <td>0.000000</td>\n",
       "      <td>0.000000</td>\n",
       "    </tr>\n",
       "    <tr>\n",
       "      <th>714</th>\n",
       "      <td>5171031010</td>\n",
       "      <td>37716.0</td>\n",
       "      <td>0.000000</td>\n",
       "      <td>0.000000</td>\n",
       "    </tr>\n",
       "    <tr>\n",
       "      <th>715</th>\n",
       "      <td>5171031011</td>\n",
       "      <td>0.0</td>\n",
       "      <td>0.000000</td>\n",
       "      <td>0.000000</td>\n",
       "    </tr>\n",
       "  </tbody>\n",
       "</table>\n",
       "<p>716 rows × 4 columns</p>\n",
       "</div>"
      ],
      "text/plain": [
       "classification      iddesa   CENTRE       CLUSTER        RURAL\n",
       "0               5101010001      0.0  12757.641694   308.358306\n",
       "1               5101010002      0.0   2093.552622  3365.447378\n",
       "2               5101010003      0.0   3701.690436  1403.309564\n",
       "3               5101010004      0.0   6245.129550  1271.870450\n",
       "4               5101010005      0.0   7286.623370  1160.376630\n",
       "..                     ...      ...           ...          ...\n",
       "711             5171031007  11690.0      0.000000     0.000000\n",
       "712             5171031008  25498.0      0.000000     0.000000\n",
       "713             5171031009  17754.0      0.000000     0.000000\n",
       "714             5171031010  37716.0      0.000000     0.000000\n",
       "715             5171031011      0.0      0.000000     0.000000\n",
       "\n",
       "[716 rows x 4 columns]"
      ]
     },
     "execution_count": 10,
     "metadata": {},
     "output_type": "execute_result"
    }
   ],
   "source": [
    "l_col=['CENTRE','CLUSTER','RURAL']\n",
    "for i in l_col:\n",
    "    if i not in tab_data.columns:\n",
    "        tab_data[i]=0\n",
    "tab_data"
   ]
  },
  {
   "cell_type": "code",
   "execution_count": 11,
   "id": "5223c51e",
   "metadata": {},
   "outputs": [],
   "source": [
    "def define_LAU(y):\n",
    "    ['CENTRE','CLUSTER','RURAL']\n",
    "    total_pop=y.CENTRE+y.CLUSTER+y.RURAL\n",
    "    if total_pop==0:\n",
    "        return 'RURALS'\n",
    "    elif (y.CENTRE/total_pop)>=0.5:\n",
    "        return 'CITIES'\n",
    "    elif (((y.CENTRE/total_pop)<0.5)&((y.RURAL/total_pop)<0.5)):\n",
    "        return 'TOWNS'\n",
    "    else:\n",
    "        return 'RURALS'"
   ]
  },
  {
   "cell_type": "code",
   "execution_count": 12,
   "id": "6ee1331b",
   "metadata": {},
   "outputs": [],
   "source": [
    "tab_data['LAU']=tab_data.apply(lambda y:define_LAU(y),axis=1)"
   ]
  },
  {
   "cell_type": "code",
   "execution_count": 13,
   "id": "fb367aa9",
   "metadata": {},
   "outputs": [],
   "source": [
    "peta_desa=gpd.read_file(r\"data/input/Master_Data/DESA_20201_BYINDO.gpkg\").query('kdprov in @kdprov')"
   ]
  },
  {
   "cell_type": "code",
   "execution_count": 14,
   "id": "1c2dd615",
   "metadata": {},
   "outputs": [],
   "source": [
    "peta_desa_LAU=peta_desa.merge(tab_data[['iddesa','LAU']],how='left').fillna('RURALS')"
   ]
  },
  {
   "cell_type": "code",
   "execution_count": 15,
   "id": "f68646e7",
   "metadata": {},
   "outputs": [],
   "source": [
    "for i in kdprov:\n",
    "    peta_desa_LAU.query(\"kdprov==@i\").to_file(\n",
    "        'data/output/3_small_spatial_unit_degurba/small_spatial_unit_'+i+'.gpkg',driver='GPKG')"
   ]
  },
  {
   "cell_type": "code",
   "execution_count": 16,
   "id": "4fb9900f",
   "metadata": {},
   "outputs": [],
   "source": [
    "from dbfread import DBF\n",
    "mfd_=pd.DataFrame(iter(DBF('data/input/Master_Data/mfd_2020_1.dbf')))"
   ]
  },
  {
   "cell_type": "code",
   "execution_count": 17,
   "id": "7ab29da0",
   "metadata": {},
   "outputs": [],
   "source": [
    "mfd_['iddesa']=mfd_.PROP+mfd_.KAB+mfd_.KEC+mfd_.DESA"
   ]
  },
  {
   "cell_type": "code",
   "execution_count": 18,
   "id": "b160e7b2",
   "metadata": {},
   "outputs": [],
   "source": [
    "for i in kdprov:\n",
    "    peta_desa_LAU.merge(mfd_[['iddesa','DRH']]).query(\"kdprov==@i\").to_file(\n",
    "        'data/output/3_small_spatial_unit_degurba/small_spatial_unit_'+i+'.gpkg',driver='GPKG')"
   ]
  },
  {
   "cell_type": "code",
   "execution_count": 19,
   "id": "718423fc",
   "metadata": {},
   "outputs": [
    {
     "data": {
      "text/html": [
       "<div>\n",
       "<style scoped>\n",
       "    .dataframe tbody tr th:only-of-type {\n",
       "        vertical-align: middle;\n",
       "    }\n",
       "\n",
       "    .dataframe tbody tr th {\n",
       "        vertical-align: top;\n",
       "    }\n",
       "\n",
       "    .dataframe thead th {\n",
       "        text-align: right;\n",
       "    }\n",
       "</style>\n",
       "<table border=\"1\" class=\"dataframe\">\n",
       "  <thead>\n",
       "    <tr style=\"text-align: right;\">\n",
       "      <th>LAU</th>\n",
       "      <th>CITIES</th>\n",
       "      <th>RURALS</th>\n",
       "      <th>TOWNS</th>\n",
       "    </tr>\n",
       "    <tr>\n",
       "      <th>DRH</th>\n",
       "      <th></th>\n",
       "      <th></th>\n",
       "      <th></th>\n",
       "    </tr>\n",
       "  </thead>\n",
       "  <tbody>\n",
       "    <tr>\n",
       "      <th>1</th>\n",
       "      <td>160</td>\n",
       "      <td>13</td>\n",
       "      <td>96</td>\n",
       "    </tr>\n",
       "    <tr>\n",
       "      <th>2</th>\n",
       "      <td>37</td>\n",
       "      <td>88</td>\n",
       "      <td>322</td>\n",
       "    </tr>\n",
       "  </tbody>\n",
       "</table>\n",
       "</div>"
      ],
      "text/plain": [
       "LAU  CITIES  RURALS  TOWNS\n",
       "DRH                       \n",
       "1       160      13     96\n",
       "2        37      88    322"
      ]
     },
     "execution_count": 19,
     "metadata": {},
     "output_type": "execute_result"
    }
   ],
   "source": [
    "peta_desa_LAU.merge(mfd_[['iddesa','DRH']]).pivot_table(index='DRH',columns='LAU',values='iddesa',aggfunc='count').fillna(0)"
   ]
  }
 ],
 "metadata": {
  "kernelspec": {
   "display_name": "Python 3 (ipykernel)",
   "language": "python",
   "name": "python3"
  },
  "language_info": {
   "codemirror_mode": {
    "name": "ipython",
    "version": 3
   },
   "file_extension": ".py",
   "mimetype": "text/x-python",
   "name": "python",
   "nbconvert_exporter": "python",
   "pygments_lexer": "ipython3",
   "version": "3.8.12"
  }
 },
 "nbformat": 4,
 "nbformat_minor": 5
}
