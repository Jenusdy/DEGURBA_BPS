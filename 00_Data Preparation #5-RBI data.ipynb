{
 "cells": [
  {
   "cell_type": "code",
   "execution_count": 1,
   "id": "0b0ee8b9",
   "metadata": {},
   "outputs": [
    {
     "name": "stderr",
     "output_type": "stream",
     "text": [
      "/home/jupyter-peta_admin/.local/lib/python3.8/site-packages/geopandas/_compat.py:112: UserWarning: The Shapely GEOS version (3.10.2-CAPI-1.16.0) is incompatible with the GEOS version PyGEOS was compiled with (3.10.1-CAPI-1.16.0). Conversions between both will be slow.\n",
      "  warnings.warn(\n"
     ]
    }
   ],
   "source": [
    "import geopandas as gpd"
   ]
  },
  {
   "cell_type": "code",
   "execution_count": 2,
   "id": "53b1eb11",
   "metadata": {},
   "outputs": [],
   "source": [
    "data_rbi=gpd.read_file('data/input/RBI/jalan_RBI.gpkg')"
   ]
  },
  {
   "cell_type": "code",
   "execution_count": 3,
   "id": "b1d91e6a",
   "metadata": {},
   "outputs": [],
   "source": [
    "data_prov=gpd.read_file('data/input/Master_Data/Prov_20201_ByIndo(1).shp')"
   ]
  },
  {
   "cell_type": "code",
   "execution_count": null,
   "id": "854db1d1",
   "metadata": {},
   "outputs": [
    {
     "name": "stderr",
     "output_type": "stream",
     "text": [
      "/opt/tljh/user/lib/python3.8/site-packages/IPython/core/interactiveshell.py:3398: FutureWarning: The `op` parameter is deprecated and will be removed in a future release. Please use the `predicate` parameter instead.\n",
      "  exec(code_obj, self.user_global_ns, self.user_ns)\n"
     ]
    }
   ],
   "source": [
    "data_rbi=data_rbi.sjoin(data_prov[['kdprov','geometry']],how='inner',op='intersects')"
   ]
  },
  {
   "cell_type": "code",
   "execution_count": null,
   "id": "0dd934cc",
   "metadata": {},
   "outputs": [],
   "source": [
    "for i in data_rbi.kdprov:\n",
    "    data_rbi[['kdprov','geometry']].query('kdprov==@i').to_file('data/input/RBI/'+i+'_allseasonedroad_rbi.gpkg',driver='GPKG')"
   ]
  }
 ],
 "metadata": {
  "kernelspec": {
   "display_name": "Python 3 (ipykernel)",
   "language": "python",
   "name": "python3"
  },
  "language_info": {
   "codemirror_mode": {
    "name": "ipython",
    "version": 3
   },
   "file_extension": ".py",
   "mimetype": "text/x-python",
   "name": "python",
   "nbconvert_exporter": "python",
   "pygments_lexer": "ipython3",
   "version": "3.8.12"
  }
 },
 "nbformat": 4,
 "nbformat_minor": 5
}
