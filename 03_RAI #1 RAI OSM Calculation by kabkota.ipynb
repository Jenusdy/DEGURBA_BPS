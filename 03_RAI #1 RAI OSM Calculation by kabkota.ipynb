{
 "cells": [
  {
   "cell_type": "code",
   "execution_count": 1,
   "id": "c5ee8efd",
   "metadata": {},
   "outputs": [
    {
     "name": "stderr",
     "output_type": "stream",
     "text": [
      "/home/jupyter-peta_admin/.local/lib/python3.8/site-packages/geopandas/_compat.py:112: UserWarning: The Shapely GEOS version (3.10.2-CAPI-1.16.0) is incompatible with the GEOS version PyGEOS was compiled with (3.11.0-CAPI-1.17.0). Conversions between both will be slow.\n",
      "  warnings.warn(\n"
     ]
    }
   ],
   "source": [
    "import geopandas as gpd\n",
    "import pandas as pd\n",
    "import warnings\n",
    "from tqdm.contrib.concurrent import process_map\n",
    "warnings.filterwarnings('ignore')\n",
    "from multiprocessing import Process, Manager"
   ]
  },
  {
   "cell_type": "code",
   "execution_count": 2,
   "id": "a402ce40",
   "metadata": {},
   "outputs": [],
   "source": [
    "kdprov='51'"
   ]
  },
  {
   "cell_type": "code",
   "execution_count": 3,
   "id": "d9a5fb25",
   "metadata": {},
   "outputs": [],
   "source": [
    "data_rai=gpd.read_file('data/input/OSM/'+kdprov+'_allseasonedroad_OSM.gpkg').to_crs('ESRI:54034').dissolve()"
   ]
  },
  {
   "cell_type": "code",
   "execution_count": 4,
   "id": "cc8e698c",
   "metadata": {},
   "outputs": [],
   "source": [
    "nmfiledegurba=\"degurba_Bali_00.gpkg\"\n",
    "gf=gpd.read_file(\"data/output/2_grid_degurba/\"+nmfiledegurba).to_crs('ESRI:54034')\n",
    "gf['RAI']=0"
   ]
  },
  {
   "cell_type": "code",
   "execution_count": null,
   "id": "26b39fb0",
   "metadata": {},
   "outputs": [],
   "source": [
    "data_desa=gpd.read_file('data/input/Master_Data/DESA_20201_BYINDO.gpkg').to_crs('ESRI:54034').query('kdprov==@kdprov')\n",
    "gf=gf.sjoin(data_desa[['geometry']])[gf.columns]"
   ]
  },
  {
   "cell_type": "code",
   "execution_count": null,
   "id": "0f3c3fda",
   "metadata": {},
   "outputs": [],
   "source": [
    "def data_masking_degurba(i):\n",
    "    global degurba_desa,data_highway,gf,affected_RAI\n",
    "    degurba_desa=gpd.sjoin(gf,data_desa.query('iddesa==@i'))\n",
    "    data_highway_j=data_rai.overlay(degurba_desa,how='intersection')[['geometry']]\n",
    "    data_highway_j['reg']=1\n",
    "    data_highway_j=data_highway_j.dissolve(by='reg')\n",
    "    data_highway_j.geometry=data_highway_j.buffer(2000)\n",
    "    nm_rai=gf.sjoin(data_highway_j)['Name'].tolist()\n",
    "    affected_RAI.extend(nm_rai)\n",
    "    \n",
    "    #print(affected_RAI)"
   ]
  },
  {
   "cell_type": "code",
   "execution_count": null,
   "id": "0dad0248",
   "metadata": {},
   "outputs": [],
   "source": [
    "for j in data_desa.idkab.unique():\n",
    "    print('Running for ',j)\n",
    "    data_desa_kab=data_desa.query('idkab==@j')\n",
    "    manager=Manager()\n",
    "    affected_RAI=manager.list()\n",
    "    process_map(data_masking_degurba,data_desa_kab.iddesa.unique())\n",
    "    gf[gf.Name.isin(list(affected_RAI))].to_file('data/output/4_RAI/rai_osm_degurba_'+j+'.gpkg',driver='GPKG')"
   ]
  },
  {
   "cell_type": "code",
   "execution_count": null,
   "id": "3585997d",
   "metadata": {},
   "outputs": [],
   "source": [
    "from glob import glob\n",
    "degurba_rai=glob('data/output/4_RAI/rai_osm_degurba_'+kdprov+'*.gpkg')"
   ]
  },
  {
   "cell_type": "code",
   "execution_count": null,
   "id": "b8671af3",
   "metadata": {},
   "outputs": [],
   "source": [
    "data_=gpd.GeoDataFrame()\n",
    "l_name=[]\n",
    "for i in degurba_rai:\n",
    "    temp=gpd.read_file(i)['Name']\n",
    "    l_name.extend(list(temp))\n",
    "l_name=list(set(l_name))"
   ]
  },
  {
   "cell_type": "code",
   "execution_count": null,
   "id": "f2c78b32",
   "metadata": {},
   "outputs": [],
   "source": [
    "gf['accessed']=gf.Name.apply(lambda y: 1 if y in l_name else 0)"
   ]
  },
  {
   "cell_type": "code",
   "execution_count": null,
   "id": "9933bb87",
   "metadata": {},
   "outputs": [],
   "source": [
    "gf.to_file('data/output/4_RAI/fin_rai_osm_degurba_'+kdprov+'.gpkg')"
   ]
  },
  {
   "cell_type": "code",
   "execution_count": null,
   "id": "dd515b3d",
   "metadata": {},
   "outputs": [],
   "source": [
    "data_p=gf.pivot_table(index='classification',columns='accessed',values='pop',aggfunc='sum').fillna(0)"
   ]
  },
  {
   "cell_type": "code",
   "execution_count": null,
   "id": "de40c574",
   "metadata": {},
   "outputs": [],
   "source": [
    "data_p['percent']=data_p[1]*100/(data_p[0]+data_p[1])"
   ]
  },
  {
   "cell_type": "code",
   "execution_count": null,
   "id": "d9594f0c",
   "metadata": {},
   "outputs": [],
   "source": [
    "data_p"
   ]
  }
 ],
 "metadata": {
  "kernelspec": {
   "display_name": "Python 3 (ipykernel)",
   "language": "python",
   "name": "python3"
  },
  "language_info": {
   "codemirror_mode": {
    "name": "ipython",
    "version": 3
   },
   "file_extension": ".py",
   "mimetype": "text/x-python",
   "name": "python",
   "nbconvert_exporter": "python",
   "pygments_lexer": "ipython3",
   "version": "3.8.12"
  }
 },
 "nbformat": 4,
 "nbformat_minor": 5
}
