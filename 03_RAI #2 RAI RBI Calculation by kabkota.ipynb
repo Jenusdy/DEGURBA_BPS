{
 "cells": [
  {
   "cell_type": "code",
   "execution_count": 1,
   "id": "c5ee8efd",
   "metadata": {},
   "outputs": [
    {
     "name": "stderr",
     "output_type": "stream",
     "text": [
      "/home/jupyter-peta_admin/.local/lib/python3.8/site-packages/geopandas/_compat.py:112: UserWarning: The Shapely GEOS version (3.10.2-CAPI-1.16.0) is incompatible with the GEOS version PyGEOS was compiled with (3.10.3-CAPI-1.16.1). Conversions between both will be slow.\n",
      "  warnings.warn(\n"
     ]
    }
   ],
   "source": [
    "import geopandas as gpd\n",
    "import pandas as pd\n",
    "import warnings\n",
    "from tqdm.contrib.concurrent import process_map\n",
    "warnings.filterwarnings('ignore')\n",
    "from multiprocessing import Process, Manager"
   ]
  },
  {
   "cell_type": "code",
   "execution_count": 2,
   "id": "562ad31b",
   "metadata": {},
   "outputs": [
    {
     "name": "stdout",
     "output_type": "stream",
     "text": [
      "PyTables is not installed. No support for HDF output.\n"
     ]
    }
   ],
   "source": [
    "from simpledbf import Dbf5\n",
    "dbf = Dbf5('data/input/Master_Data/mfd_2020_1.dbf')\n",
    "df_master = dbf.to_dataframe()\n",
    "df_master['idkab'] = df_master['PROP'] + df_master['KAB']"
   ]
  },
  {
   "cell_type": "code",
   "execution_count": 3,
   "id": "e1a5414e",
   "metadata": {},
   "outputs": [],
   "source": [
    "def generate_data_kabupaten(kdkab):\n",
    "    print('[+] Proses membuat data kabupaten!')\n",
    "    import os\n",
    "    if not os.path.exists('data/input/Master_Data/DESA_20201_BYINDO_'+kdkab+'.gpkg'):\n",
    "        data_desa=gpd.read_file('data/input/Master_Data/DESA_20201_BYINDO.gpkg').to_crs('ESRI:54034')\n",
    "        d = data_desa[(data_desa['kdprov'] == kdkab[:2]) & (data_desa['kdkab'] == kdkab[2:4])]\n",
    "        d.to_file('data/input/Master_Data/DESA_20201_BYINDO_'+kdkab+'.gpkg',driver='GPKG')\n",
    "\n",
    "    if not os.path.exists('data/input/RBI/kdkab_'+kdkab+'.gpkg'):\n",
    "        data_rai = gpd.read_file('data/input/RBI/kdprov_'+kdkab[:2]+'.gpkg').to_crs('ESRI:54034')\n",
    "        dr = gpd.sjoin(data_rai,d)\n",
    "        dr = dr.dissolve()\n",
    "        d.to_file('data/input/RBI/kdkab_'+kdkab+'.gpkg',driver='GPKG')\n",
    "    \n",
    "    if not os.path.exists('data/output/2_grid_degurba/degurba_Sumatera_'+kdkab+'.gpkg'):\n",
    "        nmfiledegurba = \"degurba_Sumatera_\"+kdkab[:2]+\".gpkg\"\n",
    "        gf = gpd.read_file(\"data/output/2_grid_degurba/\"+nmfiledegurba).to_crs('ESRI:54034')\n",
    "        gf['RAI'] = 0\n",
    "        g = gpd.sjoin(gf,d)[['Name', 'pop', 'p_builtup', 'is_U_CENTRE_w_BU', 'is_U_CLUSTER',\n",
    "               'classification', 'geometry', 'RAI']]\n",
    "        g.to_file('data/output/2_grid_degurba/degurba_Sumatera_'+kdkab+'.gpkg',driver='GPKG')\n",
    "    print('[+] Selesai membuat data kabupaten!')"
   ]
  },
  {
   "cell_type": "code",
   "execution_count": 4,
   "id": "0f3c3fda",
   "metadata": {},
   "outputs": [],
   "source": [
    "def data_masking_degurba(i):\n",
    "    global degurba_desa,data_highway,gf,affected_RAI\n",
    "    degurba_desa=gpd.sjoin(gf,data_desa.query('iddesa==@i'))\n",
    "    data_highway_j=data_rai.overlay(degurba_desa,how='intersection')[['geometry']]\n",
    "    data_highway_j['reg']=1\n",
    "    data_highway_j=data_highway_j.dissolve(by='reg')\n",
    "    data_highway_j.geometry=data_highway_j.buffer(2000)\n",
    "    nm_rai=gf.sjoin(data_highway_j)['Name'].tolist()\n",
    "    affected_RAI.extend(nm_rai)"
   ]
  },
  {
   "cell_type": "code",
   "execution_count": 5,
   "id": "d9a5fb25",
   "metadata": {},
   "outputs": [],
   "source": [
    "def main(idkab):\n",
    "    print('[+] Melakukan perhitungan proses RBI!')\n",
    "    global gf,data_desa,data_rai,affected_RAI\n",
    "    gf = gpd.read_file('data/output/2_grid_degurba/degurba_Sumatera_'+idkab+'.gpkg')\n",
    "    data_desa = gpd.read_file('data/input/Master_Data/DESA_20201_BYINDO_'+idkab+'.gpkg').to_crs('ESRI:54034')\n",
    "    data_rai = gpd.read_file('data/input/RBI/kdkab_'+idkab+'.gpkg')\n",
    "    manager=Manager()\n",
    "    affected_RAI=manager.list()\n",
    "    process_map(data_masking_degurba,data_desa.iddesa.unique())\n",
    "    gf[gf.Name.isin(list(affected_RAI))].to_file('data/output/4_RAI/rai_rbi_degurba_'+idkab+'.gpkg',driver='GPKG')"
   ]
  },
  {
   "cell_type": "code",
   "execution_count": 6,
   "id": "a402ce40",
   "metadata": {},
   "outputs": [],
   "source": [
    "list_kdprov = ['16','18']\n",
    "gf = None\n",
    "data_desa = None\n",
    "affected_RAI = None\n",
    "data_rai = None"
   ]
  },
  {
   "cell_type": "code",
   "execution_count": 7,
   "id": "b46929f3",
   "metadata": {},
   "outputs": [
    {
     "name": "stdout",
     "output_type": "stream",
     "text": [
      "[+] Kabupaten 1601 sudah pernah diproses!\n",
      "[+] Kabupaten 1602 sudah pernah diproses!\n",
      "[+] Kabupaten 1603 sudah pernah diproses!\n",
      "[+] Kabupaten 1604 sudah pernah diproses!\n",
      "[+] Kabupaten 1605 sudah pernah diproses!\n",
      "[+] Kabupaten 1606 sudah pernah diproses!\n",
      "[+] Kabupaten 1607 sudah pernah diproses!\n",
      "[+] Kabupaten 1608 sudah pernah diproses!\n",
      "[+] Kabupaten 1609 sudah pernah diproses!\n",
      "[+] Kabupaten 1610 sudah pernah diproses!\n",
      "[+] Kabupaten 1611 sudah pernah diproses!\n",
      "[+] Kabupaten 1612 sudah pernah diproses!\n",
      "[+] Kabupaten 1613 sudah pernah diproses!\n",
      "[+] Kabupaten 1671 sudah pernah diproses!\n",
      "[+] Kabupaten 1672 sudah pernah diproses!\n",
      "[+] Kabupaten 1673 sudah pernah diproses!\n",
      "[+] Kabupaten 1674 sudah pernah diproses!\n",
      "[+] Kabupaten 1801 sudah pernah diproses!\n",
      "[+] Kabupaten 1802 sudah pernah diproses!\n",
      "[+] Kabupaten 1803 sudah pernah diproses!\n",
      "[+] Kabupaten 1804 sudah pernah diproses!\n",
      "[+] Melakukan proses untuk kabupaten 1805\n",
      "[+] Proses membuat data kabupaten!\n",
      "[+] Selesai membuat data kabupaten!\n",
      "[+] Melakukan perhitungan proses RBI!\n"
     ]
    },
    {
     "data": {
      "application/vnd.jupyter.widget-view+json": {
       "model_id": "6a861ae2158145179e50ef786552687b",
       "version_major": 2,
       "version_minor": 0
      },
      "text/plain": [
       "  0%|          | 0/316 [00:00<?, ?it/s]"
      ]
     },
     "metadata": {},
     "output_type": "display_data"
    },
    {
     "name": "stdout",
     "output_type": "stream",
     "text": [
      "[+] Melakukan proses untuk kabupaten 1806\n",
      "[+] Proses membuat data kabupaten!\n",
      "[+] Selesai membuat data kabupaten!\n",
      "[+] Melakukan perhitungan proses RBI!\n"
     ]
    },
    {
     "data": {
      "application/vnd.jupyter.widget-view+json": {
       "model_id": "7c6486e79d804e2e98d3aaac47405eb1",
       "version_major": 2,
       "version_minor": 0
      },
      "text/plain": [
       "  0%|          | 0/250 [00:00<?, ?it/s]"
      ]
     },
     "metadata": {},
     "output_type": "display_data"
    },
    {
     "name": "stdout",
     "output_type": "stream",
     "text": [
      "[+] Melakukan proses untuk kabupaten 1807\n",
      "[+] Proses membuat data kabupaten!\n",
      "[+] Selesai membuat data kabupaten!\n",
      "[+] Melakukan perhitungan proses RBI!\n"
     ]
    },
    {
     "data": {
      "application/vnd.jupyter.widget-view+json": {
       "model_id": "03c5613a2f01455ebb8027b74bde5f4d",
       "version_major": 2,
       "version_minor": 0
      },
      "text/plain": [
       "  0%|          | 0/233 [00:00<?, ?it/s]"
      ]
     },
     "metadata": {},
     "output_type": "display_data"
    },
    {
     "name": "stdout",
     "output_type": "stream",
     "text": [
      "[+] Melakukan proses untuk kabupaten 1808\n",
      "[+] Proses membuat data kabupaten!\n",
      "[+] Selesai membuat data kabupaten!\n",
      "[+] Melakukan perhitungan proses RBI!\n"
     ]
    },
    {
     "data": {
      "application/vnd.jupyter.widget-view+json": {
       "model_id": "37774539e2aa42b8bed0f3f30643d704",
       "version_major": 2,
       "version_minor": 0
      },
      "text/plain": [
       "  0%|          | 0/151 [00:00<?, ?it/s]"
      ]
     },
     "metadata": {},
     "output_type": "display_data"
    },
    {
     "name": "stdout",
     "output_type": "stream",
     "text": [
      "[+] Melakukan proses untuk kabupaten 1809\n",
      "[+] Proses membuat data kabupaten!\n",
      "[+] Selesai membuat data kabupaten!\n",
      "[+] Melakukan perhitungan proses RBI!\n"
     ]
    },
    {
     "data": {
      "application/vnd.jupyter.widget-view+json": {
       "model_id": "b7baa336aafa4673ad5fd1e215fc08f6",
       "version_major": 2,
       "version_minor": 0
      },
      "text/plain": [
       "  0%|          | 0/151 [00:00<?, ?it/s]"
      ]
     },
     "metadata": {},
     "output_type": "display_data"
    },
    {
     "name": "stdout",
     "output_type": "stream",
     "text": [
      "[+] Melakukan proses untuk kabupaten 1810\n",
      "[+] Proses membuat data kabupaten!\n",
      "[+] Selesai membuat data kabupaten!\n",
      "[+] Melakukan perhitungan proses RBI!\n"
     ]
    },
    {
     "data": {
      "application/vnd.jupyter.widget-view+json": {
       "model_id": "4d1a5256cb264f7096612442095a9395",
       "version_major": 2,
       "version_minor": 0
      },
      "text/plain": [
       "  0%|          | 0/132 [00:00<?, ?it/s]"
      ]
     },
     "metadata": {},
     "output_type": "display_data"
    },
    {
     "name": "stdout",
     "output_type": "stream",
     "text": [
      "[+] Melakukan proses untuk kabupaten 1811\n",
      "[+] Proses membuat data kabupaten!\n",
      "[+] Selesai membuat data kabupaten!\n",
      "[+] Melakukan perhitungan proses RBI!\n"
     ]
    },
    {
     "data": {
      "application/vnd.jupyter.widget-view+json": {
       "model_id": "ac96484b44d741c1ac198912ce4c038c",
       "version_major": 2,
       "version_minor": 0
      },
      "text/plain": [
       "  0%|          | 0/105 [00:00<?, ?it/s]"
      ]
     },
     "metadata": {},
     "output_type": "display_data"
    },
    {
     "name": "stdout",
     "output_type": "stream",
     "text": [
      "[+] Melakukan proses untuk kabupaten 1812\n",
      "[+] Proses membuat data kabupaten!\n",
      "[+] Selesai membuat data kabupaten!\n",
      "[+] Melakukan perhitungan proses RBI!\n"
     ]
    },
    {
     "data": {
      "application/vnd.jupyter.widget-view+json": {
       "model_id": "8ba75f55d18b4db18c3ddfad1229a1cc",
       "version_major": 2,
       "version_minor": 0
      },
      "text/plain": [
       "  0%|          | 0/104 [00:00<?, ?it/s]"
      ]
     },
     "metadata": {},
     "output_type": "display_data"
    },
    {
     "name": "stdout",
     "output_type": "stream",
     "text": [
      "[+] Melakukan proses untuk kabupaten 1813\n",
      "[+] Proses membuat data kabupaten!\n",
      "[+] Selesai membuat data kabupaten!\n",
      "[+] Melakukan perhitungan proses RBI!\n"
     ]
    },
    {
     "data": {
      "application/vnd.jupyter.widget-view+json": {
       "model_id": "48a380b3ac5d4c3d84d9f2a05714329d",
       "version_major": 2,
       "version_minor": 0
      },
      "text/plain": [
       "  0%|          | 0/121 [00:00<?, ?it/s]"
      ]
     },
     "metadata": {},
     "output_type": "display_data"
    },
    {
     "name": "stdout",
     "output_type": "stream",
     "text": [
      "[+] Melakukan proses untuk kabupaten 1871\n",
      "[+] Proses membuat data kabupaten!\n",
      "[+] Selesai membuat data kabupaten!\n",
      "[+] Melakukan perhitungan proses RBI!\n"
     ]
    },
    {
     "data": {
      "application/vnd.jupyter.widget-view+json": {
       "model_id": "059ca2342b3e48569348d26d8f33bdb5",
       "version_major": 2,
       "version_minor": 0
      },
      "text/plain": [
       "  0%|          | 0/126 [00:00<?, ?it/s]"
      ]
     },
     "metadata": {},
     "output_type": "display_data"
    },
    {
     "name": "stdout",
     "output_type": "stream",
     "text": [
      "[+] Melakukan proses untuk kabupaten 1872\n",
      "[+] Proses membuat data kabupaten!\n",
      "[+] Selesai membuat data kabupaten!\n",
      "[+] Melakukan perhitungan proses RBI!\n"
     ]
    },
    {
     "data": {
      "application/vnd.jupyter.widget-view+json": {
       "model_id": "b084f026fe914fd0b6c146de41f3857d",
       "version_major": 2,
       "version_minor": 0
      },
      "text/plain": [
       "  0%|          | 0/22 [00:00<?, ?it/s]"
      ]
     },
     "metadata": {},
     "output_type": "display_data"
    }
   ],
   "source": [
    "for kdprov in list_kdprov:\n",
    "    list_kabupaten = df_master[df_master['idkab'].str.startswith(kdprov)]\n",
    "    for i in list_kabupaten['idkab'].unique():\n",
    "        import os.path\n",
    "        if not os.path.exists('data/output/4_RAI/rai_rbi_degurba_'+i+'.gpkg'):\n",
    "            print('[+] Melakukan proses untuk kabupaten {}'.format(i))\n",
    "            generate_data_kabupaten(i)\n",
    "            main(i)\n",
    "        else:\n",
    "            print('[+] Kabupaten {} sudah pernah diproses!'.format(i))"
   ]
  },
  {
   "cell_type": "code",
   "execution_count": 8,
   "id": "f0e514ad",
   "metadata": {},
   "outputs": [
    {
     "name": "stdout",
     "output_type": "stream",
     "text": [
      "[+] Melakukan proses penggabungan RAI RBI untuk provinsi 16\n",
      "[+] Selesai melakukan proses untuk provinsi 16\n",
      "[+] Melakukan proses penggabungan RAI RBI untuk provinsi 18\n",
      "[+] Selesai melakukan proses untuk provinsi 18\n"
     ]
    }
   ],
   "source": [
    "for kdprov in list_kdprov:\n",
    "    print('[+] Melakukan proses penggabungan RAI RBI untuk provinsi {}'.format(kdprov))\n",
    "    \n",
    "    data_rai = gpd.read_file('data/input/RBI/kdprov_'+kdprov+'.gpkg').to_crs('ESRI:54034').dissolve()\n",
    "    data_desa = gpd.read_file('data/input/Master_Data/DESA_20201_BYINDO.gpkg').to_crs('ESRI:54034').query('kdprov==@kdprov')\n",
    "\n",
    "    nmfiledegurba = \"degurba_Sumatera_00.gpkg\"\n",
    "    gf = gpd.read_file(\"data/output/2_grid_degurba/\"+nmfiledegurba).to_crs('ESRI:54034')\n",
    "    gf['RAI'] = 0\n",
    "    gf = gf.sjoin(data_desa[['geometry']])[gf.columns]\n",
    "    \n",
    "    from glob import glob\n",
    "    degurba_rai = glob('data/output/4_RAI/rai_rbi_degurba_'+kdprov+'*.gpkg')\n",
    "    data_ = gpd.GeoDataFrame()\n",
    "    l_name = []\n",
    "    for i in degurba_rai:\n",
    "        temp = gpd.read_file(i)['Name']\n",
    "        l_name.extend(list(temp))\n",
    "    l_name = list(set(l_name))\n",
    "    gf['accessed'] = gf.Name.apply(lambda y: 1 if y in l_name else 0)\n",
    "    gf.to_file('data/output/4_RAI/fin_rai_rbi_degurba_'+kdprov+'.gpkg')\n",
    "    \n",
    "    print('[+] Selesai melakukan proses untuk provinsi {}'.format(kdprov))"
   ]
  },
  {
   "cell_type": "code",
   "execution_count": null,
   "id": "9f4a8fc2",
   "metadata": {},
   "outputs": [],
   "source": []
  }
 ],
 "metadata": {
  "kernelspec": {
   "display_name": "Python 3 (ipykernel)",
   "language": "python",
   "name": "python3"
  },
  "language_info": {
   "codemirror_mode": {
    "name": "ipython",
    "version": 3
   },
   "file_extension": ".py",
   "mimetype": "text/x-python",
   "name": "python",
   "nbconvert_exporter": "python",
   "pygments_lexer": "ipython3",
   "version": "3.8.12"
  }
 },
 "nbformat": 4,
 "nbformat_minor": 5
}
