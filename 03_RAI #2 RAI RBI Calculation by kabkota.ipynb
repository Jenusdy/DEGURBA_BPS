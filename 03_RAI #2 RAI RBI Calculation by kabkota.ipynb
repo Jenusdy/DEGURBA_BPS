{
 "cells": [
  {
   "cell_type": "code",
   "execution_count": 1,
   "id": "c5ee8efd",
   "metadata": {},
   "outputs": [
    {
     "name": "stderr",
     "output_type": "stream",
     "text": [
      "/home/jupyter-peta_admin/.local/lib/python3.8/site-packages/geopandas/_compat.py:112: UserWarning: The Shapely GEOS version (3.10.2-CAPI-1.16.0) is incompatible with the GEOS version PyGEOS was compiled with (3.11.0-CAPI-1.17.0). Conversions between both will be slow.\n",
      "  warnings.warn(\n"
     ]
    }
   ],
   "source": [
    "import geopandas as gpd\n",
    "import pandas as pd\n",
    "import warnings\n",
    "from tqdm.contrib.concurrent import process_map\n",
    "warnings.filterwarnings('ignore')\n",
    "from multiprocessing import Process, Manager"
   ]
  },
  {
   "cell_type": "code",
   "execution_count": 2,
   "id": "a402ce40",
   "metadata": {},
   "outputs": [],
   "source": [
    "kdprov='51'"
   ]
  },
  {
   "cell_type": "code",
   "execution_count": 4,
   "id": "d9a5fb25",
   "metadata": {},
   "outputs": [],
   "source": [
    "data_rai=gpd.read_file('data/input/RBI/kdprov_'+kdprov+'.gpkg').to_crs('ESRI:54034').dissolve()"
   ]
  },
  {
   "cell_type": "code",
   "execution_count": 5,
   "id": "cc8e698c",
   "metadata": {},
   "outputs": [],
   "source": [
    "nmfiledegurba=\"degurba_Bali_00.gpkg\"\n",
    "gf=gpd.read_file(\"data/output/2_grid_degurba/\"+nmfiledegurba).to_crs('ESRI:54034')\n",
    "gf['RAI']=0"
   ]
  },
  {
   "cell_type": "code",
   "execution_count": 6,
   "id": "26b39fb0",
   "metadata": {},
   "outputs": [],
   "source": [
    "data_desa=gpd.read_file('data/input/Master_Data/DESA_20201_BYINDO.gpkg').to_crs('ESRI:54034').query('kdprov==@kdprov')"
   ]
  },
  {
   "cell_type": "code",
   "execution_count": 7,
   "id": "0f3c3fda",
   "metadata": {},
   "outputs": [],
   "source": [
    "def data_masking_degurba(i):\n",
    "    global degurba_desa,data_highway,gf,affected_RAI\n",
    "    degurba_desa=gpd.sjoin(gf,data_desa.query('iddesa==@i'))\n",
    "    data_highway_j=data_rai.overlay(degurba_desa,how='intersection')[['geometry']]\n",
    "    data_highway_j['reg']=1\n",
    "    data_highway_j=data_highway_j.dissolve(by='reg')\n",
    "    data_highway_j.geometry=data_highway_j.buffer(2000)\n",
    "    nm_rai=gf.sjoin(data_highway_j)['Name'].tolist()\n",
    "    affected_RAI.extend(nm_rai)\n",
    "    \n",
    "    #print(affected_RAI)"
   ]
  },
  {
   "cell_type": "code",
   "execution_count": 8,
   "id": "0dad0248",
   "metadata": {},
   "outputs": [
    {
     "name": "stdout",
     "output_type": "stream",
     "text": [
      "Running for  5101\n"
     ]
    },
    {
     "data": {
      "application/vnd.jupyter.widget-view+json": {
       "model_id": "1c2ecb0a5a8d411aaf9262ea90309329",
       "version_major": 2,
       "version_minor": 0
      },
      "text/plain": [
       "  0%|          | 0/51 [00:00<?, ?it/s]"
      ]
     },
     "metadata": {},
     "output_type": "display_data"
    },
    {
     "name": "stdout",
     "output_type": "stream",
     "text": [
      "Running for  5102\n"
     ]
    },
    {
     "data": {
      "application/vnd.jupyter.widget-view+json": {
       "model_id": "553d587e86ec484cbfd81b37b1a342c5",
       "version_major": 2,
       "version_minor": 0
      },
      "text/plain": [
       "  0%|          | 0/133 [00:00<?, ?it/s]"
      ]
     },
     "metadata": {},
     "output_type": "display_data"
    },
    {
     "name": "stdout",
     "output_type": "stream",
     "text": [
      "Running for  5103\n"
     ]
    },
    {
     "data": {
      "application/vnd.jupyter.widget-view+json": {
       "model_id": "1b90c3d93b3d47dc9aa1303b3060488a",
       "version_major": 2,
       "version_minor": 0
      },
      "text/plain": [
       "  0%|          | 0/62 [00:00<?, ?it/s]"
      ]
     },
     "metadata": {},
     "output_type": "display_data"
    },
    {
     "name": "stdout",
     "output_type": "stream",
     "text": [
      "Running for  5104\n"
     ]
    },
    {
     "data": {
      "application/vnd.jupyter.widget-view+json": {
       "model_id": "844cbe2952814f4a891bbd03ce990b6e",
       "version_major": 2,
       "version_minor": 0
      },
      "text/plain": [
       "  0%|          | 0/70 [00:00<?, ?it/s]"
      ]
     },
     "metadata": {},
     "output_type": "display_data"
    },
    {
     "name": "stdout",
     "output_type": "stream",
     "text": [
      "Running for  5105\n"
     ]
    },
    {
     "data": {
      "application/vnd.jupyter.widget-view+json": {
       "model_id": "a5fc502478ff4d0bb8e596d1a5fdc866",
       "version_major": 2,
       "version_minor": 0
      },
      "text/plain": [
       "  0%|          | 0/59 [00:00<?, ?it/s]"
      ]
     },
     "metadata": {},
     "output_type": "display_data"
    },
    {
     "name": "stdout",
     "output_type": "stream",
     "text": [
      "Running for  5106\n"
     ]
    },
    {
     "data": {
      "application/vnd.jupyter.widget-view+json": {
       "model_id": "cb294f98bfb74a5f983e583a1c4dfa97",
       "version_major": 2,
       "version_minor": 0
      },
      "text/plain": [
       "  0%|          | 0/72 [00:00<?, ?it/s]"
      ]
     },
     "metadata": {},
     "output_type": "display_data"
    },
    {
     "name": "stdout",
     "output_type": "stream",
     "text": [
      "Running for  5107\n"
     ]
    },
    {
     "data": {
      "application/vnd.jupyter.widget-view+json": {
       "model_id": "bb534cbc9fe34c1a8f4e2233237af1ea",
       "version_major": 2,
       "version_minor": 0
      },
      "text/plain": [
       "  0%|          | 0/78 [00:00<?, ?it/s]"
      ]
     },
     "metadata": {},
     "output_type": "display_data"
    },
    {
     "name": "stdout",
     "output_type": "stream",
     "text": [
      "Running for  5108\n"
     ]
    },
    {
     "data": {
      "application/vnd.jupyter.widget-view+json": {
       "model_id": "f28729cd677448678c2da91f65fbefdb",
       "version_major": 2,
       "version_minor": 0
      },
      "text/plain": [
       "  0%|          | 0/148 [00:00<?, ?it/s]"
      ]
     },
     "metadata": {},
     "output_type": "display_data"
    },
    {
     "name": "stdout",
     "output_type": "stream",
     "text": [
      "Running for  5171\n"
     ]
    },
    {
     "data": {
      "application/vnd.jupyter.widget-view+json": {
       "model_id": "4e80197596f04bb384867f98bc107d4c",
       "version_major": 2,
       "version_minor": 0
      },
      "text/plain": [
       "  0%|          | 0/43 [00:00<?, ?it/s]"
      ]
     },
     "metadata": {},
     "output_type": "display_data"
    }
   ],
   "source": [
    "for j in data_desa.idkab.unique():\n",
    "    print('Running for ',j)\n",
    "    data_desa_kab=data_desa.query('idkab==@j')\n",
    "    manager=Manager()\n",
    "    affected_RAI=manager.list()\n",
    "    process_map(data_masking_degurba,data_desa_kab.iddesa.unique())\n",
    "    gf[gf.Name.isin(list(affected_RAI))].to_file('data/output/4_RAI/rai_rbi_degurba_'+j+'.gpkg',driver='GPKG')"
   ]
  },
  {
   "cell_type": "code",
   "execution_count": 9,
   "id": "3585997d",
   "metadata": {},
   "outputs": [],
   "source": [
    "from glob import glob\n",
    "degurba_rai=glob('data/output/4_RAI/rai_rbi_degurba_'+kdprov+'*.gpkg')"
   ]
  },
  {
   "cell_type": "code",
   "execution_count": 10,
   "id": "b8671af3",
   "metadata": {},
   "outputs": [],
   "source": [
    "data_=gpd.GeoDataFrame()\n",
    "l_name=[]\n",
    "for i in degurba_rai:\n",
    "    temp=gpd.read_file(i)['Name']\n",
    "    l_name.extend(list(temp))\n",
    "l_name=list(set(l_name))"
   ]
  },
  {
   "cell_type": "code",
   "execution_count": 11,
   "id": "f2c78b32",
   "metadata": {},
   "outputs": [],
   "source": [
    "gf['accessed']=gf.Name.apply(lambda y: 1 if y in l_name else 0)"
   ]
  },
  {
   "cell_type": "code",
   "execution_count": 12,
   "id": "9933bb87",
   "metadata": {},
   "outputs": [],
   "source": [
    "gf.to_file('data/output/4_RAI/fin_rai_rbi_degurba_'+kdprov+'.gpkg')"
   ]
  },
  {
   "cell_type": "code",
   "execution_count": 13,
   "id": "dd515b3d",
   "metadata": {},
   "outputs": [],
   "source": [
    "data_p=gf.pivot_table(index='classification',columns='accessed',values='pop',aggfunc='sum').fillna(0)"
   ]
  },
  {
   "cell_type": "code",
   "execution_count": 14,
   "id": "de40c574",
   "metadata": {},
   "outputs": [],
   "source": [
    "data_p['percent']=data_p[1]*100/(data_p[0]+data_p[1])"
   ]
  },
  {
   "cell_type": "code",
   "execution_count": 15,
   "id": "d9594f0c",
   "metadata": {},
   "outputs": [
    {
     "data": {
      "text/html": [
       "<div>\n",
       "<style scoped>\n",
       "    .dataframe tbody tr th:only-of-type {\n",
       "        vertical-align: middle;\n",
       "    }\n",
       "\n",
       "    .dataframe tbody tr th {\n",
       "        vertical-align: top;\n",
       "    }\n",
       "\n",
       "    .dataframe thead th {\n",
       "        text-align: right;\n",
       "    }\n",
       "</style>\n",
       "<table border=\"1\" class=\"dataframe\">\n",
       "  <thead>\n",
       "    <tr style=\"text-align: right;\">\n",
       "      <th>accessed</th>\n",
       "      <th>0</th>\n",
       "      <th>1</th>\n",
       "      <th>percent</th>\n",
       "    </tr>\n",
       "    <tr>\n",
       "      <th>classification</th>\n",
       "      <th></th>\n",
       "      <th></th>\n",
       "      <th></th>\n",
       "    </tr>\n",
       "  </thead>\n",
       "  <tbody>\n",
       "    <tr>\n",
       "      <th>CENTRE</th>\n",
       "      <td>0.0</td>\n",
       "      <td>2232698.0</td>\n",
       "      <td>100.000000</td>\n",
       "    </tr>\n",
       "    <tr>\n",
       "      <th>CLUSTER</th>\n",
       "      <td>0.0</td>\n",
       "      <td>2477667.0</td>\n",
       "      <td>100.000000</td>\n",
       "    </tr>\n",
       "    <tr>\n",
       "      <th>RURAL</th>\n",
       "      <td>1207.0</td>\n",
       "      <td>300409.0</td>\n",
       "      <td>99.599822</td>\n",
       "    </tr>\n",
       "  </tbody>\n",
       "</table>\n",
       "</div>"
      ],
      "text/plain": [
       "accessed             0          1     percent\n",
       "classification                               \n",
       "CENTRE             0.0  2232698.0  100.000000\n",
       "CLUSTER            0.0  2477667.0  100.000000\n",
       "RURAL           1207.0   300409.0   99.599822"
      ]
     },
     "execution_count": 15,
     "metadata": {},
     "output_type": "execute_result"
    }
   ],
   "source": [
    "data_p"
   ]
  }
 ],
 "metadata": {
  "kernelspec": {
   "display_name": "Python 3 (ipykernel)",
   "language": "python",
   "name": "python3"
  },
  "language_info": {
   "codemirror_mode": {
    "name": "ipython",
    "version": 3
   },
   "file_extension": ".py",
   "mimetype": "text/x-python",
   "name": "python",
   "nbconvert_exporter": "python",
   "pygments_lexer": "ipython3",
   "version": "3.8.12"
  }
 },
 "nbformat": 4,
 "nbformat_minor": 5
}
