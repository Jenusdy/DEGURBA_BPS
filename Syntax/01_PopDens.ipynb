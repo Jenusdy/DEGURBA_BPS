{
 "cells": [
  {
   "cell_type": "code",
   "execution_count": 1,
   "id": "4bd9788a",
   "metadata": {},
   "outputs": [],
   "source": [
    "import pandas as pd\n",
    "from dbfread import DBF"
   ]
  },
  {
   "cell_type": "code",
   "execution_count": 2,
   "id": "1c74b587",
   "metadata": {},
   "outputs": [],
   "source": [
    "data_ruta=pd.DataFrame(iter(DBF('rekap_sp2020.dbf')))"
   ]
  },
  {
   "cell_type": "code",
   "execution_count": 3,
   "id": "f6300764",
   "metadata": {},
   "outputs": [],
   "source": [
    "import geopandas as gpd\n",
    "from glob import glob"
   ]
  },
  {
   "cell_type": "code",
   "execution_count": 4,
   "id": "d935fc69",
   "metadata": {},
   "outputs": [],
   "source": [
    "ls_sls=glob('sls_*.gpkg')"
   ]
  },
  {
   "cell_type": "code",
   "execution_count": 5,
   "id": "f5132869",
   "metadata": {},
   "outputs": [
    {
     "data": {
      "text/plain": [
       "['sls_5300.gpkg', 'sls_5100_v2.gpkg', 'sls_5200.gpkg']"
      ]
     },
     "execution_count": 5,
     "metadata": {},
     "output_type": "execute_result"
    }
   ],
   "source": [
    "ls_sls"
   ]
  },
  {
   "cell_type": "code",
   "execution_count": 6,
   "id": "39a77a62",
   "metadata": {},
   "outputs": [
    {
     "name": "stderr",
     "output_type": "stream",
     "text": [
      "C:\\Users\\user\\AppData\\Local\\Temp\\ipykernel_19992\\283178317.py:4: FutureWarning: The frame.append method is deprecated and will be removed from pandas in a future version. Use pandas.concat instead.\n",
      "  data_sls=data_sls_i.append(data_sls)\n",
      "C:\\Users\\user\\AppData\\Local\\Temp\\ipykernel_19992\\283178317.py:4: FutureWarning: The frame.append method is deprecated and will be removed from pandas in a future version. Use pandas.concat instead.\n",
      "  data_sls=data_sls_i.append(data_sls)\n",
      "C:\\Users\\user\\AppData\\Local\\Temp\\ipykernel_19992\\283178317.py:4: FutureWarning: The frame.append method is deprecated and will be removed from pandas in a future version. Use pandas.concat instead.\n",
      "  data_sls=data_sls_i.append(data_sls)\n"
     ]
    }
   ],
   "source": [
    "data_sls=gpd.GeoDataFrame()\n",
    "for i in ls_sls:\n",
    "    data_sls_i=gpd.read_file(i)\n",
    "    data_sls=data_sls_i.append(data_sls)\n",
    "    data_sls_i=None"
   ]
  },
  {
   "cell_type": "code",
   "execution_count": 7,
   "id": "e0947205",
   "metadata": {},
   "outputs": [
    {
     "data": {
      "text/html": [
       "<div>\n",
       "<style scoped>\n",
       "    .dataframe tbody tr th:only-of-type {\n",
       "        vertical-align: middle;\n",
       "    }\n",
       "\n",
       "    .dataframe tbody tr th {\n",
       "        vertical-align: top;\n",
       "    }\n",
       "\n",
       "    .dataframe thead th {\n",
       "        text-align: right;\n",
       "    }\n",
       "</style>\n",
       "<table border=\"1\" class=\"dataframe\">\n",
       "  <thead>\n",
       "    <tr style=\"text-align: right;\">\n",
       "      <th></th>\n",
       "      <th>KODE_SLS</th>\n",
       "      <th>TOTAL_KELU</th>\n",
       "      <th>TOTAL_PEND</th>\n",
       "      <th>TOTAL_KE_A</th>\n",
       "      <th>TOTAL_PE_A</th>\n",
       "      <th>TOTAL_KE_B</th>\n",
       "      <th>TOTAL_PE_B</th>\n",
       "    </tr>\n",
       "  </thead>\n",
       "  <tbody>\n",
       "    <tr>\n",
       "      <th>0</th>\n",
       "      <td>1101010001000100</td>\n",
       "      <td>41</td>\n",
       "      <td>135</td>\n",
       "      <td>0</td>\n",
       "      <td>0</td>\n",
       "      <td>42</td>\n",
       "      <td>135</td>\n",
       "    </tr>\n",
       "    <tr>\n",
       "      <th>1</th>\n",
       "      <td>1101010001000200</td>\n",
       "      <td>34</td>\n",
       "      <td>133</td>\n",
       "      <td>0</td>\n",
       "      <td>0</td>\n",
       "      <td>35</td>\n",
       "      <td>133</td>\n",
       "    </tr>\n",
       "    <tr>\n",
       "      <th>2</th>\n",
       "      <td>1101010001999900</td>\n",
       "      <td>2</td>\n",
       "      <td>3</td>\n",
       "      <td>0</td>\n",
       "      <td>5</td>\n",
       "      <td>2</td>\n",
       "      <td>8</td>\n",
       "    </tr>\n",
       "    <tr>\n",
       "      <th>3</th>\n",
       "      <td>1101010002000100</td>\n",
       "      <td>87</td>\n",
       "      <td>329</td>\n",
       "      <td>0</td>\n",
       "      <td>0</td>\n",
       "      <td>88</td>\n",
       "      <td>329</td>\n",
       "    </tr>\n",
       "    <tr>\n",
       "      <th>4</th>\n",
       "      <td>1101010002000200</td>\n",
       "      <td>39</td>\n",
       "      <td>175</td>\n",
       "      <td>0</td>\n",
       "      <td>0</td>\n",
       "      <td>40</td>\n",
       "      <td>175</td>\n",
       "    </tr>\n",
       "  </tbody>\n",
       "</table>\n",
       "</div>"
      ],
      "text/plain": [
       "           KODE_SLS  TOTAL_KELU  TOTAL_PEND  TOTAL_KE_A  TOTAL_PE_A  \\\n",
       "0  1101010001000100          41         135           0           0   \n",
       "1  1101010001000200          34         133           0           0   \n",
       "2  1101010001999900           2           3           0           5   \n",
       "3  1101010002000100          87         329           0           0   \n",
       "4  1101010002000200          39         175           0           0   \n",
       "\n",
       "   TOTAL_KE_B  TOTAL_PE_B  \n",
       "0          42         135  \n",
       "1          35         133  \n",
       "2           2           8  \n",
       "3          88         329  \n",
       "4          40         175  "
      ]
     },
     "execution_count": 7,
     "metadata": {},
     "output_type": "execute_result"
    }
   ],
   "source": [
    "data_ruta.head(5)"
   ]
  },
  {
   "cell_type": "code",
   "execution_count": 8,
   "id": "5bdbce66",
   "metadata": {},
   "outputs": [],
   "source": [
    "data_ruta['idsls']=data_ruta.KODE_SLS.apply(lambda y: str(y)[:14])"
   ]
  },
  {
   "cell_type": "code",
   "execution_count": 9,
   "id": "a01343b9",
   "metadata": {},
   "outputs": [],
   "source": [
    "#calculate per sls\n",
    "data_ruta_compiled=pd.pivot_table(data_ruta,index='idsls',values='TOTAL_PEND',aggfunc='sum').reset_index()"
   ]
  },
  {
   "cell_type": "code",
   "execution_count": 10,
   "id": "69eb38ab",
   "metadata": {},
   "outputs": [],
   "source": [
    "data_sls['idsls']=data_sls.idsls.astype(str)\n",
    "data_peta_w_ruta=data_sls[['geometry','idsls']].merge(data_ruta_compiled,how='left').fillna(0)"
   ]
  },
  {
   "cell_type": "code",
   "execution_count": 11,
   "id": "f8fc1325",
   "metadata": {},
   "outputs": [],
   "source": [
    "data_peta_w_ruta['area_pop']=data_peta_w_ruta.to_crs('ESRI:53034').area"
   ]
  },
  {
   "cell_type": "code",
   "execution_count": 12,
   "id": "7f08d444",
   "metadata": {},
   "outputs": [],
   "source": [
    "#open built-up\n",
    "data_builtup=gpd.read_file('BUILTUP_515253_REV.gpkg').to_crs(4326).dissolve()\n",
    "data_builtup=data_builtup[['geometry']]"
   ]
  },
  {
   "cell_type": "code",
   "execution_count": 13,
   "id": "9ae930ed",
   "metadata": {},
   "outputs": [
    {
     "name": "stderr",
     "output_type": "stream",
     "text": [
      "C:\\Users\\user\\AppData\\Local\\Temp\\ipykernel_19992\\856798148.py:1: UserWarning: `keep_geom_type=True` in overlay resulted in 5219 dropped geometries of different geometry types than df1 has. Set `keep_geom_type=False` to retain all geometries\n",
      "  data_builtupsls=gpd.overlay(data_builtup,data_peta_w_ruta,\n",
      "C:\\Users\\user\\AppData\\Local\\Temp\\ipykernel_19992\\856798148.py:2: FutureWarning: Currently, index_parts defaults to True, but in the future, it will default to False to be consistent with Pandas. Use `index_parts=True` to keep the current behavior and True/False to silence the warning.\n",
      "  how='intersection').explode().reset_index()[['idsls','TOTAL_PEND','area_pop','geometry']]\n"
     ]
    }
   ],
   "source": [
    "data_builtupsls=gpd.overlay(data_builtup,data_peta_w_ruta,\n",
    "                            how='intersection').explode().reset_index()[['idsls','TOTAL_PEND','area_pop','geometry']]"
   ]
  },
  {
   "cell_type": "code",
   "execution_count": 14,
   "id": "e9136649",
   "metadata": {},
   "outputs": [],
   "source": [
    "data_builtupsls['area_built']=data_builtupsls.to_crs('ESRI:53034').area"
   ]
  },
  {
   "cell_type": "code",
   "execution_count": 15,
   "id": "5bd60369",
   "metadata": {},
   "outputs": [],
   "source": [
    "table_area=pd.pivot_table(data_builtupsls[['idsls','area_built']],\n",
    "                          index='idsls',values='area_built',aggfunc='sum').reset_index()"
   ]
  },
  {
   "cell_type": "code",
   "execution_count": 16,
   "id": "013ae127",
   "metadata": {},
   "outputs": [],
   "source": [
    "table_area.columns=['idsls','area_built_total']"
   ]
  },
  {
   "cell_type": "code",
   "execution_count": 17,
   "id": "8388eb5b",
   "metadata": {},
   "outputs": [],
   "source": [
    "data_builtupsls=data_builtupsls.merge(table_area).assign(per_built=lambda y:y.area_built/y.area_built_total*100 )\n",
    "data_builtupsls['pop_built']=data_builtupsls.per_built*data_builtupsls.TOTAL_PEND/100"
   ]
  },
  {
   "cell_type": "code",
   "execution_count": 18,
   "id": "07b8541c",
   "metadata": {},
   "outputs": [],
   "source": [
    "data_builtupsls.to_file('sls_builtup_5000.gpkg',driver='GPKG')"
   ]
  },
  {
   "cell_type": "code",
   "execution_count": null,
   "id": "5c0ede50",
   "metadata": {},
   "outputs": [],
   "source": [
    "#generate S2GEN 1km \n",
    "\n",
    "from s2gen import s2gen\n",
    "y_=data_builtupsls.total_bounds\n",
    "kml = s2gen(y_[3],y_[1],y_[2],y_[0], 13)"
   ]
  },
  {
   "cell_type": "code",
   "execution_count": null,
   "id": "5650d061",
   "metadata": {},
   "outputs": [],
   "source": [
    "with open(\"5000.kml\", \"w\") as f:\n",
    "    f.write(kml)"
   ]
  },
  {
   "cell_type": "code",
   "execution_count": null,
   "id": "bd239663",
   "metadata": {},
   "outputs": [],
   "source": [
    "import fiona\n",
    "\n",
    "gpd.io.file.fiona.drvsupport.supported_drivers['KML'] = 'rw'\n",
    "grid_1km=gpd.read_file('5000.kml',driver='KML')"
   ]
  },
  {
   "cell_type": "code",
   "execution_count": null,
   "id": "e0d05540",
   "metadata": {},
   "outputs": [],
   "source": [
    "data_builtupslss2=gpd.overlay(grid_1km,data_builtupsls,how='intersection')"
   ]
  },
  {
   "cell_type": "code",
   "execution_count": null,
   "id": "14691594",
   "metadata": {},
   "outputs": [],
   "source": [
    "data_builtupslss2['area_built_after']=data_builtupslss2.to_crs('ESRI:53034').area"
   ]
  },
  {
   "cell_type": "code",
   "execution_count": null,
   "id": "5763216c",
   "metadata": {},
   "outputs": [],
   "source": [
    "data_builtupslss2['per_built_after']=data_builtupslss2.area_built_after/data_builtupslss2.area_built"
   ]
  },
  {
   "cell_type": "code",
   "execution_count": null,
   "id": "418eb758",
   "metadata": {},
   "outputs": [],
   "source": [
    "data_builtupslss2['pop_built_s2']=data_builtupslss2.pop_built*data_builtupslss2.per_built_after"
   ]
  },
  {
   "cell_type": "code",
   "execution_count": null,
   "id": "2bf36517",
   "metadata": {},
   "outputs": [],
   "source": [
    "tabel_pop_built_s2=pd.pivot_table(data_builtupslss2,index='Name',\n",
    "                                  values=['pop_built_s2','per_built_after'],aggfunc='sum').reset_index()"
   ]
  },
  {
   "cell_type": "code",
   "execution_count": null,
   "id": "6667401c",
   "metadata": {},
   "outputs": [],
   "source": [
    "grid_with_pop=grid_1km.merge(tabel_pop_built_s2,how='left').fillna(0)\n",
    "data_gridpops2=gpd.sjoin(grid_with_pop,data_sls[['geometry']],how='inner',op='intersects')\n"
   ]
  },
  {
   "cell_type": "code",
   "execution_count": null,
   "id": "75fde018",
   "metadata": {},
   "outputs": [],
   "source": [
    "(data_gridpops2[['Name','geometry','pop_built_s2','per_built_after']]\n",
    " .dissolve(by='Name').to_file('pop_dens_s2_5000.gpkg',driver='GPKG'))"
   ]
  }
 ],
 "metadata": {
  "kernelspec": {
   "display_name": "Python 3 (ipykernel)",
   "language": "python",
   "name": "python3"
  },
  "language_info": {
   "codemirror_mode": {
    "name": "ipython",
    "version": 3
   },
   "file_extension": ".py",
   "mimetype": "text/x-python",
   "name": "python",
   "nbconvert_exporter": "python",
   "pygments_lexer": "ipython3",
   "version": "3.10.4"
  }
 },
 "nbformat": 4,
 "nbformat_minor": 5
}
