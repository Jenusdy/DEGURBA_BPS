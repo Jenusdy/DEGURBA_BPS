{
 "cells": [
  {
   "cell_type": "code",
   "execution_count": 1,
   "id": "f4064934",
   "metadata": {},
   "outputs": [
    {
     "name": "stderr",
     "output_type": "stream",
     "text": [
      "/home/jupyter-peta_admin/.local/lib/python3.8/site-packages/geopandas/_compat.py:112: UserWarning: The Shapely GEOS version (3.10.2-CAPI-1.16.0) is incompatible with the GEOS version PyGEOS was compiled with (3.10.1-CAPI-1.16.0). Conversions between both will be slow.\n",
      "  warnings.warn(\n"
     ]
    }
   ],
   "source": [
    "import geopandas as gpd\n",
    "import pandas as pd\n",
    "import numpy as np\n",
    "import glob\n",
    "import rasterio\n",
    "from rasterio.merge import merge\n",
    "from shapely.geometry import Polygon\n",
    "from rasterio.mask import mask"
   ]
  },
  {
   "cell_type": "code",
   "execution_count": 2,
   "id": "a3091322",
   "metadata": {},
   "outputs": [],
   "source": [
    "from google.cloud import storage\n",
    "\n",
    "client = storage.Client()\n",
    "ls_=list(client.list_blobs('bps-gcp-bucket', prefix='Degree of Urbanisation/GHSL data/2020/zip'))"
   ]
  },
  {
   "cell_type": "code",
   "execution_count": 4,
   "id": "9665f732",
   "metadata": {},
   "outputs": [],
   "source": [
    "storage_client = storage.Client()\n",
    "for i in ls_:\n",
    "    data_=str(i).split('/')[4].split(',')[0]\n",
    "    bucket = storage_client.get_bucket('bps-gcp-bucket')\n",
    "    source_blob_name='Degree of Urbanisation/GHSL data/2020/zip/'+data_\n",
    "    blob = bucket.blob(source_blob_name)\n",
    "    blob.download_to_filename('data/input/GHSL Data/2020/zip/'+data_)"
   ]
  },
  {
   "cell_type": "code",
   "execution_count": 5,
   "id": "c76acc9b",
   "metadata": {},
   "outputs": [],
   "source": [
    "import zipfile\n",
    "data_=glob.glob('data/input/GHSL Data/2020/zip/*.zip')\n",
    "for i in data_:\n",
    "    with zipfile.ZipFile(i, 'r') as zip_ref:\n",
    "        zip_ref.extractall('data/input/GHSL Data/2020/tif')"
   ]
  },
  {
   "cell_type": "code",
   "execution_count": 6,
   "id": "760a62f9",
   "metadata": {},
   "outputs": [],
   "source": [
    "data_prov=gpd.read_file('data/input/Master_Data/Prov_20201_ByIndo(1).shp').to_crs('ESRI:54009')[['geometry','kdprov']]"
   ]
  },
  {
   "cell_type": "code",
   "execution_count": 8,
   "id": "83f44c1f",
   "metadata": {},
   "outputs": [
    {
     "name": "stderr",
     "output_type": "stream",
     "text": [
      "/opt/tljh/user/lib/python3.8/site-packages/IPython/core/interactiveshell.py:3338: FutureWarning: The `op` parameter is deprecated and will be removed in a future release. Please use the `predicate` parameter instead.\n",
      "  if await self.run_code(code, result, async_=asy):\n",
      "/opt/tljh/user/lib/python3.8/site-packages/IPython/core/interactiveshell.py:3338: FutureWarning: The `op` parameter is deprecated and will be removed in a future release. Please use the `predicate` parameter instead.\n",
      "  if await self.run_code(code, result, async_=asy):\n",
      "/opt/tljh/user/lib/python3.8/site-packages/IPython/core/interactiveshell.py:3338: FutureWarning: The `op` parameter is deprecated and will be removed in a future release. Please use the `predicate` parameter instead.\n",
      "  if await self.run_code(code, result, async_=asy):\n",
      "/opt/tljh/user/lib/python3.8/site-packages/IPython/core/interactiveshell.py:3338: FutureWarning: The `op` parameter is deprecated and will be removed in a future release. Please use the `predicate` parameter instead.\n",
      "  if await self.run_code(code, result, async_=asy):\n",
      "/opt/tljh/user/lib/python3.8/site-packages/IPython/core/interactiveshell.py:3338: FutureWarning: The `op` parameter is deprecated and will be removed in a future release. Please use the `predicate` parameter instead.\n",
      "  if await self.run_code(code, result, async_=asy):\n",
      "/opt/tljh/user/lib/python3.8/site-packages/IPython/core/interactiveshell.py:3338: FutureWarning: The `op` parameter is deprecated and will be removed in a future release. Please use the `predicate` parameter instead.\n",
      "  if await self.run_code(code, result, async_=asy):\n",
      "/opt/tljh/user/lib/python3.8/site-packages/IPython/core/interactiveshell.py:3338: FutureWarning: The `op` parameter is deprecated and will be removed in a future release. Please use the `predicate` parameter instead.\n",
      "  if await self.run_code(code, result, async_=asy):\n",
      "/opt/tljh/user/lib/python3.8/site-packages/IPython/core/interactiveshell.py:3338: FutureWarning: The `op` parameter is deprecated and will be removed in a future release. Please use the `predicate` parameter instead.\n",
      "  if await self.run_code(code, result, async_=asy):\n",
      "/opt/tljh/user/lib/python3.8/site-packages/IPython/core/interactiveshell.py:3338: FutureWarning: The `op` parameter is deprecated and will be removed in a future release. Please use the `predicate` parameter instead.\n",
      "  if await self.run_code(code, result, async_=asy):\n",
      "/opt/tljh/user/lib/python3.8/site-packages/IPython/core/interactiveshell.py:3338: FutureWarning: The `op` parameter is deprecated and will be removed in a future release. Please use the `predicate` parameter instead.\n",
      "  if await self.run_code(code, result, async_=asy):\n",
      "/opt/tljh/user/lib/python3.8/site-packages/IPython/core/interactiveshell.py:3338: FutureWarning: The `op` parameter is deprecated and will be removed in a future release. Please use the `predicate` parameter instead.\n",
      "  if await self.run_code(code, result, async_=asy):\n",
      "/opt/tljh/user/lib/python3.8/site-packages/IPython/core/interactiveshell.py:3338: FutureWarning: The `op` parameter is deprecated and will be removed in a future release. Please use the `predicate` parameter instead.\n",
      "  if await self.run_code(code, result, async_=asy):\n",
      "/opt/tljh/user/lib/python3.8/site-packages/IPython/core/interactiveshell.py:3338: FutureWarning: The `op` parameter is deprecated and will be removed in a future release. Please use the `predicate` parameter instead.\n",
      "  if await self.run_code(code, result, async_=asy):\n",
      "/opt/tljh/user/lib/python3.8/site-packages/IPython/core/interactiveshell.py:3338: FutureWarning: The `op` parameter is deprecated and will be removed in a future release. Please use the `predicate` parameter instead.\n",
      "  if await self.run_code(code, result, async_=asy):\n",
      "/opt/tljh/user/lib/python3.8/site-packages/IPython/core/interactiveshell.py:3338: FutureWarning: The `op` parameter is deprecated and will be removed in a future release. Please use the `predicate` parameter instead.\n",
      "  if await self.run_code(code, result, async_=asy):\n",
      "/opt/tljh/user/lib/python3.8/site-packages/IPython/core/interactiveshell.py:3338: FutureWarning: The `op` parameter is deprecated and will be removed in a future release. Please use the `predicate` parameter instead.\n",
      "  if await self.run_code(code, result, async_=asy):\n",
      "/opt/tljh/user/lib/python3.8/site-packages/IPython/core/interactiveshell.py:3338: FutureWarning: The `op` parameter is deprecated and will be removed in a future release. Please use the `predicate` parameter instead.\n",
      "  if await self.run_code(code, result, async_=asy):\n",
      "/opt/tljh/user/lib/python3.8/site-packages/IPython/core/interactiveshell.py:3338: FutureWarning: The `op` parameter is deprecated and will be removed in a future release. Please use the `predicate` parameter instead.\n",
      "  if await self.run_code(code, result, async_=asy):\n"
     ]
    }
   ],
   "source": [
    "ls_j=glob.glob('data/input/GHSL Data/2020/tif/*.tif')\n",
    "for j in ls_j:\n",
    "    with rasterio.open(j) as src:\n",
    "        xmin=src.bounds.left\n",
    "        xmax=src.bounds.right\n",
    "        ymin=src.bounds.bottom\n",
    "        ymax=src.bounds.top\n",
    "        gpd_box=gpd.GeoDataFrame({'geometry':[Polygon([(xmin,ymin), (xmax, ymin), (xmax, ymax), (xmin, ymax)])]},crs='ESRI:54009')\n",
    "        y_=gpd.sjoin(gpd_box,data_prov,op='intersects')['kdprov'].tolist()\n",
    "        name_=j.split('/')[-1]\n",
    "        for y1_ in y_:\n",
    "            shapes=data_prov.query('kdprov==@y1_').geometry\n",
    "            out_image, out_transform = mask(src, shapes, crop=True)\n",
    "            out_meta = src.meta\n",
    "            out_meta.update({\"driver\": \"GTiff\",\n",
    "                 \"height\": out_image.shape[1],\n",
    "                 \"width\": out_image.shape[2],\n",
    "                 \"transform\": out_transform})\n",
    "            with rasterio.open(\"data/input/GHSL Data/2020/tif_prov/2020_\"+y1_+\"_\"+name_, \"w\", **out_meta) as dest:\n",
    "                dest.write(out_image)"
   ]
  },
  {
   "cell_type": "code",
   "execution_count": 9,
   "id": "ffe600f3",
   "metadata": {},
   "outputs": [],
   "source": [
    "for i in data_prov.kdprov:\n",
    "    y_=glob.glob('data/input/GHSL Data/2020/tif_prov/2020_'+i+'*')\n",
    "    dest, output_transform=merge(y_)\n",
    "    with rasterio.open(y_[0]) as src:\n",
    "        out_meta = src.meta.copy()    \n",
    "    out_meta.update({\"driver\": \"GTiff\",\n",
    "                 \"height\": dest.shape[1],\n",
    "                 \"width\": dest.shape[2],\n",
    "                 \"transform\": output_transform})\n",
    "    with rasterio.open(\"data/input/GHSL Data/2020/prov/2020_\"+i+\".tif\", \"w\", **out_meta) as dest1:\n",
    "        dest1.write(dest)"
   ]
  },
  {
   "cell_type": "code",
   "execution_count": 10,
   "id": "8a043810",
   "metadata": {},
   "outputs": [
    {
     "name": "stdout",
     "output_type": "stream",
     "text": [
      "File data/input/GHSL Data/2020/prov/2020_74.tif uploaded to Degree of Urbanisation/GHSL data/2020/prov/2020_74.tif.\n",
      "File data/input/GHSL Data/2020/prov/2020_15.tif uploaded to Degree of Urbanisation/GHSL data/2020/prov/2020_15.tif.\n",
      "File data/input/GHSL Data/2020/prov/2020_18.tif uploaded to Degree of Urbanisation/GHSL data/2020/prov/2020_18.tif.\n",
      "File data/input/GHSL Data/2020/prov/2020_64.tif uploaded to Degree of Urbanisation/GHSL data/2020/prov/2020_64.tif.\n",
      "File data/input/GHSL Data/2020/prov/2020_17.tif uploaded to Degree of Urbanisation/GHSL data/2020/prov/2020_17.tif.\n",
      "File data/input/GHSL Data/2020/prov/2020_21.tif uploaded to Degree of Urbanisation/GHSL data/2020/prov/2020_21.tif.\n",
      "File data/input/GHSL Data/2020/prov/2020_16.tif uploaded to Degree of Urbanisation/GHSL data/2020/prov/2020_16.tif.\n",
      "File data/input/GHSL Data/2020/prov/2020_13.tif uploaded to Degree of Urbanisation/GHSL data/2020/prov/2020_13.tif.\n",
      "File data/input/GHSL Data/2020/prov/2020_76.tif uploaded to Degree of Urbanisation/GHSL data/2020/prov/2020_76.tif.\n",
      "File data/input/GHSL Data/2020/prov/2020_32.tif uploaded to Degree of Urbanisation/GHSL data/2020/prov/2020_32.tif.\n",
      "File data/input/GHSL Data/2020/prov/2020_31.tif uploaded to Degree of Urbanisation/GHSL data/2020/prov/2020_31.tif.\n",
      "File data/input/GHSL Data/2020/prov/2020_14.tif uploaded to Degree of Urbanisation/GHSL data/2020/prov/2020_14.tif.\n",
      "File data/input/GHSL Data/2020/prov/2020_82.tif uploaded to Degree of Urbanisation/GHSL data/2020/prov/2020_82.tif.\n",
      "File data/input/GHSL Data/2020/prov/2020_33.tif uploaded to Degree of Urbanisation/GHSL data/2020/prov/2020_33.tif.\n",
      "File data/input/GHSL Data/2020/prov/2020_65.tif uploaded to Degree of Urbanisation/GHSL data/2020/prov/2020_65.tif.\n",
      "File data/input/GHSL Data/2020/prov/2020_34.tif uploaded to Degree of Urbanisation/GHSL data/2020/prov/2020_34.tif.\n",
      "File data/input/GHSL Data/2020/prov/2020_11.tif uploaded to Degree of Urbanisation/GHSL data/2020/prov/2020_11.tif.\n",
      "File data/input/GHSL Data/2020/prov/2020_62.tif uploaded to Degree of Urbanisation/GHSL data/2020/prov/2020_62.tif.\n",
      "File data/input/GHSL Data/2020/prov/2020_35.tif uploaded to Degree of Urbanisation/GHSL data/2020/prov/2020_35.tif.\n",
      "File data/input/GHSL Data/2020/prov/2020_51.tif uploaded to Degree of Urbanisation/GHSL data/2020/prov/2020_51.tif.\n",
      "File data/input/GHSL Data/2020/prov/2020_63.tif uploaded to Degree of Urbanisation/GHSL data/2020/prov/2020_63.tif.\n",
      "File data/input/GHSL Data/2020/prov/2020_94.tif uploaded to Degree of Urbanisation/GHSL data/2020/prov/2020_94.tif.\n",
      "File data/input/GHSL Data/2020/prov/2020_61.tif uploaded to Degree of Urbanisation/GHSL data/2020/prov/2020_61.tif.\n",
      "File data/input/GHSL Data/2020/prov/2020_19.tif uploaded to Degree of Urbanisation/GHSL data/2020/prov/2020_19.tif.\n",
      "File data/input/GHSL Data/2020/prov/2020_73.tif uploaded to Degree of Urbanisation/GHSL data/2020/prov/2020_73.tif.\n",
      "File data/input/GHSL Data/2020/prov/2020_36.tif uploaded to Degree of Urbanisation/GHSL data/2020/prov/2020_36.tif.\n",
      "File data/input/GHSL Data/2020/prov/2020_75.tif uploaded to Degree of Urbanisation/GHSL data/2020/prov/2020_75.tif.\n",
      "File data/input/GHSL Data/2020/prov/2020_12.tif uploaded to Degree of Urbanisation/GHSL data/2020/prov/2020_12.tif.\n",
      "File data/input/GHSL Data/2020/prov/2020_72.tif uploaded to Degree of Urbanisation/GHSL data/2020/prov/2020_72.tif.\n",
      "File data/input/GHSL Data/2020/prov/2020_91.tif uploaded to Degree of Urbanisation/GHSL data/2020/prov/2020_91.tif.\n",
      "File data/input/GHSL Data/2020/prov/2020_71.tif uploaded to Degree of Urbanisation/GHSL data/2020/prov/2020_71.tif.\n",
      "File data/input/GHSL Data/2020/prov/2020_81.tif uploaded to Degree of Urbanisation/GHSL data/2020/prov/2020_81.tif.\n",
      "File data/input/GHSL Data/2020/prov/2020_53.tif uploaded to Degree of Urbanisation/GHSL data/2020/prov/2020_53.tif.\n",
      "File data/input/GHSL Data/2020/prov/2020_52.tif uploaded to Degree of Urbanisation/GHSL data/2020/prov/2020_52.tif.\n"
     ]
    }
   ],
   "source": [
    "def upload_blob(bucket_name, source_file_name, destination_blob_name):\n",
    "    \"\"\"Uploads a file to the bucket.\"\"\"\n",
    "    storage_client = storage.Client()\n",
    "    bucket = storage_client.bucket(bucket_name)\n",
    "    blob = bucket.blob(destination_blob_name)\n",
    "\n",
    "    blob.upload_from_filename(source_file_name)\n",
    "\n",
    "    print(\n",
    "        f\"File {source_file_name} uploaded to {destination_blob_name}.\"\n",
    "    )\n",
    "\n",
    "upload_2020=glob.glob('data/input/GHSL Data/2020/prov/2020_*')\n",
    "for i in upload_2020:\n",
    "    y_=i.split('/')[-1]\n",
    "    upload_blob('bps-gcp-bucket',i,'Degree of Urbanisation/GHSL data/2020/prov/'+y_)"
   ]
  }
 ],
 "metadata": {
  "kernelspec": {
   "display_name": "Python 3 (ipykernel)",
   "language": "python",
   "name": "python3"
  },
  "language_info": {
   "codemirror_mode": {
    "name": "ipython",
    "version": 3
   },
   "file_extension": ".py",
   "mimetype": "text/x-python",
   "name": "python",
   "nbconvert_exporter": "python",
   "pygments_lexer": "ipython3",
   "version": "3.8.12"
  }
 },
 "nbformat": 4,
 "nbformat_minor": 5
}
