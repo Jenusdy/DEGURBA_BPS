{
 "cells": [
  {
   "cell_type": "code",
   "execution_count": 1,
   "id": "c5ee8efd",
   "metadata": {},
   "outputs": [],
   "source": [
    "#from pyrosm import OSM\n",
    "#from pyrosm import get_data\n",
    "\n",
    "import geopandas as gpd\n",
    "import pandas as pd"
   ]
  },
  {
   "cell_type": "code",
   "execution_count": 2,
   "id": "6337f5cd",
   "metadata": {},
   "outputs": [],
   "source": [
    "# Initialize the OSM parser object\n",
    "#osm = OSM(\"nusa-tenggara-latest-internal.osm.pbf\")"
   ]
  },
  {
   "cell_type": "code",
   "execution_count": 2,
   "id": "c27997aa",
   "metadata": {},
   "outputs": [],
   "source": [
    "drive_net = gpd.read_file('jalan_rbi.gpkg')"
   ]
  },
  {
   "cell_type": "code",
   "execution_count": 3,
   "id": "968e40b7",
   "metadata": {},
   "outputs": [
    {
     "data": {
      "text/html": [
       "<div>\n",
       "<style scoped>\n",
       "    .dataframe tbody tr th:only-of-type {\n",
       "        vertical-align: middle;\n",
       "    }\n",
       "\n",
       "    .dataframe tbody tr th {\n",
       "        vertical-align: top;\n",
       "    }\n",
       "\n",
       "    .dataframe thead th {\n",
       "        text-align: right;\n",
       "    }\n",
       "</style>\n",
       "<table border=\"1\" class=\"dataframe\">\n",
       "  <thead>\n",
       "    <tr style=\"text-align: right;\">\n",
       "      <th></th>\n",
       "      <th>REMARK</th>\n",
       "      <th>geometry</th>\n",
       "    </tr>\n",
       "  </thead>\n",
       "  <tbody>\n",
       "    <tr>\n",
       "      <th>0</th>\n",
       "      <td>Jalan Kolektor</td>\n",
       "      <td>MULTILINESTRING Z ((116.82853 -8.86403 0.00000...</td>\n",
       "    </tr>\n",
       "    <tr>\n",
       "      <th>1</th>\n",
       "      <td>Jalan Kolektor</td>\n",
       "      <td>MULTILINESTRING Z ((116.82940 -8.86136 0.00000...</td>\n",
       "    </tr>\n",
       "    <tr>\n",
       "      <th>2</th>\n",
       "      <td>Jalan Kolektor</td>\n",
       "      <td>MULTILINESTRING Z ((116.82779 -8.85829 0.00000...</td>\n",
       "    </tr>\n",
       "    <tr>\n",
       "      <th>3</th>\n",
       "      <td>Jalan Kolektor</td>\n",
       "      <td>MULTILINESTRING Z ((116.82255 -8.85807 0.00000...</td>\n",
       "    </tr>\n",
       "    <tr>\n",
       "      <th>4</th>\n",
       "      <td>Jalan Kolektor</td>\n",
       "      <td>MULTILINESTRING Z ((116.81821 -8.84942 0.00000...</td>\n",
       "    </tr>\n",
       "  </tbody>\n",
       "</table>\n",
       "</div>"
      ],
      "text/plain": [
       "           REMARK                                           geometry\n",
       "0  Jalan Kolektor  MULTILINESTRING Z ((116.82853 -8.86403 0.00000...\n",
       "1  Jalan Kolektor  MULTILINESTRING Z ((116.82940 -8.86136 0.00000...\n",
       "2  Jalan Kolektor  MULTILINESTRING Z ((116.82779 -8.85829 0.00000...\n",
       "3  Jalan Kolektor  MULTILINESTRING Z ((116.82255 -8.85807 0.00000...\n",
       "4  Jalan Kolektor  MULTILINESTRING Z ((116.81821 -8.84942 0.00000..."
      ]
     },
     "execution_count": 3,
     "metadata": {},
     "output_type": "execute_result"
    }
   ],
   "source": [
    "drive_net.head(5)"
   ]
  },
  {
   "cell_type": "code",
   "execution_count": 4,
   "id": "ad7a153a",
   "metadata": {},
   "outputs": [],
   "source": [
    "gf=gpd.read_file('degurba_5200_rev_w_buitup_adjustment_3.gpkg')"
   ]
  },
  {
   "cell_type": "code",
   "execution_count": 36,
   "id": "7dbb20bd",
   "metadata": {},
   "outputs": [],
   "source": [
    "highway_=drive_net.query('REMARK not in [\"Jalan Setapak\"]')#.query('surface in @surface_l')"
   ]
  },
  {
   "cell_type": "code",
   "execution_count": 37,
   "id": "3a7ac082",
   "metadata": {},
   "outputs": [
    {
     "data": {
      "text/plain": [
       "array(['Jalan Kolektor', 'Jalan Arteri',\n",
       "       'Jalan Tol Dua Jalur Dengan Pemisah Fisik', 'Jalan Layang',\n",
       "       'Jalan Lain', 'Jalan Lokal', 'Jalan/Transportasi Darat Lainnya'],\n",
       "      dtype=object)"
      ]
     },
     "execution_count": 37,
     "metadata": {},
     "output_type": "execute_result"
    }
   ],
   "source": [
    "highway_.REMARK.unique()"
   ]
  },
  {
   "cell_type": "code",
   "execution_count": 38,
   "id": "7a016529",
   "metadata": {},
   "outputs": [],
   "source": [
    "data_highway=highway_.overlay(gf.dissolve(),how='intersection')"
   ]
  },
  {
   "cell_type": "code",
   "execution_count": 39,
   "id": "eaed9d7d",
   "metadata": {},
   "outputs": [],
   "source": [
    "high_2km=data_highway.to_crs(3857).buffer(2000).to_crs(4326)"
   ]
  },
  {
   "cell_type": "code",
   "execution_count": 40,
   "id": "eb46f092",
   "metadata": {},
   "outputs": [],
   "source": [
    "data_highway['geometry']=high_2km"
   ]
  },
  {
   "cell_type": "code",
   "execution_count": 41,
   "id": "f64c0fa9",
   "metadata": {},
   "outputs": [
    {
     "name": "stderr",
     "output_type": "stream",
     "text": [
      "C:\\Users\\user\\.conda\\envs\\pysal_env\\lib\\site-packages\\geopandas\\geodataframe.py:1456: SettingWithCopyWarning: \n",
      "A value is trying to be set on a copy of a slice from a DataFrame.\n",
      "Try using .loc[row_indexer,col_indexer] = value instead\n",
      "\n",
      "See the caveats in the documentation: https://pandas.pydata.org/pandas-docs/stable/user_guide/indexing.html#returning-a-view-versus-a-copy\n",
      "  super().__setitem__(key, value)\n"
     ]
    }
   ],
   "source": [
    "data_jalan=data_highway[['geometry']]\n",
    "data_jalan['reg']=1"
   ]
  },
  {
   "cell_type": "code",
   "execution_count": 42,
   "id": "f5602564",
   "metadata": {},
   "outputs": [],
   "source": [
    "data_jalan.to_file('jalan_2km_rbi.gpkg',driver='GPKG')"
   ]
  },
  {
   "cell_type": "code",
   "execution_count": 43,
   "id": "8b22a976",
   "metadata": {},
   "outputs": [],
   "source": [
    "data_int=gpd.sjoin(gf,data_jalan,how='left',predicate='intersects')"
   ]
  },
  {
   "cell_type": "code",
   "execution_count": 44,
   "id": "e47723e3",
   "metadata": {},
   "outputs": [
    {
     "data": {
      "text/plain": [
       "array([nan,  1.])"
      ]
     },
     "execution_count": 44,
     "metadata": {},
     "output_type": "execute_result"
    }
   ],
   "source": [
    "data_int.reg.unique()"
   ]
  },
  {
   "cell_type": "code",
   "execution_count": 45,
   "id": "51249856",
   "metadata": {},
   "outputs": [],
   "source": [
    "unique_nama=data_int.query('reg==1')['Name'].unique()"
   ]
  },
  {
   "cell_type": "code",
   "execution_count": 46,
   "id": "ebf05c4e",
   "metadata": {},
   "outputs": [],
   "source": [
    "gf['accessed']=gf.Name.apply(lambda y:1 if y in unique_nama else 0)"
   ]
  },
  {
   "cell_type": "code",
   "execution_count": 47,
   "id": "c318db28",
   "metadata": {},
   "outputs": [],
   "source": [
    "gf.to_file('jalan_ntb.gpkg',driver='GPKG')"
   ]
  },
  {
   "cell_type": "code",
   "execution_count": 48,
   "id": "6c79b2c8",
   "metadata": {},
   "outputs": [],
   "source": [
    "data_p=gf.pivot_table(index='classification',columns='accessed',values='pop_built_s2',aggfunc='sum').fillna(0)"
   ]
  },
  {
   "cell_type": "code",
   "execution_count": 49,
   "id": "efd16d1f",
   "metadata": {},
   "outputs": [],
   "source": [
    "data_p['percent']=data_p[1]*100/(data_p[0]+data_p[1])"
   ]
  },
  {
   "cell_type": "code",
   "execution_count": 50,
   "id": "c475b923",
   "metadata": {},
   "outputs": [
    {
     "data": {
      "text/html": [
       "<div>\n",
       "<style scoped>\n",
       "    .dataframe tbody tr th:only-of-type {\n",
       "        vertical-align: middle;\n",
       "    }\n",
       "\n",
       "    .dataframe tbody tr th {\n",
       "        vertical-align: top;\n",
       "    }\n",
       "\n",
       "    .dataframe thead th {\n",
       "        text-align: right;\n",
       "    }\n",
       "</style>\n",
       "<table border=\"1\" class=\"dataframe\">\n",
       "  <thead>\n",
       "    <tr style=\"text-align: right;\">\n",
       "      <th>accessed</th>\n",
       "      <th>0</th>\n",
       "      <th>1</th>\n",
       "      <th>percent</th>\n",
       "    </tr>\n",
       "    <tr>\n",
       "      <th>classification</th>\n",
       "      <th></th>\n",
       "      <th></th>\n",
       "      <th></th>\n",
       "    </tr>\n",
       "  </thead>\n",
       "  <tbody>\n",
       "    <tr>\n",
       "      <th>CENTRE</th>\n",
       "      <td>0.000000</td>\n",
       "      <td>2.571612e+06</td>\n",
       "      <td>100.000000</td>\n",
       "    </tr>\n",
       "    <tr>\n",
       "      <th>CLUSTER</th>\n",
       "      <td>4039.154317</td>\n",
       "      <td>1.695629e+06</td>\n",
       "      <td>99.762356</td>\n",
       "    </tr>\n",
       "    <tr>\n",
       "      <th>RURAL</th>\n",
       "      <td>25748.503164</td>\n",
       "      <td>3.727947e+05</td>\n",
       "      <td>93.539344</td>\n",
       "    </tr>\n",
       "  </tbody>\n",
       "</table>\n",
       "</div>"
      ],
      "text/plain": [
       "accessed                   0             1     percent\n",
       "classification                                        \n",
       "CENTRE              0.000000  2.571612e+06  100.000000\n",
       "CLUSTER          4039.154317  1.695629e+06   99.762356\n",
       "RURAL           25748.503164  3.727947e+05   93.539344"
      ]
     },
     "execution_count": 50,
     "metadata": {},
     "output_type": "execute_result"
    }
   ],
   "source": [
    "data_p"
   ]
  }
 ],
 "metadata": {
  "kernelspec": {
   "display_name": "Python 3 (ipykernel)",
   "language": "python",
   "name": "python3"
  },
  "language_info": {
   "codemirror_mode": {
    "name": "ipython",
    "version": 3
   },
   "file_extension": ".py",
   "mimetype": "text/x-python",
   "name": "python",
   "nbconvert_exporter": "python",
   "pygments_lexer": "ipython3",
   "version": "3.8.12"
  }
 },
 "nbformat": 4,
 "nbformat_minor": 5
}
