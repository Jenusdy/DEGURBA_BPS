{
 "cells": [
  {
   "cell_type": "code",
   "execution_count": 1,
   "id": "6d7583d4",
   "metadata": {},
   "outputs": [],
   "source": [
    "\n",
    "import glob\n",
    "from google.cloud import storage\n",
    "from os.path import exists"
   ]
  },
  {
   "cell_type": "code",
   "execution_count": 2,
   "id": "a7c8ce49",
   "metadata": {},
   "outputs": [],
   "source": [
    "def upload_blob(bucket_name, source_file_name, destination_blob_name):\n",
    "    \"\"\"Uploads a file to the bucket.\"\"\"\n",
    "    storage_client = storage.Client()\n",
    "    bucket = storage_client.bucket(bucket_name)\n",
    "    blob = bucket.blob(destination_blob_name)\n",
    "\n",
    "    blob.upload_from_filename(source_file_name)\n",
    "\n",
    "    print(\n",
    "        f\"File {source_file_name} uploaded to {destination_blob_name}.\"\n",
    "    )"
   ]
  },
  {
   "cell_type": "code",
   "execution_count": 19,
   "id": "c193dfd7",
   "metadata": {},
   "outputs": [],
   "source": [
    "upload_degurba=glob.glob('data/output/1_population_density/*')"
   ]
  },
  {
   "cell_type": "code",
   "execution_count": 20,
   "id": "36859c1a",
   "metadata": {},
   "outputs": [],
   "source": [
    "upload_degurba=[i for i in upload_degurba if i.split('/')[3].split('_')[2][:2]=='76']"
   ]
  },
  {
   "cell_type": "code",
   "execution_count": 21,
   "id": "f41e5c14",
   "metadata": {},
   "outputs": [
    {
     "name": "stdout",
     "output_type": "stream",
     "text": [
      "File data/output/1_population_density/grid_pop_7606_1km_w_bu.gpkg uploaded to Degree of Urbanisation/PopDens/grid_pop_7606_1km_w_bu.gpkg.\n",
      "File data/output/1_population_density/grid_pop_7603_1km.tif uploaded to Degree of Urbanisation/PopDens/grid_pop_7603_1km.tif.\n",
      "File data/output/1_population_density/grid_pop_7605_1km.tif uploaded to Degree of Urbanisation/PopDens/grid_pop_7605_1km.tif.\n",
      "File data/output/1_population_density/grid_pop_7601_1km.tif uploaded to Degree of Urbanisation/PopDens/grid_pop_7601_1km.tif.\n",
      "File data/output/1_population_density/grid_pop_7602_1km.tif uploaded to Degree of Urbanisation/PopDens/grid_pop_7602_1km.tif.\n",
      "File data/output/1_population_density/grid_pop_7605_100m.gpkg uploaded to Degree of Urbanisation/PopDens/grid_pop_7605_100m.gpkg.\n",
      "File data/output/1_population_density/grid_pop_7603_100m.gpkg uploaded to Degree of Urbanisation/PopDens/grid_pop_7603_100m.gpkg.\n",
      "File data/output/1_population_density/grid_pop_7604_100m.gpkg uploaded to Degree of Urbanisation/PopDens/grid_pop_7604_100m.gpkg.\n",
      "File data/output/1_population_density/grid_pop_7602_1km_w_bu.gpkg uploaded to Degree of Urbanisation/PopDens/grid_pop_7602_1km_w_bu.gpkg.\n",
      "File data/output/1_population_density/grid_pop_7603_1km_w_bu.gpkg uploaded to Degree of Urbanisation/PopDens/grid_pop_7603_1km_w_bu.gpkg.\n",
      "File data/output/1_population_density/grid_pop_7605_1km_w_bu.gpkg uploaded to Degree of Urbanisation/PopDens/grid_pop_7605_1km_w_bu.gpkg.\n",
      "File data/output/1_population_density/grid_pop_7602_100m.gpkg uploaded to Degree of Urbanisation/PopDens/grid_pop_7602_100m.gpkg.\n",
      "File data/output/1_population_density/grid_pop_7604_1km_w_bu.gpkg uploaded to Degree of Urbanisation/PopDens/grid_pop_7604_1km_w_bu.gpkg.\n",
      "File data/output/1_population_density/grid_pop_7606_100m.gpkg uploaded to Degree of Urbanisation/PopDens/grid_pop_7606_100m.gpkg.\n",
      "File data/output/1_population_density/grid_pop_7606_1km.tif uploaded to Degree of Urbanisation/PopDens/grid_pop_7606_1km.tif.\n",
      "File data/output/1_population_density/grid_pop_7601_100m.gpkg uploaded to Degree of Urbanisation/PopDens/grid_pop_7601_100m.gpkg.\n",
      "File data/output/1_population_density/grid_pop_7601_1km_w_bu.gpkg uploaded to Degree of Urbanisation/PopDens/grid_pop_7601_1km_w_bu.gpkg.\n",
      "File data/output/1_population_density/grid_pop_7604_1km.tif uploaded to Degree of Urbanisation/PopDens/grid_pop_7604_1km.tif.\n"
     ]
    }
   ],
   "source": [
    "for i in upload_degurba:\n",
    "    y_=i.split('/')[-1]\n",
    "    upload_blob('bps-gcp-bucket',i,'Degree of Urbanisation/PopDens/'+y_)"
   ]
  },
  {
   "cell_type": "code",
   "execution_count": 22,
   "id": "8c6e067e",
   "metadata": {},
   "outputs": [],
   "source": [
    "from google.cloud import storage\n",
    "\n",
    "client = storage.Client()\n",
    "ls_=list(client.list_blobs('bps-gcp-bucket', prefix='Degree of Urbanisation/PopDens'))\n",
    "storage_client = storage.Client()\n",
    "for i in ls_:\n",
    "    if len(str(i).split('/'))==3:\n",
    "        data_=str(i).split('/')[2].split(',')[0]\n",
    "        if (data_!='')and(exists('data/output/1_5_population_density/'+data_)==False) :\n",
    "            bucket = storage_client.get_bucket('bps-gcp-bucket')\n",
    "            source_blob_name='Degree of Urbanisation/PopDens/'+data_\n",
    "            blob = bucket.blob(source_blob_name)\n",
    "            blob.download_to_filename('data/output/1_5_population_density/'+data_)"
   ]
  },
  {
   "cell_type": "code",
   "execution_count": null,
   "id": "f96c5a68",
   "metadata": {},
   "outputs": [],
   "source": []
  }
 ],
 "metadata": {
  "kernelspec": {
   "display_name": "Python 3 (ipykernel)",
   "language": "python",
   "name": "python3"
  },
  "language_info": {
   "codemirror_mode": {
    "name": "ipython",
    "version": 3
   },
   "file_extension": ".py",
   "mimetype": "text/x-python",
   "name": "python",
   "nbconvert_exporter": "python",
   "pygments_lexer": "ipython3",
   "version": "3.8.12"
  }
 },
 "nbformat": 4,
 "nbformat_minor": 5
}
