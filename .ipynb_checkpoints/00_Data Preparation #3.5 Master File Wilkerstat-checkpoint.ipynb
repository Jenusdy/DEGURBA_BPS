{
 "cells": [
  {
   "cell_type": "code",
   "execution_count": 1,
   "id": "532da49f",
   "metadata": {},
   "outputs": [],
   "source": [
    "from google.cloud import storage\n",
    "\n",
    "client = storage.Client()\n",
    "ls_=list(client.list_blobs('bps-gcp-bucket', prefix='Degree of Urbanisation/wilkerstat/'))"
   ]
  },
  {
   "cell_type": "code",
   "execution_count": 5,
   "id": "cde8be04",
   "metadata": {},
   "outputs": [
    {
     "name": "stdout",
     "output_type": "stream",
     "text": [
      "\n",
      "\n",
      "\n",
      "\n",
      "\n",
      "\n"
     ]
    }
   ],
   "source": [
    "storage_client = storage.Client()\n",
    "for i in ls_:\n",
    "    data_=str(i).split('/')[2].split(',')[0]\n",
    "    bucket = storage_client.get_bucket('bps-gcp-bucket')\n",
    "    source_blob_name='Degree of Urbanisation/wilkerstat/'+data_\n",
    "    blob = bucket.blob(source_blob_name)\n",
    "    try:\n",
    "        blob.download_to_filename('data/input/Master_Data/'+data_)\n",
    "    except:\n",
    "        print('')"
   ]
  }
 ],
 "metadata": {
  "kernelspec": {
   "display_name": "Python 3 (ipykernel)",
   "language": "python",
   "name": "python3"
  },
  "language_info": {
   "codemirror_mode": {
    "name": "ipython",
    "version": 3
   },
   "file_extension": ".py",
   "mimetype": "text/x-python",
   "name": "python",
   "nbconvert_exporter": "python",
   "pygments_lexer": "ipython3",
   "version": "3.8.12"
  }
 },
 "nbformat": 4,
 "nbformat_minor": 5
}
