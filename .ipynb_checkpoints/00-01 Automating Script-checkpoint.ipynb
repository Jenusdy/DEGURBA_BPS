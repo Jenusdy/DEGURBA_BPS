{
 "cells": [
  {
   "cell_type": "code",
   "execution_count": null,
   "id": "d281dd3d",
   "metadata": {},
   "outputs": [],
   "source": [
    "import papermill as pm\n",
    "\n",
    "#from tqdm.contrib.concurrent import process_map\n",
    "\n",
    "parameters = [{\n",
    "    \"kdprov\": \"11\"},\n",
    "    {\"kdprov\":\"12\"},\n",
    "    {\"kdprov\":\"13\"},\n",
    "    {\"kdprov\":\"14\"},\n",
    "    {\"kdprov\":\"15\"},\n",
    "    {\"kdprov\":\"16\"},\n",
    "    {\"kdprov\":\"17\"},\n",
    "    {\"kdprov\":\"18\"},\n",
    "    {\"kdprov\":\"19\"},\n",
    "    {\"kdprov\":\"21\"},\n",
    "    {\"kdprov\":\"31\"},\n",
    "    {\"kdprov\":\"32\"},\n",
    "    {\"kdprov\":\"33\"},\n",
    "    {\"kdprov\":\"34\"},\n",
    "    {\"kdprov\":\"35\"},\n",
    "    {\"kdprov\":\"36\"},\n",
    "    {\"kdprov\":\"51\"},\n",
    "    {\"kdprov\":\"52\"},\n",
    "    {\"kdprov\":\"53\"},]\n",
    "\n",
    "def run_exec(params):\n",
    "    pm.execute_notebook(\n",
    "        \"00_Data Preparation #4 Rasterize Village Map.ipynb\",\n",
    "        f\"00_Data Preparation #4-{params['kdprov']}.ipynb\",\n",
    "        parameters=params\n",
    "    )"
   ]
  },
  {
   "cell_type": "code",
   "execution_count": null,
   "id": "19b40805",
   "metadata": {},
   "outputs": [],
   "source": [
    "for params in parameters:\n",
    "    run_exec(params)"
   ]
  },
  {
   "cell_type": "code",
   "execution_count": null,
   "id": "e5f33610",
   "metadata": {},
   "outputs": [],
   "source": [
    "parameters = [{\n",
    "    \"kdprov\": \"61\"},\n",
    "    {\"kdprov\":\"62\"},\n",
    "    {\"kdprov\":\"63\"},\n",
    "    {\"kdprov\":\"64\"},\n",
    "    {\"kdprov\":\"65\"},\n",
    "    {\"kdprov\":\"71\"},\n",
    "    {\"kdprov\":\"72\"},\n",
    "    {\"kdprov\":\"73\"},\n",
    "    {\"kdprov\":\"74\"},\n",
    "    {\"kdprov\":\"75\"},\n",
    "    {\"kdprov\":\"76\"},\n",
    "    {\"kdprov\":\"81\"},\n",
    "    {\"kdprov\":\"82\"},\n",
    "    {\"kdprov\":\"91\"},\n",
    "    {\"kdprov\":\"94\"}]\n",
    "for params in parameters:\n",
    "    run_exec(params)"
   ]
  },
  {
   "cell_type": "code",
   "execution_count": null,
   "id": "e0e49057",
   "metadata": {},
   "outputs": [
    {
     "data": {
      "application/vnd.jupyter.widget-view+json": {
       "model_id": "e2bfbdb13f2a4e32a3f4c0347f437c6d",
       "version_major": 2,
       "version_minor": 0
      },
      "text/plain": [
       "Executing:   0%|          | 0/9 [00:00<?, ?cell/s]"
      ]
     },
     "metadata": {},
     "output_type": "display_data"
    },
    {
     "data": {
      "application/vnd.jupyter.widget-view+json": {
       "model_id": "d5b2013ab4a24f0a89c98112951fb64d",
       "version_major": 2,
       "version_minor": 0
      },
      "text/plain": [
       "Executing:   0%|          | 0/8 [00:00<?, ?cell/s]"
      ]
     },
     "metadata": {},
     "output_type": "display_data"
    }
   ],
   "source": [
    "import papermill as pm\n",
    "parameters = [\n",
    "    #{\"kdprov\": \"11\"},\n",
    "    #{\"kdprov\":\"12\"},\n",
    "    #{\"kdprov\":\"13\"},\n",
    "    #{\"kdprov\":\"14\"},\n",
    "    #{\"kdprov\":\"15\"},\n",
    "    #{\"kdprov\":\"16\"},\n",
    "    #{\"kdprov\":\"17\"},\n",
    "    #{\"kdprov\":\"18\"},\n",
    "    #{\"kdprov\":\"19\"},\n",
    "    #{\"kdprov\":\"21\"},\n",
    "    #{\"kdprov\":\"31\"},\n",
    "    #{\"kdprov\":\"32\"},\n",
    "    #{\"kdprov\":\"33\"},\n",
    "    #{\"kdprov\":\"34\"},\n",
    "    #{\"kdprov\":\"35\"},\n",
    "    #{\"kdprov\":\"36\"},\n",
    "    #{\"kdprov\":\"51\"},\n",
    "    #{\"kdprov\":\"52\"},\n",
    "    #{\"kdprov\":\"53\"},\n",
    "    #{\"kdprov\":\"61\"},\n",
    "    #{\"kdprov\":\"62\"},\n",
    "    #{\"kdprov\":\"63\"},\n",
    "    #{\"kdprov\":\"64\"},\n",
    "    #{\"kdprov\":\"65\"},\n",
    "    #{\"kdprov\":\"71\"},\n",
    "    #{\"kdprov\":\"72\"},\n",
    "    #{\"kdprov\":\"73\"},\n",
    "    #{\"kdprov\":\"74\"},\n",
    "    #{\"kdprov\":\"75\"},\n",
    "    #{\"kdprov\":\"76\"},\n",
    "    #{\"kdprov\":\"81\"},\n",
    "    #{\"kdprov\":\"82\"},\n",
    "    #{\"kdprov\":\"91\"},\n",
    "    {\"kdprov\":\"94\"}\n",
    "    ]\n",
    "def run_exec(params):\n",
    "    pm.execute_notebook(\n",
    "        \"01_Population_Density #1 Preparing for 100m By KABKOTA.ipynb\",\n",
    "        f\"01_Population Density #1-{params['kdprov']}.ipynb\",\n",
    "        parameters=params\n",
    "    )\n",
    "    pm.execute_notebook(\n",
    "        \"01_Population_Density #2 Resampling_to1km and Calculate BU Percentage-By Kabkota Rev.ipynb\",\n",
    "        f\"01_Population Density #2-{params['kdprov']}.ipynb\",\n",
    "        parameters=params\n",
    "    )\n",
    "for params in parameters:\n",
    "    run_exec(params)"
   ]
  }
 ],
 "metadata": {
  "kernelspec": {
   "display_name": "Python 3 (ipykernel)",
   "language": "python",
   "name": "python3"
  },
  "language_info": {
   "codemirror_mode": {
    "name": "ipython",
    "version": 3
   },
   "file_extension": ".py",
   "mimetype": "text/x-python",
   "name": "python",
   "nbconvert_exporter": "python",
   "pygments_lexer": "ipython3",
   "version": "3.8.12"
  }
 },
 "nbformat": 4,
 "nbformat_minor": 5
}
