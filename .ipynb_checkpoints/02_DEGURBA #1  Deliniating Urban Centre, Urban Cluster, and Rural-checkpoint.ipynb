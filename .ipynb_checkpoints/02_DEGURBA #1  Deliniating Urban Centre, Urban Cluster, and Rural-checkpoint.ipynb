{
 "cells": [
  {
   "cell_type": "code",
   "execution_count": 1,
   "id": "a1f90264",
   "metadata": {},
   "outputs": [
    {
     "name": "stderr",
     "output_type": "stream",
     "text": [
      "/home/jupyter-peta_admin/.local/lib/python3.8/site-packages/geopandas/_compat.py:112: UserWarning: The Shapely GEOS version (3.10.2-CAPI-1.16.0) is incompatible with the GEOS version PyGEOS was compiled with (3.10.1-CAPI-1.16.0). Conversions between both will be slow.\n",
      "  warnings.warn(\n"
     ]
    }
   ],
   "source": [
    "import geopandas as gpd"
   ]
  },
  {
   "cell_type": "code",
   "execution_count": 3,
   "id": "43ef069e",
   "metadata": {},
   "outputs": [],
   "source": [
    "nama_file=\"00_fin_pulau_Bali_finalized.gpkg\""
   ]
  },
  {
   "cell_type": "code",
   "execution_count": 4,
   "id": "9a106f5a",
   "metadata": {},
   "outputs": [],
   "source": [
    "data_gpd=gpd.read_file(\"data/output/1_5_population_density/\"+nama_file\n",
    "                      ).reset_index()"
   ]
  },
  {
   "cell_type": "code",
   "execution_count": 5,
   "id": "4a9b77c1",
   "metadata": {},
   "outputs": [],
   "source": [
    "data_gpd['Name']=data_gpd.index.astype(str).str.zfill(12)"
   ]
  },
  {
   "cell_type": "code",
   "execution_count": 6,
   "id": "bad3427b",
   "metadata": {},
   "outputs": [],
   "source": [
    "##Check cluster centre\n",
    "data_cl_centre=data_gpd.query('pop>=1500')"
   ]
  },
  {
   "cell_type": "code",
   "execution_count": 7,
   "id": "15100251",
   "metadata": {},
   "outputs": [],
   "source": [
    "from pysal.lib import weights"
   ]
  },
  {
   "cell_type": "code",
   "execution_count": 8,
   "id": "6705061a",
   "metadata": {},
   "outputs": [
    {
     "name": "stderr",
     "output_type": "stream",
     "text": [
      "/home/jupyter-peta_admin/.local/lib/python3.8/site-packages/libpysal/weights/weights.py:172: UserWarning: The weights matrix is not fully connected: \n",
      " There are 202 disconnected components.\n",
      " There are 109 islands with ids: 4, 5, 6, 7, 13, 20, 21, 22, 26, 30, 52, 53, 54, 66, 68, 71, 72, 78, 81, 88, 91, 92, 97, 100, 101, 102, 103, 105, 106, 107, 109, 110, 113, 115, 117, 118, 119, 132, 135, 145, 184, 238, 298, 299, 358, 359, 363, 388, 391, 392, 393, 417, 419, 423, 442, 467, 468, 469, 496, 521, 539, 553, 557, 558, 563, 573, 575, 589, 600, 603, 610, 614, 615, 626, 627, 657, 658, 667, 680, 683, 684, 698, 701, 706, 707, 708, 709, 727, 728, 738, 774, 781, 782, 784, 785, 790, 791, 821, 826, 827, 828, 832, 833, 837, 838, 853, 862, 879, 880.\n",
      "  warnings.warn(message)\n",
      "/home/jupyter-peta_admin/.local/lib/python3.8/site-packages/geopandas/geodataframe.py:1456: SettingWithCopyWarning: \n",
      "A value is trying to be set on a copy of a slice from a DataFrame.\n",
      "Try using .loc[row_indexer,col_indexer] = value instead\n",
      "\n",
      "See the caveats in the documentation: https://pandas.pydata.org/pandas-docs/stable/user_guide/indexing.html#returning-a-view-versus-a-copy\n",
      "  super().__setitem__(key, value)\n"
     ]
    }
   ],
   "source": [
    "wr = weights.contiguity.Rook.from_dataframe(data_cl_centre)\n",
    "data_cl_centre['cluster_label']=wr.component_labels"
   ]
  },
  {
   "cell_type": "code",
   "execution_count": 9,
   "id": "86c43451",
   "metadata": {},
   "outputs": [],
   "source": [
    "import pandas as pd"
   ]
  },
  {
   "cell_type": "code",
   "execution_count": 10,
   "id": "7fddfb84",
   "metadata": {},
   "outputs": [],
   "source": [
    "tab_pop_u_centre_cand=pd.pivot_table(data_cl_centre,\n",
    "                                     index='cluster_label',values='pop',aggfunc='sum')"
   ]
  },
  {
   "cell_type": "code",
   "execution_count": 11,
   "id": "b678b19b",
   "metadata": {},
   "outputs": [],
   "source": [
    "list_u_centre=tab_pop_u_centre_cand.query('pop>50000').reset_index().cluster_label.tolist()"
   ]
  },
  {
   "cell_type": "code",
   "execution_count": 12,
   "id": "7b46de57",
   "metadata": {},
   "outputs": [],
   "source": [
    "u_centre=data_cl_centre.query('cluster_label in @list_u_centre')"
   ]
  },
  {
   "cell_type": "code",
   "execution_count": 13,
   "id": "e6bfcd86",
   "metadata": {},
   "outputs": [],
   "source": [
    "data_gpd['is_U_CENTRE']=data_gpd.Name.apply(lambda y: 1 if y in u_centre.Name.tolist() else 0)"
   ]
  },
  {
   "cell_type": "code",
   "execution_count": 14,
   "id": "73021115",
   "metadata": {},
   "outputs": [
    {
     "name": "stdout",
     "output_type": "stream",
     "text": [
      "N GRID WITH URBAN CENTRE: 444\n"
     ]
    },
    {
     "name": "stderr",
     "output_type": "stream",
     "text": [
      "/home/jupyter-peta_admin/.local/lib/python3.8/site-packages/libpysal/weights/weights.py:172: UserWarning: The weights matrix is not fully connected: \n",
      " There are 3 disconnected components.\n",
      " There is 1 island with id: 5595.\n",
      "  warnings.warn(message)\n"
     ]
    },
    {
     "name": "stdout",
     "output_type": "stream",
     "text": [
      "=====================\n",
      "N GRID AFTER GAP FILLING: 514\n"
     ]
    },
    {
     "name": "stderr",
     "output_type": "stream",
     "text": [
      "/home/jupyter-peta_admin/.local/lib/python3.8/site-packages/libpysal/weights/weights.py:172: UserWarning: The weights matrix is not fully connected: \n",
      " There are 3 disconnected components.\n",
      " There is 1 island with id: 5595.\n",
      "  warnings.warn(message)\n"
     ]
    },
    {
     "name": "stdout",
     "output_type": "stream",
     "text": [
      "=====================\n",
      "N GRID AFTER GAP FILLING: 530\n"
     ]
    },
    {
     "name": "stderr",
     "output_type": "stream",
     "text": [
      "/home/jupyter-peta_admin/.local/lib/python3.8/site-packages/libpysal/weights/weights.py:172: UserWarning: The weights matrix is not fully connected: \n",
      " There are 3 disconnected components.\n",
      " There is 1 island with id: 5595.\n",
      "  warnings.warn(message)\n"
     ]
    },
    {
     "name": "stdout",
     "output_type": "stream",
     "text": [
      "=====================\n",
      "N GRID AFTER GAP FILLING: 539\n"
     ]
    },
    {
     "name": "stderr",
     "output_type": "stream",
     "text": [
      "/home/jupyter-peta_admin/.local/lib/python3.8/site-packages/libpysal/weights/weights.py:172: UserWarning: The weights matrix is not fully connected: \n",
      " There are 3 disconnected components.\n",
      " There is 1 island with id: 5595.\n",
      "  warnings.warn(message)\n"
     ]
    },
    {
     "name": "stdout",
     "output_type": "stream",
     "text": [
      "=====================\n",
      "N GRID AFTER GAP FILLING: 544\n"
     ]
    },
    {
     "name": "stderr",
     "output_type": "stream",
     "text": [
      "/home/jupyter-peta_admin/.local/lib/python3.8/site-packages/libpysal/weights/weights.py:172: UserWarning: The weights matrix is not fully connected: \n",
      " There are 3 disconnected components.\n",
      " There is 1 island with id: 5595.\n",
      "  warnings.warn(message)\n"
     ]
    },
    {
     "name": "stdout",
     "output_type": "stream",
     "text": [
      "=====================\n",
      "N GRID AFTER GAP FILLING: 545\n"
     ]
    },
    {
     "name": "stderr",
     "output_type": "stream",
     "text": [
      "/home/jupyter-peta_admin/.local/lib/python3.8/site-packages/libpysal/weights/weights.py:172: UserWarning: The weights matrix is not fully connected: \n",
      " There are 3 disconnected components.\n",
      " There is 1 island with id: 5595.\n",
      "  warnings.warn(message)\n"
     ]
    },
    {
     "name": "stdout",
     "output_type": "stream",
     "text": [
      "=====================\n",
      "N GRID AFTER GAP FILLING: 546\n"
     ]
    },
    {
     "name": "stderr",
     "output_type": "stream",
     "text": [
      "/home/jupyter-peta_admin/.local/lib/python3.8/site-packages/libpysal/weights/weights.py:172: UserWarning: The weights matrix is not fully connected: \n",
      " There are 3 disconnected components.\n",
      " There is 1 island with id: 5595.\n",
      "  warnings.warn(message)\n"
     ]
    },
    {
     "name": "stdout",
     "output_type": "stream",
     "text": [
      "=====================\n",
      "N GRID AFTER GAP FILLING: 547\n"
     ]
    },
    {
     "name": "stderr",
     "output_type": "stream",
     "text": [
      "/home/jupyter-peta_admin/.local/lib/python3.8/site-packages/libpysal/weights/weights.py:172: UserWarning: The weights matrix is not fully connected: \n",
      " There are 3 disconnected components.\n",
      " There is 1 island with id: 5595.\n",
      "  warnings.warn(message)\n"
     ]
    },
    {
     "name": "stdout",
     "output_type": "stream",
     "text": [
      "=====================\n",
      "N GRID AFTER GAP FILLING: 548\n"
     ]
    },
    {
     "name": "stderr",
     "output_type": "stream",
     "text": [
      "/home/jupyter-peta_admin/.local/lib/python3.8/site-packages/libpysal/weights/weights.py:172: UserWarning: The weights matrix is not fully connected: \n",
      " There are 3 disconnected components.\n",
      " There is 1 island with id: 5595.\n",
      "  warnings.warn(message)\n"
     ]
    },
    {
     "name": "stdout",
     "output_type": "stream",
     "text": [
      "=====================\n",
      "N GRID AFTER GAP FILLING: 548\n",
      "==================\n",
      "N GRID COMPLETED AFTER GAP FILLING 548\n"
     ]
    }
   ],
   "source": [
    "#Filling gap of urbancentre => check 8 contiguity (queen)\n",
    "init_u_centre=data_gpd.is_U_CENTRE.sum()\n",
    "u_centre_up=0\n",
    "print('N GRID WITH URBAN CENTRE:',init_u_centre)\n",
    "while u_centre_up!=init_u_centre:\n",
    "    init_u_centre=data_gpd.is_U_CENTRE.sum()\n",
    "    wr = weights.contiguity.Queen.from_dataframe(data_gpd)\n",
    "    data_gpd['neighbors']=wr.neighbors.values()\n",
    "    temp=data_gpd.copy()\n",
    "    for index, row in data_gpd.iterrows():\n",
    "        if row['is_U_CENTRE']!=1:\n",
    "            y_urbancentre=0\n",
    "            if len(row['neighbors'])>4:\n",
    "                for y in row['neighbors']:\n",
    "                    if temp.loc[y,'is_U_CENTRE']==1:\n",
    "                        y_urbancentre+=1\n",
    "                if y_urbancentre>4:\n",
    "                    data_gpd.at[index,'is_U_CENTRE']=1\n",
    "    u_centre_up=data_gpd.is_U_CENTRE.sum()\n",
    "    print('=====================')\n",
    "    print('N GRID AFTER GAP FILLING:', u_centre_up)\n",
    "print('==================')\n",
    "u_centre=data_gpd.is_U_CENTRE.sum()\n",
    "print('N GRID COMPLETED AFTER GAP FILLING',u_centre)"
   ]
  },
  {
   "cell_type": "code",
   "execution_count": 15,
   "id": "7708fa75",
   "metadata": {},
   "outputs": [],
   "source": [
    "data_gpd['is_U_CENTRE_w_BU']=data_gpd.apply(lambda y:1 if (y.p_builtup>0.5)or(y.is_U_CENTRE==1) else 0,axis=1)"
   ]
  },
  {
   "cell_type": "code",
   "execution_count": 16,
   "id": "3618694e",
   "metadata": {},
   "outputs": [],
   "source": [
    "data_gpd=data_gpd[['Name','pop','geometry','p_builtup','is_U_CENTRE_w_BU']]"
   ]
  },
  {
   "cell_type": "code",
   "execution_count": 17,
   "id": "e4153436",
   "metadata": {},
   "outputs": [
    {
     "data": {
      "text/html": [
       "<div>\n",
       "<style scoped>\n",
       "    .dataframe tbody tr th:only-of-type {\n",
       "        vertical-align: middle;\n",
       "    }\n",
       "\n",
       "    .dataframe tbody tr th {\n",
       "        vertical-align: top;\n",
       "    }\n",
       "\n",
       "    .dataframe thead th {\n",
       "        text-align: right;\n",
       "    }\n",
       "</style>\n",
       "<table border=\"1\" class=\"dataframe\">\n",
       "  <thead>\n",
       "    <tr style=\"text-align: right;\">\n",
       "      <th></th>\n",
       "      <th>Name</th>\n",
       "      <th>pop</th>\n",
       "      <th>geometry</th>\n",
       "      <th>p_builtup</th>\n",
       "      <th>is_U_CENTRE_w_BU</th>\n",
       "    </tr>\n",
       "  </thead>\n",
       "  <tbody>\n",
       "    <tr>\n",
       "      <th>0</th>\n",
       "      <td>0000000</td>\n",
       "      <td>1243.0</td>\n",
       "      <td>POLYGON ((11396995.601 -1008673.612, 11397995....</td>\n",
       "      <td>0.059174</td>\n",
       "      <td>0</td>\n",
       "    </tr>\n",
       "    <tr>\n",
       "      <th>1</th>\n",
       "      <td>0000001</td>\n",
       "      <td>7343.0</td>\n",
       "      <td>POLYGON ((11396995.601 -1009673.612, 11397995....</td>\n",
       "      <td>0.307061</td>\n",
       "      <td>0</td>\n",
       "    </tr>\n",
       "    <tr>\n",
       "      <th>2</th>\n",
       "      <td>0000002</td>\n",
       "      <td>3497.0</td>\n",
       "      <td>POLYGON ((11396995.601 -1010673.612, 11397995....</td>\n",
       "      <td>0.157641</td>\n",
       "      <td>0</td>\n",
       "    </tr>\n",
       "    <tr>\n",
       "      <th>3</th>\n",
       "      <td>0000003</td>\n",
       "      <td>248.0</td>\n",
       "      <td>POLYGON ((11396995.601 -1011673.612, 11397995....</td>\n",
       "      <td>0.009950</td>\n",
       "      <td>0</td>\n",
       "    </tr>\n",
       "    <tr>\n",
       "      <th>4</th>\n",
       "      <td>0000004</td>\n",
       "      <td>37.0</td>\n",
       "      <td>POLYGON ((11396995.601 -1012673.612, 11397995....</td>\n",
       "      <td>0.002261</td>\n",
       "      <td>0</td>\n",
       "    </tr>\n",
       "    <tr>\n",
       "      <th>...</th>\n",
       "      <td>...</td>\n",
       "      <td>...</td>\n",
       "      <td>...</td>\n",
       "      <td>...</td>\n",
       "      <td>...</td>\n",
       "    </tr>\n",
       "    <tr>\n",
       "      <th>5895</th>\n",
       "      <td>0005895</td>\n",
       "      <td>863.0</td>\n",
       "      <td>POLYGON ((11518995.601 -1038673.612, 11519995....</td>\n",
       "      <td>0.026652</td>\n",
       "      <td>0</td>\n",
       "    </tr>\n",
       "    <tr>\n",
       "      <th>5896</th>\n",
       "      <td>0005896</td>\n",
       "      <td>0.0</td>\n",
       "      <td>POLYGON ((11519995.601 -1034673.612, 11520995....</td>\n",
       "      <td>0.033995</td>\n",
       "      <td>0</td>\n",
       "    </tr>\n",
       "    <tr>\n",
       "      <th>5897</th>\n",
       "      <td>0005897</td>\n",
       "      <td>0.0</td>\n",
       "      <td>POLYGON ((11519995.601 -1035673.612, 11520995....</td>\n",
       "      <td>0.024955</td>\n",
       "      <td>0</td>\n",
       "    </tr>\n",
       "    <tr>\n",
       "      <th>5898</th>\n",
       "      <td>0005898</td>\n",
       "      <td>0.0</td>\n",
       "      <td>POLYGON ((11519995.601 -1036673.612, 11520995....</td>\n",
       "      <td>0.033803</td>\n",
       "      <td>0</td>\n",
       "    </tr>\n",
       "    <tr>\n",
       "      <th>5899</th>\n",
       "      <td>0005899</td>\n",
       "      <td>0.0</td>\n",
       "      <td>POLYGON ((11519995.601 -1037673.612, 11520995....</td>\n",
       "      <td>0.012341</td>\n",
       "      <td>0</td>\n",
       "    </tr>\n",
       "  </tbody>\n",
       "</table>\n",
       "<p>5900 rows × 5 columns</p>\n",
       "</div>"
      ],
      "text/plain": [
       "         Name     pop                                           geometry  \\\n",
       "0     0000000  1243.0  POLYGON ((11396995.601 -1008673.612, 11397995....   \n",
       "1     0000001  7343.0  POLYGON ((11396995.601 -1009673.612, 11397995....   \n",
       "2     0000002  3497.0  POLYGON ((11396995.601 -1010673.612, 11397995....   \n",
       "3     0000003   248.0  POLYGON ((11396995.601 -1011673.612, 11397995....   \n",
       "4     0000004    37.0  POLYGON ((11396995.601 -1012673.612, 11397995....   \n",
       "...       ...     ...                                                ...   \n",
       "5895  0005895   863.0  POLYGON ((11518995.601 -1038673.612, 11519995....   \n",
       "5896  0005896     0.0  POLYGON ((11519995.601 -1034673.612, 11520995....   \n",
       "5897  0005897     0.0  POLYGON ((11519995.601 -1035673.612, 11520995....   \n",
       "5898  0005898     0.0  POLYGON ((11519995.601 -1036673.612, 11520995....   \n",
       "5899  0005899     0.0  POLYGON ((11519995.601 -1037673.612, 11520995....   \n",
       "\n",
       "      p_builtup  is_U_CENTRE_w_BU  \n",
       "0      0.059174                 0  \n",
       "1      0.307061                 0  \n",
       "2      0.157641                 0  \n",
       "3      0.009950                 0  \n",
       "4      0.002261                 0  \n",
       "...         ...               ...  \n",
       "5895   0.026652                 0  \n",
       "5896   0.033995                 0  \n",
       "5897   0.024955                 0  \n",
       "5898   0.033803                 0  \n",
       "5899   0.012341                 0  \n",
       "\n",
       "[5900 rows x 5 columns]"
      ]
     },
     "execution_count": 17,
     "metadata": {},
     "output_type": "execute_result"
    }
   ],
   "source": [
    "data_gpd"
   ]
  },
  {
   "cell_type": "code",
   "execution_count": 18,
   "id": "9961db7b",
   "metadata": {},
   "outputs": [],
   "source": [
    "data_u_cluster=data_gpd.query('is_U_CENTRE_w_BU!=1').query('pop>=300')"
   ]
  },
  {
   "cell_type": "code",
   "execution_count": 19,
   "id": "41e2def7",
   "metadata": {},
   "outputs": [
    {
     "name": "stderr",
     "output_type": "stream",
     "text": [
      "/home/jupyter-peta_admin/.local/lib/python3.8/site-packages/libpysal/weights/weights.py:172: UserWarning: The weights matrix is not fully connected: \n",
      " There are 70 disconnected components.\n",
      " There are 29 islands with ids: 4, 147, 185, 310, 340, 342, 354, 395, 396, 550, 582, 611, 682, 779, 802, 899, 1000, 1103, 1150, 1339, 1523, 1546, 1783, 1882, 1946, 1983, 2004, 2027, 2224.\n",
      "  warnings.warn(message)\n"
     ]
    }
   ],
   "source": [
    "wr = weights.contiguity.Queen.from_dataframe(data_u_cluster)\n",
    "data_u_cluster['cluster_label']=wr.component_labels"
   ]
  },
  {
   "cell_type": "code",
   "execution_count": 20,
   "id": "c50e2246",
   "metadata": {},
   "outputs": [],
   "source": [
    "tab_pop_u_cluster_cand=pd.pivot_table(data_u_cluster,\n",
    "                                     index='cluster_label',values='pop',aggfunc='sum')\n",
    "list_u_cluster=tab_pop_u_cluster_cand.query('pop>=5000').reset_index().cluster_label.tolist()"
   ]
  },
  {
   "cell_type": "code",
   "execution_count": 21,
   "id": "915c615f",
   "metadata": {},
   "outputs": [],
   "source": [
    "u_cluster=data_u_cluster.query('cluster_label in @list_u_cluster')"
   ]
  },
  {
   "cell_type": "code",
   "execution_count": 22,
   "id": "d153b17c",
   "metadata": {},
   "outputs": [],
   "source": [
    "data_gpd['is_U_CLUSTER']=data_gpd.Name.apply(lambda y: 1 if y in u_cluster.Name.tolist() else 0)"
   ]
  },
  {
   "cell_type": "code",
   "execution_count": 23,
   "id": "c571bb92",
   "metadata": {},
   "outputs": [],
   "source": [
    "data_gpd['classification']=data_gpd.apply(lambda y: 'CENTRE' \n",
    "                                          if y.is_U_CENTRE_w_BU==1 else ('CLUSTER' \n",
    "                                                                         if y.is_U_CLUSTER==1 else 'RURAL'),axis=1)"
   ]
  },
  {
   "cell_type": "code",
   "execution_count": 24,
   "id": "947e0092",
   "metadata": {},
   "outputs": [
    {
     "data": {
      "text/plain": [
       "array(['CLUSTER', 'RURAL', 'CENTRE'], dtype=object)"
      ]
     },
     "execution_count": 24,
     "metadata": {},
     "output_type": "execute_result"
    }
   ],
   "source": [
    "data_gpd.classification.unique()"
   ]
  },
  {
   "cell_type": "code",
   "execution_count": 26,
   "id": "9249e967",
   "metadata": {},
   "outputs": [],
   "source": [
    "nmdegurba_=nama_file.replace(\"00_fin_pulau_\",\"\").replace(\"_finalized.gpkg\",\"\")"
   ]
  },
  {
   "cell_type": "code",
   "execution_count": 28,
   "id": "494fa824",
   "metadata": {},
   "outputs": [],
   "source": [
    "data_gpd.to_file('data/output/2_grid_degurba/degurba_'+nmdegurba_+'_00.gpkg',driver='GPKG')"
   ]
  }
 ],
 "metadata": {
  "kernelspec": {
   "display_name": "Python 3 (ipykernel)",
   "language": "python",
   "name": "python3"
  },
  "language_info": {
   "codemirror_mode": {
    "name": "ipython",
    "version": 3
   },
   "file_extension": ".py",
   "mimetype": "text/x-python",
   "name": "python",
   "nbconvert_exporter": "python",
   "pygments_lexer": "ipython3",
   "version": "3.8.12"
  }
 },
 "nbformat": 4,
 "nbformat_minor": 5
}
