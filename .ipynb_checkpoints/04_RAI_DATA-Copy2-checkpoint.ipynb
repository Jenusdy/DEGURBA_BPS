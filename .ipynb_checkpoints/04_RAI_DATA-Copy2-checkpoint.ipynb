{
 "cells": [
  {
   "cell_type": "code",
   "execution_count": 2,
   "id": "c5ee8efd",
   "metadata": {},
   "outputs": [],
   "source": [
    "from pyrosm import OSM\n",
    "from pyrosm import get_data\n",
    "\n",
    "import geopandas as gpd\n",
    "import pandas as pd"
   ]
  },
  {
   "cell_type": "code",
   "execution_count": 3,
   "id": "19981c62",
   "metadata": {},
   "outputs": [],
   "source": [
    "jalan=gpd.read_file('jalan_nusra.gpkg')"
   ]
  },
  {
   "cell_type": "code",
   "execution_count": 4,
   "id": "04d30971",
   "metadata": {},
   "outputs": [
    {
     "data": {
      "text/html": [
       "<div>\n",
       "<style scoped>\n",
       "    .dataframe tbody tr th:only-of-type {\n",
       "        vertical-align: middle;\n",
       "    }\n",
       "\n",
       "    .dataframe tbody tr th {\n",
       "        vertical-align: top;\n",
       "    }\n",
       "\n",
       "    .dataframe thead th {\n",
       "        text-align: right;\n",
       "    }\n",
       "</style>\n",
       "<table border=\"1\" class=\"dataframe\">\n",
       "  <thead>\n",
       "    <tr style=\"text-align: right;\">\n",
       "      <th></th>\n",
       "      <th>access</th>\n",
       "      <th>area</th>\n",
       "      <th>bicycle</th>\n",
       "      <th>bicycle_road</th>\n",
       "      <th>bridge</th>\n",
       "      <th>cycleway</th>\n",
       "      <th>est_width</th>\n",
       "      <th>foot</th>\n",
       "      <th>footway</th>\n",
       "      <th>highway</th>\n",
       "      <th>...</th>\n",
       "      <th>tracktype</th>\n",
       "      <th>tunnel</th>\n",
       "      <th>width</th>\n",
       "      <th>id</th>\n",
       "      <th>timestamp</th>\n",
       "      <th>version</th>\n",
       "      <th>tags</th>\n",
       "      <th>osm_type</th>\n",
       "      <th>length</th>\n",
       "      <th>geometry</th>\n",
       "    </tr>\n",
       "  </thead>\n",
       "  <tbody>\n",
       "    <tr>\n",
       "      <th>0</th>\n",
       "      <td>None</td>\n",
       "      <td>None</td>\n",
       "      <td>None</td>\n",
       "      <td>None</td>\n",
       "      <td>None</td>\n",
       "      <td>None</td>\n",
       "      <td>None</td>\n",
       "      <td>None</td>\n",
       "      <td>None</td>\n",
       "      <td>secondary</td>\n",
       "      <td>...</td>\n",
       "      <td>None</td>\n",
       "      <td>None</td>\n",
       "      <td>None</td>\n",
       "      <td>23367072</td>\n",
       "      <td>1524637690</td>\n",
       "      <td>9</td>\n",
       "      <td>None</td>\n",
       "      <td>way</td>\n",
       "      <td>250.0</td>\n",
       "      <td>MULTILINESTRING ((115.22755 -8.79635, 115.2275...</td>\n",
       "    </tr>\n",
       "    <tr>\n",
       "      <th>1</th>\n",
       "      <td>None</td>\n",
       "      <td>None</td>\n",
       "      <td>None</td>\n",
       "      <td>None</td>\n",
       "      <td>None</td>\n",
       "      <td>None</td>\n",
       "      <td>None</td>\n",
       "      <td>None</td>\n",
       "      <td>None</td>\n",
       "      <td>tertiary</td>\n",
       "      <td>...</td>\n",
       "      <td>None</td>\n",
       "      <td>None</td>\n",
       "      <td>None</td>\n",
       "      <td>23367100</td>\n",
       "      <td>1638778902</td>\n",
       "      <td>32</td>\n",
       "      <td>{\"postal_code\":\"80362\"}</td>\n",
       "      <td>way</td>\n",
       "      <td>895.0</td>\n",
       "      <td>MULTILINESTRING ((115.18774 -8.78596, 115.1877...</td>\n",
       "    </tr>\n",
       "    <tr>\n",
       "      <th>2</th>\n",
       "      <td>None</td>\n",
       "      <td>None</td>\n",
       "      <td>None</td>\n",
       "      <td>None</td>\n",
       "      <td>None</td>\n",
       "      <td>None</td>\n",
       "      <td>None</td>\n",
       "      <td>None</td>\n",
       "      <td>None</td>\n",
       "      <td>residential</td>\n",
       "      <td>...</td>\n",
       "      <td>None</td>\n",
       "      <td>None</td>\n",
       "      <td>None</td>\n",
       "      <td>23367103</td>\n",
       "      <td>1568446502</td>\n",
       "      <td>12</td>\n",
       "      <td>None</td>\n",
       "      <td>way</td>\n",
       "      <td>220.0</td>\n",
       "      <td>MULTILINESTRING ((115.19325 -8.79023, 115.1932...</td>\n",
       "    </tr>\n",
       "    <tr>\n",
       "      <th>3</th>\n",
       "      <td>None</td>\n",
       "      <td>None</td>\n",
       "      <td>None</td>\n",
       "      <td>None</td>\n",
       "      <td>None</td>\n",
       "      <td>None</td>\n",
       "      <td>None</td>\n",
       "      <td>None</td>\n",
       "      <td>None</td>\n",
       "      <td>residential</td>\n",
       "      <td>...</td>\n",
       "      <td>None</td>\n",
       "      <td>None</td>\n",
       "      <td>None</td>\n",
       "      <td>23367106</td>\n",
       "      <td>1586758349</td>\n",
       "      <td>15</td>\n",
       "      <td>None</td>\n",
       "      <td>way</td>\n",
       "      <td>188.0</td>\n",
       "      <td>MULTILINESTRING ((115.19317 -8.78208, 115.1931...</td>\n",
       "    </tr>\n",
       "    <tr>\n",
       "      <th>4</th>\n",
       "      <td>None</td>\n",
       "      <td>None</td>\n",
       "      <td>None</td>\n",
       "      <td>None</td>\n",
       "      <td>None</td>\n",
       "      <td>None</td>\n",
       "      <td>None</td>\n",
       "      <td>None</td>\n",
       "      <td>None</td>\n",
       "      <td>residential</td>\n",
       "      <td>...</td>\n",
       "      <td>None</td>\n",
       "      <td>None</td>\n",
       "      <td>None</td>\n",
       "      <td>23367107</td>\n",
       "      <td>1637220100</td>\n",
       "      <td>12</td>\n",
       "      <td>None</td>\n",
       "      <td>way</td>\n",
       "      <td>340.0</td>\n",
       "      <td>MULTILINESTRING ((115.19354 -8.78220, 115.1935...</td>\n",
       "    </tr>\n",
       "  </tbody>\n",
       "</table>\n",
       "<p>5 rows × 38 columns</p>\n",
       "</div>"
      ],
      "text/plain": [
       "  access  area bicycle bicycle_road bridge cycleway est_width  foot footway  \\\n",
       "0   None  None    None         None   None     None      None  None    None   \n",
       "1   None  None    None         None   None     None      None  None    None   \n",
       "2   None  None    None         None   None     None      None  None    None   \n",
       "3   None  None    None         None   None     None      None  None    None   \n",
       "4   None  None    None         None   None     None      None  None    None   \n",
       "\n",
       "       highway  ... tracktype tunnel width        id   timestamp version  \\\n",
       "0    secondary  ...      None   None  None  23367072  1524637690       9   \n",
       "1     tertiary  ...      None   None  None  23367100  1638778902      32   \n",
       "2  residential  ...      None   None  None  23367103  1568446502      12   \n",
       "3  residential  ...      None   None  None  23367106  1586758349      15   \n",
       "4  residential  ...      None   None  None  23367107  1637220100      12   \n",
       "\n",
       "                      tags osm_type length  \\\n",
       "0                     None      way  250.0   \n",
       "1  {\"postal_code\":\"80362\"}      way  895.0   \n",
       "2                     None      way  220.0   \n",
       "3                     None      way  188.0   \n",
       "4                     None      way  340.0   \n",
       "\n",
       "                                            geometry  \n",
       "0  MULTILINESTRING ((115.22755 -8.79635, 115.2275...  \n",
       "1  MULTILINESTRING ((115.18774 -8.78596, 115.1877...  \n",
       "2  MULTILINESTRING ((115.19325 -8.79023, 115.1932...  \n",
       "3  MULTILINESTRING ((115.19317 -8.78208, 115.1931...  \n",
       "4  MULTILINESTRING ((115.19354 -8.78220, 115.1935...  \n",
       "\n",
       "[5 rows x 38 columns]"
      ]
     },
     "execution_count": 4,
     "metadata": {},
     "output_type": "execute_result"
    }
   ],
   "source": [
    "jalan.head()"
   ]
  },
  {
   "cell_type": "code",
   "execution_count": 5,
   "id": "f19da02b",
   "metadata": {},
   "outputs": [
    {
     "name": "stderr",
     "output_type": "stream",
     "text": [
      "C:\\Users\\User\\Anaconda3\\envs\\pysal_env\\lib\\site-packages\\geopandas\\io\\file.py:362: FutureWarning: pandas.Int64Index is deprecated and will be removed from pandas in a future version. Use pandas.Index with the appropriate dtype instead.\n",
      "  pd.Int64Index,\n"
     ]
    }
   ],
   "source": [
    "highway_l=['secondary', 'tertiary', 'primary',\n",
    "       'trunk','motorway' ]\n",
    "surface_l=['paved', 'asphalt', 'unpaved', None,'cobblestone', \n",
    "       'paving_stones', 'gravel;asphalt', 'concrete', 'asphalt_ruts',\n",
    "       'Hotmix', 'dirt;asphalt', 'metal',\n",
    "       'sett', 'concrete:plates',\n",
    "       'compacted', 'Aspal dan Tanah',\n",
    "       'permukaan tanah dan Beton', 'Tanah dan Aspal', 'Aspal dan Beton', 'Tanah dan Beton',\n",
    "       'concrete:lanes', 'Rabat', 'Hotmix dan Tanah',\n",
    "       'paving_stones:30', 'driveway', 'unhewn_cobblestone']\n",
    "jalan.query('highway in @highway_l').query('surface in @surface_l').to_file('data_jalan_nusra.gpkg',driver='GPKG')"
   ]
  },
  {
   "cell_type": "code",
   "execution_count": null,
   "id": "9209d0f5",
   "metadata": {},
   "outputs": [],
   "source": []
  },
  {
   "cell_type": "code",
   "execution_count": 2,
   "id": "6337f5cd",
   "metadata": {},
   "outputs": [],
   "source": [
    "# Initialize the OSM parser object\n",
    "osm = OSM(\"nusa-tenggara-latest-internal.osm.pbf\")"
   ]
  },
  {
   "cell_type": "code",
   "execution_count": 3,
   "id": "c27997aa",
   "metadata": {},
   "outputs": [],
   "source": [
    "drive_net = osm.get_network(network_type=\"driving\")"
   ]
  },
  {
   "cell_type": "code",
   "execution_count": 4,
   "id": "968e40b7",
   "metadata": {},
   "outputs": [
    {
     "data": {
      "text/plain": [
       "array(['paved', 'asphalt', 'unpaved', 'cobblestone', None,\n",
       "       'paving_stones', 'gravel;asphalt', 'concrete', 'asphalt_ruts',\n",
       "       'ground', 'Hotmix', 'dirt', 'dirt;asphalt', 'gravel', 'metal',\n",
       "       'grass', 'mud', 'sand', 'sett', 'concrete:plates', 'fine_gravel',\n",
       "       'compacted', 'Aspal dan Tanah', 'pebblestone',\n",
       "       'permukaan tanah dan Beton', 'grass_paver', 'Tanah dan Aspal',\n",
       "       'Tanah', 'Aspal dan Beton', 'Tanah dan Beton',\n",
       "       'permukaan tanah dan Berbatu', 'TANAH KANCING', 'concrete:lanes',\n",
       "       'wood', 'Trotoar', 'Rabat', 'PAVING BLOK', 'Hotmix dan Tanah',\n",
       "       'paving_stones:30', 'driveway', 'Travessa_De_Ai-Kakau', 'clay',\n",
       "       'dirt/sand', 'unpaved_pathway', 'בלתי_סלול', 'unhewn_cobblestone',\n",
       "       'com', 'groun'], dtype=object)"
      ]
     },
     "execution_count": 4,
     "metadata": {},
     "output_type": "execute_result"
    }
   ],
   "source": [
    "drive_net.surface.unique()"
   ]
  },
  {
   "cell_type": "code",
   "execution_count": 5,
   "id": "dbbb7d12",
   "metadata": {},
   "outputs": [
    {
     "data": {
      "text/plain": [
       "array(['secondary', 'tertiary', 'residential', 'primary', 'service',\n",
       "       'living_street', 'unclassified', 'trunk', 'trunk_link',\n",
       "       'pedestrian', 'path', 'secondary_link', 'primary_link',\n",
       "       'tertiary_link', 'emergency_access_point', 'track', 'footway',\n",
       "       'rest_area', 'motorway', 'motorway_link', 'road', 'cycleway'],\n",
       "      dtype=object)"
      ]
     },
     "execution_count": 5,
     "metadata": {},
     "output_type": "execute_result"
    }
   ],
   "source": [
    "drive_net.highway.unique()"
   ]
  },
  {
   "cell_type": "code",
   "execution_count": 6,
   "id": "3a6cce6e",
   "metadata": {},
   "outputs": [],
   "source": [
    "drive_net.to_file('data_jalan_osm.gpkg',driver='GPKG')"
   ]
  },
  {
   "cell_type": "code",
   "execution_count": 7,
   "id": "ff966a14",
   "metadata": {},
   "outputs": [],
   "source": []
  },
  {
   "cell_type": "code",
   "execution_count": 8,
   "id": "a49adf85",
   "metadata": {},
   "outputs": [],
   "source": []
  },
  {
   "cell_type": "code",
   "execution_count": 9,
   "id": "ad7a153a",
   "metadata": {},
   "outputs": [],
   "source": [
    "gf=gpd.read_file('degurba_5300_rev_w_buitup_adjustment_3.gpkg')"
   ]
  },
  {
   "cell_type": "code",
   "execution_count": 10,
   "id": "7dbb20bd",
   "metadata": {},
   "outputs": [],
   "source": [
    "highway_=drive_net.query('highway in @highway_l').query('surface in @surface_l')"
   ]
  },
  {
   "cell_type": "code",
   "execution_count": 11,
   "id": "7a016529",
   "metadata": {},
   "outputs": [],
   "source": [
    "data_highway=highway_.overlay(gf.dissolve(),how='intersection')"
   ]
  },
  {
   "cell_type": "code",
   "execution_count": 12,
   "id": "eaed9d7d",
   "metadata": {},
   "outputs": [],
   "source": [
    "high_2km=data_highway.to_crs(3857).buffer(2000).to_crs(4326)"
   ]
  },
  {
   "cell_type": "code",
   "execution_count": 13,
   "id": "eb46f092",
   "metadata": {},
   "outputs": [],
   "source": [
    "data_highway['geometry']=high_2km"
   ]
  },
  {
   "cell_type": "code",
   "execution_count": 14,
   "id": "f64c0fa9",
   "metadata": {},
   "outputs": [
    {
     "name": "stderr",
     "output_type": "stream",
     "text": [
      "C:\\Users\\user\\.conda\\envs\\pysal_env\\lib\\site-packages\\geopandas\\geodataframe.py:1456: SettingWithCopyWarning: \n",
      "A value is trying to be set on a copy of a slice from a DataFrame.\n",
      "Try using .loc[row_indexer,col_indexer] = value instead\n",
      "\n",
      "See the caveats in the documentation: https://pandas.pydata.org/pandas-docs/stable/user_guide/indexing.html#returning-a-view-versus-a-copy\n",
      "  super().__setitem__(key, value)\n"
     ]
    }
   ],
   "source": [
    "data_jalan=data_highway[['geometry']]\n",
    "data_jalan['reg']=1"
   ]
  },
  {
   "cell_type": "code",
   "execution_count": 15,
   "id": "f5602564",
   "metadata": {},
   "outputs": [],
   "source": [
    "data_jalan.to_file('jalan_2km_53.gpkg',driver='GPKG')"
   ]
  },
  {
   "cell_type": "code",
   "execution_count": 16,
   "id": "8b22a976",
   "metadata": {},
   "outputs": [],
   "source": [
    "data_int=gpd.sjoin(gf,data_jalan,how='left',predicate='intersects')"
   ]
  },
  {
   "cell_type": "code",
   "execution_count": 17,
   "id": "e47723e3",
   "metadata": {},
   "outputs": [
    {
     "data": {
      "text/plain": [
       "array([ 1., nan])"
      ]
     },
     "execution_count": 17,
     "metadata": {},
     "output_type": "execute_result"
    }
   ],
   "source": [
    "data_int.reg.unique()"
   ]
  },
  {
   "cell_type": "code",
   "execution_count": 18,
   "id": "51249856",
   "metadata": {},
   "outputs": [],
   "source": [
    "unique_nama=data_int.query('reg==1')['Name'].unique()"
   ]
  },
  {
   "cell_type": "code",
   "execution_count": 19,
   "id": "ebf05c4e",
   "metadata": {},
   "outputs": [],
   "source": [
    "gf['accessed']=gf.Name.apply(lambda y:1 if y in unique_nama else 0)"
   ]
  },
  {
   "cell_type": "code",
   "execution_count": 20,
   "id": "6c79b2c8",
   "metadata": {},
   "outputs": [],
   "source": [
    "data_p=gf.pivot_table(index='classification',columns='accessed',values='pop_built_s2',aggfunc='sum').fillna(0)"
   ]
  },
  {
   "cell_type": "code",
   "execution_count": 21,
   "id": "efd16d1f",
   "metadata": {},
   "outputs": [],
   "source": [
    "data_p['percent']=data_p[1]*100/(data_p[0]+data_p[1])"
   ]
  },
  {
   "cell_type": "code",
   "execution_count": 22,
   "id": "c475b923",
   "metadata": {},
   "outputs": [
    {
     "data": {
      "text/html": [
       "<div>\n",
       "<style scoped>\n",
       "    .dataframe tbody tr th:only-of-type {\n",
       "        vertical-align: middle;\n",
       "    }\n",
       "\n",
       "    .dataframe tbody tr th {\n",
       "        vertical-align: top;\n",
       "    }\n",
       "\n",
       "    .dataframe thead th {\n",
       "        text-align: right;\n",
       "    }\n",
       "</style>\n",
       "<table border=\"1\" class=\"dataframe\">\n",
       "  <thead>\n",
       "    <tr style=\"text-align: right;\">\n",
       "      <th>accessed</th>\n",
       "      <th>0</th>\n",
       "      <th>1</th>\n",
       "      <th>percent</th>\n",
       "    </tr>\n",
       "    <tr>\n",
       "      <th>classification</th>\n",
       "      <th></th>\n",
       "      <th></th>\n",
       "      <th></th>\n",
       "    </tr>\n",
       "  </thead>\n",
       "  <tbody>\n",
       "    <tr>\n",
       "      <th>CENTRE</th>\n",
       "      <td>1587.229541</td>\n",
       "      <td>6.706639e+05</td>\n",
       "      <td>99.763893</td>\n",
       "    </tr>\n",
       "    <tr>\n",
       "      <th>CLUSTER</th>\n",
       "      <td>142988.889603</td>\n",
       "      <td>1.429182e+06</td>\n",
       "      <td>90.905004</td>\n",
       "    </tr>\n",
       "    <tr>\n",
       "      <th>RURAL</th>\n",
       "      <td>422199.444361</td>\n",
       "      <td>1.395673e+06</td>\n",
       "      <td>76.775084</td>\n",
       "    </tr>\n",
       "  </tbody>\n",
       "</table>\n",
       "</div>"
      ],
      "text/plain": [
       "accessed                    0             1    percent\n",
       "classification                                        \n",
       "CENTRE            1587.229541  6.706639e+05  99.763893\n",
       "CLUSTER         142988.889603  1.429182e+06  90.905004\n",
       "RURAL           422199.444361  1.395673e+06  76.775084"
      ]
     },
     "execution_count": 22,
     "metadata": {},
     "output_type": "execute_result"
    }
   ],
   "source": [
    "data_p"
   ]
  },
  {
   "cell_type": "code",
   "execution_count": 23,
   "id": "eef87171",
   "metadata": {},
   "outputs": [],
   "source": [
    "gf.to_file('rai_degurba_ntt.gpkg',driver='GPKG')"
   ]
  }
 ],
 "metadata": {
  "kernelspec": {
   "display_name": "Python 3 (ipykernel)",
   "language": "python",
   "name": "python3"
  },
  "language_info": {
   "codemirror_mode": {
    "name": "ipython",
    "version": 3
   },
   "file_extension": ".py",
   "mimetype": "text/x-python",
   "name": "python",
   "nbconvert_exporter": "python",
   "pygments_lexer": "ipython3",
   "version": "3.8.12"
  }
 },
 "nbformat": 4,
 "nbformat_minor": 5
}
