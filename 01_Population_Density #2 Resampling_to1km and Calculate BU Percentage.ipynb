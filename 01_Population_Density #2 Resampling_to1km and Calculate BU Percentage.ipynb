{
 "cells": [
  {
   "cell_type": "code",
   "execution_count": 1,
   "id": "b77d269d",
   "metadata": {},
   "outputs": [
    {
     "name": "stderr",
     "output_type": "stream",
     "text": [
      "/home/jupyter-peta_admin/.local/lib/python3.8/site-packages/geopandas/_compat.py:112: UserWarning: The Shapely GEOS version (3.10.2-CAPI-1.16.0) is incompatible with the GEOS version PyGEOS was compiled with (3.10.1-CAPI-1.16.0). Conversions between both will be slow.\n",
      "  warnings.warn(\n"
     ]
    }
   ],
   "source": [
    "import pandas as pd\n",
    "import geopandas as gpd\n",
    "import rasterio\n",
    "import rasterio.features as features\n",
    "import numpy as np\n",
    "from rasterio.enums import Resampling\n",
    "from rasterio.crs import CRS\n",
    "import itertools\n",
    "\n",
    "from shapely.geometry import box"
   ]
  },
  {
   "cell_type": "code",
   "execution_count": 2,
   "id": "1ab282b0",
   "metadata": {},
   "outputs": [],
   "source": [
    "kdprov = '51'"
   ]
  },
  {
   "cell_type": "code",
   "execution_count": 3,
   "id": "1f6ead36",
   "metadata": {},
   "outputs": [],
   "source": [
    "popdens_100m=gpd.read_file(\"data/output/1_population_density/grid_pop_\"+kdprov+\"_100m.gpkg\")"
   ]
  },
  {
   "cell_type": "code",
   "execution_count": 4,
   "id": "933d3880",
   "metadata": {},
   "outputs": [],
   "source": [
    "popdens_100m['j_pend_round']=popdens_100m.j_pend.apply(lambda y: np.round(y))"
   ]
  },
  {
   "cell_type": "code",
   "execution_count": 6,
   "id": "0b79a8a1",
   "metadata": {},
   "outputs": [],
   "source": [
    "raster = rasterio.open(r\"/vsigs/bps-gcp-bucket/Degree of Urbanisation/GHSL data/2020/prov/2020_\"+kdprov+\".tif\")\n",
    "geom_value = ((geom,value) for geom, value in zip(popdens_100m.geometry, popdens_100m['j_pend_round']))\n",
    "rasterized = features.rasterize(geom_value,\n",
    "                                out_shape = raster.shape,\n",
    "                                transform = raster.transform,\n",
    "                                all_touched = False,\n",
    "                                fill = 0,\n",
    "                                dtype = np.int32)\n",
    "with rasterio.open(\n",
    "        \"data/temp/rasterized_popdens_\"+kdprov+\"_100.tif\", \"w\",\n",
    "        driver = \"GTiff\",\n",
    "        transform = raster.transform,\n",
    "        dtype = np.int32,\n",
    "        count = 1,\n",
    "        width = raster.width,\n",
    "        height = raster.height) as dst:\n",
    "    dst.write(rasterized, indexes = 1)"
   ]
  },
  {
   "cell_type": "code",
   "execution_count": 7,
   "id": "09ad9e5c",
   "metadata": {},
   "outputs": [],
   "source": [
    "import rasterio\n",
    "from rasterio.enums import Resampling\n",
    "\n",
    "target_res = (1000, 1000)\n",
    "\n",
    "with rasterio.open(\"data/temp/rasterized_popdens_\"+kdprov+\"_100.tif\") as src:\n",
    "    data, transform = rasterio.warp.reproject(source=src.read(),\n",
    "                                src_transform=src.transform,\n",
    "                                src_crs=CRS.from_string(\"ESRI:54009\"),\n",
    "                                dst_crs=CRS.from_string(\"ESRI:54009\"),\n",
    "                                dst_nodata=0,\n",
    "                                dst_resolution=target_res,\n",
    "                                              #dtype = np.float64\n",
    "                                resampling=Resampling.sum)\n",
    "    profile = src.profile\n",
    "    profile.update(transform=transform, driver='GTiff',\n",
    "                    height=data.shape[1], width=data.shape[2])\n",
    "\n",
    "    with rasterio.open('data/output/1_population_density/grid_pop_'+kdprov+'_1km.tif', 'w', **profile) as dst:\n",
    "                    dst.write(data)"
   ]
  },
  {
   "cell_type": "code",
   "execution_count": 8,
   "id": "84c566c4",
   "metadata": {},
   "outputs": [],
   "source": [
    "with rasterio.open('data/output/1_population_density/grid_pop_'+kdprov+'_1km.tif') as dataset:\n",
    "    data = dataset.read(1)\n",
    "\n",
    "    t = dataset.transform\n",
    "    move_x = t[0]\n",
    "    move_y = t[4]\n",
    "    height = dataset.height\n",
    "    width = dataset.width \n",
    "    \n",
    "    polygons = []\n",
    "    indices = list(itertools.product(range(width), range(height)))\n",
    "    for x,y in indices:\n",
    "        x_min, y_max = t * (x,y)\n",
    "        x_max = x_min + move_x\n",
    "        y_min = y_max + move_y\n",
    "        polygons.append(box(x_min, y_min, x_max, y_max))\n",
    "        \n",
    "data_list = []\n",
    "for x,y in indices:\n",
    "    data_list.append(data[y,x])\n",
    "    \n",
    "vect_tmp = gpd.GeoDataFrame(data=data_list, geometry=polygons, columns=['DN'])\n",
    "vect_tmp.crs='ESRI:54009'\n",
    "#vect_temp=vect_tmp.loc[vect_tmp.DN > -1]\n"
   ]
  },
  {
   "cell_type": "code",
   "execution_count": 10,
   "id": "eb5844de",
   "metadata": {},
   "outputs": [],
   "source": [
    "vect_tmp.DN=vect_tmp.DN.apply(lambda y: 0 if y<=0 else y)"
   ]
  },
  {
   "cell_type": "code",
   "execution_count": 11,
   "id": "f79e73fb",
   "metadata": {},
   "outputs": [],
   "source": [
    "data_builtup=gpd.read_file(\"data/input/GHSL Data/2020/gpkg/ghs_built_\"+kdprov+\"_nonzero.shp\")#.to_crs(('ESRI:54009'))"
   ]
  },
  {
   "cell_type": "code",
   "execution_count": 12,
   "id": "ebafab85",
   "metadata": {},
   "outputs": [
    {
     "data": {
      "text/html": [
       "<div>\n",
       "<style scoped>\n",
       "    .dataframe tbody tr th:only-of-type {\n",
       "        vertical-align: middle;\n",
       "    }\n",
       "\n",
       "    .dataframe tbody tr th {\n",
       "        vertical-align: top;\n",
       "    }\n",
       "\n",
       "    .dataframe thead th {\n",
       "        text-align: right;\n",
       "    }\n",
       "</style>\n",
       "<table border=\"1\" class=\"dataframe\">\n",
       "  <thead>\n",
       "    <tr style=\"text-align: right;\">\n",
       "      <th></th>\n",
       "      <th>value</th>\n",
       "      <th>geometry</th>\n",
       "    </tr>\n",
       "  </thead>\n",
       "  <tbody>\n",
       "    <tr>\n",
       "      <th>0</th>\n",
       "      <td>2080</td>\n",
       "      <td>POLYGON ((11396700.000 -1009300.000, 11396600....</td>\n",
       "    </tr>\n",
       "    <tr>\n",
       "      <th>1</th>\n",
       "      <td>13</td>\n",
       "      <td>POLYGON ((11396700.000 -1009400.000, 11396600....</td>\n",
       "    </tr>\n",
       "    <tr>\n",
       "      <th>2</th>\n",
       "      <td>2828</td>\n",
       "      <td>POLYGON ((11396800.000 -1009000.000, 11396700....</td>\n",
       "    </tr>\n",
       "    <tr>\n",
       "      <th>3</th>\n",
       "      <td>5187</td>\n",
       "      <td>POLYGON ((11396800.000 -1009100.000, 11396700....</td>\n",
       "    </tr>\n",
       "    <tr>\n",
       "      <th>4</th>\n",
       "      <td>4795</td>\n",
       "      <td>POLYGON ((11396800.000 -1009200.000, 11396700....</td>\n",
       "    </tr>\n",
       "    <tr>\n",
       "      <th>...</th>\n",
       "      <td>...</td>\n",
       "      <td>...</td>\n",
       "    </tr>\n",
       "    <tr>\n",
       "      <th>562314</th>\n",
       "      <td>0</td>\n",
       "      <td>POLYGON ((11520200.000 -1036000.000, 11520100....</td>\n",
       "    </tr>\n",
       "    <tr>\n",
       "      <th>562315</th>\n",
       "      <td>65</td>\n",
       "      <td>POLYGON ((11520300.000 -1034400.000, 11520200....</td>\n",
       "    </tr>\n",
       "    <tr>\n",
       "      <th>562316</th>\n",
       "      <td>0</td>\n",
       "      <td>POLYGON ((11520300.000 -1034500.000, 11520200....</td>\n",
       "    </tr>\n",
       "    <tr>\n",
       "      <th>562317</th>\n",
       "      <td>27</td>\n",
       "      <td>POLYGON ((11520300.000 -1034600.000, 11520200....</td>\n",
       "    </tr>\n",
       "    <tr>\n",
       "      <th>562318</th>\n",
       "      <td>3</td>\n",
       "      <td>POLYGON ((11520300.000 -1034700.000, 11520200....</td>\n",
       "    </tr>\n",
       "  </tbody>\n",
       "</table>\n",
       "<p>562319 rows × 2 columns</p>\n",
       "</div>"
      ],
      "text/plain": [
       "        value                                           geometry\n",
       "0        2080  POLYGON ((11396700.000 -1009300.000, 11396600....\n",
       "1          13  POLYGON ((11396700.000 -1009400.000, 11396600....\n",
       "2        2828  POLYGON ((11396800.000 -1009000.000, 11396700....\n",
       "3        5187  POLYGON ((11396800.000 -1009100.000, 11396700....\n",
       "4        4795  POLYGON ((11396800.000 -1009200.000, 11396700....\n",
       "...       ...                                                ...\n",
       "562314      0  POLYGON ((11520200.000 -1036000.000, 11520100....\n",
       "562315     65  POLYGON ((11520300.000 -1034400.000, 11520200....\n",
       "562316      0  POLYGON ((11520300.000 -1034500.000, 11520200....\n",
       "562317     27  POLYGON ((11520300.000 -1034600.000, 11520200....\n",
       "562318      3  POLYGON ((11520300.000 -1034700.000, 11520200....\n",
       "\n",
       "[562319 rows x 2 columns]"
      ]
     },
     "execution_count": 12,
     "metadata": {},
     "output_type": "execute_result"
    }
   ],
   "source": [
    "data_builtup"
   ]
  },
  {
   "cell_type": "code",
   "execution_count": 13,
   "id": "7d5da906",
   "metadata": {},
   "outputs": [],
   "source": [
    "data_builtup['builtup']=data_builtup['value']"
   ]
  },
  {
   "cell_type": "code",
   "execution_count": 15,
   "id": "a4d883e5",
   "metadata": {},
   "outputs": [],
   "source": [
    "vect_=vect_tmp.reset_index()\n",
    "vect_['index_o']=vect_['index'].apply(lambda y:str(y).zfill(7))"
   ]
  },
  {
   "cell_type": "code",
   "execution_count": 16,
   "id": "6babd436",
   "metadata": {},
   "outputs": [
    {
     "name": "stderr",
     "output_type": "stream",
     "text": [
      "/home/jupyter-peta_admin/.local/lib/python3.8/site-packages/geopandas/geodataframe.py:2072: UserWarning: CRS mismatch between the CRS of left geometries and the CRS of right geometries.\n",
      "Use `to_crs()` to reproject one of the input geometries to match the CRS of the other.\n",
      "\n",
      "Left CRS: ESRI:54009\n",
      "Right CRS: None\n",
      "\n",
      "  return geopandas.sjoin(left_df=self, right_df=df, *args, **kwargs)\n"
     ]
    }
   ],
   "source": [
    "data_bu_per1km=vect_.sjoin(data_builtup,how='left'\n",
    "                          ).sort_values('index_o')[['index_o','builtup']].groupby('index_o').agg('sum').reset_index()"
   ]
  },
  {
   "cell_type": "code",
   "execution_count": 17,
   "id": "1f9e3a0b",
   "metadata": {},
   "outputs": [],
   "source": [
    "vect_bu=vect_.merge(data_bu_per1km,how='left')\n",
    "vect_bu['p_builtup']=vect_bu.builtup/1e6\n",
    "vect_bu['pop']=vect_bu.DN"
   ]
  },
  {
   "cell_type": "code",
   "execution_count": 18,
   "id": "b469c603",
   "metadata": {},
   "outputs": [],
   "source": [
    "vect_bu=vect_bu[['geometry','p_builtup','pop']].fillna(0)\n",
    "vect_bu.crs='ESRI:54009'"
   ]
  },
  {
   "cell_type": "code",
   "execution_count": 20,
   "id": "f8c30610",
   "metadata": {},
   "outputs": [],
   "source": [
    "vector = gpd.read_file(r\"data/input/Master_Data/DESA_20201_BYINDO.gpkg\").query('kdprov==@kdprov').to_crs(\"ESRI:54009\")"
   ]
  },
  {
   "cell_type": "code",
   "execution_count": 28,
   "id": "d05c9040",
   "metadata": {},
   "outputs": [],
   "source": [
    "vect_bu['index_o']=vect_bu.index.astype(str).str.zfill(8)"
   ]
  },
  {
   "cell_type": "code",
   "execution_count": 29,
   "id": "9240c758",
   "metadata": {},
   "outputs": [],
   "source": [
    "vect_bu.sjoin(vector)[['geometry','p_builtup','pop','index_o']].dissolve(by=['index_o']).to_file(\"data/output/1_population_density/grid_pop_\"+kdprov+\"_1km_w_bu.gpkg\",driver='GPKG')"
   ]
  }
 ],
 "metadata": {
  "kernelspec": {
   "display_name": "Python 3 (ipykernel)",
   "language": "python",
   "name": "python3"
  },
  "language_info": {
   "codemirror_mode": {
    "name": "ipython",
    "version": 3
   },
   "file_extension": ".py",
   "mimetype": "text/x-python",
   "name": "python",
   "nbconvert_exporter": "python",
   "pygments_lexer": "ipython3",
   "version": "3.8.12"
  }
 },
 "nbformat": 4,
 "nbformat_minor": 5
}
