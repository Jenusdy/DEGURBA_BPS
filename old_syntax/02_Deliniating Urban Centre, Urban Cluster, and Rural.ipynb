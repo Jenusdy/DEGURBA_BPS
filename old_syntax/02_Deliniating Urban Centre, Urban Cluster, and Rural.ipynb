{
 "cells": [
  {
   "cell_type": "code",
   "execution_count": 1,
   "id": "a1f90264",
   "metadata": {},
   "outputs": [],
   "source": [
    "import geopandas as gpd"
   ]
  },
  {
   "cell_type": "code",
   "execution_count": 2,
   "id": "9a106f5a",
   "metadata": {},
   "outputs": [],
   "source": [
    "data_gpd=gpd.read_file('pop_dens_s2_5100.gpkg')"
   ]
  },
  {
   "cell_type": "code",
   "execution_count": 3,
   "id": "bad3427b",
   "metadata": {},
   "outputs": [],
   "source": [
    "##Check cluster centre\n",
    "data_cl_centre=data_gpd.query('pop_built_s2>=1500')"
   ]
  },
  {
   "cell_type": "code",
   "execution_count": 4,
   "id": "15100251",
   "metadata": {},
   "outputs": [],
   "source": [
    "from pysal.lib import weights"
   ]
  },
  {
   "cell_type": "code",
   "execution_count": 5,
   "id": "6705061a",
   "metadata": {},
   "outputs": [
    {
     "name": "stderr",
     "output_type": "stream",
     "text": [
      "C:\\Users\\User\\Anaconda3\\envs\\pysal_env\\lib\\site-packages\\libpysal\\weights\\weights.py:172: UserWarning: The weights matrix is not fully connected: \n",
      " There are 159 disconnected components.\n",
      " There are 100 islands with ids: 0, 3, 4, 5, 6, 8, 9, 25, 30, 34, 35, 36, 40, 47, 48, 62, 63, 64, 65, 66, 67, 68, 69, 70, 71, 77, 78, 79, 80, 81, 86, 117, 124, 128, 129, 130, 154, 168, 169, 170, 173, 174, 175, 176, 177, 182, 183, 184, 185, 186, 187, 188, 191, 193, 195, 215, 231, 238, 239, 244, 248, 270, 277, 323, 328, 351, 357, 362, 369, 385, 388, 389, 390, 391, 392, 413, 418, 419, 420, 421, 429, 430, 432, 433, 434, 435, 436, 437, 447, 485, 506, 513, 573, 721, 722, 723, 726, 727, 728, 738.\n",
      "  warnings.warn(message)\n",
      "C:\\Users\\User\\Anaconda3\\envs\\pysal_env\\lib\\site-packages\\geopandas\\geodataframe.py:1351: SettingWithCopyWarning: \n",
      "A value is trying to be set on a copy of a slice from a DataFrame.\n",
      "Try using .loc[row_indexer,col_indexer] = value instead\n",
      "\n",
      "See the caveats in the documentation: https://pandas.pydata.org/pandas-docs/stable/user_guide/indexing.html#returning-a-view-versus-a-copy\n",
      "  super().__setitem__(key, value)\n"
     ]
    }
   ],
   "source": [
    "wr = weights.contiguity.Rook.from_dataframe(data_cl_centre)\n",
    "data_cl_centre['cluster_label']=wr.component_labels"
   ]
  },
  {
   "cell_type": "code",
   "execution_count": 6,
   "id": "86c43451",
   "metadata": {},
   "outputs": [],
   "source": [
    "import pandas as pd"
   ]
  },
  {
   "cell_type": "code",
   "execution_count": 7,
   "id": "7fddfb84",
   "metadata": {},
   "outputs": [],
   "source": [
    "tab_pop_u_centre_cand=pd.pivot_table(data_cl_centre,\n",
    "                                     index='cluster_label',values='pop_built_s2',aggfunc='sum')"
   ]
  },
  {
   "cell_type": "code",
   "execution_count": 8,
   "id": "b678b19b",
   "metadata": {},
   "outputs": [],
   "source": [
    "list_u_centre=tab_pop_u_centre_cand.query('pop_built_s2>50000').reset_index().cluster_label.tolist()"
   ]
  },
  {
   "cell_type": "code",
   "execution_count": 9,
   "id": "7b46de57",
   "metadata": {},
   "outputs": [],
   "source": [
    "u_centre=data_cl_centre.query('cluster_label in @list_u_centre')"
   ]
  },
  {
   "cell_type": "code",
   "execution_count": 10,
   "id": "e6bfcd86",
   "metadata": {},
   "outputs": [],
   "source": [
    "data_gpd['is_U_CENTRE']=data_gpd.Name.apply(lambda y: 1 if y in u_centre.Name.tolist() else 0)"
   ]
  },
  {
   "cell_type": "code",
   "execution_count": 11,
   "id": "73021115",
   "metadata": {},
   "outputs": [
    {
     "name": "stdout",
     "output_type": "stream",
     "text": [
      "N GRID WITH URBAN CENTRE: 465\n"
     ]
    },
    {
     "name": "stderr",
     "output_type": "stream",
     "text": [
      "C:\\Users\\User\\Anaconda3\\envs\\pysal_env\\lib\\site-packages\\libpysal\\weights\\weights.py:172: UserWarning: The weights matrix is not fully connected: \n",
      " There are 2 disconnected components.\n",
      "  warnings.warn(message)\n"
     ]
    },
    {
     "name": "stdout",
     "output_type": "stream",
     "text": [
      "=====================\n",
      "N GRID AFTER GAP FILLING: 538\n"
     ]
    },
    {
     "name": "stderr",
     "output_type": "stream",
     "text": [
      "C:\\Users\\User\\Anaconda3\\envs\\pysal_env\\lib\\site-packages\\libpysal\\weights\\weights.py:172: UserWarning: The weights matrix is not fully connected: \n",
      " There are 2 disconnected components.\n",
      "  warnings.warn(message)\n"
     ]
    },
    {
     "name": "stdout",
     "output_type": "stream",
     "text": [
      "=====================\n",
      "N GRID AFTER GAP FILLING: 551\n"
     ]
    },
    {
     "name": "stderr",
     "output_type": "stream",
     "text": [
      "C:\\Users\\User\\Anaconda3\\envs\\pysal_env\\lib\\site-packages\\libpysal\\weights\\weights.py:172: UserWarning: The weights matrix is not fully connected: \n",
      " There are 2 disconnected components.\n",
      "  warnings.warn(message)\n"
     ]
    },
    {
     "name": "stdout",
     "output_type": "stream",
     "text": [
      "=====================\n",
      "N GRID AFTER GAP FILLING: 555\n"
     ]
    },
    {
     "name": "stderr",
     "output_type": "stream",
     "text": [
      "C:\\Users\\User\\Anaconda3\\envs\\pysal_env\\lib\\site-packages\\libpysal\\weights\\weights.py:172: UserWarning: The weights matrix is not fully connected: \n",
      " There are 2 disconnected components.\n",
      "  warnings.warn(message)\n"
     ]
    },
    {
     "name": "stdout",
     "output_type": "stream",
     "text": [
      "=====================\n",
      "N GRID AFTER GAP FILLING: 557\n"
     ]
    },
    {
     "name": "stderr",
     "output_type": "stream",
     "text": [
      "C:\\Users\\User\\Anaconda3\\envs\\pysal_env\\lib\\site-packages\\libpysal\\weights\\weights.py:172: UserWarning: The weights matrix is not fully connected: \n",
      " There are 2 disconnected components.\n",
      "  warnings.warn(message)\n"
     ]
    },
    {
     "name": "stdout",
     "output_type": "stream",
     "text": [
      "=====================\n",
      "N GRID AFTER GAP FILLING: 558\n"
     ]
    },
    {
     "name": "stderr",
     "output_type": "stream",
     "text": [
      "C:\\Users\\User\\Anaconda3\\envs\\pysal_env\\lib\\site-packages\\libpysal\\weights\\weights.py:172: UserWarning: The weights matrix is not fully connected: \n",
      " There are 2 disconnected components.\n",
      "  warnings.warn(message)\n"
     ]
    },
    {
     "name": "stdout",
     "output_type": "stream",
     "text": [
      "=====================\n",
      "N GRID AFTER GAP FILLING: 558\n",
      "==================\n",
      "N GRID COMPLETED AFTER GAP FILLING 558\n"
     ]
    }
   ],
   "source": [
    "#Filling gap of urbancentre => check 8 contiguity (queen)\n",
    "init_u_centre=data_gpd.is_U_CENTRE.sum()\n",
    "u_centre_up=0\n",
    "print('N GRID WITH URBAN CENTRE:',init_u_centre)\n",
    "while u_centre_up!=init_u_centre:\n",
    "    init_u_centre=data_gpd.is_U_CENTRE.sum()\n",
    "    wr = weights.contiguity.Queen.from_dataframe(data_gpd)\n",
    "    data_gpd['neighbors']=wr.neighbors.values()\n",
    "    temp=data_gpd.copy()\n",
    "    for index, row in data_gpd.iterrows():\n",
    "        if row['is_U_CENTRE']!=1:\n",
    "            y_urbancentre=0\n",
    "            if len(row['neighbors'])>4:\n",
    "                for y in row['neighbors']:\n",
    "                    if temp.loc[y,'is_U_CENTRE']==1:\n",
    "                        y_urbancentre+=1\n",
    "                if y_urbancentre>4:\n",
    "                    data_gpd.at[index,'is_U_CENTRE']=1\n",
    "    u_centre_up=data_gpd.is_U_CENTRE.sum()\n",
    "    print('=====================')\n",
    "    print('N GRID AFTER GAP FILLING:', u_centre_up)\n",
    "print('==================')\n",
    "u_centre=data_gpd.is_U_CENTRE.sum()\n",
    "print('N GRID COMPLETED AFTER GAP FILLING',u_centre)"
   ]
  },
  {
   "cell_type": "code",
   "execution_count": 12,
   "id": "3618694e",
   "metadata": {},
   "outputs": [],
   "source": [
    "data_gpd=data_gpd[['Name','pop_built_s2','geometry','is_U_CENTRE']]"
   ]
  },
  {
   "cell_type": "code",
   "execution_count": 13,
   "id": "9961db7b",
   "metadata": {},
   "outputs": [],
   "source": [
    "data_u_cluster=data_gpd.query('is_U_CENTRE!=1').query('pop_built_s2>=300')"
   ]
  },
  {
   "cell_type": "code",
   "execution_count": 14,
   "id": "41e2def7",
   "metadata": {},
   "outputs": [
    {
     "name": "stderr",
     "output_type": "stream",
     "text": [
      "C:\\Users\\User\\Anaconda3\\envs\\pysal_env\\lib\\site-packages\\libpysal\\weights\\weights.py:172: UserWarning: The weights matrix is not fully connected: \n",
      " There are 69 disconnected components.\n",
      " There are 20 islands with ids: 12, 88, 132, 141, 161, 163, 229, 287, 296, 416, 594, 723, 724, 755, 787, 886, 887, 888, 889, 890.\n",
      "  warnings.warn(message)\n"
     ]
    }
   ],
   "source": [
    "wr = weights.contiguity.Queen.from_dataframe(data_u_cluster)\n",
    "data_u_cluster['cluster_label']=wr.component_labels"
   ]
  },
  {
   "cell_type": "code",
   "execution_count": 15,
   "id": "c50e2246",
   "metadata": {},
   "outputs": [],
   "source": [
    "tab_pop_u_cluster_cand=pd.pivot_table(data_u_cluster,\n",
    "                                     index='cluster_label',values='pop_built_s2',aggfunc='sum')\n",
    "list_u_cluster=tab_pop_u_cluster_cand.query('pop_built_s2>=5000').reset_index().cluster_label.tolist()"
   ]
  },
  {
   "cell_type": "code",
   "execution_count": 16,
   "id": "915c615f",
   "metadata": {},
   "outputs": [],
   "source": [
    "u_cluster=data_u_cluster.query('cluster_label in @list_u_cluster')"
   ]
  },
  {
   "cell_type": "code",
   "execution_count": 17,
   "id": "d153b17c",
   "metadata": {},
   "outputs": [],
   "source": [
    "data_gpd['is_U_CLUSTER']=data_gpd.Name.apply(lambda y: 1 if y in u_cluster.Name.tolist() else 0)"
   ]
  },
  {
   "cell_type": "code",
   "execution_count": 18,
   "id": "c571bb92",
   "metadata": {},
   "outputs": [],
   "source": [
    "data_gpd['classification']=data_gpd.apply(lambda y: 'CENTRE' \n",
    "                                          if y.is_U_CENTRE==1 else ('CLUSTER' if y.is_U_CLUSTER==1 else 'RURAL'),axis=1)"
   ]
  },
  {
   "cell_type": "code",
   "execution_count": 19,
   "id": "494fa824",
   "metadata": {},
   "outputs": [
    {
     "name": "stderr",
     "output_type": "stream",
     "text": [
      "C:\\Users\\User\\Anaconda3\\envs\\pysal_env\\lib\\site-packages\\geopandas\\io\\file.py:362: FutureWarning: pandas.Int64Index is deprecated and will be removed from pandas in a future version. Use pandas.Index with the appropriate dtype instead.\n",
      "  pd.Int64Index,\n"
     ]
    }
   ],
   "source": [
    "data_gpd.to_file('degurba_5100.gpkg',driver='GPKG')"
   ]
  }
 ],
 "metadata": {
  "kernelspec": {
   "display_name": "Python 3 (ipykernel)",
   "language": "python",
   "name": "python3"
  },
  "language_info": {
   "codemirror_mode": {
    "name": "ipython",
    "version": 3
   },
   "file_extension": ".py",
   "mimetype": "text/x-python",
   "name": "python",
   "nbconvert_exporter": "python",
   "pygments_lexer": "ipython3",
   "version": "3.10.4"
  }
 },
 "nbformat": 4,
 "nbformat_minor": 5
}
